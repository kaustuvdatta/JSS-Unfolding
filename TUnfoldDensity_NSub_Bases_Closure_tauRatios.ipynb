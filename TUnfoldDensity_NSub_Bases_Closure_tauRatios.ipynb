{
 "cells": [
  {
   "cell_type": "markdown",
   "metadata": {},
   "source": [
    "# Exploring the phase space of a jet: 1-D Unfolding  (for now)"
   ]
  },
  {
   "cell_type": "markdown",
   "metadata": {},
   "source": [
    "## Unfolding the the $N$-subjettiness bases in semileptonic $t\\bar{t}$ events at $\\sqrt{s} = 13$ TeV"
   ]
  },
  {
   "cell_type": "markdown",
   "metadata": {},
   "source": [
    "#### Firstly , import the ROOT data analysis framework which will be used to read the data files and unfold the final result. "
   ]
  },
  {
   "cell_type": "code",
   "execution_count": 1,
   "metadata": {},
   "outputs": [
    {
     "name": "stdout",
     "output_type": "stream",
     "text": [
      "Welcome to JupyROOT 6.18/00\n"
     ]
    }
   ],
   "source": [
    "import ROOT\n",
    "import array as array\n",
    "import os\n",
    "import glob\n",
    "import ROOT\n",
    "from ROOT import TH1D, TH2D, TTree,TFile\n",
    "from random import gauss\n",
    "import numpy as np\n",
    "import root_numpy as rtnpy\n",
    "import h5py\n",
    "from awkward import JaggedArray, Table"
   ]
  },
  {
   "cell_type": "markdown",
   "metadata": {
    "collapsed": true
   },
   "source": [
    "#### Save a nametag describing the selection applied to events being read from the input file below. This is used to name the saved plots."
   ]
  },
  {
   "cell_type": "code",
   "execution_count": 2,
   "metadata": {},
   "outputs": [],
   "source": [
    "nametag = 'Selection from AN-19-074'"
   ]
  },
  {
   "cell_type": "code",
   "execution_count": 3,
   "metadata": {
    "scrolled": true
   },
   "outputs": [
    {
     "name": "stdout",
     "output_type": "stream",
     "text": [
      "35.92\n"
     ]
    }
   ],
   "source": [
    "lumi = 5.75+2.57+4.24+4.03+3.11+7.57+8.65 #B+C+D+E+F+G+H\n",
    "print (lumi)\n",
    "ptmin = 200.\n",
    "ptmax = 1500.\n",
    "mSDmin = 65.\n",
    "mSDmax = 125.\n",
    "leptWpTmin = 200."
   ]
  },
  {
   "cell_type": "markdown",
   "metadata": {},
   "source": [
    "#### Below the input Monte Carlo simulation events are read from the file which only contains events meeting the skim criteria set forth in this __[script](https://github.com/kaustuvdatta/jetObservables/blob/102X/python/nSubProducer_gen_reco.py)__\n"
   ]
  },
  {
   "cell_type": "markdown",
   "metadata": {},
   "source": [
    "### Using Powheg+Pythia8 samples as gen and MC and MG5+P8 as \"data\""
   ]
  },
  {
   "cell_type": "code",
   "execution_count": 5,
   "metadata": {
    "scrolled": true
   },
   "outputs": [
    {
     "name": "stdout",
     "output_type": "stream",
     "text": [
      "577\n",
      "0\n",
      "on file 5\n",
      "on file 10\n",
      "on file 15\n",
      "on file 20\n",
      "on file 25\n",
      "on file 30\n",
      "on file 35\n",
      "on file 40\n",
      "on file 45\n",
      "on file 50\n",
      "on file 55\n",
      "on file 60\n",
      "on file 65\n",
      "on file 70\n",
      "on file 75\n",
      "on file 80\n",
      "on file 85\n",
      "on file 90\n",
      "on file 95\n",
      "on file 100\n",
      "on file 105\n",
      "on file 110\n",
      "on file 115\n",
      "on file 120\n",
      "on file 125\n",
      "on file 130\n",
      "on file 135\n",
      "on file 140\n",
      "on file 145\n",
      "on file 150\n",
      "on file 155\n",
      "on file 160\n",
      "on file 165\n",
      "on file 170\n",
      "on file 175\n",
      "on file 180\n",
      "on file 185\n",
      "on file 190\n",
      "on file 195\n",
      "on file 200\n",
      "on file 205\n",
      "on file 210\n",
      "on file 215\n",
      "on file 220\n",
      "on file 225\n",
      "on file 230\n",
      "on file 235\n",
      "on file 240\n",
      "on file 245\n",
      "on file 250\n",
      "on file 255\n",
      "on file 260\n",
      "on file 265\n",
      "on file 270\n",
      "on file 275\n",
      "on file 280\n",
      "on file 285\n",
      "on file 290\n",
      "on file 295\n",
      "on file 300\n",
      "on file 305\n",
      "on file 310\n",
      "on file 315\n",
      "on file 320\n",
      "on file 325\n",
      "on file 330\n",
      "on file 335\n",
      "on file 340\n",
      "on file 345\n",
      "on file 350\n",
      "on file 355\n",
      "on file 360\n",
      "on file 365\n",
      "on file 370\n",
      "on file 375\n",
      "on file 380\n",
      "on file 385\n",
      "on file 390\n",
      "on file 395\n",
      "on file 400\n",
      "on file 405\n",
      "on file 410\n",
      "on file 415\n",
      "on file 420\n",
      "on file 425\n",
      "on file 430\n",
      "on file 435\n",
      "on file 440\n",
      "on file 445\n",
      "on file 450\n",
      "on file 455\n",
      "on file 460\n",
      "on file 465\n",
      "on file 470\n",
      "on file 475\n",
      "on file 480\n",
      "on file 485\n",
      "on file 490\n",
      "on file 495\n",
      "on file 500\n",
      "on file 505\n",
      "on file 510\n",
      "on file 515\n",
      "on file 520\n",
      "on file 525\n",
      "on file 530\n",
      "on file 535\n",
      "on file 540\n",
      "on file 545\n",
      "on file 550\n",
      "on file 555\n",
      "on file 560\n",
      "on file 565\n",
      "on file 570\n",
      "on file 575\n"
     ]
    },
    {
     "name": "stderr",
     "output_type": "stream",
     "text": [
      "Warning in <TClass::Init>: no dictionary for class edm::ProcessHistory is available\n",
      "Warning in <TClass::Init>: no dictionary for class edm::ProcessConfiguration is available\n",
      "Warning in <TClass::Init>: no dictionary for class edm::ParameterSetBlob is available\n",
      "Warning in <TClass::Init>: no dictionary for class edm::Hash<1> is available\n",
      "Warning in <TClass::Init>: no dictionary for class pair<edm::Hash<1>,edm::ParameterSetBlob> is available\n"
     ]
    }
   ],
   "source": [
    "filelist = []\n",
    "path = '../AutoObs/CMS/New_Sel/TTrecogen/1/*.root'\n",
    "files=glob.glob(path)   \n",
    "for f in files:     \n",
    "    filelist.append(f)\n",
    "        \n",
    "print (len(filelist))\n",
    "dataset = []\n",
    "c=0\n",
    "for f in filelist:\n",
    "    F = ROOT.TFile.Open(f, 'read')\n",
    "    \n",
    "    T = F.Get(\"Events\");\n",
    "    \n",
    "    \n",
    "    \n",
    "    \n",
    "    \n",
    "    data = rtnpy. tree2array(T, branches=['goodrecojet0_softdrop_mass',\n",
    "                                      'goodrecojet0_tau_0p5_0','goodrecojet0_tau_1_0','goodrecojet0_tau_2_0',\n",
    "                                      'goodrecojet0_tau_0p5_1','goodrecojet0_tau_1_1','goodrecojet0_tau_2_1',\n",
    "                                      'goodrecojet0_tau_0p5_2','goodrecojet0_tau_1_2','goodrecojet0_tau_2_2',\n",
    "                                      'goodrecojet0_tau_0p5_3','goodrecojet0_tau_1_3','goodrecojet0_tau_2_3',\n",
    "                                      'goodrecojet0_tau_0p5_4','goodrecojet0_tau_1_4','goodrecojet0_tau_2_4',\n",
    "                                      'goodrecojet0_tau_0p5_5','goodrecojet0_tau_1_5','goodrecojet0_tau_2_5',\n",
    "                                      'goodrecojet0_tau_0p5_6','goodrecojet0_tau_1_6','goodrecojet0_tau_2_6',\n",
    "                                      'goodrecojet0_mass', 'goodrecojet0_pt', 'goodrecojet0_eta',\n",
    "                                      'goodrecojet0_phi',\n",
    "                                      'MET', 'goodrecojet0_tau21', 'goodrecojet0_N21',\n",
    "                                      'FatJet_tau1','FatJet_tau2','FatJet_tau3','FatJet_tau4', 'leptonicW_pT', \n",
    "                                      'lepton_pT', 'puWeight', 'PV_npvsGood', 'btagWeight_CSVV2',\n",
    "                                      'dr_LepJet', 'dphi_MetJet', 'dphi_WJet','genmatchedrecoAK8', 'passedMETfilters',\n",
    "                                      'goodgenjet0_mass',\n",
    "                                      'goodgenjet0_tau_0p5_0','goodgenjet0_tau_1_0','goodgenjet0_tau_2_0',\n",
    "                                      'goodgenjet0_tau_0p5_1','goodgenjet0_tau_1_1','goodgenjet0_tau_2_1',\n",
    "                                      'goodgenjet0_tau_0p5_2','goodgenjet0_tau_1_2','goodgenjet0_tau_2_2',\n",
    "                                      'goodgenjet0_tau_0p5_3','goodgenjet0_tau_1_3','goodgenjet0_tau_2_3',\n",
    "                                      'goodgenjet0_tau_0p5_4','goodgenjet0_tau_1_4','goodgenjet0_tau_2_4',\n",
    "                                      'goodgenjet0_tau_0p5_5','goodgenjet0_tau_1_5','goodgenjet0_tau_2_5',\n",
    "                                      'goodgenjet0_tau_0p5_6','goodgenjet0_tau_1_6','goodgenjet0_tau_2_6',\n",
    "                                      'goodgenjet0_pt', 'goodgenjet0_eta', 'goodgenjet0_phi'\n",
    "                                        ])\n",
    "\n",
    "    \n",
    "    if len(dataset)==0:\n",
    "        print (c)\n",
    "        dataset=data\n",
    "    else:\n",
    "        dataset = np.concatenate((dataset,data))\n",
    "        \n",
    "    c=c+1\n",
    "    if c%5==0:\n",
    "        print (\"on file %d\"%c)"
   ]
  },
  {
   "cell_type": "code",
   "execution_count": 6,
   "metadata": {},
   "outputs": [
    {
     "name": "stdout",
     "output_type": "stream",
     "text": [
      "57158\n"
     ]
    },
    {
     "name": "stderr",
     "output_type": "stream",
     "text": [
      "/shome/kdatta/.local/lib/python2.7/site-packages/ipykernel_launcher.py:151: RuntimeWarning: divide by zero encountered in power\n",
      "/shome/kdatta/.local/lib/python2.7/site-packages/ipykernel_launcher.py:151: RuntimeWarning: invalid value encountered in double_scalars\n"
     ]
    },
    {
     "name": "stdout",
     "output_type": "stream",
     "text": [
      "('nan nan nan!!!', 15422, 0.03056116, 0.001708532, 0.00031756982, 0.0, 0.0, 0.0, 0.0, 0.0, 184.54639, 1.9655762, 93.5625)\n"
     ]
    }
   ],
   "source": [
    "#pars = [1.02,-1.06,0.22,-0.27,0.15,0.00,0.18,0.02]# [ 0.49631107, -0.91138405, 0.11273356, -0.26872, 0.04777313, 0.06521296, 0.51138633, -0.03617261]\n",
    "#pars = [0.,-1.,0.,0.,1.,0.,0.,0.]\n",
    "pars = -1* np.array([-0.195,  1.183,  -0.219,  0.674,  -0.44,   0.003, -0.634,  -0.042]) #[ 0.06849562,  0.99606407, -0.20875171,  0.3780923 , -0.07821123, -0.05920516, -0.79644126,  0.02925767]#[1.02,-1.06,0.22,-0.27,0.15,0.00,0.18,0.02]# [ 1.0470642 , 0.3308942 , -0.08472812, 0.4989206, -0.2598824, 0.00597894, -0.6826088 , -0.06705493]\n",
    "\n",
    "c=0\n",
    "for i in range(0,dataset.shape[0]):\n",
    "    if mSDmin<dataset[i][0]<=mSDmax and ptmin<dataset[i][23]<ptmax and leptWpTmin<dataset[i][33] and dataset[i][38]>np.pi/2 and dataset[i][39]>2. and dataset[i][40]>2. and dataset[i][42]==1:# and dataset[i][27]<0.45:\n",
    "        #if ((dataset[i][1])**(pars[0]))*((dataset[i][2])**(pars[1]))*((dataset[i][3])**(pars[2]))*((dataset[i][4])**(pars[3]))*((dataset[i][5])**(pars[4]))*((dataset[i][6])**(pars[5]))*((dataset[i][8])**(pars[6]))*((dataset[i][9])**(pars[7]))>3.:\n",
    "        c=c+1\n",
    "\n",
    "print (c)\n",
    "TT16reco_npv = np.ones(c)\n",
    "TT16reco_beta4W = np.ones(c)\n",
    "TT16reco_pt = np.ones(c)\n",
    "TT16reco_eta = np.ones(c)\n",
    "TT16reco_met = np.ones(c)\n",
    "TT16reco_lWpt = np.ones(c)\n",
    "TT16reco_lept_pT = np.ones(c)\n",
    "TT16reco_mass = np.ones(c)\n",
    "TT16reco_sdmass = np.ones(c)\n",
    "TT16reco_tau1 = np.ones(c)\n",
    "TT16reco_tau2 = np.ones(c)\n",
    "TT16reco_tau3 = np.ones(c)\n",
    "TT16reco_tau4 = np.ones(c)\n",
    "TT16reco_tau21 = np.ones(c)\n",
    "TT16reco_N21 = np.ones(c)\n",
    "TT16reco_puWeight = np.ones(c)\n",
    "TT16reco_btagWeight = np.ones(c)\n",
    "fatjet_TT16reco_tau1 = np.ones(c)\n",
    "fatjet_TT16reco_tau2 = np.ones(c)\n",
    "fatjet_TT16reco_tau3 = np.ones(c)\n",
    "fatjet_TT16reco_tau4 = np.ones(c)\n",
    "fatjet_TT16reco_tau21 = np.ones(c)\n",
    "\n",
    "\n",
    "TT16reco_nSub_basis = np.ones((c,21))\n",
    "\n",
    "TT16reco_tau1_0p5 = np.ones(c)\n",
    "TT16reco_tau1_1 = np.ones(c)\n",
    "TT16reco_tau1_2 = np.ones(c)\n",
    "TT16reco_tau2_0p5 = np.ones(c)\n",
    "TT16reco_tau2_1 = np.ones(c)\n",
    "TT16reco_tau2_2 = np.ones(c)\n",
    "TT16reco_tau3_0p5 = np.ones(c)\n",
    "TT16reco_tau3_1 = np.ones(c)\n",
    "TT16reco_tau3_2 = np.ones(c)\n",
    "TT16reco_tau4_0p5 = np.ones(c)\n",
    "TT16reco_tau4_1 = np.ones(c)\n",
    "TT16reco_tau4_2 = np.ones(c)\n",
    "TT16reco_tau5_0p5 = np.ones(c)\n",
    "TT16reco_tau5_1 = np.ones(c)\n",
    "TT16reco_tau5_2 = np.ones(c)\n",
    "TT16reco_tau6_0p5 = np.ones(c)\n",
    "TT16reco_tau6_1 = np.ones(c)\n",
    "TT16reco_tau6_2 = np.ones(c)\n",
    "TT16reco_tau7_0p5 = np.ones(c)\n",
    "TT16reco_tau7_1 = np.ones(c)\n",
    "TT16reco_tau7_2 = np.ones(c)\n",
    "\n",
    "TT16gen_tau21 = np.ones(c)\n",
    "TT16gen_beta4W = np.ones(c)\n",
    "TT16gen_pt = np.ones(c)\n",
    "TT16gen_eta = np.ones(c)\n",
    "TT16gen_mass = np.ones(c)\n",
    "\n",
    "TT16gen_nSub_basis = np.ones((c,21))\n",
    "\n",
    "TT16gen_tau1_0p5 = np.ones(c)\n",
    "TT16gen_tau1_1 = np.ones(c)\n",
    "TT16gen_tau1_2 = np.ones(c)\n",
    "TT16gen_tau2_0p5 = np.ones(c)\n",
    "TT16gen_tau2_1 = np.ones(c)\n",
    "TT16gen_tau2_2 = np.ones(c)\n",
    "TT16gen_tau3_0p5 = np.ones(c)\n",
    "TT16gen_tau3_1 = np.ones(c)\n",
    "TT16gen_tau3_2 = np.ones(c)\n",
    "TT16gen_tau4_0p5 = np.ones(c)\n",
    "TT16gen_tau4_1 = np.ones(c)\n",
    "TT16gen_tau4_2 = np.ones(c)\n",
    "TT16gen_tau5_0p5 = np.ones(c)\n",
    "TT16gen_tau5_1 = np.ones(c)\n",
    "TT16gen_tau5_2 = np.ones(c)\n",
    "TT16gen_tau6_0p5 = np.ones(c)\n",
    "TT16gen_tau6_1 = np.ones(c)\n",
    "TT16gen_tau6_2 = np.ones(c)\n",
    "TT16gen_tau7_0p5 = np.ones(c)\n",
    "TT16gen_tau7_1 = np.ones(c)\n",
    "TT16gen_tau7_2 = np.ones(c)\n",
    "\n",
    "c=0\n",
    "d1=0\n",
    "d2=0\n",
    "for i in range(0,dataset.shape[0]):\n",
    "    if mSDmin<dataset[i][0]<=mSDmax and ptmin<dataset[i][23]<ptmax and leptWpTmin<dataset[i][33] and dataset[i][38]>np.pi/2 and dataset[i][39]>2. and dataset[i][40]>2. and dataset[i][42]==1:# and dataset[i][27]<0.45:\n",
    "        #print dataset[i][29]\n",
    "        #if ((dataset[i][1])**(pars[0]))*((dataset[i][2])**(pars[1]))*((dataset[i][3])**(pars[2]))*((dataset[i][4])**(pars[3]))*((dataset[i][5])**(pars[4]))*((dataset[i][6])**(pars[5]))*((dataset[i][8])**(pars[6]))*((dataset[i][9])**(pars[7]))>3.:\n",
    "        TT16reco_pt[c] = dataset[i][23]\n",
    "        TT16reco_eta[c] = dataset[i][24]\n",
    "        TT16reco_met[c] = dataset[i][26]\n",
    "        TT16reco_mass[c] = dataset[i][22]\n",
    "        TT16reco_lWpt[c] = dataset[i][33]\n",
    "        TT16reco_lept_pT[c] = dataset[i][34]\n",
    "        TT16reco_sdmass[c] = dataset[i][0]\n",
    "        TT16reco_tau1[c] = dataset[i][2]\n",
    "        TT16reco_tau2[c] = dataset[i][5]\n",
    "        TT16reco_tau3[c] = dataset[i][8]\n",
    "        TT16reco_tau4[c] = dataset[i][11]\n",
    "        TT16reco_tau21[c] = dataset[i][27]\n",
    "        TT16reco_N21[c] = dataset[i][28]\n",
    "        TT16reco_puWeight[c] = dataset[i][35]\n",
    "        TT16reco_btagWeight[c] = dataset[i][37]\n",
    "        TT16reco_npv[c] = dataset[i][36]\n",
    "        fatjet_TT16reco_tau1[c] = dataset[i][29][0]\n",
    "        fatjet_TT16reco_tau2[c] = dataset[i][30][0]\n",
    "        fatjet_TT16reco_tau3[c] = dataset[i][31][0]\n",
    "        fatjet_TT16reco_tau4[c] = dataset[i][32][0]\n",
    "        \n",
    "        for z in range(0,21):\n",
    "            TT16reco_nSub_basis[c][z] = dataset[i][z+1]\n",
    "        TT16reco_tau1_0p5[c] = dataset[i][1]\n",
    "        TT16reco_tau1_1[c] = dataset[i][2]\n",
    "        TT16reco_tau1_2[c] = dataset[i][3]\n",
    "        TT16reco_tau2_0p5[c] = dataset[i][4]\n",
    "        TT16reco_tau2_1[c] = dataset[i][5]\n",
    "        TT16reco_tau2_2[c] = dataset[i][6]\n",
    "\n",
    "        \n",
    "        TT16gen_pt[c] = dataset[i][65]\n",
    "        TT16gen_eta[c] = dataset[i][66]\n",
    "        TT16gen_mass[c] = dataset[i][43]\n",
    "        \n",
    "        for z in range(0,21):\n",
    "            TT16gen_nSub_basis[c][z] = dataset[i][z+44]   \n",
    "        \n",
    "        TT16gen_tau1_0p5[c] = dataset[i][44]\n",
    "        TT16gen_tau1_1[c] = dataset[i][45]\n",
    "        TT16gen_tau1_2[c] = dataset[i][46]\n",
    "        TT16gen_tau2_0p5[c] = dataset[i][47]\n",
    "        TT16gen_tau2_1[c] = dataset[i][48]\n",
    "        TT16gen_tau2_2[c] = dataset[i][49]\n",
    "        \n",
    "        \n",
    "        if TT16reco_tau1_1[c]!=0:\n",
    "            TT16reco_tau21[d1] = TT16reco_tau2_1[c]/TT16reco_tau1_1[c]\n",
    "            d1=d1+1\n",
    "        TT16reco_beta4W[c]=((dataset[i][1])**(pars[0]))*((dataset[i][2])**(pars[1]))*((dataset[i][3])**(pars[2]))*((dataset[i][4])**(pars[3]))*((dataset[i][5])**(pars[4]))*((dataset[i][6])**(pars[5]))*((dataset[i][8])**(pars[6]))*((dataset[i][9])**(pars[7]))\n",
    "        \n",
    "        if TT16gen_tau1_1[c]!=0:\n",
    "            TT16gen_tau21[d2] = TT16gen_tau2_1[c]/TT16gen_tau1_1[c]\n",
    "            d2=d2+1\n",
    "        TT16gen_beta4W[c]=((dataset[i][44])**(pars[0]))*((dataset[i][45])**(pars[1]))*((dataset[i][46])**(pars[2]))*((dataset[i][47])**(pars[3]))*((dataset[i][48])**(pars[4]))*((dataset[i][49])**(pars[5]))*((dataset[i][51])**(pars[6]))*((dataset[i][52])**(pars[7]))\n",
    "        if np.isnan(TT16gen_beta4W[c]): \n",
    "            print (\"nan nan nan!!!\", c, (dataset[i][44]), (dataset[i][45]), (dataset[i][46]), (dataset[i][47]), (dataset[i][48]), (dataset[i][49]), (dataset[i][51]), (dataset[i][52]), (dataset[i][65]), (dataset[i][66]), (dataset[c][43]))\n",
    "        if np.isinf(TT16gen_beta4W[c]): \n",
    "            print (\"inf inf inf!!!\", c)\n",
    "        \n",
    "        c=c+1\n",
    "#print np.min(var_sig), np.max(var_sig)\n",
    "#TT16reco_SF = np.exp(0.0615+0.0005*TT16reco_pt)\n",
    "#print TT16reco_SF, np.mean(TT16reco_SF)"
   ]
  },
  {
   "cell_type": "markdown",
   "metadata": {},
   "source": [
    "## 1-D unfolding of $N$-subjettiness ratios"
   ]
  },
  {
   "cell_type": "code",
   "execution_count": 7,
   "metadata": {},
   "outputs": [
    {
     "name": "stdout",
     "output_type": "stream",
     "text": [
      "57157\n",
      "57157\n"
     ]
    }
   ],
   "source": [
    "TT16gen_nSub_basis = np.delete(TT16gen_nSub_basis[:,:],15422,0)\n",
    "print TT16gen_nSub_basis.shape[0]\n",
    "\n",
    "TT16reco_nSub_basis = np.delete(TT16reco_nSub_basis[:,:],15422,0)\n",
    "print TT16reco_nSub_basis.shape[0]"
   ]
  },
  {
   "cell_type": "code",
   "execution_count": 8,
   "metadata": {},
   "outputs": [],
   "source": [
    "ROOT.TH1.SetDefaultSumw2()\n",
    "from root_numpy import *\n",
    "length = np.int(TT16gen_nSub_basis.shape[0])\n",
    "unfold_length = np.int(np.floor(0.75*length))"
   ]
  },
  {
   "cell_type": "code",
   "execution_count": 9,
   "metadata": {},
   "outputs": [
    {
     "name": "stdout",
     "output_type": "stream",
     "text": [
      "42867 14290\n",
      "42867 14290\n"
     ]
    }
   ],
   "source": [
    "TT16truth_nSub_basis = TT16gen_nSub_basis[unfold_length:,:]\n",
    "TT16gen_nSub_basis = TT16gen_nSub_basis[:unfold_length,:]\n",
    "print TT16gen_nSub_basis.shape[0], TT16truth_nSub_basis.shape[0]\n",
    "\n",
    "TT16data_nSub_basis = TT16reco_nSub_basis[unfold_length:,:]\n",
    "TT16reco_nSub_basis = TT16reco_nSub_basis[:unfold_length,:]\n",
    "print TT16reco_nSub_basis.shape[0], TT16data_nSub_basis.shape[0]"
   ]
  },
  {
   "cell_type": "markdown",
   "metadata": {},
   "source": [
    "# Unfold $\\tau_{2,1}^{(1)}$"
   ]
  },
  {
   "cell_type": "markdown",
   "metadata": {
    "collapsed": true
   },
   "source": [
    "Get the response matrix and input 1D distributions for unfolding."
   ]
  },
  {
   "cell_type": "code",
   "execution_count": 10,
   "metadata": {},
   "outputs": [
    {
     "name": "stdout",
     "output_type": "stream",
     "text": [
      "0.033822936522658054\n",
      "0.053198257077817446\n",
      "1.16677535123796\n",
      "1.1308962316518507\n"
     ]
    }
   ],
   "source": [
    "print np.min(TT16gen_nSub_basis[:,4]/TT16gen_nSub_basis[:,1])\n",
    "print np.min(TT16reco_nSub_basis[:,4]/TT16reco_nSub_basis[:,1])\n",
    "print np.max(TT16gen_nSub_basis[:,4]/TT16gen_nSub_basis[:,1])\n",
    "print np.max(TT16reco_nSub_basis[:,4]/TT16reco_nSub_basis[:,1])"
   ]
  },
  {
   "cell_type": "markdown",
   "metadata": {
    "collapsed": true
   },
   "source": [
    "#### Set the axis ranges for the generator nd detector level distributions as well as the number of bins in each. Note that we want twice as many detector bins as generator level bins as recommended by the TUnfold documenation "
   ]
  },
  {
   "cell_type": "code",
   "execution_count": 11,
   "metadata": {},
   "outputs": [],
   "source": [
    "nDet=32\n",
    "nGen=16\n",
    "xminDet=0.0\n",
    "xmaxDet=1.2\n",
    "xminGen=0.0\n",
    "xmaxGen=1.2\n",
    "#weight_TT16 = (831.76*lumi*1000.)/10199051.*np.ones(TT16_beta4W.shape[0])*TT16_puWeight*TT16_btagWeight*0.8\n"
   ]
  },
  {
   "cell_type": "code",
   "execution_count": 12,
   "metadata": {},
   "outputs": [
    {
     "name": "stdout",
     "output_type": "stream",
     "text": [
      "[0.      0.05    0.14    0.19375 0.2475  0.30125 0.355   0.40875 0.4625\n",
      " 0.51625 0.57    0.62375 0.6775  0.73125 0.785   0.83875 0.8925  0.94625\n",
      " 1.      1.1     1.2    ] 21\n",
      "[0.       0.025    0.075    0.14     0.166875 0.19375  0.220625 0.2475\n",
      " 0.274375 0.30125  0.328125 0.355    0.381875 0.40875  0.435625 0.4625\n",
      " 0.489375 0.51625  0.543125 0.57     0.596875 0.62375  0.650625 0.6775\n",
      " 0.704375 0.73125  0.758125 0.785    0.811875 0.83875  0.865625 0.8925\n",
      " 0.919375 0.94625  0.973125 1.       1.05     1.1      1.15     1.2     ] 40\n"
     ]
    }
   ],
   "source": [
    "nDet=40\n",
    "nGen=20\n",
    "\n",
    "gen_bins = [x for x in np.linspace(num=17, start=0.14, stop=1.)]\n",
    "#print gen_bins\n",
    "gen_bins = np.concatenate((np.array([0., 0.05]), gen_bins, np.array([1.1, 1.2])))\n",
    "print gen_bins, gen_bins.shape[0]\n",
    "\n",
    "det_bins = np.array([x for x in np.linspace(num=33, start=0.14, stop=1.)])\n",
    "#print det_bins\n",
    "det_bins = np.concatenate((np.array([0., 0.025, 0.075 ]), det_bins, np.array([1.05, 1.1, 1.15, 1.2])))\n",
    "print det_bins, det_bins.shape[0]\n",
    "#nt_t  binnum = sizeof(bins)/sizeof(Float_t) - 1; // or just = 9\n",
    "#TH1F* h = new TH1F(\"n\",\"t\", binnum, bins);\n",
    "\n",
    "xminDet=0.\n",
    "xmaxDet=0.8\n",
    "xminGen=0.\n",
    "xmaxGen=0.8\n",
    "#weight_TT16 = (831.76*lumi*1000.)/10199051.*np.ones(TT16_beta4W.shape[0])*TT16_puWeight*TT16_btagWeight*0.8\n"
   ]
  },
  {
   "cell_type": "code",
   "execution_count": 13,
   "metadata": {},
   "outputs": [],
   "source": [
    "ROOT.TH1.SetDefaultSumw2()\n",
    "from root_numpy import *\n",
    "\n",
    "histMgenMC = ROOT.TH1D(\"histMgenMC\", \"histMgenMC; #tau_{2}^{1}; Events/(0.02)\",  gen_bins.shape[0]-1, (gen_bins))\n",
    "fill_hist(histMgenMC, TT16gen_nSub_basis[:,4]/TT16gen_nSub_basis[:,1])\n",
    "\n",
    "histMdetMC = ROOT.TH1D(\"histMdetMC\", \"histMdetMC; #tau_{2}^{1}; Events/(0.02)\", det_bins.shape[0]-1, (det_bins))\n",
    "fill_hist(histMdetMC, TT16reco_nSub_basis[:,4]/TT16reco_nSub_basis[:,1])\n",
    "\n",
    "histMgenData = ROOT.TH1D(\"histMgenData\", \"histMgenData; #tau_{2}^{1}; Events/(0.02)\", gen_bins.shape[0]-1, (gen_bins))\n",
    "fill_hist(histMgenData, TT16truth_nSub_basis[:,4]/TT16truth_nSub_basis[:,1])\n",
    "\n",
    "histMdetData = ROOT.TH1D(\"histMdetData\", \"histMdetData; #tau_{2}^{1}; Events/(0.02)\", det_bins.shape[0]-1, (det_bins))\n",
    "fill_hist(histMdetData, TT16data_nSub_basis[:,4]/TT16data_nSub_basis[:,1])\n",
    "\n",
    "\n",
    "response = ROOT.TH2D('response', 'response', det_bins.shape[0]-1, det_bins, gen_bins.shape[0]-1, gen_bins)\n",
    "hist2Dfill = np.zeros(((TT16reco_nSub_basis[:,4]/TT16reco_nSub_basis[:,1]).shape[0], 2))\n",
    "hist2Dfill[:,0] = (TT16reco_nSub_basis[:,4]/TT16reco_nSub_basis[:,1]).flatten()\n",
    "hist2Dfill[:,1] = (TT16gen_nSub_basis[:,4]/TT16gen_nSub_basis[:,1]).flatten()\n",
    "fill_hist(response, hist2Dfill)"
   ]
  },
  {
   "cell_type": "raw",
   "metadata": {},
   "source": [
    "xaxis =  array.array('d',[a for a in xrange(nmbinsGen *nptbinsGen + 1 )])\n",
    "nx = len(xaxis)-1\n",
    "\n",
    "print xaxis\n",
    "\n",
    "yaxis =  array.array('d',[a for a in xrange(nmbinsDet *nptbinsDet+1 )])\n",
    "ny = len(yaxis)-1\n",
    "\n",
    "print yaxis\n",
    "\n",
    "h_response = ROOT.TH2D('h_response',   'h_response', nx , xaxis, ny, yaxis )\n",
    "#print h_response2.GetXaxis.GetNbins()\n",
    "print nx\n",
    "print ny\n",
    "nb = nx*ny\n",
    "print nb"
   ]
  },
  {
   "cell_type": "raw",
   "metadata": {
    "collapsed": true
   },
   "source": [
    "response =ROOT.gDirectory.Get(\"response\")\n",
    "histMgenMC=ROOT.gDirectory.Get(\"histMgenMC\")\n",
    "histMdetMC=ROOT.gDirectory.Get(\"histMdetMC\")\n",
    "histMgenData=ROOT.gDirectory.Get(\"histMgenData\")\n",
    "histMdetData=ROOT.gDirectory.Get(\"histMdetData\")"
   ]
  },
  {
   "cell_type": "markdown",
   "metadata": {
    "collapsed": true
   },
   "source": [
    "Set the X and Y axis labels"
   ]
  },
  {
   "cell_type": "code",
   "execution_count": 14,
   "metadata": {},
   "outputs": [],
   "source": [
    "response.SetTitle(\";#tau_{2,1}^{1}(det);#tau_{2,1}^{1}(gen)\")\n",
    "\n",
    "\n",
    "histMgenMC.SetTitle(\";#tau_{2,1}^{1}(gen)\")\n",
    "#histMgenMC.SetFillColor(ROOT.kRed)\n",
    "#histMgenMC.SetLineColor(ROOT.kRed)\n",
    "\n",
    "histMdetMC.SetTitle(\";#tau_{2,1}^{1}(det)\")\n",
    "#histMdetMC.SetFillColor(ROOT.kBlue)\n",
    "#histMdetMC.SetLineColor(ROOT.kBlue)\n",
    "\n",
    "\n",
    "histMgenData.SetTitle(\";#tau_{2,1}^{1}(gen)\")\n",
    "#histMgenData.SetFillColor(ROOT.kGreen+2)\n",
    "#histMgenData.SetLineColor(ROOT.kGreen+2)\n",
    "\n",
    "histMdetData.SetTitle(\";#tau_{2,1}^{1}(det)\")\n",
    "#histMdetData.SetFillColor(ROOT.kBlack)\n",
    "#histMdetData.SetLineColor(ROOT.kBlack)"
   ]
  },
  {
   "cell_type": "markdown",
   "metadata": {
    "collapsed": true
   },
   "source": [
    "Draw the variables at reco and gen level and for \"data\""
   ]
  },
  {
   "cell_type": "code",
   "execution_count": 15,
   "metadata": {},
   "outputs": [
    {
     "data": {
      "image/png": "[encoded data removed]",
      "text/plain": [
       "<IPython.core.display.Image object>"
      ]
     },
     "metadata": {},
     "output_type": "display_data"
    }
   ],
   "source": [
    "c1 = ROOT.TCanvas(\"chistMgenMC1\", \"chistMgenMC1\")\n",
    "histMgenMC.Draw(\"e\")\n",
    "histMdetMC.Draw(\"e same\")\n",
    "c1.Draw()"
   ]
  },
  {
   "cell_type": "code",
   "execution_count": 16,
   "metadata": {},
   "outputs": [
    {
     "name": "stderr",
     "output_type": "stream",
     "text": [
      "Warning in <TCanvas::Constructor>: Deleting canvas with same name: chistMgenMC1\n"
     ]
    },
    {
     "data": {
      "image/png": "[encoded data removed]",
      "text/plain": [
       "<IPython.core.display.Image object>"
      ]
     },
     "metadata": {},
     "output_type": "display_data"
    }
   ],
   "source": [
    "c1 = ROOT.TCanvas(\"chistMgenMC1\", \"chistMgenMC1\")\n",
    "histMgenData.Draw(\"e\")\n",
    "histMdetData.Draw(\"e same\")\n",
    "c1.Draw()"
   ]
  },
  {
   "cell_type": "markdown",
   "metadata": {
    "collapsed": true
   },
   "source": [
    "Draw the response matrix."
   ]
  },
  {
   "cell_type": "code",
   "execution_count": 17,
   "metadata": {
    "scrolled": false
   },
   "outputs": [
    {
     "data": {
      "image/png": "[encoded data removed]",
      "text/plain": [
       "<IPython.core.display.Image object>"
      ]
     },
     "metadata": {},
     "output_type": "display_data"
    }
   ],
   "source": [
    "c1 = ROOT.TCanvas(\"cresponse1\", \"cresponse1\")\n",
    "response.Draw(\"colz\")\n",
    "c1.Draw()"
   ]
  },
  {
   "cell_type": "code",
   "execution_count": 18,
   "metadata": {},
   "outputs": [],
   "source": [
    "#### In MC :"
   ]
  },
  {
   "cell_type": "code",
   "execution_count": 19,
   "metadata": {},
   "outputs": [
    {
     "data": {
      "image/png": "[encoded data removed]",
      "text/plain": [
       "<IPython.core.display.Image object>"
      ]
     },
     "metadata": {},
     "output_type": "display_data"
    }
   ],
   "source": [
    "c2 = ROOT.TCanvas(\"MCcompare\", \"MCcompare\")\n",
    "histMgenMC.Draw('e')\n",
    "histMdetMC.Draw('e same')\n",
    "c2.Draw()"
   ]
  },
  {
   "cell_type": "markdown",
   "metadata": {
    "collapsed": true
   },
   "source": [
    "#### In Data:"
   ]
  },
  {
   "cell_type": "code",
   "execution_count": 20,
   "metadata": {
    "scrolled": false
   },
   "outputs": [
    {
     "data": {
      "image/png": "[encoded data removed]",
      "text/plain": [
       "<IPython.core.display.Image object>"
      ]
     },
     "metadata": {},
     "output_type": "display_data"
    }
   ],
   "source": [
    "c3 = ROOT.TCanvas(\"datadists\", \"datadists\")\n",
    "histMgenData.Draw('e')\n",
    "histMdetData.Draw('e same')\n",
    "c3.Draw()"
   ]
  },
  {
   "cell_type": "code",
   "execution_count": 21,
   "metadata": {},
   "outputs": [
    {
     "name": "stdout",
     "output_type": "stream",
     "text": [
      "getting tunfolder:\n"
     ]
    },
    {
     "name": "stderr",
     "output_type": "stream",
     "text": [
      "Info in <TUnfold::SetConstraint>: fConstraint=0\n",
      "Info in <TUnfold::TUnfold>: underflow and overflow bin do not depend on the input data\n",
      "Info in <TUnfold::TUnfold>: 39 input bins and 20 output bins\n",
      "Info in <TUnfoldDensity::TUnfold>: *NOT* unfolding bin #0 (yaxis:#tau_{2,1}^{1}(gen)[ufl])\n",
      "Info in <TUnfoldDensity::TUnfold>: *NOT* unfolding bin #21 (yaxis:#tau_{2,1}^{1}(gen)[ofl])\n",
      "Info in <TUnfoldDensity::RegularizeOneDistribution>: regularizing yaxis regMode=3 densityMode=1 axisSteering=*[UOB]\n"
     ]
    }
   ],
   "source": [
    "print 'getting tunfolder:'\n",
    "tunfolder = ROOT.TUnfoldDensity(response,ROOT.TUnfold.kHistMapOutputVert,ROOT.TUnfold.kRegModeCurvature, ROOT.TUnfold.kEConstraintNone, ROOT.TUnfoldDensity.kDensityModeBinWidth)"
   ]
  },
  {
   "cell_type": "markdown",
   "metadata": {
    "collapsed": true
   },
   "source": [
    "Set the input, a 1D reconstructed histogram from either MC (closure) or Data (measurement) , binned in the detector level binning."
   ]
  },
  {
   "cell_type": "code",
   "execution_count": 22,
   "metadata": {},
   "outputs": [
    {
     "name": "stdout",
     "output_type": "stream",
     "text": [
      "setting reco input\n"
     ]
    },
    {
     "data": {
      "text/plain": [
       "2"
      ]
     },
     "execution_count": 22,
     "metadata": {},
     "output_type": "execute_result"
    },
    {
     "name": "stderr",
     "output_type": "stream",
     "text": [
      "Warning in <TUnfoldDensity::SetInput>: 2/39 input bins have zero error, and are ignored.\n"
     ]
    }
   ],
   "source": [
    "print 'setting reco input'\n",
    "tunfolder.SetInput( histMdetData )"
   ]
  },
  {
   "cell_type": "markdown",
   "metadata": {},
   "source": [
    "Unfold nScan times with values for the regularization parameter between tauMin and tauMax using the empty TSplines to store the results."
   ]
  },
  {
   "cell_type": "code",
   "execution_count": 23,
   "metadata": {},
   "outputs": [
    {
     "name": "stdout",
     "output_type": "stream",
     "text": [
      "regularizing\n",
      "doing the unfolding\n",
      "getting the results\n"
     ]
    },
    {
     "name": "stderr",
     "output_type": "stream",
     "text": [
      "Info in <TUnfoldDensity::ScanLcurve>: logtau=-Infinity X=1.360793 Y=8.865567\n",
      "Info in <TUnfoldDensity::ScanLcurve>: logtau=-3.656580 X=1.411286 Y=8.074623\n",
      "Info in <TUnfoldDensity::ScanLcurve>: logtau=-4.156580 X=1.370417 Y=8.414984\n",
      "Info in <TUnfoldDensity::ScanLcurve>: logtau=-4.656580 X=1.361537 Y=8.717135\n",
      "Info in <TUnfoldDensity::ScanLcurve>: logtau=-3.906580 X=1.383995 Y=8.242749\n",
      "Info in <TUnfoldDensity::ScanLcurve>: logtau=-4.406580 X=1.363917 Y=8.584405\n",
      "Info in <TUnfoldDensity::ScanLcurve>: logtau=-4.031580 X=1.376074 Y=8.327818\n",
      "Info in <TUnfoldDensity::ScanLcurve>: logtau=-3.781580 X=1.395101 Y=8.159663\n",
      "Info in <TUnfoldDensity::ScanLcurve>: logtau=-4.281580 X=1.366492 Y=8.501878\n",
      "Info in <TUnfoldDensity::ScanLcurve>: logtau=-4.531580 X=1.362373 Y=8.657305\n",
      "Info in <TUnfoldDensity::ScanLcurve>: logtau=-4.094080 X=1.373000 Y=8.371251\n",
      "Info in <TUnfoldDensity::ScanLcurve>: logtau=-4.219080 X=1.368265 Y=8.458674\n",
      "Info in <TUnfoldDensity::ScanLcurve>: logtau=-3.719080 X=1.402392 Y=8.117720\n",
      "Info in <TUnfoldDensity::ScanLcurve>: logtau=-3.969080 X=1.379709 Y=8.284942\n",
      "Info in <TUnfoldDensity::ScanLcurve>: logtau=-3.844080 X=1.389061 Y=8.201126\n",
      "Info in <TUnfoldDensity::ScanLcurve>: logtau=-4.344080 X=1.365056 Y=8.544017\n",
      "Info in <TUnfoldDensity::ScanLcurve>: logtau=-4.469080 X=1.363036 Y=8.622354\n",
      "Info in <TUnfoldDensity::ScanLcurve>: logtau=-4.594080 X=1.361886 Y=8.688928\n",
      "Info in <TUnfoldDensity::ScanLcurve>: logtau=-3.687830 X=1.406615 Y=8.096352\n",
      "Info in <TUnfoldDensity::ScanLcurve>: logtau=-4.125330 X=1.371651 Y=8.393099\n",
      "Info in <TUnfoldDensity::ScanLcurve>: logtau=-4.187830 X=1.369290 Y=8.436859\n",
      "Info in <TUnfoldDensity::ScanLcurve>: logtau=-4.062830 X=1.374472 Y=8.349479\n",
      "Info in <TUnfoldDensity::ScanLcurve>: logtau=-4.250330 X=1.367334 Y=8.480370\n",
      "Info in <TUnfoldDensity::ScanLcurve>: logtau=-4.000330 X=1.377816 Y=8.306298\n",
      "Info in <TUnfoldDensity::ScanLcurve>: logtau=-3.750330 X=1.398569 Y=8.138796\n",
      "Info in <TUnfoldDensity::ScanLcurve>: logtau=-3.937830 X=1.381764 Y=8.263761\n",
      "Info in <TUnfoldDensity::ScanLcurve>: logtau=-4.312830 X=1.365735 Y=8.523122\n",
      "Info in <TUnfoldDensity::ScanLcurve>: logtau=-3.875330 X=1.386420 Y=8.221885\n",
      "Info in <TUnfoldDensity::ScanLcurve>: logtau=-3.812830 X=1.391944 Y=8.180411\n",
      "Info in <TUnfoldDensity::ScanLcurve>: logtau=-4.375330 X=1.364452 Y=8.564475\n",
      "Info in <TUnfoldDensity::ScanLcurve>: logtau=-4.437830 X=1.363447 Y=8.603724\n",
      "Info in <TUnfoldDensity::ScanLcurve>: logtau=-4.500330 X=1.362680 Y=8.640231\n",
      "Info in <TUnfoldDensity::ScanLcurve>: logtau=-4.562830 X=1.362110 Y=8.673544\n",
      "Info in <TUnfoldDensity::ScanLcurve>: logtau=-4.625330 X=1.361697 Y=8.703456\n",
      "Info in <TUnfoldDensity::ScanLcurve>: logtau=-3.672205 X=1.408892 Y=8.085536\n",
      "Info in <TUnfoldDensity::ScanLcurve>: logtau=-4.140955 X=1.371020 Y=8.404040\n",
      "Info in <TUnfoldDensity::ScanLcurve>: logtau=-4.172205 X=1.369841 Y=8.425926\n",
      "Info in <TUnfoldDensity::ScanLcurve>: logtau=-4.109705 X=1.372311 Y=8.382168\n",
      "Info in <TUnfoldDensity::ScanLcurve>: logtau=-4.203455 X=1.368765 Y=8.447778\n",
      "Info in <TUnfoldDensity::ScanLcurve>: logtau=-4.078455 X=1.373720 Y=8.360353\n",
      "Info in <TUnfoldDensity::ScanLcurve>: logtau=-3.703455 X=1.404451 Y=8.107077\n",
      "Info in <TUnfoldDensity::ScanLcurve>: logtau=-4.047205 X=1.375256 Y=8.338632\n",
      "Info in <TUnfoldDensity::ScanLcurve>: logtau=-4.234705 X=1.367788 Y=8.469541\n",
      "Info in <TUnfoldDensity::ScanLcurve>: logtau=-4.015955 X=1.376927 Y=8.317039\n",
      "Info in <TUnfoldDensity::ScanLcurve>: logtau=-4.265955 X=1.366902 Y=8.491152\n",
      "Info in <TUnfoldDensity::ScanLcurve>: logtau=-3.984705 X=1.378743 Y=8.295599\n",
      "Info in <TUnfoldDensity::ScanLcurve>: logtau=-3.734705 X=1.400434 Y=8.128290\n",
      "Info in <TUnfoldDensity::ScanLcurve>: logtau=-3.953455 X=1.380716 Y=8.274330\n",
      "Info in <TUnfoldDensity::ScanLcurve>: logtau=-4.297205 X=1.366103 Y=8.512538\n",
      "Info in <TUnfoldDensity::ScanLcurve>: logtau=-3.765955 X=1.396793 Y=8.149250\n",
      "Info in <TUnfoldDensity::ScanLcurve>: Result logtau=-3.695643 X=1.405519 Y=8.101726\n"
     ]
    }
   ],
   "source": [
    "print 'regularizing'\n",
    "nScan=50\n",
    "tauMin=-5.0\n",
    "tauMax=3.0\n",
    "iBest=0\n",
    "\n",
    "logTauX = ROOT.MakeNullPointer(ROOT.TSpline)\n",
    "logTauY = ROOT.MakeNullPointer(ROOT.TSpline)\n",
    "lCurve = ROOT.MakeNullPointer(ROOT.TGraph)\n",
    "\n",
    "print 'doing the unfolding'\n",
    "tunfolder.ScanLcurve(nScan,tauMin,tauMax,lCurve,logTauX,logTauY);\n",
    "print 'getting the results'\n",
    "unfolded = tunfolder.GetOutput(\"unfolded\")"
   ]
  },
  {
   "cell_type": "code",
   "execution_count": null,
   "metadata": {},
   "outputs": [],
   "source": []
  },
  {
   "cell_type": "code",
   "execution_count": 24,
   "metadata": {},
   "outputs": [
    {
     "ename": "AttributeError",
     "evalue": "'THStack' object has no attribute 'GetBinContent'",
     "output_type": "error",
     "traceback": [
      "\u001b[0;31m\u001b[0m",
      "\u001b[0;31mAttributeError\u001b[0mTraceback (most recent call last)",
      "\u001b[0;32m<ipython-input-24-f2a8df804276>\u001b[0m in \u001b[0;36m<module>\u001b[0;34m()\u001b[0m\n\u001b[1;32m     15\u001b[0m \u001b[0mhs\u001b[0m\u001b[0;34m.\u001b[0m\u001b[0mDraw\u001b[0m\u001b[0;34m(\u001b[0m\u001b[0;34m\"nostack\"\u001b[0m\u001b[0;34m)\u001b[0m\u001b[0;34m\u001b[0m\u001b[0m\n\u001b[1;32m     16\u001b[0m \u001b[0mc5\u001b[0m\u001b[0;34m.\u001b[0m\u001b[0mDraw\u001b[0m\u001b[0;34m(\u001b[0m\u001b[0;34m)\u001b[0m\u001b[0;34m\u001b[0m\u001b[0m\n\u001b[0;32m---> 17\u001b[0;31m \u001b[0;32mprint\u001b[0m \u001b[0mhs\u001b[0m\u001b[0;34m.\u001b[0m\u001b[0mGetBinContent\u001b[0m\u001b[0;34m(\u001b[0m\u001b[0;36m0\u001b[0m\u001b[0;34m)\u001b[0m\u001b[0;34m\u001b[0m\u001b[0m\n\u001b[0m",
      "\u001b[0;31mAttributeError\u001b[0m: 'THStack' object has no attribute 'GetBinContent'"
     ]
    },
    {
     "data": {
      "image/png": "[encoded data removed]",
      "text/plain": [
       "<IPython.core.display.Image object>"
      ]
     },
     "metadata": {},
     "output_type": "display_data"
    }
   ],
   "source": [
    "c5 = ROOT.TCanvas('c5', 'c5')\n",
    "unfolded.SetMarkerStyle(22)\n",
    "unfolded.SetMarkerColor(4)\n",
    "unfolded.SetFillColor(0)\n",
    "histMgenData.SetMarkerStyle(4)\n",
    "histMgenData.SetMarkerColor(2)\n",
    "histMgenData.SetOption(\"E\")\n",
    "histMgenData.SetLineColor(2)\n",
    "\n",
    "hs = ROOT.THStack(\"hs\", \"hs\")\n",
    "hs.Add\n",
    "hs.SetMaximum(2400)\n",
    "hs.Add( histMgenData, \"E HIST\")\n",
    "hs.Add( unfolded, \"E\")\n",
    "hs.Draw(\"nostack\")\n",
    "c5.Draw()"
   ]
  },
  {
   "cell_type": "code",
   "execution_count": null,
   "metadata": {},
   "outputs": [],
   "source": []
  },
  {
   "cell_type": "markdown",
   "metadata": {},
   "source": [
    "### Unfolding ${\\tau_{2,1}^{(1)}}^\\mathrm{WTA}$ "
   ]
  },
  {
   "cell_type": "markdown",
   "metadata": {},
   "source": [
    "#### Below the input Monte Carlo simulation events are read from the file which only contains events meeting the skim criteria set forth in this __[script](https://github.com/kaustuvdatta/jetObservables/blob/102X/python/nSubProducer_gen_reco.py)__\n"
   ]
  },
  {
   "cell_type": "markdown",
   "metadata": {},
   "source": [
    "### Using Powheg+Pythia8 samples as gen and MC and MG5+P8 as \"data\""
   ]
  },
  {
   "cell_type": "code",
   "execution_count": null,
   "metadata": {
    "scrolled": true
   },
   "outputs": [
    {
     "name": "stdout",
     "output_type": "stream",
     "text": [
      "577\n",
      "0\n",
      "on file 5\n",
      "on file 10\n",
      "on file 15\n",
      "on file 20\n",
      "on file 25\n",
      "on file 30\n",
      "on file 35\n",
      "on file 40\n",
      "on file 45\n",
      "on file 50\n",
      "on file 55\n",
      "on file 60\n",
      "on file 65\n",
      "on file 70\n",
      "on file 75\n",
      "on file 80\n",
      "on file 85\n",
      "on file 90\n",
      "on file 95\n",
      "on file 100\n",
      "on file 105\n",
      "on file 110\n",
      "on file 115\n",
      "on file 120\n",
      "on file 125\n",
      "on file 130\n",
      "on file 135\n",
      "on file 140\n",
      "on file 145\n",
      "on file 150\n",
      "on file 155\n",
      "on file 160\n",
      "on file 165\n",
      "on file 170\n",
      "on file 175\n",
      "on file 180\n",
      "on file 185\n",
      "on file 190\n",
      "on file 195\n",
      "on file 200\n",
      "on file 205\n",
      "on file 210\n",
      "on file 215\n",
      "on file 220\n",
      "on file 225\n",
      "on file 230\n",
      "on file 235\n",
      "on file 240\n",
      "on file 245\n",
      "on file 250\n",
      "on file 255\n",
      "on file 260\n",
      "on file 265\n",
      "on file 270\n",
      "on file 275\n",
      "on file 280\n",
      "on file 285\n",
      "on file 290\n",
      "on file 295\n",
      "on file 300\n",
      "on file 305\n",
      "on file 310\n",
      "on file 315\n",
      "on file 320\n",
      "on file 325\n",
      "on file 330\n",
      "on file 335\n",
      "on file 340\n",
      "on file 345\n",
      "on file 350\n",
      "on file 355\n",
      "on file 360\n",
      "on file 365\n",
      "on file 370\n",
      "on file 375\n",
      "on file 380\n",
      "on file 385\n",
      "on file 390\n",
      "on file 395\n",
      "on file 400\n",
      "on file 405\n"
     ]
    }
   ],
   "source": [
    "filelist = []\n",
    "path = '../AutoObs/CMS/New_Sel/TTrecogen/1/*.root'\n",
    "files=glob.glob(path)   \n",
    "for f in files:     \n",
    "    filelist.append(f)\n",
    "        \n",
    "print (len(filelist))\n",
    "dataset = []\n",
    "c=0\n",
    "for f in filelist:\n",
    "    F = ROOT.TFile.Open(f, 'read')\n",
    "    \n",
    "    T = F.Get(\"Events\");\n",
    "    \n",
    "    \n",
    "    \n",
    "    \n",
    "    \n",
    "    data = rtnpy. tree2array(T, branches=['goodrecojet0_softdrop_mass',\n",
    "                                      'goodrecojet0_tau_0p5_0_WTA_kT','goodrecojet0_tau_1_0_WTA_kT','goodrecojet0_tau_2_0_WTA_kT',\n",
    "                                      'goodrecojet0_tau_0p5_1_WTA_kT','goodrecojet0_tau_1_1_WTA_kT','goodrecojet0_tau_2_1_WTA_kT',\n",
    "                                      'goodrecojet0_tau_0p5_2_WTA_kT','goodrecojet0_tau_1_2_WTA_kT','goodrecojet0_tau_2_2_WTA_kT',\n",
    "                                      'goodrecojet0_tau_0p5_3_WTA_kT','goodrecojet0_tau_1_3_WTA_kT','goodrecojet0_tau_2_3_WTA_kT',\n",
    "                                      'goodrecojet0_tau_0p5_4_WTA_kT','goodrecojet0_tau_1_4_WTA_kT','goodrecojet0_tau_2_4_WTA_kT',\n",
    "                                      'goodrecojet0_tau_0p5_5_WTA_kT','goodrecojet0_tau_1_5_WTA_kT','goodrecojet0_tau_2_5_WTA_kT',\n",
    "                                      'goodrecojet0_tau_0p5_6_WTA_kT','goodrecojet0_tau_1_6_WTA_kT','goodrecojet0_tau_2_6_WTA_kT',\n",
    "                                      'goodrecojet0_mass', 'goodrecojet0_pt', 'goodrecojet0_eta',\n",
    "                                      'goodrecojet0_phi',\n",
    "                                      'MET', 'goodrecojet0_tau21', 'goodrecojet0_N21',\n",
    "                                      'FatJet_tau1','FatJet_tau2','FatJet_tau3','FatJet_tau4', 'leptonicW_pT', \n",
    "                                      'lepton_pT', 'puWeight', 'PV_npvsGood', 'btagWeight_CSVV2',\n",
    "                                      'dr_LepJet', 'dphi_MetJet', 'dphi_WJet','genmatchedrecoAK8', 'passedMETfilters',\n",
    "                                      'goodgenjet0_mass',\n",
    "                                      'goodgenjet0_tau_0p5_0_WTA_kT','goodgenjet0_tau_1_0_WTA_kT','goodgenjet0_tau_2_0_WTA_kT',\n",
    "                                      'goodgenjet0_tau_0p5_1_WTA_kT','goodgenjet0_tau_1_1_WTA_kT','goodgenjet0_tau_2_1_WTA_kT',\n",
    "                                      'goodgenjet0_tau_0p5_2_WTA_kT','goodgenjet0_tau_1_2_WTA_kT','goodgenjet0_tau_2_2_WTA_kT',\n",
    "                                      'goodgenjet0_tau_0p5_3_WTA_kT','goodgenjet0_tau_1_3_WTA_kT','goodgenjet0_tau_2_3_WTA_kT',\n",
    "                                      'goodgenjet0_tau_0p5_4_WTA_kT','goodgenjet0_tau_1_4_WTA_kT','goodgenjet0_tau_2_4_WTA_kT',\n",
    "                                      'goodgenjet0_tau_0p5_5_WTA_kT','goodgenjet0_tau_1_5_WTA_kT','goodgenjet0_tau_2_5_WTA_kT',\n",
    "                                      'goodgenjet0_tau_0p5_6_WTA_kT','goodgenjet0_tau_1_6_WTA_kT','goodgenjet0_tau_2_6_WTA_kT',\n",
    "                                      'goodgenjet0_pt', 'goodgenjet0_eta', 'goodgenjet0_phi'\n",
    "                                        ])\n",
    "\n",
    "    \n",
    "    if len(dataset)==0:\n",
    "        print (c)\n",
    "        dataset=data\n",
    "    else:\n",
    "        dataset = np.concatenate((dataset,data))\n",
    "        \n",
    "    c=c+1\n",
    "    if c%5==0:\n",
    "        print (\"on file %d\"%c)"
   ]
  },
  {
   "cell_type": "code",
   "execution_count": null,
   "metadata": {},
   "outputs": [],
   "source": [
    "#pars = [1.02,-1.06,0.22,-0.27,0.15,0.00,0.18,0.02]# [ 0.49631107, -0.91138405, 0.11273356, -0.26872, 0.04777313, 0.06521296, 0.51138633, -0.03617261]\n",
    "#pars = [0.,-1.,0.,0.,1.,0.,0.,0.]\n",
    "pars = -1* np.array([-0.195,  1.183,  -0.219,  0.674,  -0.44,   0.003, -0.634,  -0.042]) #[ 0.06849562,  0.99606407, -0.20875171,  0.3780923 , -0.07821123, -0.05920516, -0.79644126,  0.02925767]#[1.02,-1.06,0.22,-0.27,0.15,0.00,0.18,0.02]# [ 1.0470642 , 0.3308942 , -0.08472812, 0.4989206, -0.2598824, 0.00597894, -0.6826088 , -0.06705493]\n",
    "\n",
    "c=0\n",
    "for i in range(0,dataset.shape[0]):\n",
    "    if mSDmin<dataset[i][0]<=mSDmax and ptmin<dataset[i][23]<ptmax and leptWpTmin<dataset[i][33] and dataset[i][38]>np.pi/2 and dataset[i][39]>2. and dataset[i][40]>2. and dataset[i][42]==1:# and dataset[i][27]<0.45:\n",
    "        #if ((dataset[i][1])**(pars[0]))*((dataset[i][2])**(pars[1]))*((dataset[i][3])**(pars[2]))*((dataset[i][4])**(pars[3]))*((dataset[i][5])**(pars[4]))*((dataset[i][6])**(pars[5]))*((dataset[i][8])**(pars[6]))*((dataset[i][9])**(pars[7]))>3.:\n",
    "        c=c+1\n",
    "\n",
    "print (c)\n",
    "TT16reco_npv = np.ones(c)\n",
    "TT16reco_beta4W = np.ones(c)\n",
    "TT16reco_pt = np.ones(c)\n",
    "TT16reco_eta = np.ones(c)\n",
    "TT16reco_met = np.ones(c)\n",
    "TT16reco_lWpt = np.ones(c)\n",
    "TT16reco_lept_pT = np.ones(c)\n",
    "TT16reco_mass = np.ones(c)\n",
    "TT16reco_sdmass = np.ones(c)\n",
    "TT16reco_tau1 = np.ones(c)\n",
    "TT16reco_tau2 = np.ones(c)\n",
    "TT16reco_tau3 = np.ones(c)\n",
    "TT16reco_tau4 = np.ones(c)\n",
    "TT16reco_tau21 = np.ones(c)\n",
    "TT16reco_N21 = np.ones(c)\n",
    "TT16reco_puWeight = np.ones(c)\n",
    "TT16reco_btagWeight = np.ones(c)\n",
    "fatjet_TT16reco_tau1 = np.ones(c)\n",
    "fatjet_TT16reco_tau2 = np.ones(c)\n",
    "fatjet_TT16reco_tau3 = np.ones(c)\n",
    "fatjet_TT16reco_tau4 = np.ones(c)\n",
    "fatjet_TT16reco_tau21 = np.ones(c)\n",
    "\n",
    "\n",
    "TT16reco_nSub_basis = np.ones((c,21))\n",
    "\n",
    "TT16reco_tau1_0p5 = np.ones(c)\n",
    "TT16reco_tau1_1 = np.ones(c)\n",
    "TT16reco_tau1_2 = np.ones(c)\n",
    "TT16reco_tau2_0p5 = np.ones(c)\n",
    "TT16reco_tau2_1 = np.ones(c)\n",
    "TT16reco_tau2_2 = np.ones(c)\n",
    "TT16reco_tau3_0p5 = np.ones(c)\n",
    "TT16reco_tau3_1 = np.ones(c)\n",
    "TT16reco_tau3_2 = np.ones(c)\n",
    "TT16reco_tau4_0p5 = np.ones(c)\n",
    "TT16reco_tau4_1 = np.ones(c)\n",
    "TT16reco_tau4_2 = np.ones(c)\n",
    "TT16reco_tau5_0p5 = np.ones(c)\n",
    "TT16reco_tau5_1 = np.ones(c)\n",
    "TT16reco_tau5_2 = np.ones(c)\n",
    "TT16reco_tau6_0p5 = np.ones(c)\n",
    "TT16reco_tau6_1 = np.ones(c)\n",
    "TT16reco_tau6_2 = np.ones(c)\n",
    "TT16reco_tau7_0p5 = np.ones(c)\n",
    "TT16reco_tau7_1 = np.ones(c)\n",
    "TT16reco_tau7_2 = np.ones(c)\n",
    "\n",
    "TT16gen_tau21 = np.ones(c)\n",
    "TT16gen_beta4W = np.ones(c)\n",
    "TT16gen_pt = np.ones(c)\n",
    "TT16gen_eta = np.ones(c)\n",
    "TT16gen_mass = np.ones(c)\n",
    "\n",
    "TT16gen_nSub_basis = np.ones((c,21))\n",
    "\n",
    "TT16gen_tau1_0p5 = np.ones(c)\n",
    "TT16gen_tau1_1 = np.ones(c)\n",
    "TT16gen_tau1_2 = np.ones(c)\n",
    "TT16gen_tau2_0p5 = np.ones(c)\n",
    "TT16gen_tau2_1 = np.ones(c)\n",
    "TT16gen_tau2_2 = np.ones(c)\n",
    "TT16gen_tau3_0p5 = np.ones(c)\n",
    "TT16gen_tau3_1 = np.ones(c)\n",
    "TT16gen_tau3_2 = np.ones(c)\n",
    "TT16gen_tau4_0p5 = np.ones(c)\n",
    "TT16gen_tau4_1 = np.ones(c)\n",
    "TT16gen_tau4_2 = np.ones(c)\n",
    "TT16gen_tau5_0p5 = np.ones(c)\n",
    "TT16gen_tau5_1 = np.ones(c)\n",
    "TT16gen_tau5_2 = np.ones(c)\n",
    "TT16gen_tau6_0p5 = np.ones(c)\n",
    "TT16gen_tau6_1 = np.ones(c)\n",
    "TT16gen_tau6_2 = np.ones(c)\n",
    "TT16gen_tau7_0p5 = np.ones(c)\n",
    "TT16gen_tau7_1 = np.ones(c)\n",
    "TT16gen_tau7_2 = np.ones(c)\n",
    "\n",
    "c=0\n",
    "d1=0\n",
    "d2=0\n",
    "for i in range(0,dataset.shape[0]):\n",
    "    if mSDmin<dataset[i][0]<=mSDmax and ptmin<dataset[i][23]<ptmax and leptWpTmin<dataset[i][33] and dataset[i][38]>np.pi/2 and dataset[i][39]>2. and dataset[i][40]>2. and dataset[i][42]==1:# and dataset[i][27]<0.45:\n",
    "        #print dataset[i][29]\n",
    "        #if ((dataset[i][1])**(pars[0]))*((dataset[i][2])**(pars[1]))*((dataset[i][3])**(pars[2]))*((dataset[i][4])**(pars[3]))*((dataset[i][5])**(pars[4]))*((dataset[i][6])**(pars[5]))*((dataset[i][8])**(pars[6]))*((dataset[i][9])**(pars[7]))>3.:\n",
    "        TT16reco_pt[c] = dataset[i][23]\n",
    "        TT16reco_eta[c] = dataset[i][24]\n",
    "        TT16reco_met[c] = dataset[i][26]\n",
    "        TT16reco_mass[c] = dataset[i][22]\n",
    "        TT16reco_lWpt[c] = dataset[i][33]\n",
    "        TT16reco_lept_pT[c] = dataset[i][34]\n",
    "        TT16reco_sdmass[c] = dataset[i][0]\n",
    "        TT16reco_tau1[c] = dataset[i][2]\n",
    "        TT16reco_tau2[c] = dataset[i][5]\n",
    "        TT16reco_tau3[c] = dataset[i][8]\n",
    "        TT16reco_tau4[c] = dataset[i][11]\n",
    "        TT16reco_tau21[c] = dataset[i][27]\n",
    "        TT16reco_N21[c] = dataset[i][28]\n",
    "        TT16reco_puWeight[c] = dataset[i][35]\n",
    "        TT16reco_btagWeight[c] = dataset[i][37]\n",
    "        TT16reco_npv[c] = dataset[i][36]\n",
    "        fatjet_TT16reco_tau1[c] = dataset[i][29][0]\n",
    "        fatjet_TT16reco_tau2[c] = dataset[i][30][0]\n",
    "        fatjet_TT16reco_tau3[c] = dataset[i][31][0]\n",
    "        fatjet_TT16reco_tau4[c] = dataset[i][32][0]\n",
    "        \n",
    "        for z in range(0,21):\n",
    "            TT16reco_nSub_basis[c][z] = dataset[i][z+1]\n",
    "        TT16reco_tau1_0p5[c] = dataset[i][1]\n",
    "        TT16reco_tau1_1[c] = dataset[i][2]\n",
    "        TT16reco_tau1_2[c] = dataset[i][3]\n",
    "        TT16reco_tau2_0p5[c] = dataset[i][4]\n",
    "        TT16reco_tau2_1[c] = dataset[i][5]\n",
    "        TT16reco_tau2_2[c] = dataset[i][6]\n",
    "\n",
    "        \n",
    "        TT16gen_pt[c] = dataset[i][65]\n",
    "        TT16gen_eta[c] = dataset[i][66]\n",
    "        TT16gen_mass[c] = dataset[i][43]\n",
    "        \n",
    "        for z in range(0,21):\n",
    "            TT16gen_nSub_basis[c][z] = dataset[i][z+44]   \n",
    "        \n",
    "        TT16gen_tau1_0p5[c] = dataset[i][44]\n",
    "        TT16gen_tau1_1[c] = dataset[i][45]\n",
    "        TT16gen_tau1_2[c] = dataset[i][46]\n",
    "        TT16gen_tau2_0p5[c] = dataset[i][47]\n",
    "        TT16gen_tau2_1[c] = dataset[i][48]\n",
    "        TT16gen_tau2_2[c] = dataset[i][49]\n",
    "        \n",
    "        \n",
    "        if TT16reco_tau1_1[c]!=0:\n",
    "            TT16reco_tau21[d1] = TT16reco_tau2_1[c]/TT16reco_tau1_1[c]\n",
    "            d1=d1+1\n",
    "        TT16reco_beta4W[c]=((dataset[i][1])**(pars[0]))*((dataset[i][2])**(pars[1]))*((dataset[i][3])**(pars[2]))*((dataset[i][4])**(pars[3]))*((dataset[i][5])**(pars[4]))*((dataset[i][6])**(pars[5]))*((dataset[i][8])**(pars[6]))*((dataset[i][9])**(pars[7]))\n",
    "        \n",
    "        if TT16gen_tau1_1[c]!=0:\n",
    "            TT16gen_tau21[d2] = TT16gen_tau2_1[c]/TT16gen_tau1_1[c]\n",
    "            d2=d2+1\n",
    "        TT16gen_beta4W[c]=((dataset[i][44])**(pars[0]))*((dataset[i][45])**(pars[1]))*((dataset[i][46])**(pars[2]))*((dataset[i][47])**(pars[3]))*((dataset[i][48])**(pars[4]))*((dataset[i][49])**(pars[5]))*((dataset[i][51])**(pars[6]))*((dataset[i][52])**(pars[7]))\n",
    "        if np.isnan(TT16gen_beta4W[c]): \n",
    "            print (\"nan nan nan!!!\", c, (dataset[i][44]), (dataset[i][45]), (dataset[i][46]), (dataset[i][47]), (dataset[i][48]), (dataset[i][49]), (dataset[i][51]), (dataset[i][52]), (dataset[i][65]), (dataset[i][66]), (dataset[c][43]))\n",
    "        if np.isinf(TT16gen_beta4W[c]): \n",
    "            print (\"inf inf inf!!!\", c)\n",
    "        \n",
    "        c=c+1\n",
    "#print np.min(var_sig), np.max(var_sig)\n",
    "#TT16reco_SF = np.exp(0.0615+0.0005*TT16reco_pt)\n",
    "#print TT16reco_SF, np.mean(TT16reco_SF)"
   ]
  },
  {
   "cell_type": "markdown",
   "metadata": {},
   "source": [
    "## 1-D unfolding of $N$-subjettiness ratios"
   ]
  },
  {
   "cell_type": "code",
   "execution_count": null,
   "metadata": {},
   "outputs": [],
   "source": [
    "TT16gen_nSub_basis = np.delete(TT16gen_nSub_basis[:,:],15422,0)\n",
    "print TT16gen_nSub_basis.shape[0]\n",
    "\n",
    "TT16reco_nSub_basis = np.delete(TT16reco_nSub_basis[:,:],15422,0)\n",
    "print TT16reco_nSub_basis.shape[0]"
   ]
  },
  {
   "cell_type": "code",
   "execution_count": null,
   "metadata": {},
   "outputs": [],
   "source": [
    "ROOT.TH1.SetDefaultSumw2()\n",
    "from root_numpy import *\n",
    "length = np.int(TT16gen_nSub_basis.shape[0])\n",
    "unfold_length = np.int(np.floor(0.8*length))"
   ]
  },
  {
   "cell_type": "code",
   "execution_count": null,
   "metadata": {},
   "outputs": [],
   "source": [
    "TT16truth_nSub_basis = TT16gen_nSub_basis[unfold_length:,:]\n",
    "TT16gen_nSub_basis = TT16gen_nSub_basis[:unfold_length,:]\n",
    "print TT16gen_nSub_basis.shape[0], TT16truth_nSub_basis.shape[0]\n",
    "\n",
    "TT16data_nSub_basis = TT16reco_nSub_basis[unfold_length:,:]\n",
    "TT16reco_nSub_basis = TT16reco_nSub_basis[:unfold_length,:]\n",
    "print TT16reco_nSub_basis.shape[0], TT16data_nSub_basis.shape[0]"
   ]
  },
  {
   "cell_type": "markdown",
   "metadata": {},
   "source": [
    "# Unfold ${\\tau_{2,1}^{(1)}}^\\mathrm{WTA}$"
   ]
  },
  {
   "cell_type": "markdown",
   "metadata": {
    "collapsed": true
   },
   "source": [
    "Get the response matrix and input 1D distributions for unfolding."
   ]
  },
  {
   "cell_type": "code",
   "execution_count": null,
   "metadata": {},
   "outputs": [],
   "source": [
    "print np.min(TT16gen_nSub_basis[:,4]/TT16gen_nSub_basis[:,1])\n",
    "print np.min(TT16reco_nSub_basis[:,4]/TT16reco_nSub_basis[:,1])\n",
    "print np.max(TT16gen_nSub_basis[:,4]/TT16gen_nSub_basis[:,1])\n",
    "print np.max(TT16reco_nSub_basis[:,4]/TT16reco_nSub_basis[:,1])"
   ]
  },
  {
   "cell_type": "markdown",
   "metadata": {
    "collapsed": true
   },
   "source": [
    "#### Set the axis ranges for the generator nd detector level distributions as well as the number of bins in each. Note that we want twice as many detector bins as generator level bins as recommended by the TUnfold documenation "
   ]
  },
  {
   "cell_type": "code",
   "execution_count": 47,
   "metadata": {},
   "outputs": [
    {
     "name": "stdout",
     "output_type": "stream",
     "text": [
      "[0.    0.025 0.15  0.2   0.25  0.3   0.35  0.4   0.45  0.5   0.55  0.6\n",
      " 0.65  0.7   0.75  0.8   0.85  0.9   1.   ] 19\n",
      "[0.        0.025     0.0875    0.15      0.1734375 0.196875  0.2203125\n",
      " 0.24375   0.2671875 0.290625  0.3140625 0.3375    0.3609375 0.384375\n",
      " 0.4078125 0.43125   0.4546875 0.478125  0.5015625 0.525     0.5484375\n",
      " 0.571875  0.5953125 0.61875   0.6421875 0.665625  0.6890625 0.7125\n",
      " 0.7359375 0.759375  0.7828125 0.80625   0.8296875 0.853125  0.8765625\n",
      " 0.9       1.       ] 37\n"
     ]
    }
   ],
   "source": [
    "gen_bins = [x for x in np.linspace(num=16, start=0.15, stop=0.9)]\n",
    "#print gen_bins\n",
    "gen_bins = np.concatenate((np.array([0., 0.025,]), gen_bins, np.array([1.])))\n",
    "print gen_bins, gen_bins.shape[0]\n",
    "\n",
    "det_bins = np.array([x for x in np.linspace(num=33, start=0.15, stop=0.9)])\n",
    "#print det_bins\n",
    "det_bins = np.concatenate((np.array([0., 0.025, 0.0875]), det_bins, np.array([1.])))\n",
    "print det_bins, det_bins.shape[0]"
   ]
  },
  {
   "cell_type": "code",
   "execution_count": null,
   "metadata": {},
   "outputs": [],
   "source": [
    "nDet=40\n",
    "nGen=20\n",
    "\n",
    "gen_bins = [x for x in np.linspace(num=17, start=0.14, stop=1.)]\n",
    "#print gen_bins\n",
    "gen_bins = np.concatenate((np.array([0., 0.05]), gen_bins, np.array([1.1, 1.2])))\n",
    "print gen_bins, gen_bins.shape[0]\n",
    "\n",
    "det_bins = np.array([x for x in np.linspace(num=33, start=0.14, stop=1.)])\n",
    "#print det_bins\n",
    "det_bins = np.concatenate((np.array([0., 0.025, 0.075 ]), det_bins, np.array([1.05, 1.1, 1.15, 1.2])))\n",
    "print det_bins, det_bins.shape[0]\n",
    "#nt_t  binnum = sizeof(bins)/sizeof(Float_t) - 1; // or just = 9\n",
    "#TH1F* h = new TH1F(\"n\",\"t\", binnum, bins);\n",
    "\n",
    "xminDet=0.\n",
    "xmaxDet=0.8\n",
    "xminGen=0.\n",
    "xmaxGen=0.8\n",
    "#weight_TT16 = (831.76*lumi*1000.)/10199051.*np.ones(TT16_beta4W.shape[0])*TT16_puWeight*TT16_btagWeight*0.8\n"
   ]
  },
  {
   "cell_type": "code",
   "execution_count": 48,
   "metadata": {},
   "outputs": [
    {
     "name": "stderr",
     "output_type": "stream",
     "text": [
      "Warning in <TFile::Append>: Replacing existing TH1: histMgenMC (Potential memory leak).\n",
      "Warning in <TFile::Append>: Replacing existing TH1: histMdetMC (Potential memory leak).\n",
      "Warning in <TFile::Append>: Replacing existing TH1: histMgenData (Potential memory leak).\n",
      "Warning in <TFile::Append>: Replacing existing TH1: histMdetData (Potential memory leak).\n",
      "Warning in <TFile::Append>: Replacing existing TH1: response (Potential memory leak).\n"
     ]
    }
   ],
   "source": [
    "ROOT.TH1.SetDefaultSumw2()\n",
    "from root_numpy import *\n",
    "\n",
    "histMgenMC = ROOT.TH1D(\"histMgenMC\", \"histMgenMC; #tau_{2}^{1}; Events/(0.02)\",  gen_bins.shape[0]-1, (gen_bins))\n",
    "fill_hist(histMgenMC, TT16gen_nSub_basis[:,4]/TT16gen_nSub_basis[:,1])\n",
    "\n",
    "histMdetMC = ROOT.TH1D(\"histMdetMC\", \"histMdetMC; #tau_{2}^{1}; Events/(0.02)\", det_bins.shape[0]-1, (det_bins))\n",
    "fill_hist(histMdetMC, TT16reco_nSub_basis[:,4]/TT16reco_nSub_basis[:,1])\n",
    "\n",
    "histMgenData = ROOT.TH1D(\"histMgenData\", \"histMgenData; #tau_{2}^{1}; Events/(0.02)\", gen_bins.shape[0]-1, (gen_bins))\n",
    "fill_hist(histMgenData, TT16truth_nSub_basis[:,4]/TT16truth_nSub_basis[:,1])\n",
    "\n",
    "histMdetData = ROOT.TH1D(\"histMdetData\", \"histMdetData; #tau_{2}^{1}; Events/(0.02)\", det_bins.shape[0]-1, (det_bins))\n",
    "fill_hist(histMdetData, TT16data_nSub_basis[:,4]/TT16data_nSub_basis[:,1])\n",
    "\n",
    "\n",
    "response = ROOT.TH2D('response', 'response', det_bins.shape[0]-1, det_bins, gen_bins.shape[0]-1, gen_bins)\n",
    "hist2Dfill = np.zeros(((TT16reco_nSub_basis[:,4]/TT16reco_nSub_basis[:,1]).shape[0], 2))\n",
    "hist2Dfill[:,0] = (TT16reco_nSub_basis[:,4]/TT16reco_nSub_basis[:,1]).flatten()\n",
    "hist2Dfill[:,1] = (TT16gen_nSub_basis[:,4]/TT16gen_nSub_basis[:,1]).flatten()\n",
    "fill_hist(response, hist2Dfill)"
   ]
  },
  {
   "cell_type": "raw",
   "metadata": {},
   "source": [
    "xaxis =  array.array('d',[a for a in xrange(nmbinsGen *nptbinsGen + 1 )])\n",
    "nx = len(xaxis)-1\n",
    "\n",
    "print xaxis\n",
    "\n",
    "yaxis =  array.array('d',[a for a in xrange(nmbinsDet *nptbinsDet+1 )])\n",
    "ny = len(yaxis)-1\n",
    "\n",
    "print yaxis\n",
    "\n",
    "h_response = ROOT.TH2D('h_response',   'h_response', nx , xaxis, ny, yaxis )\n",
    "#print h_response2.GetXaxis.GetNbins()\n",
    "print nx\n",
    "print ny\n",
    "nb = nx*ny\n",
    "print nb"
   ]
  },
  {
   "cell_type": "raw",
   "metadata": {
    "collapsed": true
   },
   "source": [
    "response =ROOT.gDirectory.Get(\"response\")\n",
    "histMgenMC=ROOT.gDirectory.Get(\"histMgenMC\")\n",
    "histMdetMC=ROOT.gDirectory.Get(\"histMdetMC\")\n",
    "histMgenData=ROOT.gDirectory.Get(\"histMgenData\")\n",
    "histMdetData=ROOT.gDirectory.Get(\"histMdetData\")"
   ]
  },
  {
   "cell_type": "markdown",
   "metadata": {
    "collapsed": true
   },
   "source": [
    "Set the X and Y axis labels"
   ]
  },
  {
   "cell_type": "code",
   "execution_count": 49,
   "metadata": {},
   "outputs": [],
   "source": [
    "response.SetTitle(\";#tau_{2,1}^{1}(det);#tau_{2,1}^{1}(gen)\")\n",
    "\n",
    "\n",
    "histMgenMC.SetTitle(\";#tau_{2,1}^{1}(gen)\")\n",
    "#histMgenMC.SetFillColor(ROOT.kRed)\n",
    "#histMgenMC.SetLineColor(ROOT.kRed)\n",
    "\n",
    "histMdetMC.SetTitle(\";#tau_{2,1}^{1}(det)\")\n",
    "#histMdetMC.SetFillColor(ROOT.kBlue)\n",
    "#histMdetMC.SetLineColor(ROOT.kBlue)\n",
    "\n",
    "\n",
    "histMgenData.SetTitle(\";#tau_{2,1}^{1}(gen)\")\n",
    "#histMgenData.SetFillColor(ROOT.kGreen+2)\n",
    "#histMgenData.SetLineColor(ROOT.kGreen+2)\n",
    "\n",
    "histMdetData.SetTitle(\";#tau_{2,1}^{1}(det)\")\n",
    "#histMdetData.SetFillColor(ROOT.kBlack)\n",
    "#histMdetData.SetLineColor(ROOT.kBlack)"
   ]
  },
  {
   "cell_type": "markdown",
   "metadata": {
    "collapsed": true
   },
   "source": [
    "Draw the variables at reco and gen level and for \"data\""
   ]
  },
  {
   "cell_type": "code",
   "execution_count": 50,
   "metadata": {},
   "outputs": [
    {
     "data": {
      "image/png": "[encoded data removed]",
      "text/plain": [
       "<IPython.core.display.Image object>"
      ]
     },
     "metadata": {},
     "output_type": "display_data"
    }
   ],
   "source": [
    "c1 = ROOT.TCanvas(\"chistMgenMC1\", \"chistMgenMC1\")\n",
    "histMgenMC.Draw(\"e\")\n",
    "histMdetMC.Draw(\"e same\")\n",
    "c1.Draw()"
   ]
  },
  {
   "cell_type": "code",
   "execution_count": 51,
   "metadata": {},
   "outputs": [
    {
     "name": "stderr",
     "output_type": "stream",
     "text": [
      "Warning in <TCanvas::Constructor>: Deleting canvas with same name: chistMgenMC1\n"
     ]
    },
    {
     "data": {
      "image/png": "[encoded data removed]",
      "text/plain": [
       "<IPython.core.display.Image object>"
      ]
     },
     "metadata": {},
     "output_type": "display_data"
    }
   ],
   "source": [
    "c1 = ROOT.TCanvas(\"chistMgenMC1\", \"chistMgenMC1\")\n",
    "histMgenData.Draw(\"e\")\n",
    "histMdetData.Draw(\"e same\")\n",
    "c1.Draw()"
   ]
  },
  {
   "cell_type": "markdown",
   "metadata": {
    "collapsed": true
   },
   "source": [
    "Draw the response matrix."
   ]
  },
  {
   "cell_type": "code",
   "execution_count": 52,
   "metadata": {
    "scrolled": false
   },
   "outputs": [
    {
     "data": {
      "image/png": "[encoded data removed]",
      "text/plain": [
       "<IPython.core.display.Image object>"
      ]
     },
     "metadata": {},
     "output_type": "display_data"
    }
   ],
   "source": [
    "c1 = ROOT.TCanvas(\"cresponse1\", \"cresponse1\")\n",
    "response.Draw(\"colz\")\n",
    "c1.Draw()"
   ]
  },
  {
   "cell_type": "code",
   "execution_count": 53,
   "metadata": {},
   "outputs": [],
   "source": [
    "#### In MC :"
   ]
  },
  {
   "cell_type": "code",
   "execution_count": 54,
   "metadata": {},
   "outputs": [
    {
     "name": "stderr",
     "output_type": "stream",
     "text": [
      "Warning in <TCanvas::Constructor>: Deleting canvas with same name: MCcompare\n"
     ]
    },
    {
     "data": {
      "image/png": "[encoded data removed]",
      "text/plain": [
       "<IPython.core.display.Image object>"
      ]
     },
     "metadata": {},
     "output_type": "display_data"
    }
   ],
   "source": [
    "c2 = ROOT.TCanvas(\"MCcompare\", \"MCcompare\")\n",
    "histMgenMC.Draw('e')\n",
    "histMdetMC.Draw('e same')\n",
    "c2.Draw()"
   ]
  },
  {
   "cell_type": "markdown",
   "metadata": {
    "collapsed": true
   },
   "source": [
    "#### In Data:"
   ]
  },
  {
   "cell_type": "code",
   "execution_count": 55,
   "metadata": {
    "scrolled": false
   },
   "outputs": [
    {
     "name": "stderr",
     "output_type": "stream",
     "text": [
      "Warning in <TCanvas::Constructor>: Deleting canvas with same name: datadists\n"
     ]
    },
    {
     "data": {
      "image/png": "[encoded data removed]",
      "text/plain": [
       "<IPython.core.display.Image object>"
      ]
     },
     "metadata": {},
     "output_type": "display_data"
    }
   ],
   "source": [
    "c3 = ROOT.TCanvas(\"datadists\", \"datadists\")\n",
    "histMgenData.Draw('e')\n",
    "histMdetData.Draw('e same')\n",
    "c3.Draw()"
   ]
  },
  {
   "cell_type": "code",
   "execution_count": 56,
   "metadata": {},
   "outputs": [
    {
     "name": "stdout",
     "output_type": "stream",
     "text": [
      "getting tunfolder:\n"
     ]
    },
    {
     "name": "stderr",
     "output_type": "stream",
     "text": [
      "Info in <TUnfold::SetConstraint>: fConstraint=0\n",
      "Warning in <TUnfold::TUnfold>: 3 output bins do not depend on the input data  0-1 19\n",
      "Info in <TUnfold::TUnfold>: 36 input bins and 17 output bins\n",
      "Info in <TUnfoldDensity::TUnfold>: *NOT* unfolding bin #0 (yaxis:#tau_{2,1}^{1}(gen)[ufl])\n",
      "Info in <TUnfoldDensity::TUnfold>: *NOT* unfolding bin #1 (yaxis:#tau_{2,1}^{1}(gen)[0,0.025])\n",
      "Info in <TUnfoldDensity::TUnfold>: *NOT* unfolding bin #19 (yaxis:#tau_{2,1}^{1}(gen)[ofl])\n",
      "Info in <TUnfoldDensity::RegularizeOneDistribution>: regularizing yaxis regMode=3 densityMode=1 axisSteering=*[UOB]\n"
     ]
    }
   ],
   "source": [
    "print 'getting tunfolder:'\n",
    "tunfolder = ROOT.TUnfoldDensity(response,ROOT.TUnfold.kHistMapOutputVert,ROOT.TUnfold.kRegModeCurvature, ROOT.TUnfold.kEConstraintNone, ROOT.TUnfoldDensity.kDensityModeBinWidth)"
   ]
  },
  {
   "cell_type": "markdown",
   "metadata": {
    "collapsed": true
   },
   "source": [
    "Set the input, a 1D reconstructed histogram from either MC (closure) or Data (measurement) , binned in the detector level binning."
   ]
  },
  {
   "cell_type": "code",
   "execution_count": 57,
   "metadata": {},
   "outputs": [
    {
     "name": "stdout",
     "output_type": "stream",
     "text": [
      "setting reco input\n"
     ]
    },
    {
     "data": {
      "text/plain": [
       "3"
      ]
     },
     "execution_count": 57,
     "metadata": {},
     "output_type": "execute_result"
    },
    {
     "name": "stderr",
     "output_type": "stream",
     "text": [
      "Warning in <TUnfoldDensity::SetInput>: 3/36 input bins have zero error, and are ignored.\n"
     ]
    }
   ],
   "source": [
    "print 'setting reco input'\n",
    "tunfolder.SetInput( histMdetData )"
   ]
  },
  {
   "cell_type": "markdown",
   "metadata": {},
   "source": [
    "Unfold nScan times with values for the regularization parameter between tauMin and tauMax using the empty TSplines to store the results."
   ]
  },
  {
   "cell_type": "code",
   "execution_count": null,
   "metadata": {},
   "outputs": [],
   "source": [
    "print 'regularizing'\n",
    "nScan=55\n",
    "tauMin=-3.0\n",
    "tauMax=3.0\n",
    "iBest=0\n",
    "\n",
    "logTauX = ROOT.MakeNullPointer(ROOT.TSpline)\n",
    "logTauY = ROOT.MakeNullPointer(ROOT.TSpline)\n",
    "lCurve = ROOT.MakeNullPointer(ROOT.TGraph)\n",
    "\n",
    "print 'doing the unfolding'\n",
    "tunfolder.ScanLcurve(nScan,tauMin,tauMax,lCurve,logTauX,logTauY);\n",
    "print 'getting the results'\n",
    "unfolded = tunfolder.GetOutput(\"unfolded\")"
   ]
  },
  {
   "cell_type": "code",
   "execution_count": 59,
   "metadata": {},
   "outputs": [
    {
     "name": "stderr",
     "output_type": "stream",
     "text": [
      "Warning in <TCanvas::Constructor>: Deleting canvas with same name: c5\n"
     ]
    },
    {
     "data": {
      "image/png": "[encoded data removed]",
      "text/plain": [
       "<IPython.core.display.Image object>"
      ]
     },
     "metadata": {},
     "output_type": "display_data"
    }
   ],
   "source": [
    "c5 = ROOT.TCanvas('c5', 'c5')\n",
    "unfolded.SetMarkerStyle(22)\n",
    "unfolded.SetMarkerColor(4)\n",
    "unfolded.SetFillColor(0)\n",
    "histMgenData.SetMarkerStyle(4)\n",
    "histMgenData.SetMarkerColor(2)\n",
    "histMgenData.SetOption(\"E\")\n",
    "histMgenData.SetLineColor(2)\n",
    "\n",
    "hs = ROOT.THStack(\"hs\", \"hs\")\n",
    "hs.SetMaximum(3000)\n",
    "hs.Add( histMgenData, \"E HIST\")\n",
    "hs.Add( unfolded, \"E\")\n",
    "hs.Draw(\"nostack\")\n",
    "c5.Draw()"
   ]
  },
  {
   "cell_type": "code",
   "execution_count": null,
   "metadata": {},
   "outputs": [],
   "source": []
  },
  {
   "cell_type": "code",
   "execution_count": null,
   "metadata": {},
   "outputs": [],
   "source": []
  },
  {
   "cell_type": "code",
   "execution_count": null,
   "metadata": {},
   "outputs": [],
   "source": []
  },
  {
   "cell_type": "code",
   "execution_count": null,
   "metadata": {},
   "outputs": [],
   "source": []
  },
  {
   "cell_type": "code",
   "execution_count": null,
   "metadata": {},
   "outputs": [],
   "source": []
  },
  {
   "cell_type": "markdown",
   "metadata": {},
   "source": [
    "# Unfold $\\tau_{3,2}^{(1)}$"
   ]
  },
  {
   "cell_type": "markdown",
   "metadata": {
    "collapsed": true
   },
   "source": [
    "Get the response matrix and input 1D distributions for unfolding."
   ]
  },
  {
   "cell_type": "code",
   "execution_count": 101,
   "metadata": {},
   "outputs": [
    {
     "name": "stdout",
     "output_type": "stream",
     "text": [
      "0.08787534982850352\n",
      "0.17116626722758224\n",
      "1.2580072846928279\n",
      "1.3205553002610062\n"
     ]
    }
   ],
   "source": [
    "print np.min(TT16gen_nSub_basis[:,7]/TT16gen_nSub_basis[:,4])\n",
    "print np.min(TT16reco_nSub_basis[:,7]/TT16reco_nSub_basis[:,4])\n",
    "print np.max(TT16gen_nSub_basis[:,7]/TT16gen_nSub_basis[:,4])\n",
    "print np.max(TT16reco_nSub_basis[:,7]/TT16reco_nSub_basis[:,4])"
   ]
  },
  {
   "cell_type": "markdown",
   "metadata": {
    "collapsed": true
   },
   "source": [
    "#### Set the axis ranges for the generator nd detector level distributions as well as the number of bins in each. Note that we want twice as many detector bins as generator level bins as recommended by the TUnfold documenation "
   ]
  },
  {
   "cell_type": "code",
   "execution_count": 115,
   "metadata": {},
   "outputs": [],
   "source": [
    "nDet=30\n",
    "nGen=15\n",
    "xminDet=0.0\n",
    "xmaxDet=1.4\n",
    "xminGen=0.0\n",
    "xmaxGen=1.4\n",
    "#weight_TT16 = (831.76*lumi*1000.)/10199051.*np.ones(TT16_beta4W.shape[0])*TT16_puWeight*TT16_btagWeight*0.8\n"
   ]
  },
  {
   "cell_type": "code",
   "execution_count": 116,
   "metadata": {},
   "outputs": [
    {
     "name": "stderr",
     "output_type": "stream",
     "text": [
      "Warning in <TFile::Append>: Replacing existing TH1: histMgenMC (Potential memory leak).\n",
      "Warning in <TFile::Append>: Replacing existing TH1: histMdetMC (Potential memory leak).\n",
      "Warning in <TFile::Append>: Replacing existing TH1: histMgenData (Potential memory leak).\n",
      "Warning in <TFile::Append>: Replacing existing TH1: histMdetData (Potential memory leak).\n",
      "Warning in <TFile::Append>: Replacing existing TH1: response (Potential memory leak).\n"
     ]
    }
   ],
   "source": [
    "ROOT.TH1.SetDefaultSumw2()\n",
    "from root_numpy import *\n",
    "\n",
    "histMgenMC = ROOT.TH1D(\"histMgenMC\", \"histMgenMC; #tau_{2}^{1}; Events/(0.02)\", nGen, xminGen,xmaxGen)\n",
    "fill_hist(histMgenMC, TT16gen_nSub_basis[:,7]/TT16gen_nSub_basis[:,4])\n",
    "\n",
    "histMdetMC = ROOT.TH1D(\"histMdetMC\", \"histMdetMC; #tau_{2}^{1}; Events/(0.02)\", nDet, xminDet,xmaxDet)\n",
    "fill_hist(histMdetMC, TT16reco_nSub_basis[:,7]/TT16reco_nSub_basis[:,4])\n",
    "\n",
    "histMgenData = ROOT.TH1D(\"histMgenData\", \"histMgenData; #tau_{2}^{1}; Events/(0.02)\", nGen, xminGen,xmaxGen)\n",
    "fill_hist(histMgenData, TT16truth_nSub_basis[:,7]/TT16truth_nSub_basis[:,4])\n",
    "\n",
    "histMdetData = ROOT.TH1D(\"histMdetData\", \"histMdetData; #tau_{2}^{1}; Events/(0.02)\", nDet, xminDet,xmaxDet)\n",
    "fill_hist(histMdetData, TT16data_nSub_basis[:,7]/TT16data_nSub_basis[:,4])\n",
    "\n",
    "\n",
    "response = ROOT.TH2D('response', 'response', nDet, xminDet, xmaxDet, nGen, xminGen, xmaxGen)\n",
    "hist2Dfill = np.zeros(((TT16reco_nSub_basis[:,7]/TT16reco_nSub_basis[:,4]).shape[0], 2))\n",
    "hist2Dfill[:,0] = (TT16reco_nSub_basis[:,7]/TT16reco_nSub_basis[:,4]).flatten()\n",
    "hist2Dfill[:,1] = (TT16gen_nSub_basis[:,7]/TT16gen_nSub_basis[:,4]).flatten()\n",
    "fill_hist(response, hist2Dfill)"
   ]
  },
  {
   "cell_type": "raw",
   "metadata": {},
   "source": [
    "xaxis =  array.array('d',[a for a in xrange(nmbinsGen *nptbinsGen + 1 )])\n",
    "nx = len(xaxis)-1\n",
    "\n",
    "print xaxis\n",
    "\n",
    "yaxis =  array.array('d',[a for a in xrange(nmbinsDet *nptbinsDet+1 )])\n",
    "ny = len(yaxis)-1\n",
    "\n",
    "print yaxis\n",
    "\n",
    "h_response = ROOT.TH2D('h_response',   'h_response', nx , xaxis, ny, yaxis )\n",
    "#print h_response2.GetXaxis.GetNbins()\n",
    "print nx\n",
    "print ny\n",
    "nb = nx*ny\n",
    "print nb"
   ]
  },
  {
   "cell_type": "raw",
   "metadata": {
    "collapsed": true
   },
   "source": [
    "response =ROOT.gDirectory.Get(\"response\")\n",
    "histMgenMC=ROOT.gDirectory.Get(\"histMgenMC\")\n",
    "histMdetMC=ROOT.gDirectory.Get(\"histMdetMC\")\n",
    "histMgenData=ROOT.gDirectory.Get(\"histMgenData\")\n",
    "histMdetData=ROOT.gDirectory.Get(\"histMdetData\")"
   ]
  },
  {
   "cell_type": "markdown",
   "metadata": {
    "collapsed": true
   },
   "source": [
    "Set the X and Y axis labels"
   ]
  },
  {
   "cell_type": "code",
   "execution_count": 117,
   "metadata": {},
   "outputs": [],
   "source": [
    "response.SetTitle(\";#tau_{3,2}^{1}(det);#tau_{3,2}^{1}(gen)\")\n",
    "\n",
    "\n",
    "histMgenMC.SetTitle(\";#tau_{3,2}^{1}(gen)\")\n",
    "#histMgenMC.SetFillColor(ROOT.kRed)\n",
    "#histMgenMC.SetLineColor(ROOT.kRed)\n",
    "\n",
    "histMdetMC.SetTitle(\";#tau_{3,2}^{1}(det)\")\n",
    "#histMdetMC.SetFillColor(ROOT.kBlue)\n",
    "#histMdetMC.SetLineColor(ROOT.kBlue)\n",
    "\n",
    "\n",
    "histMgenData.SetTitle(\";#tau_{3,2}^{1}(gen)\")\n",
    "#histMgenData.SetFillColor(ROOT.kGreen+2)\n",
    "#histMgenData.SetLineColor(ROOT.kGreen+2)\n",
    "\n",
    "histMdetData.SetTitle(\";#tau_{3,2}^{1}(det)\")\n",
    "#histMdetData.SetFillColor(ROOT.kBlack)\n",
    "#histMdetData.SetLineColor(ROOT.kBlack)"
   ]
  },
  {
   "cell_type": "markdown",
   "metadata": {
    "collapsed": true
   },
   "source": [
    "Draw the variables at reco and gen level and for \"data\""
   ]
  },
  {
   "cell_type": "code",
   "execution_count": 118,
   "metadata": {},
   "outputs": [
    {
     "data": {
      "image/png": "[encoded data removed]",
      "text/plain": [
       "<IPython.core.display.Image object>"
      ]
     },
     "metadata": {},
     "output_type": "display_data"
    }
   ],
   "source": [
    "c1 = ROOT.TCanvas(\"chistMgenMC1\", \"chistMgenMC1\")\n",
    "histMgenMC.Draw(\"e\")\n",
    "histMdetMC.Draw(\"e same\")\n",
    "c1.Draw()"
   ]
  },
  {
   "cell_type": "code",
   "execution_count": 119,
   "metadata": {},
   "outputs": [
    {
     "name": "stderr",
     "output_type": "stream",
     "text": [
      "Warning in <TCanvas::Constructor>: Deleting canvas with same name: chistMgenMC1\n"
     ]
    },
    {
     "data": {
      "image/png": "[encoded data removed]",
      "text/plain": [
       "<IPython.core.display.Image object>"
      ]
     },
     "metadata": {},
     "output_type": "display_data"
    }
   ],
   "source": [
    "c1 = ROOT.TCanvas(\"chistMgenMC1\", \"chistMgenMC1\")\n",
    "histMgenData.Draw(\"e\")\n",
    "histMdetData.Draw(\"e same\")\n",
    "c1.Draw()"
   ]
  },
  {
   "cell_type": "markdown",
   "metadata": {
    "collapsed": true
   },
   "source": [
    "Draw the response matrix."
   ]
  },
  {
   "cell_type": "code",
   "execution_count": 120,
   "metadata": {
    "scrolled": false
   },
   "outputs": [
    {
     "data": {
      "image/png": "[encoded data removed]",
      "text/plain": [
       "<IPython.core.display.Image object>"
      ]
     },
     "metadata": {},
     "output_type": "display_data"
    }
   ],
   "source": [
    "c1 = ROOT.TCanvas(\"cresponse1\", \"cresponse1\")\n",
    "response.Draw(\"colz\")\n",
    "c1.Draw()"
   ]
  },
  {
   "cell_type": "code",
   "execution_count": 121,
   "metadata": {},
   "outputs": [],
   "source": [
    "#### In MC :"
   ]
  },
  {
   "cell_type": "code",
   "execution_count": 122,
   "metadata": {},
   "outputs": [
    {
     "name": "stderr",
     "output_type": "stream",
     "text": [
      "Warning in <TCanvas::Constructor>: Deleting canvas with same name: MCcompare\n"
     ]
    },
    {
     "data": {
      "image/png": "[encoded data removed]",
      "text/plain": [
       "<IPython.core.display.Image object>"
      ]
     },
     "metadata": {},
     "output_type": "display_data"
    }
   ],
   "source": [
    "c2 = ROOT.TCanvas(\"MCcompare\", \"MCcompare\")\n",
    "histMgenMC.Draw('e')\n",
    "histMdetMC.Draw('e same')\n",
    "c2.Draw()"
   ]
  },
  {
   "cell_type": "markdown",
   "metadata": {
    "collapsed": true
   },
   "source": [
    "#### In Data:"
   ]
  },
  {
   "cell_type": "code",
   "execution_count": 123,
   "metadata": {
    "scrolled": false
   },
   "outputs": [
    {
     "name": "stderr",
     "output_type": "stream",
     "text": [
      "Warning in <TCanvas::Constructor>: Deleting canvas with same name: datadists\n"
     ]
    },
    {
     "data": {
      "image/png": "[encoded data removed]",
      "text/plain": [
       "<IPython.core.display.Image object>"
      ]
     },
     "metadata": {},
     "output_type": "display_data"
    }
   ],
   "source": [
    "c3 = ROOT.TCanvas(\"datadists\", \"datadists\")\n",
    "histMgenData.Draw('e')\n",
    "histMdetData.Draw('e same')\n",
    "c3.Draw()"
   ]
  },
  {
   "cell_type": "code",
   "execution_count": 124,
   "metadata": {},
   "outputs": [
    {
     "name": "stdout",
     "output_type": "stream",
     "text": [
      "getting tunfolder:\n"
     ]
    },
    {
     "name": "stderr",
     "output_type": "stream",
     "text": [
      "Info in <TUnfold::SetConstraint>: fConstraint=0\n",
      "Warning in <TUnfold::TUnfold>: 3 output bins do not depend on the input data  0 15-16\n",
      "Info in <TUnfold::TUnfold>: 30 input bins and 14 output bins\n",
      "Info in <TUnfoldDensity::TUnfold>: *NOT* unfolding bin #0 (yaxis:#tau_{3,2}^{1}(gen)[ufl])\n",
      "Info in <TUnfoldDensity::TUnfold>: *NOT* unfolding bin #15 (yaxis:#tau_{3,2}^{1}(gen)[1.31,1.4])\n",
      "Info in <TUnfoldDensity::TUnfold>: *NOT* unfolding bin #16 (yaxis:#tau_{3,2}^{1}(gen)[ofl])\n",
      "Info in <TUnfoldDensity::RegularizeOneDistribution>: regularizing yaxis regMode=3 densityMode=1 axisSteering=*[UOB]\n"
     ]
    }
   ],
   "source": [
    "print 'getting tunfolder:'\n",
    "tunfolder = ROOT.TUnfoldDensity(response,ROOT.TUnfold.kHistMapOutputVert,ROOT.TUnfold.kRegModeCurvature, ROOT.TUnfold.kEConstraintNone, ROOT.TUnfoldDensity.kDensityModeBinWidth)"
   ]
  },
  {
   "cell_type": "markdown",
   "metadata": {
    "collapsed": true
   },
   "source": [
    "Set the input, a 1D reconstructed histogram from either MC (closure) or Data (measurement) , binned in the detector level binning."
   ]
  },
  {
   "cell_type": "code",
   "execution_count": 125,
   "metadata": {},
   "outputs": [
    {
     "name": "stdout",
     "output_type": "stream",
     "text": [
      "setting reco input\n"
     ]
    },
    {
     "data": {
      "text/plain": [
       "8"
      ]
     },
     "execution_count": 125,
     "metadata": {},
     "output_type": "execute_result"
    },
    {
     "name": "stderr",
     "output_type": "stream",
     "text": [
      "Warning in <TUnfoldDensity::SetInput>: 8/30 input bins have zero error, and are ignored.\n"
     ]
    }
   ],
   "source": [
    "print 'setting reco input'\n",
    "tunfolder.SetInput( histMdetData )"
   ]
  },
  {
   "cell_type": "markdown",
   "metadata": {},
   "source": [
    "Unfold nScan times with values for the regularization parameter between tauMin and tauMax using the empty TSplines to store the results."
   ]
  },
  {
   "cell_type": "code",
   "execution_count": 126,
   "metadata": {},
   "outputs": [
    {
     "name": "stdout",
     "output_type": "stream",
     "text": [
      "regularizing\n",
      "doing the unfolding\n",
      "getting the results\n"
     ]
    },
    {
     "name": "stderr",
     "output_type": "stream",
     "text": [
      "Info in <TUnfoldDensity::ScanLcurve>: logtau=-Infinity X=0.815242 Y=8.535162\n",
      "Info in <TUnfoldDensity::ScanLcurve>: logtau=-3.671926 X=0.891893 Y=7.771180\n",
      "Info in <TUnfoldDensity::ScanLcurve>: logtau=-4.171926 X=0.832256 Y=8.108164\n",
      "Info in <TUnfoldDensity::ScanLcurve>: logtau=-4.671926 X=0.816208 Y=8.434336\n",
      "Info in <TUnfoldDensity::ScanLcurve>: logtau=-3.921926 X=0.854384 Y=7.925484\n",
      "Info in <TUnfoldDensity::ScanLcurve>: logtau=-4.421926 X=0.820431 Y=8.297359\n",
      "Info in <TUnfoldDensity::ScanLcurve>: logtau=-4.296926 X=0.825202 Y=8.205218\n",
      "Info in <TUnfoldDensity::ScanLcurve>: logtau=-4.046926 X=0.841854 Y=8.013540\n",
      "Info in <TUnfoldDensity::ScanLcurve>: logtau=-3.796926 X=0.870595 Y=7.845136\n",
      "Info in <TUnfoldDensity::ScanLcurve>: logtau=-4.546926 X=0.817617 Y=8.375559\n",
      "Info in <TUnfoldDensity::ScanLcurve>: logtau=-4.234426 X=0.828429 Y=8.156765\n",
      "Info in <TUnfoldDensity::ScanLcurve>: logtau=-4.109426 X=0.836717 Y=8.060224\n",
      "Info in <TUnfoldDensity::ScanLcurve>: logtau=-4.359426 X=0.822546 Y=8.252483\n",
      "Info in <TUnfoldDensity::ScanLcurve>: logtau=-3.984426 X=0.847719 Y=7.968542\n",
      "Info in <TUnfoldDensity::ScanLcurve>: logtau=-3.859426 X=0.861957 Y=7.884403\n",
      "Info in <TUnfoldDensity::ScanLcurve>: logtau=-4.484426 X=0.818809 Y=8.338686\n",
      "Info in <TUnfoldDensity::ScanLcurve>: logtau=-3.734426 X=0.880504 Y=7.807436\n",
      "Info in <TUnfoldDensity::ScanLcurve>: logtau=-4.609426 X=0.816777 Y=8.407469\n",
      "Info in <TUnfoldDensity::ScanLcurve>: logtau=-4.203176 X=0.830266 Y=8.132427\n",
      "Info in <TUnfoldDensity::ScanLcurve>: logtau=-4.265676 X=0.826742 Y=8.181070\n",
      "Info in <TUnfoldDensity::ScanLcurve>: logtau=-4.140676 X=0.834405 Y=8.084070\n",
      "Info in <TUnfoldDensity::ScanLcurve>: logtau=-4.328176 X=0.823804 Y=8.229072\n",
      "Info in <TUnfoldDensity::ScanLcurve>: logtau=-4.078176 X=0.839198 Y=8.036695\n",
      "Info in <TUnfoldDensity::ScanLcurve>: logtau=-4.015676 X=0.844691 Y=7.990810\n",
      "Info in <TUnfoldDensity::ScanLcurve>: logtau=-4.390676 X=0.821424 Y=8.275296\n",
      "Info in <TUnfoldDensity::ScanLcurve>: logtau=-3.953176 X=0.850946 Y=7.946762\n",
      "Info in <TUnfoldDensity::ScanLcurve>: logtau=-3.890676 X=0.858048 Y=7.904703\n",
      "Info in <TUnfoldDensity::ScanLcurve>: logtau=-4.453176 X=0.819562 Y=8.318531\n",
      "Info in <TUnfoldDensity::ScanLcurve>: logtau=-3.828176 X=0.866130 Y=7.864558\n",
      "Info in <TUnfoldDensity::ScanLcurve>: logtau=-3.765676 X=0.875377 Y=7.826103\n",
      "Info in <TUnfoldDensity::ScanLcurve>: logtau=-3.703176 X=0.886002 Y=7.789126\n",
      "Info in <TUnfoldDensity::ScanLcurve>: logtau=-4.515676 X=0.818164 Y=8.357721\n",
      "Info in <TUnfoldDensity::ScanLcurve>: logtau=-4.578176 X=0.817158 Y=8.392149\n",
      "Info in <TUnfoldDensity::ScanLcurve>: logtau=-4.640676 X=0.816463 Y=8.421524\n",
      "Info in <TUnfoldDensity::ScanLcurve>: logtau=-4.218801 X=0.829328 Y=8.144593\n",
      "Info in <TUnfoldDensity::ScanLcurve>: logtau=-4.250051 X=0.827567 Y=8.168929\n",
      "Info in <TUnfoldDensity::ScanLcurve>: logtau=-4.187551 X=0.831242 Y=8.120280\n",
      "Info in <TUnfoldDensity::ScanLcurve>: logtau=-4.281301 X=0.825954 Y=8.193172\n",
      "Info in <TUnfoldDensity::ScanLcurve>: logtau=-4.156301 X=0.833311 Y=8.096091\n",
      "Info in <TUnfoldDensity::ScanLcurve>: logtau=-4.125051 X=0.835540 Y=8.072112\n",
      "Info in <TUnfoldDensity::ScanLcurve>: logtau=-4.312551 X=0.824485 Y=8.217191\n",
      "Info in <TUnfoldDensity::ScanLcurve>: logtau=-4.093801 X=0.837936 Y=8.048416\n",
      "Info in <TUnfoldDensity::ScanLcurve>: logtau=-4.343801 X=0.823158 Y=8.240842\n",
      "Info in <TUnfoldDensity::ScanLcurve>: logtau=-4.062551 X=0.840503 Y=8.025067\n",
      "Info in <TUnfoldDensity::ScanLcurve>: logtau=-4.031301 X=0.843249 Y=8.002119\n",
      "Info in <TUnfoldDensity::ScanLcurve>: logtau=-4.375051 X=0.821968 Y=8.263973\n",
      "Info in <TUnfoldDensity::ScanLcurve>: logtau=-4.000051 X=0.846181 Y=7.979616\n",
      "Info in <TUnfoldDensity::ScanLcurve>: logtau=-4.406301 X=0.820911 Y=8.286430\n",
      "Info in <TUnfoldDensity::ScanLcurve>: logtau=-3.968801 X=0.849307 Y=7.957590\n",
      "Info in <TUnfoldDensity::ScanLcurve>: logtau=-3.937551 X=0.852638 Y=7.936060\n",
      "Info in <TUnfoldDensity::ScanLcurve>: Result logtau=-3.750051 X=0.877895 Y=7.816725\n",
      "Warning in <TFile::Append>: Replacing existing TH1: unfolded (Potential memory leak).\n"
     ]
    }
   ],
   "source": [
    "print 'regularizing'\n",
    "nScan=50\n",
    "tauMin=-4.0\n",
    "tauMax=4.0\n",
    "iBest=0\n",
    "\n",
    "logTauX = ROOT.MakeNullPointer(ROOT.TSpline)\n",
    "logTauY = ROOT.MakeNullPointer(ROOT.TSpline)\n",
    "lCurve = ROOT.MakeNullPointer(ROOT.TGraph)\n",
    "\n",
    "print 'doing the unfolding'\n",
    "tunfolder.ScanLcurve(nScan,tauMin,tauMax,lCurve,logTauX,logTauY);\n",
    "print 'getting the results'\n",
    "unfolded = tunfolder.GetOutput(\"unfolded\")"
   ]
  },
  {
   "cell_type": "code",
   "execution_count": null,
   "metadata": {},
   "outputs": [],
   "source": []
  },
  {
   "cell_type": "code",
   "execution_count": 127,
   "metadata": {},
   "outputs": [
    {
     "name": "stderr",
     "output_type": "stream",
     "text": [
      "Warning in <TCanvas::Constructor>: Deleting canvas with same name: c5\n"
     ]
    },
    {
     "data": {
      "image/png": "[encoded data removed]",
      "text/plain": [
       "<IPython.core.display.Image object>"
      ]
     },
     "metadata": {},
     "output_type": "display_data"
    }
   ],
   "source": [
    "c5 = ROOT.TCanvas('c5', 'c5')\n",
    "unfolded.SetMarkerStyle(22)\n",
    "unfolded.SetMarkerColor(4)\n",
    "unfolded.SetFillColor(0)\n",
    "histMgenData.SetMarkerStyle(4)\n",
    "histMgenData.SetMarkerColor(2)\n",
    "histMgenData.SetOption(\"E\")\n",
    "histMgenData.SetLineColor(2)\n",
    "\n",
    "hs = ROOT.THStack(\"hs\", \"hs\")\n",
    "hs.Add( histMgenData, \"E HIST\")\n",
    "hs.Add( unfolded, \"E\")\n",
    "hs.Draw(\"nostack\")\n",
    "c5.Draw()"
   ]
  },
  {
   "cell_type": "code",
   "execution_count": null,
   "metadata": {},
   "outputs": [],
   "source": []
  },
  {
   "cell_type": "code",
   "execution_count": null,
   "metadata": {},
   "outputs": [],
   "source": []
  },
  {
   "cell_type": "code",
   "execution_count": null,
   "metadata": {},
   "outputs": [],
   "source": []
  },
  {
   "cell_type": "code",
   "execution_count": null,
   "metadata": {},
   "outputs": [],
   "source": []
  },
  {
   "cell_type": "code",
   "execution_count": null,
   "metadata": {},
   "outputs": [],
   "source": []
  }
 ],
 "metadata": {
  "kernelspec": {
   "display_name": "Python 2",
   "language": "python",
   "name": "python2"
  },
  "language_info": {
   "codemirror_mode": {
    "name": "ipython",
    "version": 2
   },
   "file_extension": ".py",
   "mimetype": "text/x-python",
   "name": "python",
   "nbconvert_exporter": "python",
   "pygments_lexer": "ipython2",
   "version": "2.7.15"
  }
 },
 "nbformat": 4,
 "nbformat_minor": 2
}
