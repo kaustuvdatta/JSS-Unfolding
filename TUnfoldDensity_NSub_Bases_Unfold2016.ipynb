{
 "cells": [
  {
   "cell_type": "markdown",
   "metadata": {},
   "source": [
    "# Exploring the phase space of a jet: 1-D Unfolding  (for now)"
   ]
  },
  {
   "cell_type": "markdown",
   "metadata": {},
   "source": [
    "## Unfolding the the $N$-subjettiness bases in semileptonic $t\\bar{t}$ events at $\\sqrt{s} = 13$ TeV"
   ]
  },
  {
   "cell_type": "markdown",
   "metadata": {},
   "source": [
    "#### Firstly , import the ROOT data analysis framework which will be used to read the data files and unfold the final result. "
   ]
  },
  {
   "cell_type": "code",
   "execution_count": 11,
   "metadata": {},
   "outputs": [],
   "source": [
    "import ROOT\n",
    "import array as array\n",
    "import os\n",
    "import glob\n",
    "import ROOT\n",
    "from ROOT import TH1D, TH2D, TTree,TFile\n",
    "from random import gauss\n",
    "import numpy as np\n",
    "import root_numpy as rtnpy\n",
    "import h5py\n",
    "from awkward import JaggedArray, Table\n",
    "import matplotlib.pyplot as plt"
   ]
  },
  {
   "cell_type": "markdown",
   "metadata": {
    "collapsed": true
   },
   "source": [
    "#### Save a nametag describing the selection applied to events being read from the input file below. This is used to name the saved plots."
   ]
  },
  {
   "cell_type": "code",
   "execution_count": 2,
   "metadata": {},
   "outputs": [],
   "source": [
    "nametag = 'Selection from AN-19-074'"
   ]
  },
  {
   "cell_type": "code",
   "execution_count": 3,
   "metadata": {
    "scrolled": true
   },
   "outputs": [
    {
     "name": "stdout",
     "output_type": "stream",
     "text": [
      "35.92\n"
     ]
    }
   ],
   "source": [
    "lumi = 5.75+2.57+4.24+4.03+3.11+7.57+8.65 #B+C+D+E+F+G+H\n",
    "print (lumi)\n",
    "ptmin = 200.\n",
    "ptmax = 1500.\n",
    "mSDmin = 65.\n",
    "mSDmax = 125.\n",
    "leptWpTmin = 200."
   ]
  },
  {
   "cell_type": "markdown",
   "metadata": {},
   "source": [
    "#### Below the input Monte Carlo simulation events are read from the file which only contains events meeting the skim criteria set forth in this __[script](https://github.com/kaustuvdatta/jetObservables/blob/102X/python/nSubProducer_gen_reco.py)__\n"
   ]
  },
  {
   "cell_type": "markdown",
   "metadata": {},
   "source": [
    "### Using Powheg+Pythia8 samples as gen and MC and 2016 data"
   ]
  },
  {
   "cell_type": "code",
   "execution_count": 4,
   "metadata": {
    "scrolled": true
   },
   "outputs": [
    {
     "name": "stdout",
     "output_type": "stream",
     "text": [
      "577\n",
      "0\n",
      "on file 5\n",
      "on file 10\n",
      "on file 15\n",
      "on file 20\n",
      "on file 25\n",
      "on file 30\n",
      "on file 35\n",
      "on file 40\n",
      "on file 45\n",
      "on file 50\n",
      "on file 55\n",
      "on file 60\n",
      "on file 65\n",
      "on file 70\n",
      "on file 75\n",
      "on file 80\n",
      "on file 85\n",
      "on file 90\n",
      "on file 95\n",
      "on file 100\n",
      "on file 105\n",
      "on file 110\n",
      "on file 115\n",
      "on file 120\n",
      "on file 125\n",
      "on file 130\n",
      "on file 135\n",
      "on file 140\n",
      "on file 145\n",
      "on file 150\n",
      "on file 155\n",
      "on file 160\n",
      "on file 165\n",
      "on file 170\n",
      "on file 175\n",
      "on file 180\n",
      "on file 185\n",
      "on file 190\n",
      "on file 195\n",
      "on file 200\n",
      "on file 205\n",
      "on file 210\n",
      "on file 215\n",
      "on file 220\n",
      "on file 225\n",
      "on file 230\n",
      "on file 235\n",
      "on file 240\n",
      "on file 245\n",
      "on file 250\n",
      "on file 255\n",
      "on file 260\n",
      "on file 265\n",
      "on file 270\n",
      "on file 275\n",
      "on file 280\n",
      "on file 285\n",
      "on file 290\n",
      "on file 295\n",
      "on file 300\n",
      "on file 305\n",
      "on file 310\n",
      "on file 315\n",
      "on file 320\n",
      "on file 325\n",
      "on file 330\n",
      "on file 335\n",
      "on file 340\n",
      "on file 345\n",
      "on file 350\n",
      "on file 355\n",
      "on file 360\n",
      "on file 365\n",
      "on file 370\n",
      "on file 375\n",
      "on file 380\n",
      "on file 385\n",
      "on file 390\n",
      "on file 395\n",
      "on file 400\n",
      "on file 405\n",
      "on file 410\n",
      "on file 415\n",
      "on file 420\n",
      "on file 425\n",
      "on file 430\n",
      "on file 435\n",
      "on file 440\n",
      "on file 445\n",
      "on file 450\n",
      "on file 455\n",
      "on file 460\n",
      "on file 465\n",
      "on file 470\n",
      "on file 475\n",
      "on file 480\n",
      "on file 485\n",
      "on file 490\n",
      "on file 495\n",
      "on file 500\n",
      "on file 505\n",
      "on file 510\n",
      "on file 515\n",
      "on file 520\n",
      "on file 525\n",
      "on file 530\n",
      "on file 535\n",
      "on file 540\n",
      "on file 545\n",
      "on file 550\n",
      "on file 555\n",
      "on file 560\n",
      "on file 565\n",
      "on file 570\n",
      "on file 575\n"
     ]
    },
    {
     "name": "stderr",
     "output_type": "stream",
     "text": [
      "Warning in <TClass::Init>: no dictionary for class edm::ProcessHistory is available\n",
      "Warning in <TClass::Init>: no dictionary for class edm::ProcessConfiguration is available\n",
      "Warning in <TClass::Init>: no dictionary for class edm::ParameterSetBlob is available\n",
      "Warning in <TClass::Init>: no dictionary for class edm::Hash<1> is available\n",
      "Warning in <TClass::Init>: no dictionary for class pair<edm::Hash<1>,edm::ParameterSetBlob> is available\n"
     ]
    }
   ],
   "source": [
    "filelist = []\n",
    "path = '../AutoObs/CMS/New_Sel/TTrecogen/1/*.root'\n",
    "files=glob.glob(path)   \n",
    "for f in files:     \n",
    "    filelist.append(f)\n",
    "        \n",
    "print (len(filelist))\n",
    "dataset = []\n",
    "c=0\n",
    "for f in filelist:\n",
    "    F = ROOT.TFile.Open(f, 'read')\n",
    "    \n",
    "    T = F.Get(\"Events\");\n",
    "    \n",
    "    \n",
    "    \n",
    "    \n",
    "    \n",
    "    data = rtnpy. tree2array(T, branches=['goodrecojet0_softdrop_mass',\n",
    "                                      'goodrecojet0_tau_0p5_0','goodrecojet0_tau_1_0','goodrecojet0_tau_2_0',\n",
    "                                      'goodrecojet0_tau_0p5_1','goodrecojet0_tau_1_1','goodrecojet0_tau_2_1',\n",
    "                                      'goodrecojet0_tau_0p5_2','goodrecojet0_tau_1_2','goodrecojet0_tau_2_2',\n",
    "                                      'goodrecojet0_tau_0p5_3','goodrecojet0_tau_1_3','goodrecojet0_tau_2_3',\n",
    "                                      'goodrecojet0_tau_0p5_4','goodrecojet0_tau_1_4','goodrecojet0_tau_2_4',\n",
    "                                      'goodrecojet0_tau_0p5_5','goodrecojet0_tau_1_5','goodrecojet0_tau_2_5',\n",
    "                                      'goodrecojet0_tau_0p5_6','goodrecojet0_tau_1_6','goodrecojet0_tau_2_6',\n",
    "                                      'goodrecojet0_mass', 'goodrecojet0_pt', 'goodrecojet0_eta',\n",
    "                                      'goodrecojet0_phi',\n",
    "                                      'MET', 'goodrecojet0_tau21', 'goodrecojet0_N21',\n",
    "                                      'FatJet_tau1','FatJet_tau2','FatJet_tau3','FatJet_tau4', 'leptonicW_pT', \n",
    "                                      'lepton_pT', 'puWeight', 'PV_npvsGood', 'btagWeight_CSVV2',\n",
    "                                      'dr_LepJet', 'dphi_MetJet', 'dphi_WJet','genmatchedrecoAK8', 'passedMETfilters',\n",
    "                                      'goodgenjet0_mass',\n",
    "                                      'goodgenjet0_tau_0p5_0','goodgenjet0_tau_1_0','goodgenjet0_tau_2_0',\n",
    "                                      'goodgenjet0_tau_0p5_1','goodgenjet0_tau_1_1','goodgenjet0_tau_2_1',\n",
    "                                      'goodgenjet0_tau_0p5_2','goodgenjet0_tau_1_2','goodgenjet0_tau_2_2',\n",
    "                                      'goodgenjet0_tau_0p5_3','goodgenjet0_tau_1_3','goodgenjet0_tau_2_3',\n",
    "                                      'goodgenjet0_tau_0p5_4','goodgenjet0_tau_1_4','goodgenjet0_tau_2_4',\n",
    "                                      'goodgenjet0_tau_0p5_5','goodgenjet0_tau_1_5','goodgenjet0_tau_2_5',\n",
    "                                      'goodgenjet0_tau_0p5_6','goodgenjet0_tau_1_6','goodgenjet0_tau_2_6',\n",
    "                                      'goodgenjet0_pt', 'goodgenjet0_eta', 'goodgenjet0_phi'\n",
    "                                        ])\n",
    "\n",
    "    \n",
    "    if len(dataset)==0:\n",
    "        print (c)\n",
    "        dataset=data\n",
    "    else:\n",
    "        dataset = np.concatenate((dataset,data))\n",
    "        \n",
    "    c=c+1\n",
    "    if c%5==0:\n",
    "        print (\"on file %d\"%c)"
   ]
  },
  {
   "cell_type": "code",
   "execution_count": 5,
   "metadata": {},
   "outputs": [
    {
     "name": "stdout",
     "output_type": "stream",
     "text": [
      "57158\n"
     ]
    },
    {
     "name": "stderr",
     "output_type": "stream",
     "text": [
      "/shome/kdatta/.local/lib/python2.7/site-packages/ipykernel_launcher.py:151: RuntimeWarning: divide by zero encountered in power\n",
      "/shome/kdatta/.local/lib/python2.7/site-packages/ipykernel_launcher.py:151: RuntimeWarning: invalid value encountered in double_scalars\n"
     ]
    },
    {
     "name": "stdout",
     "output_type": "stream",
     "text": [
      "('nan nan nan!!!', 15422, 0.03056116, 0.001708532, 0.00031756982, 0.0, 0.0, 0.0, 0.0, 0.0, 184.54639, 1.9655762, 93.5625)\n"
     ]
    }
   ],
   "source": [
    "#pars = [1.02,-1.06,0.22,-0.27,0.15,0.00,0.18,0.02]# [ 0.49631107, -0.91138405, 0.11273356, -0.26872, 0.04777313, 0.06521296, 0.51138633, -0.03617261]\n",
    "#pars = [0.,-1.,0.,0.,1.,0.,0.,0.]\n",
    "pars = -1* np.array([-0.195,  1.183,  -0.219,  0.674,  -0.44,   0.003, -0.634,  -0.042]) #[ 0.06849562,  0.99606407, -0.20875171,  0.3780923 , -0.07821123, -0.05920516, -0.79644126,  0.02925767]#[1.02,-1.06,0.22,-0.27,0.15,0.00,0.18,0.02]# [ 1.0470642 , 0.3308942 , -0.08472812, 0.4989206, -0.2598824, 0.00597894, -0.6826088 , -0.06705493]\n",
    "\n",
    "c=0\n",
    "for i in range(0,dataset.shape[0]):\n",
    "    if mSDmin<dataset[i][0]<=mSDmax and ptmin<dataset[i][23]<ptmax and leptWpTmin<dataset[i][33] and dataset[i][38]>np.pi/2 and dataset[i][39]>2. and dataset[i][40]>2. and dataset[i][42]==1:# and dataset[i][27]<0.45:\n",
    "        #if ((dataset[i][1])**(pars[0]))*((dataset[i][2])**(pars[1]))*((dataset[i][3])**(pars[2]))*((dataset[i][4])**(pars[3]))*((dataset[i][5])**(pars[4]))*((dataset[i][6])**(pars[5]))*((dataset[i][8])**(pars[6]))*((dataset[i][9])**(pars[7]))>3.:\n",
    "        c=c+1\n",
    "\n",
    "print (c)\n",
    "TT16reco_npv = np.ones(c)\n",
    "TT16reco_beta4W = np.ones(c)\n",
    "TT16reco_pt = np.ones(c)\n",
    "TT16reco_eta = np.ones(c)\n",
    "TT16reco_met = np.ones(c)\n",
    "TT16reco_lWpt = np.ones(c)\n",
    "TT16reco_lept_pT = np.ones(c)\n",
    "TT16reco_mass = np.ones(c)\n",
    "TT16reco_sdmass = np.ones(c)\n",
    "TT16reco_tau1 = np.ones(c)\n",
    "TT16reco_tau2 = np.ones(c)\n",
    "TT16reco_tau3 = np.ones(c)\n",
    "TT16reco_tau4 = np.ones(c)\n",
    "TT16reco_tau21 = np.ones(c)\n",
    "TT16reco_N21 = np.ones(c)\n",
    "TT16reco_puWeight = np.ones(c)\n",
    "TT16reco_btagWeight = np.ones(c)\n",
    "fatjet_TT16reco_tau1 = np.ones(c)\n",
    "fatjet_TT16reco_tau2 = np.ones(c)\n",
    "fatjet_TT16reco_tau3 = np.ones(c)\n",
    "fatjet_TT16reco_tau4 = np.ones(c)\n",
    "fatjet_TT16reco_tau21 = np.ones(c)\n",
    "\n",
    "\n",
    "TT16reco_nSub_basis = np.ones((c,21))\n",
    "\n",
    "TT16reco_tau1_0p5 = np.ones(c)\n",
    "TT16reco_tau1_1 = np.ones(c)\n",
    "TT16reco_tau1_2 = np.ones(c)\n",
    "TT16reco_tau2_0p5 = np.ones(c)\n",
    "TT16reco_tau2_1 = np.ones(c)\n",
    "TT16reco_tau2_2 = np.ones(c)\n",
    "TT16reco_tau3_0p5 = np.ones(c)\n",
    "TT16reco_tau3_1 = np.ones(c)\n",
    "TT16reco_tau3_2 = np.ones(c)\n",
    "TT16reco_tau4_0p5 = np.ones(c)\n",
    "TT16reco_tau4_1 = np.ones(c)\n",
    "TT16reco_tau4_2 = np.ones(c)\n",
    "TT16reco_tau5_0p5 = np.ones(c)\n",
    "TT16reco_tau5_1 = np.ones(c)\n",
    "TT16reco_tau5_2 = np.ones(c)\n",
    "TT16reco_tau6_0p5 = np.ones(c)\n",
    "TT16reco_tau6_1 = np.ones(c)\n",
    "TT16reco_tau6_2 = np.ones(c)\n",
    "TT16reco_tau7_0p5 = np.ones(c)\n",
    "TT16reco_tau7_1 = np.ones(c)\n",
    "TT16reco_tau7_2 = np.ones(c)\n",
    "\n",
    "TT16gen_tau21 = np.ones(c)\n",
    "TT16gen_beta4W = np.ones(c)\n",
    "TT16gen_pt = np.ones(c)\n",
    "TT16gen_eta = np.ones(c)\n",
    "TT16gen_mass = np.ones(c)\n",
    "\n",
    "TT16gen_nSub_basis = np.ones((c,21))\n",
    "\n",
    "TT16gen_tau1_0p5 = np.ones(c)\n",
    "TT16gen_tau1_1 = np.ones(c)\n",
    "TT16gen_tau1_2 = np.ones(c)\n",
    "TT16gen_tau2_0p5 = np.ones(c)\n",
    "TT16gen_tau2_1 = np.ones(c)\n",
    "TT16gen_tau2_2 = np.ones(c)\n",
    "TT16gen_tau3_0p5 = np.ones(c)\n",
    "TT16gen_tau3_1 = np.ones(c)\n",
    "TT16gen_tau3_2 = np.ones(c)\n",
    "TT16gen_tau4_0p5 = np.ones(c)\n",
    "TT16gen_tau4_1 = np.ones(c)\n",
    "TT16gen_tau4_2 = np.ones(c)\n",
    "TT16gen_tau5_0p5 = np.ones(c)\n",
    "TT16gen_tau5_1 = np.ones(c)\n",
    "TT16gen_tau5_2 = np.ones(c)\n",
    "TT16gen_tau6_0p5 = np.ones(c)\n",
    "TT16gen_tau6_1 = np.ones(c)\n",
    "TT16gen_tau6_2 = np.ones(c)\n",
    "TT16gen_tau7_0p5 = np.ones(c)\n",
    "TT16gen_tau7_1 = np.ones(c)\n",
    "TT16gen_tau7_2 = np.ones(c)\n",
    "\n",
    "c=0\n",
    "d1=0\n",
    "d2=0\n",
    "for i in range(0,dataset.shape[0]):\n",
    "    if mSDmin<dataset[i][0]<=mSDmax and ptmin<dataset[i][23]<ptmax and leptWpTmin<dataset[i][33] and dataset[i][38]>np.pi/2 and dataset[i][39]>2. and dataset[i][40]>2. and dataset[i][42]==1:# and dataset[i][27]<0.45:\n",
    "        #print dataset[i][29]\n",
    "        #if ((dataset[i][1])**(pars[0]))*((dataset[i][2])**(pars[1]))*((dataset[i][3])**(pars[2]))*((dataset[i][4])**(pars[3]))*((dataset[i][5])**(pars[4]))*((dataset[i][6])**(pars[5]))*((dataset[i][8])**(pars[6]))*((dataset[i][9])**(pars[7]))>3.:\n",
    "        TT16reco_pt[c] = dataset[i][23]\n",
    "        TT16reco_eta[c] = dataset[i][24]\n",
    "        TT16reco_met[c] = dataset[i][26]\n",
    "        TT16reco_mass[c] = dataset[i][22]\n",
    "        TT16reco_lWpt[c] = dataset[i][33]\n",
    "        TT16reco_lept_pT[c] = dataset[i][34]\n",
    "        TT16reco_sdmass[c] = dataset[i][0]\n",
    "        TT16reco_tau1[c] = dataset[i][2]\n",
    "        TT16reco_tau2[c] = dataset[i][5]\n",
    "        TT16reco_tau3[c] = dataset[i][8]\n",
    "        TT16reco_tau4[c] = dataset[i][11]\n",
    "        TT16reco_tau21[c] = dataset[i][27]\n",
    "        TT16reco_N21[c] = dataset[i][28]\n",
    "        TT16reco_puWeight[c] = dataset[i][35]\n",
    "        TT16reco_btagWeight[c] = dataset[i][37]\n",
    "        TT16reco_npv[c] = dataset[i][36]\n",
    "        fatjet_TT16reco_tau1[c] = dataset[i][29][0]\n",
    "        fatjet_TT16reco_tau2[c] = dataset[i][30][0]\n",
    "        fatjet_TT16reco_tau3[c] = dataset[i][31][0]\n",
    "        fatjet_TT16reco_tau4[c] = dataset[i][32][0]\n",
    "        \n",
    "        for z in range(0,21):\n",
    "            TT16reco_nSub_basis[c][z] = dataset[i][z+1]\n",
    "        TT16reco_tau1_0p5[c] = dataset[i][1]\n",
    "        TT16reco_tau1_1[c] = dataset[i][2]\n",
    "        TT16reco_tau1_2[c] = dataset[i][3]\n",
    "        TT16reco_tau2_0p5[c] = dataset[i][4]\n",
    "        TT16reco_tau2_1[c] = dataset[i][5]\n",
    "        TT16reco_tau2_2[c] = dataset[i][6]\n",
    "\n",
    "        \n",
    "        TT16gen_pt[c] = dataset[i][65]\n",
    "        TT16gen_eta[c] = dataset[i][66]\n",
    "        TT16gen_mass[c] = dataset[i][43]\n",
    "        \n",
    "        for z in range(0,21):\n",
    "            TT16gen_nSub_basis[c][z] = dataset[i][z+44]   \n",
    "        \n",
    "        TT16gen_tau1_0p5[c] = dataset[i][44]\n",
    "        TT16gen_tau1_1[c] = dataset[i][45]\n",
    "        TT16gen_tau1_2[c] = dataset[i][46]\n",
    "        TT16gen_tau2_0p5[c] = dataset[i][47]\n",
    "        TT16gen_tau2_1[c] = dataset[i][48]\n",
    "        TT16gen_tau2_2[c] = dataset[i][49]\n",
    "        \n",
    "        \n",
    "        if TT16reco_tau1_1[c]!=0:\n",
    "            TT16reco_tau21[d1] = TT16reco_tau2_1[c]/TT16reco_tau1_1[c]\n",
    "            d1=d1+1\n",
    "        TT16reco_beta4W[c]=((dataset[i][1])**(pars[0]))*((dataset[i][2])**(pars[1]))*((dataset[i][3])**(pars[2]))*((dataset[i][4])**(pars[3]))*((dataset[i][5])**(pars[4]))*((dataset[i][6])**(pars[5]))*((dataset[i][8])**(pars[6]))*((dataset[i][9])**(pars[7]))\n",
    "        \n",
    "        if TT16gen_tau1_1[c]!=0:\n",
    "            TT16gen_tau21[d2] = TT16gen_tau2_1[c]/TT16gen_tau1_1[c]\n",
    "            d2=d2+1\n",
    "        TT16gen_beta4W[c]=((dataset[i][44])**(pars[0]))*((dataset[i][45])**(pars[1]))*((dataset[i][46])**(pars[2]))*((dataset[i][47])**(pars[3]))*((dataset[i][48])**(pars[4]))*((dataset[i][49])**(pars[5]))*((dataset[i][51])**(pars[6]))*((dataset[i][52])**(pars[7]))\n",
    "        if np.isnan(TT16gen_beta4W[c]): \n",
    "            print (\"nan nan nan!!!\", c, (dataset[i][44]), (dataset[i][45]), (dataset[i][46]), (dataset[i][47]), (dataset[i][48]), (dataset[i][49]), (dataset[i][51]), (dataset[i][52]), (dataset[i][65]), (dataset[i][66]), (dataset[c][43]))\n",
    "        if np.isinf(TT16gen_beta4W[c]): \n",
    "            print (\"inf inf inf!!!\", c)\n",
    "        \n",
    "        c=c+1\n",
    "#print np.min(var_sig), np.max(var_sig)\n",
    "#TT16reco_SF = np.exp(0.0615+0.0005*TT16reco_pt)\n",
    "#print TT16reco_SF, np.mean(TT16reco_SF)"
   ]
  },
  {
   "cell_type": "raw",
   "metadata": {
    "scrolled": true
   },
   "source": [
    "filelist = []\n",
    "path = '../AutoObs/CMS/New_Sel/TTrecogen/2/*.root'\n",
    "files=glob.glob(path)   \n",
    "for f in files:     \n",
    "    filelist.append(f)\n",
    "        \n",
    "print (len(filelist))\n",
    "dataset = []\n",
    "c=0\n",
    "for f in filelist:\n",
    "    F = ROOT.TFile.Open(f, 'read')\n",
    "    \n",
    "    T = F.Get(\"Events\");\n",
    "    \n",
    "    \n",
    "    \n",
    "    \n",
    "    \n",
    "    data = rtnpy. tree2array(T, branches=['goodrecojet0_softdrop_mass',\n",
    "                                      'goodrecojet0_tau_0p5_0','goodrecojet0_tau_1_0','goodrecojet0_tau_2_0',\n",
    "                                      'goodrecojet0_tau_0p5_1','goodrecojet0_tau_1_1','goodrecojet0_tau_2_1',\n",
    "                                      'goodrecojet0_tau_0p5_2','goodrecojet0_tau_1_2','goodrecojet0_tau_2_2',\n",
    "                                      'goodrecojet0_tau_0p5_3','goodrecojet0_tau_1_3','goodrecojet0_tau_2_3',\n",
    "                                      'goodrecojet0_tau_0p5_4','goodrecojet0_tau_1_4','goodrecojet0_tau_2_4',\n",
    "                                      'goodrecojet0_tau_0p5_5','goodrecojet0_tau_1_5','goodrecojet0_tau_2_5',\n",
    "                                      'goodrecojet0_tau_0p5_6','goodrecojet0_tau_1_6','goodrecojet0_tau_2_6',\n",
    "                                      'goodrecojet0_mass', 'goodrecojet0_pt', 'goodrecojet0_eta',\n",
    "                                      'goodrecojet0_phi',\n",
    "                                      'MET', 'goodrecojet0_tau21', 'goodrecojet0_N21',\n",
    "                                      'FatJet_tau1','FatJet_tau2','FatJet_tau3','FatJet_tau4', 'leptonicW_pT', \n",
    "                                      'lepton_pT', 'puWeight', 'PV_npvsGood', 'btagWeight_CSVV2',\n",
    "                                      'dr_LepJet', 'dphi_MetJet', 'dphi_WJet','genmatchedrecoAK8', 'passedMETfilters',\n",
    "                                      'goodgenjet0_mass',\n",
    "                                      'goodgenjet0_tau_0p5_0','goodgenjet0_tau_1_0','goodgenjet0_tau_2_0',\n",
    "                                      'goodgenjet0_tau_0p5_1','goodgenjet0_tau_1_1','goodgenjet0_tau_2_1',\n",
    "                                      'goodgenjet0_tau_0p5_2','goodgenjet0_tau_1_2','goodgenjet0_tau_2_2',\n",
    "                                      'goodgenjet0_tau_0p5_3','goodgenjet0_tau_1_3','goodgenjet0_tau_2_3',\n",
    "                                      'goodgenjet0_tau_0p5_4','goodgenjet0_tau_1_4','goodgenjet0_tau_2_4',\n",
    "                                      'goodgenjet0_tau_0p5_5','goodgenjet0_tau_1_5','goodgenjet0_tau_2_5',\n",
    "                                      'goodgenjet0_tau_0p5_6','goodgenjet0_tau_1_6','goodgenjet0_tau_2_6',\n",
    "                                      'goodgenjet0_pt', 'goodgenjet0_eta', 'goodgenjet0_phi'\n",
    "                                        ])\n",
    "\n",
    "    \n",
    "    if len(dataset)==0:\n",
    "        print (c)\n",
    "        dataset=data\n",
    "    else:\n",
    "        dataset = np.concatenate((dataset,data))\n",
    "        \n",
    "    c=c+1\n",
    "    if c%5==0:\n",
    "        print (\"on file %d\"%c)"
   ]
  },
  {
   "cell_type": "raw",
   "metadata": {},
   "source": [
    "#pars = [1.02,-1.06,0.22,-0.27,0.15,0.00,0.18,0.02]# [ 0.49631107, -0.91138405, 0.11273356, -0.26872, 0.04777313, 0.06521296, 0.51138633, -0.03617261]\n",
    "#pars = [0.,-1.,0.,0.,1.,0.,0.,0.]\n",
    "pars = -1* np.array([-0.195,  1.183,  -0.219,  0.674,  -0.44,   0.003, -0.634,  -0.042]) #[ 0.06849562,  0.99606407, -0.20875171,  0.3780923 , -0.07821123, -0.05920516, -0.79644126,  0.02925767]#[1.02,-1.06,0.22,-0.27,0.15,0.00,0.18,0.02]# [ 1.0470642 , 0.3308942 , -0.08472812, 0.4989206, -0.2598824, 0.00597894, -0.6826088 , -0.06705493]\n",
    "\n",
    "c=0\n",
    "for i in range(0,dataset.shape[0]):\n",
    "    if mSDmin<dataset[i][0]<=mSDmax and ptmin<dataset[i][23]<ptmax and leptWpTmin<dataset[i][33] and dataset[i][38]>np.pi/2 and dataset[i][39]>2. and dataset[i][40]>2. and dataset[i][42]==1:# and dataset[i][27]<0.45:\n",
    "        #if ((dataset[i][1])**(pars[0]))*((dataset[i][2])**(pars[1]))*((dataset[i][3])**(pars[2]))*((dataset[i][4])**(pars[3]))*((dataset[i][5])**(pars[4]))*((dataset[i][6])**(pars[5]))*((dataset[i][8])**(pars[6]))*((dataset[i][9])**(pars[7]))>3.:\n",
    "        c=c+1\n",
    "\n",
    "print (c)\n",
    "TT16data_npv = np.ones(c)\n",
    "TT16data_beta4W = np.ones(c)\n",
    "TT16data_pt = np.ones(c)\n",
    "TT16data_eta = np.ones(c)\n",
    "TT16data_met = np.ones(c)\n",
    "TT16data_lWpt = np.ones(c)\n",
    "TT16data_lept_pT = np.ones(c)\n",
    "TT16data_mass = np.ones(c)\n",
    "TT16data_sdmass = np.ones(c)\n",
    "TT16data_tau1 = np.ones(c)\n",
    "TT16data_tau2 = np.ones(c)\n",
    "TT16data_tau3 = np.ones(c)\n",
    "TT16data_tau4 = np.ones(c)\n",
    "TT16data_tau21 = np.ones(c)\n",
    "TT16data_N21 = np.ones(c)\n",
    "TT16data_puWeight = np.ones(c)\n",
    "TT16data_btagWeight = np.ones(c)\n",
    "fatjet_TT16data_tau1 = np.ones(c)\n",
    "fatjet_TT16data_tau2 = np.ones(c)\n",
    "fatjet_TT16data_tau3 = np.ones(c)\n",
    "fatjet_TT16data_tau4 = np.ones(c)\n",
    "fatjet_TT16data_tau21 = np.ones(c)\n",
    "\n",
    "\n",
    "TT16data_nSub_basis = np.ones((c,21))\n",
    "\n",
    "TT16data_tau1_0p5 = np.ones(c)\n",
    "TT16data_tau1_1 = np.ones(c)\n",
    "TT16data_tau1_2 = np.ones(c)\n",
    "TT16data_tau2_0p5 = np.ones(c)\n",
    "TT16data_tau2_1 = np.ones(c)\n",
    "TT16data_tau2_2 = np.ones(c)\n",
    "TT16data_tau3_0p5 = np.ones(c)\n",
    "TT16data_tau3_1 = np.ones(c)\n",
    "TT16data_tau3_2 = np.ones(c)\n",
    "TT16data_tau4_0p5 = np.ones(c)\n",
    "TT16data_tau4_1 = np.ones(c)\n",
    "TT16data_tau4_2 = np.ones(c)\n",
    "TT16data_tau5_0p5 = np.ones(c)\n",
    "TT16data_tau5_1 = np.ones(c)\n",
    "TT16data_tau5_2 = np.ones(c)\n",
    "TT16data_tau6_0p5 = np.ones(c)\n",
    "TT16data_tau6_1 = np.ones(c)\n",
    "TT16data_tau6_2 = np.ones(c)\n",
    "TT16data_tau7_0p5 = np.ones(c)\n",
    "TT16data_tau7_1 = np.ones(c)\n",
    "TT16data_tau7_2 = np.ones(c)\n",
    "\n",
    "TT16truth_tau21 = np.ones(c)\n",
    "TT16truth_beta4W = np.ones(c)\n",
    "TT16truth_pt = np.ones(c)\n",
    "TT16truth_eta = np.ones(c)\n",
    "TT16truth_mass = np.ones(c)\n",
    "\n",
    "TT16truth_nSub_basis = np.ones((c,21))\n",
    "\n",
    "TT16truth_tau1_0p5 = np.ones(c)\n",
    "TT16truth_tau1_1 = np.ones(c)\n",
    "TT16truth_tau1_2 = np.ones(c)\n",
    "TT16truth_tau2_0p5 = np.ones(c)\n",
    "TT16truth_tau2_1 = np.ones(c)\n",
    "TT16truth_tau2_2 = np.ones(c)\n",
    "TT16truth_tau3_0p5 = np.ones(c)\n",
    "TT16truth_tau3_1 = np.ones(c)\n",
    "TT16truth_tau3_2 = np.ones(c)\n",
    "TT16truth_tau4_0p5 = np.ones(c)\n",
    "TT16truth_tau4_1 = np.ones(c)\n",
    "TT16truth_tau4_2 = np.ones(c)\n",
    "TT16truth_tau5_0p5 = np.ones(c)\n",
    "TT16truth_tau5_1 = np.ones(c)\n",
    "TT16truth_tau5_2 = np.ones(c)\n",
    "TT16truth_tau6_0p5 = np.ones(c)\n",
    "TT16truth_tau6_1 = np.ones(c)\n",
    "TT16truth_tau6_2 = np.ones(c)\n",
    "TT16truth_tau7_0p5 = np.ones(c)\n",
    "TT16truth_tau7_1 = np.ones(c)\n",
    "TT16truth_tau7_2 = np.ones(c)\n",
    "\n",
    "c=0\n",
    "d1=0\n",
    "d2=0\n",
    "for i in range(0,dataset.shape[0]):\n",
    "    if mSDmin<dataset[i][0]<=mSDmax and ptmin<dataset[i][23]<ptmax and leptWpTmin<dataset[i][33] and dataset[i][38]>np.pi/2 and dataset[i][39]>2. and dataset[i][40]>2. and dataset[i][42]==1:# and dataset[i][27]<0.45:\n",
    "        #print dataset[i][29]\n",
    "        #if ((dataset[i][1])**(pars[0]))*((dataset[i][2])**(pars[1]))*((dataset[i][3])**(pars[2]))*((dataset[i][4])**(pars[3]))*((dataset[i][5])**(pars[4]))*((dataset[i][6])**(pars[5]))*((dataset[i][8])**(pars[6]))*((dataset[i][9])**(pars[7]))>3.:\n",
    "        TT16data_pt[c] = dataset[i][23]\n",
    "        TT16data_eta[c] = dataset[i][24]\n",
    "        TT16data_met[c] = dataset[i][26]\n",
    "        TT16data_mass[c] = dataset[i][22]\n",
    "        TT16data_lWpt[c] = dataset[i][33]\n",
    "        TT16data_lept_pT[c] = dataset[i][34]\n",
    "        TT16data_sdmass[c] = dataset[i][0]\n",
    "        TT16data_tau1[c] = dataset[i][2]\n",
    "        TT16data_tau2[c] = dataset[i][5]\n",
    "        TT16data_tau3[c] = dataset[i][8]\n",
    "        TT16data_tau4[c] = dataset[i][11]\n",
    "        TT16data_tau21[c] = dataset[i][27]\n",
    "        TT16data_N21[c] = dataset[i][28]\n",
    "        TT16data_puWeight[c] = dataset[i][35]\n",
    "        TT16data_btagWeight[c] = dataset[i][37]\n",
    "        TT16data_npv[c] = dataset[i][36]\n",
    "        fatjet_TT16data_tau1[c] = dataset[i][29][0]\n",
    "        fatjet_TT16data_tau2[c] = dataset[i][30][0]\n",
    "        fatjet_TT16data_tau3[c] = dataset[i][31][0]\n",
    "        fatjet_TT16data_tau4[c] = dataset[i][32][0]\n",
    "        \n",
    "        for z in range(0,21):\n",
    "            TT16data_nSub_basis[c][z] = dataset[i][z+1]\n",
    "        TT16data_tau1_0p5[c] = dataset[i][1]\n",
    "        TT16data_tau1_1[c] = dataset[i][2]\n",
    "        TT16data_tau1_2[c] = dataset[i][3]\n",
    "        TT16data_tau2_0p5[c] = dataset[i][4]\n",
    "        TT16data_tau2_1[c] = dataset[i][5]\n",
    "        TT16data_tau2_2[c] = dataset[i][6]\n",
    "\n",
    "        \n",
    "        TT16truth_pt[c] = dataset[i][65]\n",
    "        TT16truth_eta[c] = dataset[i][66]\n",
    "        TT16truth_mass[c] = dataset[i][43]\n",
    "        \n",
    "        for z in range(0,21):\n",
    "            TT16truth_nSub_basis[c][z] = dataset[i][z+44]   \n",
    "        \n",
    "        TT16truth_tau1_0p5[c] = dataset[i][44]\n",
    "        TT16truth_tau1_1[c] = dataset[i][45]\n",
    "        TT16truth_tau1_2[c] = dataset[i][46]\n",
    "        TT16truth_tau2_0p5[c] = dataset[i][47]\n",
    "        TT16truth_tau2_1[c] = dataset[i][48]\n",
    "        TT16truth_tau2_2[c] = dataset[i][49]\n",
    "        \n",
    "        \n",
    "        if TT16data_tau1_1[c]!=0:\n",
    "            TT16data_tau21[d1] = TT16data_tau2_1[c]/TT16data_tau1_1[c]\n",
    "            d1=d1+1\n",
    "        TT16data_beta4W[c]=((dataset[i][1])**(pars[0]))*((dataset[i][2])**(pars[1]))*((dataset[i][3])**(pars[2]))*((dataset[i][4])**(pars[3]))*((dataset[i][5])**(pars[4]))*((dataset[i][6])**(pars[5]))*((dataset[i][8])**(pars[6]))*((dataset[i][9])**(pars[7]))\n",
    "        \n",
    "        if TT16truth_tau1_1[c]!=0:\n",
    "            TT16truth_tau21[d2] = TT16truth_tau2_1[c]/TT16truth_tau1_1[c]\n",
    "            d2=d2+1\n",
    "        TT16truth_beta4W[c]=((dataset[i][44])**(pars[0]))*((dataset[i][45])**(pars[1]))*((dataset[i][46])**(pars[2]))*((dataset[i][47])**(pars[3]))*((dataset[i][48])**(pars[4]))*((dataset[i][49])**(pars[5]))*((dataset[i][51])**(pars[6]))*((dataset[i][52])**(pars[7]))\n",
    "        if np.isnan(TT16truth_beta4W[c]): \n",
    "            print (\"nan nan nan!!!\", c, (dataset[i][44]), (dataset[i][45]), (dataset[i][46]), (dataset[i][47]), (dataset[i][48]), (dataset[i][49]), (dataset[i][51]), (dataset[i][52]), (dataset[i][65]), (dataset[i][66]), (dataset[c][43]))\n",
    "        if np.isinf(TT16truth_beta4W[c]): \n",
    "            print (\"inf inf inf!!!\", c)\n",
    "        \n",
    "        c=c+1\n",
    "#print np.min(var_sig), np.max(var_sig)\n",
    "#TT16data_SF = np.exp(0.0615+0.0005*TT16data_pt)\n",
    "#print TT16data_SF, np.mean(TT16data_SF)"
   ]
  },
  {
   "cell_type": "code",
   "execution_count": 6,
   "metadata": {
    "scrolled": true
   },
   "outputs": [
    {
     "name": "stdout",
     "output_type": "stream",
     "text": [
      "1054\n",
      "1402\n",
      "1986\n",
      "2482\n",
      "2844\n",
      "3698\n",
      "4173\n",
      "4173\n",
      "0\n",
      "on file 5\n",
      "on file 10\n",
      "on file 15\n",
      "on file 20\n",
      "on file 25\n",
      "on file 30\n",
      "on file 35\n",
      "on file 40\n",
      "on file 45\n",
      "on file 50\n",
      "on file 55\n",
      "on file 60\n",
      "on file 65\n",
      "on file 70\n",
      "on file 75\n",
      "on file 80\n",
      "on file 85\n",
      "on file 90\n",
      "on file 95\n",
      "on file 100\n",
      "on file 105\n",
      "on file 110\n",
      "on file 115\n",
      "on file 120\n",
      "on file 125\n",
      "on file 130\n",
      "on file 135\n",
      "on file 140\n",
      "on file 145\n",
      "on file 150\n",
      "on file 155\n",
      "on file 160\n",
      "on file 165\n",
      "on file 170\n",
      "on file 175\n",
      "on file 180\n",
      "on file 185\n",
      "on file 190\n",
      "on file 195\n",
      "on file 200\n",
      "on file 205\n",
      "on file 210\n",
      "on file 215\n",
      "on file 220\n",
      "on file 225\n",
      "on file 230\n",
      "on file 235\n",
      "on file 240\n",
      "on file 245\n",
      "on file 250\n",
      "on file 255\n",
      "on file 260\n",
      "on file 265\n",
      "on file 270\n",
      "on file 275\n",
      "on file 280\n",
      "on file 285\n",
      "on file 290\n",
      "on file 295\n",
      "on file 300\n",
      "on file 305\n",
      "on file 310\n",
      "on file 315\n",
      "on file 320\n",
      "on file 325\n",
      "on file 330\n",
      "on file 335\n",
      "on file 340\n",
      "on file 345\n",
      "on file 350\n",
      "on file 355\n",
      "on file 360\n",
      "on file 365\n",
      "on file 370\n",
      "on file 375\n",
      "on file 380\n",
      "on file 385\n",
      "on file 390\n",
      "on file 395\n",
      "on file 400\n",
      "on file 405\n",
      "on file 410\n",
      "on file 415\n",
      "on file 420\n",
      "on file 425\n",
      "on file 430\n",
      "on file 435\n",
      "on file 440\n",
      "on file 445\n",
      "on file 450\n",
      "on file 455\n",
      "on file 460\n",
      "on file 465\n",
      "on file 470\n",
      "on file 475\n",
      "on file 480\n",
      "on file 485\n",
      "on file 490\n",
      "on file 495\n",
      "on file 500\n",
      "on file 505\n",
      "on file 510\n",
      "on file 515\n",
      "on file 520\n",
      "on file 525\n",
      "on file 530\n",
      "on file 535\n",
      "on file 540\n",
      "on file 545\n",
      "on file 550\n",
      "on file 555\n",
      "on file 560\n",
      "on file 565\n",
      "on file 570\n",
      "on file 575\n",
      "on file 580\n",
      "on file 585\n",
      "on file 590\n",
      "on file 595\n",
      "on file 600\n",
      "on file 605\n",
      "on file 610\n",
      "on file 615\n",
      "on file 620\n",
      "on file 625\n",
      "on file 630\n",
      "on file 635\n",
      "on file 640\n",
      "on file 645\n",
      "on file 650\n",
      "on file 655\n",
      "on file 660\n",
      "on file 665\n",
      "on file 670\n",
      "on file 675\n",
      "on file 680\n",
      "on file 685\n",
      "on file 690\n",
      "on file 695\n",
      "on file 700\n",
      "on file 705\n",
      "on file 710\n",
      "on file 715\n",
      "on file 720\n",
      "on file 725\n",
      "on file 730\n",
      "on file 735\n",
      "on file 740\n",
      "on file 745\n",
      "on file 750\n",
      "on file 755\n",
      "on file 760\n",
      "on file 765\n",
      "on file 770\n",
      "on file 775\n",
      "on file 780\n",
      "on file 785\n",
      "on file 790\n",
      "on file 795\n",
      "on file 800\n",
      "on file 805\n",
      "on file 810\n",
      "on file 815\n",
      "on file 820\n",
      "on file 825\n",
      "on file 830\n",
      "on file 835\n",
      "on file 840\n",
      "on file 845\n",
      "on file 850\n",
      "on file 855\n",
      "on file 860\n",
      "on file 865\n",
      "on file 870\n",
      "on file 875\n",
      "on file 880\n",
      "on file 885\n",
      "on file 890\n",
      "on file 895\n",
      "on file 900\n",
      "on file 905\n",
      "on file 910\n",
      "on file 915\n",
      "on file 920\n",
      "on file 925\n",
      "on file 930\n",
      "on file 935\n",
      "on file 940\n",
      "on file 945\n",
      "on file 950\n",
      "on file 955\n",
      "on file 960\n",
      "on file 965\n",
      "on file 970\n",
      "on file 975\n",
      "on file 980\n",
      "on file 985\n",
      "on file 990\n",
      "on file 995\n",
      "on file 1000\n",
      "on file 1005\n",
      "on file 1010\n",
      "on file 1015\n",
      "on file 1020\n",
      "on file 1025\n",
      "on file 1030\n",
      "on file 1035\n",
      "on file 1040\n",
      "on file 1045\n",
      "on file 1050\n",
      "on file 1055\n",
      "on file 1060\n",
      "on file 1065\n",
      "on file 1070\n",
      "on file 1075\n",
      "on file 1080\n",
      "on file 1085\n",
      "on file 1090\n",
      "on file 1095\n",
      "on file 1100\n",
      "on file 1105\n",
      "on file 1110\n",
      "on file 1115\n",
      "on file 1120\n",
      "on file 1125\n",
      "on file 1130\n",
      "on file 1135\n",
      "on file 1140\n",
      "on file 1145\n",
      "on file 1150\n",
      "on file 1155\n",
      "on file 1160\n",
      "on file 1165\n",
      "on file 1170\n",
      "on file 1175\n",
      "on file 1180\n",
      "on file 1185\n",
      "on file 1190\n",
      "on file 1195\n",
      "on file 1200\n",
      "on file 1205\n",
      "on file 1210\n",
      "on file 1215\n",
      "on file 1220\n",
      "on file 1225\n",
      "on file 1230\n",
      "on file 1235\n",
      "on file 1240\n",
      "on file 1245\n",
      "on file 1250\n",
      "on file 1255\n",
      "on file 1260\n",
      "on file 1265\n",
      "on file 1270\n",
      "on file 1275\n",
      "on file 1280\n",
      "on file 1285\n",
      "on file 1290\n",
      "on file 1295\n",
      "on file 1300\n",
      "on file 1305\n",
      "on file 1310\n",
      "on file 1315\n",
      "on file 1320\n",
      "on file 1325\n",
      "on file 1330\n",
      "on file 1335\n",
      "on file 1340\n",
      "on file 1345\n",
      "on file 1350\n",
      "on file 1355\n",
      "on file 1360\n",
      "on file 1365\n",
      "on file 1370\n",
      "on file 1375\n",
      "on file 1380\n",
      "on file 1385\n",
      "on file 1390\n",
      "on file 1395\n",
      "on file 1400\n",
      "on file 1405\n",
      "on file 1410\n",
      "on file 1415\n",
      "on file 1420\n",
      "on file 1425\n",
      "on file 1430\n",
      "on file 1435\n",
      "on file 1440\n",
      "on file 1445\n",
      "on file 1450\n",
      "on file 1455\n",
      "on file 1460\n",
      "on file 1465\n",
      "on file 1470\n",
      "on file 1475\n",
      "on file 1480\n",
      "on file 1485\n",
      "on file 1490\n",
      "on file 1495\n",
      "on file 1500\n",
      "on file 1505\n",
      "on file 1510\n",
      "on file 1515\n",
      "on file 1520\n",
      "on file 1525\n",
      "on file 1530\n",
      "on file 1535\n",
      "on file 1540\n",
      "on file 1545\n",
      "on file 1550\n",
      "on file 1555\n",
      "on file 1560\n",
      "on file 1565\n",
      "on file 1570\n",
      "on file 1575\n",
      "on file 1580\n",
      "on file 1585\n",
      "on file 1590\n",
      "on file 1595\n",
      "on file 1600\n",
      "on file 1605\n",
      "on file 1610\n",
      "on file 1615\n",
      "on file 1620\n",
      "on file 1625\n",
      "on file 1630\n",
      "on file 1635\n",
      "on file 1640\n",
      "on file 1645\n",
      "on file 1650\n",
      "on file 1655\n",
      "on file 1660\n",
      "on file 1665\n",
      "on file 1670\n",
      "on file 1675\n",
      "on file 1680\n",
      "on file 1685\n",
      "on file 1690\n",
      "on file 1695\n",
      "on file 1700\n",
      "on file 1705\n",
      "on file 1710\n",
      "on file 1715\n",
      "on file 1720\n",
      "on file 1725\n",
      "on file 1730\n",
      "on file 1735\n",
      "on file 1740\n",
      "on file 1745\n",
      "on file 1750\n",
      "on file 1755\n",
      "on file 1760\n",
      "on file 1765\n",
      "on file 1770\n",
      "on file 1775\n",
      "on file 1780\n",
      "on file 1785\n",
      "on file 1790\n",
      "on file 1795\n",
      "on file 1800\n",
      "on file 1805\n",
      "on file 1810\n",
      "on file 1815\n",
      "on file 1820\n",
      "on file 1825\n",
      "on file 1830\n",
      "on file 1835\n",
      "on file 1840\n",
      "on file 1845\n",
      "on file 1850\n",
      "on file 1855\n",
      "on file 1860\n",
      "on file 1865\n",
      "on file 1870\n",
      "on file 1875\n",
      "on file 1880\n",
      "on file 1885\n",
      "on file 1890\n",
      "on file 1895\n",
      "on file 1900\n",
      "on file 1905\n",
      "on file 1910\n",
      "on file 1915\n",
      "on file 1920\n",
      "on file 1925\n",
      "on file 1930\n",
      "on file 1935\n",
      "on file 1940\n",
      "on file 1945\n",
      "on file 1950\n",
      "on file 1955\n",
      "on file 1960\n",
      "on file 1965\n",
      "on file 1970\n",
      "on file 1975\n",
      "on file 1980\n",
      "on file 1985\n",
      "on file 1990\n",
      "on file 1995\n",
      "on file 2000\n",
      "on file 2005\n",
      "on file 2010\n",
      "on file 2015\n",
      "on file 2020\n",
      "on file 2025\n",
      "on file 2030\n",
      "on file 2035\n",
      "on file 2040\n",
      "on file 2045\n",
      "on file 2050\n",
      "on file 2055\n",
      "on file 2060\n",
      "on file 2065\n",
      "on file 2070\n",
      "on file 2075\n",
      "on file 2080\n",
      "on file 2085\n",
      "on file 2090\n",
      "on file 2095\n",
      "on file 2100\n",
      "on file 2105\n",
      "on file 2110\n",
      "on file 2115\n",
      "on file 2120\n",
      "on file 2125\n",
      "on file 2130\n",
      "on file 2135\n",
      "on file 2140\n",
      "on file 2145\n",
      "on file 2150\n",
      "on file 2155\n",
      "on file 2160\n",
      "on file 2165\n",
      "on file 2170\n",
      "on file 2175\n",
      "on file 2180\n",
      "on file 2185\n",
      "on file 2190\n",
      "on file 2195\n",
      "on file 2200\n",
      "on file 2205\n",
      "on file 2210\n",
      "on file 2215\n",
      "on file 2220\n",
      "on file 2225\n",
      "on file 2230\n",
      "on file 2235\n",
      "on file 2240\n",
      "on file 2245\n",
      "on file 2250\n",
      "on file 2255\n",
      "on file 2260\n",
      "on file 2265\n",
      "on file 2270\n",
      "on file 2275\n",
      "on file 2280\n",
      "on file 2285\n",
      "on file 2290\n",
      "on file 2295\n",
      "on file 2300\n",
      "on file 2305\n",
      "on file 2310\n",
      "on file 2315\n",
      "on file 2320\n",
      "on file 2325\n",
      "on file 2330\n",
      "on file 2335\n",
      "on file 2340\n",
      "on file 2345\n",
      "on file 2350\n",
      "on file 2355\n",
      "on file 2360\n",
      "on file 2365\n",
      "on file 2370\n",
      "on file 2375\n",
      "on file 2380\n",
      "on file 2385\n",
      "on file 2390\n",
      "on file 2395\n",
      "on file 2400\n",
      "on file 2405\n",
      "on file 2410\n",
      "on file 2415\n",
      "on file 2420\n",
      "on file 2425\n",
      "on file 2430\n",
      "on file 2435\n",
      "on file 2440\n",
      "on file 2445\n",
      "on file 2450\n",
      "on file 2455\n",
      "on file 2460\n",
      "on file 2465\n",
      "on file 2470\n",
      "on file 2475\n",
      "on file 2480\n",
      "on file 2485\n",
      "on file 2490\n",
      "on file 2495\n",
      "on file 2500\n",
      "on file 2505\n",
      "on file 2510\n",
      "on file 2515\n",
      "on file 2520\n",
      "on file 2525\n",
      "on file 2530\n",
      "on file 2535\n",
      "on file 2540\n",
      "on file 2545\n",
      "on file 2550\n",
      "on file 2555\n",
      "on file 2560\n",
      "on file 2565\n",
      "on file 2570\n",
      "on file 2575\n",
      "on file 2580\n",
      "on file 2585\n",
      "on file 2590\n",
      "on file 2595\n",
      "on file 2600\n",
      "on file 2605\n",
      "on file 2610\n",
      "on file 2615\n",
      "on file 2620\n",
      "on file 2625\n",
      "on file 2630\n",
      "on file 2635\n",
      "on file 2640\n",
      "on file 2645\n",
      "on file 2650\n",
      "on file 2655\n",
      "on file 2660\n",
      "on file 2665\n",
      "on file 2670\n",
      "on file 2675\n",
      "on file 2680\n",
      "on file 2685\n",
      "on file 2690\n",
      "on file 2695\n",
      "on file 2700\n",
      "on file 2705\n",
      "on file 2710\n",
      "on file 2715\n",
      "on file 2720\n",
      "on file 2725\n",
      "on file 2730\n",
      "on file 2735\n",
      "on file 2740\n",
      "on file 2745\n",
      "on file 2750\n",
      "on file 2755\n",
      "on file 2760\n",
      "on file 2765\n",
      "on file 2770\n",
      "on file 2775\n",
      "on file 2780\n",
      "on file 2785\n",
      "on file 2790\n",
      "on file 2795\n",
      "on file 2800\n",
      "on file 2805\n",
      "on file 2810\n",
      "on file 2815\n",
      "on file 2820\n",
      "on file 2825\n",
      "on file 2830\n",
      "on file 2835\n",
      "on file 2840\n",
      "on file 2845\n",
      "on file 2850\n",
      "on file 2855\n",
      "on file 2860\n",
      "on file 2865\n",
      "on file 2870\n",
      "on file 2875\n",
      "on file 2880\n",
      "on file 2885\n",
      "on file 2890\n",
      "on file 2895\n",
      "on file 2900\n",
      "on file 2905\n",
      "on file 2910\n",
      "on file 2915\n",
      "on file 2920\n",
      "on file 2925\n",
      "on file 2930\n",
      "on file 2935\n",
      "on file 2940\n",
      "on file 2945\n",
      "on file 2950\n",
      "on file 2955\n",
      "on file 2960\n",
      "on file 2965\n",
      "on file 2970\n",
      "on file 2975\n",
      "on file 2980\n",
      "on file 2985\n",
      "on file 2990\n",
      "on file 2995\n",
      "on file 3000\n",
      "on file 3005\n",
      "on file 3010\n",
      "on file 3015\n",
      "on file 3020\n",
      "on file 3025\n",
      "on file 3030\n",
      "on file 3035\n",
      "on file 3040\n",
      "on file 3045\n",
      "on file 3050\n",
      "on file 3055\n",
      "on file 3060\n",
      "on file 3065\n",
      "on file 3070\n",
      "on file 3075\n",
      "on file 3080\n",
      "on file 3085\n",
      "on file 3090\n",
      "on file 3095\n",
      "on file 3100\n",
      "on file 3105\n",
      "on file 3110\n",
      "on file 3115\n",
      "on file 3120\n",
      "on file 3125\n",
      "on file 3130\n",
      "on file 3135\n",
      "on file 3140\n",
      "on file 3145\n",
      "on file 3150\n",
      "on file 3155\n",
      "on file 3160\n",
      "on file 3165\n",
      "on file 3170\n",
      "on file 3175\n",
      "on file 3180\n",
      "on file 3185\n",
      "on file 3190\n",
      "on file 3195\n",
      "on file 3200\n",
      "on file 3205\n",
      "on file 3210\n",
      "on file 3215\n",
      "on file 3220\n"
     ]
    },
    {
     "name": "stdout",
     "output_type": "stream",
     "text": [
      "on file 3225\n",
      "on file 3230\n",
      "on file 3235\n",
      "on file 3240\n",
      "on file 3245\n",
      "on file 3250\n",
      "on file 3255\n",
      "on file 3260\n",
      "on file 3265\n",
      "on file 3270\n",
      "on file 3275\n",
      "on file 3280\n",
      "on file 3285\n",
      "on file 3290\n",
      "on file 3295\n",
      "on file 3300\n",
      "on file 3305\n",
      "on file 3310\n",
      "on file 3315\n",
      "on file 3320\n",
      "on file 3325\n",
      "on file 3330\n",
      "on file 3335\n",
      "on file 3340\n",
      "on file 3345\n",
      "on file 3350\n",
      "on file 3355\n",
      "on file 3360\n",
      "on file 3365\n",
      "on file 3370\n",
      "on file 3375\n",
      "on file 3380\n",
      "on file 3385\n",
      "on file 3390\n",
      "on file 3395\n",
      "on file 3400\n",
      "on file 3405\n",
      "on file 3410\n",
      "on file 3415\n",
      "on file 3420\n",
      "on file 3425\n",
      "on file 3430\n",
      "on file 3435\n",
      "on file 3440\n",
      "on file 3445\n",
      "on file 3450\n",
      "on file 3455\n",
      "on file 3460\n",
      "on file 3465\n",
      "on file 3470\n",
      "on file 3475\n",
      "on file 3480\n",
      "on file 3485\n",
      "on file 3490\n",
      "on file 3495\n",
      "on file 3500\n",
      "on file 3505\n",
      "on file 3510\n",
      "on file 3515\n",
      "on file 3520\n",
      "on file 3525\n",
      "on file 3530\n",
      "on file 3535\n",
      "on file 3540\n",
      "on file 3545\n",
      "on file 3550\n",
      "on file 3555\n",
      "on file 3560\n",
      "on file 3565\n",
      "on file 3570\n",
      "on file 3575\n",
      "on file 3580\n",
      "on file 3585\n",
      "on file 3590\n",
      "on file 3595\n",
      "on file 3600\n",
      "on file 3605\n",
      "on file 3610\n",
      "on file 3615\n",
      "on file 3620\n",
      "on file 3625\n",
      "on file 3630\n",
      "on file 3635\n",
      "on file 3640\n",
      "on file 3645\n",
      "on file 3650\n",
      "on file 3655\n",
      "on file 3660\n",
      "on file 3665\n",
      "on file 3670\n",
      "on file 3675\n",
      "on file 3680\n",
      "on file 3685\n",
      "on file 3690\n",
      "on file 3695\n",
      "on file 3700\n",
      "on file 3705\n",
      "on file 3710\n",
      "on file 3715\n",
      "on file 3720\n",
      "on file 3725\n",
      "on file 3730\n",
      "on file 3735\n",
      "on file 3740\n",
      "on file 3745\n",
      "on file 3750\n",
      "on file 3755\n",
      "on file 3760\n",
      "on file 3765\n",
      "on file 3770\n",
      "on file 3775\n",
      "on file 3780\n",
      "on file 3785\n",
      "on file 3790\n",
      "on file 3795\n",
      "on file 3800\n",
      "on file 3805\n",
      "on file 3810\n",
      "on file 3815\n",
      "on file 3820\n",
      "on file 3825\n",
      "on file 3830\n",
      "on file 3835\n",
      "on file 3840\n",
      "on file 3845\n",
      "on file 3850\n",
      "on file 3855\n",
      "on file 3860\n",
      "on file 3865\n",
      "on file 3870\n",
      "on file 3875\n",
      "on file 3880\n",
      "on file 3885\n",
      "on file 3890\n",
      "on file 3895\n",
      "on file 3900\n",
      "on file 3905\n",
      "on file 3910\n",
      "on file 3915\n",
      "on file 3920\n",
      "on file 3925\n",
      "on file 3930\n",
      "on file 3935\n",
      "on file 3940\n",
      "on file 3945\n",
      "on file 3950\n",
      "on file 3955\n",
      "on file 3960\n",
      "on file 3965\n",
      "on file 3970\n",
      "on file 3975\n",
      "on file 3980\n",
      "on file 3985\n",
      "on file 3990\n",
      "on file 3995\n",
      "on file 4000\n",
      "on file 4005\n",
      "on file 4010\n",
      "on file 4015\n",
      "on file 4020\n",
      "on file 4025\n",
      "on file 4030\n",
      "on file 4035\n",
      "on file 4040\n",
      "on file 4045\n",
      "on file 4050\n",
      "on file 4055\n",
      "on file 4060\n",
      "on file 4065\n",
      "on file 4070\n",
      "on file 4075\n",
      "on file 4080\n",
      "on file 4085\n",
      "on file 4090\n",
      "on file 4095\n",
      "on file 4100\n",
      "on file 4105\n",
      "on file 4110\n",
      "on file 4115\n",
      "on file 4120\n",
      "on file 4125\n",
      "on file 4130\n",
      "on file 4135\n",
      "on file 4140\n",
      "on file 4145\n",
      "on file 4150\n",
      "on file 4155\n",
      "on file 4160\n",
      "on file 4165\n",
      "on file 4170\n"
     ]
    }
   ],
   "source": [
    "\n",
    "filelist = []\n",
    "for nm in [\"B\",\"C\",\"D\",\"E\",\"F\",\"G\",\"H\"]:\n",
    "    path = '../AutoObs/CMS/New_Sel/Data/%s/*.root'%nm\n",
    "    files=glob.glob(path)   \n",
    "    for f in files:     \n",
    "        filelist.append(f)\n",
    "    print len(filelist)\n",
    "\n",
    "print len(filelist)\n",
    "\n",
    "\n",
    "dataset = []\n",
    "c=0\n",
    "for f in filelist:\n",
    "    F = ROOT.TFile.Open(f, 'read')\n",
    "    #\n",
    "    T = F.Get(\"Events\");\n",
    "    data = rtnpy.tree2array(T, branches=['goodrecojet0_softdrop_mass',\n",
    "                                      'goodrecojet0_tau_0p5_0','goodrecojet0_tau_1_0','goodrecojet0_tau_2_0',\n",
    "                                      'goodrecojet0_tau_0p5_1','goodrecojet0_tau_1_1','goodrecojet0_tau_2_1',\n",
    "                                      'goodrecojet0_tau_0p5_2','goodrecojet0_tau_1_2','goodrecojet0_tau_2_2',\n",
    "                                      'goodrecojet0_tau_0p5_3','goodrecojet0_tau_1_3','goodrecojet0_tau_2_3',\n",
    "                                      'goodrecojet0_tau_0p5_4','goodrecojet0_tau_1_4','goodrecojet0_tau_2_4',\n",
    "                                      'goodrecojet0_tau_0p5_5','goodrecojet0_tau_1_5','goodrecojet0_tau_2_5',\n",
    "                                      'goodrecojet0_tau_0p5_6','goodrecojet0_tau_1_6','goodrecojet0_tau_2_6',\n",
    "                                      'goodrecojet0_mass', 'goodrecojet0_pt', 'goodrecojet0_eta',\n",
    "                                      'goodrecojet0_phi', \n",
    "                                      'MET', 'goodrecojet0_tau21', 'goodrecojet0_N21',\n",
    "                                      'FatJet_tau1','FatJet_tau2','FatJet_tau3','FatJet_tau4', \n",
    "                                      'leptonicW_pT', 'lepton_pT', 'PV_npvsGood',\n",
    "                                      'dr_LepJet', 'dphi_MetJet', 'dphi_WJet', 'passedMETfilters'\n",
    "                                     ])\n",
    "    F.Close()\n",
    "    if len(dataset)==0:\n",
    "        print c\n",
    "        dataset=data\n",
    "    else:\n",
    "        dataset = np.concatenate((dataset,data))\n",
    "        \n",
    "    c=c+1\n",
    "    if c%5==0:\n",
    "        print \"on file %d\"%c"
   ]
  },
  {
   "cell_type": "code",
   "execution_count": 7,
   "metadata": {
    "scrolled": true
   },
   "outputs": [
    {
     "name": "stdout",
     "output_type": "stream",
     "text": [
      "84326\n",
      "(84326,)\n"
     ]
    }
   ],
   "source": [
    "print dataset.shape[0]\n",
    "print dataset.shape\n",
    "#temp = np.reshape(a=dataset.flatten(), newshape=(dataset.shape[0],34) )\n",
    "#print temp.shape"
   ]
  },
  {
   "cell_type": "code",
   "execution_count": 8,
   "metadata": {
    "scrolled": true
   },
   "outputs": [
    {
     "name": "stdout",
     "output_type": "stream",
     "text": [
      "35.92\n"
     ]
    }
   ],
   "source": [
    "Data2016=dataset\n",
    "print lumi"
   ]
  },
  {
   "cell_type": "code",
   "execution_count": 9,
   "metadata": {
    "scrolled": true
   },
   "outputs": [
    {
     "name": "stdout",
     "output_type": "stream",
     "text": [
      "21860\n"
     ]
    }
   ],
   "source": [
    "#pars = [1.02,-1.06,0.22,-0.27,0.15,0.00,0.18,0.02]# [ 0.49631107, -0.91138405, 0.11273356, -0.26872, 0.04777313, 0.06521296, 0.51138633, -0.03617261]\n",
    "#pars = [0.,-1.,0.,0.,1.,0.,0.,0.]\n",
    "pars = -1* np.array([-0.195,  1.183,  -0.219,  0.674,  -0.44,   0.003, -0.634,  -0.042]) #[ 0.06849562,  0.99606407, -0.20875171,  0.3780923 , -0.07821123, -0.05920516, -0.79644126,  0.02925767]#[1.02,-1.06,0.22,-0.27,0.15,0.00,0.18,0.02]# [ 1.0470642 , 0.3308942 , -0.08472812, 0.4989206, -0.2598824, 0.00597894, -0.6826088 , -0.06705493]\n",
    "\n",
    "c=0\n",
    "for i in xrange(0,Data2016.shape[0]):\n",
    "    if mSDmin<dataset[i][0]<=mSDmax and ptmin<dataset[i][23]<ptmax and leptWpTmin<dataset[i][33] and dataset[i][36]>np.pi/2 and dataset[i][37]>2. and dataset[i][38]>2. and dataset[i][39]==1:# and dataset[i][27]<0.45:\n",
    "        #if ((Data2016[i][1])**(pars[0]))*((Data2016[i][2])**(pars[1]))*((Data2016[i][3])**(pars[2]))*((Data2016[i][4])**(pars[3]))*((Data2016[i][5])**(pars[4]))*((Data2016[i][6])**(pars[5]))*((Data2016[i][8])**(pars[6]))*((Data2016[i][9])**(pars[7]))>3.:\n",
    "        c=c+1\n",
    "\n",
    "print c\n",
    "\n",
    "SM2016_npv = np.ones(c)\n",
    "SM2016_beta4W = np.ones(c)\n",
    "SM2016_pt = np.ones(c)\n",
    "SM2016_eta = np.ones(c)\n",
    "SM2016_met = np.ones(c)\n",
    "SM2016_lWpt = np.ones(c)\n",
    "SM2016_lept_pT = np.ones(c)\n",
    "SM2016_mass = np.ones(c)\n",
    "SM2016_sdmass = np.ones(c)\n",
    "SM2016_tau1 = np.ones(c)\n",
    "SM2016_tau2 = np.ones(c)\n",
    "SM2016_tau3 = np.ones(c)\n",
    "SM2016_tau4 = np.ones(c)\n",
    "SM2016_tau21 = np.ones(c)\n",
    "SM2016_N21 = np.ones(c)\n",
    "fatjet_SM2016_tau1 = np.ones(c)\n",
    "fatjet_SM2016_tau2 = np.ones(c)\n",
    "fatjet_SM2016_tau3 = np.ones(c)\n",
    "fatjet_SM2016_tau4 = np.ones(c)\n",
    "fatjet_SM2016_tau21 = np.ones(c)\n",
    "\n",
    "\n",
    "SM2016_tau1_0p5 = np.ones(c)\n",
    "SM2016_tau1_1 = np.ones(c)\n",
    "SM2016_tau1_2 = np.ones(c)\n",
    "SM2016_tau2_0p5 = np.ones(c)\n",
    "SM2016_tau2_1 = np.ones(c)\n",
    "SM2016_tau2_2 = np.ones(c)\n",
    "SM2016_tau3_0p5 = np.ones(c)\n",
    "SM2016_tau3_1 = np.ones(c)\n",
    "SM2016_tau3_2 = np.ones(c)\n",
    "SM2016_tau4_0p5 = np.ones(c)\n",
    "SM2016_tau4_1 = np.ones(c)\n",
    "SM2016_tau4_2 = np.ones(c)\n",
    "SM2016_tau5_0p5 = np.ones(c)\n",
    "SM2016_tau5_1 = np.ones(c)\n",
    "SM2016_tau5_2 = np.ones(c)\n",
    "SM2016_tau6_0p5 = np.ones(c)\n",
    "SM2016_tau6_1 = np.ones(c)\n",
    "SM2016_tau6_2 = np.ones(c)\n",
    "SM2016_tau7_0p5 = np.ones(c)\n",
    "SM2016_tau7_1 = np.ones(c)\n",
    "SM2016_tau7_2 = np.ones(c)\n",
    "\n",
    "\n",
    "c=0\n",
    "d=0\n",
    "for i in xrange(0,Data2016.shape[0]):\n",
    "    if mSDmin<dataset[i][0]<=mSDmax and ptmin<dataset[i][23]<ptmax and leptWpTmin<dataset[i][33] and dataset[i][36]>np.pi/2 and dataset[i][37]>2. and dataset[i][38]>2. and dataset[i][39]==1:# and dataset[i][27]<0.45:\n",
    "        #if ((Data2016[i][1])**(pars[0]))*((Data2016[i][2])**(pars[1]))*((Data2016[i][3])**(pars[2]))*((Data2016[i][4])**(pars[3]))*((Data2016[i][5])**(pars[4]))*((Data2016[i][6])**(pars[5]))*((Data2016[i][8])**(pars[6]))*((Data2016[i][9])**(pars[7]))>3.:\n",
    "            #print Data2016[i][29]\n",
    "        SM2016_pt[c] = Data2016[i][23]\n",
    "        SM2016_eta[c] = Data2016[i][24]\n",
    "        SM2016_met[c] = Data2016[i][26]\n",
    "        SM2016_mass[c] = Data2016[i][22]\n",
    "        SM2016_lWpt[c] = Data2016[i][33]\n",
    "        SM2016_lept_pT[c] = Data2016[i][34]\n",
    "        SM2016_npv[c] = Data2016[i][35]\n",
    "        SM2016_sdmass[c] = Data2016[i][0]\n",
    "        SM2016_tau1[c] = Data2016[i][2]\n",
    "        SM2016_tau2[c] = Data2016[i][5]\n",
    "        SM2016_tau3[c] = Data2016[i][8]\n",
    "        SM2016_tau4[c] = Data2016[i][11]\n",
    "        SM2016_tau21[c] = Data2016[i][27]\n",
    "        SM2016_N21[c] = Data2016[i][28]\n",
    "        \n",
    "        \n",
    "        SM2016_tau1_0p5[c] = dataset[i][1]\n",
    "        SM2016_tau1_1[c] = dataset[i][2]\n",
    "        SM2016_tau1_2[c] = dataset[i][3]\n",
    "        SM2016_tau2_0p5[c] = dataset[i][4]\n",
    "        SM2016_tau2_1[c] = dataset[i][5]\n",
    "        SM2016_tau2_2[c] = dataset[i][6]\n",
    "        SM2016_tau3_0p5[c] = dataset[i][7]\n",
    "        SM2016_tau3_1[c] = dataset[i][8]\n",
    "        SM2016_tau3_2[c] = dataset[i][9]\n",
    "        SM2016_tau4_0p5[c] = dataset[i][10]\n",
    "        SM2016_tau4_1[c] = dataset[i][11]\n",
    "        SM2016_tau4_2[c] = dataset[i][12]\n",
    "        SM2016_tau5_0p5[c] = dataset[i][13]\n",
    "        SM2016_tau5_1[c] = dataset[i][14]\n",
    "        SM2016_tau5_2[c] = dataset[i][15]\n",
    "        SM2016_tau6_0p5[c] = dataset[i][16]\n",
    "        SM2016_tau6_1[c] = dataset[i][17]\n",
    "        SM2016_tau6_2[c] = dataset[i][18]\n",
    "        SM2016_tau7_0p5[c] = dataset[i][19]\n",
    "        SM2016_tau7_1[c] = dataset[i][20]\n",
    "        SM2016_tau7_2[c] = dataset[i][21]\n",
    "        \n",
    "        fatjet_SM2016_tau1[c] = Data2016[i][29][0]\n",
    "        fatjet_SM2016_tau2[c] = Data2016[i][30][0]\n",
    "        fatjet_SM2016_tau3[c] = Data2016[i][31][0]\n",
    "        fatjet_SM2016_tau4[c] = Data2016[i][32][0]\n",
    "        if fatjet_SM2016_tau1[c]!=0:\n",
    "            fatjet_SM2016_tau21[d] = fatjet_SM2016_tau2[c]/fatjet_SM2016_tau1[c]\n",
    "            d=d+1\n",
    "        SM2016_beta4W[c]=((Data2016[i][1])**(pars[0]))*((Data2016[i][2])**(pars[1]))*((Data2016[i][3])**(pars[2]))*((Data2016[i][4])**(pars[3]))*((Data2016[i][5])**(pars[4]))*((Data2016[i][6])**(pars[5]))*((Data2016[i][8])**(pars[6]))*((Data2016[i][9])**(pars[7]))\n",
    "            #np.exp(np.log(Data2016[i][1])*(pars[0])+np.log(Data2016[i][2])*(pars[1])+np.log(Data2016[i][3])*(pars[2])+np.log(Data2016[i][4])*(pars[3])+np.log(Data2016[i][5])*(pars[4])+np.log(Data2016[i][6])*(pars[5])+np.log(Data2016[i][8])*(pars[6])+np.log(Data2016[i][9])*(pars[7]))\n",
    "\n",
    "        c=c+1\n",
    "#print np.min(var_sig), np.max(var_sig)\n"
   ]
  },
  {
   "cell_type": "code",
   "execution_count": 12,
   "metadata": {
    "scrolled": true
   },
   "outputs": [
    {
     "data": {
      "image/png": "[encoded data removed]",
      "text/plain": [
       "<Figure size 1152x648 with 1 Axes>"
      ]
     },
     "metadata": {
      "needs_background": "light"
     },
     "output_type": "display_data"
    },
    {
     "data": {
      "image/png": "[encoded data removed]",
      "text/plain": [
       "<Figure size 1152x648 with 1 Axes>"
      ]
     },
     "metadata": {
      "needs_background": "light"
     },
     "output_type": "display_data"
    },
    {
     "data": {
      "image/png": "[encoded data removed]",
      "text/plain": [
       "<Figure size 1152x648 with 1 Axes>"
      ]
     },
     "metadata": {
      "needs_background": "light"
     },
     "output_type": "display_data"
    },
    {
     "data": {
      "image/png": "[encoded data removed]",
      "text/plain": [
       "<Figure size 1152x648 with 1 Axes>"
      ]
     },
     "metadata": {
      "needs_background": "light"
     },
     "output_type": "display_data"
    },
    {
     "data": {
      "image/png": "[encoded data removed]",
      "text/plain": [
       "<Figure size 1152x648 with 1 Axes>"
      ]
     },
     "metadata": {
      "needs_background": "light"
     },
     "output_type": "display_data"
    },
    {
     "name": "stdout",
     "output_type": "stream",
     "text": [
      "(21860,) (21860,)\n"
     ]
    },
    {
     "data": {
      "image/png": "[encoded data removed]",
      "text/plain": [
       "<Figure size 1152x648 with 1 Axes>"
      ]
     },
     "metadata": {
      "needs_background": "light"
     },
     "output_type": "display_data"
    },
    {
     "data": {
      "image/png": "[encoded data removed]",
      "text/plain": [
       "<Figure size 1152x648 with 1 Axes>"
      ]
     },
     "metadata": {
      "needs_background": "light"
     },
     "output_type": "display_data"
    },
    {
     "data": {
      "image/png": "[encoded data removed]",
      "text/plain": [
       "<Figure size 1152x648 with 1 Axes>"
      ]
     },
     "metadata": {
      "needs_background": "light"
     },
     "output_type": "display_data"
    },
    {
     "data": {
      "image/png": "[encoded data removed]",
      "text/plain": [
       "<Figure size 1152x648 with 1 Axes>"
      ]
     },
     "metadata": {
      "needs_background": "light"
     },
     "output_type": "display_data"
    },
    {
     "data": {
      "image/png": "[encoded data removed]",
      "text/plain": [
       "<Figure size 1152x648 with 1 Axes>"
      ]
     },
     "metadata": {
      "needs_background": "light"
     },
     "output_type": "display_data"
    }
   ],
   "source": [
    "plt.figure(figsize=(16,9))\n",
    "plt.xlabel('pT (Single Muon (B,C,D,E,F,H))')\n",
    "#MC = np.loadtxt('W_MC_T11.txt')\n",
    "plt.hist(SM2016_pt, histtype='step', bins=25, label='Product observable calculated on Single Muon (B,C,D,E,F,H)')\n",
    "plt.legend(loc='best')\n",
    "plt.show()\n",
    "\n",
    "plt.figure(figsize=(16,9))\n",
    "plt.xlabel('nPV')\n",
    "#MC = np.loadtxt('W_MC_T11.txt')\n",
    "plt.hist(SM2016_npv, histtype='step', bins=25, label='Product observable calculated on Single Muon (B,C,D,E,F,H)')\n",
    "plt.legend(loc='best')\n",
    "plt.show()\n",
    "\n",
    "plt.figure(figsize=(16,9))\n",
    "plt.xlabel('beta4_Z\\' (Single Muon (B,C,D,E,F,H))')\n",
    "#MC = np.loadtxt('W_MC_T11.txt')\n",
    "plt.hist(SM2016_beta4W, histtype='step', bins=25, label='Product observable calculated on Single Muon (B,C,D,E,F,H)')\n",
    "plt.legend(loc='best')\n",
    "plt.show()\n",
    "\n",
    "\n",
    "plt.figure(figsize=(16,9))\n",
    "plt.xlabel('beta4_Z\\' (Single Muon (B,C,D,E,F,H))')\n",
    "#MC = np.loadtxt('W_MC_T11.txt')\n",
    "plt.hist(SM2016_beta4W, histtype='step', bins=25, label='Product observable calculated on Single Muon (B,C,D,E,F,H)')\n",
    "plt.legend(loc='best')\n",
    "plt.show()\n",
    "\n",
    "plt.figure(figsize=(16,9))\n",
    "plt.xlabel('tau2/tau1 (Single Muon (B,C,D,E,F,H))')\n",
    "#MC = np.loadtxt('W_MC_T11.txt')\n",
    "#plt.hist(SM2016_beta4W, histtype='step', bins=np.arange(0.,1.05,0.05), label='SM2016 tauN calculated on Single Muon (B,C,D,E,F,H)')\n",
    "#plt.hist(SM17_tau21, histtype='step', bins=np.arange(0.,1.05,0.05), color='b', label=\"Single Muon 2017 (excl. kT/E-scheme)\")\n",
    "#plt.hist(fatjet_SM17_tau21, histtype='step', bins=np.arange(0.,1.05,0.05), color='g', ls='--', label=\"Single Muon 2017 (CMS calc)\")\n",
    "plt.hist(SM2016_tau21, histtype='step', bins=np.arange(0.,1.05,0.05), color='r', ls='--', label='Single Muon (B,C,D,E,F,H) (excl. kT/E-scheme)')\n",
    "plt.hist(fatjet_SM2016_tau21, histtype='step', bins=np.arange(0.,1.05,0.05), color='k', ls=':', label='Single Muon (B,C,D,E,F,H) (CMS calc,)')\n",
    "plt.legend(loc='best')\n",
    "plt.show()\n",
    "\n",
    "\n",
    "plt.figure(figsize=(16,9))\n",
    "plt.xlabel('Jet mass (Single Muon (B,C,D,E,F,H))')\n",
    "#MC = np.loadtxt('W_MC_T11.txt')\n",
    "#plt.hist(SM2016_tau1, histtype='step', bins=20, label='SM2016 tauN calculated on Single Muon (B,C,D,E,F,H)')\n",
    "print SM2016_mass.shape, SM2016_sdmass.shape\n",
    "plt.hist(SM2016_mass, histtype='step', bins=np.arange(50,150,5.), color='r', ls='--', label='Mass')\n",
    "plt.hist(SM2016_sdmass, histtype='step', bins=np.arange(50,150,5.), color='k', ls=':', label='Mass_SD')\n",
    "plt.legend(loc='best')\n",
    "plt.show()\n",
    "\n",
    "\n",
    "plt.figure(figsize=(16,9))\n",
    "plt.xlabel('tau_1^{1}')\n",
    "#MC = np.loadtxt('W_MC_T11.txt')\n",
    "plt.hist(SM2016_tau1, histtype='step', bins=20, label='SM2016 tauN calculated on Single Muon (B,C,D,E,F,H)')\n",
    "#plt.hist(MC, histtype='step', bins=20, color='r', ls='--', label='Calculated on W\\'->WZ MC')\n",
    "plt.hist(fatjet_SM2016_tau1, histtype='step', bins=20, color='k', ls=':', label='fatjet_SM2016_tauN from Single Muon (B,C,D,E,F,H)')\n",
    "plt.legend(loc='best')\n",
    "plt.show()\n",
    "\n",
    "plt.figure(figsize=(16,9))\n",
    "plt.xlabel('tau_2^{1}')\n",
    "#MC = np.loadtxt('W_MC_T12.txt')\n",
    "plt.hist(SM2016_tau2, histtype='step', bins=20, label='SM2016 tauN calculated on Single Muon (B,C,D,E,F,H)')\n",
    "#plt.hist(MC, histtype='step', bins=20, color='r', ls='--', label='Calculated on W\\'->WZ MC')\n",
    "plt.hist(fatjet_SM2016_tau2, histtype='step', bins=20, color='k', ls=':', label='fatjet_SM2016_tauN from Single Muon (B,C,D,E,F,H)')\n",
    "plt.legend(loc='best')\n",
    "plt.show()\n",
    "\n",
    "plt.figure(figsize=(16,9))\n",
    "plt.xlabel('tau_3^{1}')\n",
    "#MC = np.loadtxt('W_MC_T13.txt')\n",
    "plt.hist(SM2016_tau3, histtype='step', bins=20, label='SM2016 tauN calculated on Single Muon (B,C,D,E,F,H)')\n",
    "#plt.hist(MC, histtype='step', bins=20, color='r', ls='--', label='Calculated on W\\'->WZ MC')\n",
    "plt.hist(fatjet_SM2016_tau3, histtype='step', bins=20, color='k', ls=':', label='fatjet_SM2016_tauN from Single Muon (B,C,D,E,F,H)')\n",
    "plt.legend(loc='best')\n",
    "plt.show()\n",
    "\n",
    "plt.figure(figsize=(16,9))\n",
    "plt.xlabel('tau_4^{1}')\n",
    "#MC = np.loadtxt('W_MC_T14.txt')\n",
    "plt.hist(SM2016_tau4, histtype='step', bins=20, label='SM2016 tauN calculated on Single Muon (B,C,D,E,F,H)')\n",
    "#plt.hist(MC, histtype='step', bins=20, color='r', ls='--', label='Calculated on W\\'->WZ MC')\n",
    "plt.hist(fatjet_SM2016_tau4, histtype='step', bins=20, color='k', ls=':', label='fatjet_SM2016_tauN from Single Muon (B,C,D,E,F,H)')\n",
    "plt.legend(loc='best')\n",
    "plt.show()"
   ]
  },
  {
   "cell_type": "code",
   "execution_count": 29,
   "metadata": {
    "scrolled": true
   },
   "outputs": [],
   "source": [
    "#weight_noPU_ST1 = (80.95*0.322*lumi*1000.)/(38811017.)*np.ones(ST1_beta4W.shape[0])*ST1_btagWeight\n",
    "#weight_noPU_ST2 = (0.322*136.02*lumi*1000.)/(66960888.)*np.ones(ST2_beta4W.shape[0])*ST2_btagWeight\n",
    "#weight_noPU_ST3 = (35.6*lumi*1000.)/(998276.)*np.ones(ST3_beta4W.shape[0])*ST3_btagWeight\n",
    "#weight_noPU_ST4 = (35.6*lumi*1000.)/(992024.)*np.ones(ST4_beta4W.shape[0])*ST4_btagWeight\n",
    "weight_noPU_TT16 = (831.76*lumi*1000.)/76915549.0*np.ones(TT16reco_beta4W.shape[0])*TT16reco_btagWeight\n",
    "#weight_noPU_Wj1 = ((60781.5*lumi*1000.)*(Wj1_genWeight/abs(Wj1_genWeight[0]))/16340924.0)*Wj1_btagWeight  #(Wj1_genWeight/abs(Wj1_genWeight[0]))/16340924.0)\n",
    "#weight_noPU_Wj2 = (60781.5*lumi*1000.)*((Wj2_genWeight/abs(Wj2_genWeight[0]))/158307515.0)*Wj2_btagWeight\n",
    "weight_noPU_data = 1.0*np.ones(SM2016_beta4W.shape[0])\n",
    "#print weight_noPU_ST1, weight_noPU_ST2, weight_noPU_ST3, weight_noPU_ST4\n",
    "#print lumi, weight_noPU_Wj2\n"
   ]
  },
  {
   "cell_type": "code",
   "execution_count": 45,
   "metadata": {
    "scrolled": true
   },
   "outputs": [
    {
     "name": "stdout",
     "output_type": "stream",
     "text": [
      "[0.31686609 0.2104952  0.37890001 ... 0.37774977 0.38997632 0.26180869]\n"
     ]
    }
   ],
   "source": [
    "#weight_ST1 = (80.95*0.322*lumi*1000.)/(38811017.)*np.ones(ST1_beta4W.shape[0])*ST1_puWeight*ST1_btagWeight*0.8\n",
    "#weight_ST2 = (0.322*136.02*lumi*1000.)/(66960888.)*np.ones(ST2_beta4W.shape[0])*ST2_puWeight*ST2_btagWeight*0.8\n",
    "#weight_ST3 = (35.6*lumi*1000.)/(998276.)*np.ones(ST3_beta4W.shape[0])*ST3_puWeight*ST3_btagWeight*0.8\n",
    "#weight_ST4 = (35.6*lumi*1000.)/(992024.)*np.ones(ST4_beta4W.shape[0])*ST4_puWeight*ST4_btagWeight*0.8\n",
    "weight_TT16 = (831.76*lumi*1000.)/76915549.*np.ones(TT16reco_beta4W.shape[0])*TT16reco_puWeight*TT16reco_btagWeight*0.8\n",
    "\n",
    "#weight_mTT16 = (831.76*lumi*1000.)/76915549.*np.ones(m_TT16_beta4W.shape[0])*m_TT16_puWeight*m_TT16_btagWeight*0.8\n",
    "#weight_umTT16 = (831.76*lumi*1000.)/76915549.*np.ones(um_TT16_beta4W.shape[0])*um_TT16_puWeight*um_TT16_btagWeight*0.8\n",
    "\n",
    "#weight_Wj1 = ((60781.5*lumi*1000.)*(Wj1_genWeight/abs(Wj1_genWeight[0]))/16340924.0)*Wj1_puWeight*Wj1_btagWeight*0.8 #*(Wj1_genWeight/abs(Wj1_genWeight[0]))/16340924.0)*Wj1_puWeight\n",
    "#weight_Wj2 = ((60781.5*lumi*1000.)*(Wj2_genWeight/abs(Wj2_genWeight[0]))/158307515.0)*Wj2_puWeight*Wj2_btagWeight*0.8 #*(Wj2_genWeight/abs(Wj2_genWeight[0]))/158307515.0)*Wj2_puWeight\n",
    "#weight_data = 1.0*np.ones(SM2016_beta4W.shape[0])\n",
    "#print weight_ST1, weight_ST2, weight_ST3, weight_ST4\n",
    "#print lumi, weight_Wj2\n",
    "print weight_TT16#TT16_puWeight"
   ]
  },
  {
   "cell_type": "code",
   "execution_count": 46,
   "metadata": {},
   "outputs": [],
   "source": [
    "def unfold_nSub(gen, reco, truth, data, nDet=50, nGen=25, \n",
    "                             xminDet=0., xmaxDet=1., xminGen=0., xmaxGen=1.,\n",
    "                             var_name= \"#tau_{N}^{#beta}\"):\n",
    "    \n",
    "    ROOT.TH1.SetDefaultSumw2()\n",
    "    histMgenMC = ROOT.TH1D(\"histMgenMC\", \"histMgenMC; %s\"%var_name, nGen, xminGen,xmaxGen)\n",
    "    fill_hist(histMgenMC, gen)\n",
    "\n",
    "    histMdetMC = ROOT.TH1D(\"histMdetMC\", \"histMdetMC; %s\"%var_name, nDet, xminDet,xmaxDet)\n",
    "    fill_hist(histMdetMC, reco)\n",
    "\n",
    "    histMgenData = ROOT.TH1D(\"histMgenData\", \"histMgenData; %s\"%var_name, nGen, xminGen,xmaxGen)\n",
    "    fill_hist(histMgenMC, truth)\n",
    "\n",
    "    histMdetData = ROOT.TH1D(\"histMdetData\", \"histMdetData; %s\"%var_name, nDet, xminDet,xmaxDet)\n",
    "    fill_hist(histMdetData, data)\n",
    "\n",
    "\n",
    "    response = ROOT.TH2D('response', 'response', nDet, xminDet, xmaxDet, nGen, xminGen, xmaxGen)\n",
    "    hist2Dfill = np.zeros((reco.shape[0], 2))\n",
    "    hist2Dfill[:,0] = reco.flatten()\n",
    "    hist2Dfill[:,1] = gen.flatten()\n",
    "    fill_hist(response, hist2Dfill)\n",
    "    \n",
    "    response.SetTitle(\";%s(det);%s(gen)\"%(var_name, var_name))\n",
    "    histMgenMC.SetTitle(\";%s(gen)\"%var_name)\n",
    "    histMdetMC.SetTitle(\";%s(det)\"%var_name)\n",
    "    histMgenData.SetTitle(\";%s(gen)\"%var_name)\n",
    "    histMdetData.SetTitle(\";%s(det)\"%var_name)\n",
    "    \n",
    "    c1 = ROOT.TCanvas(\"chistMgenMC1\", \"chistMgenMC1\")\n",
    "    histMgenMC.Draw(\"e\")\n",
    "    histMdetMC.Draw(\"e same\")\n",
    "    c1.Draw()\n",
    "    c1.SaveAs(\"Unfold_Plots/histMC_%s.png\"%var_name)\n",
    "    c1.SaveAs(\"Unfold_Plots/histMC_%s.pdf\"%var_name)\n",
    "    c1.SaveAs(\"Unfold_Plots/histMC_%s.C\"%var_name)\n",
    "    \n",
    "    c2 = ROOT.TCanvas(\"chistMgenMC1\", \"chistMgenMC1\")\n",
    "    histMgenData.Draw(\"e\")\n",
    "    histMdetData.Draw(\"e same\")\n",
    "    c2.Draw()\n",
    "    c2.SaveAs(\"Unfold_Plots/hist_CC_MC_%s.png\"%var_name)\n",
    "    c2.SaveAs(\"Unfold_Plots/hist_CC_MC_%s.pdf\"%var_name)\n",
    "    c2.SaveAs(\"Unfold_Plots/hist_CC_MC_%s.C\"%var_name)\n",
    "    \n",
    "    c3 = ROOT.TCanvas(\"cresponse1\", \"cresponse1\")\n",
    "    response.Draw(\"colz\")\n",
    "    c3.Draw()\n",
    "    c3.SaveAs(\"Unfold_Plots/response_%s.png\"%var_name)\n",
    "    c3.SaveAs(\"Unfold_Plots/response_%s.pdf\"%var_name)\n",
    "    c3.SaveAs(\"Unfold_Plots/response_%s.C\"%var_name)\n",
    "    \n",
    "    print 'getting tunfolder:'\n",
    "    tunfolder = ROOT.TUnfoldDensity(response,ROOT.TUnfold.kHistMapOutputVert,ROOT.TUnfold.kRegModeCurvature, ROOT.TUnfold.kEConstraintNone, ROOT.TUnfoldDensity.kDensityModeBinWidth);\n",
    "    print 'setting reco input'\n",
    "    tunfolder.SetInput( histMdetData );\n",
    "    \n",
    "    print 'regularizing'\n",
    "    nScan = 50\n",
    "    tauMin =-6.0\n",
    "    tauMax = 6.0\n",
    "    iBest = 0\n",
    "\n",
    "    logTauX = ROOT.MakeNullPointer(ROOT.TSpline);\n",
    "    logTauY = ROOT.MakeNullPointer(ROOT.TSpline);\n",
    "    lCurve = ROOT.MakeNullPointer(ROOT.TGraph);\n",
    "\n",
    "    print 'doing the unfolding'\n",
    "    tunfolder.ScanLcurve(nScan,tauMin,tauMax,lCurve,logTauX,logTauY);\n",
    "    print 'getting the results'\n",
    "    unfolded = tunfolder.GetOutput(\"unfolded\");\n",
    "    \n",
    "    c4 = ROOT.TCanvas('c4', 'c4')\n",
    "    unfolded.SetMarkerStyle(22)\n",
    "    unfolded.SetMarkerColor(4)\n",
    "    unfolded.SetFillColor(0)\n",
    "    histMgenData.SetMarkerStyle(21)\n",
    "    histMgenData.SetMarkerColor(2)\n",
    "\n",
    "    hs = ROOT.THStack(\"hs\", \"hs\")\n",
    "    hs.Add( histMgenData, \"hist\")\n",
    "    hs.Add( unfolded, \"e\")\n",
    "    hs.Draw(\"nostack\")\n",
    "    c4.Draw()\n",
    "    c4.SaveAs(\"Unfold_Plots/cross_unfolded_%s.png\"%var_name)\n",
    "    c4.SaveAs(\"Unfold_Plots/cross_unfolded_%s.pdf\"%var_name)\n",
    "    c4.SaveAs(\"Unfold_Plots/cross_unfolded_%s.C\"%var_name)\n",
    "    \n",
    "    return \"unfolded %s\"%var_name"
   ]
  },
  {
   "cell_type": "code",
   "execution_count": 47,
   "metadata": {},
   "outputs": [],
   "source": [
    "reco_bins = [[32, 0.02, 0.8], [32, 0., 0.64], [28, 0., 0.43], \n",
    "             [40, 0., 0.8], [34, 0., 0.68], [30, 0., 0.43], \n",
    "             [40, 0., 0.8], [34, 0., 0.68], [30, 0., 0.43], \n",
    "             [40, 0., 0.8], [34, 0., 0.68], [30, 0., 0.43],  \n",
    "             [40, 0., 0.8], [34, 0., 0.68], [30, 0., 0.43],  \n",
    "             [40, 0., 0.8], [34, 0., 0.68], [30, 0., 0.43],  \n",
    "             [40, 0., 0.8], [34, 0., 0.68], [30, 0., 0.43] ] \n",
    "\n",
    "gen_bins  = [[16, 0.02, 0.8], [16, 0., 0.64], [14, 0., 0.43], \n",
    "             [20, 0., 0.8], [17, 0., 0.68], [15, 0., 0.43], \n",
    "             [20, 0., 0.8], [17, 0., 0.68], [15, 0., 0.43], \n",
    "             [20, 0., 0.8], [17, 0., 0.68], [15, 0., 0.43],  \n",
    "             [20, 0., 0.8], [17, 0., 0.68], [15, 0., 0.43],  \n",
    "             [20, 0., 0.8], [17, 0., 0.68], [15, 0., 0.43],  \n",
    "             [20, 0., 0.8], [17, 0., 0.68], [15, 0., 0.43] ] \n",
    "\n",
    "genr_bins = [[40, 0., 0.8], [34, 0., 0.68], [30, 0., 0.43], \n",
    "             [40, 0., 0.8], [34, 0., 0.68], [30, 0., 0.43], \n",
    "             [40, 0., 0.8], [34, 0., 0.68], [30, 0., 0.43], \n",
    "             [40, 0., 0.8], [34, 0., 0.68], [30, 0., 0.43],  \n",
    "             [40, 0., 0.8], [34, 0., 0.68], [30, 0., 0.43],  \n",
    "             [40, 0., 0.8], [34, 0., 0.68], [30, 0., 0.43],  \n",
    "             [40, 0., 0.8], [34, 0., 0.68], [30, 0., 0.43] ] \n",
    "labels = [\"#tau_{1}^{0.5}\", \"#tau_{1}^{1}\", \"#tau_{1}^{2}\", \n",
    "          \"#tau_{2}^{0.5}\", \"#tau_{2}^{1}\", \"#tau_{2}^{2}\", \n",
    "          \"#tau_{3}^{0.5}\", \"#tau_{3}^{1}\", \"#tau_{3}^{2}\", \n",
    "          \"#tau_{4}^{0.5}\", \"#tau_{4}^{1}\", \"#tau_{4}^{2}\", \n",
    "          \"#tau_{5}^{0.5}\", \"#tau_{5}^{1}\", \"#tau_{5}^{2}\", \n",
    "          \"#tau_{6}^{0.5}\", \"#tau_{6}^{1}\", \"#tau_{6}^{2}\", \n",
    "          \"#tau_{7}^{0.5}\", \"#tau_{7}^{1}\", \"#tau_{7}^{2}\"]"
   ]
  },
  {
   "cell_type": "markdown",
   "metadata": {},
   "source": [
    "## 1-D unfolding of full $N$-subjettiness basis"
   ]
  },
  {
   "cell_type": "raw",
   "metadata": {},
   "source": [
    "for i in xrange(0,21):\n",
    "    print i\n",
    "    gen=TT16gen_nSub_basis[:,i]\n",
    "    reco=TT16reco_nSub_basis[:,i]\n",
    "    truth=TT16truth_nSub_basis[:,i]\n",
    "    data=TT16data_nSub_basis[:,i]\n",
    "    print unfold_nSub_crossclosure(data=data,gen=gen,reco=reco,truth=truth,nDet=reco_bins[i][0], nGen=gen_bins[i][0], \n",
    "                             var_name=labels[i], xminDet=reco_bins[i][1], xmaxDet=reco_bins[i][2],\n",
    "                             xminGen=gen_bins[i][1], xmaxGen=gen_bins[i][2])\n",
    "    "
   ]
  },
  {
   "cell_type": "markdown",
   "metadata": {},
   "source": [
    "# Unfold $\\tau_1^{(0.5)}$"
   ]
  },
  {
   "cell_type": "markdown",
   "metadata": {
    "collapsed": true
   },
   "source": [
    "#### Set the axis ranges for the generator and detector level distributions as well as the number of bins in each. Note that we want twice as many detector bins as generator level bins as recommended by the TUnfold documenation "
   ]
  },
  {
   "cell_type": "code",
   "execution_count": 77,
   "metadata": {},
   "outputs": [
    {
     "name": "stdout",
     "output_type": "stream",
     "text": [
      "0.02254972793161869\n",
      "0.2162497490644455\n",
      "0.7921093702316284\n",
      "0.7946196794509888\n"
     ]
    }
   ],
   "source": [
    "print np.min(TT16gen_nSub_basis[:,0])\n",
    "print np.min(TT16reco_nSub_basis[:,0])\n",
    "print np.max(TT16gen_nSub_basis[:,0])\n",
    "print np.max(TT16reco_nSub_basis[:,0])"
   ]
  },
  {
   "cell_type": "code",
   "execution_count": 78,
   "metadata": {},
   "outputs": [],
   "source": [
    "nDet=30\n",
    "nGen=15\n",
    "xminDet=0.2\n",
    "xmaxDet=0.8\n",
    "xminGen=0.02\n",
    "xmaxGen=0.8\n",
    "#weight_TT16 = (831.76*lumi*1000.)/10199051.*np.ones(TT16_beta4W.shape[0])*TT16_puWeight*TT16_btagWeight*0.8\n"
   ]
  },
  {
   "cell_type": "markdown",
   "metadata": {
    "collapsed": true
   },
   "source": [
    "Get the response matrix and input 1D distributions for unfolding."
   ]
  },
  {
   "cell_type": "code",
   "execution_count": 113,
   "metadata": {},
   "outputs": [
    {
     "name": "stderr",
     "output_type": "stream",
     "text": [
      "Warning in <TROOT::Append>: Replacing existing TH1: histMgenMC (Potential memory leak).\n",
      "Warning in <TROOT::Append>: Replacing existing TH1: histMdetMC (Potential memory leak).\n",
      "Warning in <TROOT::Append>: Replacing existing TH1: histMgenData (Potential memory leak).\n",
      "Warning in <TROOT::Append>: Replacing existing TH1: histMdetData (Potential memory leak).\n",
      "Warning in <TROOT::Append>: Replacing existing TH1: response (Potential memory leak).\n"
     ]
    }
   ],
   "source": [
    "ROOT.TH1.SetDefaultSumw2()\n",
    "from root_numpy import *\n",
    "\n",
    "histMgenMC = ROOT.TH1D(\"histMgenMC\", \"histMgenMC; #tau_{1}^{0.5}; Events/(0.02)\", nGen, xminGen,xmaxGen)\n",
    "fill_hist(histMgenMC, TT16gen_nSub_basis[:,0], weights=weight_TT16)\n",
    "\n",
    "histMdetMC = ROOT.TH1D(\"histMdetMC\", \"histMdetMC; #tau_{1}^{0.5}; Events/(0.02)\", nDet, xminDet,xmaxDet)\n",
    "fill_hist(histMdetMC, TT16reco_nSub_basis[:,0], weights=weight_TT16)\n",
    "\n",
    "histMgenData = ROOT.TH1D(\"histMgenData\", \"histMgenData; #tau_{1}^{0.5}; Events/(0.02)\", nGen, xminGen,xmaxGen)\n",
    "fill_hist(histMgenData, TT16gen_nSub_basis[:,0], weights=weight_TT16)\n",
    "\n",
    "histMdetData = ROOT.TH1D(\"histMdetData\", \"histMdetData; #tau_{1}^{0.5}; Events/(0.02)\", nDet, xminDet,xmaxDet)\n",
    "fill_hist(histMdetData, SM2016_tau1_0p5)\n",
    "\n",
    "\n",
    "response = ROOT.TH2D('response', 'response', nDet, xminDet, xmaxDet, nGen, xminGen, xmaxGen)\n",
    "hist2Dfill = np.zeros((TT16reco_nSub_basis[:,0].shape[0], 2))\n",
    "hist2Dfill[:,0] = TT16reco_nSub_basis[:,0].flatten()\n",
    "hist2Dfill[:,1] = TT16gen_nSub_basis[:,0].flatten()\n",
    "fill_hist(response, hist2Dfill)"
   ]
  },
  {
   "cell_type": "markdown",
   "metadata": {
    "collapsed": true
   },
   "source": [
    "Set the X and Y axis labels"
   ]
  },
  {
   "cell_type": "code",
   "execution_count": 114,
   "metadata": {},
   "outputs": [],
   "source": [
    "response.SetTitle(\";#tau_{1}^{0.5}(det);#tau_{1}^{0.5}(gen)\")\n",
    "\n",
    "\n",
    "histMgenMC.SetTitle(\";#tau_{1}^{0.5}(gen)\")\n",
    "#histMgenMC.SetFillColor(ROOT.kRed)\n",
    "#histMgenMC.SetLineColor(ROOT.kRed)\n",
    "\n",
    "histMdetMC.SetTitle(\";#tau_{1}^{0.5}(det)\")\n",
    "#histMdetMC.SetFillColor(ROOT.kBlue)\n",
    "#histMdetMC.SetLineColor(ROOT.kBlue)\n",
    "\n",
    "\n",
    "histMgenData.SetTitle(\";#tau_{1}^{0.5}(gen)\")\n",
    "#histMgenData.SetFillColor(ROOT.kGreen+2)\n",
    "#histMgenData.SetLineColor(ROOT.kGreen+2)\n",
    "\n",
    "histMdetData.SetTitle(\";#tau_{1}^{0.5}(det)\")\n",
    "#histMdetData.SetFillColor(ROOT.kBlack)\n",
    "#histMdetData.SetLineColor(ROOT.kBlack)"
   ]
  },
  {
   "cell_type": "markdown",
   "metadata": {
    "collapsed": true
   },
   "source": [
    "Draw the variables at reco and gen level and for \"data\""
   ]
  },
  {
   "cell_type": "code",
   "execution_count": 115,
   "metadata": {},
   "outputs": [
    {
     "data": {
      "image/png": "[encoded data removed]",
      "text/plain": [
       "<IPython.core.display.Image object>"
      ]
     },
     "metadata": {},
     "output_type": "display_data"
    }
   ],
   "source": [
    "c1 = ROOT.TCanvas(\"chistMgenMC1\", \"chistMgenMC1\")\n",
    "histMgenMC.Draw(\"e\")\n",
    "histMdetMC.Draw(\"e same\")\n",
    "c1.Draw()"
   ]
  },
  {
   "cell_type": "code",
   "execution_count": 116,
   "metadata": {},
   "outputs": [
    {
     "name": "stderr",
     "output_type": "stream",
     "text": [
      "Warning in <TCanvas::Constructor>: Deleting canvas with same name: chistMgenMC1\n"
     ]
    },
    {
     "data": {
      "image/png": "[encoded data removed]",
      "text/plain": [
       "<IPython.core.display.Image object>"
      ]
     },
     "metadata": {},
     "output_type": "display_data"
    }
   ],
   "source": [
    "c1 = ROOT.TCanvas(\"chistMgenMC1\", \"chistMgenMC1\")\n",
    "histMdetData.Draw(\"e \")\n",
    "histMgenData.Draw(\"e same\")\n",
    "c1.Draw()"
   ]
  },
  {
   "cell_type": "markdown",
   "metadata": {
    "collapsed": true
   },
   "source": [
    "Draw the response matrix."
   ]
  },
  {
   "cell_type": "code",
   "execution_count": 117,
   "metadata": {
    "scrolled": false
   },
   "outputs": [
    {
     "data": {
      "image/png": "[encoded data removed]",
      "text/plain": [
       "<IPython.core.display.Image object>"
      ]
     },
     "metadata": {},
     "output_type": "display_data"
    }
   ],
   "source": [
    "c1 = ROOT.TCanvas(\"cresponse1\", \"cresponse1\")\n",
    "response.Draw(\"colz\")\n",
    "c1.Draw()"
   ]
  },
  {
   "cell_type": "markdown",
   "metadata": {
    "collapsed": true
   },
   "source": [
    "### Instatiate the TUnfoldDensity Class object"
   ]
  },
  {
   "cell_type": "markdown",
   "metadata": {},
   "source": [
    "#### The argument input is as follows:"
   ]
  },
  {
   "cell_type": "markdown",
   "metadata": {},
   "source": [
    "1. Response Matrix: It is drawn above on TCanvas \"cresponse1\"\n",
    "\n",
    "2. Output Map: This is just stating whether you have generator or reconstruted level information on your X vs Y axis of the response matrix. For our current configuration, X axis is gen, Y axis is reco, the correct output is ROOT.TUnfold.kHistMapOutputVert \n",
    "\n",
    "3. Regularization Mode : Currently this notebook uses ROOT.TUnfold.kRegModeCurvature which regularizes based on the regularize the 2nd derivative of the output. More information wrt the other options can be gained from reading the __[source code](https://root.cern.ch/doc/v608/TUnfold_8h_source.html#l00107)__ \n",
    "\n",
    "4. Constraint :  Here we use ROOT.TUnfold.kEConstraintNone , meaning we do not constrain further, the other option is to force constraint of area. (Need to look into this!!)\n",
    "\n",
    "5. Density Mode: Here we use ROOT.TUnfoldDensity.kDensityModeBinWidth which uses the bin width to normalize the event rate in a given bin, accounting for non-uniformity in bin widths as discussed in __[section 7.2.1 of the TUnfold paper](https://arxiv.org/pdf/1205.6201.pdf)__"
   ]
  },
  {
   "cell_type": "code",
   "execution_count": 118,
   "metadata": {},
   "outputs": [
    {
     "name": "stdout",
     "output_type": "stream",
     "text": [
      "getting tunfolder:\n"
     ]
    },
    {
     "name": "stderr",
     "output_type": "stream",
     "text": [
      "Info in <TUnfold::SetConstraint>: fConstraint=0\n",
      "Info in <TUnfold::TUnfold>: underflow and overflow bin do not depend on the input data\n",
      "Info in <TUnfold::TUnfold>: 30 input bins and 15 output bins\n",
      "Info in <TUnfoldDensity::TUnfold>: *NOT* unfolding bin #0 (yaxis:#tau_{1}^{0.5}(gen)[ufl])\n",
      "Info in <TUnfoldDensity::TUnfold>: *NOT* unfolding bin #16 (yaxis:#tau_{1}^{0.5}(gen)[ofl])\n",
      "Info in <TUnfoldDensity::RegularizeOneDistribution>: regularizing yaxis regMode=3 densityMode=1 axisSteering=*[UOB]\n"
     ]
    }
   ],
   "source": [
    "print 'getting tunfolder:'\n",
    "tunfolder = ROOT.TUnfoldDensity(response,ROOT.TUnfold.kHistMapOutputVert,ROOT.TUnfold.kRegModeCurvature, ROOT.TUnfold.kEConstraintNone, ROOT.TUnfoldDensity.kDensityModeBinWidth)"
   ]
  },
  {
   "cell_type": "markdown",
   "metadata": {
    "collapsed": true
   },
   "source": [
    "Set the input, a 1D reconstructed histogram from either MC (closure) or Data (measurement) , binned in the detector level binning."
   ]
  },
  {
   "cell_type": "code",
   "execution_count": 119,
   "metadata": {},
   "outputs": [
    {
     "name": "stdout",
     "output_type": "stream",
     "text": [
      "setting reco input\n"
     ]
    },
    {
     "data": {
      "text/plain": [
       "3"
      ]
     },
     "execution_count": 119,
     "metadata": {},
     "output_type": "execute_result"
    },
    {
     "name": "stderr",
     "output_type": "stream",
     "text": [
      "Warning in <TUnfoldDensity::SetInput>: 3/30 input bins have zero error, and are ignored.\n"
     ]
    }
   ],
   "source": [
    "print 'setting reco input'\n",
    "tunfolder.SetInput( histMdetData )"
   ]
  },
  {
   "cell_type": "markdown",
   "metadata": {},
   "source": [
    "Unfold nScan times with values for the regularization parameter between tauMin and tauMax using the empty TSplines to store the results."
   ]
  },
  {
   "cell_type": "code",
   "execution_count": 120,
   "metadata": {
    "scrolled": true
   },
   "outputs": [
    {
     "name": "stdout",
     "output_type": "stream",
     "text": [
      "regularizing\n",
      "doing the unfolding\n",
      "getting the results\n"
     ]
    },
    {
     "name": "stderr",
     "output_type": "stream",
     "text": [
      "Info in <TUnfoldDensity::ScanLcurve>: logtau=-Infinity X=1.085764 Y=8.958626\n",
      "Info in <TUnfoldDensity::ScanLcurve>: logtau=-3.798450 X=1.140068 Y=8.790608\n",
      "Info in <TUnfoldDensity::ScanLcurve>: logtau=-4.298450 X=1.090572 Y=8.893229\n",
      "Info in <TUnfoldDensity::ScanLcurve>: logtau=-4.798450 X=1.085849 Y=8.949382\n",
      "Info in <TUnfoldDensity::ScanLcurve>: logtau=-4.048450 X=1.105680 Y=8.838585\n",
      "Info in <TUnfoldDensity::ScanLcurve>: logtau=-3.923450 X=1.119701 Y=8.813282\n",
      "Info in <TUnfoldDensity::ScanLcurve>: logtau=-4.173450 X=1.096219 Y=8.866292\n",
      "Info in <TUnfoldDensity::ScanLcurve>: logtau=-4.548450 X=1.086491 Y=8.931993\n",
      "Info in <TUnfoldDensity::ScanLcurve>: logtau=-4.423450 X=1.087723 Y=8.915673\n",
      "Info in <TUnfoldDensity::ScanLcurve>: logtau=-3.860950 X=1.128877 Y=8.801716\n",
      "Info in <TUnfoldDensity::ScanLcurve>: logtau=-4.110950 X=1.100427 Y=8.852282\n",
      "Info in <TUnfoldDensity::ScanLcurve>: logtau=-3.985950 X=1.112058 Y=8.825543\n",
      "Info in <TUnfoldDensity::ScanLcurve>: logtau=-4.235950 X=1.092972 Y=8.880118\n",
      "Info in <TUnfoldDensity::ScanLcurve>: logtau=-4.360950 X=1.088875 Y=8.905178\n",
      "Info in <TUnfoldDensity::ScanLcurve>: logtau=-4.673450 X=1.086018 Y=8.942743\n",
      "Info in <TUnfoldDensity::ScanLcurve>: logtau=-4.485950 X=1.086969 Y=8.924601\n",
      "Info in <TUnfoldDensity::ScanLcurve>: logtau=-3.829700 X=1.134181 Y=8.796124\n",
      "Info in <TUnfoldDensity::ScanLcurve>: logtau=-3.892200 X=1.124073 Y=8.807424\n",
      "Info in <TUnfoldDensity::ScanLcurve>: logtau=-4.079700 X=1.102918 Y=8.845368\n",
      "Info in <TUnfoldDensity::ScanLcurve>: logtau=-4.142200 X=1.098197 Y=8.859276\n",
      "Info in <TUnfoldDensity::ScanLcurve>: logtau=-4.017200 X=1.108722 Y=8.831969\n",
      "Info in <TUnfoldDensity::ScanLcurve>: logtau=-3.954700 X=1.115708 Y=8.819316\n",
      "Info in <TUnfoldDensity::ScanLcurve>: logtau=-4.204700 X=1.094481 Y=8.873262\n",
      "Info in <TUnfoldDensity::ScanLcurve>: logtau=-4.267200 X=1.091675 Y=8.886794\n",
      "Info in <TUnfoldDensity::ScanLcurve>: logtau=-4.329700 X=1.089646 Y=8.899371\n",
      "Info in <TUnfoldDensity::ScanLcurve>: logtau=-4.610950 X=1.086196 Y=8.937980\n",
      "Info in <TUnfoldDensity::ScanLcurve>: logtau=-4.392200 X=1.088241 Y=8.910618\n",
      "Info in <TUnfoldDensity::ScanLcurve>: logtau=-4.454700 X=1.087305 Y=8.920334\n",
      "Info in <TUnfoldDensity::ScanLcurve>: logtau=-3.814075 X=1.137045 Y=8.793359\n",
      "Info in <TUnfoldDensity::ScanLcurve>: logtau=-3.845325 X=1.131462 Y=8.798908\n",
      "Info in <TUnfoldDensity::ScanLcurve>: logtau=-3.876575 X=1.126417 Y=8.804554\n",
      "Info in <TUnfoldDensity::ScanLcurve>: logtau=-4.517200 X=1.086702 Y=8.928483\n",
      "Info in <TUnfoldDensity::ScanLcurve>: logtau=-4.095325 X=1.101639 Y=8.848812\n",
      "Info in <TUnfoldDensity::ScanLcurve>: logtau=-4.126575 X=1.099280 Y=8.855773\n",
      "Info in <TUnfoldDensity::ScanLcurve>: logtau=-4.064075 X=1.104265 Y=8.841957\n",
      "Info in <TUnfoldDensity::ScanLcurve>: logtau=-3.907825 X=1.121836 Y=8.810333\n",
      "Info in <TUnfoldDensity::ScanLcurve>: logtau=-4.157825 X=1.097177 Y=8.862786\n",
      "Info in <TUnfoldDensity::ScanLcurve>: logtau=-4.032825 X=1.107165 Y=8.835254\n",
      "Info in <TUnfoldDensity::ScanLcurve>: logtau=-4.001575 X=1.110352 Y=8.828732\n",
      "Info in <TUnfoldDensity::ScanLcurve>: logtau=-3.939075 X=1.117660 Y=8.816276\n",
      "Info in <TUnfoldDensity::ScanLcurve>: logtau=-3.970325 X=1.113843 Y=8.822405\n",
      "Info in <TUnfoldDensity::ScanLcurve>: logtau=-4.189075 X=1.095321 Y=8.869787\n",
      "Info in <TUnfoldDensity::ScanLcurve>: logtau=-4.220325 X=1.093699 Y=8.876709\n",
      "Info in <TUnfoldDensity::ScanLcurve>: logtau=-4.251575 X=1.092298 Y=8.883483\n",
      "Info in <TUnfoldDensity::ScanLcurve>: logtau=-4.735950 X=1.085911 Y=8.946481\n",
      "Info in <TUnfoldDensity::ScanLcurve>: logtau=-4.282825 X=1.091100 Y=8.890046\n",
      "Info in <TUnfoldDensity::ScanLcurve>: logtau=-4.314075 X=1.090088 Y=8.896340\n",
      "Info in <TUnfoldDensity::ScanLcurve>: logtau=-4.579700 X=1.086326 Y=8.935152\n",
      "Info in <TUnfoldDensity::ScanLcurve>: logtau=-4.345325 X=1.089242 Y=8.902318\n",
      "Info in <TUnfoldDensity::ScanLcurve>: logtau=-4.376575 X=1.088542 Y=8.907945\n",
      "Info in <TUnfoldDensity::ScanLcurve>: Result logtau=-3.890102 X=1.124381 Y=8.807037\n",
      "Warning in <TROOT::Append>: Replacing existing TH1: unfolded (Potential memory leak).\n"
     ]
    }
   ],
   "source": [
    "print 'regularizing'\n",
    "nScan=50\n",
    "tauMin=-5.0\n",
    "tauMax=10.0\n",
    "iBest=0\n",
    "\n",
    "logTauX = ROOT.MakeNullPointer(ROOT.TSpline)\n",
    "logTauY = ROOT.MakeNullPointer(ROOT.TSpline)\n",
    "lCurve = ROOT.MakeNullPointer(ROOT.TGraph)\n",
    "\n",
    "print 'doing the unfolding'\n",
    "tunfolder.ScanLcurve(nScan,tauMin,tauMax,lCurve,logTauX,logTauY);\n",
    "print 'getting the results'\n",
    "unfolded = tunfolder.GetOutput(\"unfolded\")"
   ]
  },
  {
   "cell_type": "code",
   "execution_count": 121,
   "metadata": {
    "scrolled": false
   },
   "outputs": [
    {
     "name": "stderr",
     "output_type": "stream",
     "text": [
      "Warning in <TCanvas::Constructor>: Deleting canvas with same name: c5\n"
     ]
    },
    {
     "data": {
      "image/png": "[encoded data removed]",
      "text/plain": [
       "<IPython.core.display.Image object>"
      ]
     },
     "metadata": {},
     "output_type": "display_data"
    }
   ],
   "source": [
    "c5 = ROOT.TCanvas('c5', 'c5')\n",
    "unfolded.SetMarkerStyle(22)\n",
    "unfolded.SetMarkerColor(4)\n",
    "unfolded.SetFillColor(0)\n",
    "histMgenData.SetMarkerStyle(21)\n",
    "histMgenData.SetMarkerColor(2)\n",
    "\n",
    "hs = ROOT.THStack(\"hs\", \"hs\")\n",
    "hs.Add( histMgenData, \"hist\")\n",
    "hs.Add( unfolded, \"e\")\n",
    "hs.Draw(\"nostack\")\n",
    "c5.Draw()"
   ]
  },
  {
   "cell_type": "markdown",
   "metadata": {},
   "source": [
    "# Unfold $\\tau_1^{(1)}$"
   ]
  },
  {
   "cell_type": "markdown",
   "metadata": {
    "collapsed": true
   },
   "source": [
    "Get the response matrix and input 1D distributions for unfolding."
   ]
  },
  {
   "cell_type": "code",
   "execution_count": null,
   "metadata": {},
   "outputs": [],
   "source": [
    "print np.min(TT16gen_nSub_basis[:,1])\n",
    "print np.min(TT16reco_nSub_basis[:,1])\n",
    "print np.max(TT16gen_nSub_basis[:,1])\n",
    "print np.max(TT16reco_nSub_basis[:,1])"
   ]
  },
  {
   "cell_type": "markdown",
   "metadata": {
    "collapsed": true
   },
   "source": [
    "#### Set the axis ranges for the generator nd detector level distributions as well as the number of bins in each. Note that we want twice as many detector bins as generator level bins as recommended by the TUnfold documenation "
   ]
  },
  {
   "cell_type": "code",
   "execution_count": null,
   "metadata": {},
   "outputs": [],
   "source": [
    "nDet=32\n",
    "nGen=16\n",
    "xminDet=0.0\n",
    "xmaxDet=0.64\n",
    "xminGen=0.0\n",
    "xmaxGen=0.64\n",
    "#weight_TT16 = (831.76*lumi*1000.)/10199051.*np.ones(TT16_beta4W.shape[0])*TT16_puWeight*TT16_btagWeight*0.8\n"
   ]
  },
  {
   "cell_type": "code",
   "execution_count": null,
   "metadata": {},
   "outputs": [],
   "source": [
    "ROOT.TH1.SetDefaultSumw2()\n",
    "from root_numpy import *\n",
    "\n",
    "histMgenMC = ROOT.TH1D(\"histMgenMC\", \"histMgenMC; #tau_{1}^{1}; Events/(0.02)\", nGen, xminGen,xmaxGen)\n",
    "fill_hist(histMgenMC, TT16gen_nSub_basis[:,1])\n",
    "\n",
    "histMdetMC = ROOT.TH1D(\"histMdetMC\", \"histMdetMC; #tau_{1}^{1}; Events/(0.02)\", nDet, xminDet,xmaxDet)\n",
    "fill_hist(histMdetMC, TT16reco_nSub_basis[:,1])\n",
    "\n",
    "histMgenData = ROOT.TH1D(\"histMgenData\", \"histMgenData; #tau_{1}^{1}; Events/(0.02)\", nGen, xminGen,xmaxGen)\n",
    "fill_hist(histMgenData, TT16truth_nSub_basis[:,1])\n",
    "\n",
    "histMdetData = ROOT.TH1D(\"histMdetData\", \"histMdetData; #tau_{1}^{1}; Events/(0.02)\", nDet, xminDet,xmaxDet)\n",
    "fill_hist(histMdetData, TT16data_nSub_basis[:,1])\n",
    "\n",
    "\n",
    "response = ROOT.TH2D('response', 'response', nDet, xminDet, xmaxDet, nGen, xminGen, xmaxGen)\n",
    "hist2Dfill = np.zeros((TT16reco_nSub_basis[:,1].shape[0], 2))\n",
    "hist2Dfill[:,0] = TT16reco_nSub_basis[:,1].flatten()\n",
    "hist2Dfill[:,1] = TT16gen_nSub_basis[:,1].flatten()\n",
    "fill_hist(response, hist2Dfill)"
   ]
  },
  {
   "cell_type": "raw",
   "metadata": {},
   "source": [
    "xaxis =  array.array('d',[a for a in xrange(nmbinsGen *nptbinsGen + 1 )])\n",
    "nx = len(xaxis)-1\n",
    "\n",
    "print xaxis\n",
    "\n",
    "yaxis =  array.array('d',[a for a in xrange(nmbinsDet *nptbinsDet+1 )])\n",
    "ny = len(yaxis)-1\n",
    "\n",
    "print yaxis\n",
    "\n",
    "h_response = ROOT.TH2D('h_response',   'h_response', nx , xaxis, ny, yaxis )\n",
    "#print h_response2.GetXaxis.GetNbins()\n",
    "print nx\n",
    "print ny\n",
    "nb = nx*ny\n",
    "print nb"
   ]
  },
  {
   "cell_type": "raw",
   "metadata": {
    "collapsed": true
   },
   "source": [
    "response =ROOT.gDirectory.Get(\"response\")\n",
    "histMgenMC=ROOT.gDirectory.Get(\"histMgenMC\")\n",
    "histMdetMC=ROOT.gDirectory.Get(\"histMdetMC\")\n",
    "histMgenData=ROOT.gDirectory.Get(\"histMgenData\")\n",
    "histMdetData=ROOT.gDirectory.Get(\"histMdetData\")"
   ]
  },
  {
   "cell_type": "markdown",
   "metadata": {
    "collapsed": true
   },
   "source": [
    "Set the X and Y axis labels"
   ]
  },
  {
   "cell_type": "code",
   "execution_count": null,
   "metadata": {},
   "outputs": [],
   "source": [
    "response.SetTitle(\";#tau_{1}^{1}(det);#tau_{1}^{1}(gen)\")\n",
    "\n",
    "\n",
    "histMgenMC.SetTitle(\";#tau_{1}^{1}(gen)\")\n",
    "#histMgenMC.SetFillColor(ROOT.kRed)\n",
    "#histMgenMC.SetLineColor(ROOT.kRed)\n",
    "\n",
    "histMdetMC.SetTitle(\";#tau_{1}^{1}(det)\")\n",
    "#histMdetMC.SetFillColor(ROOT.kBlue)\n",
    "#histMdetMC.SetLineColor(ROOT.kBlue)\n",
    "\n",
    "\n",
    "histMgenData.SetTitle(\";#tau_{1}^{1}(gen)\")\n",
    "#histMgenData.SetFillColor(ROOT.kGreen+2)\n",
    "#histMgenData.SetLineColor(ROOT.kGreen+2)\n",
    "\n",
    "histMdetData.SetTitle(\";#tau_{1}^{1}(det)\")\n",
    "#histMdetData.SetFillColor(ROOT.kBlack)\n",
    "#histMdetData.SetLineColor(ROOT.kBlack)"
   ]
  },
  {
   "cell_type": "markdown",
   "metadata": {
    "collapsed": true
   },
   "source": [
    "Draw the variables at reco and gen level and for \"data\""
   ]
  },
  {
   "cell_type": "code",
   "execution_count": null,
   "metadata": {},
   "outputs": [],
   "source": [
    "c1 = ROOT.TCanvas(\"chistMgenMC1\", \"chistMgenMC1\")\n",
    "histMgenMC.Draw(\"e\")\n",
    "histMdetMC.Draw(\"e same\")\n",
    "c1.Draw()"
   ]
  },
  {
   "cell_type": "code",
   "execution_count": null,
   "metadata": {},
   "outputs": [],
   "source": [
    "c1 = ROOT.TCanvas(\"chistMgenMC1\", \"chistMgenMC1\")\n",
    "histMgenData.Draw(\"e\")\n",
    "histMdetData.Draw(\"e same\")\n",
    "c1.Draw()"
   ]
  },
  {
   "cell_type": "markdown",
   "metadata": {
    "collapsed": true
   },
   "source": [
    "Draw the response matrix."
   ]
  },
  {
   "cell_type": "code",
   "execution_count": null,
   "metadata": {
    "scrolled": false
   },
   "outputs": [],
   "source": [
    "c1 = ROOT.TCanvas(\"cresponse1\", \"cresponse1\")\n",
    "response.Draw(\"colz\")\n",
    "c1.Draw()"
   ]
  },
  {
   "cell_type": "code",
   "execution_count": null,
   "metadata": {},
   "outputs": [],
   "source": [
    "#### In MC :"
   ]
  },
  {
   "cell_type": "code",
   "execution_count": null,
   "metadata": {},
   "outputs": [],
   "source": [
    "c2 = ROOT.TCanvas(\"MCcompare\", \"MCcompare\")\n",
    "histMgenMC.Draw('e')\n",
    "histMdetMC.Draw('e same')\n",
    "c2.Draw()"
   ]
  },
  {
   "cell_type": "markdown",
   "metadata": {
    "collapsed": true
   },
   "source": [
    "#### In Data:"
   ]
  },
  {
   "cell_type": "code",
   "execution_count": null,
   "metadata": {},
   "outputs": [],
   "source": [
    "print 'getting tunfolder:'\n",
    "tunfolder = ROOT.TUnfoldDensity(response,ROOT.TUnfold.kHistMapOutputVert,ROOT.TUnfold.kRegModeCurvature, ROOT.TUnfold.kEConstraintNone, ROOT.TUnfoldDensity.kDensityModeBinWidth)"
   ]
  },
  {
   "cell_type": "code",
   "execution_count": null,
   "metadata": {
    "scrolled": false
   },
   "outputs": [],
   "source": [
    "c3 = ROOT.TCanvas(\"datadists\", \"datadists\")\n",
    "histMgenData.Draw('e')\n",
    "histMdetData.Draw('e same')\n",
    "c3.Draw()"
   ]
  },
  {
   "cell_type": "markdown",
   "metadata": {
    "collapsed": true
   },
   "source": [
    "Set the input, a 1D reconstructed histogram from either MC (closure) or Data (measurement) , binned in the detector level binning."
   ]
  },
  {
   "cell_type": "code",
   "execution_count": null,
   "metadata": {},
   "outputs": [],
   "source": [
    "print 'setting reco input'\n",
    "tunfolder.SetInput( histMdetData )"
   ]
  },
  {
   "cell_type": "markdown",
   "metadata": {},
   "source": [
    "Unfold nScan times with values for the regularization parameter between tauMin and tauMax using the empty TSplines to store the results."
   ]
  },
  {
   "cell_type": "code",
   "execution_count": null,
   "metadata": {
    "scrolled": true
   },
   "outputs": [],
   "source": [
    "print 'regularizing'\n",
    "nScan=50\n",
    "tauMin=0.0\n",
    "tauMax=0.0\n",
    "iBest=0\n",
    "\n",
    "logTauX = ROOT.MakeNullPointer(ROOT.TSpline)\n",
    "logTauY = ROOT.MakeNullPointer(ROOT.TSpline)\n",
    "lCurve = ROOT.MakeNullPointer(ROOT.TGraph)\n",
    "\n",
    "print 'doing the unfolding'\n",
    "tunfolder.ScanLcurve(nScan,tauMin,tauMax,lCurve,logTauX,logTauY);\n",
    "print 'getting the results'\n",
    "unfolded = tunfolder.GetOutput(\"unfolded\")"
   ]
  },
  {
   "cell_type": "code",
   "execution_count": null,
   "metadata": {
    "scrolled": true
   },
   "outputs": [],
   "source": [
    "c5 = ROOT.TCanvas('c5', 'c5')\n",
    "unfolded.SetMarkerStyle(22)\n",
    "unfolded.SetMarkerColor(4)\n",
    "unfolded.SetFillColor(0)\n",
    "histMgenData.SetMarkerStyle(21)\n",
    "histMgenData.SetMarkerColor(2)\n",
    "\n",
    "hs = ROOT.THStack(\"hs\", \"hs\")\n",
    "hs.Add( histMgenData, \"hist\")\n",
    "hs.Add( unfolded, \"e\")\n",
    "hs.Draw(\"nostack\")\n",
    "c5.Draw()"
   ]
  },
  {
   "cell_type": "code",
   "execution_count": null,
   "metadata": {},
   "outputs": [],
   "source": []
  },
  {
   "cell_type": "markdown",
   "metadata": {},
   "source": [
    "# Unfold $\\tau_1^{(2)}$"
   ]
  },
  {
   "cell_type": "markdown",
   "metadata": {
    "collapsed": true
   },
   "source": [
    "Get the response matrix and input 1D distributions for unfolding."
   ]
  },
  {
   "cell_type": "code",
   "execution_count": null,
   "metadata": {
    "scrolled": true
   },
   "outputs": [],
   "source": [
    "print np.min(TT16gen_nSub_basis[:,2])\n",
    "print np.min(TT16reco_nSub_basis[:,2])\n",
    "print np.max(TT16gen_nSub_basis[:,2])\n",
    "print np.max(TT16reco_nSub_basis[:,2])\n",
    "\n",
    "print np.min(TT16data_nSub_basis[:,2])\n",
    "print np.max(TT16data_nSub_basis[:,2])\n",
    "print np.min(TT16truth_nSub_basis[:,2])\n",
    "print np.max(TT16truth_nSub_basis[:,2])\n",
    "\n"
   ]
  },
  {
   "cell_type": "markdown",
   "metadata": {
    "collapsed": true
   },
   "source": [
    "#### Set the axis ranges for the generator nd detector level distributions as well as the number of bins in each. Note that we want twice as many detector bins as generator level bins as recommended by the TUnfold documenation "
   ]
  },
  {
   "cell_type": "code",
   "execution_count": null,
   "metadata": {},
   "outputs": [],
   "source": [
    "nDet=28\n",
    "nGen=14\n",
    "xminDet=0.\n",
    "xmaxDet=0.43\n",
    "xminGen=0.\n",
    "xmaxGen=0.43\n",
    "#weight_TT16 = (831.76*lumi*1000.)/10199051.*np.ones(TT16_beta4W.shape[0])*TT16_puWeight*TT16_btagWeight*0.8\n"
   ]
  },
  {
   "cell_type": "code",
   "execution_count": null,
   "metadata": {},
   "outputs": [],
   "source": [
    "ROOT.TH1.SetDefaultSumw2()\n",
    "from root_numpy import *\n",
    "\n",
    "histMgenMC = ROOT.TH1D(\"histMgenMC\", \"histMgenMC; #tau_{1}^{2}; Events/(0.02)\", nGen, xminGen,xmaxGen)\n",
    "fill_hist(histMgenMC, TT16gen_nSub_basis[:,2])\n",
    "\n",
    "histMdetMC = ROOT.TH1D(\"histMdetMC\", \"histMdetMC; #tau_{1}^{2}; Events/(0.02)\", nDet, xminDet,xmaxDet)\n",
    "fill_hist(histMdetMC, TT16reco_nSub_basis[:,2])\n",
    "\n",
    "histMgenData = ROOT.TH1D(\"histMgenData\", \"histMgenData; #tau_{1}^{2}; Events/(0.02)\", nGen, xminGen,xmaxGen)\n",
    "fill_hist(histMgenData, TT16truth_nSub_basis[:,2])\n",
    "\n",
    "histMdetData = ROOT.TH1D(\"histMdetData\", \"histMdetData; #tau_{1}^{2}; Events/(0.02)\", nDet, xminDet,xmaxDet)\n",
    "fill_hist(histMdetData, TT16data_nSub_basis[:,2])\n",
    "\n",
    "\n",
    "response = ROOT.TH2D('response', 'response', nDet, xminDet, xmaxDet, nGen, xminGen, xmaxGen)\n",
    "hist2Dfill = np.zeros((TT16reco_nSub_basis[:,2].shape[0], 2))\n",
    "hist2Dfill[:,0] = TT16reco_nSub_basis[:,2].flatten()\n",
    "hist2Dfill[:,1] = TT16gen_nSub_basis[:,2].flatten()\n",
    "fill_hist(response, hist2Dfill)"
   ]
  },
  {
   "cell_type": "raw",
   "metadata": {},
   "source": [
    "xaxis =  array.array('d',[a for a in xrange(nmbinsGen *nptbinsGen + 1 )])\n",
    "nx = len(xaxis)-1\n",
    "\n",
    "print xaxis\n",
    "\n",
    "yaxis =  array.array('d',[a for a in xrange(nmbinsDet *nptbinsDet+1 )])\n",
    "ny = len(yaxis)-1\n",
    "\n",
    "print yaxis\n",
    "\n",
    "h_response = ROOT.TH2D('h_response',   'h_response', nx , xaxis, ny, yaxis )\n",
    "#print h_response2.GetXaxis.GetNbins()\n",
    "print nx\n",
    "print ny\n",
    "nb = nx*ny\n",
    "print nb"
   ]
  },
  {
   "cell_type": "raw",
   "metadata": {
    "collapsed": true
   },
   "source": [
    "response =ROOT.gDirectory.Get(\"response\")\n",
    "histMgenMC=ROOT.gDirectory.Get(\"histMgenMC\")\n",
    "histMdetMC=ROOT.gDirectory.Get(\"histMdetMC\")\n",
    "histMgenData=ROOT.gDirectory.Get(\"histMgenData\")\n",
    "histMdetData=ROOT.gDirectory.Get(\"histMdetData\")"
   ]
  },
  {
   "cell_type": "markdown",
   "metadata": {
    "collapsed": true
   },
   "source": [
    "Set the X and Y axis labels"
   ]
  },
  {
   "cell_type": "code",
   "execution_count": null,
   "metadata": {},
   "outputs": [],
   "source": [
    "response.SetTitle(\";#tau_{1}^{2}(det);#tau_{1}^{2}(gen)\")\n",
    "\n",
    "\n",
    "histMgenMC.SetTitle(\";#tau_{1}^{2}(gen)\")\n",
    "#histMgenMC.SetFillColor(ROOT.kRed)\n",
    "#histMgenMC.SetLineColor(ROOT.kRed)\n",
    "\n",
    "histMdetMC.SetTitle(\";#tau_{1}^{2}(det)\")\n",
    "#histMdetMC.SetFillColor(ROOT.kBlue)\n",
    "#histMdetMC.SetLineColor(ROOT.kBlue)\n",
    "\n",
    "\n",
    "histMgenData.SetTitle(\";#tau_{1}^{2}(gen)\")\n",
    "#histMgenData.SetFillColor(ROOT.kGreen+2)\n",
    "#histMgenData.SetLineColor(ROOT.kGreen+2)\n",
    "\n",
    "histMdetData.SetTitle(\";#tau_{1}^{2}(det)\")\n",
    "#histMdetData.SetFillColor(ROOT.kBlack)\n",
    "#histMdetData.SetLineColor(ROOT.kBlack)"
   ]
  },
  {
   "cell_type": "markdown",
   "metadata": {
    "collapsed": true
   },
   "source": [
    "Draw the variables at reco and gen level and for \"data\""
   ]
  },
  {
   "cell_type": "code",
   "execution_count": null,
   "metadata": {},
   "outputs": [],
   "source": [
    "c1 = ROOT.TCanvas(\"chistMgenMC1\", \"chistMgenMC1\")\n",
    "histMgenMC.Draw(\"e\")\n",
    "histMdetMC.Draw(\"e same\")\n",
    "c1.Draw()"
   ]
  },
  {
   "cell_type": "code",
   "execution_count": null,
   "metadata": {},
   "outputs": [],
   "source": [
    "c1 = ROOT.TCanvas(\"chistMgenMC1\", \"chistMgenMC1\")\n",
    "histMgenData.Draw(\"e\")\n",
    "histMdetData.Draw(\"e same\")\n",
    "c1.Draw()"
   ]
  },
  {
   "cell_type": "markdown",
   "metadata": {
    "collapsed": true
   },
   "source": [
    "Draw the response matrix."
   ]
  },
  {
   "cell_type": "code",
   "execution_count": null,
   "metadata": {
    "scrolled": false
   },
   "outputs": [],
   "source": [
    "c1 = ROOT.TCanvas(\"cresponse1\", \"cresponse1\")\n",
    "response.Draw(\"colz\")\n",
    "c1.Draw()"
   ]
  },
  {
   "cell_type": "code",
   "execution_count": null,
   "metadata": {},
   "outputs": [],
   "source": [
    "#### In MC :"
   ]
  },
  {
   "cell_type": "code",
   "execution_count": null,
   "metadata": {},
   "outputs": [],
   "source": [
    "c2 = ROOT.TCanvas(\"MCcompare\", \"MCcompare\")\n",
    "histMgenMC.Draw('e')\n",
    "histMdetMC.Draw('e same')\n",
    "c2.Draw()"
   ]
  },
  {
   "cell_type": "markdown",
   "metadata": {
    "collapsed": true
   },
   "source": [
    "#### In Data:"
   ]
  },
  {
   "cell_type": "code",
   "execution_count": null,
   "metadata": {
    "scrolled": false
   },
   "outputs": [],
   "source": [
    "c3 = ROOT.TCanvas(\"datadists\", \"datadists\")\n",
    "histMgenData.Draw('e')\n",
    "histMdetData.Draw('e same')\n",
    "c3.Draw()"
   ]
  },
  {
   "cell_type": "code",
   "execution_count": null,
   "metadata": {},
   "outputs": [],
   "source": [
    "print 'getting tunfolder:'\n",
    "tunfolder = ROOT.TUnfoldDensity(response,ROOT.TUnfold.kHistMapOutputVert,ROOT.TUnfold.kRegModeCurvature, ROOT.TUnfold.kEConstraintNone, ROOT.TUnfoldDensity.kDensityModeBinWidth)"
   ]
  },
  {
   "cell_type": "markdown",
   "metadata": {
    "collapsed": true
   },
   "source": [
    "Set the input, a 1D reconstructed histogram from either MC (closure) or Data (measurement) , binned in the detector level binning."
   ]
  },
  {
   "cell_type": "code",
   "execution_count": null,
   "metadata": {},
   "outputs": [],
   "source": [
    "print 'setting reco input'\n",
    "tunfolder.SetInput( histMdetData )"
   ]
  },
  {
   "cell_type": "markdown",
   "metadata": {},
   "source": [
    "Unfold nScan times with values for the regularization parameter between tauMin and tauMax using the empty TSplines to store the results."
   ]
  },
  {
   "cell_type": "code",
   "execution_count": null,
   "metadata": {},
   "outputs": [],
   "source": [
    "print 'regularizing'\n",
    "nScan=50\n",
    "tauMin=0.0\n",
    "tauMax=0.0\n",
    "iBest=0\n",
    "\n",
    "logTauX = ROOT.MakeNullPointer(ROOT.TSpline)\n",
    "logTauY = ROOT.MakeNullPointer(ROOT.TSpline)\n",
    "lCurve = ROOT.MakeNullPointer(ROOT.TGraph)\n",
    "\n",
    "print 'doing the unfolding'\n",
    "tunfolder.ScanLcurve(nScan,tauMin,tauMax,lCurve,logTauX,logTauY);\n",
    "print 'getting the results'\n",
    "unfolded = tunfolder.GetOutput(\"unfolded\")"
   ]
  },
  {
   "cell_type": "code",
   "execution_count": null,
   "metadata": {},
   "outputs": [],
   "source": []
  },
  {
   "cell_type": "code",
   "execution_count": null,
   "metadata": {},
   "outputs": [],
   "source": [
    "c5 = ROOT.TCanvas('c5', 'c5')\n",
    "unfolded.SetMarkerStyle(22)\n",
    "unfolded.SetMarkerColor(4)\n",
    "unfolded.SetFillColor(0)\n",
    "histMgenData.SetMarkerStyle(21)\n",
    "histMgenData.SetMarkerColor(2)\n",
    "\n",
    "hs = ROOT.THStack(\"hs\", \"hs\")\n",
    "hs.Add( histMgenData, \"hist\")\n",
    "hs.Add( unfolded, \"e\")\n",
    "hs.Draw(\"nostack\")\n",
    "c5.Draw()"
   ]
  },
  {
   "cell_type": "code",
   "execution_count": null,
   "metadata": {},
   "outputs": [],
   "source": []
  },
  {
   "cell_type": "markdown",
   "metadata": {},
   "source": [
    "# Unfold $\\tau_2^{(0.5)}$"
   ]
  },
  {
   "cell_type": "markdown",
   "metadata": {
    "collapsed": true
   },
   "source": [
    "#### Set the axis ranges for the generator nd detector level distributions as well as the number of bins in each. Note that we want twice as many detector bins as generator level bins as recommended by the TUnfold documenation "
   ]
  },
  {
   "cell_type": "markdown",
   "metadata": {
    "collapsed": true
   },
   "source": [
    "Get the response matrix and input 1D distributions for unfolding."
   ]
  },
  {
   "cell_type": "code",
   "execution_count": null,
   "metadata": {},
   "outputs": [],
   "source": [
    "print np.min(TT16gen_nSub_basis[:,3])\n",
    "print np.min(TT16reco_nSub_basis[:,3])\n",
    "print np.max(TT16gen_nSub_basis[:,3])\n",
    "print np.max(TT16reco_nSub_basis[:,3])"
   ]
  },
  {
   "cell_type": "code",
   "execution_count": null,
   "metadata": {},
   "outputs": [],
   "source": [
    "nDet=28\n",
    "nGen=14\n",
    "xminDet=0.0\n",
    "xmaxDet=0.65\n",
    "xminGen=0.0\n",
    "xmaxGen=0.65\n",
    "#weight_TT16 = (831.76*lumi*1000.)/10199051.*np.ones(TT16_beta4W.shape[0])*TT16_puWeight*TT16_btagWeight*0.8"
   ]
  },
  {
   "cell_type": "code",
   "execution_count": null,
   "metadata": {},
   "outputs": [],
   "source": [
    "ROOT.TH1.SetDefaultSumw2()\n",
    "from root_numpy import *\n",
    "\n",
    "histMgenMC = ROOT.TH1D(\"histMgenMC\", \"histMgenMC; #tau_{2}^{0.5}; Events/(0.02)\", nGen, xminGen,xmaxGen)\n",
    "fill_hist(histMgenMC, TT16gen_tau2_0p5)\n",
    "\n",
    "histMdetMC = ROOT.TH1D(\"histMdetMC\", \"histMdetMC; #tau_{2}^{0.5}; Events/(0.02)\", nDet, xminDet,xmaxDet)\n",
    "fill_hist(histMdetMC, TT16reco_tau2_0p5)\n",
    "\n",
    "histMgenData = ROOT.TH1D(\"histMgenData\", \"histMgenData; #tau_{2}^{0.5}; Events/(0.02)\", nGen, xminGen,xmaxGen)\n",
    "fill_hist(histMgenData, TT16truth_tau2_0p5)\n",
    "\n",
    "histMdetData = ROOT.TH1D(\"histMdetData\", \"histMdetData; #tau_{2}^{0.5}; Events/(0.02)\", nDet, xminDet,xmaxDet)\n",
    "fill_hist(histMdetData, TT16data_tau2_0p5)\n",
    "\n",
    "\n",
    "response = ROOT.TH2D('response', 'response', nDet, xminDet, xmaxDet, nGen, xminGen, xmaxGen)\n",
    "hist2Dfill = np.zeros((TT16reco_tau2_0p5.shape[0], 2))\n",
    "hist2Dfill[:,0] = TT16reco_tau2_0p5.flatten()\n",
    "hist2Dfill[:,1] = TT16gen_tau2_0p5.flatten()\n",
    "fill_hist(response, hist2Dfill)"
   ]
  },
  {
   "cell_type": "markdown",
   "metadata": {
    "collapsed": true
   },
   "source": [
    "Set the X and Y axis labels"
   ]
  },
  {
   "cell_type": "code",
   "execution_count": null,
   "metadata": {},
   "outputs": [],
   "source": [
    "response.SetTitle(\";#tau_{2}^{0.5}(det);#tau_{2}^{0.5}(gen)\")\n",
    "\n",
    "\n",
    "histMgenMC.SetTitle(\";#tau_{2}^{0.5}(gen)\")\n",
    "#histMgenMC.SetFillColor(ROOT.kRed)\n",
    "#histMgenMC.SetLineColor(ROOT.kRed)\n",
    "\n",
    "histMdetMC.SetTitle(\";#tau_{2}^{0.5}(det)\")\n",
    "#histMdetMC.SetFillColor(ROOT.kBlue)\n",
    "#histMdetMC.SetLineColor(ROOT.kBlue)\n",
    "\n",
    "\n",
    "histMgenData.SetTitle(\";#tau_{2}^{0.5}(gen)\")\n",
    "#histMgenData.SetFillColor(ROOT.kGreen+2)\n",
    "#histMgenData.SetLineColor(ROOT.kGreen+2)\n",
    "\n",
    "histMdetData.SetTitle(\";#tau_{2}^{0.5}(det)\")\n",
    "#histMdetData.SetFillColor(ROOT.kBlack)\n",
    "#histMdetData.SetLineColor(ROOT.kBlack)"
   ]
  },
  {
   "cell_type": "markdown",
   "metadata": {
    "collapsed": true
   },
   "source": [
    "Draw the variables at reco and gen level and for \"data\""
   ]
  },
  {
   "cell_type": "code",
   "execution_count": null,
   "metadata": {},
   "outputs": [],
   "source": [
    "c1 = ROOT.TCanvas(\"chistMgenMC1\", \"chistMgenMC1\")\n",
    "histMgenMC.Draw(\"e\")\n",
    "histMdetMC.Draw(\"e same\")\n",
    "c1.Draw()"
   ]
  },
  {
   "cell_type": "code",
   "execution_count": null,
   "metadata": {},
   "outputs": [],
   "source": [
    "c1 = ROOT.TCanvas(\"chistMgenMC1\", \"chistMgenMC1\")\n",
    "histMgenData.Draw(\"e\")\n",
    "histMdetData.Draw(\"e same\")\n",
    "c1.Draw()"
   ]
  },
  {
   "cell_type": "markdown",
   "metadata": {
    "collapsed": true
   },
   "source": [
    "Draw the response matrix."
   ]
  },
  {
   "cell_type": "code",
   "execution_count": null,
   "metadata": {
    "scrolled": false
   },
   "outputs": [],
   "source": [
    "c1 = ROOT.TCanvas(\"cresponse1\", \"cresponse1\")\n",
    "response.Draw(\"colz\")\n",
    "c1.Draw()"
   ]
  },
  {
   "cell_type": "code",
   "execution_count": null,
   "metadata": {},
   "outputs": [],
   "source": [
    "#### In MC :"
   ]
  },
  {
   "cell_type": "code",
   "execution_count": null,
   "metadata": {},
   "outputs": [],
   "source": [
    "c2 = ROOT.TCanvas(\"MCcompare\", \"MCcompare\")\n",
    "histMgenMC.Draw('e')\n",
    "histMdetMC.Draw('e same')\n",
    "c2.Draw()"
   ]
  },
  {
   "cell_type": "markdown",
   "metadata": {
    "collapsed": true
   },
   "source": [
    "#### In Data:"
   ]
  },
  {
   "cell_type": "code",
   "execution_count": null,
   "metadata": {},
   "outputs": [],
   "source": [
    "c3 = ROOT.TCanvas(\"datadists\", \"datadists\")\n",
    "histMgenData.Draw('e')\n",
    "histMdetData.Draw('e same')\n",
    "c3.Draw()"
   ]
  },
  {
   "cell_type": "code",
   "execution_count": null,
   "metadata": {},
   "outputs": [],
   "source": [
    "print 'getting tunfolder:'\n",
    "tunfolder = ROOT.TUnfoldDensity(response,ROOT.TUnfold.kHistMapOutputVert,ROOT.TUnfold.kRegModeCurvature, ROOT.TUnfold.kEConstraintNone, ROOT.TUnfoldDensity.kDensityModeBinWidth)"
   ]
  },
  {
   "cell_type": "markdown",
   "metadata": {
    "collapsed": true
   },
   "source": [
    "Set the input, a 1D reconstructed histogram from either MC (closure) or Data (measurement) , binned in the detector level binning."
   ]
  },
  {
   "cell_type": "code",
   "execution_count": null,
   "metadata": {},
   "outputs": [],
   "source": [
    "print 'setting reco input'\n",
    "tunfolder.SetInput( histMdetData )"
   ]
  },
  {
   "cell_type": "markdown",
   "metadata": {},
   "source": [
    "Unfold nScan times with values for the regularization parameter between tauMin and tauMax using the empty TSplines to store the results."
   ]
  },
  {
   "cell_type": "code",
   "execution_count": null,
   "metadata": {
    "scrolled": true
   },
   "outputs": [],
   "source": [
    "print 'regularizing'\n",
    "nScan=50\n",
    "tauMin=-5.0\n",
    "tauMax=10.0\n",
    "iBest=0\n",
    "\n",
    "logTauX = ROOT.MakeNullPointer(ROOT.TSpline)\n",
    "logTauY = ROOT.MakeNullPointer(ROOT.TSpline)\n",
    "lCurve = ROOT.MakeNullPointer(ROOT.TGraph)\n",
    "\n",
    "print 'doing the unfolding'\n",
    "tunfolder.ScanLcurve(nScan,tauMin,tauMax,lCurve,logTauX,logTauY);\n",
    "print 'getting the results'\n",
    "unfolded = tunfolder.GetOutput(\"unfolded\")"
   ]
  },
  {
   "cell_type": "code",
   "execution_count": null,
   "metadata": {},
   "outputs": [],
   "source": [
    "c5 = ROOT.TCanvas('c5', 'c5')\n",
    "unfolded.SetMarkerStyle(22)\n",
    "unfolded.SetMarkerColor(4)\n",
    "unfolded.SetFillColor(0)\n",
    "histMgenData.SetMarkerStyle(21)\n",
    "histMgenData.SetMarkerColor(2)\n",
    "\n",
    "hs = ROOT.THStack(\"hs\", \"hs\")\n",
    "hs.Add( histMgenData, \"hist\")\n",
    "hs.Add( unfolded, \"e\")\n",
    "hs.Draw(\"nostack\")\n",
    "c5.Draw()"
   ]
  },
  {
   "cell_type": "markdown",
   "metadata": {},
   "source": [
    "# Unfold $\\tau_2^{(1)}$"
   ]
  },
  {
   "cell_type": "markdown",
   "metadata": {
    "collapsed": true
   },
   "source": [
    "Get the response matrix and input 1D distributions for unfolding."
   ]
  },
  {
   "cell_type": "code",
   "execution_count": null,
   "metadata": {},
   "outputs": [],
   "source": [
    "print np.min(TT16gen_nSub_basis[:,4])\n",
    "print np.min(TT16reco_nSub_basis[:,4])\n",
    "print np.max(TT16gen_nSub_basis[:,4])\n",
    "print np.max(TT16reco_nSub_basis[:,4])"
   ]
  },
  {
   "cell_type": "markdown",
   "metadata": {
    "collapsed": true
   },
   "source": [
    "#### Set the axis ranges for the generator nd detector level distributions as well as the number of bins in each. Note that we want twice as many detector bins as generator level bins as recommended by the TUnfold documenation "
   ]
  },
  {
   "cell_type": "code",
   "execution_count": null,
   "metadata": {},
   "outputs": [],
   "source": [
    "nDet=30\n",
    "nGen=15\n",
    "xminDet=0.0\n",
    "xmaxDet=0.44\n",
    "xminGen=0.0\n",
    "xmaxGen=0.44\n",
    "#weight_TT16 = (831.76*lumi*1000.)/10199051.*np.ones(TT16_beta4W.shape[0])*TT16_puWeight*TT16_btagWeight*0.8\n"
   ]
  },
  {
   "cell_type": "code",
   "execution_count": null,
   "metadata": {},
   "outputs": [],
   "source": [
    "ROOT.TH1.SetDefaultSumw2()\n",
    "from root_numpy import *\n",
    "\n",
    "histMgenMC = ROOT.TH1D(\"histMgenMC\", \"histMgenMC; #tau_{2}^{1}; Events/(0.02)\", nGen, xminGen,xmaxGen)\n",
    "fill_hist(histMgenMC, TT16gen_tau2_1)\n",
    "\n",
    "histMdetMC = ROOT.TH1D(\"histMdetMC\", \"histMdetMC; #tau_{2}^{1}; Events/(0.02)\", nDet, xminDet,xmaxDet)\n",
    "fill_hist(histMdetMC, TT16reco_tau2_1)\n",
    "\n",
    "histMgenData = ROOT.TH1D(\"histMgenData\", \"histMgenData; #tau_{2}^{1}; Events/(0.02)\", nGen, xminGen,xmaxGen)\n",
    "fill_hist(histMgenData, TT16truth_tau2_1)\n",
    "\n",
    "histMdetData = ROOT.TH1D(\"histMdetData\", \"histMdetData; #tau_{2}^{1}; Events/(0.02)\", nDet, xminDet,xmaxDet)\n",
    "fill_hist(histMdetData, TT16data_tau2_1)\n",
    "\n",
    "\n",
    "response = ROOT.TH2D('response', 'response', nDet, xminDet, xmaxDet, nGen, xminGen, xmaxGen)\n",
    "hist2Dfill = np.zeros((TT16reco_tau2_1.shape[0], 2))\n",
    "hist2Dfill[:,0] = TT16reco_tau2_1.flatten()\n",
    "hist2Dfill[:,1] = TT16gen_tau2_1.flatten()\n",
    "fill_hist(response, hist2Dfill)"
   ]
  },
  {
   "cell_type": "raw",
   "metadata": {},
   "source": [
    "xaxis =  array.array('d',[a for a in xrange(nmbinsGen *nptbinsGen + 1 )])\n",
    "nx = len(xaxis)-1\n",
    "\n",
    "print xaxis\n",
    "\n",
    "yaxis =  array.array('d',[a for a in xrange(nmbinsDet *nptbinsDet+1 )])\n",
    "ny = len(yaxis)-1\n",
    "\n",
    "print yaxis\n",
    "\n",
    "h_response = ROOT.TH2D('h_response',   'h_response', nx , xaxis, ny, yaxis )\n",
    "#print h_response2.GetXaxis.GetNbins()\n",
    "print nx\n",
    "print ny\n",
    "nb = nx*ny\n",
    "print nb"
   ]
  },
  {
   "cell_type": "raw",
   "metadata": {
    "collapsed": true
   },
   "source": [
    "response =ROOT.gDirectory.Get(\"response\")\n",
    "histMgenMC=ROOT.gDirectory.Get(\"histMgenMC\")\n",
    "histMdetMC=ROOT.gDirectory.Get(\"histMdetMC\")\n",
    "histMgenData=ROOT.gDirectory.Get(\"histMgenData\")\n",
    "histMdetData=ROOT.gDirectory.Get(\"histMdetData\")"
   ]
  },
  {
   "cell_type": "markdown",
   "metadata": {
    "collapsed": true
   },
   "source": [
    "Set the X and Y axis labels"
   ]
  },
  {
   "cell_type": "code",
   "execution_count": null,
   "metadata": {},
   "outputs": [],
   "source": [
    "response.SetTitle(\";#tau_{2}^{1}(det);#tau_{2}^{1}(gen)\")\n",
    "\n",
    "\n",
    "histMgenMC.SetTitle(\";#tau_{2}^{1}(gen)\")\n",
    "#histMgenMC.SetFillColor(ROOT.kRed)\n",
    "#histMgenMC.SetLineColor(ROOT.kRed)\n",
    "\n",
    "histMdetMC.SetTitle(\";#tau_{2}^{1}(det)\")\n",
    "#histMdetMC.SetFillColor(ROOT.kBlue)\n",
    "#histMdetMC.SetLineColor(ROOT.kBlue)\n",
    "\n",
    "\n",
    "histMgenData.SetTitle(\";#tau_{2}^{1}(gen)\")\n",
    "#histMgenData.SetFillColor(ROOT.kGreen+2)\n",
    "#histMgenData.SetLineColor(ROOT.kGreen+2)\n",
    "\n",
    "histMdetData.SetTitle(\";#tau_{2}^{1}(det)\")\n",
    "#histMdetData.SetFillColor(ROOT.kBlack)\n",
    "#histMdetData.SetLineColor(ROOT.kBlack)"
   ]
  },
  {
   "cell_type": "markdown",
   "metadata": {
    "collapsed": true
   },
   "source": [
    "Draw the variables at reco and gen level and for \"data\""
   ]
  },
  {
   "cell_type": "code",
   "execution_count": null,
   "metadata": {},
   "outputs": [],
   "source": [
    "c1 = ROOT.TCanvas(\"chistMgenMC1\", \"chistMgenMC1\")\n",
    "histMgenMC.Draw(\"e\")\n",
    "histMdetMC.Draw(\"e same\")\n",
    "c1.Draw()"
   ]
  },
  {
   "cell_type": "code",
   "execution_count": null,
   "metadata": {},
   "outputs": [],
   "source": [
    "c1 = ROOT.TCanvas(\"chistMgenMC1\", \"chistMgenMC1\")\n",
    "histMgenData.Draw(\"e\")\n",
    "histMdetData.Draw(\"e same\")\n",
    "c1.Draw()"
   ]
  },
  {
   "cell_type": "markdown",
   "metadata": {
    "collapsed": true
   },
   "source": [
    "Draw the response matrix."
   ]
  },
  {
   "cell_type": "code",
   "execution_count": null,
   "metadata": {
    "scrolled": false
   },
   "outputs": [],
   "source": [
    "c1 = ROOT.TCanvas(\"cresponse1\", \"cresponse1\")\n",
    "response.Draw(\"colz\")\n",
    "c1.Draw()"
   ]
  },
  {
   "cell_type": "code",
   "execution_count": null,
   "metadata": {},
   "outputs": [],
   "source": [
    "#### In MC :"
   ]
  },
  {
   "cell_type": "code",
   "execution_count": null,
   "metadata": {},
   "outputs": [],
   "source": [
    "c2 = ROOT.TCanvas(\"MCcompare\", \"MCcompare\")\n",
    "histMgenMC.Draw('e')\n",
    "histMdetMC.Draw('e same')\n",
    "c2.Draw()"
   ]
  },
  {
   "cell_type": "markdown",
   "metadata": {
    "collapsed": true
   },
   "source": [
    "#### In Data:"
   ]
  },
  {
   "cell_type": "code",
   "execution_count": null,
   "metadata": {
    "scrolled": false
   },
   "outputs": [],
   "source": [
    "c3 = ROOT.TCanvas(\"datadists\", \"datadists\")\n",
    "histMgenData.Draw('e')\n",
    "histMdetData.Draw('e same')\n",
    "c3.Draw()"
   ]
  },
  {
   "cell_type": "code",
   "execution_count": null,
   "metadata": {},
   "outputs": [],
   "source": [
    "print 'getting tunfolder:'\n",
    "tunfolder = ROOT.TUnfoldDensity(response,ROOT.TUnfold.kHistMapOutputVert,ROOT.TUnfold.kRegModeCurvature, ROOT.TUnfold.kEConstraintNone, ROOT.TUnfoldDensity.kDensityModeBinWidth)"
   ]
  },
  {
   "cell_type": "markdown",
   "metadata": {
    "collapsed": true
   },
   "source": [
    "Set the input, a 1D reconstructed histogram from either MC (closure) or Data (measurement) , binned in the detector level binning."
   ]
  },
  {
   "cell_type": "code",
   "execution_count": null,
   "metadata": {},
   "outputs": [],
   "source": [
    "print 'setting reco input'\n",
    "tunfolder.SetInput( histMdetData )"
   ]
  },
  {
   "cell_type": "markdown",
   "metadata": {},
   "source": [
    "Unfold nScan times with values for the regularization parameter between tauMin and tauMax using the empty TSplines to store the results."
   ]
  },
  {
   "cell_type": "code",
   "execution_count": null,
   "metadata": {},
   "outputs": [],
   "source": [
    "print 'regularizing'\n",
    "nScan=50\n",
    "tauMin=0.0\n",
    "tauMax=0.0\n",
    "iBest=0\n",
    "\n",
    "logTauX = ROOT.MakeNullPointer(ROOT.TSpline)\n",
    "logTauY = ROOT.MakeNullPointer(ROOT.TSpline)\n",
    "lCurve = ROOT.MakeNullPointer(ROOT.TGraph)\n",
    "\n",
    "print 'doing the unfolding'\n",
    "tunfolder.ScanLcurve(nScan,tauMin,tauMax,lCurve,logTauX,logTauY);\n",
    "print 'getting the results'\n",
    "unfolded = tunfolder.GetOutput(\"unfolded\")"
   ]
  },
  {
   "cell_type": "code",
   "execution_count": null,
   "metadata": {},
   "outputs": [],
   "source": []
  },
  {
   "cell_type": "code",
   "execution_count": null,
   "metadata": {},
   "outputs": [],
   "source": [
    "c5 = ROOT.TCanvas('c5', 'c5')\n",
    "unfolded.SetMarkerStyle(22)\n",
    "unfolded.SetMarkerColor(4)\n",
    "unfolded.SetFillColor(0)\n",
    "histMgenData.SetMarkerStyle(21)\n",
    "histMgenData.SetMarkerColor(2)\n",
    "\n",
    "hs = ROOT.THStack(\"hs\", \"hs\")\n",
    "hs.Add( histMgenData, \"hist\")\n",
    "hs.Add( unfolded, \"e\")\n",
    "hs.Draw(\"nostack\")\n",
    "c5.Draw()"
   ]
  },
  {
   "cell_type": "markdown",
   "metadata": {},
   "source": [
    "# Unfold $\\tau_2^{(2)}$"
   ]
  },
  {
   "cell_type": "markdown",
   "metadata": {
    "collapsed": true
   },
   "source": [
    "Get the response matrix and input 1D distributions for unfolding."
   ]
  },
  {
   "cell_type": "code",
   "execution_count": null,
   "metadata": {},
   "outputs": [],
   "source": [
    "print np.min(TT16gen_nSub_basis[:,5])\n",
    "print np.min(TT16reco_nSub_basis[:,5])\n",
    "print np.max(TT16gen_nSub_basis[:,5])\n",
    "print np.max(TT16reco_nSub_basis[:,5])"
   ]
  },
  {
   "cell_type": "markdown",
   "metadata": {
    "collapsed": true
   },
   "source": [
    "#### Set the axis ranges for the generator nd detector level distributions as well as the number of bins in each. Note that we want twice as many detector bins as generator level bins as recommended by the TUnfold documenation "
   ]
  },
  {
   "cell_type": "code",
   "execution_count": null,
   "metadata": {},
   "outputs": [],
   "source": [
    "nDet=28\n",
    "nGen=14\n",
    "xminDet=0.0\n",
    "xmaxDet=0.23\n",
    "xminGen=0.0\n",
    "xmaxGen=0.23\n",
    "#weight_TT16 = (831.76*lumi*1000.)/10199051.*np.ones(TT16_beta4W.shape[0])*TT16_puWeight*TT16_btagWeight*0.8\n"
   ]
  },
  {
   "cell_type": "code",
   "execution_count": null,
   "metadata": {},
   "outputs": [],
   "source": [
    "ROOT.TH1.SetDefaultSumw2()\n",
    "from root_numpy import *\n",
    "\n",
    "histMgenMC = ROOT.TH1D(\"histMgenMC\", \"histMgenMC; #tau_{2}^{2}; Events/(0.02)\", nGen, xminGen,xmaxGen)\n",
    "fill_hist(histMgenMC, TT16gen_tau2_2)\n",
    "\n",
    "histMdetMC = ROOT.TH1D(\"histMdetMC\", \"histMdetMC; #tau_{2}^{2}; Events/(0.02)\", nDet, xminDet,xmaxDet)\n",
    "fill_hist(histMdetMC, TT16reco_tau2_2)\n",
    "\n",
    "histMgenData = ROOT.TH1D(\"histMgenData\", \"histMgenData; #tau_{2}^{2}; Events/(0.02)\", nGen, xminGen,xmaxGen)\n",
    "fill_hist(histMgenData, TT16truth_tau2_2)\n",
    "\n",
    "histMdetData = ROOT.TH1D(\"histMdetData\", \"histMdetData; #tau_{2}^{2}; Events/(0.02)\", nDet, xminDet,xmaxDet)\n",
    "fill_hist(histMdetData, TT16data_tau2_2)\n",
    "\n",
    "\n",
    "response = ROOT.TH2D('response', 'response', nDet, xminDet, xmaxDet, nGen, xminGen, xmaxGen)\n",
    "hist2Dfill = np.zeros((TT16reco_tau2_2.shape[0], 2))\n",
    "hist2Dfill[:,0] = TT16reco_tau2_2.flatten()\n",
    "hist2Dfill[:,1] = TT16gen_tau2_2.flatten()\n",
    "fill_hist(response, hist2Dfill)"
   ]
  },
  {
   "cell_type": "raw",
   "metadata": {},
   "source": [
    "xaxis =  array.array('d',[a for a in xrange(nmbinsGen *nptbinsGen + 1 )])\n",
    "nx = len(xaxis)-1\n",
    "\n",
    "print xaxis\n",
    "\n",
    "yaxis =  array.array('d',[a for a in xrange(nmbinsDet *nptbinsDet+1 )])\n",
    "ny = len(yaxis)-1\n",
    "\n",
    "print yaxis\n",
    "\n",
    "h_response = ROOT.TH2D('h_response',   'h_response', nx , xaxis, ny, yaxis )\n",
    "#print h_response2.GetXaxis.GetNbins()\n",
    "print nx\n",
    "print ny\n",
    "nb = nx*ny\n",
    "print nb"
   ]
  },
  {
   "cell_type": "raw",
   "metadata": {
    "collapsed": true
   },
   "source": [
    "response =ROOT.gDirectory.Get(\"response\")\n",
    "histMgenMC=ROOT.gDirectory.Get(\"histMgenMC\")\n",
    "histMdetMC=ROOT.gDirectory.Get(\"histMdetMC\")\n",
    "histMgenData=ROOT.gDirectory.Get(\"histMgenData\")\n",
    "histMdetData=ROOT.gDirectory.Get(\"histMdetData\")"
   ]
  },
  {
   "cell_type": "markdown",
   "metadata": {
    "collapsed": true
   },
   "source": [
    "Set the X and Y axis labels"
   ]
  },
  {
   "cell_type": "code",
   "execution_count": null,
   "metadata": {},
   "outputs": [],
   "source": [
    "response.SetTitle(\";#tau_{2}^{2}(det);#tau_{2}^{2}(gen)\")\n",
    "\n",
    "\n",
    "histMgenMC.SetTitle(\";#tau_{2}^{2}(gen)\")\n",
    "#histMgenMC.SetFillColor(ROOT.kRed)\n",
    "#histMgenMC.SetLineColor(ROOT.kRed)\n",
    "\n",
    "histMdetMC.SetTitle(\";#tau_{2}^{2}(det)\")\n",
    "#histMdetMC.SetFillColor(ROOT.kBlue)\n",
    "#histMdetMC.SetLineColor(ROOT.kBlue)\n",
    "\n",
    "\n",
    "histMgenData.SetTitle(\";#tau_{2}^{2}(gen)\")\n",
    "#histMgenData.SetFillColor(ROOT.kGreen+2)\n",
    "#histMgenData.SetLineColor(ROOT.kGreen+2)\n",
    "\n",
    "histMdetData.SetTitle(\";#tau_{2}^{2}(det)\")\n",
    "#histMdetData.SetFillColor(ROOT.kBlack)\n",
    "#histMdetData.SetLineColor(ROOT.kBlack)"
   ]
  },
  {
   "cell_type": "markdown",
   "metadata": {
    "collapsed": true
   },
   "source": [
    "Draw the variables at reco and gen level and for \"data\""
   ]
  },
  {
   "cell_type": "code",
   "execution_count": null,
   "metadata": {},
   "outputs": [],
   "source": [
    "c1 = ROOT.TCanvas(\"chistMgenMC1\", \"chistMgenMC1\")\n",
    "histMgenMC.Draw(\"e\")\n",
    "histMdetMC.Draw(\"e same\")\n",
    "c1.Draw()"
   ]
  },
  {
   "cell_type": "code",
   "execution_count": null,
   "metadata": {},
   "outputs": [],
   "source": [
    "c1 = ROOT.TCanvas(\"chistMgenMC1\", \"chistMgenMC1\")\n",
    "histMgenData.Draw(\"e\")\n",
    "histMdetData.Draw(\"e same\")\n",
    "c1.Draw()"
   ]
  },
  {
   "cell_type": "markdown",
   "metadata": {
    "collapsed": true
   },
   "source": [
    "Draw the response matrix."
   ]
  },
  {
   "cell_type": "code",
   "execution_count": null,
   "metadata": {
    "scrolled": false
   },
   "outputs": [],
   "source": [
    "c1 = ROOT.TCanvas(\"cresponse1\", \"cresponse1\")\n",
    "response.Draw(\"colz\")\n",
    "c1.Draw()"
   ]
  },
  {
   "cell_type": "code",
   "execution_count": null,
   "metadata": {},
   "outputs": [],
   "source": [
    "#### In MC :"
   ]
  },
  {
   "cell_type": "code",
   "execution_count": null,
   "metadata": {},
   "outputs": [],
   "source": [
    "c2 = ROOT.TCanvas(\"MCcompare\", \"MCcompare\")\n",
    "histMgenMC.Draw('e')\n",
    "histMdetMC.Draw('e same')\n",
    "c2.Draw()"
   ]
  },
  {
   "cell_type": "markdown",
   "metadata": {
    "collapsed": true
   },
   "source": [
    "#### In Data:"
   ]
  },
  {
   "cell_type": "code",
   "execution_count": null,
   "metadata": {
    "scrolled": false
   },
   "outputs": [],
   "source": [
    "c3 = ROOT.TCanvas(\"datadists\", \"datadists\")\n",
    "histMgenData.Draw('e')\n",
    "histMdetData.Draw('e same')\n",
    "c3.Draw()"
   ]
  },
  {
   "cell_type": "code",
   "execution_count": null,
   "metadata": {},
   "outputs": [],
   "source": [
    "print 'getting tunfolder:'\n",
    "tunfolder = ROOT.TUnfoldDensity(response,ROOT.TUnfold.kHistMapOutputVert,ROOT.TUnfold.kRegModeCurvature, ROOT.TUnfold.kEConstraintNone, ROOT.TUnfoldDensity.kDensityModeBinWidth)"
   ]
  },
  {
   "cell_type": "markdown",
   "metadata": {
    "collapsed": true
   },
   "source": [
    "Set the input, a 1D reconstructed histogram from either MC (closure) or Data (measurement) , binned in the detector level binning."
   ]
  },
  {
   "cell_type": "code",
   "execution_count": null,
   "metadata": {},
   "outputs": [],
   "source": [
    "print 'setting reco input'\n",
    "tunfolder.SetInput( histMdetData )"
   ]
  },
  {
   "cell_type": "markdown",
   "metadata": {},
   "source": [
    "Unfold nScan times with values for the regularization parameter between tauMin and tauMax using the empty TSplines to store the results."
   ]
  },
  {
   "cell_type": "code",
   "execution_count": null,
   "metadata": {},
   "outputs": [],
   "source": [
    "print 'regularizing'\n",
    "nScan=50\n",
    "tauMin=-5.0\n",
    "tauMax=10.0\n",
    "iBest=0\n",
    "\n",
    "logTauX = ROOT.MakeNullPointer(ROOT.TSpline)\n",
    "logTauY = ROOT.MakeNullPointer(ROOT.TSpline)\n",
    "lCurve = ROOT.MakeNullPointer(ROOT.TGraph)\n",
    "\n",
    "print 'doing the unfolding'\n",
    "tunfolder.ScanLcurve(nScan,tauMin,tauMax,lCurve,logTauX,logTauY);\n",
    "print 'getting the results'\n",
    "unfolded = tunfolder.GetOutput(\"unfolded\")"
   ]
  },
  {
   "cell_type": "code",
   "execution_count": null,
   "metadata": {},
   "outputs": [],
   "source": [
    "c5 = ROOT.TCanvas('c5', 'c5')\n",
    "unfolded.SetMarkerStyle(22)\n",
    "unfolded.SetMarkerColor(4)\n",
    "unfolded.SetFillColor(0)\n",
    "histMgenData.SetMarkerStyle(21)\n",
    "histMgenData.SetMarkerColor(2)\n",
    "\n",
    "hs = ROOT.THStack(\"hs\", \"hs\")\n",
    "hs.Add( histMgenData, \"hist\")\n",
    "hs.Add( unfolded, \"e\")\n",
    "hs.Draw(\"nostack\")\n",
    "c5.Draw()"
   ]
  },
  {
   "cell_type": "code",
   "execution_count": null,
   "metadata": {},
   "outputs": [],
   "source": []
  },
  {
   "cell_type": "markdown",
   "metadata": {},
   "source": [
    "# Unfold $\\tau_3^{(0.5)}$"
   ]
  },
  {
   "cell_type": "markdown",
   "metadata": {},
   "source": [
    "#### Below the input Monte Carlo simulation events are read from the file which only contains events meeting the skim criteria set forth in this __[script](https://github.com/kaustuvdatta/jetObservables/blob/102X/python/nSubProducer_gen_reco.py)__\n"
   ]
  },
  {
   "cell_type": "raw",
   "metadata": {},
   "source": [
    "\n",
    "ROOT.TH1.SetDefaultSumw2()\n",
    "f = ROOT.TFile('../AutoObs/CMS/New_Sel/TT_unfold/1/jetObservables_nanoskim_10.root')\n",
    "t = f.Get(\"Events\")"
   ]
  },
  {
   "cell_type": "markdown",
   "metadata": {
    "collapsed": true
   },
   "source": [
    "#### Set the axis ranges for the generator nd detector level distributions as well as the number of bins in each. Note that we want twice as many detector bins as generator level bins as recommended by the TUnfold documenation "
   ]
  },
  {
   "cell_type": "markdown",
   "metadata": {
    "collapsed": true
   },
   "source": [
    "Get the response matrix and input 1D distributions for unfolding."
   ]
  },
  {
   "cell_type": "code",
   "execution_count": null,
   "metadata": {},
   "outputs": [],
   "source": [
    "print np.min(TT16gen_nSub_basis[:,6])\n",
    "print np.min(TT16reco_nSub_basis[:,6])\n",
    "print np.max(TT16gen_nSub_basis[:,6])\n",
    "print np.max(TT16reco_nSub_basis[:,6])"
   ]
  },
  {
   "cell_type": "code",
   "execution_count": null,
   "metadata": {},
   "outputs": [],
   "source": [
    "nDet=28\n",
    "nGen=14\n",
    "xminDet=0.0\n",
    "xmaxDet=0.56\n",
    "xminGen=0.0\n",
    "xmaxGen=0.56\n",
    "#weight_TT16 = (831.76*lumi*1000.)/10199051.*np.ones(TT16_beta4W.shape[0])*TT16_puWeight*TT16_btagWeight*0.8\n"
   ]
  },
  {
   "cell_type": "code",
   "execution_count": null,
   "metadata": {},
   "outputs": [],
   "source": [
    "ROOT.TH1.SetDefaultSumw2()\n",
    "from root_numpy import *\n",
    "\n",
    "histMgenMC = ROOT.TH1D(\"histMgenMC\", \"histMgenMC; #tau_{3}^{0.5}; Events/(0.02)\", nGen, xminGen,xmaxGen)\n",
    "fill_hist(histMgenMC, TT16gen_nSub_basis[:,6])\n",
    "\n",
    "histMdetMC = ROOT.TH1D(\"histMdetMC\", \"histMdetMC; #tau_{3}^{0.5}; Events/(0.02)\", nDet, xminDet,xmaxDet)\n",
    "fill_hist(histMdetMC, TT16reco_nSub_basis[:,6])\n",
    "\n",
    "histMgenData = ROOT.TH1D(\"histMgenData\", \"histMgenData; #tau_{3}^{0.5}; Events/(0.02)\", nGen, xminGen,xmaxGen)\n",
    "fill_hist(histMgenData, TT16truth_nSub_basis[:,6])\n",
    "\n",
    "histMdetData = ROOT.TH1D(\"histMdetData\", \"histMdetData; #tau_{3}^{0.5}; Events/(0.02)\", nDet, xminDet,xmaxDet)\n",
    "fill_hist(histMdetData, TT16data_nSub_basis[:,6])\n",
    "\n",
    "\n",
    "response = ROOT.TH2D('response', 'response', nDet, xminDet, xmaxDet, nGen, xminGen, xmaxGen)\n",
    "hist2Dfill = np.zeros((TT16reco_nSub_basis[:,6].shape[0], 2))\n",
    "hist2Dfill[:,0] = TT16reco_nSub_basis[:,6].flatten()\n",
    "hist2Dfill[:,1] = TT16gen_nSub_basis[:,6].flatten()\n",
    "fill_hist(response, hist2Dfill)"
   ]
  },
  {
   "cell_type": "raw",
   "metadata": {},
   "source": [
    "xaxis =  array.array('d',[a for a in xrange(nmbinsGen *nptbinsGen + 1 )])\n",
    "nx = len(xaxis)-1\n",
    "\n",
    "print xaxis\n",
    "\n",
    "yaxis =  array.array('d',[a for a in xrange(nmbinsDet *nptbinsDet+1 )])\n",
    "ny = len(yaxis)-1\n",
    "\n",
    "print yaxis\n",
    "\n",
    "h_response = ROOT.TH2D('h_response',   'h_response', nx , xaxis, ny, yaxis )\n",
    "#print h_response2.GetXaxis.GetNbins()\n",
    "print nx\n",
    "print ny\n",
    "nb = nx*ny\n",
    "print nb"
   ]
  },
  {
   "cell_type": "raw",
   "metadata": {
    "collapsed": true
   },
   "source": [
    "response =ROOT.gDirectory.Get(\"response\")\n",
    "histMgenMC=ROOT.gDirectory.Get(\"histMgenMC\")\n",
    "histMdetMC=ROOT.gDirectory.Get(\"histMdetMC\")\n",
    "histMgenData=ROOT.gDirectory.Get(\"histMgenData\")\n",
    "histMdetData=ROOT.gDirectory.Get(\"histMdetData\")"
   ]
  },
  {
   "cell_type": "markdown",
   "metadata": {
    "collapsed": true
   },
   "source": [
    "Set the X and Y axis labels"
   ]
  },
  {
   "cell_type": "code",
   "execution_count": null,
   "metadata": {},
   "outputs": [],
   "source": [
    "response.SetTitle(\";#tau_{3}^{0.5}(det);#tau_{3}^{0.5}(gen)\")\n",
    "\n",
    "\n",
    "histMgenMC.SetTitle(\";#tau_{3}^{0.5}(gen)\")\n",
    "#histMgenMC.SetFillColor(ROOT.kRed)\n",
    "#histMgenMC.SetLineColor(ROOT.kRed)\n",
    "\n",
    "histMdetMC.SetTitle(\";#tau_{3}^{0.5}(det)\")\n",
    "#histMdetMC.SetFillColor(ROOT.kBlue)\n",
    "#histMdetMC.SetLineColor(ROOT.kBlue)\n",
    "\n",
    "\n",
    "histMgenData.SetTitle(\";#tau_{3}^{0.5}(gen)\")\n",
    "#histMgenData.SetFillColor(ROOT.kGreen+2)\n",
    "#histMgenData.SetLineColor(ROOT.kGreen+2)\n",
    "\n",
    "histMdetData.SetTitle(\";#tau_{3}^{0.5}(det)\")\n",
    "#histMdetData.SetFillColor(ROOT.kBlack)\n",
    "#histMdetData.SetLineColor(ROOT.kBlack)"
   ]
  },
  {
   "cell_type": "markdown",
   "metadata": {
    "collapsed": true
   },
   "source": [
    "Draw the variables at reco and gen level and for \"data\""
   ]
  },
  {
   "cell_type": "code",
   "execution_count": null,
   "metadata": {},
   "outputs": [],
   "source": [
    "c1 = ROOT.TCanvas(\"chistMgenMC1\", \"chistMgenMC1\")\n",
    "histMgenMC.Draw(\"e\")\n",
    "histMdetMC.Draw(\"e same\")\n",
    "c1.Draw()"
   ]
  },
  {
   "cell_type": "code",
   "execution_count": null,
   "metadata": {},
   "outputs": [],
   "source": [
    "c1 = ROOT.TCanvas(\"chistMgenMC1\", \"chistMgenMC1\")\n",
    "histMgenData.Draw(\"e\")\n",
    "histMdetData.Draw(\"e same\")\n",
    "c1.Draw()"
   ]
  },
  {
   "cell_type": "markdown",
   "metadata": {
    "collapsed": true
   },
   "source": [
    "Draw the response matrix."
   ]
  },
  {
   "cell_type": "code",
   "execution_count": null,
   "metadata": {
    "scrolled": false
   },
   "outputs": [],
   "source": [
    "c1 = ROOT.TCanvas(\"cresponse1\", \"cresponse1\")\n",
    "response.Draw(\"colz\")\n",
    "c1.Draw()"
   ]
  },
  {
   "cell_type": "code",
   "execution_count": null,
   "metadata": {},
   "outputs": [],
   "source": [
    "#### In MC :"
   ]
  },
  {
   "cell_type": "code",
   "execution_count": null,
   "metadata": {},
   "outputs": [],
   "source": [
    "c2 = ROOT.TCanvas(\"MCcompare\", \"MCcompare\")\n",
    "histMgenMC.Draw('e')\n",
    "histMdetMC.Draw('e same')\n",
    "c2.Draw()"
   ]
  },
  {
   "cell_type": "markdown",
   "metadata": {
    "collapsed": true
   },
   "source": [
    "#### In Data:"
   ]
  },
  {
   "cell_type": "code",
   "execution_count": null,
   "metadata": {},
   "outputs": [],
   "source": [
    "c3 = ROOT.TCanvas(\"datadists\", \"datadists\")\n",
    "histMgenData.Draw('e')\n",
    "histMdetData.Draw('e same')\n",
    "c3.Draw()"
   ]
  },
  {
   "cell_type": "code",
   "execution_count": null,
   "metadata": {},
   "outputs": [],
   "source": [
    "print 'getting tunfolder:'\n",
    "tunfolder = ROOT.TUnfoldDensity(response,ROOT.TUnfold.kHistMapOutputVert,ROOT.TUnfold.kRegModeCurvature, ROOT.TUnfold.kEConstraintNone, ROOT.TUnfoldDensity.kDensityModeBinWidth)"
   ]
  },
  {
   "cell_type": "markdown",
   "metadata": {
    "collapsed": true
   },
   "source": [
    "Set the input, a 1D reconstructed histogram from either MC (closure) or Data (measurement) , binned in the detector level binning."
   ]
  },
  {
   "cell_type": "code",
   "execution_count": null,
   "metadata": {},
   "outputs": [],
   "source": [
    "print 'setting reco input'\n",
    "tunfolder.SetInput( histMdetData )"
   ]
  },
  {
   "cell_type": "markdown",
   "metadata": {},
   "source": [
    "Unfold nScan times with values for the regularization parameter between tauMin and tauMax using the empty TSplines to store the results."
   ]
  },
  {
   "cell_type": "code",
   "execution_count": null,
   "metadata": {},
   "outputs": [],
   "source": [
    "print 'regularizing'\n",
    "nScan=50\n",
    "tauMin=0.0\n",
    "tauMax=0.0\n",
    "iBest=0\n",
    "\n",
    "logTauX = ROOT.MakeNullPointer(ROOT.TSpline)\n",
    "logTauY = ROOT.MakeNullPointer(ROOT.TSpline)\n",
    "lCurve = ROOT.MakeNullPointer(ROOT.TGraph)\n",
    "\n",
    "print 'doing the unfolding'\n",
    "tunfolder.ScanLcurve(nScan,tauMin,tauMax,lCurve,logTauX,logTauY);\n",
    "print 'getting the results'\n",
    "unfolded = tunfolder.GetOutput(\"unfolded\")"
   ]
  },
  {
   "cell_type": "code",
   "execution_count": null,
   "metadata": {},
   "outputs": [],
   "source": []
  },
  {
   "cell_type": "code",
   "execution_count": null,
   "metadata": {},
   "outputs": [],
   "source": [
    "c5 = ROOT.TCanvas('c5', 'c5')\n",
    "unfolded.SetMarkerStyle(22)\n",
    "unfolded.SetMarkerColor(4)\n",
    "unfolded.SetFillColor(0)\n",
    "histMgenData.SetMarkerStyle(21)\n",
    "histMgenData.SetMarkerColor(2)\n",
    "\n",
    "hs = ROOT.THStack(\"hs\", \"hs\")\n",
    "hs.Add( histMgenData, \"hist\")\n",
    "hs.Add( unfolded, \"e\")\n",
    "hs.Draw(\"nostack\")\n",
    "c5.Draw()"
   ]
  },
  {
   "cell_type": "code",
   "execution_count": null,
   "metadata": {},
   "outputs": [],
   "source": []
  },
  {
   "cell_type": "markdown",
   "metadata": {},
   "source": [
    "# Unfold $\\tau_3^{(1)}$"
   ]
  },
  {
   "cell_type": "markdown",
   "metadata": {},
   "source": [
    "#### Below the input Monte Carlo simulation events are read from the file which only contains events meeting the skim criteria set forth in this __[script](https://github.com/kaustuvdatta/jetObservables/blob/102X/python/nSubProducer_gen_reco.py)__\n"
   ]
  },
  {
   "cell_type": "raw",
   "metadata": {},
   "source": [
    "\n",
    "ROOT.TH1.SetDefaultSumw2()\n",
    "f = ROOT.TFile('../AutoObs/CMS/New_Sel/TT_unfold/1/jetObservables_nanoskim_10.root')\n",
    "t = f.Get(\"Events\")"
   ]
  },
  {
   "cell_type": "markdown",
   "metadata": {
    "collapsed": true
   },
   "source": [
    "#### Set the axis ranges for the generator nd detector level distributions as well as the number of bins in each. Note that we want twice as many detector bins as generator level bins as recommended by the TUnfold documenation "
   ]
  },
  {
   "cell_type": "markdown",
   "metadata": {
    "collapsed": true
   },
   "source": [
    "Get the response matrix and input 1D distributions for unfolding."
   ]
  },
  {
   "cell_type": "code",
   "execution_count": null,
   "metadata": {},
   "outputs": [],
   "source": [
    "print np.min(TT16gen_nSub_basis[:,7])\n",
    "print np.min(TT16reco_nSub_basis[:,7])\n",
    "print np.max(TT16gen_nSub_basis[:,7])\n",
    "print np.max(TT16reco_nSub_basis[:,7])"
   ]
  },
  {
   "cell_type": "code",
   "execution_count": null,
   "metadata": {},
   "outputs": [],
   "source": [
    "nDet=50\n",
    "nGen=25\n",
    "xminDet=0.0\n",
    "xmaxDet=0.3\n",
    "xminGen=0.0\n",
    "xmaxGen=0.3\n",
    "#weight_TT16 = (831.76*lumi*1000.)/10199051.*np.ones(TT16_beta4W.shape[0])*TT16_puWeight*TT16_btagWeight*0.8\n"
   ]
  },
  {
   "cell_type": "code",
   "execution_count": null,
   "metadata": {},
   "outputs": [],
   "source": [
    "ROOT.TH1.SetDefaultSumw2()\n",
    "from root_numpy import *\n",
    "\n",
    "histMgenMC = ROOT.TH1D(\"histMgenMC\", \"histMgenMC; #tau_{3}^{1}; Events/(0.02)\", nGen, xminGen,xmaxGen)\n",
    "fill_hist(histMgenMC, TT16gen_nSub_basis[:,7])\n",
    "\n",
    "histMdetMC = ROOT.TH1D(\"histMdetMC\", \"histMdetMC; #tau_{3}^{1}; Events/(0.02)\", nDet, xminDet,xmaxDet)\n",
    "fill_hist(histMdetMC, TT16reco_nSub_basis[:,7])\n",
    "\n",
    "histMgenData = ROOT.TH1D(\"histMgenData\", \"histMgenData; #tau_{3}^{1}; Events/(0.02)\", nGen, xminGen,xmaxGen)\n",
    "fill_hist(histMgenData, TT16truth_nSub_basis[:,7])\n",
    "\n",
    "histMdetData = ROOT.TH1D(\"histMdetData\", \"histMdetData; #tau_{3}^{1}; Events/(0.02)\", nDet, xminDet,xmaxDet)\n",
    "fill_hist(histMdetData, TT16data_nSub_basis[:,7])\n",
    "\n",
    "\n",
    "response = ROOT.TH2D('response', 'response', nDet, xminDet, xmaxDet, nGen, xminGen, xmaxGen)\n",
    "hist2Dfill = np.zeros((TT16reco_nSub_basis[:,7].shape[0], 2))\n",
    "hist2Dfill[:,0] = TT16reco_nSub_basis[:,7].flatten()\n",
    "hist2Dfill[:,1] = TT16gen_nSub_basis[:,7].flatten()\n",
    "fill_hist(response, hist2Dfill)"
   ]
  },
  {
   "cell_type": "raw",
   "metadata": {},
   "source": [
    "xaxis =  array.array('d',[a for a in xrange(nmbinsGen *nptbinsGen + 1 )])\n",
    "nx = len(xaxis)-1\n",
    "\n",
    "print xaxis\n",
    "\n",
    "yaxis =  array.array('d',[a for a in xrange(nmbinsDet *nptbinsDet+1 )])\n",
    "ny = len(yaxis)-1\n",
    "\n",
    "print yaxis\n",
    "\n",
    "h_response = ROOT.TH2D('h_response',   'h_response', nx , xaxis, ny, yaxis )\n",
    "#print h_response2.GetXaxis.GetNbins()\n",
    "print nx\n",
    "print ny\n",
    "nb = nx*ny\n",
    "print nb"
   ]
  },
  {
   "cell_type": "raw",
   "metadata": {
    "collapsed": true
   },
   "source": [
    "response =ROOT.gDirectory.Get(\"response\")\n",
    "histMgenMC=ROOT.gDirectory.Get(\"histMgenMC\")\n",
    "histMdetMC=ROOT.gDirectory.Get(\"histMdetMC\")\n",
    "histMgenData=ROOT.gDirectory.Get(\"histMgenData\")\n",
    "histMdetData=ROOT.gDirectory.Get(\"histMdetData\")"
   ]
  },
  {
   "cell_type": "markdown",
   "metadata": {
    "collapsed": true
   },
   "source": [
    "Set the X and Y axis labels"
   ]
  },
  {
   "cell_type": "code",
   "execution_count": null,
   "metadata": {},
   "outputs": [],
   "source": [
    "response.SetTitle(\";#tau_{3}^{1}(det);#tau_{3}^{1}(gen)\")\n",
    "\n",
    "\n",
    "histMgenMC.SetTitle(\";#tau_{3}^{1}(gen)\")\n",
    "#histMgenMC.SetFillColor(ROOT.kRed)\n",
    "#histMgenMC.SetLineColor(ROOT.kRed)\n",
    "\n",
    "histMdetMC.SetTitle(\";#tau_{3}^{1}(det)\")\n",
    "#histMdetMC.SetFillColor(ROOT.kBlue)\n",
    "#histMdetMC.SetLineColor(ROOT.kBlue)\n",
    "\n",
    "\n",
    "histMgenData.SetTitle(\";#tau_{3}^{1}(gen)\")\n",
    "#histMgenData.SetFillColor(ROOT.kGreen+2)\n",
    "#histMgenData.SetLineColor(ROOT.kGreen+2)\n",
    "\n",
    "histMdetData.SetTitle(\";#tau_{3}^{1}(det)\")\n",
    "#histMdetData.SetFillColor(ROOT.kBlack)\n",
    "#histMdetData.SetLineColor(ROOT.kBlack)"
   ]
  },
  {
   "cell_type": "markdown",
   "metadata": {
    "collapsed": true
   },
   "source": [
    "Draw the variables at reco and gen level and for \"data\""
   ]
  },
  {
   "cell_type": "code",
   "execution_count": null,
   "metadata": {},
   "outputs": [],
   "source": [
    "c1 = ROOT.TCanvas(\"chistMgenMC1\", \"chistMgenMC1\")\n",
    "histMgenMC.Draw(\"e\")\n",
    "histMdetMC.Draw(\"e same\")\n",
    "c1.Draw()"
   ]
  },
  {
   "cell_type": "code",
   "execution_count": null,
   "metadata": {},
   "outputs": [],
   "source": [
    "c1 = ROOT.TCanvas(\"chistMgenMC1\", \"chistMgenMC1\")\n",
    "histMgenData.Draw(\"e\")\n",
    "histMdetData.Draw(\"e same\")\n",
    "c1.Draw()"
   ]
  },
  {
   "cell_type": "markdown",
   "metadata": {
    "collapsed": true
   },
   "source": [
    "Draw the response matrix."
   ]
  },
  {
   "cell_type": "code",
   "execution_count": null,
   "metadata": {
    "scrolled": false
   },
   "outputs": [],
   "source": [
    "c1 = ROOT.TCanvas(\"cresponse1\", \"cresponse1\")\n",
    "response.Draw(\"colz\")\n",
    "c1.Draw()"
   ]
  },
  {
   "cell_type": "code",
   "execution_count": null,
   "metadata": {},
   "outputs": [],
   "source": [
    "#### In MC :"
   ]
  },
  {
   "cell_type": "code",
   "execution_count": null,
   "metadata": {},
   "outputs": [],
   "source": [
    "c2 = ROOT.TCanvas(\"MCcompare\", \"MCcompare\")\n",
    "histMgenMC.Draw('e')\n",
    "histMdetMC.Draw('e same')\n",
    "c2.Draw()"
   ]
  },
  {
   "cell_type": "markdown",
   "metadata": {
    "collapsed": true
   },
   "source": [
    "#### In Data:"
   ]
  },
  {
   "cell_type": "code",
   "execution_count": null,
   "metadata": {},
   "outputs": [],
   "source": [
    "c3 = ROOT.TCanvas(\"datadists\", \"datadists\")\n",
    "histMgenData.Draw('e')\n",
    "histMdetData.Draw('e same')\n",
    "c3.Draw()"
   ]
  },
  {
   "cell_type": "code",
   "execution_count": null,
   "metadata": {},
   "outputs": [],
   "source": [
    "print 'getting tunfolder:'\n",
    "tunfolder = ROOT.TUnfoldDensity(response,ROOT.TUnfold.kHistMapOutputVert,ROOT.TUnfold.kRegModeCurvature, ROOT.TUnfold.kEConstraintNone, ROOT.TUnfoldDensity.kDensityModeBinWidth)"
   ]
  },
  {
   "cell_type": "markdown",
   "metadata": {
    "collapsed": true
   },
   "source": [
    "Set the input, a 1D reconstructed histogram from either MC (closure) or Data (measurement) , binned in the detector level binning."
   ]
  },
  {
   "cell_type": "code",
   "execution_count": null,
   "metadata": {},
   "outputs": [],
   "source": [
    "print 'setting reco input'\n",
    "tunfolder.SetInput( histMdetData )"
   ]
  },
  {
   "cell_type": "markdown",
   "metadata": {},
   "source": [
    "Unfold nScan times with values for the regularization parameter between tauMin and tauMax using the empty TSplines to store the results."
   ]
  },
  {
   "cell_type": "code",
   "execution_count": null,
   "metadata": {},
   "outputs": [],
   "source": [
    "print 'regularizing'\n",
    "nScan=10\n",
    "tauMin=0.0\n",
    "tauMax=0.0\n",
    "iBest=0\n",
    "\n",
    "logTauX = ROOT.MakeNullPointer(ROOT.TSpline)\n",
    "logTauY = ROOT.MakeNullPointer(ROOT.TSpline)\n",
    "lCurve = ROOT.MakeNullPointer(ROOT.TGraph)\n",
    "\n",
    "print 'doing the unfolding'\n",
    "tunfolder.ScanLcurve(nScan,tauMin,tauMax,lCurve,logTauX,logTauY);\n",
    "print 'getting the results'\n",
    "unfolded = tunfolder.GetOutput(\"unfolded\")"
   ]
  },
  {
   "cell_type": "code",
   "execution_count": null,
   "metadata": {},
   "outputs": [],
   "source": []
  },
  {
   "cell_type": "code",
   "execution_count": null,
   "metadata": {},
   "outputs": [],
   "source": [
    "c5 = ROOT.TCanvas('c5', 'c5')\n",
    "unfolded.SetMarkerStyle(22)\n",
    "unfolded.SetMarkerColor(4)\n",
    "unfolded.SetFillColor(0)\n",
    "histMgenData.SetMarkerStyle(21)\n",
    "histMgenData.SetMarkerColor(2)\n",
    "\n",
    "hs = ROOT.THStack(\"hs\", \"hs\")\n",
    "hs.Add( histMgenData, \"hist\")\n",
    "hs.Add( unfolded, \"e\")\n",
    "hs.Draw(\"nostack\")\n",
    "c5.Draw()"
   ]
  },
  {
   "cell_type": "code",
   "execution_count": null,
   "metadata": {},
   "outputs": [],
   "source": []
  },
  {
   "cell_type": "markdown",
   "metadata": {},
   "source": [
    "# Unfold $\\tau_3^{(2)}$"
   ]
  },
  {
   "cell_type": "markdown",
   "metadata": {},
   "source": [
    "#### Below the input Monte Carlo simulation events are read from the file which only contains events meeting the skim criteria set forth in this __[script](https://github.com/kaustuvdatta/jetObservables/blob/102X/python/nSubProducer_gen_reco.py)__\n"
   ]
  },
  {
   "cell_type": "raw",
   "metadata": {},
   "source": [
    "\n",
    "ROOT.TH1.SetDefaultSumw2()\n",
    "f = ROOT.TFile('../AutoObs/CMS/New_Sel/TT_unfold/1/jetObservables_nanoskim_10.root')\n",
    "t = f.Get(\"Events\")"
   ]
  },
  {
   "cell_type": "markdown",
   "metadata": {
    "collapsed": true
   },
   "source": [
    "#### Set the axis ranges for the generator nd detector level distributions as well as the number of bins in each. Note that we want twice as many detector bins as generator level bins as recommended by the TUnfold documenation "
   ]
  },
  {
   "cell_type": "markdown",
   "metadata": {
    "collapsed": true
   },
   "source": [
    "Get the response matrix and input 1D distributions for unfolding."
   ]
  },
  {
   "cell_type": "code",
   "execution_count": null,
   "metadata": {},
   "outputs": [],
   "source": [
    "print np.min(TT16gen_nSub_basis[:,8])\n",
    "print np.min(TT16reco_nSub_basis[:,8])\n",
    "print np.max(TT16gen_nSub_basis[:,8])\n",
    "print np.max(TT16reco_nSub_basis[:,8])"
   ]
  },
  {
   "cell_type": "code",
   "execution_count": null,
   "metadata": {},
   "outputs": [],
   "source": [
    "nDet=32\n",
    "nGen=16\n",
    "xminDet=0.0\n",
    "xmaxDet=0.16\n",
    "xminGen=0.0\n",
    "xmaxGen=0.16\n",
    "#weight_TT16 = (831.76*lumi*1000.)/10199051.*np.ones(TT16_beta4W.shape[0])*TT16_puWeight*TT16_btagWeight*0.8\n"
   ]
  },
  {
   "cell_type": "code",
   "execution_count": null,
   "metadata": {},
   "outputs": [],
   "source": [
    "ROOT.TH1.SetDefaultSumw2()\n",
    "from root_numpy import *\n",
    "\n",
    "histMgenMC = ROOT.TH1D(\"histMgenMC\", \"histMgenMC; #tau_{3}^{2}; Events/(0.02)\", nGen, xminGen,xmaxGen)\n",
    "fill_hist(histMgenMC, TT16gen_nSub_basis[:,8])\n",
    "\n",
    "histMdetMC = ROOT.TH1D(\"histMdetMC\", \"histMdetMC; #tau_{3}^{2}; Events/(0.02)\", nDet, xminDet,xmaxDet)\n",
    "fill_hist(histMdetMC, TT16reco_nSub_basis[:,8])\n",
    "\n",
    "histMgenData = ROOT.TH1D(\"histMgenData\", \"histMgenData; #tau_{3}^{2}; Events/(0.02)\", nGen, xminGen,xmaxGen)\n",
    "fill_hist(histMgenData, TT16truth_nSub_basis[:,8])\n",
    "\n",
    "histMdetData = ROOT.TH1D(\"histMdetData\", \"histMdetData; #tau_{3}^{2}; Events/(0.02)\", nDet, xminDet,xmaxDet)\n",
    "fill_hist(histMdetData, TT16data_nSub_basis[:,8])\n",
    "\n",
    "\n",
    "response = ROOT.TH2D('response', 'response', nDet, xminDet, xmaxDet, nGen, xminGen, xmaxGen)\n",
    "hist2Dfill = np.zeros((TT16reco_nSub_basis[:,8].shape[0], 2))\n",
    "hist2Dfill[:,0] = TT16reco_nSub_basis[:,8].flatten()\n",
    "hist2Dfill[:,1] = TT16gen_nSub_basis[:,8].flatten()\n",
    "fill_hist(response, hist2Dfill)"
   ]
  },
  {
   "cell_type": "raw",
   "metadata": {},
   "source": [
    "xaxis =  array.array('d',[a for a in xrange(nmbinsGen *nptbinsGen + 1 )])\n",
    "nx = len(xaxis)-1\n",
    "\n",
    "print xaxis\n",
    "\n",
    "yaxis =  array.array('d',[a for a in xrange(nmbinsDet *nptbinsDet+1 )])\n",
    "ny = len(yaxis)-1\n",
    "\n",
    "print yaxis\n",
    "\n",
    "h_response = ROOT.TH2D('h_response',   'h_response', nx , xaxis, ny, yaxis )\n",
    "#print h_response2.GetXaxis.GetNbins()\n",
    "print nx\n",
    "print ny\n",
    "nb = nx*ny\n",
    "print nb"
   ]
  },
  {
   "cell_type": "raw",
   "metadata": {
    "collapsed": true
   },
   "source": [
    "response =ROOT.gDirectory.Get(\"response\")\n",
    "histMgenMC=ROOT.gDirectory.Get(\"histMgenMC\")\n",
    "histMdetMC=ROOT.gDirectory.Get(\"histMdetMC\")\n",
    "histMgenData=ROOT.gDirectory.Get(\"histMgenData\")\n",
    "histMdetData=ROOT.gDirectory.Get(\"histMdetData\")"
   ]
  },
  {
   "cell_type": "markdown",
   "metadata": {
    "collapsed": true
   },
   "source": [
    "Set the X and Y axis labels"
   ]
  },
  {
   "cell_type": "code",
   "execution_count": null,
   "metadata": {},
   "outputs": [],
   "source": [
    "response.SetTitle(\";#tau_{3}^{2}(det);#tau_{3}^{2}(gen)\")\n",
    "\n",
    "\n",
    "histMgenMC.SetTitle(\";#tau_{3}^{2}(gen)\")\n",
    "#histMgenMC.SetFillColor(ROOT.kRed)\n",
    "#histMgenMC.SetLineColor(ROOT.kRed)\n",
    "\n",
    "histMdetMC.SetTitle(\";#tau_{3}^{2}(det)\")\n",
    "#histMdetMC.SetFillColor(ROOT.kBlue)\n",
    "#histMdetMC.SetLineColor(ROOT.kBlue)\n",
    "\n",
    "\n",
    "histMgenData.SetTitle(\";#tau_{3}^{2}(gen)\")\n",
    "#histMgenData.SetFillColor(ROOT.kGreen+2)\n",
    "#histMgenData.SetLineColor(ROOT.kGreen+2)\n",
    "\n",
    "histMdetData.SetTitle(\";#tau_{3}^{2}(det)\")\n",
    "#histMdetData.SetFillColor(ROOT.kBlack)\n",
    "#histMdetData.SetLineColor(ROOT.kBlack)"
   ]
  },
  {
   "cell_type": "markdown",
   "metadata": {
    "collapsed": true
   },
   "source": [
    "Draw the variables at reco and gen level and for \"data\""
   ]
  },
  {
   "cell_type": "code",
   "execution_count": null,
   "metadata": {},
   "outputs": [],
   "source": [
    "c1 = ROOT.TCanvas(\"chistMgenMC1\", \"chistMgenMC1\")\n",
    "histMgenMC.Draw(\"e\")\n",
    "histMdetMC.Draw(\"e same\")\n",
    "c1.Draw()"
   ]
  },
  {
   "cell_type": "code",
   "execution_count": null,
   "metadata": {},
   "outputs": [],
   "source": [
    "c1 = ROOT.TCanvas(\"chistMgenMC1\", \"chistMgenMC1\")\n",
    "histMgenData.Draw(\"e\")\n",
    "histMdetData.Draw(\"e same\")\n",
    "c1.Draw()"
   ]
  },
  {
   "cell_type": "markdown",
   "metadata": {
    "collapsed": true
   },
   "source": [
    "Draw the response matrix."
   ]
  },
  {
   "cell_type": "code",
   "execution_count": null,
   "metadata": {
    "scrolled": false
   },
   "outputs": [],
   "source": [
    "c1 = ROOT.TCanvas(\"cresponse1\", \"cresponse1\")\n",
    "response.Draw(\"colz\")\n",
    "c1.Draw()"
   ]
  },
  {
   "cell_type": "code",
   "execution_count": null,
   "metadata": {},
   "outputs": [],
   "source": [
    "#### In MC :"
   ]
  },
  {
   "cell_type": "code",
   "execution_count": null,
   "metadata": {},
   "outputs": [],
   "source": [
    "c2 = ROOT.TCanvas(\"MCcompare\", \"MCcompare\")\n",
    "histMgenMC.Draw('e')\n",
    "histMdetMC.Draw('e same')\n",
    "c2.Draw()"
   ]
  },
  {
   "cell_type": "markdown",
   "metadata": {
    "collapsed": true
   },
   "source": [
    "#### In Data:"
   ]
  },
  {
   "cell_type": "code",
   "execution_count": null,
   "metadata": {},
   "outputs": [],
   "source": [
    "c3 = ROOT.TCanvas(\"datadists\", \"datadists\")\n",
    "histMgenData.Draw('e')\n",
    "histMdetData.Draw('e same')\n",
    "c3.Draw()"
   ]
  },
  {
   "cell_type": "code",
   "execution_count": null,
   "metadata": {},
   "outputs": [],
   "source": [
    "print 'getting tunfolder:'\n",
    "tunfolder = ROOT.TUnfoldDensity(response,ROOT.TUnfold.kHistMapOutputVert,ROOT.TUnfold.kRegModeCurvature, ROOT.TUnfold.kEConstraintNone, ROOT.TUnfoldDensity.kDensityModeBinWidth)"
   ]
  },
  {
   "cell_type": "markdown",
   "metadata": {
    "collapsed": true
   },
   "source": [
    "Set the input, a 1D reconstructed histogram from either MC (closure) or Data (measurement) , binned in the detector level binning."
   ]
  },
  {
   "cell_type": "code",
   "execution_count": null,
   "metadata": {},
   "outputs": [],
   "source": [
    "print 'setting reco input'\n",
    "tunfolder.SetInput( histMdetData )"
   ]
  },
  {
   "cell_type": "markdown",
   "metadata": {},
   "source": [
    "Unfold nScan times with values for the regularization parameter between tauMin and tauMax using the empty TSplines to store the results."
   ]
  },
  {
   "cell_type": "code",
   "execution_count": null,
   "metadata": {},
   "outputs": [],
   "source": [
    "print 'regularizing'\n",
    "nScan=10\n",
    "tauMin=0.0\n",
    "tauMax=0.0\n",
    "iBest=0\n",
    "\n",
    "logTauX = ROOT.MakeNullPointer(ROOT.TSpline)\n",
    "logTauY = ROOT.MakeNullPointer(ROOT.TSpline)\n",
    "lCurve = ROOT.MakeNullPointer(ROOT.TGraph)\n",
    "\n",
    "print 'doing the unfolding'\n",
    "tunfolder.ScanLcurve(nScan,tauMin,tauMax,lCurve,logTauX,logTauY);\n",
    "print 'getting the results'\n",
    "unfolded = tunfolder.GetOutput(\"unfolded\")"
   ]
  },
  {
   "cell_type": "code",
   "execution_count": null,
   "metadata": {},
   "outputs": [],
   "source": []
  },
  {
   "cell_type": "code",
   "execution_count": null,
   "metadata": {},
   "outputs": [],
   "source": [
    "c5 = ROOT.TCanvas('c5', 'c5')\n",
    "unfolded.SetMarkerStyle(22)\n",
    "unfolded.SetMarkerColor(4)\n",
    "unfolded.SetFillColor(0)\n",
    "histMgenData.SetMarkerStyle(21)\n",
    "histMgenData.SetMarkerColor(2)\n",
    "\n",
    "hs = ROOT.THStack(\"hs\", \"hs\")\n",
    "hs.Add( histMgenData, \"hist\")\n",
    "hs.Add( unfolded, \"e\")\n",
    "hs.Draw(\"nostack\")\n",
    "c5.Draw()"
   ]
  },
  {
   "cell_type": "code",
   "execution_count": null,
   "metadata": {},
   "outputs": [],
   "source": []
  },
  {
   "cell_type": "code",
   "execution_count": null,
   "metadata": {},
   "outputs": [],
   "source": []
  },
  {
   "cell_type": "markdown",
   "metadata": {},
   "source": [
    "# Unfold $\\tau_4^{(0.5)}$"
   ]
  },
  {
   "cell_type": "markdown",
   "metadata": {},
   "source": [
    "#### Below the input Monte Carlo simulation events are read from the file which only contains events meeting the skim criteria set forth in this __[script](https://github.com/kaustuvdatta/jetObservables/blob/102X/python/nSubProducer_gen_reco.py)__\n"
   ]
  },
  {
   "cell_type": "raw",
   "metadata": {},
   "source": [
    "\n",
    "ROOT.TH1.SetDefaultSumw2()\n",
    "f = ROOT.TFile('../AutoObs/CMS/New_Sel/TT_unfold/1/jetObservables_nanoskim_10.root')\n",
    "t = f.Get(\"Events\")"
   ]
  },
  {
   "cell_type": "markdown",
   "metadata": {
    "collapsed": true
   },
   "source": [
    "#### Set the axis ranges for the generator nd detector level distributions as well as the number of bins in each. Note that we want twice as many detector bins as generator level bins as recommended by the TUnfold documenation "
   ]
  },
  {
   "cell_type": "markdown",
   "metadata": {
    "collapsed": true
   },
   "source": [
    "Get the response matrix and input 1D distributions for unfolding."
   ]
  },
  {
   "cell_type": "code",
   "execution_count": null,
   "metadata": {},
   "outputs": [],
   "source": [
    "print np.min(TT16gen_nSub_basis[:,9])\n",
    "print np.min(TT16reco_nSub_basis[:,9])\n",
    "print np.max(TT16gen_nSub_basis[:,9])\n",
    "print np.max(TT16reco_nSub_basis[:,9])"
   ]
  },
  {
   "cell_type": "code",
   "execution_count": null,
   "metadata": {},
   "outputs": [],
   "source": [
    "nDet=28\n",
    "nGen=14\n",
    "xminDet=0.0\n",
    "xmaxDet=0.56\n",
    "xminGen=0.0\n",
    "xmaxGen=0.56\n",
    "#weight_TT16 = (831.76*lumi*1000.)/10199051.*np.ones(TT16_beta4W.shape[0])*TT16_puWeight*TT16_btagWeight*0.8\n"
   ]
  },
  {
   "cell_type": "code",
   "execution_count": null,
   "metadata": {},
   "outputs": [],
   "source": [
    "ROOT.TH1.SetDefaultSumw2()\n",
    "from root_numpy import *\n",
    "\n",
    "histMgenMC = ROOT.TH1D(\"histMgenMC\", \"histMgenMC; #tau_{4}^{0.5}; Events/(0.02)\", nGen, xminGen,xmaxGen)\n",
    "fill_hist(histMgenMC, TT16gen_nSub_basis[:,9])\n",
    "\n",
    "histMdetMC = ROOT.TH1D(\"histMdetMC\", \"histMdetMC; #tau_{4}^{0.5}; Events/(0.02)\", nDet, xminDet,xmaxDet)\n",
    "fill_hist(histMdetMC, TT16reco_nSub_basis[:,9])\n",
    "\n",
    "histMgenData = ROOT.TH1D(\"histMgenData\", \"histMgenData; #tau_{4}^{0.5}; Events/(0.02)\", nGen, xminGen,xmaxGen)\n",
    "fill_hist(histMgenData, TT16truth_nSub_basis[:,9])\n",
    "\n",
    "histMdetData = ROOT.TH1D(\"histMdetData\", \"histMdetData; #tau_{4}^{0.5}; Events/(0.02)\", nDet, xminDet,xmaxDet)\n",
    "fill_hist(histMdetData, TT16data_nSub_basis[:,9])\n",
    "\n",
    "\n",
    "response = ROOT.TH2D('response', 'response', nDet, xminDet, xmaxDet, nGen, xminGen, xmaxGen)\n",
    "hist2Dfill = np.zeros((TT16reco_nSub_basis[:,9].shape[0], 2))\n",
    "hist2Dfill[:,0] = TT16reco_nSub_basis[:,9].flatten()\n",
    "hist2Dfill[:,1] = TT16gen_nSub_basis[:,9].flatten()\n",
    "fill_hist(response, hist2Dfill)"
   ]
  },
  {
   "cell_type": "raw",
   "metadata": {},
   "source": [
    "xaxis =  array.array('d',[a for a in xrange(nmbinsGen *nptbinsGen + 1 )])\n",
    "nx = len(xaxis)-1\n",
    "\n",
    "print xaxis\n",
    "\n",
    "yaxis =  array.array('d',[a for a in xrange(nmbinsDet *nptbinsDet+1 )])\n",
    "ny = len(yaxis)-1\n",
    "\n",
    "print yaxis\n",
    "\n",
    "h_response = ROOT.TH2D('h_response',   'h_response', nx , xaxis, ny, yaxis )\n",
    "#print h_response2.GetXaxis.GetNbins()\n",
    "print nx\n",
    "print ny\n",
    "nb = nx*ny\n",
    "print nb"
   ]
  },
  {
   "cell_type": "raw",
   "metadata": {
    "collapsed": true
   },
   "source": [
    "response =ROOT.gDirectory.Get(\"response\")\n",
    "histMgenMC=ROOT.gDirectory.Get(\"histMgenMC\")\n",
    "histMdetMC=ROOT.gDirectory.Get(\"histMdetMC\")\n",
    "histMgenData=ROOT.gDirectory.Get(\"histMgenData\")\n",
    "histMdetData=ROOT.gDirectory.Get(\"histMdetData\")"
   ]
  },
  {
   "cell_type": "markdown",
   "metadata": {
    "collapsed": true
   },
   "source": [
    "Set the X and Y axis labels"
   ]
  },
  {
   "cell_type": "code",
   "execution_count": null,
   "metadata": {},
   "outputs": [],
   "source": [
    "response.SetTitle(\";#tau_{4}^{0.5}(det);#tau_{4}^{0.5}(gen)\")\n",
    "\n",
    "\n",
    "histMgenMC.SetTitle(\";#tau_{4}^{0.5}(gen)\")\n",
    "#histMgenMC.SetFillColor(ROOT.kRed)\n",
    "#histMgenMC.SetLineColor(ROOT.kRed)\n",
    "\n",
    "histMdetMC.SetTitle(\";#tau_{4}^{0.5}(det)\")\n",
    "#histMdetMC.SetFillColor(ROOT.kBlue)\n",
    "#histMdetMC.SetLineColor(ROOT.kBlue)\n",
    "\n",
    "\n",
    "histMgenData.SetTitle(\";#tau_{4}^{0.5}(gen)\")\n",
    "#histMgenData.SetFillColor(ROOT.kGreen+2)\n",
    "#histMgenData.SetLineColor(ROOT.kGreen+2)\n",
    "\n",
    "histMdetData.SetTitle(\";#tau_{4}^{0.5}(det)\")\n",
    "#histMdetData.SetFillColor(ROOT.kBlack)\n",
    "#histMdetData.SetLineColor(ROOT.kBlack)"
   ]
  },
  {
   "cell_type": "markdown",
   "metadata": {
    "collapsed": true
   },
   "source": [
    "Draw the variables at reco and gen level and for \"data\""
   ]
  },
  {
   "cell_type": "code",
   "execution_count": null,
   "metadata": {},
   "outputs": [],
   "source": [
    "c1 = ROOT.TCanvas(\"chistMgenMC1\", \"chistMgenMC1\")\n",
    "histMgenMC.Draw(\"e\")\n",
    "histMdetMC.Draw(\"e same\")\n",
    "c1.Draw()"
   ]
  },
  {
   "cell_type": "code",
   "execution_count": null,
   "metadata": {},
   "outputs": [],
   "source": [
    "c1 = ROOT.TCanvas(\"chistMgenMC1\", \"chistMgenMC1\")\n",
    "histMgenData.Draw(\"e\")\n",
    "histMdetData.Draw(\"e same\")\n",
    "c1.Draw()"
   ]
  },
  {
   "cell_type": "markdown",
   "metadata": {
    "collapsed": true
   },
   "source": [
    "Draw the response matrix."
   ]
  },
  {
   "cell_type": "code",
   "execution_count": null,
   "metadata": {
    "scrolled": false
   },
   "outputs": [],
   "source": [
    "c1 = ROOT.TCanvas(\"cresponse1\", \"cresponse1\")\n",
    "response.Draw(\"colz\")\n",
    "c1.Draw()"
   ]
  },
  {
   "cell_type": "code",
   "execution_count": null,
   "metadata": {},
   "outputs": [],
   "source": [
    "#### In MC :"
   ]
  },
  {
   "cell_type": "code",
   "execution_count": null,
   "metadata": {},
   "outputs": [],
   "source": [
    "c2 = ROOT.TCanvas(\"MCcompare\", \"MCcompare\")\n",
    "histMgenMC.Draw('e')\n",
    "histMdetMC.Draw('e same')\n",
    "c2.Draw()"
   ]
  },
  {
   "cell_type": "markdown",
   "metadata": {
    "collapsed": true
   },
   "source": [
    "#### In Data:"
   ]
  },
  {
   "cell_type": "code",
   "execution_count": null,
   "metadata": {},
   "outputs": [],
   "source": [
    "c3 = ROOT.TCanvas(\"datadists\", \"datadists\")\n",
    "histMgenData.Draw('e')\n",
    "histMdetData.Draw('e same')\n",
    "c3.Draw()"
   ]
  },
  {
   "cell_type": "code",
   "execution_count": null,
   "metadata": {},
   "outputs": [],
   "source": [
    "print 'getting tunfolder:'\n",
    "tunfolder = ROOT.TUnfoldDensity(response,ROOT.TUnfold.kHistMapOutputVert,ROOT.TUnfold.kRegModeCurvature, ROOT.TUnfold.kEConstraintNone, ROOT.TUnfoldDensity.kDensityModeBinWidth)"
   ]
  },
  {
   "cell_type": "markdown",
   "metadata": {
    "collapsed": true
   },
   "source": [
    "Set the input, a 1D reconstructed histogram from either MC (closure) or Data (measurement) , binned in the detector level binning."
   ]
  },
  {
   "cell_type": "code",
   "execution_count": null,
   "metadata": {},
   "outputs": [],
   "source": [
    "print 'setting reco input'\n",
    "tunfolder.SetInput( histMdetData )"
   ]
  },
  {
   "cell_type": "markdown",
   "metadata": {},
   "source": [
    "Unfold nScan times with values for the regularization parameter between tauMin and tauMax using the empty TSplines to store the results."
   ]
  },
  {
   "cell_type": "code",
   "execution_count": null,
   "metadata": {},
   "outputs": [],
   "source": [
    "print 'regularizing'\n",
    "nScan=50\n",
    "tauMin=0.0\n",
    "tauMax=0.0\n",
    "iBest=0\n",
    "\n",
    "logTauX = ROOT.MakeNullPointer(ROOT.TSpline)\n",
    "logTauY = ROOT.MakeNullPointer(ROOT.TSpline)\n",
    "lCurve = ROOT.MakeNullPointer(ROOT.TGraph)\n",
    "\n",
    "print 'doing the unfolding'\n",
    "tunfolder.ScanLcurve(nScan,tauMin,tauMax,lCurve,logTauX,logTauY);\n",
    "print 'getting the results'\n",
    "unfolded = tunfolder.GetOutput(\"unfolded\")"
   ]
  },
  {
   "cell_type": "code",
   "execution_count": null,
   "metadata": {},
   "outputs": [],
   "source": []
  },
  {
   "cell_type": "code",
   "execution_count": null,
   "metadata": {},
   "outputs": [],
   "source": [
    "c5 = ROOT.TCanvas('c5', 'c5')\n",
    "unfolded.SetMarkerStyle(22)\n",
    "unfolded.SetMarkerColor(4)\n",
    "unfolded.SetFillColor(0)\n",
    "histMgenData.SetMarkerStyle(21)\n",
    "histMgenData.SetMarkerColor(2)\n",
    "\n",
    "hs = ROOT.THStack(\"hs\", \"hs\")\n",
    "hs.Add( histMgenData, \"hist\")\n",
    "hs.Add( unfolded, \"e\")\n",
    "hs.Draw(\"nostack\")\n",
    "c5.Draw()"
   ]
  },
  {
   "cell_type": "code",
   "execution_count": null,
   "metadata": {},
   "outputs": [],
   "source": []
  },
  {
   "cell_type": "markdown",
   "metadata": {},
   "source": [
    "# Unfold $\\tau_4^{(1)}$"
   ]
  },
  {
   "cell_type": "markdown",
   "metadata": {},
   "source": [
    "#### Below the input Monte Carlo simulation events are read from the file which only contains events meeting the skim criteria set forth in this __[script](https://github.com/kaustuvdatta/jetObservables/blob/102X/python/nSubProducer_gen_reco.py)__\n"
   ]
  },
  {
   "cell_type": "raw",
   "metadata": {},
   "source": [
    "\n",
    "ROOT.TH1.SetDefaultSumw2()\n",
    "f = ROOT.TFile('../AutoObs/CMS/New_Sel/TT_unfold/1/jetObservables_nanoskim_10.root')\n",
    "t = f.Get(\"Events\")"
   ]
  },
  {
   "cell_type": "markdown",
   "metadata": {
    "collapsed": true
   },
   "source": [
    "#### Set the axis ranges for the generator nd detector level distributions as well as the number of bins in each. Note that we want twice as many detector bins as generator level bins as recommended by the TUnfold documenation "
   ]
  },
  {
   "cell_type": "markdown",
   "metadata": {
    "collapsed": true
   },
   "source": [
    "Get the response matrix and input 1D distributions for unfolding."
   ]
  },
  {
   "cell_type": "code",
   "execution_count": null,
   "metadata": {},
   "outputs": [],
   "source": [
    "print np.min(TT16gen_nSub_basis[:,10])\n",
    "print np.min(TT16reco_nSub_basis[:,10])\n",
    "print np.max(TT16gen_nSub_basis[:,10])\n",
    "print np.max(TT16reco_nSub_basis[:,10])"
   ]
  },
  {
   "cell_type": "code",
   "execution_count": null,
   "metadata": {},
   "outputs": [],
   "source": [
    "nDet=50\n",
    "nGen=25\n",
    "xminDet=0.0\n",
    "xmaxDet=0.3\n",
    "xminGen=0.0\n",
    "xmaxGen=0.3\n",
    "#weight_TT16 = (831.76*lumi*1000.)/10199051.*np.ones(TT16_beta4W.shape[0])*TT16_puWeight*TT16_btagWeight*0.8\n"
   ]
  },
  {
   "cell_type": "code",
   "execution_count": null,
   "metadata": {},
   "outputs": [],
   "source": [
    "ROOT.TH1.SetDefaultSumw2()\n",
    "from root_numpy import *\n",
    "\n",
    "histMgenMC = ROOT.TH1D(\"histMgenMC\", \"histMgenMC; #tau_{4}^{1}; Events/(0.02)\", nGen, xminGen,xmaxGen)\n",
    "fill_hist(histMgenMC, TT16gen_nSub_basis[:,10])\n",
    "\n",
    "histMdetMC = ROOT.TH1D(\"histMdetMC\", \"histMdetMC; #tau_{4}^{1}; Events/(0.02)\", nDet, xminDet,xmaxDet)\n",
    "fill_hist(histMdetMC, TT16reco_nSub_basis[:,10])\n",
    "\n",
    "histMgenData = ROOT.TH1D(\"histMgenData\", \"histMgenData; #tau_{4}^{1}; Events/(0.02)\", nGen, xminGen,xmaxGen)\n",
    "fill_hist(histMgenData, TT16truth_nSub_basis[:,10])\n",
    "\n",
    "histMdetData = ROOT.TH1D(\"histMdetData\", \"histMdetData; #tau_{4}^{1}; Events/(0.02)\", nDet, xminDet,xmaxDet)\n",
    "fill_hist(histMdetData, TT16data_nSub_basis[:,10])\n",
    "\n",
    "\n",
    "response = ROOT.TH2D('response', 'response', nDet, xminDet, xmaxDet, nGen, xminGen, xmaxGen)\n",
    "hist2Dfill = np.zeros((TT16reco_nSub_basis[:,10].shape[0], 2))\n",
    "hist2Dfill[:,0] = TT16reco_nSub_basis[:,10].flatten()\n",
    "hist2Dfill[:,1] = TT16gen_nSub_basis[:,10].flatten()\n",
    "fill_hist(response, hist2Dfill)"
   ]
  },
  {
   "cell_type": "raw",
   "metadata": {},
   "source": [
    "xaxis =  array.array('d',[a for a in xrange(nmbinsGen *nptbinsGen + 1 )])\n",
    "nx = len(xaxis)-1\n",
    "\n",
    "print xaxis\n",
    "\n",
    "yaxis =  array.array('d',[a for a in xrange(nmbinsDet *nptbinsDet+1 )])\n",
    "ny = len(yaxis)-1\n",
    "\n",
    "print yaxis\n",
    "\n",
    "h_response = ROOT.TH2D('h_response',   'h_response', nx , xaxis, ny, yaxis )\n",
    "#print h_response2.GetXaxis.GetNbins()\n",
    "print nx\n",
    "print ny\n",
    "nb = nx*ny\n",
    "print nb"
   ]
  },
  {
   "cell_type": "raw",
   "metadata": {
    "collapsed": true
   },
   "source": [
    "response =ROOT.gDirectory.Get(\"response\")\n",
    "histMgenMC=ROOT.gDirectory.Get(\"histMgenMC\")\n",
    "histMdetMC=ROOT.gDirectory.Get(\"histMdetMC\")\n",
    "histMgenData=ROOT.gDirectory.Get(\"histMgenData\")\n",
    "histMdetData=ROOT.gDirectory.Get(\"histMdetData\")"
   ]
  },
  {
   "cell_type": "markdown",
   "metadata": {
    "collapsed": true
   },
   "source": [
    "Set the X and Y axis labels"
   ]
  },
  {
   "cell_type": "code",
   "execution_count": null,
   "metadata": {},
   "outputs": [],
   "source": [
    "response.SetTitle(\";#tau_{4}^{1}(det);#tau_{4}^{1}(gen)\")\n",
    "\n",
    "\n",
    "histMgenMC.SetTitle(\";#tau_{4}^{1}(gen)\")\n",
    "#histMgenMC.SetFillColor(ROOT.kRed)\n",
    "#histMgenMC.SetLineColor(ROOT.kRed)\n",
    "\n",
    "histMdetMC.SetTitle(\";#tau_{4}^{1}(det)\")\n",
    "#histMdetMC.SetFillColor(ROOT.kBlue)\n",
    "#histMdetMC.SetLineColor(ROOT.kBlue)\n",
    "\n",
    "\n",
    "histMgenData.SetTitle(\";#tau_{4}^{1}(gen)\")\n",
    "#histMgenData.SetFillColor(ROOT.kGreen+2)\n",
    "#histMgenData.SetLineColor(ROOT.kGreen+2)\n",
    "\n",
    "histMdetData.SetTitle(\";#tau_{4}^{1}(det)\")\n",
    "#histMdetData.SetFillColor(ROOT.kBlack)\n",
    "#histMdetData.SetLineColor(ROOT.kBlack)"
   ]
  },
  {
   "cell_type": "markdown",
   "metadata": {
    "collapsed": true
   },
   "source": [
    "Draw the variables at reco and gen level and for \"data\""
   ]
  },
  {
   "cell_type": "code",
   "execution_count": null,
   "metadata": {},
   "outputs": [],
   "source": [
    "c1 = ROOT.TCanvas(\"chistMgenMC1\", \"chistMgenMC1\")\n",
    "histMgenMC.Draw(\"e\")\n",
    "histMdetMC.Draw(\"e same\")\n",
    "c1.Draw()"
   ]
  },
  {
   "cell_type": "code",
   "execution_count": null,
   "metadata": {},
   "outputs": [],
   "source": [
    "c1 = ROOT.TCanvas(\"chistMgenMC1\", \"chistMgenMC1\")\n",
    "histMgenData.Draw(\"e\")\n",
    "histMdetData.Draw(\"e same\")\n",
    "c1.Draw()"
   ]
  },
  {
   "cell_type": "markdown",
   "metadata": {
    "collapsed": true
   },
   "source": [
    "Draw the response matrix."
   ]
  },
  {
   "cell_type": "code",
   "execution_count": null,
   "metadata": {
    "scrolled": false
   },
   "outputs": [],
   "source": [
    "c1 = ROOT.TCanvas(\"cresponse1\", \"cresponse1\")\n",
    "response.Draw(\"colz\")\n",
    "c1.Draw()"
   ]
  },
  {
   "cell_type": "code",
   "execution_count": null,
   "metadata": {},
   "outputs": [],
   "source": [
    "#### In MC :"
   ]
  },
  {
   "cell_type": "code",
   "execution_count": null,
   "metadata": {},
   "outputs": [],
   "source": [
    "c2 = ROOT.TCanvas(\"MCcompare\", \"MCcompare\")\n",
    "histMgenMC.Draw('e')\n",
    "histMdetMC.Draw('e same')\n",
    "c2.Draw()"
   ]
  },
  {
   "cell_type": "markdown",
   "metadata": {
    "collapsed": true
   },
   "source": [
    "#### In Data:"
   ]
  },
  {
   "cell_type": "code",
   "execution_count": null,
   "metadata": {},
   "outputs": [],
   "source": [
    "c3 = ROOT.TCanvas(\"datadists\", \"datadists\")\n",
    "histMgenData.Draw('e')\n",
    "histMdetData.Draw('e same')\n",
    "c3.Draw()"
   ]
  },
  {
   "cell_type": "code",
   "execution_count": null,
   "metadata": {},
   "outputs": [],
   "source": [
    "print 'getting tunfolder:'\n",
    "tunfolder = ROOT.TUnfoldDensity(response,ROOT.TUnfold.kHistMapOutputVert,ROOT.TUnfold.kRegModeCurvature, ROOT.TUnfold.kEConstraintNone, ROOT.TUnfoldDensity.kDensityModeBinWidth)"
   ]
  },
  {
   "cell_type": "markdown",
   "metadata": {
    "collapsed": true
   },
   "source": [
    "Set the input, a 1D reconstructed histogram from either MC (closure) or Data (measurement) , binned in the detector level binning."
   ]
  },
  {
   "cell_type": "code",
   "execution_count": null,
   "metadata": {},
   "outputs": [],
   "source": [
    "print 'setting reco input'\n",
    "tunfolder.SetInput( histMdetData )"
   ]
  },
  {
   "cell_type": "markdown",
   "metadata": {},
   "source": [
    "Unfold nScan times with values for the regularization parameter between tauMin and tauMax using the empty TSplines to store the results."
   ]
  },
  {
   "cell_type": "code",
   "execution_count": null,
   "metadata": {},
   "outputs": [],
   "source": [
    "print 'regularizing'\n",
    "nScan=20\n",
    "tauMin=0.0\n",
    "tauMax=0.0\n",
    "iBest=0\n",
    "\n",
    "logTauX = ROOT.MakeNullPointer(ROOT.TSpline)\n",
    "logTauY = ROOT.MakeNullPointer(ROOT.TSpline)\n",
    "lCurve = ROOT.MakeNullPointer(ROOT.TGraph)\n",
    "\n",
    "print 'doing the unfolding'\n",
    "tunfolder.ScanLcurve(nScan,tauMin,tauMax,lCurve,logTauX,logTauY);\n",
    "print 'getting the results'\n",
    "unfolded = tunfolder.GetOutput(\"unfolded\")"
   ]
  },
  {
   "cell_type": "code",
   "execution_count": null,
   "metadata": {},
   "outputs": [],
   "source": []
  },
  {
   "cell_type": "code",
   "execution_count": null,
   "metadata": {},
   "outputs": [],
   "source": [
    "c5 = ROOT.TCanvas('c5', 'c5')\n",
    "unfolded.SetMarkerStyle(22)\n",
    "unfolded.SetMarkerColor(4)\n",
    "unfolded.SetFillColor(0)\n",
    "histMgenData.SetMarkerStyle(21)\n",
    "histMgenData.SetMarkerColor(2)\n",
    "\n",
    "hs = ROOT.THStack(\"hs\", \"hs\")\n",
    "hs.Add( histMgenData, \"hist\")\n",
    "hs.Add( unfolded, \"e\")\n",
    "hs.Draw(\"nostack\")\n",
    "c5.Draw()"
   ]
  },
  {
   "cell_type": "code",
   "execution_count": null,
   "metadata": {},
   "outputs": [],
   "source": []
  },
  {
   "cell_type": "markdown",
   "metadata": {},
   "source": [
    "# Unfold $\\tau_4^{(2)}$"
   ]
  },
  {
   "cell_type": "markdown",
   "metadata": {},
   "source": [
    "#### Below the input Monte Carlo simulation events are read from the file which only contains events meeting the skim criteria set forth in this __[script](https://github.com/kaustuvdatta/jetObservables/blob/102X/python/nSubProducer_gen_reco.py)__\n"
   ]
  },
  {
   "cell_type": "raw",
   "metadata": {},
   "source": [
    "\n",
    "ROOT.TH1.SetDefaultSumw2()\n",
    "f = ROOT.TFile('../AutoObs/CMS/New_Sel/TT_unfold/1/jetObservables_nanoskim_10.root')\n",
    "t = f.Get(\"Events\")"
   ]
  },
  {
   "cell_type": "markdown",
   "metadata": {
    "collapsed": true
   },
   "source": [
    "#### Set the axis ranges for the generator nd detector level distributions as well as the number of bins in each. Note that we want twice as many detector bins as generator level bins as recommended by the TUnfold documenation "
   ]
  },
  {
   "cell_type": "markdown",
   "metadata": {
    "collapsed": true
   },
   "source": [
    "Get the response matrix and input 1D distributions for unfolding."
   ]
  },
  {
   "cell_type": "code",
   "execution_count": null,
   "metadata": {},
   "outputs": [],
   "source": [
    "print np.min(TT16gen_nSub_basis[:,11])\n",
    "print np.min(TT16reco_nSub_basis[:,11])\n",
    "print np.max(TT16gen_nSub_basis[:,11])\n",
    "print np.max(TT16reco_nSub_basis[:,11])"
   ]
  },
  {
   "cell_type": "code",
   "execution_count": null,
   "metadata": {},
   "outputs": [],
   "source": [
    "nDet=30\n",
    "nGen=15\n",
    "xminDet=0.0\n",
    "xmaxDet=0.09\n",
    "xminGen=0.0\n",
    "xmaxGen=0.09\n",
    "#weight_TT16 = (831.76*lumi*1000.)/10199051.*np.ones(TT16_beta4W.shape[0])*TT16_puWeight*TT16_btagWeight*0.8\n"
   ]
  },
  {
   "cell_type": "code",
   "execution_count": null,
   "metadata": {},
   "outputs": [],
   "source": [
    "ROOT.TH1.SetDefaultSumw2()\n",
    "from root_numpy import *\n",
    "\n",
    "histMgenMC = ROOT.TH1D(\"histMgenMC\", \"histMgenMC; #tau_{4}^{2}; Events/(0.02)\", nGen, xminGen,xmaxGen)\n",
    "fill_hist(histMgenMC, TT16gen_nSub_basis[:,11])\n",
    "\n",
    "histMdetMC = ROOT.TH1D(\"histMdetMC\", \"histMdetMC; #tau_{4}^{2}; Events/(0.02)\", nDet, xminDet,xmaxDet)\n",
    "fill_hist(histMdetMC, TT16reco_nSub_basis[:,11])\n",
    "\n",
    "histMgenData = ROOT.TH1D(\"histMgenData\", \"histMgenData; #tau_{4}^{2}; Events/(0.02)\", nGen, xminGen,xmaxGen)\n",
    "fill_hist(histMgenData, TT16truth_nSub_basis[:,11])\n",
    "\n",
    "histMdetData = ROOT.TH1D(\"histMdetData\", \"histMdetData; #tau_{4}^{2}; Events/(0.02)\", nDet, xminDet,xmaxDet)\n",
    "fill_hist(histMdetData, TT16data_nSub_basis[:,11])\n",
    "\n",
    "\n",
    "response = ROOT.TH2D('response', 'response', nDet, xminDet, xmaxDet, nGen, xminGen, xmaxGen)\n",
    "hist2Dfill = np.zeros((TT16reco_nSub_basis[:,11].shape[0], 2))\n",
    "hist2Dfill[:,0] = TT16reco_nSub_basis[:,11].flatten()\n",
    "hist2Dfill[:,1] = TT16gen_nSub_basis[:,11].flatten()\n",
    "fill_hist(response, hist2Dfill)"
   ]
  },
  {
   "cell_type": "raw",
   "metadata": {},
   "source": [
    "xaxis =  array.array('d',[a for a in xrange(nmbinsGen *nptbinsGen + 1 )])\n",
    "nx = len(xaxis)-1\n",
    "\n",
    "print xaxis\n",
    "\n",
    "yaxis =  array.array('d',[a for a in xrange(nmbinsDet *nptbinsDet+1 )])\n",
    "ny = len(yaxis)-1\n",
    "\n",
    "print yaxis\n",
    "\n",
    "h_response = ROOT.TH2D('h_response',   'h_response', nx , xaxis, ny, yaxis )\n",
    "#print h_response2.GetXaxis.GetNbins()\n",
    "print nx\n",
    "print ny\n",
    "nb = nx*ny\n",
    "print nb"
   ]
  },
  {
   "cell_type": "raw",
   "metadata": {
    "collapsed": true
   },
   "source": [
    "response =ROOT.gDirectory.Get(\"response\")\n",
    "histMgenMC=ROOT.gDirectory.Get(\"histMgenMC\")\n",
    "histMdetMC=ROOT.gDirectory.Get(\"histMdetMC\")\n",
    "histMgenData=ROOT.gDirectory.Get(\"histMgenData\")\n",
    "histMdetData=ROOT.gDirectory.Get(\"histMdetData\")"
   ]
  },
  {
   "cell_type": "markdown",
   "metadata": {
    "collapsed": true
   },
   "source": [
    "Set the X and Y axis labels"
   ]
  },
  {
   "cell_type": "code",
   "execution_count": null,
   "metadata": {},
   "outputs": [],
   "source": [
    "response.SetTitle(\";#tau_{4}^{2}(det);#tau_{4}^{2}(gen)\")\n",
    "\n",
    "\n",
    "histMgenMC.SetTitle(\";#tau_{4}^{2}(gen)\")\n",
    "#histMgenMC.SetFillColor(ROOT.kRed)\n",
    "#histMgenMC.SetLineColor(ROOT.kRed)\n",
    "\n",
    "histMdetMC.SetTitle(\";#tau_{4}^{2}(det)\")\n",
    "#histMdetMC.SetFillColor(ROOT.kBlue)\n",
    "#histMdetMC.SetLineColor(ROOT.kBlue)\n",
    "\n",
    "\n",
    "histMgenData.SetTitle(\";#tau_{4}^{2}(gen)\")\n",
    "#histMgenData.SetFillColor(ROOT.kGreen+2)\n",
    "#histMgenData.SetLineColor(ROOT.kGreen+2)\n",
    "\n",
    "histMdetData.SetTitle(\";#tau_{4}^{2}(det)\")\n",
    "#histMdetData.SetFillColor(ROOT.kBlack)\n",
    "#histMdetData.SetLineColor(ROOT.kBlack)"
   ]
  },
  {
   "cell_type": "markdown",
   "metadata": {
    "collapsed": true
   },
   "source": [
    "Draw the variables at reco and gen level and for \"data\""
   ]
  },
  {
   "cell_type": "code",
   "execution_count": null,
   "metadata": {},
   "outputs": [],
   "source": [
    "c1 = ROOT.TCanvas(\"chistMgenMC1\", \"chistMgenMC1\")\n",
    "histMgenMC.Draw(\"e\")\n",
    "histMdetMC.Draw(\"e same\")\n",
    "c1.Draw()"
   ]
  },
  {
   "cell_type": "code",
   "execution_count": null,
   "metadata": {},
   "outputs": [],
   "source": [
    "c1 = ROOT.TCanvas(\"chistMgenMC1\", \"chistMgenMC1\")\n",
    "histMgenData.Draw(\"e\")\n",
    "histMdetData.Draw(\"e same\")\n",
    "c1.Draw()"
   ]
  },
  {
   "cell_type": "markdown",
   "metadata": {
    "collapsed": true
   },
   "source": [
    "Draw the response matrix."
   ]
  },
  {
   "cell_type": "code",
   "execution_count": null,
   "metadata": {
    "scrolled": false
   },
   "outputs": [],
   "source": [
    "c1 = ROOT.TCanvas(\"cresponse1\", \"cresponse1\")\n",
    "response.Draw(\"colz\")\n",
    "c1.Draw()"
   ]
  },
  {
   "cell_type": "code",
   "execution_count": null,
   "metadata": {},
   "outputs": [],
   "source": [
    "#### In MC :"
   ]
  },
  {
   "cell_type": "code",
   "execution_count": null,
   "metadata": {},
   "outputs": [],
   "source": [
    "c2 = ROOT.TCanvas(\"MCcompare\", \"MCcompare\")\n",
    "histMgenMC.Draw('e')\n",
    "histMdetMC.Draw('e same')\n",
    "c2.Draw()"
   ]
  },
  {
   "cell_type": "markdown",
   "metadata": {
    "collapsed": true
   },
   "source": [
    "#### In Data:"
   ]
  },
  {
   "cell_type": "code",
   "execution_count": null,
   "metadata": {},
   "outputs": [],
   "source": [
    "c3 = ROOT.TCanvas(\"datadists\", \"datadists\")\n",
    "histMgenData.Draw('e')\n",
    "histMdetData.Draw('e same')\n",
    "c3.Draw()"
   ]
  },
  {
   "cell_type": "code",
   "execution_count": null,
   "metadata": {},
   "outputs": [],
   "source": [
    "print 'getting tunfolder:'\n",
    "tunfolder = ROOT.TUnfoldDensity(response,ROOT.TUnfold.kHistMapOutputVert,ROOT.TUnfold.kRegModeCurvature, ROOT.TUnfold.kEConstraintNone, ROOT.TUnfoldDensity.kDensityModeBinWidth)"
   ]
  },
  {
   "cell_type": "markdown",
   "metadata": {
    "collapsed": true
   },
   "source": [
    "Set the input, a 1D reconstructed histogram from either MC (closure) or Data (measurement) , binned in the detector level binning."
   ]
  },
  {
   "cell_type": "code",
   "execution_count": null,
   "metadata": {},
   "outputs": [],
   "source": [
    "print 'setting reco input'\n",
    "tunfolder.SetInput( histMdetData )"
   ]
  },
  {
   "cell_type": "markdown",
   "metadata": {},
   "source": [
    "Unfold nScan times with values for the regularization parameter between tauMin and tauMax using the empty TSplines to store the results."
   ]
  },
  {
   "cell_type": "code",
   "execution_count": null,
   "metadata": {},
   "outputs": [],
   "source": [
    "print 'regularizing'\n",
    "nScan=50\n",
    "tauMin=0.0\n",
    "tauMax=0.0\n",
    "iBest=0\n",
    "\n",
    "logTauX = ROOT.MakeNullPointer(ROOT.TSpline)\n",
    "logTauY = ROOT.MakeNullPointer(ROOT.TSpline)\n",
    "lCurve = ROOT.MakeNullPointer(ROOT.TGraph)\n",
    "\n",
    "print 'doing the unfolding'\n",
    "tunfolder.ScanLcurve(nScan,tauMin,tauMax,lCurve,logTauX,logTauY);\n",
    "print 'getting the results'\n",
    "unfolded = tunfolder.GetOutput(\"unfolded\")"
   ]
  },
  {
   "cell_type": "code",
   "execution_count": null,
   "metadata": {},
   "outputs": [],
   "source": []
  },
  {
   "cell_type": "code",
   "execution_count": null,
   "metadata": {},
   "outputs": [],
   "source": [
    "c5 = ROOT.TCanvas('c5', 'c5')\n",
    "unfolded.SetMarkerStyle(22)\n",
    "unfolded.SetMarkerColor(4)\n",
    "unfolded.SetFillColor(0)\n",
    "histMgenData.SetMarkerStyle(21)\n",
    "histMgenData.SetMarkerColor(2)\n",
    "\n",
    "hs = ROOT.THStack(\"hs\", \"hs\")\n",
    "hs.Add( histMgenData, \"hist\")\n",
    "hs.Add( unfolded, \"e\")\n",
    "hs.Draw(\"nostack\")\n",
    "c5.Draw()"
   ]
  },
  {
   "cell_type": "code",
   "execution_count": null,
   "metadata": {},
   "outputs": [],
   "source": []
  },
  {
   "cell_type": "code",
   "execution_count": null,
   "metadata": {},
   "outputs": [],
   "source": []
  },
  {
   "cell_type": "markdown",
   "metadata": {},
   "source": [
    "# Unfold $\\tau_5^{(0.5)}$"
   ]
  },
  {
   "cell_type": "markdown",
   "metadata": {},
   "source": [
    "#### Below the input Monte Carlo simulation events are read from the file which only contains events meeting the skim criteria set forth in this __[script](https://github.com/kaustuvdatta/jetObservables/blob/102X/python/nSubProducer_gen_reco.py)__\n"
   ]
  },
  {
   "cell_type": "raw",
   "metadata": {},
   "source": [
    "\n",
    "ROOT.TH1.SetDefaultSumw2()\n",
    "f = ROOT.TFile('../AutoObs/CMS/New_Sel/TT_unfold/1/jetObservables_nanoskim_10.root')\n",
    "t = f.Get(\"Events\")"
   ]
  },
  {
   "cell_type": "markdown",
   "metadata": {
    "collapsed": true
   },
   "source": [
    "#### Set the axis ranges for the generator nd detector level distributions as well as the number of bins in each. Note that we want twice as many detector bins as generator level bins as recommended by the TUnfold documenation "
   ]
  },
  {
   "cell_type": "markdown",
   "metadata": {
    "collapsed": true
   },
   "source": [
    "Get the response matrix and input 1D distributions for unfolding."
   ]
  },
  {
   "cell_type": "code",
   "execution_count": null,
   "metadata": {},
   "outputs": [],
   "source": [
    "print np.min(TT16gen_nSub_basis[:,12])\n",
    "print np.min(TT16reco_nSub_basis[:,12])\n",
    "print np.max(TT16gen_nSub_basis[:,12])\n",
    "print np.max(TT16reco_nSub_basis[:,12])"
   ]
  },
  {
   "cell_type": "code",
   "execution_count": null,
   "metadata": {},
   "outputs": [],
   "source": [
    "nDet=30\n",
    "nGen=15\n",
    "xminDet=0.0\n",
    "xmaxDet=0.5\n",
    "xminGen=0.0\n",
    "xmaxGen=0.5\n",
    "#weight_TT16 = (831.76*lumi*1000.)/10199051.*np.ones(TT16_beta4W.shape[0])*TT16_puWeight*TT16_btagWeight*0.8\n"
   ]
  },
  {
   "cell_type": "code",
   "execution_count": null,
   "metadata": {},
   "outputs": [],
   "source": [
    "ROOT.TH1.SetDefaultSumw2()\n",
    "from root_numpy import *\n",
    "\n",
    "histMgenMC = ROOT.TH1D(\"histMgenMC\", \"histMgenMC; #tau_{5}^{0.5}; Events/(0.02)\", nGen, xminGen,xmaxGen)\n",
    "fill_hist(histMgenMC, TT16gen_nSub_basis[:,12])\n",
    "\n",
    "histMdetMC = ROOT.TH1D(\"histMdetMC\", \"histMdetMC; #tau_{5}^{0.5}; Events/(0.02)\", nDet, xminDet,xmaxDet)\n",
    "fill_hist(histMdetMC, TT16reco_nSub_basis[:,12])\n",
    "\n",
    "histMgenData = ROOT.TH1D(\"histMgenData\", \"histMgenData; #tau_{5}^{0.5}; Events/(0.02)\", nGen, xminGen,xmaxGen)\n",
    "fill_hist(histMgenData, TT16truth_nSub_basis[:,12])\n",
    "\n",
    "histMdetData = ROOT.TH1D(\"histMdetData\", \"histMdetData; #tau_{5}^{0.5}; Events/(0.02)\", nDet, xminDet,xmaxDet)\n",
    "fill_hist(histMdetData, TT16data_nSub_basis[:,12])\n",
    "\n",
    "\n",
    "response = ROOT.TH2D('response', 'response', nDet, xminDet, xmaxDet, nGen, xminGen, xmaxGen)\n",
    "hist2Dfill = np.zeros((TT16reco_nSub_basis[:,12].shape[0], 2))\n",
    "hist2Dfill[:,0] = TT16reco_nSub_basis[:,12].flatten()\n",
    "hist2Dfill[:,1] = TT16gen_nSub_basis[:,12].flatten()\n",
    "fill_hist(response, hist2Dfill)"
   ]
  },
  {
   "cell_type": "raw",
   "metadata": {},
   "source": [
    "xaxis =  array.array('d',[a for a in xrange(nmbinsGen *nptbinsGen + 1 )])\n",
    "nx = len(xaxis)-1\n",
    "\n",
    "print xaxis\n",
    "\n",
    "yaxis =  array.array('d',[a for a in xrange(nmbinsDet *nptbinsDet+1 )])\n",
    "ny = len(yaxis)-1\n",
    "\n",
    "print yaxis\n",
    "\n",
    "h_response = ROOT.TH2D('h_response',   'h_response', nx , xaxis, ny, yaxis )\n",
    "#print h_response2.GetXaxis.GetNbins()\n",
    "print nx\n",
    "print ny\n",
    "nb = nx*ny\n",
    "print nb"
   ]
  },
  {
   "cell_type": "raw",
   "metadata": {
    "collapsed": true
   },
   "source": [
    "response =ROOT.gDirectory.Get(\"response\")\n",
    "histMgenMC=ROOT.gDirectory.Get(\"histMgenMC\")\n",
    "histMdetMC=ROOT.gDirectory.Get(\"histMdetMC\")\n",
    "histMgenData=ROOT.gDirectory.Get(\"histMgenData\")\n",
    "histMdetData=ROOT.gDirectory.Get(\"histMdetData\")"
   ]
  },
  {
   "cell_type": "markdown",
   "metadata": {
    "collapsed": true
   },
   "source": [
    "Set the X and Y axis labels"
   ]
  },
  {
   "cell_type": "code",
   "execution_count": null,
   "metadata": {},
   "outputs": [],
   "source": [
    "response.SetTitle(\";#tau_{5}^{0.5}(det);#tau_{5}^{0.5}(gen)\")\n",
    "\n",
    "\n",
    "histMgenMC.SetTitle(\";#tau_{5}^{0.5}(gen)\")\n",
    "#histMgenMC.SetFillColor(ROOT.kRed)\n",
    "#histMgenMC.SetLineColor(ROOT.kRed)\n",
    "\n",
    "histMdetMC.SetTitle(\";#tau_{5}^{0.5}(det)\")\n",
    "#histMdetMC.SetFillColor(ROOT.kBlue)\n",
    "#histMdetMC.SetLineColor(ROOT.kBlue)\n",
    "\n",
    "\n",
    "histMgenData.SetTitle(\";#tau_{5}^{0.5}(gen)\")\n",
    "#histMgenData.SetFillColor(ROOT.kGreen+2)\n",
    "#histMgenData.SetLineColor(ROOT.kGreen+2)\n",
    "\n",
    "histMdetData.SetTitle(\";#tau_{5}^{0.5}(det)\")\n",
    "#histMdetData.SetFillColor(ROOT.kBlack)\n",
    "#histMdetData.SetLineColor(ROOT.kBlack)"
   ]
  },
  {
   "cell_type": "markdown",
   "metadata": {
    "collapsed": true
   },
   "source": [
    "Draw the variables at reco and gen level and for \"data\""
   ]
  },
  {
   "cell_type": "code",
   "execution_count": null,
   "metadata": {},
   "outputs": [],
   "source": [
    "c1 = ROOT.TCanvas(\"chistMgenMC1\", \"chistMgenMC1\")\n",
    "histMgenMC.Draw(\"e\")\n",
    "histMdetMC.Draw(\"e same\")\n",
    "c1.Draw()"
   ]
  },
  {
   "cell_type": "code",
   "execution_count": null,
   "metadata": {},
   "outputs": [],
   "source": [
    "c1 = ROOT.TCanvas(\"chistMgenMC1\", \"chistMgenMC1\")\n",
    "histMgenData.Draw(\"e\")\n",
    "histMdetData.Draw(\"e same\")\n",
    "c1.Draw()"
   ]
  },
  {
   "cell_type": "markdown",
   "metadata": {
    "collapsed": true
   },
   "source": [
    "Draw the response matrix."
   ]
  },
  {
   "cell_type": "code",
   "execution_count": null,
   "metadata": {
    "scrolled": false
   },
   "outputs": [],
   "source": [
    "c1 = ROOT.TCanvas(\"cresponse1\", \"cresponse1\")\n",
    "response.Draw(\"colz\")\n",
    "c1.Draw()"
   ]
  },
  {
   "cell_type": "code",
   "execution_count": null,
   "metadata": {},
   "outputs": [],
   "source": [
    "#### In MC :"
   ]
  },
  {
   "cell_type": "code",
   "execution_count": null,
   "metadata": {},
   "outputs": [],
   "source": [
    "c2 = ROOT.TCanvas(\"MCcompare\", \"MCcompare\")\n",
    "histMgenMC.Draw('e')\n",
    "histMdetMC.Draw('e same')\n",
    "c2.Draw()"
   ]
  },
  {
   "cell_type": "markdown",
   "metadata": {
    "collapsed": true
   },
   "source": [
    "#### In Data:"
   ]
  },
  {
   "cell_type": "code",
   "execution_count": null,
   "metadata": {},
   "outputs": [],
   "source": [
    "c3 = ROOT.TCanvas(\"datadists\", \"datadists\")\n",
    "histMgenData.Draw('e')\n",
    "histMdetData.Draw('e same')\n",
    "c3.Draw()"
   ]
  },
  {
   "cell_type": "code",
   "execution_count": null,
   "metadata": {},
   "outputs": [],
   "source": [
    "print 'getting tunfolder:'\n",
    "tunfolder = ROOT.TUnfoldDensity(response,ROOT.TUnfold.kHistMapOutputVert,ROOT.TUnfold.kRegModeCurvature, ROOT.TUnfold.kEConstraintNone, ROOT.TUnfoldDensity.kDensityModeBinWidth)"
   ]
  },
  {
   "cell_type": "markdown",
   "metadata": {
    "collapsed": true
   },
   "source": [
    "Set the input, a 1D reconstructed histogram from either MC (closure) or Data (measurement) , binned in the detector level binning."
   ]
  },
  {
   "cell_type": "code",
   "execution_count": null,
   "metadata": {},
   "outputs": [],
   "source": [
    "print 'setting reco input'\n",
    "tunfolder.SetInput( histMdetData )"
   ]
  },
  {
   "cell_type": "markdown",
   "metadata": {},
   "source": [
    "Unfold nScan times with values for the regularization parameter between tauMin and tauMax using the empty TSplines to store the results."
   ]
  },
  {
   "cell_type": "code",
   "execution_count": null,
   "metadata": {},
   "outputs": [],
   "source": [
    "print 'regularizing'\n",
    "nScan=50\n",
    "tauMin=0.0\n",
    "tauMax=0.0\n",
    "iBest=0\n",
    "\n",
    "logTauX = ROOT.MakeNullPointer(ROOT.TSpline)\n",
    "logTauY = ROOT.MakeNullPointer(ROOT.TSpline)\n",
    "lCurve = ROOT.MakeNullPointer(ROOT.TGraph)\n",
    "\n",
    "print 'doing the unfolding'\n",
    "tunfolder.ScanLcurve(nScan,tauMin,tauMax,lCurve,logTauX,logTauY);\n",
    "print 'getting the results'\n",
    "unfolded = tunfolder.GetOutput(\"unfolded\")"
   ]
  },
  {
   "cell_type": "code",
   "execution_count": null,
   "metadata": {},
   "outputs": [],
   "source": []
  },
  {
   "cell_type": "code",
   "execution_count": null,
   "metadata": {},
   "outputs": [],
   "source": [
    "c5 = ROOT.TCanvas('c5', 'c5')\n",
    "unfolded.SetMarkerStyle(22)\n",
    "unfolded.SetMarkerColor(4)\n",
    "unfolded.SetFillColor(0)\n",
    "histMgenData.SetMarkerStyle(21)\n",
    "histMgenData.SetMarkerColor(2)\n",
    "\n",
    "hs = ROOT.THStack(\"hs\", \"hs\")\n",
    "hs.Add( histMgenData, \"hist\")\n",
    "hs.Add( unfolded, \"e\")\n",
    "hs.Draw(\"nostack\")\n",
    "c5.Draw()"
   ]
  },
  {
   "cell_type": "code",
   "execution_count": null,
   "metadata": {},
   "outputs": [],
   "source": []
  },
  {
   "cell_type": "markdown",
   "metadata": {},
   "source": [
    "# Unfold $\\tau_5^{(1)}$"
   ]
  },
  {
   "cell_type": "markdown",
   "metadata": {},
   "source": [
    "#### Below the input Monte Carlo simulation events are read from the file which only contains events meeting the skim criteria set forth in this __[script](https://github.com/kaustuvdatta/jetObservables/blob/102X/python/nSubProducer_gen_reco.py)__\n"
   ]
  },
  {
   "cell_type": "raw",
   "metadata": {},
   "source": [
    "\n",
    "ROOT.TH1.SetDefaultSumw2()\n",
    "f = ROOT.TFile('../AutoObs/CMS/New_Sel/TT_unfold/1/jetObservables_nanoskim_10.root')\n",
    "t = f.Get(\"Events\")"
   ]
  },
  {
   "cell_type": "markdown",
   "metadata": {
    "collapsed": true
   },
   "source": [
    "#### Set the axis ranges for the generator nd detector level distributions as well as the number of bins in each. Note that we want twice as many detector bins as generator level bins as recommended by the TUnfold documenation "
   ]
  },
  {
   "cell_type": "markdown",
   "metadata": {
    "collapsed": true
   },
   "source": [
    "Get the response matrix and input 1D distributions for unfolding."
   ]
  },
  {
   "cell_type": "code",
   "execution_count": null,
   "metadata": {},
   "outputs": [],
   "source": [
    "print np.min(TT16gen_nSub_basis[:,13])\n",
    "print np.min(TT16reco_nSub_basis[:,13])\n",
    "print np.max(TT16gen_nSub_basis[:,13])\n",
    "print np.max(TT16reco_nSub_basis[:,13])"
   ]
  },
  {
   "cell_type": "code",
   "execution_count": null,
   "metadata": {},
   "outputs": [],
   "source": [
    "nDet=30\n",
    "nGen=15\n",
    "xminDet=0.0\n",
    "xmaxDet=0.3\n",
    "xminGen=0.0\n",
    "xmaxGen=0.3\n",
    "#weight_TT16 = (831.76*lumi*1000.)/10199051.*np.ones(TT16_beta4W.shape[0])*TT16_puWeight*TT16_btagWeight*0.8\n"
   ]
  },
  {
   "cell_type": "code",
   "execution_count": null,
   "metadata": {},
   "outputs": [],
   "source": [
    "ROOT.TH1.SetDefaultSumw2()\n",
    "from root_numpy import *\n",
    "\n",
    "histMgenMC = ROOT.TH1D(\"histMgenMC\", \"histMgenMC; #tau_{5}^{1}; Events/(0.02)\", nGen, xminGen,xmaxGen)\n",
    "fill_hist(histMgenMC, TT16gen_nSub_basis[:,13])\n",
    "\n",
    "histMdetMC = ROOT.TH1D(\"histMdetMC\", \"histMdetMC; #tau_{5}^{1}; Events/(0.02)\", nDet, xminDet,xmaxDet)\n",
    "fill_hist(histMdetMC, TT16reco_nSub_basis[:,13])\n",
    "\n",
    "histMgenData = ROOT.TH1D(\"histMgenData\", \"histMgenData; #tau_{5}^{1}; Events/(0.02)\", nGen, xminGen,xmaxGen)\n",
    "fill_hist(histMgenData, TT16truth_nSub_basis[:,13])\n",
    "\n",
    "histMdetData = ROOT.TH1D(\"histMdetData\", \"histMdetData; #tau_{5}^{1}; Events/(0.02)\", nDet, xminDet,xmaxDet)\n",
    "fill_hist(histMdetData, TT16data_nSub_basis[:,13])\n",
    "\n",
    "\n",
    "response = ROOT.TH2D('response', 'response', nDet, xminDet, xmaxDet, nGen, xminGen, xmaxGen)\n",
    "hist2Dfill = np.zeros((TT16reco_nSub_basis[:,13].shape[0], 2))\n",
    "hist2Dfill[:,0] = TT16reco_nSub_basis[:,13].flatten()\n",
    "hist2Dfill[:,1] = TT16gen_nSub_basis[:,13].flatten()\n",
    "fill_hist(response, hist2Dfill)"
   ]
  },
  {
   "cell_type": "raw",
   "metadata": {},
   "source": [
    "xaxis =  array.array('d',[a for a in xrange(nmbinsGen *nptbinsGen + 1 )])\n",
    "nx = len(xaxis)-1\n",
    "\n",
    "print xaxis\n",
    "\n",
    "yaxis =  array.array('d',[a for a in xrange(nmbinsDet *nptbinsDet+1 )])\n",
    "ny = len(yaxis)-1\n",
    "\n",
    "print yaxis\n",
    "\n",
    "h_response = ROOT.TH2D('h_response',   'h_response', nx , xaxis, ny, yaxis )\n",
    "#print h_response2.GetXaxis.GetNbins()\n",
    "print nx\n",
    "print ny\n",
    "nb = nx*ny\n",
    "print nb"
   ]
  },
  {
   "cell_type": "raw",
   "metadata": {
    "collapsed": true
   },
   "source": [
    "response =ROOT.gDirectory.Get(\"response\")\n",
    "histMgenMC=ROOT.gDirectory.Get(\"histMgenMC\")\n",
    "histMdetMC=ROOT.gDirectory.Get(\"histMdetMC\")\n",
    "histMgenData=ROOT.gDirectory.Get(\"histMgenData\")\n",
    "histMdetData=ROOT.gDirectory.Get(\"histMdetData\")"
   ]
  },
  {
   "cell_type": "markdown",
   "metadata": {
    "collapsed": true
   },
   "source": [
    "Set the X and Y axis labels"
   ]
  },
  {
   "cell_type": "code",
   "execution_count": null,
   "metadata": {},
   "outputs": [],
   "source": [
    "response.SetTitle(\";#tau_{5}^{1}(det);#tau_{5}^{1}(gen)\")\n",
    "\n",
    "\n",
    "histMgenMC.SetTitle(\";#tau_{5}^{1}(gen)\")\n",
    "#histMgenMC.SetFillColor(ROOT.kRed)\n",
    "#histMgenMC.SetLineColor(ROOT.kRed)\n",
    "\n",
    "histMdetMC.SetTitle(\";#tau_{5}^{1}(det)\")\n",
    "#histMdetMC.SetFillColor(ROOT.kBlue)\n",
    "#histMdetMC.SetLineColor(ROOT.kBlue)\n",
    "\n",
    "\n",
    "histMgenData.SetTitle(\";#tau_{5}^{1}(gen)\")\n",
    "#histMgenData.SetFillColor(ROOT.kGreen+2)\n",
    "#histMgenData.SetLineColor(ROOT.kGreen+2)\n",
    "\n",
    "histMdetData.SetTitle(\";#tau_{5}^{1}(det)\")\n",
    "#histMdetData.SetFillColor(ROOT.kBlack)\n",
    "#histMdetData.SetLineColor(ROOT.kBlack)"
   ]
  },
  {
   "cell_type": "markdown",
   "metadata": {
    "collapsed": true
   },
   "source": [
    "Draw the variables at reco and gen level and for \"data\""
   ]
  },
  {
   "cell_type": "code",
   "execution_count": null,
   "metadata": {},
   "outputs": [],
   "source": [
    "c1 = ROOT.TCanvas(\"chistMgenMC1\", \"chistMgenMC1\")\n",
    "histMgenMC.Draw(\"e\")\n",
    "histMdetMC.Draw(\"e same\")\n",
    "c1.Draw()"
   ]
  },
  {
   "cell_type": "code",
   "execution_count": null,
   "metadata": {},
   "outputs": [],
   "source": [
    "c1 = ROOT.TCanvas(\"chistMgenMC1\", \"chistMgenMC1\")\n",
    "histMgenData.Draw(\"e\")\n",
    "histMdetData.Draw(\"e same\")\n",
    "c1.Draw()"
   ]
  },
  {
   "cell_type": "markdown",
   "metadata": {
    "collapsed": true
   },
   "source": [
    "Draw the response matrix."
   ]
  },
  {
   "cell_type": "code",
   "execution_count": null,
   "metadata": {
    "scrolled": false
   },
   "outputs": [],
   "source": [
    "c1 = ROOT.TCanvas(\"cresponse1\", \"cresponse1\")\n",
    "response.Draw(\"colz\")\n",
    "c1.Draw()"
   ]
  },
  {
   "cell_type": "code",
   "execution_count": null,
   "metadata": {},
   "outputs": [],
   "source": [
    "#### In MC :"
   ]
  },
  {
   "cell_type": "code",
   "execution_count": null,
   "metadata": {},
   "outputs": [],
   "source": [
    "c2 = ROOT.TCanvas(\"MCcompare\", \"MCcompare\")\n",
    "histMgenMC.Draw('e')\n",
    "histMdetMC.Draw('e same')\n",
    "c2.Draw()"
   ]
  },
  {
   "cell_type": "markdown",
   "metadata": {
    "collapsed": true
   },
   "source": [
    "#### In Data:"
   ]
  },
  {
   "cell_type": "code",
   "execution_count": null,
   "metadata": {},
   "outputs": [],
   "source": [
    "c3 = ROOT.TCanvas(\"datadists\", \"datadists\")\n",
    "histMgenData.Draw('e')\n",
    "histMdetData.Draw('e same')\n",
    "c3.Draw()"
   ]
  },
  {
   "cell_type": "code",
   "execution_count": null,
   "metadata": {},
   "outputs": [],
   "source": [
    "print 'getting tunfolder:'\n",
    "tunfolder = ROOT.TUnfoldDensity(response,ROOT.TUnfold.kHistMapOutputVert,ROOT.TUnfold.kRegModeCurvature, ROOT.TUnfold.kEConstraintNone, ROOT.TUnfoldDensity.kDensityModeBinWidth)"
   ]
  },
  {
   "cell_type": "markdown",
   "metadata": {
    "collapsed": true
   },
   "source": [
    "Set the input, a 1D reconstructed histogram from either MC (closure) or Data (measurement) , binned in the detector level binning."
   ]
  },
  {
   "cell_type": "code",
   "execution_count": null,
   "metadata": {},
   "outputs": [],
   "source": [
    "print 'setting reco input'\n",
    "tunfolder.SetInput( histMdetData )"
   ]
  },
  {
   "cell_type": "markdown",
   "metadata": {},
   "source": [
    "Unfold nScan times with values for the regularization parameter between tauMin and tauMax using the empty TSplines to store the results."
   ]
  },
  {
   "cell_type": "code",
   "execution_count": null,
   "metadata": {},
   "outputs": [],
   "source": [
    "print 'regularizing'\n",
    "nScan=50\n",
    "tauMin=0.0\n",
    "tauMax=0.0\n",
    "iBest=0\n",
    "\n",
    "logTauX = ROOT.MakeNullPointer(ROOT.TSpline)\n",
    "logTauY = ROOT.MakeNullPointer(ROOT.TSpline)\n",
    "lCurve = ROOT.MakeNullPointer(ROOT.TGraph)\n",
    "\n",
    "print 'doing the unfolding'\n",
    "tunfolder.ScanLcurve(nScan,tauMin,tauMax,lCurve,logTauX,logTauY);\n",
    "print 'getting the results'\n",
    "unfolded = tunfolder.GetOutput(\"unfolded\")"
   ]
  },
  {
   "cell_type": "code",
   "execution_count": null,
   "metadata": {},
   "outputs": [],
   "source": []
  },
  {
   "cell_type": "code",
   "execution_count": null,
   "metadata": {},
   "outputs": [],
   "source": [
    "c5 = ROOT.TCanvas('c5', 'c5')\n",
    "unfolded.SetMarkerStyle(22)\n",
    "unfolded.SetMarkerColor(4)\n",
    "unfolded.SetFillColor(0)\n",
    "histMgenData.SetMarkerStyle(21)\n",
    "histMgenData.SetMarkerColor(2)\n",
    "\n",
    "hs = ROOT.THStack(\"hs\", \"hs\")\n",
    "hs.Add( histMgenData, \"hist\")\n",
    "hs.Add( unfolded, \"e\")\n",
    "hs.Draw(\"nostack\")\n",
    "c5.Draw()"
   ]
  },
  {
   "cell_type": "code",
   "execution_count": null,
   "metadata": {},
   "outputs": [],
   "source": []
  },
  {
   "cell_type": "markdown",
   "metadata": {},
   "source": [
    "# Unfold $\\tau_5^{(2)}$"
   ]
  },
  {
   "cell_type": "markdown",
   "metadata": {},
   "source": [
    "#### Below the input Monte Carlo simulation events are read from the file which only contains events meeting the skim criteria set forth in this __[script](https://github.com/kaustuvdatta/jetObservables/blob/102X/python/nSubProducer_gen_reco.py)__\n"
   ]
  },
  {
   "cell_type": "raw",
   "metadata": {},
   "source": [
    "\n",
    "ROOT.TH1.SetDefaultSumw2()\n",
    "f = ROOT.TFile('../AutoObs/CMS/New_Sel/TT_unfold/1/jetObservables_nanoskim_10.root')\n",
    "t = f.Get(\"Events\")"
   ]
  },
  {
   "cell_type": "markdown",
   "metadata": {
    "collapsed": true
   },
   "source": [
    "#### Set the axis ranges for the generator nd detector level distributions as well as the number of bins in each. Note that we want twice as many detector bins as generator level bins as recommended by the TUnfold documenation "
   ]
  },
  {
   "cell_type": "markdown",
   "metadata": {
    "collapsed": true
   },
   "source": [
    "Get the response matrix and input 1D distributions for unfolding."
   ]
  },
  {
   "cell_type": "code",
   "execution_count": null,
   "metadata": {},
   "outputs": [],
   "source": [
    "print np.min(TT16gen_nSub_basis[:,14])\n",
    "print np.min(TT16reco_nSub_basis[:,14])\n",
    "print np.max(TT16gen_nSub_basis[:,14])\n",
    "print np.max(TT16reco_nSub_basis[:,14])"
   ]
  },
  {
   "cell_type": "code",
   "execution_count": null,
   "metadata": {},
   "outputs": [],
   "source": [
    "nDet=32\n",
    "nGen=16\n",
    "xminDet=0.0\n",
    "xmaxDet=0.08\n",
    "xminGen=0.0\n",
    "xmaxGen=0.08\n",
    "#weight_TT16 = (831.76*lumi*1000.)/10199051.*np.ones(TT16_beta4W.shape[0])*TT16_puWeight*TT16_btagWeight*0.8\n"
   ]
  },
  {
   "cell_type": "code",
   "execution_count": null,
   "metadata": {},
   "outputs": [],
   "source": [
    "ROOT.TH1.SetDefaultSumw2()\n",
    "from root_numpy import *\n",
    "\n",
    "histMgenMC = ROOT.TH1D(\"histMgenMC\", \"histMgenMC; #tau_{5}^{2}; Events/(0.02)\", nGen, xminGen,xmaxGen)\n",
    "fill_hist(histMgenMC, TT16gen_nSub_basis[:,14])\n",
    "\n",
    "histMdetMC = ROOT.TH1D(\"histMdetMC\", \"histMdetMC; #tau_{5}^{2}; Events/(0.02)\", nDet, xminDet,xmaxDet)\n",
    "fill_hist(histMdetMC, TT16reco_nSub_basis[:,14])\n",
    "\n",
    "histMgenData = ROOT.TH1D(\"histMgenData\", \"histMgenData; #tau_{5}^{2}; Events/(0.02)\", nGen, xminGen,xmaxGen)\n",
    "fill_hist(histMgenData, TT16truth_nSub_basis[:,14])\n",
    "\n",
    "histMdetData = ROOT.TH1D(\"histMdetData\", \"histMdetData; #tau_{5}^{2}; Events/(0.02)\", nDet, xminDet,xmaxDet)\n",
    "fill_hist(histMdetData, TT16data_nSub_basis[:,14])\n",
    "\n",
    "\n",
    "response = ROOT.TH2D('response', 'response', nDet, xminDet, xmaxDet, nGen, xminGen, xmaxGen)\n",
    "hist2Dfill = np.zeros((TT16reco_nSub_basis[:,14].shape[0], 2))\n",
    "hist2Dfill[:,0] = TT16reco_nSub_basis[:,14].flatten()\n",
    "hist2Dfill[:,1] = TT16gen_nSub_basis[:,14].flatten()\n",
    "fill_hist(response, hist2Dfill)"
   ]
  },
  {
   "cell_type": "raw",
   "metadata": {},
   "source": [
    "xaxis =  array.array('d',[a for a in xrange(nmbinsGen *nptbinsGen + 1 )])\n",
    "nx = len(xaxis)-1\n",
    "\n",
    "print xaxis\n",
    "\n",
    "yaxis =  array.array('d',[a for a in xrange(nmbinsDet *nptbinsDet+1 )])\n",
    "ny = len(yaxis)-1\n",
    "\n",
    "print yaxis\n",
    "\n",
    "h_response = ROOT.TH2D('h_response',   'h_response', nx , xaxis, ny, yaxis )\n",
    "#print h_response2.GetXaxis.GetNbins()\n",
    "print nx\n",
    "print ny\n",
    "nb = nx*ny\n",
    "print nb"
   ]
  },
  {
   "cell_type": "raw",
   "metadata": {
    "collapsed": true
   },
   "source": [
    "response =ROOT.gDirectory.Get(\"response\")\n",
    "histMgenMC=ROOT.gDirectory.Get(\"histMgenMC\")\n",
    "histMdetMC=ROOT.gDirectory.Get(\"histMdetMC\")\n",
    "histMgenData=ROOT.gDirectory.Get(\"histMgenData\")\n",
    "histMdetData=ROOT.gDirectory.Get(\"histMdetData\")"
   ]
  },
  {
   "cell_type": "markdown",
   "metadata": {
    "collapsed": true
   },
   "source": [
    "Set the X and Y axis labels"
   ]
  },
  {
   "cell_type": "code",
   "execution_count": null,
   "metadata": {},
   "outputs": [],
   "source": [
    "response.SetTitle(\";#tau_{5}^{2}(det);#tau_{5}^{2}(gen)\")\n",
    "\n",
    "\n",
    "histMgenMC.SetTitle(\";#tau_{5}^{2}(gen)\")\n",
    "#histMgenMC.SetFillColor(ROOT.kRed)\n",
    "#histMgenMC.SetLineColor(ROOT.kRed)\n",
    "\n",
    "histMdetMC.SetTitle(\";#tau_{5}^{2}(det)\")\n",
    "#histMdetMC.SetFillColor(ROOT.kBlue)\n",
    "#histMdetMC.SetLineColor(ROOT.kBlue)\n",
    "\n",
    "\n",
    "histMgenData.SetTitle(\";#tau_{5}^{2}(gen)\")\n",
    "#histMgenData.SetFillColor(ROOT.kGreen+2)\n",
    "#histMgenData.SetLineColor(ROOT.kGreen+2)\n",
    "\n",
    "histMdetData.SetTitle(\";#tau_{5}^{2}(det)\")\n",
    "#histMdetData.SetFillColor(ROOT.kBlack)\n",
    "#histMdetData.SetLineColor(ROOT.kBlack)"
   ]
  },
  {
   "cell_type": "markdown",
   "metadata": {
    "collapsed": true
   },
   "source": [
    "Draw the variables at reco and gen level and for \"data\""
   ]
  },
  {
   "cell_type": "code",
   "execution_count": null,
   "metadata": {},
   "outputs": [],
   "source": [
    "c1 = ROOT.TCanvas(\"chistMgenMC1\", \"chistMgenMC1\")\n",
    "histMgenMC.Draw(\"e\")\n",
    "histMdetMC.Draw(\"e same\")\n",
    "c1.Draw()"
   ]
  },
  {
   "cell_type": "code",
   "execution_count": null,
   "metadata": {},
   "outputs": [],
   "source": [
    "c1 = ROOT.TCanvas(\"chistMgenMC1\", \"chistMgenMC1\")\n",
    "histMgenData.Draw(\"e\")\n",
    "histMdetData.Draw(\"e same\")\n",
    "c1.Draw()"
   ]
  },
  {
   "cell_type": "markdown",
   "metadata": {
    "collapsed": true
   },
   "source": [
    "Draw the response matrix."
   ]
  },
  {
   "cell_type": "code",
   "execution_count": null,
   "metadata": {
    "scrolled": false
   },
   "outputs": [],
   "source": [
    "c1 = ROOT.TCanvas(\"cresponse1\", \"cresponse1\")\n",
    "response.Draw(\"colz\")\n",
    "c1.Draw()"
   ]
  },
  {
   "cell_type": "code",
   "execution_count": null,
   "metadata": {},
   "outputs": [],
   "source": [
    "#### In MC :"
   ]
  },
  {
   "cell_type": "code",
   "execution_count": null,
   "metadata": {},
   "outputs": [],
   "source": [
    "c2 = ROOT.TCanvas(\"MCcompare\", \"MCcompare\")\n",
    "histMgenMC.Draw('e')\n",
    "histMdetMC.Draw('e same')\n",
    "c2.Draw()"
   ]
  },
  {
   "cell_type": "markdown",
   "metadata": {
    "collapsed": true
   },
   "source": [
    "#### In Data:"
   ]
  },
  {
   "cell_type": "code",
   "execution_count": null,
   "metadata": {},
   "outputs": [],
   "source": [
    "c3 = ROOT.TCanvas(\"datadists\", \"datadists\")\n",
    "histMgenData.Draw('e')\n",
    "histMdetData.Draw('e same')\n",
    "c3.Draw()"
   ]
  },
  {
   "cell_type": "code",
   "execution_count": null,
   "metadata": {},
   "outputs": [],
   "source": [
    "print 'getting tunfolder:'\n",
    "tunfolder = ROOT.TUnfoldDensity(response,ROOT.TUnfold.kHistMapOutputVert,ROOT.TUnfold.kRegModeCurvature, ROOT.TUnfold.kEConstraintNone, ROOT.TUnfoldDensity.kDensityModeBinWidth)"
   ]
  },
  {
   "cell_type": "markdown",
   "metadata": {
    "collapsed": true
   },
   "source": [
    "Set the input, a 1D reconstructed histogram from either MC (closure) or Data (measurement) , binned in the detector level binning."
   ]
  },
  {
   "cell_type": "code",
   "execution_count": null,
   "metadata": {},
   "outputs": [],
   "source": [
    "print 'setting reco input'\n",
    "tunfolder.SetInput( histMdetData )"
   ]
  },
  {
   "cell_type": "markdown",
   "metadata": {},
   "source": [
    "Unfold nScan times with values for the regularization parameter between tauMin and tauMax using the empty TSplines to store the results."
   ]
  },
  {
   "cell_type": "code",
   "execution_count": null,
   "metadata": {},
   "outputs": [],
   "source": [
    "print 'regularizing'\n",
    "nScan=50\n",
    "tauMin=0.0\n",
    "tauMax=0.0\n",
    "iBest=0\n",
    "\n",
    "logTauX = ROOT.MakeNullPointer(ROOT.TSpline)\n",
    "logTauY = ROOT.MakeNullPointer(ROOT.TSpline)\n",
    "lCurve = ROOT.MakeNullPointer(ROOT.TGraph)\n",
    "\n",
    "print 'doing the unfolding'\n",
    "tunfolder.ScanLcurve(nScan,tauMin,tauMax,lCurve,logTauX,logTauY);\n",
    "print 'getting the results'\n",
    "unfolded = tunfolder.GetOutput(\"unfolded\")"
   ]
  },
  {
   "cell_type": "code",
   "execution_count": null,
   "metadata": {},
   "outputs": [],
   "source": []
  },
  {
   "cell_type": "code",
   "execution_count": null,
   "metadata": {},
   "outputs": [],
   "source": [
    "c5 = ROOT.TCanvas('c5', 'c5')\n",
    "unfolded.SetMarkerStyle(22)\n",
    "unfolded.SetMarkerColor(4)\n",
    "unfolded.SetFillColor(0)\n",
    "histMgenData.SetMarkerStyle(21)\n",
    "histMgenData.SetMarkerColor(2)\n",
    "\n",
    "hs = ROOT.THStack(\"hs\", \"hs\")\n",
    "hs.Add( histMgenData, \"hist\")\n",
    "hs.Add( unfolded, \"e\")\n",
    "hs.Draw(\"nostack\")\n",
    "c5.Draw()"
   ]
  },
  {
   "cell_type": "code",
   "execution_count": null,
   "metadata": {},
   "outputs": [],
   "source": []
  },
  {
   "cell_type": "markdown",
   "metadata": {},
   "source": [
    "# Unfold $\\tau_6^{(0.5)}$"
   ]
  },
  {
   "cell_type": "markdown",
   "metadata": {},
   "source": [
    "#### Below the input Monte Carlo simulation events are read from the file which only contains events meeting the skim criteria set forth in this __[script](https://github.com/kaustuvdatta/jetObservables/blob/102X/python/nSubProducer_gen_reco.py)__\n"
   ]
  },
  {
   "cell_type": "raw",
   "metadata": {},
   "source": [
    "\n",
    "ROOT.TH1.SetDefaultSumw2()\n",
    "f = ROOT.TFile('../AutoObs/CMS/New_Sel/TT_unfold/1/jetObservables_nanoskim_10.root')\n",
    "t = f.Get(\"Events\")"
   ]
  },
  {
   "cell_type": "markdown",
   "metadata": {
    "collapsed": true
   },
   "source": [
    "#### Set the axis ranges for the generator nd detector level distributions as well as the number of bins in each. Note that we want twice as many detector bins as generator level bins as recommended by the TUnfold documenation "
   ]
  },
  {
   "cell_type": "markdown",
   "metadata": {
    "collapsed": true
   },
   "source": [
    "Get the response matrix and input 1D distributions for unfolding."
   ]
  },
  {
   "cell_type": "code",
   "execution_count": null,
   "metadata": {},
   "outputs": [],
   "source": [
    "print np.min(TT16gen_nSub_basis[:,15])\n",
    "print np.min(TT16reco_nSub_basis[:,15])\n",
    "print np.max(TT16gen_nSub_basis[:,15])\n",
    "print np.max(TT16reco_nSub_basis[:,15])"
   ]
  },
  {
   "cell_type": "code",
   "execution_count": null,
   "metadata": {},
   "outputs": [],
   "source": [
    "nDet=40\n",
    "nGen=20\n",
    "xminDet=0.0\n",
    "xmaxDet=0.42\n",
    "xminGen=0.0\n",
    "xmaxGen=0.42\n",
    "#weight_TT16 = (831.76*lumi*1000.)/10199051.*np.ones(TT16_beta4W.shape[0])*TT16_puWeight*TT16_btagWeight*0.8\n"
   ]
  },
  {
   "cell_type": "code",
   "execution_count": null,
   "metadata": {},
   "outputs": [],
   "source": [
    "ROOT.TH1.SetDefaultSumw2()\n",
    "from root_numpy import *\n",
    "\n",
    "histMgenMC = ROOT.TH1D(\"histMgenMC\", \"histMgenMC; #tau_{5}^{0.5}; Events/(0.02)\", nGen, xminGen,xmaxGen)\n",
    "fill_hist(histMgenMC, TT16gen_nSub_basis[:,15])\n",
    "\n",
    "histMdetMC = ROOT.TH1D(\"histMdetMC\", \"histMdetMC; #tau_{5}^{0.5}; Events/(0.02)\", nDet, xminDet,xmaxDet)\n",
    "fill_hist(histMdetMC, TT16reco_nSub_basis[:,15])\n",
    "\n",
    "histMgenData = ROOT.TH1D(\"histMgenData\", \"histMgenData; #tau_{5}^{0.5}; Events/(0.02)\", nGen, xminGen,xmaxGen)\n",
    "fill_hist(histMgenData, TT16truth_nSub_basis[:,15])\n",
    "\n",
    "histMdetData = ROOT.TH1D(\"histMdetData\", \"histMdetData; #tau_{5}^{0.5}; Events/(0.02)\", nDet, xminDet,xmaxDet)\n",
    "fill_hist(histMdetData, TT16data_nSub_basis[:,15])\n",
    "\n",
    "\n",
    "response = ROOT.TH2D('response', 'response', nDet, xminDet, xmaxDet, nGen, xminGen, xmaxGen)\n",
    "hist2Dfill = np.zeros((TT16reco_nSub_basis[:,15].shape[0], 2))\n",
    "hist2Dfill[:,0] = TT16reco_nSub_basis[:,15].flatten()\n",
    "hist2Dfill[:,1] = TT16gen_nSub_basis[:,15].flatten()\n",
    "fill_hist(response, hist2Dfill)"
   ]
  },
  {
   "cell_type": "raw",
   "metadata": {},
   "source": [
    "xaxis =  array.array('d',[a for a in xrange(nmbinsGen *nptbinsGen + 1 )])\n",
    "nx = len(xaxis)-1\n",
    "\n",
    "print xaxis\n",
    "\n",
    "yaxis =  array.array('d',[a for a in xrange(nmbinsDet *nptbinsDet+1 )])\n",
    "ny = len(yaxis)-1\n",
    "\n",
    "print yaxis\n",
    "\n",
    "h_response = ROOT.TH2D('h_response',   'h_response', nx , xaxis, ny, yaxis )\n",
    "#print h_response2.GetXaxis.GetNbins()\n",
    "print nx\n",
    "print ny\n",
    "nb = nx*ny\n",
    "print nb"
   ]
  },
  {
   "cell_type": "raw",
   "metadata": {
    "collapsed": true
   },
   "source": [
    "response =ROOT.gDirectory.Get(\"response\")\n",
    "histMgenMC=ROOT.gDirectory.Get(\"histMgenMC\")\n",
    "histMdetMC=ROOT.gDirectory.Get(\"histMdetMC\")\n",
    "histMgenData=ROOT.gDirectory.Get(\"histMgenData\")\n",
    "histMdetData=ROOT.gDirectory.Get(\"histMdetData\")"
   ]
  },
  {
   "cell_type": "markdown",
   "metadata": {
    "collapsed": true
   },
   "source": [
    "Set the X and Y axis labels"
   ]
  },
  {
   "cell_type": "code",
   "execution_count": null,
   "metadata": {},
   "outputs": [],
   "source": [
    "response.SetTitle(\";#tau_{5}^{0.5}(det);#tau_{5}^{0.5}(gen)\")\n",
    "\n",
    "\n",
    "histMgenMC.SetTitle(\";#tau_{5}^{0.5}(gen)\")\n",
    "#histMgenMC.SetFillColor(ROOT.kRed)\n",
    "#histMgenMC.SetLineColor(ROOT.kRed)\n",
    "\n",
    "histMdetMC.SetTitle(\";#tau_{5}^{0.5}(det)\")\n",
    "#histMdetMC.SetFillColor(ROOT.kBlue)\n",
    "#histMdetMC.SetLineColor(ROOT.kBlue)\n",
    "\n",
    "\n",
    "histMgenData.SetTitle(\";#tau_{5}^{0.5}(gen)\")\n",
    "#histMgenData.SetFillColor(ROOT.kGreen+2)\n",
    "#histMgenData.SetLineColor(ROOT.kGreen+2)\n",
    "\n",
    "histMdetData.SetTitle(\";#tau_{5}^{0.5}(det)\")\n",
    "#histMdetData.SetFillColor(ROOT.kBlack)\n",
    "#histMdetData.SetLineColor(ROOT.kBlack)"
   ]
  },
  {
   "cell_type": "markdown",
   "metadata": {
    "collapsed": true
   },
   "source": [
    "Draw the variables at reco and gen level and for \"data\""
   ]
  },
  {
   "cell_type": "code",
   "execution_count": null,
   "metadata": {},
   "outputs": [],
   "source": [
    "c1 = ROOT.TCanvas(\"chistMgenMC1\", \"chistMgenMC1\")\n",
    "histMgenMC.Draw(\"e\")\n",
    "histMdetMC.Draw(\"e same\")\n",
    "c1.Draw()"
   ]
  },
  {
   "cell_type": "code",
   "execution_count": null,
   "metadata": {},
   "outputs": [],
   "source": [
    "c1 = ROOT.TCanvas(\"chistMgenMC1\", \"chistMgenMC1\")\n",
    "histMgenData.Draw(\"e\")\n",
    "histMdetData.Draw(\"e same\")\n",
    "c1.Draw()"
   ]
  },
  {
   "cell_type": "markdown",
   "metadata": {
    "collapsed": true
   },
   "source": [
    "Draw the response matrix."
   ]
  },
  {
   "cell_type": "code",
   "execution_count": null,
   "metadata": {
    "scrolled": false
   },
   "outputs": [],
   "source": [
    "c1 = ROOT.TCanvas(\"cresponse1\", \"cresponse1\")\n",
    "response.Draw(\"colz\")\n",
    "c1.Draw()"
   ]
  },
  {
   "cell_type": "code",
   "execution_count": null,
   "metadata": {},
   "outputs": [],
   "source": [
    "#### In MC :"
   ]
  },
  {
   "cell_type": "code",
   "execution_count": null,
   "metadata": {},
   "outputs": [],
   "source": [
    "c2 = ROOT.TCanvas(\"MCcompare\", \"MCcompare\")\n",
    "histMgenMC.Draw('e')\n",
    "histMdetMC.Draw('e same')\n",
    "c2.Draw()"
   ]
  },
  {
   "cell_type": "markdown",
   "metadata": {
    "collapsed": true
   },
   "source": [
    "#### In Data:"
   ]
  },
  {
   "cell_type": "code",
   "execution_count": null,
   "metadata": {},
   "outputs": [],
   "source": [
    "c3 = ROOT.TCanvas(\"datadists\", \"datadists\")\n",
    "histMgenData.Draw('e')\n",
    "histMdetData.Draw('e same')\n",
    "c3.Draw()"
   ]
  },
  {
   "cell_type": "code",
   "execution_count": null,
   "metadata": {},
   "outputs": [],
   "source": [
    "print 'getting tunfolder:'\n",
    "tunfolder = ROOT.TUnfoldDensity(response,ROOT.TUnfold.kHistMapOutputVert,ROOT.TUnfold.kRegModeCurvature, ROOT.TUnfold.kEConstraintNone, ROOT.TUnfoldDensity.kDensityModeBinWidth)"
   ]
  },
  {
   "cell_type": "markdown",
   "metadata": {
    "collapsed": true
   },
   "source": [
    "Set the input, a 1D reconstructed histogram from either MC (closure) or Data (measurement) , binned in the detector level binning."
   ]
  },
  {
   "cell_type": "code",
   "execution_count": null,
   "metadata": {},
   "outputs": [],
   "source": [
    "print 'setting reco input'\n",
    "tunfolder.SetInput( histMdetData )"
   ]
  },
  {
   "cell_type": "markdown",
   "metadata": {},
   "source": [
    "Unfold nScan times with values for the regularization parameter between tauMin and tauMax using the empty TSplines to store the results."
   ]
  },
  {
   "cell_type": "code",
   "execution_count": null,
   "metadata": {},
   "outputs": [],
   "source": [
    "print 'regularizing'\n",
    "nScan=50\n",
    "tauMin=0.0\n",
    "tauMax=0.0\n",
    "iBest=0\n",
    "\n",
    "logTauX = ROOT.MakeNullPointer(ROOT.TSpline)\n",
    "logTauY = ROOT.MakeNullPointer(ROOT.TSpline)\n",
    "lCurve = ROOT.MakeNullPointer(ROOT.TGraph)\n",
    "\n",
    "print 'doing the unfolding'\n",
    "tunfolder.ScanLcurve(nScan,tauMin,tauMax,lCurve,logTauX,logTauY);\n",
    "print 'getting the results'\n",
    "unfolded = tunfolder.GetOutput(\"unfolded\")"
   ]
  },
  {
   "cell_type": "code",
   "execution_count": null,
   "metadata": {},
   "outputs": [],
   "source": []
  },
  {
   "cell_type": "code",
   "execution_count": null,
   "metadata": {},
   "outputs": [],
   "source": [
    "c5 = ROOT.TCanvas('c5', 'c5')\n",
    "unfolded.SetMarkerStyle(22)\n",
    "unfolded.SetMarkerColor(4)\n",
    "unfolded.SetFillColor(0)\n",
    "histMgenData.SetMarkerStyle(21)\n",
    "histMgenData.SetMarkerColor(2)\n",
    "\n",
    "hs = ROOT.THStack(\"hs\", \"hs\")\n",
    "hs.Add( histMgenData, \"hist\")\n",
    "hs.Add( unfolded, \"e\")\n",
    "hs.Draw(\"nostack\")\n",
    "c5.Draw()"
   ]
  },
  {
   "cell_type": "code",
   "execution_count": null,
   "metadata": {},
   "outputs": [],
   "source": []
  },
  {
   "cell_type": "markdown",
   "metadata": {},
   "source": [
    "# Unfold $\\tau_6^{(1)}$"
   ]
  },
  {
   "cell_type": "markdown",
   "metadata": {},
   "source": [
    "#### Below the input Monte Carlo simulation events are read from the file which only contains events meeting the skim criteria set forth in this __[script](https://github.com/kaustuvdatta/jetObservables/blob/102X/python/nSubProducer_gen_reco.py)__\n"
   ]
  },
  {
   "cell_type": "raw",
   "metadata": {},
   "source": [
    "\n",
    "ROOT.TH1.SetDefaultSumw2()\n",
    "f = ROOT.TFile('../AutoObs/CMS/New_Sel/TT_unfold/1/jetObservables_nanoskim_10.root')\n",
    "t = f.Get(\"Events\")"
   ]
  },
  {
   "cell_type": "markdown",
   "metadata": {
    "collapsed": true
   },
   "source": [
    "#### Set the axis ranges for the generator nd detector level distributions as well as the number of bins in each. Note that we want twice as many detector bins as generator level bins as recommended by the TUnfold documenation "
   ]
  },
  {
   "cell_type": "markdown",
   "metadata": {
    "collapsed": true
   },
   "source": [
    "Get the response matrix and input 1D distributions for unfolding."
   ]
  },
  {
   "cell_type": "code",
   "execution_count": null,
   "metadata": {},
   "outputs": [],
   "source": [
    "print np.min(TT16gen_nSub_basis[:,16])\n",
    "print np.min(TT16reco_nSub_basis[:,16])\n",
    "print np.max(TT16gen_nSub_basis[:,16])\n",
    "print np.max(TT16reco_nSub_basis[:,16])"
   ]
  },
  {
   "cell_type": "code",
   "execution_count": null,
   "metadata": {},
   "outputs": [],
   "source": [
    "nDet=32\n",
    "nGen=16\n",
    "xminDet=0.0\n",
    "xmaxDet=0.2\n",
    "xminGen=0.0\n",
    "xmaxGen=0.2\n",
    "#weight_TT16 = (831.76*lumi*1000.)/10199051.*np.ones(TT16_beta4W.shape[0])*TT16_puWeight*TT16_btagWeight*0.8\n"
   ]
  },
  {
   "cell_type": "code",
   "execution_count": null,
   "metadata": {},
   "outputs": [],
   "source": [
    "ROOT.TH1.SetDefaultSumw2()\n",
    "from root_numpy import *\n",
    "\n",
    "histMgenMC = ROOT.TH1D(\"histMgenMC\", \"histMgenMC; #tau_{5}^{1}; Events/(0.02)\", nGen, xminGen,xmaxGen)\n",
    "fill_hist(histMgenMC, TT16gen_nSub_basis[:,16])\n",
    "\n",
    "histMdetMC = ROOT.TH1D(\"histMdetMC\", \"histMdetMC; #tau_{5}^{1}; Events/(0.02)\", nDet, xminDet,xmaxDet)\n",
    "fill_hist(histMdetMC, TT16reco_nSub_basis[:,16])\n",
    "\n",
    "histMgenData = ROOT.TH1D(\"histMgenData\", \"histMgenData; #tau_{5}^{1}; Events/(0.02)\", nGen, xminGen,xmaxGen)\n",
    "fill_hist(histMgenData, TT16truth_nSub_basis[:,16])\n",
    "\n",
    "histMdetData = ROOT.TH1D(\"histMdetData\", \"histMdetData; #tau_{5}^{1}; Events/(0.02)\", nDet, xminDet,xmaxDet)\n",
    "fill_hist(histMdetData, TT16data_nSub_basis[:,16])\n",
    "\n",
    "\n",
    "response = ROOT.TH2D('response', 'response', nDet, xminDet, xmaxDet, nGen, xminGen, xmaxGen)\n",
    "hist2Dfill = np.zeros((TT16reco_nSub_basis[:,16].shape[0], 2))\n",
    "hist2Dfill[:,0] = TT16reco_nSub_basis[:,16].flatten()\n",
    "hist2Dfill[:,1] = TT16gen_nSub_basis[:,16].flatten()\n",
    "fill_hist(response, hist2Dfill)"
   ]
  },
  {
   "cell_type": "raw",
   "metadata": {},
   "source": [
    "xaxis =  array.array('d',[a for a in xrange(nmbinsGen *nptbinsGen + 1 )])\n",
    "nx = len(xaxis)-1\n",
    "\n",
    "print xaxis\n",
    "\n",
    "yaxis =  array.array('d',[a for a in xrange(nmbinsDet *nptbinsDet+1 )])\n",
    "ny = len(yaxis)-1\n",
    "\n",
    "print yaxis\n",
    "\n",
    "h_response = ROOT.TH2D('h_response',   'h_response', nx , xaxis, ny, yaxis )\n",
    "#print h_response2.GetXaxis.GetNbins()\n",
    "print nx\n",
    "print ny\n",
    "nb = nx*ny\n",
    "print nb"
   ]
  },
  {
   "cell_type": "raw",
   "metadata": {
    "collapsed": true
   },
   "source": [
    "response =ROOT.gDirectory.Get(\"response\")\n",
    "histMgenMC=ROOT.gDirectory.Get(\"histMgenMC\")\n",
    "histMdetMC=ROOT.gDirectory.Get(\"histMdetMC\")\n",
    "histMgenData=ROOT.gDirectory.Get(\"histMgenData\")\n",
    "histMdetData=ROOT.gDirectory.Get(\"histMdetData\")"
   ]
  },
  {
   "cell_type": "markdown",
   "metadata": {
    "collapsed": true
   },
   "source": [
    "Set the X and Y axis labels"
   ]
  },
  {
   "cell_type": "code",
   "execution_count": null,
   "metadata": {},
   "outputs": [],
   "source": [
    "response.SetTitle(\";#tau_{5}^{1}(det);#tau_{5}^{1}(gen)\")\n",
    "\n",
    "\n",
    "histMgenMC.SetTitle(\";#tau_{5}^{1}(gen)\")\n",
    "#histMgenMC.SetFillColor(ROOT.kRed)\n",
    "#histMgenMC.SetLineColor(ROOT.kRed)\n",
    "\n",
    "histMdetMC.SetTitle(\";#tau_{5}^{1}(det)\")\n",
    "#histMdetMC.SetFillColor(ROOT.kBlue)\n",
    "#histMdetMC.SetLineColor(ROOT.kBlue)\n",
    "\n",
    "\n",
    "histMgenData.SetTitle(\";#tau_{5}^{1}(gen)\")\n",
    "#histMgenData.SetFillColor(ROOT.kGreen+2)\n",
    "#histMgenData.SetLineColor(ROOT.kGreen+2)\n",
    "\n",
    "histMdetData.SetTitle(\";#tau_{5}^{1}(det)\")\n",
    "#histMdetData.SetFillColor(ROOT.kBlack)\n",
    "#histMdetData.SetLineColor(ROOT.kBlack)"
   ]
  },
  {
   "cell_type": "markdown",
   "metadata": {
    "collapsed": true
   },
   "source": [
    "Draw the variables at reco and gen level and for \"data\""
   ]
  },
  {
   "cell_type": "code",
   "execution_count": null,
   "metadata": {},
   "outputs": [],
   "source": [
    "c1 = ROOT.TCanvas(\"chistMgenMC1\", \"chistMgenMC1\")\n",
    "histMgenMC.Draw(\"e\")\n",
    "histMdetMC.Draw(\"e same\")\n",
    "c1.Draw()"
   ]
  },
  {
   "cell_type": "code",
   "execution_count": null,
   "metadata": {},
   "outputs": [],
   "source": [
    "c1 = ROOT.TCanvas(\"chistMgenMC1\", \"chistMgenMC1\")\n",
    "histMgenData.Draw(\"e\")\n",
    "histMdetData.Draw(\"e same\")\n",
    "c1.Draw()"
   ]
  },
  {
   "cell_type": "markdown",
   "metadata": {
    "collapsed": true
   },
   "source": [
    "Draw the response matrix."
   ]
  },
  {
   "cell_type": "code",
   "execution_count": null,
   "metadata": {
    "scrolled": false
   },
   "outputs": [],
   "source": [
    "c1 = ROOT.TCanvas(\"cresponse1\", \"cresponse1\")\n",
    "response.Draw(\"colz\")\n",
    "c1.Draw()"
   ]
  },
  {
   "cell_type": "code",
   "execution_count": null,
   "metadata": {},
   "outputs": [],
   "source": [
    "#### In MC :"
   ]
  },
  {
   "cell_type": "code",
   "execution_count": null,
   "metadata": {},
   "outputs": [],
   "source": [
    "c2 = ROOT.TCanvas(\"MCcompare\", \"MCcompare\")\n",
    "histMgenMC.Draw('e')\n",
    "histMdetMC.Draw('e same')\n",
    "c2.Draw()"
   ]
  },
  {
   "cell_type": "markdown",
   "metadata": {
    "collapsed": true
   },
   "source": [
    "#### In Data:"
   ]
  },
  {
   "cell_type": "code",
   "execution_count": null,
   "metadata": {},
   "outputs": [],
   "source": [
    "c3 = ROOT.TCanvas(\"datadists\", \"datadists\")\n",
    "histMgenData.Draw('e')\n",
    "histMdetData.Draw('e same')\n",
    "c3.Draw()"
   ]
  },
  {
   "cell_type": "code",
   "execution_count": null,
   "metadata": {},
   "outputs": [],
   "source": [
    "print 'getting tunfolder:'\n",
    "tunfolder = ROOT.TUnfoldDensity(response,ROOT.TUnfold.kHistMapOutputVert,ROOT.TUnfold.kRegModeCurvature, ROOT.TUnfold.kEConstraintNone, ROOT.TUnfoldDensity.kDensityModeBinWidth)"
   ]
  },
  {
   "cell_type": "markdown",
   "metadata": {
    "collapsed": true
   },
   "source": [
    "Set the input, a 1D reconstructed histogram from either MC (closure) or Data (measurement) , binned in the detector level binning."
   ]
  },
  {
   "cell_type": "code",
   "execution_count": null,
   "metadata": {},
   "outputs": [],
   "source": [
    "print 'setting reco input'\n",
    "tunfolder.SetInput( histMdetData )"
   ]
  },
  {
   "cell_type": "markdown",
   "metadata": {},
   "source": [
    "Unfold nScan times with values for the regularization parameter between tauMin and tauMax using the empty TSplines to store the results."
   ]
  },
  {
   "cell_type": "code",
   "execution_count": null,
   "metadata": {},
   "outputs": [],
   "source": [
    "print 'regularizing'\n",
    "nScan=50\n",
    "tauMin=0.0\n",
    "tauMax=0.0\n",
    "iBest=0\n",
    "\n",
    "logTauX = ROOT.MakeNullPointer(ROOT.TSpline)\n",
    "logTauY = ROOT.MakeNullPointer(ROOT.TSpline)\n",
    "lCurve = ROOT.MakeNullPointer(ROOT.TGraph)\n",
    "\n",
    "print 'doing the unfolding'\n",
    "tunfolder.ScanLcurve(nScan,tauMin,tauMax,lCurve,logTauX,logTauY);\n",
    "print 'getting the results'\n",
    "unfolded = tunfolder.GetOutput(\"unfolded\")"
   ]
  },
  {
   "cell_type": "code",
   "execution_count": null,
   "metadata": {},
   "outputs": [],
   "source": []
  },
  {
   "cell_type": "code",
   "execution_count": null,
   "metadata": {},
   "outputs": [],
   "source": [
    "c5 = ROOT.TCanvas('c5', 'c5')\n",
    "unfolded.SetMarkerStyle(22)\n",
    "unfolded.SetMarkerColor(4)\n",
    "unfolded.SetFillColor(0)\n",
    "histMgenData.SetMarkerStyle(21)\n",
    "histMgenData.SetMarkerColor(2)\n",
    "\n",
    "hs = ROOT.THStack(\"hs\", \"hs\")\n",
    "hs.Add( histMgenData, \"hist\")\n",
    "hs.Add( unfolded, \"e\")\n",
    "hs.Draw(\"nostack\")\n",
    "c5.Draw()"
   ]
  },
  {
   "cell_type": "code",
   "execution_count": null,
   "metadata": {},
   "outputs": [],
   "source": []
  },
  {
   "cell_type": "markdown",
   "metadata": {},
   "source": [
    "# Unfold $\\tau_6^{(2)}$"
   ]
  },
  {
   "cell_type": "markdown",
   "metadata": {},
   "source": [
    "#### Below the input Monte Carlo simulation events are read from the file which only contains events meeting the skim criteria set forth in this __[script](https://github.com/kaustuvdatta/jetObservables/blob/102X/python/nSubProducer_gen_reco.py)__\n"
   ]
  },
  {
   "cell_type": "raw",
   "metadata": {},
   "source": [
    "\n",
    "ROOT.TH1.SetDefaultSumw2()\n",
    "f = ROOT.TFile('../AutoObs/CMS/New_Sel/TT_unfold/1/jetObservables_nanoskim_10.root')\n",
    "t = f.Get(\"Events\")"
   ]
  },
  {
   "cell_type": "markdown",
   "metadata": {
    "collapsed": true
   },
   "source": [
    "#### Set the axis ranges for the generator nd detector level distributions as well as the number of bins in each. Note that we want twice as many detector bins as generator level bins as recommended by the TUnfold documenation "
   ]
  },
  {
   "cell_type": "markdown",
   "metadata": {
    "collapsed": true
   },
   "source": [
    "Get the response matrix and input 1D distributions for unfolding."
   ]
  },
  {
   "cell_type": "code",
   "execution_count": null,
   "metadata": {},
   "outputs": [],
   "source": [
    "print np.min(TT16gen_nSub_basis[:,17])\n",
    "print np.min(TT16reco_nSub_basis[:,17])\n",
    "print np.max(TT16gen_nSub_basis[:,17])\n",
    "print np.max(TT16reco_nSub_basis[:,17])"
   ]
  },
  {
   "cell_type": "code",
   "execution_count": null,
   "metadata": {},
   "outputs": [],
   "source": [
    "nDet=30\n",
    "nGen=15\n",
    "xminDet=0.0\n",
    "xmaxDet=0.06\n",
    "xminGen=0.0\n",
    "xmaxGen=0.06\n",
    "#weight_TT16 = (831.76*lumi*1000.)/10199051.*np.ones(TT16_beta4W.shape[0])*TT16_puWeight*TT16_btagWeight*0.8\n"
   ]
  },
  {
   "cell_type": "code",
   "execution_count": null,
   "metadata": {},
   "outputs": [],
   "source": [
    "ROOT.TH1.SetDefaultSumw2()\n",
    "from root_numpy import *\n",
    "\n",
    "histMgenMC = ROOT.TH1D(\"histMgenMC\", \"histMgenMC; #tau_{5}^{2}; Events/(0.02)\", nGen, xminGen,xmaxGen)\n",
    "fill_hist(histMgenMC, TT16gen_nSub_basis[:,17])\n",
    "\n",
    "histMdetMC = ROOT.TH1D(\"histMdetMC\", \"histMdetMC; #tau_{5}^{2}; Events/(0.02)\", nDet, xminDet,xmaxDet)\n",
    "fill_hist(histMdetMC, TT16reco_nSub_basis[:,17])\n",
    "\n",
    "histMgenData = ROOT.TH1D(\"histMgenData\", \"histMgenData; #tau_{5}^{2}; Events/(0.02)\", nGen, xminGen,xmaxGen)\n",
    "fill_hist(histMgenData, TT16truth_nSub_basis[:,17])\n",
    "\n",
    "histMdetData = ROOT.TH1D(\"histMdetData\", \"histMdetData; #tau_{5}^{2}; Events/(0.02)\", nDet, xminDet,xmaxDet)\n",
    "fill_hist(histMdetData, TT16data_nSub_basis[:,17])\n",
    "\n",
    "\n",
    "response = ROOT.TH2D('response', 'response', nDet, xminDet, xmaxDet, nGen, xminGen, xmaxGen)\n",
    "hist2Dfill = np.zeros((TT16reco_nSub_basis[:,17].shape[0], 2))\n",
    "hist2Dfill[:,0] = TT16reco_nSub_basis[:,17].flatten()\n",
    "hist2Dfill[:,1] = TT16gen_nSub_basis[:,17].flatten()\n",
    "fill_hist(response, hist2Dfill)"
   ]
  },
  {
   "cell_type": "raw",
   "metadata": {},
   "source": [
    "xaxis =  array.array('d',[a for a in xrange(nmbinsGen *nptbinsGen + 1 )])\n",
    "nx = len(xaxis)-1\n",
    "\n",
    "print xaxis\n",
    "\n",
    "yaxis =  array.array('d',[a for a in xrange(nmbinsDet *nptbinsDet+1 )])\n",
    "ny = len(yaxis)-1\n",
    "\n",
    "print yaxis\n",
    "\n",
    "h_response = ROOT.TH2D('h_response',   'h_response', nx , xaxis, ny, yaxis )\n",
    "#print h_response2.GetXaxis.GetNbins()\n",
    "print nx\n",
    "print ny\n",
    "nb = nx*ny\n",
    "print nb"
   ]
  },
  {
   "cell_type": "raw",
   "metadata": {
    "collapsed": true
   },
   "source": [
    "response =ROOT.gDirectory.Get(\"response\")\n",
    "histMgenMC=ROOT.gDirectory.Get(\"histMgenMC\")\n",
    "histMdetMC=ROOT.gDirectory.Get(\"histMdetMC\")\n",
    "histMgenData=ROOT.gDirectory.Get(\"histMgenData\")\n",
    "histMdetData=ROOT.gDirectory.Get(\"histMdetData\")"
   ]
  },
  {
   "cell_type": "markdown",
   "metadata": {
    "collapsed": true
   },
   "source": [
    "Set the X and Y axis labels"
   ]
  },
  {
   "cell_type": "code",
   "execution_count": null,
   "metadata": {},
   "outputs": [],
   "source": [
    "response.SetTitle(\";#tau_{5}^{2}(det);#tau_{5}^{2}(gen)\")\n",
    "\n",
    "\n",
    "histMgenMC.SetTitle(\";#tau_{5}^{2}(gen)\")\n",
    "#histMgenMC.SetFillColor(ROOT.kRed)\n",
    "#histMgenMC.SetLineColor(ROOT.kRed)\n",
    "\n",
    "histMdetMC.SetTitle(\";#tau_{5}^{2}(det)\")\n",
    "#histMdetMC.SetFillColor(ROOT.kBlue)\n",
    "#histMdetMC.SetLineColor(ROOT.kBlue)\n",
    "\n",
    "\n",
    "histMgenData.SetTitle(\";#tau_{5}^{2}(gen)\")\n",
    "#histMgenData.SetFillColor(ROOT.kGreen+2)\n",
    "#histMgenData.SetLineColor(ROOT.kGreen+2)\n",
    "\n",
    "histMdetData.SetTitle(\";#tau_{5}^{2}(det)\")\n",
    "#histMdetData.SetFillColor(ROOT.kBlack)\n",
    "#histMdetData.SetLineColor(ROOT.kBlack)"
   ]
  },
  {
   "cell_type": "markdown",
   "metadata": {
    "collapsed": true
   },
   "source": [
    "Draw the variables at reco and gen level and for \"data\""
   ]
  },
  {
   "cell_type": "code",
   "execution_count": null,
   "metadata": {},
   "outputs": [],
   "source": [
    "c1 = ROOT.TCanvas(\"chistMgenMC1\", \"chistMgenMC1\")\n",
    "histMgenMC.Draw(\"e\")\n",
    "histMdetMC.Draw(\"e same\")\n",
    "c1.Draw()"
   ]
  },
  {
   "cell_type": "code",
   "execution_count": null,
   "metadata": {},
   "outputs": [],
   "source": [
    "c1 = ROOT.TCanvas(\"chistMgenMC1\", \"chistMgenMC1\")\n",
    "histMgenData.Draw(\"e\")\n",
    "histMdetData.Draw(\"e same\")\n",
    "c1.Draw()"
   ]
  },
  {
   "cell_type": "markdown",
   "metadata": {
    "collapsed": true
   },
   "source": [
    "Draw the response matrix."
   ]
  },
  {
   "cell_type": "code",
   "execution_count": null,
   "metadata": {
    "scrolled": false
   },
   "outputs": [],
   "source": [
    "c1 = ROOT.TCanvas(\"cresponse1\", \"cresponse1\")\n",
    "response.Draw(\"colz\")\n",
    "c1.Draw()"
   ]
  },
  {
   "cell_type": "code",
   "execution_count": null,
   "metadata": {},
   "outputs": [],
   "source": [
    "#### In MC :"
   ]
  },
  {
   "cell_type": "code",
   "execution_count": null,
   "metadata": {},
   "outputs": [],
   "source": [
    "c2 = ROOT.TCanvas(\"MCcompare\", \"MCcompare\")\n",
    "histMgenMC.Draw('e')\n",
    "histMdetMC.Draw('e same')\n",
    "c2.Draw()"
   ]
  },
  {
   "cell_type": "markdown",
   "metadata": {
    "collapsed": true
   },
   "source": [
    "#### In Data:"
   ]
  },
  {
   "cell_type": "code",
   "execution_count": null,
   "metadata": {},
   "outputs": [],
   "source": [
    "c3 = ROOT.TCanvas(\"datadists\", \"datadists\")\n",
    "histMgenData.Draw('e')\n",
    "histMdetData.Draw('e same')\n",
    "c3.Draw()"
   ]
  },
  {
   "cell_type": "code",
   "execution_count": null,
   "metadata": {},
   "outputs": [],
   "source": [
    "print 'getting tunfolder:'\n",
    "tunfolder = ROOT.TUnfoldDensity(response,ROOT.TUnfold.kHistMapOutputVert,ROOT.TUnfold.kRegModeCurvature, ROOT.TUnfold.kEConstraintNone, ROOT.TUnfoldDensity.kDensityModeBinWidth)"
   ]
  },
  {
   "cell_type": "markdown",
   "metadata": {
    "collapsed": true
   },
   "source": [
    "Set the input, a 1D reconstructed histogram from either MC (closure) or Data (measurement) , binned in the detector level binning."
   ]
  },
  {
   "cell_type": "code",
   "execution_count": null,
   "metadata": {},
   "outputs": [],
   "source": [
    "print 'setting reco input'\n",
    "tunfolder.SetInput( histMdetData )"
   ]
  },
  {
   "cell_type": "markdown",
   "metadata": {},
   "source": [
    "Unfold nScan times with values for the regularization parameter between tauMin and tauMax using the empty TSplines to store the results."
   ]
  },
  {
   "cell_type": "code",
   "execution_count": null,
   "metadata": {},
   "outputs": [],
   "source": [
    "print 'regularizing'\n",
    "nScan=50\n",
    "tauMin=0.0\n",
    "tauMax=0.0\n",
    "iBest=0\n",
    "\n",
    "logTauX = ROOT.MakeNullPointer(ROOT.TSpline)\n",
    "logTauY = ROOT.MakeNullPointer(ROOT.TSpline)\n",
    "lCurve = ROOT.MakeNullPointer(ROOT.TGraph)\n",
    "\n",
    "print 'doing the unfolding'\n",
    "tunfolder.ScanLcurve(nScan,tauMin,tauMax,lCurve,logTauX,logTauY);\n",
    "print 'getting the results'\n",
    "unfolded = tunfolder.GetOutput(\"unfolded\")"
   ]
  },
  {
   "cell_type": "code",
   "execution_count": null,
   "metadata": {},
   "outputs": [],
   "source": []
  },
  {
   "cell_type": "code",
   "execution_count": null,
   "metadata": {},
   "outputs": [],
   "source": [
    "c5 = ROOT.TCanvas('c5', 'c5')\n",
    "unfolded.SetMarkerStyle(22)\n",
    "unfolded.SetMarkerColor(4)\n",
    "unfolded.SetFillColor(0)\n",
    "histMgenData.SetMarkerStyle(21)\n",
    "histMgenData.SetMarkerColor(2)\n",
    "\n",
    "hs = ROOT.THStack(\"hs\", \"hs\")\n",
    "hs.Add( histMgenData, \"hist\")\n",
    "hs.Add( unfolded, \"e\")\n",
    "hs.Draw(\"nostack\")\n",
    "c5.Draw()"
   ]
  },
  {
   "cell_type": "code",
   "execution_count": null,
   "metadata": {},
   "outputs": [],
   "source": []
  },
  {
   "cell_type": "code",
   "execution_count": null,
   "metadata": {},
   "outputs": [],
   "source": []
  },
  {
   "cell_type": "code",
   "execution_count": null,
   "metadata": {},
   "outputs": [],
   "source": []
  },
  {
   "cell_type": "code",
   "execution_count": null,
   "metadata": {},
   "outputs": [],
   "source": []
  },
  {
   "cell_type": "code",
   "execution_count": null,
   "metadata": {},
   "outputs": [],
   "source": []
  },
  {
   "cell_type": "code",
   "execution_count": null,
   "metadata": {},
   "outputs": [],
   "source": []
  }
 ],
 "metadata": {
  "kernelspec": {
   "display_name": "Python 2",
   "language": "python",
   "name": "python2"
  },
  "language_info": {
   "codemirror_mode": {
    "name": "ipython",
    "version": 2
   },
   "file_extension": ".py",
   "mimetype": "text/x-python",
   "name": "python",
   "nbconvert_exporter": "python",
   "pygments_lexer": "ipython2",
   "version": "2.7.15"
  }
 },
 "nbformat": 4,
 "nbformat_minor": 2
}
