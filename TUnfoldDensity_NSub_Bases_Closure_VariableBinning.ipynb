{
 "cells": [
  {
   "cell_type": "markdown",
   "metadata": {},
   "source": [
    "# Exploring the phase space of a jet: 1-D Unfolding  (for now)"
   ]
  },
  {
   "cell_type": "markdown",
   "metadata": {},
   "source": [
    "## Unfolding the the $N$-subjettiness bases in semileptonic $t\\bar{t}$ events at $\\sqrt{s} = 13$ TeV"
   ]
  },
  {
   "cell_type": "markdown",
   "metadata": {},
   "source": [
    "#### Firstly , import the ROOT data analysis framework which will be used to read the data files and unfold the final result. "
   ]
  },
  {
   "cell_type": "code",
   "execution_count": 1,
   "metadata": {},
   "outputs": [
    {
     "name": "stdout",
     "output_type": "stream",
     "text": [
      "Welcome to JupyROOT 6.18/00\n"
     ]
    }
   ],
   "source": [
    "import ROOT\n",
    "import array as array\n",
    "import os\n",
    "import glob\n",
    "import ROOT\n",
    "from ROOT import TH1D, TH2D, TTree,TFile\n",
    "from random import gauss\n",
    "import numpy as np\n",
    "import root_numpy as rtnpy\n",
    "import h5py\n",
    "from awkward import JaggedArray, Table"
   ]
  },
  {
   "cell_type": "markdown",
   "metadata": {
    "collapsed": true
   },
   "source": [
    "#### Save a nametag describing the selection applied to events being read from the input file below. This is used to name the saved plots."
   ]
  },
  {
   "cell_type": "code",
   "execution_count": 2,
   "metadata": {},
   "outputs": [],
   "source": [
    "nametag = 'Selection from AN-19-074'"
   ]
  },
  {
   "cell_type": "code",
   "execution_count": 3,
   "metadata": {
    "scrolled": true
   },
   "outputs": [
    {
     "name": "stdout",
     "output_type": "stream",
     "text": [
      "35.92\n"
     ]
    }
   ],
   "source": [
    "lumi = 5.75+2.57+4.24+4.03+3.11+7.57+8.65 #B+C+D+E+F+G+H\n",
    "print (lumi)\n",
    "ptmin = 200.\n",
    "ptmax = 1500.\n",
    "mSDmin = 65.\n",
    "mSDmax = 125.\n",
    "leptWpTmin = 200."
   ]
  },
  {
   "cell_type": "markdown",
   "metadata": {},
   "source": [
    "#### Below the input Monte Carlo simulation events are read from the file which only contains events meeting the skim criteria set forth in this __[script](https://github.com/kaustuvdatta/jetObservables/blob/102X/python/nSubProducer_gen_reco.py)__\n"
   ]
  },
  {
   "cell_type": "markdown",
   "metadata": {},
   "source": [
    "### Using Powheg+Pythia8 samples as gen and MC and MG5+P8 as \"data\""
   ]
  },
  {
   "cell_type": "code",
   "execution_count": 4,
   "metadata": {
    "scrolled": true
   },
   "outputs": [
    {
     "name": "stdout",
     "output_type": "stream",
     "text": [
      "577\n",
      "0\n",
      "on file 5\n",
      "on file 10\n",
      "on file 15\n",
      "on file 20\n",
      "on file 25\n",
      "on file 30\n",
      "on file 35\n",
      "on file 40\n",
      "on file 45\n",
      "on file 50\n",
      "on file 55\n",
      "on file 60\n",
      "on file 65\n",
      "on file 70\n",
      "on file 75\n",
      "on file 80\n",
      "on file 85\n",
      "on file 90\n",
      "on file 95\n",
      "on file 100\n",
      "on file 105\n",
      "on file 110\n",
      "on file 115\n",
      "on file 120\n",
      "on file 125\n",
      "on file 130\n",
      "on file 135\n",
      "on file 140\n",
      "on file 145\n",
      "on file 150\n",
      "on file 155\n",
      "on file 160\n",
      "on file 165\n",
      "on file 170\n",
      "on file 175\n",
      "on file 180\n",
      "on file 185\n",
      "on file 190\n",
      "on file 195\n",
      "on file 200\n",
      "on file 205\n",
      "on file 210\n",
      "on file 215\n",
      "on file 220\n",
      "on file 225\n",
      "on file 230\n",
      "on file 235\n",
      "on file 240\n",
      "on file 245\n",
      "on file 250\n",
      "on file 255\n",
      "on file 260\n",
      "on file 265\n",
      "on file 270\n",
      "on file 275\n",
      "on file 280\n",
      "on file 285\n",
      "on file 290\n",
      "on file 295\n",
      "on file 300\n",
      "on file 305\n",
      "on file 310\n",
      "on file 315\n",
      "on file 320\n",
      "on file 325\n",
      "on file 330\n",
      "on file 335\n",
      "on file 340\n",
      "on file 345\n",
      "on file 350\n",
      "on file 355\n",
      "on file 360\n",
      "on file 365\n",
      "on file 370\n",
      "on file 375\n",
      "on file 380\n",
      "on file 385\n",
      "on file 390\n",
      "on file 395\n",
      "on file 400\n",
      "on file 405\n",
      "on file 410\n",
      "on file 415\n",
      "on file 420\n",
      "on file 425\n",
      "on file 430\n",
      "on file 435\n",
      "on file 440\n",
      "on file 445\n",
      "on file 450\n",
      "on file 455\n",
      "on file 460\n",
      "on file 465\n",
      "on file 470\n",
      "on file 475\n",
      "on file 480\n",
      "on file 485\n",
      "on file 490\n",
      "on file 495\n",
      "on file 500\n",
      "on file 505\n",
      "on file 510\n",
      "on file 515\n",
      "on file 520\n",
      "on file 525\n",
      "on file 530\n",
      "on file 535\n",
      "on file 540\n",
      "on file 545\n",
      "on file 550\n",
      "on file 555\n",
      "on file 560\n",
      "on file 565\n",
      "on file 570\n",
      "on file 575\n"
     ]
    },
    {
     "name": "stderr",
     "output_type": "stream",
     "text": [
      "Warning in <TClass::Init>: no dictionary for class edm::ProcessHistory is available\n",
      "Warning in <TClass::Init>: no dictionary for class edm::ProcessConfiguration is available\n",
      "Warning in <TClass::Init>: no dictionary for class edm::ParameterSetBlob is available\n",
      "Warning in <TClass::Init>: no dictionary for class edm::Hash<1> is available\n",
      "Warning in <TClass::Init>: no dictionary for class pair<edm::Hash<1>,edm::ParameterSetBlob> is available\n"
     ]
    }
   ],
   "source": [
    "filelist = []\n",
    "path = '../AutoObs/CMS/New_Sel/TTrecogen/1/*.root'\n",
    "files=glob.glob(path)   \n",
    "for f in files:     \n",
    "    filelist.append(f)\n",
    "        \n",
    "print (len(filelist))\n",
    "dataset = []\n",
    "c=0\n",
    "for f in filelist:\n",
    "    F = ROOT.TFile.Open(f, 'read')\n",
    "    \n",
    "    T = F.Get(\"Events\");\n",
    "    \n",
    "    \n",
    "    \n",
    "    \n",
    "    \n",
    "    data = rtnpy. tree2array(T, branches=['goodrecojet0_softdrop_mass',\n",
    "                                      'goodrecojet0_tau_0p5_0','goodrecojet0_tau_1_0','goodrecojet0_tau_2_0',\n",
    "                                      'goodrecojet0_tau_0p5_1','goodrecojet0_tau_1_1','goodrecojet0_tau_2_1',\n",
    "                                      'goodrecojet0_tau_0p5_2','goodrecojet0_tau_1_2','goodrecojet0_tau_2_2',\n",
    "                                      'goodrecojet0_tau_0p5_3','goodrecojet0_tau_1_3','goodrecojet0_tau_2_3',\n",
    "                                      'goodrecojet0_tau_0p5_4','goodrecojet0_tau_1_4','goodrecojet0_tau_2_4',\n",
    "                                      'goodrecojet0_tau_0p5_5','goodrecojet0_tau_1_5','goodrecojet0_tau_2_5',\n",
    "                                      'goodrecojet0_tau_0p5_6','goodrecojet0_tau_1_6','goodrecojet0_tau_2_6',\n",
    "                                      'goodrecojet0_mass', 'goodrecojet0_pt', 'goodrecojet0_eta',\n",
    "                                      'goodrecojet0_phi',\n",
    "                                      'MET', 'goodrecojet0_tau21', 'goodrecojet0_N21',\n",
    "                                      'FatJet_tau1','FatJet_tau2','FatJet_tau3','FatJet_tau4', 'leptonicW_pT', \n",
    "                                      'lepton_pT', 'puWeight', 'PV_npvsGood', 'btagWeight_CSVV2',\n",
    "                                      'dr_LepJet', 'dphi_MetJet', 'dphi_WJet','genmatchedrecoAK8', 'passedMETfilters',\n",
    "                                      'goodgenjet0_mass',\n",
    "                                      'goodgenjet0_tau_0p5_0','goodgenjet0_tau_1_0','goodgenjet0_tau_2_0',\n",
    "                                      'goodgenjet0_tau_0p5_1','goodgenjet0_tau_1_1','goodgenjet0_tau_2_1',\n",
    "                                      'goodgenjet0_tau_0p5_2','goodgenjet0_tau_1_2','goodgenjet0_tau_2_2',\n",
    "                                      'goodgenjet0_tau_0p5_3','goodgenjet0_tau_1_3','goodgenjet0_tau_2_3',\n",
    "                                      'goodgenjet0_tau_0p5_4','goodgenjet0_tau_1_4','goodgenjet0_tau_2_4',\n",
    "                                      'goodgenjet0_tau_0p5_5','goodgenjet0_tau_1_5','goodgenjet0_tau_2_5',\n",
    "                                      'goodgenjet0_tau_0p5_6','goodgenjet0_tau_1_6','goodgenjet0_tau_2_6',\n",
    "                                      'goodgenjet0_pt', 'goodgenjet0_eta', 'goodgenjet0_phi'\n",
    "                                        ])\n",
    "\n",
    "    \n",
    "    if len(dataset)==0:\n",
    "        print (c)\n",
    "        dataset=data\n",
    "    else:\n",
    "        dataset = np.concatenate((dataset,data))\n",
    "        \n",
    "    c=c+1\n",
    "    if c%5==0:\n",
    "        print (\"on file %d\"%c)"
   ]
  },
  {
   "cell_type": "code",
   "execution_count": 5,
   "metadata": {},
   "outputs": [
    {
     "name": "stdout",
     "output_type": "stream",
     "text": [
      "57158\n"
     ]
    },
    {
     "name": "stderr",
     "output_type": "stream",
     "text": [
      "/shome/kdatta/.local/lib/python2.7/site-packages/ipykernel_launcher.py:151: RuntimeWarning: divide by zero encountered in power\n",
      "/shome/kdatta/.local/lib/python2.7/site-packages/ipykernel_launcher.py:151: RuntimeWarning: invalid value encountered in double_scalars\n"
     ]
    },
    {
     "name": "stdout",
     "output_type": "stream",
     "text": [
      "('nan nan nan!!!', 15422, 0.03056116, 0.001708532, 0.00031756982, 0.0, 0.0, 0.0, 0.0, 0.0, 184.54639, 1.9655762, 93.5625)\n"
     ]
    }
   ],
   "source": [
    "#pars = [1.02,-1.06,0.22,-0.27,0.15,0.00,0.18,0.02]# [ 0.49631107, -0.91138405, 0.11273356, -0.26872, 0.04777313, 0.06521296, 0.51138633, -0.03617261]\n",
    "#pars = [0.,-1.,0.,0.,1.,0.,0.,0.]\n",
    "pars = -1* np.array([-0.195,  1.183,  -0.219,  0.674,  -0.44,   0.003, -0.634,  -0.042]) #[ 0.06849562,  0.99606407, -0.20875171,  0.3780923 , -0.07821123, -0.05920516, -0.79644126,  0.02925767]#[1.02,-1.06,0.22,-0.27,0.15,0.00,0.18,0.02]# [ 1.0470642 , 0.3308942 , -0.08472812, 0.4989206, -0.2598824, 0.00597894, -0.6826088 , -0.06705493]\n",
    "\n",
    "c=0\n",
    "for i in range(0,dataset.shape[0]):\n",
    "    if mSDmin<dataset[i][0]<=mSDmax and ptmin<dataset[i][23]<ptmax and leptWpTmin<dataset[i][33] and dataset[i][38]>np.pi/2 and dataset[i][39]>2. and dataset[i][40]>2. and dataset[i][42]==1:# and dataset[i][27]<0.45:\n",
    "        #if ((dataset[i][1])**(pars[0]))*((dataset[i][2])**(pars[1]))*((dataset[i][3])**(pars[2]))*((dataset[i][4])**(pars[3]))*((dataset[i][5])**(pars[4]))*((dataset[i][6])**(pars[5]))*((dataset[i][8])**(pars[6]))*((dataset[i][9])**(pars[7]))>3.:\n",
    "        c=c+1\n",
    "\n",
    "print (c)\n",
    "TT16reco_npv = np.ones(c)\n",
    "TT16reco_beta4W = np.ones(c)\n",
    "TT16reco_pt = np.ones(c)\n",
    "TT16reco_eta = np.ones(c)\n",
    "TT16reco_met = np.ones(c)\n",
    "TT16reco_lWpt = np.ones(c)\n",
    "TT16reco_lept_pT = np.ones(c)\n",
    "TT16reco_mass = np.ones(c)\n",
    "TT16reco_sdmass = np.ones(c)\n",
    "TT16reco_tau1 = np.ones(c)\n",
    "TT16reco_tau2 = np.ones(c)\n",
    "TT16reco_tau3 = np.ones(c)\n",
    "TT16reco_tau4 = np.ones(c)\n",
    "TT16reco_tau21 = np.ones(c)\n",
    "TT16reco_N21 = np.ones(c)\n",
    "TT16reco_puWeight = np.ones(c)\n",
    "TT16reco_btagWeight = np.ones(c)\n",
    "fatjet_TT16reco_tau1 = np.ones(c)\n",
    "fatjet_TT16reco_tau2 = np.ones(c)\n",
    "fatjet_TT16reco_tau3 = np.ones(c)\n",
    "fatjet_TT16reco_tau4 = np.ones(c)\n",
    "fatjet_TT16reco_tau21 = np.ones(c)\n",
    "\n",
    "\n",
    "TT16reco_nSub_basis = np.ones((c,21))\n",
    "\n",
    "TT16reco_tau1_0p5 = np.ones(c)\n",
    "TT16reco_tau1_1 = np.ones(c)\n",
    "TT16reco_tau1_2 = np.ones(c)\n",
    "TT16reco_tau2_0p5 = np.ones(c)\n",
    "TT16reco_tau2_1 = np.ones(c)\n",
    "TT16reco_tau2_2 = np.ones(c)\n",
    "TT16reco_tau3_0p5 = np.ones(c)\n",
    "TT16reco_tau3_1 = np.ones(c)\n",
    "TT16reco_tau3_2 = np.ones(c)\n",
    "TT16reco_tau4_0p5 = np.ones(c)\n",
    "TT16reco_tau4_1 = np.ones(c)\n",
    "TT16reco_tau4_2 = np.ones(c)\n",
    "TT16reco_tau5_0p5 = np.ones(c)\n",
    "TT16reco_tau5_1 = np.ones(c)\n",
    "TT16reco_tau5_2 = np.ones(c)\n",
    "TT16reco_tau6_0p5 = np.ones(c)\n",
    "TT16reco_tau6_1 = np.ones(c)\n",
    "TT16reco_tau6_2 = np.ones(c)\n",
    "TT16reco_tau7_0p5 = np.ones(c)\n",
    "TT16reco_tau7_1 = np.ones(c)\n",
    "TT16reco_tau7_2 = np.ones(c)\n",
    "\n",
    "TT16gen_tau21 = np.ones(c)\n",
    "TT16gen_beta4W = np.ones(c)\n",
    "TT16gen_pt = np.ones(c)\n",
    "TT16gen_eta = np.ones(c)\n",
    "TT16gen_mass = np.ones(c)\n",
    "\n",
    "TT16gen_nSub_basis = np.ones((c,21))\n",
    "\n",
    "TT16gen_tau1_0p5 = np.ones(c)\n",
    "TT16gen_tau1_1 = np.ones(c)\n",
    "TT16gen_tau1_2 = np.ones(c)\n",
    "TT16gen_tau2_0p5 = np.ones(c)\n",
    "TT16gen_tau2_1 = np.ones(c)\n",
    "TT16gen_tau2_2 = np.ones(c)\n",
    "TT16gen_tau3_0p5 = np.ones(c)\n",
    "TT16gen_tau3_1 = np.ones(c)\n",
    "TT16gen_tau3_2 = np.ones(c)\n",
    "TT16gen_tau4_0p5 = np.ones(c)\n",
    "TT16gen_tau4_1 = np.ones(c)\n",
    "TT16gen_tau4_2 = np.ones(c)\n",
    "TT16gen_tau5_0p5 = np.ones(c)\n",
    "TT16gen_tau5_1 = np.ones(c)\n",
    "TT16gen_tau5_2 = np.ones(c)\n",
    "TT16gen_tau6_0p5 = np.ones(c)\n",
    "TT16gen_tau6_1 = np.ones(c)\n",
    "TT16gen_tau6_2 = np.ones(c)\n",
    "TT16gen_tau7_0p5 = np.ones(c)\n",
    "TT16gen_tau7_1 = np.ones(c)\n",
    "TT16gen_tau7_2 = np.ones(c)\n",
    "\n",
    "c=0\n",
    "d1=0\n",
    "d2=0\n",
    "for i in range(0,dataset.shape[0]):\n",
    "    if mSDmin<dataset[i][0]<=mSDmax and ptmin<dataset[i][23]<ptmax and leptWpTmin<dataset[i][33] and dataset[i][38]>np.pi/2 and dataset[i][39]>2. and dataset[i][40]>2. and dataset[i][42]==1:# and dataset[i][27]<0.45:\n",
    "        #print dataset[i][29]\n",
    "        #if ((dataset[i][1])**(pars[0]))*((dataset[i][2])**(pars[1]))*((dataset[i][3])**(pars[2]))*((dataset[i][4])**(pars[3]))*((dataset[i][5])**(pars[4]))*((dataset[i][6])**(pars[5]))*((dataset[i][8])**(pars[6]))*((dataset[i][9])**(pars[7]))>3.:\n",
    "        TT16reco_pt[c] = dataset[i][23]\n",
    "        TT16reco_eta[c] = dataset[i][24]\n",
    "        TT16reco_met[c] = dataset[i][26]\n",
    "        TT16reco_mass[c] = dataset[i][22]\n",
    "        TT16reco_lWpt[c] = dataset[i][33]\n",
    "        TT16reco_lept_pT[c] = dataset[i][34]\n",
    "        TT16reco_sdmass[c] = dataset[i][0]\n",
    "        TT16reco_tau1[c] = dataset[i][2]\n",
    "        TT16reco_tau2[c] = dataset[i][5]\n",
    "        TT16reco_tau3[c] = dataset[i][8]\n",
    "        TT16reco_tau4[c] = dataset[i][11]\n",
    "        TT16reco_tau21[c] = dataset[i][27]\n",
    "        TT16reco_N21[c] = dataset[i][28]\n",
    "        TT16reco_puWeight[c] = dataset[i][35]\n",
    "        TT16reco_btagWeight[c] = dataset[i][37]\n",
    "        TT16reco_npv[c] = dataset[i][36]\n",
    "        fatjet_TT16reco_tau1[c] = dataset[i][29][0]\n",
    "        fatjet_TT16reco_tau2[c] = dataset[i][30][0]\n",
    "        fatjet_TT16reco_tau3[c] = dataset[i][31][0]\n",
    "        fatjet_TT16reco_tau4[c] = dataset[i][32][0]\n",
    "        \n",
    "        for z in range(0,21):\n",
    "            TT16reco_nSub_basis[c][z] = dataset[i][z+1]\n",
    "        TT16reco_tau1_0p5[c] = dataset[i][1]\n",
    "        TT16reco_tau1_1[c] = dataset[i][2]\n",
    "        TT16reco_tau1_2[c] = dataset[i][3]\n",
    "        TT16reco_tau2_0p5[c] = dataset[i][4]\n",
    "        TT16reco_tau2_1[c] = dataset[i][5]\n",
    "        TT16reco_tau2_2[c] = dataset[i][6]\n",
    "\n",
    "        \n",
    "        TT16gen_pt[c] = dataset[i][65]\n",
    "        TT16gen_eta[c] = dataset[i][66]\n",
    "        TT16gen_mass[c] = dataset[i][43]\n",
    "        \n",
    "        for z in range(0,21):\n",
    "            TT16gen_nSub_basis[c][z] = dataset[i][z+44]   \n",
    "        \n",
    "        TT16gen_tau1_0p5[c] = dataset[i][44]\n",
    "        TT16gen_tau1_1[c] = dataset[i][45]\n",
    "        TT16gen_tau1_2[c] = dataset[i][46]\n",
    "        TT16gen_tau2_0p5[c] = dataset[i][47]\n",
    "        TT16gen_tau2_1[c] = dataset[i][48]\n",
    "        TT16gen_tau2_2[c] = dataset[i][49]\n",
    "        \n",
    "        \n",
    "        if TT16reco_tau1_1[c]!=0:\n",
    "            TT16reco_tau21[d1] = TT16reco_tau2_1[c]/TT16reco_tau1_1[c]\n",
    "            d1=d1+1\n",
    "        TT16reco_beta4W[c]=((dataset[i][1])**(pars[0]))*((dataset[i][2])**(pars[1]))*((dataset[i][3])**(pars[2]))*((dataset[i][4])**(pars[3]))*((dataset[i][5])**(pars[4]))*((dataset[i][6])**(pars[5]))*((dataset[i][8])**(pars[6]))*((dataset[i][9])**(pars[7]))\n",
    "        \n",
    "        if TT16gen_tau1_1[c]!=0:\n",
    "            TT16gen_tau21[d2] = TT16gen_tau2_1[c]/TT16gen_tau1_1[c]\n",
    "            d2=d2+1\n",
    "        TT16gen_beta4W[c]=((dataset[i][44])**(pars[0]))*((dataset[i][45])**(pars[1]))*((dataset[i][46])**(pars[2]))*((dataset[i][47])**(pars[3]))*((dataset[i][48])**(pars[4]))*((dataset[i][49])**(pars[5]))*((dataset[i][51])**(pars[6]))*((dataset[i][52])**(pars[7]))\n",
    "        if np.isnan(TT16gen_beta4W[c]): \n",
    "            print (\"nan nan nan!!!\", c, (dataset[i][44]), (dataset[i][45]), (dataset[i][46]), (dataset[i][47]), (dataset[i][48]), (dataset[i][49]), (dataset[i][51]), (dataset[i][52]), (dataset[i][65]), (dataset[i][66]), (dataset[c][43]))\n",
    "        if np.isinf(TT16gen_beta4W[c]): \n",
    "            print (\"inf inf inf!!!\", c)\n",
    "        \n",
    "        c=c+1\n",
    "#print np.min(var_sig), np.max(var_sig)\n",
    "#TT16reco_SF = np.exp(0.0615+0.0005*TT16reco_pt)\n",
    "#print TT16reco_SF, np.mean(TT16reco_SF)"
   ]
  },
  {
   "cell_type": "raw",
   "metadata": {
    "scrolled": true
   },
   "source": [
    "filelist = []\n",
    "path = '../AutoObs/CMS/New_Sel/TTrecogen/2/*.root'\n",
    "files=glob.glob(path)   \n",
    "for f in files:     \n",
    "    filelist.append(f)\n",
    "        \n",
    "print (len(filelist))\n",
    "dataset = []\n",
    "c=0\n",
    "for f in filelist:\n",
    "    F = ROOT.TFile.Open(f, 'read')\n",
    "    \n",
    "    T = F.Get(\"Events\");\n",
    "    \n",
    "    \n",
    "    \n",
    "    \n",
    "    \n",
    "    data = rtnpy. tree2array(T, branches=['goodrecojet0_softdrop_mass',\n",
    "                                      'goodrecojet0_tau_0p5_0','goodrecojet0_tau_1_0','goodrecojet0_tau_2_0',\n",
    "                                      'goodrecojet0_tau_0p5_1','goodrecojet0_tau_1_1','goodrecojet0_tau_2_1',\n",
    "                                      'goodrecojet0_tau_0p5_2','goodrecojet0_tau_1_2','goodrecojet0_tau_2_2',\n",
    "                                      'goodrecojet0_tau_0p5_3','goodrecojet0_tau_1_3','goodrecojet0_tau_2_3',\n",
    "                                      'goodrecojet0_tau_0p5_4','goodrecojet0_tau_1_4','goodrecojet0_tau_2_4',\n",
    "                                      'goodrecojet0_tau_0p5_5','goodrecojet0_tau_1_5','goodrecojet0_tau_2_5',\n",
    "                                      'goodrecojet0_tau_0p5_6','goodrecojet0_tau_1_6','goodrecojet0_tau_2_6',\n",
    "                                      'goodrecojet0_mass', 'goodrecojet0_pt', 'goodrecojet0_eta',\n",
    "                                      'goodrecojet0_phi',\n",
    "                                      'MET', 'goodrecojet0_tau21', 'goodrecojet0_N21',\n",
    "                                      'FatJet_tau1','FatJet_tau2','FatJet_tau3','FatJet_tau4', 'leptonicW_pT', \n",
    "                                      'lepton_pT', 'puWeight', 'PV_npvsGood', 'btagWeight_CSVV2',\n",
    "                                      'dr_LepJet', 'dphi_MetJet', 'dphi_WJet','genmatchedrecoAK8', 'passedMETfilters',\n",
    "                                      'goodgenjet0_mass',\n",
    "                                      'goodgenjet0_tau_0p5_0','goodgenjet0_tau_1_0','goodgenjet0_tau_2_0',\n",
    "                                      'goodgenjet0_tau_0p5_1','goodgenjet0_tau_1_1','goodgenjet0_tau_2_1',\n",
    "                                      'goodgenjet0_tau_0p5_2','goodgenjet0_tau_1_2','goodgenjet0_tau_2_2',\n",
    "                                      'goodgenjet0_tau_0p5_3','goodgenjet0_tau_1_3','goodgenjet0_tau_2_3',\n",
    "                                      'goodgenjet0_tau_0p5_4','goodgenjet0_tau_1_4','goodgenjet0_tau_2_4',\n",
    "                                      'goodgenjet0_tau_0p5_5','goodgenjet0_tau_1_5','goodgenjet0_tau_2_5',\n",
    "                                      'goodgenjet0_tau_0p5_6','goodgenjet0_tau_1_6','goodgenjet0_tau_2_6',\n",
    "                                      'goodgenjet0_pt', 'goodgenjet0_eta', 'goodgenjet0_phi'\n",
    "                                        ])\n",
    "\n",
    "    \n",
    "    if len(dataset)==0:\n",
    "        print (c)\n",
    "        dataset=data\n",
    "    else:\n",
    "        dataset = np.concatenate((dataset,data))\n",
    "        \n",
    "    c=c+1\n",
    "    if c%5==0:\n",
    "        print (\"on file %d\"%c)"
   ]
  },
  {
   "cell_type": "raw",
   "metadata": {},
   "source": [
    "#pars = [1.02,-1.06,0.22,-0.27,0.15,0.00,0.18,0.02]# [ 0.49631107, -0.91138405, 0.11273356, -0.26872, 0.04777313, 0.06521296, 0.51138633, -0.03617261]\n",
    "#pars = [0.,-1.,0.,0.,1.,0.,0.,0.]\n",
    "pars = -1* np.array([-0.195,  1.183,  -0.219,  0.674,  -0.44,   0.003, -0.634,  -0.042]) #[ 0.06849562,  0.99606407, -0.20875171,  0.3780923 , -0.07821123, -0.05920516, -0.79644126,  0.02925767]#[1.02,-1.06,0.22,-0.27,0.15,0.00,0.18,0.02]# [ 1.0470642 , 0.3308942 , -0.08472812, 0.4989206, -0.2598824, 0.00597894, -0.6826088 , -0.06705493]\n",
    "\n",
    "c=0\n",
    "for i in range(0,dataset.shape[0]):\n",
    "    if mSDmin<dataset[i][0]<=mSDmax and ptmin<dataset[i][23]<ptmax and leptWpTmin<dataset[i][33] and dataset[i][38]>np.pi/2 and dataset[i][39]>2. and dataset[i][40]>2. and dataset[i][42]==1:# and dataset[i][27]<0.45:\n",
    "        #if ((dataset[i][1])**(pars[0]))*((dataset[i][2])**(pars[1]))*((dataset[i][3])**(pars[2]))*((dataset[i][4])**(pars[3]))*((dataset[i][5])**(pars[4]))*((dataset[i][6])**(pars[5]))*((dataset[i][8])**(pars[6]))*((dataset[i][9])**(pars[7]))>3.:\n",
    "        c=c+1\n",
    "\n",
    "print (c)\n",
    "TT16data_npv = np.ones(c)\n",
    "TT16data_beta4W = np.ones(c)\n",
    "TT16data_pt = np.ones(c)\n",
    "TT16data_eta = np.ones(c)\n",
    "TT16data_met = np.ones(c)\n",
    "TT16data_lWpt = np.ones(c)\n",
    "TT16data_lept_pT = np.ones(c)\n",
    "TT16data_mass = np.ones(c)\n",
    "TT16data_sdmass = np.ones(c)\n",
    "TT16data_tau1 = np.ones(c)\n",
    "TT16data_tau2 = np.ones(c)\n",
    "TT16data_tau3 = np.ones(c)\n",
    "TT16data_tau4 = np.ones(c)\n",
    "TT16data_tau21 = np.ones(c)\n",
    "TT16data_N21 = np.ones(c)\n",
    "TT16data_puWeight = np.ones(c)\n",
    "TT16data_btagWeight = np.ones(c)\n",
    "fatjet_TT16data_tau1 = np.ones(c)\n",
    "fatjet_TT16data_tau2 = np.ones(c)\n",
    "fatjet_TT16data_tau3 = np.ones(c)\n",
    "fatjet_TT16data_tau4 = np.ones(c)\n",
    "fatjet_TT16data_tau21 = np.ones(c)\n",
    "\n",
    "\n",
    "TT16data_nSub_basis = np.ones((c,21))\n",
    "\n",
    "TT16data_tau1_0p5 = np.ones(c)\n",
    "TT16data_tau1_1 = np.ones(c)\n",
    "TT16data_tau1_2 = np.ones(c)\n",
    "TT16data_tau2_0p5 = np.ones(c)\n",
    "TT16data_tau2_1 = np.ones(c)\n",
    "TT16data_tau2_2 = np.ones(c)\n",
    "TT16data_tau3_0p5 = np.ones(c)\n",
    "TT16data_tau3_1 = np.ones(c)\n",
    "TT16data_tau3_2 = np.ones(c)\n",
    "TT16data_tau4_0p5 = np.ones(c)\n",
    "TT16data_tau4_1 = np.ones(c)\n",
    "TT16data_tau4_2 = np.ones(c)\n",
    "TT16data_tau5_0p5 = np.ones(c)\n",
    "TT16data_tau5_1 = np.ones(c)\n",
    "TT16data_tau5_2 = np.ones(c)\n",
    "TT16data_tau6_0p5 = np.ones(c)\n",
    "TT16data_tau6_1 = np.ones(c)\n",
    "TT16data_tau6_2 = np.ones(c)\n",
    "TT16data_tau7_0p5 = np.ones(c)\n",
    "TT16data_tau7_1 = np.ones(c)\n",
    "TT16data_tau7_2 = np.ones(c)\n",
    "\n",
    "TT16truth_tau21 = np.ones(c)\n",
    "TT16truth_beta4W = np.ones(c)\n",
    "TT16truth_pt = np.ones(c)\n",
    "TT16truth_eta = np.ones(c)\n",
    "TT16truth_mass = np.ones(c)\n",
    "\n",
    "TT16truth_nSub_basis = np.ones((c,21))\n",
    "\n",
    "TT16truth_tau1_0p5 = np.ones(c)\n",
    "TT16truth_tau1_1 = np.ones(c)\n",
    "TT16truth_tau1_2 = np.ones(c)\n",
    "TT16truth_tau2_0p5 = np.ones(c)\n",
    "TT16truth_tau2_1 = np.ones(c)\n",
    "TT16truth_tau2_2 = np.ones(c)\n",
    "TT16truth_tau3_0p5 = np.ones(c)\n",
    "TT16truth_tau3_1 = np.ones(c)\n",
    "TT16truth_tau3_2 = np.ones(c)\n",
    "TT16truth_tau4_0p5 = np.ones(c)\n",
    "TT16truth_tau4_1 = np.ones(c)\n",
    "TT16truth_tau4_2 = np.ones(c)\n",
    "TT16truth_tau5_0p5 = np.ones(c)\n",
    "TT16truth_tau5_1 = np.ones(c)\n",
    "TT16truth_tau5_2 = np.ones(c)\n",
    "TT16truth_tau6_0p5 = np.ones(c)\n",
    "TT16truth_tau6_1 = np.ones(c)\n",
    "TT16truth_tau6_2 = np.ones(c)\n",
    "TT16truth_tau7_0p5 = np.ones(c)\n",
    "TT16truth_tau7_1 = np.ones(c)\n",
    "TT16truth_tau7_2 = np.ones(c)\n",
    "\n",
    "c=0\n",
    "d1=0\n",
    "d2=0\n",
    "for i in range(0,dataset.shape[0]):\n",
    "    if mSDmin<dataset[i][0]<=mSDmax and ptmin<dataset[i][23]<ptmax and leptWpTmin<dataset[i][33] and dataset[i][38]>np.pi/2 and dataset[i][39]>2. and dataset[i][40]>2. and dataset[i][42]==1:# and dataset[i][27]<0.45:\n",
    "        #print dataset[i][29]\n",
    "        #if ((dataset[i][1])**(pars[0]))*((dataset[i][2])**(pars[1]))*((dataset[i][3])**(pars[2]))*((dataset[i][4])**(pars[3]))*((dataset[i][5])**(pars[4]))*((dataset[i][6])**(pars[5]))*((dataset[i][8])**(pars[6]))*((dataset[i][9])**(pars[7]))>3.:\n",
    "        TT16data_pt[c] = dataset[i][23]\n",
    "        TT16data_eta[c] = dataset[i][24]\n",
    "        TT16data_met[c] = dataset[i][26]\n",
    "        TT16data_mass[c] = dataset[i][22]\n",
    "        TT16data_lWpt[c] = dataset[i][33]\n",
    "        TT16data_lept_pT[c] = dataset[i][34]\n",
    "        TT16data_sdmass[c] = dataset[i][0]\n",
    "        TT16data_tau1[c] = dataset[i][2]\n",
    "        TT16data_tau2[c] = dataset[i][5]\n",
    "        TT16data_tau3[c] = dataset[i][8]\n",
    "        TT16data_tau4[c] = dataset[i][11]\n",
    "        TT16data_tau21[c] = dataset[i][27]\n",
    "        TT16data_N21[c] = dataset[i][28]\n",
    "        TT16data_puWeight[c] = dataset[i][35]\n",
    "        TT16data_btagWeight[c] = dataset[i][37]\n",
    "        TT16data_npv[c] = dataset[i][36]\n",
    "        fatjet_TT16data_tau1[c] = dataset[i][29][0]\n",
    "        fatjet_TT16data_tau2[c] = dataset[i][30][0]\n",
    "        fatjet_TT16data_tau3[c] = dataset[i][31][0]\n",
    "        fatjet_TT16data_tau4[c] = dataset[i][32][0]\n",
    "        \n",
    "        for z in range(0,21):\n",
    "            TT16data_nSub_basis[c][z] = dataset[i][z+1]\n",
    "        TT16data_tau1_0p5[c] = dataset[i][1]\n",
    "        TT16data_tau1_1[c] = dataset[i][2]\n",
    "        TT16data_tau1_2[c] = dataset[i][3]\n",
    "        TT16data_tau2_0p5[c] = dataset[i][4]\n",
    "        TT16data_tau2_1[c] = dataset[i][5]\n",
    "        TT16data_tau2_2[c] = dataset[i][6]\n",
    "\n",
    "        \n",
    "        TT16truth_pt[c] = dataset[i][65]\n",
    "        TT16truth_eta[c] = dataset[i][66]\n",
    "        TT16truth_mass[c] = dataset[i][43]\n",
    "        \n",
    "        for z in range(0,21):\n",
    "            TT16truth_nSub_basis[c][z] = dataset[i][z+44]   \n",
    "        \n",
    "        TT16truth_tau1_0p5[c] = dataset[i][44]\n",
    "        TT16truth_tau1_1[c] = dataset[i][45]\n",
    "        TT16truth_tau1_2[c] = dataset[i][46]\n",
    "        TT16truth_tau2_0p5[c] = dataset[i][47]\n",
    "        TT16truth_tau2_1[c] = dataset[i][48]\n",
    "        TT16truth_tau2_2[c] = dataset[i][49]\n",
    "        \n",
    "        \n",
    "        if TT16data_tau1_1[c]!=0:\n",
    "            TT16data_tau21[d1] = TT16data_tau2_1[c]/TT16data_tau1_1[c]\n",
    "            d1=d1+1\n",
    "        TT16data_beta4W[c]=((dataset[i][1])**(pars[0]))*((dataset[i][2])**(pars[1]))*((dataset[i][3])**(pars[2]))*((dataset[i][4])**(pars[3]))*((dataset[i][5])**(pars[4]))*((dataset[i][6])**(pars[5]))*((dataset[i][8])**(pars[6]))*((dataset[i][9])**(pars[7]))\n",
    "        \n",
    "        if TT16truth_tau1_1[c]!=0:\n",
    "            TT16truth_tau21[d2] = TT16truth_tau2_1[c]/TT16truth_tau1_1[c]\n",
    "            d2=d2+1\n",
    "        TT16truth_beta4W[c]=((dataset[i][44])**(pars[0]))*((dataset[i][45])**(pars[1]))*((dataset[i][46])**(pars[2]))*((dataset[i][47])**(pars[3]))*((dataset[i][48])**(pars[4]))*((dataset[i][49])**(pars[5]))*((dataset[i][51])**(pars[6]))*((dataset[i][52])**(pars[7]))\n",
    "        if np.isnan(TT16truth_beta4W[c]): \n",
    "            print (\"nan nan nan!!!\", c, (dataset[i][44]), (dataset[i][45]), (dataset[i][46]), (dataset[i][47]), (dataset[i][48]), (dataset[i][49]), (dataset[i][51]), (dataset[i][52]), (dataset[i][65]), (dataset[i][66]), (dataset[c][43]))\n",
    "        if np.isinf(TT16truth_beta4W[c]): \n",
    "            print (\"inf inf inf!!!\", c)\n",
    "        \n",
    "        c=c+1\n",
    "#print np.min(var_sig), np.max(var_sig)\n",
    "#TT16data_SF = np.exp(0.0615+0.0005*TT16data_pt)\n",
    "#print TT16data_SF, np.mean(TT16data_SF)"
   ]
  },
  {
   "cell_type": "markdown",
   "metadata": {},
   "source": [
    "## 1-D unfolding of full $N$-subjettiness basis"
   ]
  },
  {
   "cell_type": "raw",
   "metadata": {},
   "source": [
    "for i in xrange(0,21):\n",
    "    print i\n",
    "    gen=TT16gen_nSub_basis[:,i]\n",
    "    reco=TT16reco_nSub_basis[:,i]\n",
    "    truth=TT16truth_nSub_basis[:,i]\n",
    "    data=TT16data_nSub_basis[:,i]\n",
    "    print unfold_nSub_crossclosure(data=data,gen=gen,reco=reco,truth=truth,nDet=reco_bins[i][0], nGen=gen_bins[i][0], \n",
    "                             var_name=labels[i], xminDet=reco_bins[i][1], xmaxDet=reco_bins[i][2],\n",
    "                             xminGen=gen_bins[i][1], xmaxGen=gen_bins[i][2])\n",
    "    "
   ]
  },
  {
   "cell_type": "code",
   "execution_count": 6,
   "metadata": {},
   "outputs": [],
   "source": [
    "ROOT.TH1.SetDefaultSumw2()\n",
    "from root_numpy import *\n",
    "length = np.int(TT16gen_nSub_basis.shape[0])\n",
    "unfold_length = np.int(np.floor(0.8*length))"
   ]
  },
  {
   "cell_type": "code",
   "execution_count": 7,
   "metadata": {},
   "outputs": [
    {
     "name": "stdout",
     "output_type": "stream",
     "text": [
      "45726 11432\n",
      "45726 11432\n"
     ]
    }
   ],
   "source": [
    "TT16truth_nSub_basis = TT16gen_nSub_basis[unfold_length:,:]\n",
    "TT16gen_nSub_basis = TT16gen_nSub_basis[:unfold_length,:]\n",
    "print TT16gen_nSub_basis.shape[0], TT16truth_nSub_basis.shape[0]\n",
    "\n",
    "TT16data_nSub_basis = TT16reco_nSub_basis[unfold_length:,:]\n",
    "TT16reco_nSub_basis = TT16reco_nSub_basis[:unfold_length,:]\n",
    "print TT16reco_nSub_basis.shape[0], TT16data_nSub_basis.shape[0]"
   ]
  },
  {
   "cell_type": "markdown",
   "metadata": {},
   "source": [
    "# Unfold $\\tau_1^{(0.5)}$"
   ]
  },
  {
   "cell_type": "markdown",
   "metadata": {
    "collapsed": true
   },
   "source": [
    "#### Set the axis ranges for the generator and detector level distributions as well as the number of bins in each. Note that we want twice as many detector bins as generator level bins as recommended by the TUnfold documenation "
   ]
  },
  {
   "cell_type": "code",
   "execution_count": 8,
   "metadata": {},
   "outputs": [
    {
     "name": "stdout",
     "output_type": "stream",
     "text": [
      "0.02254972793161869\n",
      "0.2162497490644455\n",
      "0.7921093702316284\n",
      "0.7946196794509888\n",
      "0.7815538644790649\n",
      "0.7765287160873413\n"
     ]
    }
   ],
   "source": [
    "print np.min(TT16gen_nSub_basis[:,0])\n",
    "print np.min(TT16reco_nSub_basis[:,0])\n",
    "print np.max(TT16gen_nSub_basis[:,0])\n",
    "print np.max(TT16reco_nSub_basis[:,0])\n",
    "print np.max(TT16truth_nSub_basis[:,0])\n",
    "print np.max(TT16data_nSub_basis[:,0])"
   ]
  },
  {
   "cell_type": "code",
   "execution_count": 9,
   "metadata": {},
   "outputs": [
    {
     "name": "stdout",
     "output_type": "stream",
     "text": [
      "[0.   0.08 0.16 0.2  0.24 0.28 0.32 0.36 0.4  0.44 0.48 0.52 0.56 0.6\n",
      " 0.64 0.68 0.72 0.76 0.8 ] 19\n",
      "[0.   0.04 0.08 0.12 0.16 0.2  0.22 0.24 0.26 0.28 0.3  0.32 0.34 0.36\n",
      " 0.38 0.4  0.42 0.44 0.46 0.48 0.5  0.52 0.54 0.56 0.58 0.6  0.62 0.64\n",
      " 0.66 0.68 0.7  0.72 0.74 0.76 0.78 0.8 ] 36\n"
     ]
    }
   ],
   "source": [
    "nDet=40\n",
    "nGen=20\n",
    "\n",
    "gen_bins = [x for x in np.linspace(num=16, start=0.2, stop=0.8)]\n",
    "#print gen_bins\n",
    "gen_bins = np.concatenate((np.array([0., 0.08, 0.16]), gen_bins))\n",
    "print gen_bins, gen_bins.shape[0]\n",
    "\n",
    "det_bins = [x for x in np.linspace(num=31, start=0.2, stop=0.8)]\n",
    "#print det_bins\n",
    "det_bins = np.concatenate((np.array([0., 0.04, 0.08, 0.12, 0.16,]), det_bins))\n",
    "print det_bins, det_bins.shape[0]\n",
    "#nt_t  binnum = sizeof(bins)/sizeof(Float_t) - 1; // or just = 9\n",
    "#TH1F* h = new TH1F(\"n\",\"t\", binnum, bins);\n",
    "\n",
    "xminDet=0.\n",
    "xmaxDet=0.8\n",
    "xminGen=0.\n",
    "xmaxGen=0.8\n",
    "#weight_TT16 = (831.76*lumi*1000.)/10199051.*np.ones(TT16_beta4W.shape[0])*TT16_puWeight*TT16_btagWeight*0.8\n"
   ]
  },
  {
   "cell_type": "markdown",
   "metadata": {
    "collapsed": true
   },
   "source": [
    "Get the response matrix and input 1D distributions for unfolding."
   ]
  },
  {
   "cell_type": "code",
   "execution_count": 10,
   "metadata": {},
   "outputs": [],
   "source": [
    "ROOT.TH1.SetDefaultSumw2()\n",
    "from root_numpy import *\n",
    "\n",
    "histMgenMC = ROOT.TH1D(\"histMgenMC\", \"histMgenMC; #tau_{1}^{2}; Events/(0.02)\",  gen_bins.shape[0]-1, (gen_bins))\n",
    "fill_hist(histMgenMC, TT16gen_nSub_basis[:,0])\n",
    "\n",
    "histMdetMC = ROOT.TH1D(\"histMdetMC\", \"histMdetMC; #tau_{1}^{2}; Events/(0.02)\", det_bins.shape[0]-1, (det_bins))\n",
    "fill_hist(histMdetMC, TT16reco_nSub_basis[:,0])\n",
    "\n",
    "histMgenData = ROOT.TH1D(\"histMgenData\", \"histMgenData; #tau_{1}^{2}; Events/(0.02)\", gen_bins.shape[0]-1, (gen_bins))\n",
    "fill_hist(histMgenData, TT16truth_nSub_basis[:,0])\n",
    "\n",
    "histMdetData = ROOT.TH1D(\"histMdetData\", \"histMdetData; #tau_{1}^{2}; Events/(0.02)\", det_bins.shape[0]-1, (det_bins))\n",
    "fill_hist(histMdetData, TT16data_nSub_basis[:,0])\n",
    "\n",
    "\n",
    "response = ROOT.TH2D('response', 'response', det_bins.shape[0]-1, det_bins, gen_bins.shape[0]-1, gen_bins)\n",
    "hist2Dfill = np.zeros((TT16reco_nSub_basis[:,0].shape[0], 2))\n",
    "hist2Dfill[:,0] = TT16reco_nSub_basis[:,0].flatten()\n",
    "hist2Dfill[:,1] = TT16gen_nSub_basis[:,0].flatten()\n",
    "fill_hist(response, hist2Dfill)"
   ]
  },
  {
   "cell_type": "markdown",
   "metadata": {
    "collapsed": true
   },
   "source": [
    "Set the X and Y axis labels"
   ]
  },
  {
   "cell_type": "code",
   "execution_count": 11,
   "metadata": {},
   "outputs": [],
   "source": [
    "response.SetTitle(\";#tau_{1}^{0.5}(det);#tau_{1}^{0.5}(gen)\")\n",
    "\n",
    "\n",
    "histMgenMC.SetTitle(\";#tau_{1}^{0.5}(gen)\")\n",
    "#histMgenMC.SetFillColor(ROOT.kRed)\n",
    "#histMgenMC.SetLineColor(ROOT.kRed)\n",
    "\n",
    "histMdetMC.SetTitle(\";#tau_{1}^{0.5}(det)\")\n",
    "#histMdetMC.SetFillColor(ROOT.kBlue)\n",
    "#histMdetMC.SetLineColor(ROOT.kBlue)\n",
    "\n",
    "\n",
    "histMgenData.SetTitle(\";#tau_{1}^{0.5}(gen)\")\n",
    "#histMgenData.SetFillColor(ROOT.kGreen+2)\n",
    "#histMgenData.SetLineColor(ROOT.kGreen+2)\n",
    "\n",
    "histMdetData.SetTitle(\";#tau_{1}^{0.5}(det)\")\n",
    "#histMdetData.SetFillColor(ROOT.kBlack)\n",
    "#histMdetData.SetLineColor(ROOT.kBlack)"
   ]
  },
  {
   "cell_type": "markdown",
   "metadata": {
    "collapsed": true
   },
   "source": [
    "Draw the variables at reco and gen level and for \"data\""
   ]
  },
  {
   "cell_type": "code",
   "execution_count": 12,
   "metadata": {},
   "outputs": [
    {
     "data": {
      "image/png": "[encoded data removed]",
      "text/plain": [
       "<IPython.core.display.Image object>"
      ]
     },
     "metadata": {},
     "output_type": "display_data"
    }
   ],
   "source": [
    "c1 = ROOT.TCanvas(\"chistMgenMC1\", \"chistMgenMC1\")\n",
    "histMgenMC.Draw(\"e\")\n",
    "histMdetMC.Draw(\"e same\")\n",
    "c1.Draw()"
   ]
  },
  {
   "cell_type": "code",
   "execution_count": 13,
   "metadata": {},
   "outputs": [
    {
     "name": "stderr",
     "output_type": "stream",
     "text": [
      "Warning in <TCanvas::Constructor>: Deleting canvas with same name: chistMgenMC1\n"
     ]
    },
    {
     "data": {
      "image/png": "[encoded data removed]",
      "text/plain": [
       "<IPython.core.display.Image object>"
      ]
     },
     "metadata": {},
     "output_type": "display_data"
    }
   ],
   "source": [
    "c1 = ROOT.TCanvas(\"chistMgenMC1\", \"chistMgenMC1\")\n",
    "histMgenData.Draw(\"e\")\n",
    "histMdetData.Draw(\"e same\")\n",
    "c1.Draw()"
   ]
  },
  {
   "cell_type": "markdown",
   "metadata": {
    "collapsed": true
   },
   "source": [
    "Draw the response matrix."
   ]
  },
  {
   "cell_type": "code",
   "execution_count": 14,
   "metadata": {
    "scrolled": false
   },
   "outputs": [
    {
     "data": {
      "image/png": "[encoded data removed]",
      "text/plain": [
       "<IPython.core.display.Image object>"
      ]
     },
     "metadata": {},
     "output_type": "display_data"
    }
   ],
   "source": [
    "c1 = ROOT.TCanvas(\"cresponse1\", \"cresponse1\")\n",
    "response.Draw(\"colz\")\n",
    "c1.Draw()"
   ]
  },
  {
   "cell_type": "markdown",
   "metadata": {
    "collapsed": true
   },
   "source": [
    "### Instatiate the TUnfoldDensity Class object"
   ]
  },
  {
   "cell_type": "markdown",
   "metadata": {},
   "source": [
    "#### The argument input is as follows:"
   ]
  },
  {
   "cell_type": "markdown",
   "metadata": {},
   "source": [
    "1. Response Matrix: It is drawn above on TCanvas \"cresponse1\"\n",
    "\n",
    "2. Output Map: This is just stating whether you have generator or reconstruted level information on your X vs Y axis of the response matrix. For our current configuration, X axis is gen, Y axis is reco, the correct output is ROOT.TUnfold.kHistMapOutputVert \n",
    "\n",
    "3. Regularization Mode : Currently this notebook uses ROOT.TUnfold.kRegModeCurvature which regularizes based on the regularize the 2nd derivative of the output. More information wrt the other options can be gained from reading the __[source code](https://root.cern.ch/doc/v608/TUnfold_8h_source.html#l00107)__ \n",
    "\n",
    "4. Constraint :  Here we use ROOT.TUnfold.kEConstraintNone , meaning we do not constrain further, the other option is to force constraint of area. (Need to look into this!!)\n",
    "\n",
    "5. Density Mode: Here we use ROOT.TUnfoldDensity.kDensityModeBinWidth which uses the bin width to normalize the event rate in a given bin, accounting for non-uniformity in bin widths as discussed in __[section 7.2.1 of the TUnfold paper](https://arxiv.org/pdf/1205.6201.pdf)__"
   ]
  },
  {
   "cell_type": "code",
   "execution_count": 15,
   "metadata": {},
   "outputs": [
    {
     "name": "stdout",
     "output_type": "stream",
     "text": [
      "getting tunfolder:\n"
     ]
    },
    {
     "name": "stderr",
     "output_type": "stream",
     "text": [
      "Info in <TUnfold::SetConstraint>: fConstraint=0\n",
      "Info in <TUnfold::TUnfold>: underflow and overflow bin do not depend on the input data\n",
      "Info in <TUnfold::TUnfold>: 35 input bins and 18 output bins\n",
      "Info in <TUnfoldDensity::TUnfold>: *NOT* unfolding bin #0 (yaxis:#tau_{1}^{0.5}(gen)[ufl])\n",
      "Info in <TUnfoldDensity::TUnfold>: *NOT* unfolding bin #19 (yaxis:#tau_{1}^{0.5}(gen)[ofl])\n",
      "Info in <TUnfoldDensity::RegularizeOneDistribution>: regularizing yaxis regMode=3 densityMode=1 axisSteering=*[UOB]\n"
     ]
    }
   ],
   "source": [
    "print 'getting tunfolder:'\n",
    "tunfolder = ROOT.TUnfoldDensity(response,ROOT.TUnfold.kHistMapOutputVert,ROOT.TUnfold.kRegModeCurvature, ROOT.TUnfold.kEConstraintNone, ROOT.TUnfoldDensity.kDensityModeBinWidth)"
   ]
  },
  {
   "cell_type": "markdown",
   "metadata": {
    "collapsed": true
   },
   "source": [
    "Set the input, a 1D reconstructed histogram from either MC (closure) or Data (measurement) , binned in the detector level binning."
   ]
  },
  {
   "cell_type": "code",
   "execution_count": 16,
   "metadata": {},
   "outputs": [
    {
     "name": "stdout",
     "output_type": "stream",
     "text": [
      "setting reco input\n"
     ]
    },
    {
     "data": {
      "text/plain": [
       "8"
      ]
     },
     "execution_count": 16,
     "metadata": {},
     "output_type": "execute_result"
    },
    {
     "name": "stderr",
     "output_type": "stream",
     "text": [
      "Warning in <TUnfoldDensity::SetInput>: 8/35 input bins have zero error, and are ignored.\n"
     ]
    }
   ],
   "source": [
    "print 'setting reco input'\n",
    "tunfolder.SetInput( histMdetData )"
   ]
  },
  {
   "cell_type": "markdown",
   "metadata": {},
   "source": [
    "Unfold nScan times with values for the regularization parameter between tauMin and tauMax using the empty TSplines to store the results."
   ]
  },
  {
   "cell_type": "code",
   "execution_count": null,
   "metadata": {
    "scrolled": true
   },
   "outputs": [],
   "source": [
    "print 'regularizing'\n",
    "nScan=50\n",
    "tauMin=-6.0\n",
    "tauMax=6.0\n",
    "iBest=0\n",
    "\n",
    "logTauX = ROOT.MakeNullPointer(ROOT.TSpline)\n",
    "logTauY = ROOT.MakeNullPointer(ROOT.TSpline)\n",
    "lCurve = ROOT.MakeNullPointer(ROOT.TGraph)\n",
    "\n",
    "\n",
    "\n",
    "print 'doing the unfolding'\n",
    "iBest=tunfolder.ScanLcurve(nScan,tauMin,tauMax,lCurve,logTauX,logTauY);\n",
    "tunfolder.ScanLcurve(nScan,tauMin,tauMax,lCurve,logTauX,logTauY);\n",
    "print 'getting the results'\n",
    "unfolded = tunfolder.GetOutput(\"unfolded\")\n",
    "rhoij = tunfolder.GetRhoIJ(\"correlation\", \"#tau_{1}^{(0.5)}\")\n",
    "#plt.plot(lCurve)"
   ]
  },
  {
   "cell_type": "code",
   "execution_count": 48,
   "metadata": {
    "scrolled": false
   },
   "outputs": [
    {
     "name": "stderr",
     "output_type": "stream",
     "text": [
      "Warning in <TCanvas::Constructor>: Deleting canvas with same name: c5\n"
     ]
    },
    {
     "data": {
      "image/png": "[encoded data removed]",
      "text/plain": [
       "<IPython.core.display.Image object>"
      ]
     },
     "metadata": {},
     "output_type": "display_data"
    }
   ],
   "source": [
    "c5 = ROOT.TCanvas('c5', 'c5')\n",
    "unfolded.SetMarkerStyle(22)\n",
    "unfolded.SetMarkerColor(4)\n",
    "unfolded.SetFillColor(0)\n",
    "histMgenData.SetMarkerStyle(4)\n",
    "histMgenData.SetMarkerColor(2)\n",
    "histMgenData.SetOption(\"E\")\n",
    "histMgenData.SetLineColor(2)\n",
    "\n",
    "hs = ROOT.THStack(\"hs\", \"hs\")\n",
    "hs.Add( histMgenData, \"E HIST\")\n",
    "hs.Add( unfolded, \"E\")\n",
    "hs.Draw(\"nostack\")\n",
    "c5.Draw()"
   ]
  },
  {
   "cell_type": "markdown",
   "metadata": {},
   "source": [
    "# Unfold $\\tau_1^{(1)}$"
   ]
  },
  {
   "cell_type": "markdown",
   "metadata": {
    "collapsed": true
   },
   "source": [
    "Get the response matrix and input 1D distributions for unfolding."
   ]
  },
  {
   "cell_type": "markdown",
   "metadata": {
    "collapsed": true
   },
   "source": [
    "#### Set the axis ranges for the generator nd detector level distributions as well as the number of bins in each. Note that we want twice as many detector bins as generator level bins as recommended by the TUnfold documenation "
   ]
  },
  {
   "cell_type": "code",
   "execution_count": 90,
   "metadata": {},
   "outputs": [
    {
     "name": "stdout",
     "output_type": "stream",
     "text": [
      "0.0017085319850593805\n",
      "0.07775519788265228\n",
      "0.63550865650177\n",
      "0.6391461491584778\n",
      "0.6168755292892456\n",
      "0.6152770519256592\n"
     ]
    }
   ],
   "source": [
    "print np.min(TT16gen_nSub_basis[:,1])\n",
    "print np.min(TT16reco_nSub_basis[:,1])\n",
    "print np.max(TT16gen_nSub_basis[:,1])\n",
    "print np.max(TT16reco_nSub_basis[:,1])\n",
    "print np.max(TT16truth_nSub_basis[:,1])\n",
    "print np.max(TT16data_nSub_basis[:,1])"
   ]
  },
  {
   "cell_type": "code",
   "execution_count": 137,
   "metadata": {},
   "outputs": [
    {
     "name": "stdout",
     "output_type": "stream",
     "text": [
      "[0.    0.05  0.1   0.134 0.168 0.202 0.236 0.27  0.304 0.338 0.372 0.406\n",
      " 0.44  0.474 0.508 0.542 0.576 0.61  0.64 ] 19\n",
      "[0.     0.025  0.05   0.075  0.1    0.1175 0.135  0.1525 0.17   0.1875\n",
      " 0.205  0.2225 0.24   0.2575 0.275  0.2925 0.31   0.3275 0.345  0.3625\n",
      " 0.38   0.3975 0.415  0.4325 0.45   0.4675 0.485  0.5025 0.52   0.5375\n",
      " 0.555  0.5725 0.59   0.6075 0.625  0.64  ] 36\n"
     ]
    }
   ],
   "source": [
    "nDet=40\n",
    "nGen=20\n",
    "\n",
    "gen_bins = [x for x in np.linspace(num=16, start=0.1, stop=0.61)]\n",
    "#print gen_bins\n",
    "gen_bins = np.concatenate(( np.array([0., 0.05]), gen_bins,np.array([0.64])))\n",
    "print gen_bins, gen_bins.shape[0]\n",
    "\n",
    "det_bins = [x for x in np.linspace(num=31, start=0.1, stop=0.625)]\n",
    "#print det_bins\n",
    "det_bins = np.concatenate(( np.array([0., 0.025, 0.05, 0.075]), det_bins, np.array([0.64])))\n",
    "print det_bins, det_bins.shape[0]\n",
    "#nt_t  binnum = sizeof(bins)/sizeof(Float_t) - 1; // or just = 9\n",
    "#TH1F* h = new TH1F(\"n\",\"t\", binnum, bins);\n",
    "\n",
    "xminDet=0.\n",
    "xmaxDet=0.8\n",
    "xminGen=0.\n",
    "xmaxGen=0.8\n",
    "#weight_TT16 = (831.76*lumi*1000.)/10199051.*np.ones(TT16_beta4W.shape[0])*TT16_puWeight*TT16_btagWeight*0.8\n"
   ]
  },
  {
   "cell_type": "raw",
   "metadata": {},
   "source": [
    "nDet=24\n",
    "nGen=12\n",
    "xminDet=0.0\n",
    "xmaxDet=0.64\n",
    "xminGen=0.0\n",
    "xmaxGen=0.64\n",
    "#weight_TT16 = (831.76*lumi*1000.)/10199051.*np.ones(TT16_beta4W.shape[0])*TT16_puWeight*TT16_btagWeight*0.8\n"
   ]
  },
  {
   "cell_type": "code",
   "execution_count": 124,
   "metadata": {},
   "outputs": [
    {
     "name": "stderr",
     "output_type": "stream",
     "text": [
      "Warning in <TFile::Append>: Replacing existing TH1: histMgenMC (Potential memory leak).\n",
      "Warning in <TFile::Append>: Replacing existing TH1: histMdetMC (Potential memory leak).\n",
      "Warning in <TFile::Append>: Replacing existing TH1: histMgenData (Potential memory leak).\n",
      "Warning in <TFile::Append>: Replacing existing TH1: histMdetData (Potential memory leak).\n",
      "Warning in <TFile::Append>: Replacing existing TH1: response (Potential memory leak).\n"
     ]
    }
   ],
   "source": [
    "ROOT.TH1.SetDefaultSumw2()\n",
    "from root_numpy import *\n",
    "\n",
    "histMgenMC = ROOT.TH1D(\"histMgenMC\", \"histMgenMC; #tau_{1}^{2}; Events/(0.02)\",  gen_bins.shape[0]-1, (gen_bins))\n",
    "fill_hist(histMgenMC, TT16gen_nSub_basis[:,1])\n",
    "\n",
    "histMdetMC = ROOT.TH1D(\"histMdetMC\", \"histMdetMC; #tau_{1}^{2}; Events/(0.02)\", det_bins.shape[0]-1, (det_bins))\n",
    "fill_hist(histMdetMC, TT16reco_nSub_basis[:,1])\n",
    "\n",
    "histMgenData = ROOT.TH1D(\"histMgenData\", \"histMgenData; #tau_{1}^{2}; Events/(0.02)\", gen_bins.shape[0]-1, (gen_bins))\n",
    "fill_hist(histMgenData, TT16truth_nSub_basis[:,1])\n",
    "\n",
    "histMdetData = ROOT.TH1D(\"histMdetData\", \"histMdetData; #tau_{1}^{2}; Events/(0.02)\", det_bins.shape[0]-1, (det_bins))\n",
    "fill_hist(histMdetData, TT16data_nSub_basis[:,1])\n",
    "\n",
    "\n",
    "response = ROOT.TH2D('response', 'response', det_bins.shape[0]-1, det_bins, gen_bins.shape[0]-1, gen_bins)\n",
    "hist2Dfill = np.zeros((TT16reco_nSub_basis[:,1].shape[0], 2))\n",
    "hist2Dfill[:,0] = TT16reco_nSub_basis[:,1].flatten()\n",
    "hist2Dfill[:,1] = TT16gen_nSub_basis[:,1].flatten()\n",
    "fill_hist(response, hist2Dfill)"
   ]
  },
  {
   "cell_type": "markdown",
   "metadata": {
    "collapsed": true
   },
   "source": [
    "Set the X and Y axis labels"
   ]
  },
  {
   "cell_type": "code",
   "execution_count": 125,
   "metadata": {},
   "outputs": [],
   "source": [
    "response.SetTitle(\";#tau_{1}^{1}(det);#tau_{1}^{1}(gen)\")\n",
    "\n",
    "\n",
    "histMgenMC.SetTitle(\";#tau_{1}^{1}(gen)\")\n",
    "#histMgenMC.SetFillColor(ROOT.kRed)\n",
    "#histMgenMC.SetLineColor(ROOT.kRed)\n",
    "\n",
    "histMdetMC.SetTitle(\";#tau_{1}^{1}(det)\")\n",
    "#histMdetMC.SetFillColor(ROOT.kBlue)\n",
    "#histMdetMC.SetLineColor(ROOT.kBlue)\n",
    "\n",
    "\n",
    "histMgenData.SetTitle(\";#tau_{1}^{1}(gen)\")\n",
    "#histMgenData.SetFillColor(ROOT.kGreen+2)\n",
    "#histMgenData.SetLineColor(ROOT.kGreen+2)\n",
    "\n",
    "histMdetData.SetTitle(\";#tau_{1}^{1}(det)\")\n",
    "#histMdetData.SetFillColor(ROOT.kBlack)\n",
    "#histMdetData.SetLineColor(ROOT.kBlack)"
   ]
  },
  {
   "cell_type": "markdown",
   "metadata": {
    "collapsed": true
   },
   "source": [
    "Draw the variables at reco and gen level and for \"data\""
   ]
  },
  {
   "cell_type": "code",
   "execution_count": 126,
   "metadata": {},
   "outputs": [
    {
     "data": {
      "image/png": "[encoded data removed]",
      "text/plain": [
       "<IPython.core.display.Image object>"
      ]
     },
     "metadata": {},
     "output_type": "display_data"
    }
   ],
   "source": [
    "c1 = ROOT.TCanvas(\"chistMgenMC1\", \"chistMgenMC1\")\n",
    "histMgenMC.Draw(\"e\")\n",
    "histMdetMC.Draw(\"e same\")\n",
    "c1.Draw()"
   ]
  },
  {
   "cell_type": "code",
   "execution_count": 127,
   "metadata": {},
   "outputs": [
    {
     "name": "stderr",
     "output_type": "stream",
     "text": [
      "Warning in <TCanvas::Constructor>: Deleting canvas with same name: chistMgenMC1\n"
     ]
    },
    {
     "data": {
      "image/png": "[encoded data removed]",
      "text/plain": [
       "<IPython.core.display.Image object>"
      ]
     },
     "metadata": {},
     "output_type": "display_data"
    }
   ],
   "source": [
    "c1 = ROOT.TCanvas(\"chistMgenMC1\", \"chistMgenMC1\")\n",
    "histMgenData.Draw(\"e\")\n",
    "histMdetData.Draw(\"e same\")\n",
    "c1.Draw()"
   ]
  },
  {
   "cell_type": "markdown",
   "metadata": {
    "collapsed": true
   },
   "source": [
    "Draw the response matrix."
   ]
  },
  {
   "cell_type": "code",
   "execution_count": 128,
   "metadata": {
    "scrolled": false
   },
   "outputs": [
    {
     "data": {
      "image/png": "[encoded data removed]",
      "text/plain": [
       "<IPython.core.display.Image object>"
      ]
     },
     "metadata": {},
     "output_type": "display_data"
    }
   ],
   "source": [
    "c1 = ROOT.TCanvas(\"cresponse1\", \"cresponse1\")\n",
    "response.Draw(\"colz\")\n",
    "c1.Draw()"
   ]
  },
  {
   "cell_type": "code",
   "execution_count": 129,
   "metadata": {},
   "outputs": [],
   "source": [
    "#### In MC :"
   ]
  },
  {
   "cell_type": "code",
   "execution_count": 130,
   "metadata": {},
   "outputs": [
    {
     "name": "stderr",
     "output_type": "stream",
     "text": [
      "Warning in <TCanvas::Constructor>: Deleting canvas with same name: MCcompare\n"
     ]
    },
    {
     "data": {
      "image/png": "[encoded data removed]",
      "text/plain": [
       "<IPython.core.display.Image object>"
      ]
     },
     "metadata": {},
     "output_type": "display_data"
    }
   ],
   "source": [
    "c2 = ROOT.TCanvas(\"MCcompare\", \"MCcompare\")\n",
    "histMgenMC.Draw('e')\n",
    "histMdetMC.Draw('e same')\n",
    "c2.Draw()"
   ]
  },
  {
   "cell_type": "markdown",
   "metadata": {
    "collapsed": true
   },
   "source": [
    "#### In Data:"
   ]
  },
  {
   "cell_type": "code",
   "execution_count": 131,
   "metadata": {},
   "outputs": [
    {
     "name": "stdout",
     "output_type": "stream",
     "text": [
      "getting tunfolder:\n"
     ]
    },
    {
     "name": "stderr",
     "output_type": "stream",
     "text": [
      "Info in <TUnfold::SetConstraint>: fConstraint=0\n",
      "Info in <TUnfold::TUnfold>: underflow and overflow bin do not depend on the input data\n",
      "Info in <TUnfold::TUnfold>: 35 input bins and 18 output bins\n",
      "Info in <TUnfoldDensity::TUnfold>: *NOT* unfolding bin #0 (yaxis:#tau_{1}^{1}(gen)[ufl])\n",
      "Info in <TUnfoldDensity::TUnfold>: *NOT* unfolding bin #19 (yaxis:#tau_{1}^{1}(gen)[ofl])\n",
      "Info in <TUnfoldDensity::RegularizeOneDistribution>: regularizing yaxis regMode=3 densityMode=1 axisSteering=*[UOB]\n"
     ]
    }
   ],
   "source": [
    "print 'getting tunfolder:'\n",
    "tunfolder = ROOT.TUnfoldDensity(response,ROOT.TUnfold.kHistMapOutputVert,ROOT.TUnfold.kRegModeCurvature, ROOT.TUnfold.kEConstraintNone, ROOT.TUnfoldDensity.kDensityModeBinWidth)"
   ]
  },
  {
   "cell_type": "code",
   "execution_count": 132,
   "metadata": {
    "scrolled": false
   },
   "outputs": [
    {
     "name": "stderr",
     "output_type": "stream",
     "text": [
      "Warning in <TCanvas::Constructor>: Deleting canvas with same name: datadists\n"
     ]
    },
    {
     "data": {
      "image/png": "[encoded data removed]",
      "text/plain": [
       "<IPython.core.display.Image object>"
      ]
     },
     "metadata": {},
     "output_type": "display_data"
    }
   ],
   "source": [
    "c3 = ROOT.TCanvas(\"datadists\", \"datadists\")\n",
    "histMgenData.Draw('e')\n",
    "histMdetData.Draw('e same')\n",
    "c3.Draw()"
   ]
  },
  {
   "cell_type": "markdown",
   "metadata": {
    "collapsed": true
   },
   "source": [
    "Set the input, a 1D reconstructed histogram from either MC (closure) or Data (measurement) , binned in the detector level binning."
   ]
  },
  {
   "cell_type": "code",
   "execution_count": 133,
   "metadata": {},
   "outputs": [
    {
     "name": "stdout",
     "output_type": "stream",
     "text": [
      "setting reco input\n"
     ]
    },
    {
     "data": {
      "text/plain": [
       "10005"
      ]
     },
     "execution_count": 133,
     "metadata": {},
     "output_type": "execute_result"
    },
    {
     "name": "stderr",
     "output_type": "stream",
     "text": [
      "Warning in <TUnfoldDensity::SetInput>: 5/35 input bins have zero error, and are ignored.\n",
      "Warning in <TUnfoldDensity::SetInput>: no data to constrain output bin #18 (yaxis:#tau_{1}^{1}(gen)[0.625,0.64])\n",
      "Error in <TUnfoldDensity::SetInput>: One output bins is not constrained by any data.\n"
     ]
    }
   ],
   "source": [
    "print 'setting reco input'\n",
    "tunfolder.SetInput( histMdetData )"
   ]
  },
  {
   "cell_type": "markdown",
   "metadata": {},
   "source": [
    "Unfold nScan times with values for the regularization parameter between tauMin and tauMax using the empty TSplines to store the results."
   ]
  },
  {
   "cell_type": "code",
   "execution_count": 111,
   "metadata": {
    "scrolled": true
   },
   "outputs": [
    {
     "name": "stdout",
     "output_type": "stream",
     "text": [
      "regularizing\n",
      "doing the unfolding\n",
      "getting the results\n"
     ]
    },
    {
     "name": "stderr",
     "output_type": "stream",
     "text": [
      "Info in <TUnfoldDensity::ScanLcurve>: logtau=-Infinity X=1.162957 Y=8.381455\n",
      "Info in <TUnfoldDensity::ScanLcurve>: logtau=-3.496118 X=1.217467 Y=8.249957\n",
      "Info in <TUnfoldDensity::ScanLcurve>: logtau=-3.996118 X=1.165502 Y=8.346738\n",
      "Info in <TUnfoldDensity::ScanLcurve>: logtau=-3.746118 X=1.177255 Y=8.305053\n",
      "Info in <TUnfoldDensity::ScanLcurve>: logtau=-3.621118 X=1.192003 Y=8.278627\n",
      "Info in <TUnfoldDensity::ScanLcurve>: logtau=-3.871118 X=1.169309 Y=8.328254\n",
      "Info in <TUnfoldDensity::ScanLcurve>: logtau=-3.558618 X=1.203071 Y=8.264561\n",
      "Info in <TUnfoldDensity::ScanLcurve>: logtau=-3.683618 X=1.183576 Y=8.292153\n",
      "Info in <TUnfoldDensity::ScanLcurve>: logtau=-3.808618 X=1.172617 Y=8.317157\n",
      "Info in <TUnfoldDensity::ScanLcurve>: logtau=-3.527368 X=1.209804 Y=8.257328\n",
      "Info in <TUnfoldDensity::ScanLcurve>: logtau=-3.933618 X=1.167027 Y=8.338153\n",
      "Info in <TUnfoldDensity::ScanLcurve>: logtau=-3.589868 X=1.197167 Y=8.271660\n",
      "Info in <TUnfoldDensity::ScanLcurve>: logtau=-3.652368 X=1.187496 Y=8.285461\n",
      "Info in <TUnfoldDensity::ScanLcurve>: logtau=-3.714868 X=1.180181 Y=8.298690\n",
      "Info in <TUnfoldDensity::ScanLcurve>: logtau=-3.777368 X=1.174749 Y=8.311217\n",
      "Info in <TUnfoldDensity::ScanLcurve>: logtau=-3.839868 X=1.170817 Y=8.322845\n",
      "Info in <TUnfoldDensity::ScanLcurve>: logtau=-3.511743 X=1.213513 Y=8.253660\n",
      "Info in <TUnfoldDensity::ScanLcurve>: logtau=-3.902368 X=1.168058 Y=8.333362\n",
      "Info in <TUnfoldDensity::ScanLcurve>: logtau=-3.542993 X=1.206327 Y=8.260961\n",
      "Info in <TUnfoldDensity::ScanLcurve>: logtau=-3.574243 X=1.200021 Y=8.268127\n",
      "Info in <TUnfoldDensity::ScanLcurve>: logtau=-3.964868 X=1.166184 Y=8.342613\n",
      "Info in <TUnfoldDensity::ScanLcurve>: logtau=-3.605493 X=1.194498 Y=8.275160\n",
      "Info in <TUnfoldDensity::ScanLcurve>: logtau=-3.636743 X=1.189672 Y=8.282061\n",
      "Info in <TUnfoldDensity::ScanLcurve>: logtau=-3.667993 X=1.185467 Y=8.288825\n",
      "Info in <TUnfoldDensity::ScanLcurve>: logtau=-3.699243 X=1.181817 Y=8.295442\n",
      "Info in <TUnfoldDensity::ScanLcurve>: logtau=-3.730493 X=1.178663 Y=8.301895\n",
      "Info in <TUnfoldDensity::ScanLcurve>: logtau=-3.761743 X=1.175953 Y=8.308162\n",
      "Info in <TUnfoldDensity::ScanLcurve>: logtau=-3.792993 X=1.173639 Y=8.314217\n",
      "Info in <TUnfoldDensity::ScanLcurve>: logtau=-3.824243 X=1.171678 Y=8.320034\n",
      "Info in <TUnfoldDensity::ScanLcurve>: logtau=-3.855493 X=1.170029 Y=8.325585\n",
      "Info in <TUnfoldDensity::ScanLcurve>: logtau=-3.503930 X=1.215459 Y=8.251813\n",
      "Info in <TUnfoldDensity::ScanLcurve>: logtau=-3.886743 X=1.168654 Y=8.330847\n",
      "Info in <TUnfoldDensity::ScanLcurve>: logtau=-3.519555 X=1.211628 Y=8.255498\n",
      "Info in <TUnfoldDensity::ScanLcurve>: logtau=-3.535180 X=1.208037 Y=8.259149\n",
      "Info in <TUnfoldDensity::ScanLcurve>: logtau=-3.917993 X=1.167516 Y=8.335798\n",
      "Info in <TUnfoldDensity::ScanLcurve>: logtau=-3.550805 X=1.204672 Y=8.262765\n",
      "Info in <TUnfoldDensity::ScanLcurve>: logtau=-3.566430 X=1.201521 Y=8.266348\n",
      "Info in <TUnfoldDensity::ScanLcurve>: logtau=-3.582055 X=1.198570 Y=8.269898\n",
      "Info in <TUnfoldDensity::ScanLcurve>: logtau=-3.949243 X=1.166584 Y=8.340425\n",
      "Info in <TUnfoldDensity::ScanLcurve>: logtau=-3.597680 X=1.195810 Y=8.273414\n",
      "Info in <TUnfoldDensity::ScanLcurve>: logtau=-3.613305 X=1.193229 Y=8.276898\n",
      "Info in <TUnfoldDensity::ScanLcurve>: logtau=-3.980493 X=1.165825 Y=8.344718\n",
      "Info in <TUnfoldDensity::ScanLcurve>: logtau=-3.628930 X=1.190817 Y=8.280348\n",
      "Info in <TUnfoldDensity::ScanLcurve>: logtau=-3.644555 X=1.188565 Y=8.283765\n",
      "Info in <TUnfoldDensity::ScanLcurve>: logtau=-3.660180 X=1.186464 Y=8.287147\n",
      "Info in <TUnfoldDensity::ScanLcurve>: logtau=-3.675805 X=1.184505 Y=8.290494\n",
      "Info in <TUnfoldDensity::ScanLcurve>: logtau=-3.691430 X=1.182681 Y=8.293802\n",
      "Info in <TUnfoldDensity::ScanLcurve>: logtau=-3.707055 X=1.180984 Y=8.297071\n",
      "Info in <TUnfoldDensity::ScanLcurve>: logtau=-3.722680 X=1.179408 Y=8.300298\n",
      "Info in <TUnfoldDensity::ScanLcurve>: logtau=-3.738305 X=1.177946 Y=8.303480\n",
      "Info in <TUnfoldDensity::ScanLcurve>: Result logtau=-3.683931 X=1.183540 Y=8.292219\n",
      "Warning in <TFile::Append>: Replacing existing TH1: unfolded (Potential memory leak).\n"
     ]
    }
   ],
   "source": [
    "print 'regularizing'\n",
    "nScan=50\n",
    "tauMin=-5.0\n",
    "tauMax=10.0\n",
    "iBest=0\n",
    "\n",
    "logTauX = ROOT.MakeNullPointer(ROOT.TSpline)\n",
    "logTauY = ROOT.MakeNullPointer(ROOT.TSpline)\n",
    "lCurve = ROOT.MakeNullPointer(ROOT.TGraph)\n",
    "\n",
    "print 'doing the unfolding'\n",
    "tunfolder.ScanLcurve(nScan,tauMin,tauMax,lCurve,logTauX,logTauY);\n",
    "print 'getting the results'\n",
    "unfolded = tunfolder.GetOutput(\"unfolded\")"
   ]
  },
  {
   "cell_type": "code",
   "execution_count": 112,
   "metadata": {
    "scrolled": false
   },
   "outputs": [
    {
     "name": "stderr",
     "output_type": "stream",
     "text": [
      "Warning in <TCanvas::Constructor>: Deleting canvas with same name: c5\n"
     ]
    },
    {
     "data": {
      "image/png": "[encoded data removed]",
      "text/plain": [
       "<IPython.core.display.Image object>"
      ]
     },
     "metadata": {},
     "output_type": "display_data"
    }
   ],
   "source": [
    "c5 = ROOT.TCanvas('c5', 'c5')\n",
    "unfolded.SetMarkerStyle(22)\n",
    "unfolded.SetMarkerColor(4)\n",
    "unfolded.SetFillColor(0)\n",
    "histMgenData.SetMarkerStyle(4)\n",
    "histMgenData.SetMarkerColor(2)\n",
    "histMgenData.SetOption(\"E\")\n",
    "histMgenData.SetLineColor(2)\n",
    "\n",
    "hs = ROOT.THStack(\"hs\", \"hs\")\n",
    "hs.Add( histMgenData, \"E HIST\")\n",
    "hs.Add( unfolded, \"E\")\n",
    "hs.Draw(\"nostack\")\n",
    "c5.Draw()"
   ]
  },
  {
   "cell_type": "code",
   "execution_count": null,
   "metadata": {},
   "outputs": [],
   "source": []
  },
  {
   "cell_type": "markdown",
   "metadata": {},
   "source": [
    "# Unfold $\\tau_1^{(2)}$"
   ]
  },
  {
   "cell_type": "markdown",
   "metadata": {
    "collapsed": true
   },
   "source": [
    "Get the response matrix and input 1D distributions for unfolding."
   ]
  },
  {
   "cell_type": "code",
   "execution_count": 109,
   "metadata": {
    "scrolled": true
   },
   "outputs": [
    {
     "name": "stdout",
     "output_type": "stream",
     "text": [
      "0.4229806959629059\n",
      "0.427227258682251\n",
      "0.40370994806289673\n",
      "0.3995612561702728\n"
     ]
    }
   ],
   "source": [
    "#print np.min(TT16gen_nSub_basis[:,2])\n",
    "#print np.min(TT16reco_nSub_basis[:,2])\n",
    "print np.max(TT16gen_nSub_basis[:,2])\n",
    "print np.max(TT16reco_nSub_basis[:,2])\n",
    "\n",
    "#print np.min(TT16data_nSub_basis[:,2])\n",
    "print np.max(TT16data_nSub_basis[:,2])\n",
    "#print np.min(TT16truth_nSub_basis[:,2])\n",
    "print np.max(TT16truth_nSub_basis[:,2])\n",
    "\n"
   ]
  },
  {
   "cell_type": "markdown",
   "metadata": {
    "collapsed": true
   },
   "source": [
    "#### Set the axis ranges for the generator nd detector level distributions as well as the number of bins in each. Note that we want twice as many detector bins as generator level bins as recommended by the TUnfold documenation "
   ]
  },
  {
   "cell_type": "code",
   "execution_count": 123,
   "metadata": {},
   "outputs": [
    {
     "name": "stdout",
     "output_type": "stream",
     "text": [
      "[0.    0.025 0.05  0.075 0.1   0.125 0.15  0.175 0.2   0.225 0.25  0.275\n",
      " 0.3   0.325 0.35  0.39  0.43 ] 17\n",
      "[0.     0.0125 0.025  0.0375 0.05   0.0625 0.075  0.0875 0.1    0.1125\n",
      " 0.125  0.1375 0.15   0.1625 0.175  0.1875 0.2    0.2125 0.225  0.2375\n",
      " 0.25   0.2625 0.275  0.2875 0.3    0.3125 0.325  0.3375 0.35   0.38\n",
      " 0.41   0.43  ] 32\n"
     ]
    }
   ],
   "source": [
    "nDet=24\n",
    "nGen=12\n",
    "\n",
    "gen_bins = [x for x in np.linspace(num=15, start=0., stop=0.35)]\n",
    "#print gen_bins\n",
    "gen_bins = np.concatenate((gen_bins, np.array([0.39,0.43])))\n",
    "print gen_bins, gen_bins.shape[0]\n",
    "\n",
    "det_bins = [x for x in np.linspace(num=29, start=0., stop=0.35)]\n",
    "#print det_bins\n",
    "det_bins = np.concatenate((det_bins, np.array([0.38,0.41,0.43])))\n",
    "print det_bins, det_bins.shape[0]\n",
    "#nt_t  binnum = sizeof(bins)/sizeof(Float_t) - 1; // or just = 9\n",
    "#TH1F* h = new TH1F(\"n\",\"t\", binnum, bins);\n",
    "\n",
    "xminDet=0.\n",
    "xmaxDet=0.43\n",
    "xminGen=0.\n",
    "xmaxGen=0.43\n",
    "#weight_TT16 = (831.76*lumi*1000.)/10199051.*np.ones(TT16_beta4W.shape[0])*TT16_puWeight*TT16_btagWeight*0.8\n"
   ]
  },
  {
   "cell_type": "code",
   "execution_count": 124,
   "metadata": {},
   "outputs": [
    {
     "name": "stderr",
     "output_type": "stream",
     "text": [
      "Warning in <TFile::Append>: Replacing existing TH1: histMgenMC (Potential memory leak).\n",
      "Warning in <TFile::Append>: Replacing existing TH1: histMdetMC (Potential memory leak).\n",
      "Warning in <TFile::Append>: Replacing existing TH1: histMgenData (Potential memory leak).\n",
      "Warning in <TFile::Append>: Replacing existing TH1: histMdetData (Potential memory leak).\n",
      "Warning in <TFile::Append>: Replacing existing TH1: response (Potential memory leak).\n"
     ]
    }
   ],
   "source": [
    "ROOT.TH1.SetDefaultSumw2()\n",
    "from root_numpy import *\n",
    "\n",
    "histMgenMC = ROOT.TH1D(\"histMgenMC\", \"histMgenMC; #tau_{1}^{2}; Events/(0.02)\",  gen_bins.shape[0]-1, (gen_bins))\n",
    "fill_hist(histMgenMC, TT16gen_nSub_basis[:,2])\n",
    "\n",
    "histMdetMC = ROOT.TH1D(\"histMdetMC\", \"histMdetMC; #tau_{1}^{2}; Events/(0.02)\", det_bins.shape[0]-1, (det_bins))\n",
    "fill_hist(histMdetMC, TT16reco_nSub_basis[:,2])\n",
    "\n",
    "histMgenData = ROOT.TH1D(\"histMgenData\", \"histMgenData; #tau_{1}^{2}; Events/(0.02)\", gen_bins.shape[0]-1, (gen_bins))\n",
    "fill_hist(histMgenData, TT16truth_nSub_basis[:,2])\n",
    "\n",
    "histMdetData = ROOT.TH1D(\"histMdetData\", \"histMdetData; #tau_{1}^{2}; Events/(0.02)\", det_bins.shape[0]-1, (det_bins))\n",
    "fill_hist(histMdetData, TT16data_nSub_basis[:,2])\n",
    "\n",
    "\n",
    "response = ROOT.TH2D('response', 'response', det_bins.shape[0]-1, det_bins, gen_bins.shape[0]-1, gen_bins)\n",
    "hist2Dfill = np.zeros((TT16reco_nSub_basis[:,2].shape[0], 2))\n",
    "hist2Dfill[:,0] = TT16reco_nSub_basis[:,2].flatten()\n",
    "hist2Dfill[:,1] = TT16gen_nSub_basis[:,2].flatten()\n",
    "fill_hist(response, hist2Dfill)"
   ]
  },
  {
   "cell_type": "raw",
   "metadata": {},
   "source": [
    "xaxis =  array.array('d',[a for a in xrange(nmbinsGen *nptbinsGen + 1 )])\n",
    "nx = len(xaxis)-1\n",
    "\n",
    "print xaxis\n",
    "\n",
    "yaxis =  array.array('d',[a for a in xrange(nmbinsDet *nptbinsDet+1 )])\n",
    "ny = len(yaxis)-1\n",
    "\n",
    "print yaxis\n",
    "\n",
    "h_response = ROOT.TH2D('h_response',   'h_response', nx , xaxis, ny, yaxis )\n",
    "#print h_response2.GetXaxis.GetNbins()\n",
    "print nx\n",
    "print ny\n",
    "nb = nx*ny\n",
    "print nb"
   ]
  },
  {
   "cell_type": "raw",
   "metadata": {
    "collapsed": true
   },
   "source": [
    "response =ROOT.gDirectory.Get(\"response\")\n",
    "histMgenMC=ROOT.gDirectory.Get(\"histMgenMC\")\n",
    "histMdetMC=ROOT.gDirectory.Get(\"histMdetMC\")\n",
    "histMgenData=ROOT.gDirectory.Get(\"histMgenData\")\n",
    "histMdetData=ROOT.gDirectory.Get(\"histMdetData\")"
   ]
  },
  {
   "cell_type": "markdown",
   "metadata": {
    "collapsed": true
   },
   "source": [
    "Set the X and Y axis labels"
   ]
  },
  {
   "cell_type": "code",
   "execution_count": 125,
   "metadata": {},
   "outputs": [],
   "source": [
    "response.SetTitle(\";#tau_{1}^{2}(det);#tau_{1}^{2}(gen)\")\n",
    "\n",
    "\n",
    "histMgenMC.SetTitle(\";#tau_{1}^{2}(gen)\")\n",
    "#histMgenMC.SetFillColor(ROOT.kRed)\n",
    "#histMgenMC.SetLineColor(ROOT.kRed)\n",
    "\n",
    "histMdetMC.SetTitle(\";#tau_{1}^{2}(det)\")\n",
    "#histMdetMC.SetFillColor(ROOT.kBlue)\n",
    "#histMdetMC.SetLineColor(ROOT.kBlue)\n",
    "\n",
    "\n",
    "histMgenData.SetTitle(\";#tau_{1}^{2}(gen)\")\n",
    "#histMgenData.SetFillColor(ROOT.kGreen+2)\n",
    "#histMgenData.SetLineColor(ROOT.kGreen+2)\n",
    "\n",
    "histMdetData.SetTitle(\";#tau_{1}^{2}(det)\")\n",
    "#histMdetData.SetFillColor(ROOT.kBlack)\n",
    "#histMdetData.SetLineColor(ROOT.kBlack)"
   ]
  },
  {
   "cell_type": "markdown",
   "metadata": {
    "collapsed": true
   },
   "source": [
    "Draw the variables at reco and gen level and for \"data\""
   ]
  },
  {
   "cell_type": "code",
   "execution_count": 126,
   "metadata": {},
   "outputs": [
    {
     "data": {
      "image/png": "[encoded data removed]",
      "text/plain": [
       "<IPython.core.display.Image object>"
      ]
     },
     "metadata": {},
     "output_type": "display_data"
    }
   ],
   "source": [
    "c1 = ROOT.TCanvas(\"chistMgenMC1\", \"chistMgenMC1\")\n",
    "histMgenMC.Draw(\"e\")\n",
    "histMdetMC.Draw(\"e same\")\n",
    "c1.Draw()"
   ]
  },
  {
   "cell_type": "code",
   "execution_count": 127,
   "metadata": {},
   "outputs": [
    {
     "name": "stderr",
     "output_type": "stream",
     "text": [
      "Warning in <TCanvas::Constructor>: Deleting canvas with same name: chistMgenMC1\n"
     ]
    },
    {
     "data": {
      "image/png": "[encoded data removed]",
      "text/plain": [
       "<IPython.core.display.Image object>"
      ]
     },
     "metadata": {},
     "output_type": "display_data"
    }
   ],
   "source": [
    "c1 = ROOT.TCanvas(\"chistMgenMC1\", \"chistMgenMC1\")\n",
    "histMgenData.Draw(\"e\")\n",
    "histMdetData.Draw(\"e same\")\n",
    "c1.Draw()"
   ]
  },
  {
   "cell_type": "markdown",
   "metadata": {
    "collapsed": true
   },
   "source": [
    "Draw the response matrix."
   ]
  },
  {
   "cell_type": "code",
   "execution_count": 128,
   "metadata": {
    "scrolled": false
   },
   "outputs": [
    {
     "data": {
      "image/png": "[encoded data removed]",
      "text/plain": [
       "<IPython.core.display.Image object>"
      ]
     },
     "metadata": {},
     "output_type": "display_data"
    }
   ],
   "source": [
    "c1 = ROOT.TCanvas(\"cresponse1\", \"cresponse1\")\n",
    "response.Draw(\"colz\")\n",
    "c1.Draw()"
   ]
  },
  {
   "cell_type": "code",
   "execution_count": 129,
   "metadata": {},
   "outputs": [],
   "source": [
    "#### In MC :"
   ]
  },
  {
   "cell_type": "code",
   "execution_count": 130,
   "metadata": {},
   "outputs": [
    {
     "name": "stderr",
     "output_type": "stream",
     "text": [
      "Warning in <TCanvas::Constructor>: Deleting canvas with same name: MCcompare\n"
     ]
    },
    {
     "data": {
      "image/png": "[encoded data removed]",
      "text/plain": [
       "<IPython.core.display.Image object>"
      ]
     },
     "metadata": {},
     "output_type": "display_data"
    }
   ],
   "source": [
    "c2 = ROOT.TCanvas(\"MCcompare\", \"MCcompare\")\n",
    "histMgenMC.Draw('e')\n",
    "histMdetMC.Draw('e same')\n",
    "c2.Draw()"
   ]
  },
  {
   "cell_type": "markdown",
   "metadata": {
    "collapsed": true
   },
   "source": [
    "#### In Data:"
   ]
  },
  {
   "cell_type": "code",
   "execution_count": 131,
   "metadata": {
    "scrolled": false
   },
   "outputs": [
    {
     "name": "stderr",
     "output_type": "stream",
     "text": [
      "Warning in <TCanvas::Constructor>: Deleting canvas with same name: datadists\n"
     ]
    },
    {
     "data": {
      "image/png": "[encoded data removed]",
      "text/plain": [
       "<IPython.core.display.Image object>"
      ]
     },
     "metadata": {},
     "output_type": "display_data"
    }
   ],
   "source": [
    "c3 = ROOT.TCanvas(\"datadists\", \"datadists\")\n",
    "histMgenData.Draw('e')\n",
    "histMdetData.Draw('e same')\n",
    "c3.Draw()"
   ]
  },
  {
   "cell_type": "code",
   "execution_count": 132,
   "metadata": {},
   "outputs": [
    {
     "name": "stdout",
     "output_type": "stream",
     "text": [
      "getting tunfolder:\n"
     ]
    },
    {
     "name": "stderr",
     "output_type": "stream",
     "text": [
      "Info in <TUnfold::SetConstraint>: fConstraint=0\n",
      "Info in <TUnfold::TUnfold>: underflow and overflow bin do not depend on the input data\n",
      "Info in <TUnfold::TUnfold>: 31 input bins and 16 output bins\n",
      "Info in <TUnfoldDensity::TUnfold>: *NOT* unfolding bin #0 (yaxis:#tau_{1}^{2}(gen)[ufl])\n",
      "Info in <TUnfoldDensity::TUnfold>: *NOT* unfolding bin #17 (yaxis:#tau_{1}^{2}(gen)[ofl])\n",
      "Info in <TUnfoldDensity::RegularizeOneDistribution>: regularizing yaxis regMode=3 densityMode=1 axisSteering=*[UOB]\n"
     ]
    }
   ],
   "source": [
    "print 'getting tunfolder:'\n",
    "tunfolder = ROOT.TUnfoldDensity(response,ROOT.TUnfold.kHistMapOutputVert,ROOT.TUnfold.kRegModeCurvature, ROOT.TUnfold.kEConstraintNone, ROOT.TUnfoldDensity.kDensityModeBinWidth)"
   ]
  },
  {
   "cell_type": "markdown",
   "metadata": {
    "collapsed": true
   },
   "source": [
    "Set the input, a 1D reconstructed histogram from either MC (closure) or Data (measurement) , binned in the detector level binning."
   ]
  },
  {
   "cell_type": "code",
   "execution_count": 133,
   "metadata": {},
   "outputs": [
    {
     "name": "stdout",
     "output_type": "stream",
     "text": [
      "setting reco input\n"
     ]
    },
    {
     "data": {
      "text/plain": [
       "2"
      ]
     },
     "execution_count": 133,
     "metadata": {},
     "output_type": "execute_result"
    },
    {
     "name": "stderr",
     "output_type": "stream",
     "text": [
      "Warning in <TUnfoldDensity::SetInput>: 2/31 input bins have zero error, and are ignored.\n"
     ]
    }
   ],
   "source": [
    "print 'setting reco input'\n",
    "tunfolder.SetInput( histMdetData )"
   ]
  },
  {
   "cell_type": "markdown",
   "metadata": {},
   "source": [
    "Unfold nScan times with values for the regularization parameter between tauMin and tauMax using the empty TSplines to store the results."
   ]
  },
  {
   "cell_type": "code",
   "execution_count": 134,
   "metadata": {
    "scrolled": true
   },
   "outputs": [
    {
     "name": "stdout",
     "output_type": "stream",
     "text": [
      "regularizing\n",
      "doing the unfolding\n",
      "getting the results\n"
     ]
    },
    {
     "name": "stderr",
     "output_type": "stream",
     "text": [
      "Info in <TUnfoldDensity::ScanLcurve>: logtau=-Infinity X=1.384947 Y=8.726235\n",
      "Info in <TUnfoldDensity::ScanLcurve>: logtau=-3.588076 X=1.457714 Y=8.357608\n",
      "Info in <TUnfoldDensity::ScanLcurve>: logtau=-4.088076 X=1.391361 Y=8.606994\n",
      "Info in <TUnfoldDensity::ScanLcurve>: logtau=-4.588076 X=1.385060 Y=8.709978\n",
      "Info in <TUnfoldDensity::ScanLcurve>: logtau=-3.838076 X=1.413325 Y=8.481002\n",
      "Info in <TUnfoldDensity::ScanLcurve>: logtau=-3.713076 X=1.433344 Y=8.413770\n",
      "Info in <TUnfoldDensity::ScanLcurve>: logtau=-3.963076 X=1.399360 Y=8.549034\n",
      "Info in <TUnfoldDensity::ScanLcurve>: logtau=-4.338076 X=1.385902 Y=8.679573\n",
      "Info in <TUnfoldDensity::ScanLcurve>: logtau=-4.213076 X=1.387518 Y=8.650183\n",
      "Info in <TUnfoldDensity::ScanLcurve>: logtau=-3.775576 X=1.422664 Y=8.446509\n",
      "Info in <TUnfoldDensity::ScanLcurve>: logtau=-3.900576 X=1.405535 Y=8.515699\n",
      "Info in <TUnfoldDensity::ScanLcurve>: logtau=-3.650576 X=1.445096 Y=8.383955\n",
      "Info in <TUnfoldDensity::ScanLcurve>: logtau=-4.025576 X=1.394707 Y=8.579736\n",
      "Info in <TUnfoldDensity::ScanLcurve>: logtau=-4.150576 X=1.389054 Y=8.630467\n",
      "Info in <TUnfoldDensity::ScanLcurve>: logtau=-3.806826 X=1.417811 Y=8.463628\n",
      "Info in <TUnfoldDensity::ScanLcurve>: logtau=-3.869326 X=1.409228 Y=8.498427\n",
      "Info in <TUnfoldDensity::ScanLcurve>: logtau=-3.744326 X=1.427853 Y=8.429834\n",
      "Info in <TUnfoldDensity::ScanLcurve>: logtau=-3.931826 X=1.402248 Y=8.532626\n",
      "Info in <TUnfoldDensity::ScanLcurve>: logtau=-3.681826 X=1.439102 Y=8.398447\n",
      "Info in <TUnfoldDensity::ScanLcurve>: logtau=-3.994326 X=1.396855 Y=8.564777\n",
      "Info in <TUnfoldDensity::ScanLcurve>: logtau=-4.463076 X=1.385283 Y=8.698406\n",
      "Info in <TUnfoldDensity::ScanLcurve>: logtau=-4.275576 X=1.386527 Y=8.666418\n",
      "Info in <TUnfoldDensity::ScanLcurve>: logtau=-3.619326 X=1.451304 Y=8.370341\n",
      "Info in <TUnfoldDensity::ScanLcurve>: logtau=-4.056826 X=1.392887 Y=8.593827\n",
      "Info in <TUnfoldDensity::ScanLcurve>: logtau=-4.119326 X=1.390095 Y=8.619209\n",
      "Info in <TUnfoldDensity::ScanLcurve>: logtau=-4.181826 X=1.388205 Y=8.640782\n",
      "Info in <TUnfoldDensity::ScanLcurve>: logtau=-4.400576 X=1.385517 Y=8.690090\n",
      "Info in <TUnfoldDensity::ScanLcurve>: logtau=-3.822451 X=1.415520 Y=8.472295\n",
      "Info in <TUnfoldDensity::ScanLcurve>: logtau=-3.853701 X=1.411227 Y=8.489720\n",
      "Info in <TUnfoldDensity::ScanLcurve>: logtau=-3.791201 X=1.420193 Y=8.455024\n",
      "Info in <TUnfoldDensity::ScanLcurve>: logtau=-3.884951 X=1.407331 Y=8.507094\n",
      "Info in <TUnfoldDensity::ScanLcurve>: logtau=-3.759951 X=1.425219 Y=8.438105\n",
      "Info in <TUnfoldDensity::ScanLcurve>: logtau=-3.916201 X=1.403841 Y=8.524217\n",
      "Info in <TUnfoldDensity::ScanLcurve>: logtau=-3.728701 X=1.430563 Y=8.421717\n",
      "Info in <TUnfoldDensity::ScanLcurve>: logtau=-3.947451 X=1.400755 Y=8.540905\n",
      "Info in <TUnfoldDensity::ScanLcurve>: logtau=-3.697451 X=1.436192 Y=8.406009\n",
      "Info in <TUnfoldDensity::ScanLcurve>: logtau=-4.244326 X=1.386967 Y=8.658713\n",
      "Info in <TUnfoldDensity::ScanLcurve>: logtau=-3.978701 X=1.398061 Y=8.556997\n",
      "Info in <TUnfoldDensity::ScanLcurve>: logtau=-3.666201 X=1.442071 Y=8.391093\n",
      "Info in <TUnfoldDensity::ScanLcurve>: logtau=-4.009951 X=1.395738 Y=8.572360\n",
      "Info in <TUnfoldDensity::ScanLcurve>: logtau=-3.634951 X=1.448174 Y=8.377038\n",
      "Info in <TUnfoldDensity::ScanLcurve>: logtau=-3.603701 X=1.454484 Y=8.363866\n",
      "Info in <TUnfoldDensity::ScanLcurve>: logtau=-4.041201 X=1.393758 Y=8.586895\n",
      "Info in <TUnfoldDensity::ScanLcurve>: logtau=-4.072451 X=1.392089 Y=8.600529\n",
      "Info in <TUnfoldDensity::ScanLcurve>: logtau=-4.306826 X=1.386178 Y=8.673353\n",
      "Info in <TUnfoldDensity::ScanLcurve>: logtau=-4.103701 X=1.390698 Y=8.613222\n",
      "Info in <TUnfoldDensity::ScanLcurve>: logtau=-4.525576 X=1.385143 Y=8.704919\n",
      "Info in <TUnfoldDensity::ScanLcurve>: logtau=-4.134951 X=1.389548 Y=8.624957\n",
      "Info in <TUnfoldDensity::ScanLcurve>: logtau=-4.369326 X=1.385686 Y=8.685133\n",
      "Info in <TUnfoldDensity::ScanLcurve>: logtau=-4.166201 X=1.388607 Y=8.635740\n",
      "Info in <TUnfoldDensity::ScanLcurve>: Result logtau=-3.627139 X=1.449732 Y=8.373662\n",
      "Warning in <TFile::Append>: Replacing existing TH1: unfolded (Potential memory leak).\n"
     ]
    }
   ],
   "source": [
    "print 'regularizing'\n",
    "nScan=50\n",
    "tauMin=0.0\n",
    "tauMax=0.0\n",
    "iBest=0\n",
    "\n",
    "logTauX = ROOT.MakeNullPointer(ROOT.TSpline)\n",
    "logTauY = ROOT.MakeNullPointer(ROOT.TSpline)\n",
    "lCurve = ROOT.MakeNullPointer(ROOT.TGraph)\n",
    "\n",
    "print 'doing the unfolding'\n",
    "tunfolder.ScanLcurve(nScan,tauMin,tauMax,lCurve,logTauX,logTauY);\n",
    "print 'getting the results'\n",
    "unfolded = tunfolder.GetOutput(\"unfolded\")"
   ]
  },
  {
   "cell_type": "code",
   "execution_count": 148,
   "metadata": {},
   "outputs": [
    {
     "name": "stderr",
     "output_type": "stream",
     "text": [
      "Warning in <TCanvas::Constructor>: Deleting canvas with same name: c5\n"
     ]
    },
    {
     "data": {
      "image/png": "[encoded data removed]",
      "text/plain": [
       "<IPython.core.display.Image object>"
      ]
     },
     "metadata": {},
     "output_type": "display_data"
    }
   ],
   "source": [
    "c5 = ROOT.TCanvas('c5', 'c5')\n",
    "unfolded.SetMarkerStyle(22)\n",
    "unfolded.SetMarkerColor(4)\n",
    "unfolded.SetFillColor(0)\n",
    "histMgenData.SetMarkerStyle(4)\n",
    "histMgenData.SetMarkerColor(2)\n",
    "histMgenData.SetOption(\"E\")\n",
    "histMgenData.SetLineColor(2)\n",
    "\n",
    "hs = ROOT.THStack(\"hs\", \"hs\")\n",
    "hs.Add( histMgenData, \"E HIST\")\n",
    "hs.Add( unfolded, \"E\")\n",
    "hs.Draw(\"nostack\")\n",
    "c5.Draw()"
   ]
  },
  {
   "cell_type": "code",
   "execution_count": null,
   "metadata": {},
   "outputs": [],
   "source": []
  },
  {
   "cell_type": "markdown",
   "metadata": {},
   "source": [
    "# Unfold $\\tau_2^{(0.5)}$"
   ]
  },
  {
   "cell_type": "markdown",
   "metadata": {
    "collapsed": true
   },
   "source": [
    "#### Set the axis ranges for the generator nd detector level distributions as well as the number of bins in each. Note that we want twice as many detector bins as generator level bins as recommended by the TUnfold documenation "
   ]
  },
  {
   "cell_type": "markdown",
   "metadata": {
    "collapsed": true
   },
   "source": [
    "Get the response matrix and input 1D distributions for unfolding."
   ]
  },
  {
   "cell_type": "code",
   "execution_count": null,
   "metadata": {},
   "outputs": [],
   "source": [
    "print np.min(TT16gen_nSub_basis[:,3])\n",
    "print np.min(TT16reco_nSub_basis[:,3])\n",
    "print np.max(TT16gen_nSub_basis[:,3])\n",
    "print np.max(TT16reco_nSub_basis[:,3])"
   ]
  },
  {
   "cell_type": "code",
   "execution_count": null,
   "metadata": {},
   "outputs": [],
   "source": [
    "nDet=28\n",
    "nGen=14\n",
    "xminDet=0.0\n",
    "xmaxDet=0.65\n",
    "xminGen=0.0\n",
    "xmaxGen=0.65\n",
    "#weight_TT16 = (831.76*lumi*1000.)/10199051.*np.ones(TT16_beta4W.shape[0])*TT16_puWeight*TT16_btagWeight*0.8"
   ]
  },
  {
   "cell_type": "code",
   "execution_count": null,
   "metadata": {},
   "outputs": [],
   "source": [
    "ROOT.TH1.SetDefaultSumw2()\n",
    "from root_numpy import *\n",
    "\n",
    "histMgenMC = ROOT.TH1D(\"histMgenMC\", \"histMgenMC; #tau_{2}^{0.5}; Events/(0.02)\", nGen, xminGen,xmaxGen)\n",
    "fill_hist(histMgenMC, TT16gen_tau2_0p5)\n",
    "\n",
    "histMdetMC = ROOT.TH1D(\"histMdetMC\", \"histMdetMC; #tau_{2}^{0.5}; Events/(0.02)\", nDet, xminDet,xmaxDet)\n",
    "fill_hist(histMdetMC, TT16reco_tau2_0p5)\n",
    "\n",
    "histMgenData = ROOT.TH1D(\"histMgenData\", \"histMgenData; #tau_{2}^{0.5}; Events/(0.02)\", nGen, xminGen,xmaxGen)\n",
    "fill_hist(histMgenData, TT16truth_tau2_0p5)\n",
    "\n",
    "histMdetData = ROOT.TH1D(\"histMdetData\", \"histMdetData; #tau_{2}^{0.5}; Events/(0.02)\", nDet, xminDet,xmaxDet)\n",
    "fill_hist(histMdetData, TT16data_tau2_0p5)\n",
    "\n",
    "\n",
    "response = ROOT.TH2D('response', 'response', nDet, xminDet, xmaxDet, nGen, xminGen, xmaxGen)\n",
    "hist2Dfill = np.zeros((TT16reco_tau2_0p5.shape[0], 2))\n",
    "hist2Dfill[:,0] = TT16reco_tau2_0p5.flatten()\n",
    "hist2Dfill[:,1] = TT16gen_tau2_0p5.flatten()\n",
    "fill_hist(response, hist2Dfill)"
   ]
  },
  {
   "cell_type": "markdown",
   "metadata": {
    "collapsed": true
   },
   "source": [
    "Set the X and Y axis labels"
   ]
  },
  {
   "cell_type": "code",
   "execution_count": null,
   "metadata": {},
   "outputs": [],
   "source": [
    "response.SetTitle(\";#tau_{2}^{0.5}(det);#tau_{2}^{0.5}(gen)\")\n",
    "\n",
    "\n",
    "histMgenMC.SetTitle(\";#tau_{2}^{0.5}(gen)\")\n",
    "#histMgenMC.SetFillColor(ROOT.kRed)\n",
    "#histMgenMC.SetLineColor(ROOT.kRed)\n",
    "\n",
    "histMdetMC.SetTitle(\";#tau_{2}^{0.5}(det)\")\n",
    "#histMdetMC.SetFillColor(ROOT.kBlue)\n",
    "#histMdetMC.SetLineColor(ROOT.kBlue)\n",
    "\n",
    "\n",
    "histMgenData.SetTitle(\";#tau_{2}^{0.5}(gen)\")\n",
    "#histMgenData.SetFillColor(ROOT.kGreen+2)\n",
    "#histMgenData.SetLineColor(ROOT.kGreen+2)\n",
    "\n",
    "histMdetData.SetTitle(\";#tau_{2}^{0.5}(det)\")\n",
    "#histMdetData.SetFillColor(ROOT.kBlack)\n",
    "#histMdetData.SetLineColor(ROOT.kBlack)"
   ]
  },
  {
   "cell_type": "markdown",
   "metadata": {
    "collapsed": true
   },
   "source": [
    "Draw the variables at reco and gen level and for \"data\""
   ]
  },
  {
   "cell_type": "code",
   "execution_count": null,
   "metadata": {},
   "outputs": [],
   "source": [
    "c1 = ROOT.TCanvas(\"chistMgenMC1\", \"chistMgenMC1\")\n",
    "histMgenMC.Draw(\"e\")\n",
    "histMdetMC.Draw(\"e same\")\n",
    "c1.Draw()"
   ]
  },
  {
   "cell_type": "code",
   "execution_count": null,
   "metadata": {},
   "outputs": [],
   "source": [
    "c1 = ROOT.TCanvas(\"chistMgenMC1\", \"chistMgenMC1\")\n",
    "histMgenData.Draw(\"e\")\n",
    "histMdetData.Draw(\"e same\")\n",
    "c1.Draw()"
   ]
  },
  {
   "cell_type": "markdown",
   "metadata": {
    "collapsed": true
   },
   "source": [
    "Draw the response matrix."
   ]
  },
  {
   "cell_type": "code",
   "execution_count": null,
   "metadata": {
    "scrolled": false
   },
   "outputs": [],
   "source": [
    "c1 = ROOT.TCanvas(\"cresponse1\", \"cresponse1\")\n",
    "response.Draw(\"colz\")\n",
    "c1.Draw()"
   ]
  },
  {
   "cell_type": "code",
   "execution_count": null,
   "metadata": {},
   "outputs": [],
   "source": [
    "#### In MC :"
   ]
  },
  {
   "cell_type": "code",
   "execution_count": null,
   "metadata": {},
   "outputs": [],
   "source": [
    "c2 = ROOT.TCanvas(\"MCcompare\", \"MCcompare\")\n",
    "histMgenMC.Draw('e')\n",
    "histMdetMC.Draw('e same')\n",
    "c2.Draw()"
   ]
  },
  {
   "cell_type": "markdown",
   "metadata": {
    "collapsed": true
   },
   "source": [
    "#### In Data:"
   ]
  },
  {
   "cell_type": "code",
   "execution_count": null,
   "metadata": {},
   "outputs": [],
   "source": [
    "c3 = ROOT.TCanvas(\"datadists\", \"datadists\")\n",
    "histMgenData.Draw('e')\n",
    "histMdetData.Draw('e same')\n",
    "c3.Draw()"
   ]
  },
  {
   "cell_type": "code",
   "execution_count": null,
   "metadata": {},
   "outputs": [],
   "source": [
    "print 'getting tunfolder:'\n",
    "tunfolder = ROOT.TUnfoldDensity(response,ROOT.TUnfold.kHistMapOutputVert,ROOT.TUnfold.kRegModeCurvature, ROOT.TUnfold.kEConstraintNone, ROOT.TUnfoldDensity.kDensityModeBinWidth)"
   ]
  },
  {
   "cell_type": "markdown",
   "metadata": {
    "collapsed": true
   },
   "source": [
    "Set the input, a 1D reconstructed histogram from either MC (closure) or Data (measurement) , binned in the detector level binning."
   ]
  },
  {
   "cell_type": "code",
   "execution_count": null,
   "metadata": {},
   "outputs": [],
   "source": [
    "print 'setting reco input'\n",
    "tunfolder.SetInput( histMdetData )"
   ]
  },
  {
   "cell_type": "markdown",
   "metadata": {},
   "source": [
    "Unfold nScan times with values for the regularization parameter between tauMin and tauMax using the empty TSplines to store the results."
   ]
  },
  {
   "cell_type": "code",
   "execution_count": null,
   "metadata": {
    "scrolled": true
   },
   "outputs": [],
   "source": [
    "print 'regularizing'\n",
    "nScan=50\n",
    "tauMin=-5.0\n",
    "tauMax=10.0\n",
    "iBest=0\n",
    "\n",
    "logTauX = ROOT.MakeNullPointer(ROOT.TSpline)\n",
    "logTauY = ROOT.MakeNullPointer(ROOT.TSpline)\n",
    "lCurve = ROOT.MakeNullPointer(ROOT.TGraph)\n",
    "\n",
    "print 'doing the unfolding'\n",
    "tunfolder.ScanLcurve(nScan,tauMin,tauMax,lCurve,logTauX,logTauY);\n",
    "print 'getting the results'\n",
    "unfolded = tunfolder.GetOutput(\"unfolded\")"
   ]
  },
  {
   "cell_type": "code",
   "execution_count": null,
   "metadata": {},
   "outputs": [],
   "source": [
    "c5 = ROOT.TCanvas('c5', 'c5')\n",
    "unfolded.SetMarkerStyle(22)\n",
    "unfolded.SetMarkerColor(4)\n",
    "unfolded.SetFillColor(0)\n",
    "histMgenData.SetMarkerStyle(21)\n",
    "histMgenData.SetMarkerColor(2)\n",
    "\n",
    "hs = ROOT.THStack(\"hs\", \"hs\")\n",
    "hs.Add( histMgenData, \"hist\")\n",
    "hs.Add( unfolded, \"e\")\n",
    "hs.Draw(\"nostack\")\n",
    "c5.Draw()"
   ]
  },
  {
   "cell_type": "markdown",
   "metadata": {},
   "source": [
    "# Unfold $\\tau_2^{(1)}$"
   ]
  },
  {
   "cell_type": "markdown",
   "metadata": {
    "collapsed": true
   },
   "source": [
    "Get the response matrix and input 1D distributions for unfolding."
   ]
  },
  {
   "cell_type": "code",
   "execution_count": null,
   "metadata": {},
   "outputs": [],
   "source": [
    "print np.min(TT16gen_nSub_basis[:,4])\n",
    "print np.min(TT16reco_nSub_basis[:,4])\n",
    "print np.max(TT16gen_nSub_basis[:,4])\n",
    "print np.max(TT16reco_nSub_basis[:,4])"
   ]
  },
  {
   "cell_type": "markdown",
   "metadata": {
    "collapsed": true
   },
   "source": [
    "#### Set the axis ranges for the generator nd detector level distributions as well as the number of bins in each. Note that we want twice as many detector bins as generator level bins as recommended by the TUnfold documenation "
   ]
  },
  {
   "cell_type": "code",
   "execution_count": null,
   "metadata": {},
   "outputs": [],
   "source": [
    "nDet=30\n",
    "nGen=15\n",
    "xminDet=0.0\n",
    "xmaxDet=0.44\n",
    "xminGen=0.0\n",
    "xmaxGen=0.44\n",
    "#weight_TT16 = (831.76*lumi*1000.)/10199051.*np.ones(TT16_beta4W.shape[0])*TT16_puWeight*TT16_btagWeight*0.8\n"
   ]
  },
  {
   "cell_type": "code",
   "execution_count": null,
   "metadata": {},
   "outputs": [],
   "source": [
    "ROOT.TH1.SetDefaultSumw2()\n",
    "from root_numpy import *\n",
    "\n",
    "histMgenMC = ROOT.TH1D(\"histMgenMC\", \"histMgenMC; #tau_{2}^{1}; Events/(0.02)\", nGen, xminGen,xmaxGen)\n",
    "fill_hist(histMgenMC, TT16gen_tau2_1)\n",
    "\n",
    "histMdetMC = ROOT.TH1D(\"histMdetMC\", \"histMdetMC; #tau_{2}^{1}; Events/(0.02)\", nDet, xminDet,xmaxDet)\n",
    "fill_hist(histMdetMC, TT16reco_tau2_1)\n",
    "\n",
    "histMgenData = ROOT.TH1D(\"histMgenData\", \"histMgenData; #tau_{2}^{1}; Events/(0.02)\", nGen, xminGen,xmaxGen)\n",
    "fill_hist(histMgenData, TT16truth_tau2_1)\n",
    "\n",
    "histMdetData = ROOT.TH1D(\"histMdetData\", \"histMdetData; #tau_{2}^{1}; Events/(0.02)\", nDet, xminDet,xmaxDet)\n",
    "fill_hist(histMdetData, TT16data_tau2_1)\n",
    "\n",
    "\n",
    "response = ROOT.TH2D('response', 'response', nDet, xminDet, xmaxDet, nGen, xminGen, xmaxGen)\n",
    "hist2Dfill = np.zeros((TT16reco_tau2_1.shape[0], 2))\n",
    "hist2Dfill[:,0] = TT16reco_tau2_1.flatten()\n",
    "hist2Dfill[:,1] = TT16gen_tau2_1.flatten()\n",
    "fill_hist(response, hist2Dfill)"
   ]
  },
  {
   "cell_type": "raw",
   "metadata": {},
   "source": [
    "xaxis =  array.array('d',[a for a in xrange(nmbinsGen *nptbinsGen + 1 )])\n",
    "nx = len(xaxis)-1\n",
    "\n",
    "print xaxis\n",
    "\n",
    "yaxis =  array.array('d',[a for a in xrange(nmbinsDet *nptbinsDet+1 )])\n",
    "ny = len(yaxis)-1\n",
    "\n",
    "print yaxis\n",
    "\n",
    "h_response = ROOT.TH2D('h_response',   'h_response', nx , xaxis, ny, yaxis )\n",
    "#print h_response2.GetXaxis.GetNbins()\n",
    "print nx\n",
    "print ny\n",
    "nb = nx*ny\n",
    "print nb"
   ]
  },
  {
   "cell_type": "raw",
   "metadata": {
    "collapsed": true
   },
   "source": [
    "response =ROOT.gDirectory.Get(\"response\")\n",
    "histMgenMC=ROOT.gDirectory.Get(\"histMgenMC\")\n",
    "histMdetMC=ROOT.gDirectory.Get(\"histMdetMC\")\n",
    "histMgenData=ROOT.gDirectory.Get(\"histMgenData\")\n",
    "histMdetData=ROOT.gDirectory.Get(\"histMdetData\")"
   ]
  },
  {
   "cell_type": "markdown",
   "metadata": {
    "collapsed": true
   },
   "source": [
    "Set the X and Y axis labels"
   ]
  },
  {
   "cell_type": "code",
   "execution_count": null,
   "metadata": {},
   "outputs": [],
   "source": [
    "response.SetTitle(\";#tau_{2}^{1}(det);#tau_{2}^{1}(gen)\")\n",
    "\n",
    "\n",
    "histMgenMC.SetTitle(\";#tau_{2}^{1}(gen)\")\n",
    "#histMgenMC.SetFillColor(ROOT.kRed)\n",
    "#histMgenMC.SetLineColor(ROOT.kRed)\n",
    "\n",
    "histMdetMC.SetTitle(\";#tau_{2}^{1}(det)\")\n",
    "#histMdetMC.SetFillColor(ROOT.kBlue)\n",
    "#histMdetMC.SetLineColor(ROOT.kBlue)\n",
    "\n",
    "\n",
    "histMgenData.SetTitle(\";#tau_{2}^{1}(gen)\")\n",
    "#histMgenData.SetFillColor(ROOT.kGreen+2)\n",
    "#histMgenData.SetLineColor(ROOT.kGreen+2)\n",
    "\n",
    "histMdetData.SetTitle(\";#tau_{2}^{1}(det)\")\n",
    "#histMdetData.SetFillColor(ROOT.kBlack)\n",
    "#histMdetData.SetLineColor(ROOT.kBlack)"
   ]
  },
  {
   "cell_type": "markdown",
   "metadata": {
    "collapsed": true
   },
   "source": [
    "Draw the variables at reco and gen level and for \"data\""
   ]
  },
  {
   "cell_type": "code",
   "execution_count": null,
   "metadata": {},
   "outputs": [],
   "source": [
    "c1 = ROOT.TCanvas(\"chistMgenMC1\", \"chistMgenMC1\")\n",
    "histMgenMC.Draw(\"e\")\n",
    "histMdetMC.Draw(\"e same\")\n",
    "c1.Draw()"
   ]
  },
  {
   "cell_type": "code",
   "execution_count": null,
   "metadata": {},
   "outputs": [],
   "source": [
    "c1 = ROOT.TCanvas(\"chistMgenMC1\", \"chistMgenMC1\")\n",
    "histMgenData.Draw(\"e\")\n",
    "histMdetData.Draw(\"e same\")\n",
    "c1.Draw()"
   ]
  },
  {
   "cell_type": "markdown",
   "metadata": {
    "collapsed": true
   },
   "source": [
    "Draw the response matrix."
   ]
  },
  {
   "cell_type": "code",
   "execution_count": null,
   "metadata": {
    "scrolled": false
   },
   "outputs": [],
   "source": [
    "c1 = ROOT.TCanvas(\"cresponse1\", \"cresponse1\")\n",
    "response.Draw(\"colz\")\n",
    "c1.Draw()"
   ]
  },
  {
   "cell_type": "code",
   "execution_count": null,
   "metadata": {},
   "outputs": [],
   "source": [
    "#### In MC :"
   ]
  },
  {
   "cell_type": "code",
   "execution_count": null,
   "metadata": {},
   "outputs": [],
   "source": [
    "c2 = ROOT.TCanvas(\"MCcompare\", \"MCcompare\")\n",
    "histMgenMC.Draw('e')\n",
    "histMdetMC.Draw('e same')\n",
    "c2.Draw()"
   ]
  },
  {
   "cell_type": "markdown",
   "metadata": {
    "collapsed": true
   },
   "source": [
    "#### In Data:"
   ]
  },
  {
   "cell_type": "code",
   "execution_count": null,
   "metadata": {
    "scrolled": false
   },
   "outputs": [],
   "source": [
    "c3 = ROOT.TCanvas(\"datadists\", \"datadists\")\n",
    "histMgenData.Draw('e')\n",
    "histMdetData.Draw('e same')\n",
    "c3.Draw()"
   ]
  },
  {
   "cell_type": "code",
   "execution_count": null,
   "metadata": {},
   "outputs": [],
   "source": [
    "print 'getting tunfolder:'\n",
    "tunfolder = ROOT.TUnfoldDensity(response,ROOT.TUnfold.kHistMapOutputVert,ROOT.TUnfold.kRegModeCurvature, ROOT.TUnfold.kEConstraintNone, ROOT.TUnfoldDensity.kDensityModeBinWidth)"
   ]
  },
  {
   "cell_type": "markdown",
   "metadata": {
    "collapsed": true
   },
   "source": [
    "Set the input, a 1D reconstructed histogram from either MC (closure) or Data (measurement) , binned in the detector level binning."
   ]
  },
  {
   "cell_type": "code",
   "execution_count": null,
   "metadata": {},
   "outputs": [],
   "source": [
    "print 'setting reco input'\n",
    "tunfolder.SetInput( histMdetData )"
   ]
  },
  {
   "cell_type": "markdown",
   "metadata": {},
   "source": [
    "Unfold nScan times with values for the regularization parameter between tauMin and tauMax using the empty TSplines to store the results."
   ]
  },
  {
   "cell_type": "code",
   "execution_count": null,
   "metadata": {},
   "outputs": [],
   "source": [
    "print 'regularizing'\n",
    "nScan=50\n",
    "tauMin=0.0\n",
    "tauMax=0.0\n",
    "iBest=0\n",
    "\n",
    "logTauX = ROOT.MakeNullPointer(ROOT.TSpline)\n",
    "logTauY = ROOT.MakeNullPointer(ROOT.TSpline)\n",
    "lCurve = ROOT.MakeNullPointer(ROOT.TGraph)\n",
    "\n",
    "print 'doing the unfolding'\n",
    "tunfolder.ScanLcurve(nScan,tauMin,tauMax,lCurve,logTauX,logTauY);\n",
    "print 'getting the results'\n",
    "unfolded = tunfolder.GetOutput(\"unfolded\")"
   ]
  },
  {
   "cell_type": "code",
   "execution_count": null,
   "metadata": {},
   "outputs": [],
   "source": []
  },
  {
   "cell_type": "code",
   "execution_count": null,
   "metadata": {},
   "outputs": [],
   "source": [
    "c5 = ROOT.TCanvas('c5', 'c5')\n",
    "unfolded.SetMarkerStyle(22)\n",
    "unfolded.SetMarkerColor(4)\n",
    "unfolded.SetFillColor(0)\n",
    "histMgenData.SetMarkerStyle(21)\n",
    "histMgenData.SetMarkerColor(2)\n",
    "\n",
    "hs = ROOT.THStack(\"hs\", \"hs\")\n",
    "hs.Add( histMgenData, \"hist\")\n",
    "hs.Add( unfolded, \"e\")\n",
    "hs.Draw(\"nostack\")\n",
    "c5.Draw()"
   ]
  },
  {
   "cell_type": "markdown",
   "metadata": {},
   "source": [
    "# Unfold $\\tau_2^{(2)}$"
   ]
  },
  {
   "cell_type": "markdown",
   "metadata": {
    "collapsed": true
   },
   "source": [
    "Get the response matrix and input 1D distributions for unfolding."
   ]
  },
  {
   "cell_type": "code",
   "execution_count": null,
   "metadata": {},
   "outputs": [],
   "source": [
    "print np.min(TT16gen_nSub_basis[:,5])\n",
    "print np.min(TT16reco_nSub_basis[:,5])\n",
    "print np.max(TT16gen_nSub_basis[:,5])\n",
    "print np.max(TT16reco_nSub_basis[:,5])"
   ]
  },
  {
   "cell_type": "markdown",
   "metadata": {
    "collapsed": true
   },
   "source": [
    "#### Set the axis ranges for the generator nd detector level distributions as well as the number of bins in each. Note that we want twice as many detector bins as generator level bins as recommended by the TUnfold documenation "
   ]
  },
  {
   "cell_type": "code",
   "execution_count": null,
   "metadata": {},
   "outputs": [],
   "source": [
    "nDet=28\n",
    "nGen=14\n",
    "xminDet=0.0\n",
    "xmaxDet=0.23\n",
    "xminGen=0.0\n",
    "xmaxGen=0.23\n",
    "#weight_TT16 = (831.76*lumi*1000.)/10199051.*np.ones(TT16_beta4W.shape[0])*TT16_puWeight*TT16_btagWeight*0.8\n"
   ]
  },
  {
   "cell_type": "code",
   "execution_count": null,
   "metadata": {},
   "outputs": [],
   "source": [
    "ROOT.TH1.SetDefaultSumw2()\n",
    "from root_numpy import *\n",
    "\n",
    "histMgenMC = ROOT.TH1D(\"histMgenMC\", \"histMgenMC; #tau_{2}^{2}; Events/(0.02)\", nGen, xminGen,xmaxGen)\n",
    "fill_hist(histMgenMC, TT16gen_tau2_2)\n",
    "\n",
    "histMdetMC = ROOT.TH1D(\"histMdetMC\", \"histMdetMC; #tau_{2}^{2}; Events/(0.02)\", nDet, xminDet,xmaxDet)\n",
    "fill_hist(histMdetMC, TT16reco_tau2_2)\n",
    "\n",
    "histMgenData = ROOT.TH1D(\"histMgenData\", \"histMgenData; #tau_{2}^{2}; Events/(0.02)\", nGen, xminGen,xmaxGen)\n",
    "fill_hist(histMgenData, TT16truth_tau2_2)\n",
    "\n",
    "histMdetData = ROOT.TH1D(\"histMdetData\", \"histMdetData; #tau_{2}^{2}; Events/(0.02)\", nDet, xminDet,xmaxDet)\n",
    "fill_hist(histMdetData, TT16data_tau2_2)\n",
    "\n",
    "\n",
    "response = ROOT.TH2D('response', 'response', nDet, xminDet, xmaxDet, nGen, xminGen, xmaxGen)\n",
    "hist2Dfill = np.zeros((TT16reco_tau2_2.shape[0], 2))\n",
    "hist2Dfill[:,0] = TT16reco_tau2_2.flatten()\n",
    "hist2Dfill[:,1] = TT16gen_tau2_2.flatten()\n",
    "fill_hist(response, hist2Dfill)"
   ]
  },
  {
   "cell_type": "raw",
   "metadata": {},
   "source": [
    "xaxis =  array.array('d',[a for a in xrange(nmbinsGen *nptbinsGen + 1 )])\n",
    "nx = len(xaxis)-1\n",
    "\n",
    "print xaxis\n",
    "\n",
    "yaxis =  array.array('d',[a for a in xrange(nmbinsDet *nptbinsDet+1 )])\n",
    "ny = len(yaxis)-1\n",
    "\n",
    "print yaxis\n",
    "\n",
    "h_response = ROOT.TH2D('h_response',   'h_response', nx , xaxis, ny, yaxis )\n",
    "#print h_response2.GetXaxis.GetNbins()\n",
    "print nx\n",
    "print ny\n",
    "nb = nx*ny\n",
    "print nb"
   ]
  },
  {
   "cell_type": "raw",
   "metadata": {
    "collapsed": true
   },
   "source": [
    "response =ROOT.gDirectory.Get(\"response\")\n",
    "histMgenMC=ROOT.gDirectory.Get(\"histMgenMC\")\n",
    "histMdetMC=ROOT.gDirectory.Get(\"histMdetMC\")\n",
    "histMgenData=ROOT.gDirectory.Get(\"histMgenData\")\n",
    "histMdetData=ROOT.gDirectory.Get(\"histMdetData\")"
   ]
  },
  {
   "cell_type": "markdown",
   "metadata": {
    "collapsed": true
   },
   "source": [
    "Set the X and Y axis labels"
   ]
  },
  {
   "cell_type": "code",
   "execution_count": null,
   "metadata": {},
   "outputs": [],
   "source": [
    "response.SetTitle(\";#tau_{2}^{2}(det);#tau_{2}^{2}(gen)\")\n",
    "\n",
    "\n",
    "histMgenMC.SetTitle(\";#tau_{2}^{2}(gen)\")\n",
    "#histMgenMC.SetFillColor(ROOT.kRed)\n",
    "#histMgenMC.SetLineColor(ROOT.kRed)\n",
    "\n",
    "histMdetMC.SetTitle(\";#tau_{2}^{2}(det)\")\n",
    "#histMdetMC.SetFillColor(ROOT.kBlue)\n",
    "#histMdetMC.SetLineColor(ROOT.kBlue)\n",
    "\n",
    "\n",
    "histMgenData.SetTitle(\";#tau_{2}^{2}(gen)\")\n",
    "#histMgenData.SetFillColor(ROOT.kGreen+2)\n",
    "#histMgenData.SetLineColor(ROOT.kGreen+2)\n",
    "\n",
    "histMdetData.SetTitle(\";#tau_{2}^{2}(det)\")\n",
    "#histMdetData.SetFillColor(ROOT.kBlack)\n",
    "#histMdetData.SetLineColor(ROOT.kBlack)"
   ]
  },
  {
   "cell_type": "markdown",
   "metadata": {
    "collapsed": true
   },
   "source": [
    "Draw the variables at reco and gen level and for \"data\""
   ]
  },
  {
   "cell_type": "code",
   "execution_count": null,
   "metadata": {},
   "outputs": [],
   "source": [
    "c1 = ROOT.TCanvas(\"chistMgenMC1\", \"chistMgenMC1\")\n",
    "histMgenMC.Draw(\"e\")\n",
    "histMdetMC.Draw(\"e same\")\n",
    "c1.Draw()"
   ]
  },
  {
   "cell_type": "code",
   "execution_count": null,
   "metadata": {},
   "outputs": [],
   "source": [
    "c1 = ROOT.TCanvas(\"chistMgenMC1\", \"chistMgenMC1\")\n",
    "histMgenData.Draw(\"e\")\n",
    "histMdetData.Draw(\"e same\")\n",
    "c1.Draw()"
   ]
  },
  {
   "cell_type": "markdown",
   "metadata": {
    "collapsed": true
   },
   "source": [
    "Draw the response matrix."
   ]
  },
  {
   "cell_type": "code",
   "execution_count": null,
   "metadata": {
    "scrolled": false
   },
   "outputs": [],
   "source": [
    "c1 = ROOT.TCanvas(\"cresponse1\", \"cresponse1\")\n",
    "response.Draw(\"colz\")\n",
    "c1.Draw()"
   ]
  },
  {
   "cell_type": "code",
   "execution_count": null,
   "metadata": {},
   "outputs": [],
   "source": [
    "#### In MC :"
   ]
  },
  {
   "cell_type": "code",
   "execution_count": null,
   "metadata": {},
   "outputs": [],
   "source": [
    "c2 = ROOT.TCanvas(\"MCcompare\", \"MCcompare\")\n",
    "histMgenMC.Draw('e')\n",
    "histMdetMC.Draw('e same')\n",
    "c2.Draw()"
   ]
  },
  {
   "cell_type": "markdown",
   "metadata": {
    "collapsed": true
   },
   "source": [
    "#### In Data:"
   ]
  },
  {
   "cell_type": "code",
   "execution_count": null,
   "metadata": {
    "scrolled": false
   },
   "outputs": [],
   "source": [
    "c3 = ROOT.TCanvas(\"datadists\", \"datadists\")\n",
    "histMgenData.Draw('e')\n",
    "histMdetData.Draw('e same')\n",
    "c3.Draw()"
   ]
  },
  {
   "cell_type": "code",
   "execution_count": null,
   "metadata": {},
   "outputs": [],
   "source": [
    "print 'getting tunfolder:'\n",
    "tunfolder = ROOT.TUnfoldDensity(response,ROOT.TUnfold.kHistMapOutputVert,ROOT.TUnfold.kRegModeCurvature, ROOT.TUnfold.kEConstraintNone, ROOT.TUnfoldDensity.kDensityModeBinWidth)"
   ]
  },
  {
   "cell_type": "markdown",
   "metadata": {
    "collapsed": true
   },
   "source": [
    "Set the input, a 1D reconstructed histogram from either MC (closure) or Data (measurement) , binned in the detector level binning."
   ]
  },
  {
   "cell_type": "code",
   "execution_count": null,
   "metadata": {},
   "outputs": [],
   "source": [
    "print 'setting reco input'\n",
    "tunfolder.SetInput( histMdetData )"
   ]
  },
  {
   "cell_type": "markdown",
   "metadata": {},
   "source": [
    "Unfold nScan times with values for the regularization parameter between tauMin and tauMax using the empty TSplines to store the results."
   ]
  },
  {
   "cell_type": "code",
   "execution_count": null,
   "metadata": {},
   "outputs": [],
   "source": [
    "print 'regularizing'\n",
    "nScan=50\n",
    "tauMin=-5.0\n",
    "tauMax=10.0\n",
    "iBest=0\n",
    "\n",
    "logTauX = ROOT.MakeNullPointer(ROOT.TSpline)\n",
    "logTauY = ROOT.MakeNullPointer(ROOT.TSpline)\n",
    "lCurve = ROOT.MakeNullPointer(ROOT.TGraph)\n",
    "\n",
    "print 'doing the unfolding'\n",
    "tunfolder.ScanLcurve(nScan,tauMin,tauMax,lCurve,logTauX,logTauY);\n",
    "print 'getting the results'\n",
    "unfolded = tunfolder.GetOutput(\"unfolded\")"
   ]
  },
  {
   "cell_type": "code",
   "execution_count": null,
   "metadata": {},
   "outputs": [],
   "source": [
    "c5 = ROOT.TCanvas('c5', 'c5')\n",
    "unfolded.SetMarkerStyle(22)\n",
    "unfolded.SetMarkerColor(4)\n",
    "unfolded.SetFillColor(0)\n",
    "histMgenData.SetMarkerStyle(21)\n",
    "histMgenData.SetMarkerColor(2)\n",
    "\n",
    "hs = ROOT.THStack(\"hs\", \"hs\")\n",
    "hs.Add( histMgenData, \"hist\")\n",
    "hs.Add( unfolded, \"e\")\n",
    "hs.Draw(\"nostack\")\n",
    "c5.Draw()"
   ]
  },
  {
   "cell_type": "code",
   "execution_count": null,
   "metadata": {},
   "outputs": [],
   "source": []
  },
  {
   "cell_type": "markdown",
   "metadata": {},
   "source": [
    "# Unfold $\\tau_3^{(0.5)}$"
   ]
  },
  {
   "cell_type": "markdown",
   "metadata": {},
   "source": [
    "#### Below the input Monte Carlo simulation events are read from the file which only contains events meeting the skim criteria set forth in this __[script](https://github.com/kaustuvdatta/jetObservables/blob/102X/python/nSubProducer_gen_reco.py)__\n"
   ]
  },
  {
   "cell_type": "raw",
   "metadata": {},
   "source": [
    "\n",
    "ROOT.TH1.SetDefaultSumw2()\n",
    "f = ROOT.TFile('../AutoObs/CMS/New_Sel/TT_unfold/1/jetObservables_nanoskim_10.root')\n",
    "t = f.Get(\"Events\")"
   ]
  },
  {
   "cell_type": "markdown",
   "metadata": {
    "collapsed": true
   },
   "source": [
    "#### Set the axis ranges for the generator nd detector level distributions as well as the number of bins in each. Note that we want twice as many detector bins as generator level bins as recommended by the TUnfold documenation "
   ]
  },
  {
   "cell_type": "markdown",
   "metadata": {
    "collapsed": true
   },
   "source": [
    "Get the response matrix and input 1D distributions for unfolding."
   ]
  },
  {
   "cell_type": "code",
   "execution_count": null,
   "metadata": {},
   "outputs": [],
   "source": [
    "print np.min(TT16gen_nSub_basis[:,6])\n",
    "print np.min(TT16reco_nSub_basis[:,6])\n",
    "print np.max(TT16gen_nSub_basis[:,6])\n",
    "print np.max(TT16reco_nSub_basis[:,6])"
   ]
  },
  {
   "cell_type": "code",
   "execution_count": null,
   "metadata": {},
   "outputs": [],
   "source": [
    "nDet=28\n",
    "nGen=14\n",
    "xminDet=0.0\n",
    "xmaxDet=0.56\n",
    "xminGen=0.0\n",
    "xmaxGen=0.56\n",
    "#weight_TT16 = (831.76*lumi*1000.)/10199051.*np.ones(TT16_beta4W.shape[0])*TT16_puWeight*TT16_btagWeight*0.8\n"
   ]
  },
  {
   "cell_type": "code",
   "execution_count": null,
   "metadata": {},
   "outputs": [],
   "source": [
    "ROOT.TH1.SetDefaultSumw2()\n",
    "from root_numpy import *\n",
    "\n",
    "histMgenMC = ROOT.TH1D(\"histMgenMC\", \"histMgenMC; #tau_{3}^{0.5}; Events/(0.02)\", nGen, xminGen,xmaxGen)\n",
    "fill_hist(histMgenMC, TT16gen_nSub_basis[:,6])\n",
    "\n",
    "histMdetMC = ROOT.TH1D(\"histMdetMC\", \"histMdetMC; #tau_{3}^{0.5}; Events/(0.02)\", nDet, xminDet,xmaxDet)\n",
    "fill_hist(histMdetMC, TT16reco_nSub_basis[:,6])\n",
    "\n",
    "histMgenData = ROOT.TH1D(\"histMgenData\", \"histMgenData; #tau_{3}^{0.5}; Events/(0.02)\", nGen, xminGen,xmaxGen)\n",
    "fill_hist(histMgenData, TT16truth_nSub_basis[:,6])\n",
    "\n",
    "histMdetData = ROOT.TH1D(\"histMdetData\", \"histMdetData; #tau_{3}^{0.5}; Events/(0.02)\", nDet, xminDet,xmaxDet)\n",
    "fill_hist(histMdetData, TT16data_nSub_basis[:,6])\n",
    "\n",
    "\n",
    "response = ROOT.TH2D('response', 'response', nDet, xminDet, xmaxDet, nGen, xminGen, xmaxGen)\n",
    "hist2Dfill = np.zeros((TT16reco_nSub_basis[:,6].shape[0], 2))\n",
    "hist2Dfill[:,0] = TT16reco_nSub_basis[:,6].flatten()\n",
    "hist2Dfill[:,1] = TT16gen_nSub_basis[:,6].flatten()\n",
    "fill_hist(response, hist2Dfill)"
   ]
  },
  {
   "cell_type": "raw",
   "metadata": {},
   "source": [
    "xaxis =  array.array('d',[a for a in xrange(nmbinsGen *nptbinsGen + 1 )])\n",
    "nx = len(xaxis)-1\n",
    "\n",
    "print xaxis\n",
    "\n",
    "yaxis =  array.array('d',[a for a in xrange(nmbinsDet *nptbinsDet+1 )])\n",
    "ny = len(yaxis)-1\n",
    "\n",
    "print yaxis\n",
    "\n",
    "h_response = ROOT.TH2D('h_response',   'h_response', nx , xaxis, ny, yaxis )\n",
    "#print h_response2.GetXaxis.GetNbins()\n",
    "print nx\n",
    "print ny\n",
    "nb = nx*ny\n",
    "print nb"
   ]
  },
  {
   "cell_type": "raw",
   "metadata": {
    "collapsed": true
   },
   "source": [
    "response =ROOT.gDirectory.Get(\"response\")\n",
    "histMgenMC=ROOT.gDirectory.Get(\"histMgenMC\")\n",
    "histMdetMC=ROOT.gDirectory.Get(\"histMdetMC\")\n",
    "histMgenData=ROOT.gDirectory.Get(\"histMgenData\")\n",
    "histMdetData=ROOT.gDirectory.Get(\"histMdetData\")"
   ]
  },
  {
   "cell_type": "markdown",
   "metadata": {
    "collapsed": true
   },
   "source": [
    "Set the X and Y axis labels"
   ]
  },
  {
   "cell_type": "code",
   "execution_count": null,
   "metadata": {},
   "outputs": [],
   "source": [
    "response.SetTitle(\";#tau_{3}^{0.5}(det);#tau_{3}^{0.5}(gen)\")\n",
    "\n",
    "\n",
    "histMgenMC.SetTitle(\";#tau_{3}^{0.5}(gen)\")\n",
    "#histMgenMC.SetFillColor(ROOT.kRed)\n",
    "#histMgenMC.SetLineColor(ROOT.kRed)\n",
    "\n",
    "histMdetMC.SetTitle(\";#tau_{3}^{0.5}(det)\")\n",
    "#histMdetMC.SetFillColor(ROOT.kBlue)\n",
    "#histMdetMC.SetLineColor(ROOT.kBlue)\n",
    "\n",
    "\n",
    "histMgenData.SetTitle(\";#tau_{3}^{0.5}(gen)\")\n",
    "#histMgenData.SetFillColor(ROOT.kGreen+2)\n",
    "#histMgenData.SetLineColor(ROOT.kGreen+2)\n",
    "\n",
    "histMdetData.SetTitle(\";#tau_{3}^{0.5}(det)\")\n",
    "#histMdetData.SetFillColor(ROOT.kBlack)\n",
    "#histMdetData.SetLineColor(ROOT.kBlack)"
   ]
  },
  {
   "cell_type": "markdown",
   "metadata": {
    "collapsed": true
   },
   "source": [
    "Draw the variables at reco and gen level and for \"data\""
   ]
  },
  {
   "cell_type": "code",
   "execution_count": null,
   "metadata": {},
   "outputs": [],
   "source": [
    "c1 = ROOT.TCanvas(\"chistMgenMC1\", \"chistMgenMC1\")\n",
    "histMgenMC.Draw(\"e\")\n",
    "histMdetMC.Draw(\"e same\")\n",
    "c1.Draw()"
   ]
  },
  {
   "cell_type": "code",
   "execution_count": null,
   "metadata": {},
   "outputs": [],
   "source": [
    "c1 = ROOT.TCanvas(\"chistMgenMC1\", \"chistMgenMC1\")\n",
    "histMgenData.Draw(\"e\")\n",
    "histMdetData.Draw(\"e same\")\n",
    "c1.Draw()"
   ]
  },
  {
   "cell_type": "markdown",
   "metadata": {
    "collapsed": true
   },
   "source": [
    "Draw the response matrix."
   ]
  },
  {
   "cell_type": "code",
   "execution_count": null,
   "metadata": {
    "scrolled": false
   },
   "outputs": [],
   "source": [
    "c1 = ROOT.TCanvas(\"cresponse1\", \"cresponse1\")\n",
    "response.Draw(\"colz\")\n",
    "c1.Draw()"
   ]
  },
  {
   "cell_type": "code",
   "execution_count": null,
   "metadata": {},
   "outputs": [],
   "source": [
    "#### In MC :"
   ]
  },
  {
   "cell_type": "code",
   "execution_count": null,
   "metadata": {},
   "outputs": [],
   "source": [
    "c2 = ROOT.TCanvas(\"MCcompare\", \"MCcompare\")\n",
    "histMgenMC.Draw('e')\n",
    "histMdetMC.Draw('e same')\n",
    "c2.Draw()"
   ]
  },
  {
   "cell_type": "markdown",
   "metadata": {
    "collapsed": true
   },
   "source": [
    "#### In Data:"
   ]
  },
  {
   "cell_type": "code",
   "execution_count": null,
   "metadata": {},
   "outputs": [],
   "source": [
    "c3 = ROOT.TCanvas(\"datadists\", \"datadists\")\n",
    "histMgenData.Draw('e')\n",
    "histMdetData.Draw('e same')\n",
    "c3.Draw()"
   ]
  },
  {
   "cell_type": "code",
   "execution_count": null,
   "metadata": {},
   "outputs": [],
   "source": [
    "print 'getting tunfolder:'\n",
    "tunfolder = ROOT.TUnfoldDensity(response,ROOT.TUnfold.kHistMapOutputVert,ROOT.TUnfold.kRegModeCurvature, ROOT.TUnfold.kEConstraintNone, ROOT.TUnfoldDensity.kDensityModeBinWidth)"
   ]
  },
  {
   "cell_type": "markdown",
   "metadata": {
    "collapsed": true
   },
   "source": [
    "Set the input, a 1D reconstructed histogram from either MC (closure) or Data (measurement) , binned in the detector level binning."
   ]
  },
  {
   "cell_type": "code",
   "execution_count": null,
   "metadata": {},
   "outputs": [],
   "source": [
    "print 'setting reco input'\n",
    "tunfolder.SetInput( histMdetData )"
   ]
  },
  {
   "cell_type": "markdown",
   "metadata": {},
   "source": [
    "Unfold nScan times with values for the regularization parameter between tauMin and tauMax using the empty TSplines to store the results."
   ]
  },
  {
   "cell_type": "code",
   "execution_count": null,
   "metadata": {},
   "outputs": [],
   "source": [
    "print 'regularizing'\n",
    "nScan=50\n",
    "tauMin=0.0\n",
    "tauMax=0.0\n",
    "iBest=0\n",
    "\n",
    "logTauX = ROOT.MakeNullPointer(ROOT.TSpline)\n",
    "logTauY = ROOT.MakeNullPointer(ROOT.TSpline)\n",
    "lCurve = ROOT.MakeNullPointer(ROOT.TGraph)\n",
    "\n",
    "print 'doing the unfolding'\n",
    "tunfolder.ScanLcurve(nScan,tauMin,tauMax,lCurve,logTauX,logTauY);\n",
    "print 'getting the results'\n",
    "unfolded = tunfolder.GetOutput(\"unfolded\")"
   ]
  },
  {
   "cell_type": "code",
   "execution_count": null,
   "metadata": {},
   "outputs": [],
   "source": []
  },
  {
   "cell_type": "code",
   "execution_count": null,
   "metadata": {},
   "outputs": [],
   "source": [
    "c5 = ROOT.TCanvas('c5', 'c5')\n",
    "unfolded.SetMarkerStyle(22)\n",
    "unfolded.SetMarkerColor(4)\n",
    "unfolded.SetFillColor(0)\n",
    "histMgenData.SetMarkerStyle(21)\n",
    "histMgenData.SetMarkerColor(2)\n",
    "\n",
    "hs = ROOT.THStack(\"hs\", \"hs\")\n",
    "hs.Add( histMgenData, \"hist\")\n",
    "hs.Add( unfolded, \"e\")\n",
    "hs.Draw(\"nostack\")\n",
    "c5.Draw()"
   ]
  },
  {
   "cell_type": "code",
   "execution_count": null,
   "metadata": {},
   "outputs": [],
   "source": []
  },
  {
   "cell_type": "markdown",
   "metadata": {},
   "source": [
    "# Unfold $\\tau_3^{(1)}$"
   ]
  },
  {
   "cell_type": "markdown",
   "metadata": {},
   "source": [
    "#### Below the input Monte Carlo simulation events are read from the file which only contains events meeting the skim criteria set forth in this __[script](https://github.com/kaustuvdatta/jetObservables/blob/102X/python/nSubProducer_gen_reco.py)__\n"
   ]
  },
  {
   "cell_type": "raw",
   "metadata": {},
   "source": [
    "\n",
    "ROOT.TH1.SetDefaultSumw2()\n",
    "f = ROOT.TFile('../AutoObs/CMS/New_Sel/TT_unfold/1/jetObservables_nanoskim_10.root')\n",
    "t = f.Get(\"Events\")"
   ]
  },
  {
   "cell_type": "markdown",
   "metadata": {
    "collapsed": true
   },
   "source": [
    "#### Set the axis ranges for the generator nd detector level distributions as well as the number of bins in each. Note that we want twice as many detector bins as generator level bins as recommended by the TUnfold documenation "
   ]
  },
  {
   "cell_type": "markdown",
   "metadata": {
    "collapsed": true
   },
   "source": [
    "Get the response matrix and input 1D distributions for unfolding."
   ]
  },
  {
   "cell_type": "code",
   "execution_count": null,
   "metadata": {},
   "outputs": [],
   "source": [
    "print np.min(TT16gen_nSub_basis[:,7])\n",
    "print np.min(TT16reco_nSub_basis[:,7])\n",
    "print np.max(TT16gen_nSub_basis[:,7])\n",
    "print np.max(TT16reco_nSub_basis[:,7])"
   ]
  },
  {
   "cell_type": "code",
   "execution_count": null,
   "metadata": {},
   "outputs": [],
   "source": [
    "nDet=50\n",
    "nGen=25\n",
    "xminDet=0.0\n",
    "xmaxDet=0.3\n",
    "xminGen=0.0\n",
    "xmaxGen=0.3\n",
    "#weight_TT16 = (831.76*lumi*1000.)/10199051.*np.ones(TT16_beta4W.shape[0])*TT16_puWeight*TT16_btagWeight*0.8\n"
   ]
  },
  {
   "cell_type": "code",
   "execution_count": null,
   "metadata": {},
   "outputs": [],
   "source": [
    "ROOT.TH1.SetDefaultSumw2()\n",
    "from root_numpy import *\n",
    "\n",
    "histMgenMC = ROOT.TH1D(\"histMgenMC\", \"histMgenMC; #tau_{3}^{1}; Events/(0.02)\", nGen, xminGen,xmaxGen)\n",
    "fill_hist(histMgenMC, TT16gen_nSub_basis[:,7])\n",
    "\n",
    "histMdetMC = ROOT.TH1D(\"histMdetMC\", \"histMdetMC; #tau_{3}^{1}; Events/(0.02)\", nDet, xminDet,xmaxDet)\n",
    "fill_hist(histMdetMC, TT16reco_nSub_basis[:,7])\n",
    "\n",
    "histMgenData = ROOT.TH1D(\"histMgenData\", \"histMgenData; #tau_{3}^{1}; Events/(0.02)\", nGen, xminGen,xmaxGen)\n",
    "fill_hist(histMgenData, TT16truth_nSub_basis[:,7])\n",
    "\n",
    "histMdetData = ROOT.TH1D(\"histMdetData\", \"histMdetData; #tau_{3}^{1}; Events/(0.02)\", nDet, xminDet,xmaxDet)\n",
    "fill_hist(histMdetData, TT16data_nSub_basis[:,7])\n",
    "\n",
    "\n",
    "response = ROOT.TH2D('response', 'response', nDet, xminDet, xmaxDet, nGen, xminGen, xmaxGen)\n",
    "hist2Dfill = np.zeros((TT16reco_nSub_basis[:,7].shape[0], 2))\n",
    "hist2Dfill[:,0] = TT16reco_nSub_basis[:,7].flatten()\n",
    "hist2Dfill[:,1] = TT16gen_nSub_basis[:,7].flatten()\n",
    "fill_hist(response, hist2Dfill)"
   ]
  },
  {
   "cell_type": "raw",
   "metadata": {},
   "source": [
    "xaxis =  array.array('d',[a for a in xrange(nmbinsGen *nptbinsGen + 1 )])\n",
    "nx = len(xaxis)-1\n",
    "\n",
    "print xaxis\n",
    "\n",
    "yaxis =  array.array('d',[a for a in xrange(nmbinsDet *nptbinsDet+1 )])\n",
    "ny = len(yaxis)-1\n",
    "\n",
    "print yaxis\n",
    "\n",
    "h_response = ROOT.TH2D('h_response',   'h_response', nx , xaxis, ny, yaxis )\n",
    "#print h_response2.GetXaxis.GetNbins()\n",
    "print nx\n",
    "print ny\n",
    "nb = nx*ny\n",
    "print nb"
   ]
  },
  {
   "cell_type": "raw",
   "metadata": {
    "collapsed": true
   },
   "source": [
    "response =ROOT.gDirectory.Get(\"response\")\n",
    "histMgenMC=ROOT.gDirectory.Get(\"histMgenMC\")\n",
    "histMdetMC=ROOT.gDirectory.Get(\"histMdetMC\")\n",
    "histMgenData=ROOT.gDirectory.Get(\"histMgenData\")\n",
    "histMdetData=ROOT.gDirectory.Get(\"histMdetData\")"
   ]
  },
  {
   "cell_type": "markdown",
   "metadata": {
    "collapsed": true
   },
   "source": [
    "Set the X and Y axis labels"
   ]
  },
  {
   "cell_type": "code",
   "execution_count": null,
   "metadata": {},
   "outputs": [],
   "source": [
    "response.SetTitle(\";#tau_{3}^{1}(det);#tau_{3}^{1}(gen)\")\n",
    "\n",
    "\n",
    "histMgenMC.SetTitle(\";#tau_{3}^{1}(gen)\")\n",
    "#histMgenMC.SetFillColor(ROOT.kRed)\n",
    "#histMgenMC.SetLineColor(ROOT.kRed)\n",
    "\n",
    "histMdetMC.SetTitle(\";#tau_{3}^{1}(det)\")\n",
    "#histMdetMC.SetFillColor(ROOT.kBlue)\n",
    "#histMdetMC.SetLineColor(ROOT.kBlue)\n",
    "\n",
    "\n",
    "histMgenData.SetTitle(\";#tau_{3}^{1}(gen)\")\n",
    "#histMgenData.SetFillColor(ROOT.kGreen+2)\n",
    "#histMgenData.SetLineColor(ROOT.kGreen+2)\n",
    "\n",
    "histMdetData.SetTitle(\";#tau_{3}^{1}(det)\")\n",
    "#histMdetData.SetFillColor(ROOT.kBlack)\n",
    "#histMdetData.SetLineColor(ROOT.kBlack)"
   ]
  },
  {
   "cell_type": "markdown",
   "metadata": {
    "collapsed": true
   },
   "source": [
    "Draw the variables at reco and gen level and for \"data\""
   ]
  },
  {
   "cell_type": "code",
   "execution_count": null,
   "metadata": {},
   "outputs": [],
   "source": [
    "c1 = ROOT.TCanvas(\"chistMgenMC1\", \"chistMgenMC1\")\n",
    "histMgenMC.Draw(\"e\")\n",
    "histMdetMC.Draw(\"e same\")\n",
    "c1.Draw()"
   ]
  },
  {
   "cell_type": "code",
   "execution_count": null,
   "metadata": {},
   "outputs": [],
   "source": [
    "c1 = ROOT.TCanvas(\"chistMgenMC1\", \"chistMgenMC1\")\n",
    "histMgenData.Draw(\"e\")\n",
    "histMdetData.Draw(\"e same\")\n",
    "c1.Draw()"
   ]
  },
  {
   "cell_type": "markdown",
   "metadata": {
    "collapsed": true
   },
   "source": [
    "Draw the response matrix."
   ]
  },
  {
   "cell_type": "code",
   "execution_count": null,
   "metadata": {
    "scrolled": false
   },
   "outputs": [],
   "source": [
    "c1 = ROOT.TCanvas(\"cresponse1\", \"cresponse1\")\n",
    "response.Draw(\"colz\")\n",
    "c1.Draw()"
   ]
  },
  {
   "cell_type": "code",
   "execution_count": null,
   "metadata": {},
   "outputs": [],
   "source": [
    "#### In MC :"
   ]
  },
  {
   "cell_type": "code",
   "execution_count": null,
   "metadata": {},
   "outputs": [],
   "source": [
    "c2 = ROOT.TCanvas(\"MCcompare\", \"MCcompare\")\n",
    "histMgenMC.Draw('e')\n",
    "histMdetMC.Draw('e same')\n",
    "c2.Draw()"
   ]
  },
  {
   "cell_type": "markdown",
   "metadata": {
    "collapsed": true
   },
   "source": [
    "#### In Data:"
   ]
  },
  {
   "cell_type": "code",
   "execution_count": null,
   "metadata": {},
   "outputs": [],
   "source": [
    "c3 = ROOT.TCanvas(\"datadists\", \"datadists\")\n",
    "histMgenData.Draw('e')\n",
    "histMdetData.Draw('e same')\n",
    "c3.Draw()"
   ]
  },
  {
   "cell_type": "code",
   "execution_count": null,
   "metadata": {},
   "outputs": [],
   "source": [
    "print 'getting tunfolder:'\n",
    "tunfolder = ROOT.TUnfoldDensity(response,ROOT.TUnfold.kHistMapOutputVert,ROOT.TUnfold.kRegModeCurvature, ROOT.TUnfold.kEConstraintNone, ROOT.TUnfoldDensity.kDensityModeBinWidth)"
   ]
  },
  {
   "cell_type": "markdown",
   "metadata": {
    "collapsed": true
   },
   "source": [
    "Set the input, a 1D reconstructed histogram from either MC (closure) or Data (measurement) , binned in the detector level binning."
   ]
  },
  {
   "cell_type": "code",
   "execution_count": null,
   "metadata": {},
   "outputs": [],
   "source": [
    "print 'setting reco input'\n",
    "tunfolder.SetInput( histMdetData )"
   ]
  },
  {
   "cell_type": "markdown",
   "metadata": {},
   "source": [
    "Unfold nScan times with values for the regularization parameter between tauMin and tauMax using the empty TSplines to store the results."
   ]
  },
  {
   "cell_type": "code",
   "execution_count": null,
   "metadata": {},
   "outputs": [],
   "source": [
    "print 'regularizing'\n",
    "nScan=10\n",
    "tauMin=0.0\n",
    "tauMax=0.0\n",
    "iBest=0\n",
    "\n",
    "logTauX = ROOT.MakeNullPointer(ROOT.TSpline)\n",
    "logTauY = ROOT.MakeNullPointer(ROOT.TSpline)\n",
    "lCurve = ROOT.MakeNullPointer(ROOT.TGraph)\n",
    "\n",
    "print 'doing the unfolding'\n",
    "tunfolder.ScanLcurve(nScan,tauMin,tauMax,lCurve,logTauX,logTauY);\n",
    "print 'getting the results'\n",
    "unfolded = tunfolder.GetOutput(\"unfolded\")"
   ]
  },
  {
   "cell_type": "code",
   "execution_count": null,
   "metadata": {},
   "outputs": [],
   "source": []
  },
  {
   "cell_type": "code",
   "execution_count": null,
   "metadata": {},
   "outputs": [],
   "source": [
    "c5 = ROOT.TCanvas('c5', 'c5')\n",
    "unfolded.SetMarkerStyle(22)\n",
    "unfolded.SetMarkerColor(4)\n",
    "unfolded.SetFillColor(0)\n",
    "histMgenData.SetMarkerStyle(21)\n",
    "histMgenData.SetMarkerColor(2)\n",
    "\n",
    "hs = ROOT.THStack(\"hs\", \"hs\")\n",
    "hs.Add( histMgenData, \"hist\")\n",
    "hs.Add( unfolded, \"e\")\n",
    "hs.Draw(\"nostack\")\n",
    "c5.Draw()"
   ]
  },
  {
   "cell_type": "code",
   "execution_count": null,
   "metadata": {},
   "outputs": [],
   "source": []
  },
  {
   "cell_type": "markdown",
   "metadata": {},
   "source": [
    "# Unfold $\\tau_3^{(2)}$"
   ]
  },
  {
   "cell_type": "markdown",
   "metadata": {},
   "source": [
    "#### Below the input Monte Carlo simulation events are read from the file which only contains events meeting the skim criteria set forth in this __[script](https://github.com/kaustuvdatta/jetObservables/blob/102X/python/nSubProducer_gen_reco.py)__\n"
   ]
  },
  {
   "cell_type": "raw",
   "metadata": {},
   "source": [
    "\n",
    "ROOT.TH1.SetDefaultSumw2()\n",
    "f = ROOT.TFile('../AutoObs/CMS/New_Sel/TT_unfold/1/jetObservables_nanoskim_10.root')\n",
    "t = f.Get(\"Events\")"
   ]
  },
  {
   "cell_type": "markdown",
   "metadata": {
    "collapsed": true
   },
   "source": [
    "#### Set the axis ranges for the generator nd detector level distributions as well as the number of bins in each. Note that we want twice as many detector bins as generator level bins as recommended by the TUnfold documenation "
   ]
  },
  {
   "cell_type": "markdown",
   "metadata": {
    "collapsed": true
   },
   "source": [
    "Get the response matrix and input 1D distributions for unfolding."
   ]
  },
  {
   "cell_type": "code",
   "execution_count": null,
   "metadata": {},
   "outputs": [],
   "source": [
    "print np.min(TT16gen_nSub_basis[:,8])\n",
    "print np.min(TT16reco_nSub_basis[:,8])\n",
    "print np.max(TT16gen_nSub_basis[:,8])\n",
    "print np.max(TT16reco_nSub_basis[:,8])"
   ]
  },
  {
   "cell_type": "code",
   "execution_count": null,
   "metadata": {},
   "outputs": [],
   "source": [
    "nDet=32\n",
    "nGen=16\n",
    "xminDet=0.0\n",
    "xmaxDet=0.16\n",
    "xminGen=0.0\n",
    "xmaxGen=0.16\n",
    "#weight_TT16 = (831.76*lumi*1000.)/10199051.*np.ones(TT16_beta4W.shape[0])*TT16_puWeight*TT16_btagWeight*0.8\n"
   ]
  },
  {
   "cell_type": "code",
   "execution_count": null,
   "metadata": {},
   "outputs": [],
   "source": [
    "ROOT.TH1.SetDefaultSumw2()\n",
    "from root_numpy import *\n",
    "\n",
    "histMgenMC = ROOT.TH1D(\"histMgenMC\", \"histMgenMC; #tau_{3}^{2}; Events/(0.02)\", nGen, xminGen,xmaxGen)\n",
    "fill_hist(histMgenMC, TT16gen_nSub_basis[:,8])\n",
    "\n",
    "histMdetMC = ROOT.TH1D(\"histMdetMC\", \"histMdetMC; #tau_{3}^{2}; Events/(0.02)\", nDet, xminDet,xmaxDet)\n",
    "fill_hist(histMdetMC, TT16reco_nSub_basis[:,8])\n",
    "\n",
    "histMgenData = ROOT.TH1D(\"histMgenData\", \"histMgenData; #tau_{3}^{2}; Events/(0.02)\", nGen, xminGen,xmaxGen)\n",
    "fill_hist(histMgenData, TT16truth_nSub_basis[:,8])\n",
    "\n",
    "histMdetData = ROOT.TH1D(\"histMdetData\", \"histMdetData; #tau_{3}^{2}; Events/(0.02)\", nDet, xminDet,xmaxDet)\n",
    "fill_hist(histMdetData, TT16data_nSub_basis[:,8])\n",
    "\n",
    "\n",
    "response = ROOT.TH2D('response', 'response', nDet, xminDet, xmaxDet, nGen, xminGen, xmaxGen)\n",
    "hist2Dfill = np.zeros((TT16reco_nSub_basis[:,8].shape[0], 2))\n",
    "hist2Dfill[:,0] = TT16reco_nSub_basis[:,8].flatten()\n",
    "hist2Dfill[:,1] = TT16gen_nSub_basis[:,8].flatten()\n",
    "fill_hist(response, hist2Dfill)"
   ]
  },
  {
   "cell_type": "raw",
   "metadata": {},
   "source": [
    "xaxis =  array.array('d',[a for a in xrange(nmbinsGen *nptbinsGen + 1 )])\n",
    "nx = len(xaxis)-1\n",
    "\n",
    "print xaxis\n",
    "\n",
    "yaxis =  array.array('d',[a for a in xrange(nmbinsDet *nptbinsDet+1 )])\n",
    "ny = len(yaxis)-1\n",
    "\n",
    "print yaxis\n",
    "\n",
    "h_response = ROOT.TH2D('h_response',   'h_response', nx , xaxis, ny, yaxis )\n",
    "#print h_response2.GetXaxis.GetNbins()\n",
    "print nx\n",
    "print ny\n",
    "nb = nx*ny\n",
    "print nb"
   ]
  },
  {
   "cell_type": "raw",
   "metadata": {
    "collapsed": true
   },
   "source": [
    "response =ROOT.gDirectory.Get(\"response\")\n",
    "histMgenMC=ROOT.gDirectory.Get(\"histMgenMC\")\n",
    "histMdetMC=ROOT.gDirectory.Get(\"histMdetMC\")\n",
    "histMgenData=ROOT.gDirectory.Get(\"histMgenData\")\n",
    "histMdetData=ROOT.gDirectory.Get(\"histMdetData\")"
   ]
  },
  {
   "cell_type": "markdown",
   "metadata": {
    "collapsed": true
   },
   "source": [
    "Set the X and Y axis labels"
   ]
  },
  {
   "cell_type": "code",
   "execution_count": null,
   "metadata": {},
   "outputs": [],
   "source": [
    "response.SetTitle(\";#tau_{3}^{2}(det);#tau_{3}^{2}(gen)\")\n",
    "\n",
    "\n",
    "histMgenMC.SetTitle(\";#tau_{3}^{2}(gen)\")\n",
    "#histMgenMC.SetFillColor(ROOT.kRed)\n",
    "#histMgenMC.SetLineColor(ROOT.kRed)\n",
    "\n",
    "histMdetMC.SetTitle(\";#tau_{3}^{2}(det)\")\n",
    "#histMdetMC.SetFillColor(ROOT.kBlue)\n",
    "#histMdetMC.SetLineColor(ROOT.kBlue)\n",
    "\n",
    "\n",
    "histMgenData.SetTitle(\";#tau_{3}^{2}(gen)\")\n",
    "#histMgenData.SetFillColor(ROOT.kGreen+2)\n",
    "#histMgenData.SetLineColor(ROOT.kGreen+2)\n",
    "\n",
    "histMdetData.SetTitle(\";#tau_{3}^{2}(det)\")\n",
    "#histMdetData.SetFillColor(ROOT.kBlack)\n",
    "#histMdetData.SetLineColor(ROOT.kBlack)"
   ]
  },
  {
   "cell_type": "markdown",
   "metadata": {
    "collapsed": true
   },
   "source": [
    "Draw the variables at reco and gen level and for \"data\""
   ]
  },
  {
   "cell_type": "code",
   "execution_count": null,
   "metadata": {},
   "outputs": [],
   "source": [
    "c1 = ROOT.TCanvas(\"chistMgenMC1\", \"chistMgenMC1\")\n",
    "histMgenMC.Draw(\"e\")\n",
    "histMdetMC.Draw(\"e same\")\n",
    "c1.Draw()"
   ]
  },
  {
   "cell_type": "code",
   "execution_count": null,
   "metadata": {},
   "outputs": [],
   "source": [
    "c1 = ROOT.TCanvas(\"chistMgenMC1\", \"chistMgenMC1\")\n",
    "histMgenData.Draw(\"e\")\n",
    "histMdetData.Draw(\"e same\")\n",
    "c1.Draw()"
   ]
  },
  {
   "cell_type": "markdown",
   "metadata": {
    "collapsed": true
   },
   "source": [
    "Draw the response matrix."
   ]
  },
  {
   "cell_type": "code",
   "execution_count": null,
   "metadata": {
    "scrolled": false
   },
   "outputs": [],
   "source": [
    "c1 = ROOT.TCanvas(\"cresponse1\", \"cresponse1\")\n",
    "response.Draw(\"colz\")\n",
    "c1.Draw()"
   ]
  },
  {
   "cell_type": "code",
   "execution_count": null,
   "metadata": {},
   "outputs": [],
   "source": [
    "#### In MC :"
   ]
  },
  {
   "cell_type": "code",
   "execution_count": null,
   "metadata": {},
   "outputs": [],
   "source": [
    "c2 = ROOT.TCanvas(\"MCcompare\", \"MCcompare\")\n",
    "histMgenMC.Draw('e')\n",
    "histMdetMC.Draw('e same')\n",
    "c2.Draw()"
   ]
  },
  {
   "cell_type": "markdown",
   "metadata": {
    "collapsed": true
   },
   "source": [
    "#### In Data:"
   ]
  },
  {
   "cell_type": "code",
   "execution_count": null,
   "metadata": {},
   "outputs": [],
   "source": [
    "c3 = ROOT.TCanvas(\"datadists\", \"datadists\")\n",
    "histMgenData.Draw('e')\n",
    "histMdetData.Draw('e same')\n",
    "c3.Draw()"
   ]
  },
  {
   "cell_type": "code",
   "execution_count": null,
   "metadata": {},
   "outputs": [],
   "source": [
    "print 'getting tunfolder:'\n",
    "tunfolder = ROOT.TUnfoldDensity(response,ROOT.TUnfold.kHistMapOutputVert,ROOT.TUnfold.kRegModeCurvature, ROOT.TUnfold.kEConstraintNone, ROOT.TUnfoldDensity.kDensityModeBinWidth)"
   ]
  },
  {
   "cell_type": "markdown",
   "metadata": {
    "collapsed": true
   },
   "source": [
    "Set the input, a 1D reconstructed histogram from either MC (closure) or Data (measurement) , binned in the detector level binning."
   ]
  },
  {
   "cell_type": "code",
   "execution_count": null,
   "metadata": {},
   "outputs": [],
   "source": [
    "print 'setting reco input'\n",
    "tunfolder.SetInput( histMdetData )"
   ]
  },
  {
   "cell_type": "markdown",
   "metadata": {},
   "source": [
    "Unfold nScan times with values for the regularization parameter between tauMin and tauMax using the empty TSplines to store the results."
   ]
  },
  {
   "cell_type": "code",
   "execution_count": null,
   "metadata": {},
   "outputs": [],
   "source": [
    "print 'regularizing'\n",
    "nScan=10\n",
    "tauMin=0.0\n",
    "tauMax=0.0\n",
    "iBest=0\n",
    "\n",
    "logTauX = ROOT.MakeNullPointer(ROOT.TSpline)\n",
    "logTauY = ROOT.MakeNullPointer(ROOT.TSpline)\n",
    "lCurve = ROOT.MakeNullPointer(ROOT.TGraph)\n",
    "\n",
    "print 'doing the unfolding'\n",
    "tunfolder.ScanLcurve(nScan,tauMin,tauMax,lCurve,logTauX,logTauY);\n",
    "print 'getting the results'\n",
    "unfolded = tunfolder.GetOutput(\"unfolded\")"
   ]
  },
  {
   "cell_type": "code",
   "execution_count": null,
   "metadata": {},
   "outputs": [],
   "source": []
  },
  {
   "cell_type": "code",
   "execution_count": null,
   "metadata": {},
   "outputs": [],
   "source": [
    "c5 = ROOT.TCanvas('c5', 'c5')\n",
    "unfolded.SetMarkerStyle(22)\n",
    "unfolded.SetMarkerColor(4)\n",
    "unfolded.SetFillColor(0)\n",
    "histMgenData.SetMarkerStyle(21)\n",
    "histMgenData.SetMarkerColor(2)\n",
    "\n",
    "hs = ROOT.THStack(\"hs\", \"hs\")\n",
    "hs.Add( histMgenData, \"hist\")\n",
    "hs.Add( unfolded, \"e\")\n",
    "hs.Draw(\"nostack\")\n",
    "c5.Draw()"
   ]
  },
  {
   "cell_type": "code",
   "execution_count": null,
   "metadata": {},
   "outputs": [],
   "source": []
  },
  {
   "cell_type": "code",
   "execution_count": null,
   "metadata": {},
   "outputs": [],
   "source": []
  },
  {
   "cell_type": "markdown",
   "metadata": {},
   "source": [
    "# Unfold $\\tau_4^{(0.5)}$"
   ]
  },
  {
   "cell_type": "markdown",
   "metadata": {},
   "source": [
    "#### Below the input Monte Carlo simulation events are read from the file which only contains events meeting the skim criteria set forth in this __[script](https://github.com/kaustuvdatta/jetObservables/blob/102X/python/nSubProducer_gen_reco.py)__\n"
   ]
  },
  {
   "cell_type": "raw",
   "metadata": {},
   "source": [
    "\n",
    "ROOT.TH1.SetDefaultSumw2()\n",
    "f = ROOT.TFile('../AutoObs/CMS/New_Sel/TT_unfold/1/jetObservables_nanoskim_10.root')\n",
    "t = f.Get(\"Events\")"
   ]
  },
  {
   "cell_type": "markdown",
   "metadata": {
    "collapsed": true
   },
   "source": [
    "#### Set the axis ranges for the generator nd detector level distributions as well as the number of bins in each. Note that we want twice as many detector bins as generator level bins as recommended by the TUnfold documenation "
   ]
  },
  {
   "cell_type": "markdown",
   "metadata": {
    "collapsed": true
   },
   "source": [
    "Get the response matrix and input 1D distributions for unfolding."
   ]
  },
  {
   "cell_type": "code",
   "execution_count": null,
   "metadata": {},
   "outputs": [],
   "source": [
    "print np.min(TT16gen_nSub_basis[:,9])\n",
    "print np.min(TT16reco_nSub_basis[:,9])\n",
    "print np.max(TT16gen_nSub_basis[:,9])\n",
    "print np.max(TT16reco_nSub_basis[:,9])"
   ]
  },
  {
   "cell_type": "code",
   "execution_count": null,
   "metadata": {},
   "outputs": [],
   "source": [
    "nDet=28\n",
    "nGen=14\n",
    "xminDet=0.0\n",
    "xmaxDet=0.56\n",
    "xminGen=0.0\n",
    "xmaxGen=0.56\n",
    "#weight_TT16 = (831.76*lumi*1000.)/10199051.*np.ones(TT16_beta4W.shape[0])*TT16_puWeight*TT16_btagWeight*0.8\n"
   ]
  },
  {
   "cell_type": "code",
   "execution_count": null,
   "metadata": {},
   "outputs": [],
   "source": [
    "ROOT.TH1.SetDefaultSumw2()\n",
    "from root_numpy import *\n",
    "\n",
    "histMgenMC = ROOT.TH1D(\"histMgenMC\", \"histMgenMC; #tau_{4}^{0.5}; Events/(0.02)\", nGen, xminGen,xmaxGen)\n",
    "fill_hist(histMgenMC, TT16gen_nSub_basis[:,9])\n",
    "\n",
    "histMdetMC = ROOT.TH1D(\"histMdetMC\", \"histMdetMC; #tau_{4}^{0.5}; Events/(0.02)\", nDet, xminDet,xmaxDet)\n",
    "fill_hist(histMdetMC, TT16reco_nSub_basis[:,9])\n",
    "\n",
    "histMgenData = ROOT.TH1D(\"histMgenData\", \"histMgenData; #tau_{4}^{0.5}; Events/(0.02)\", nGen, xminGen,xmaxGen)\n",
    "fill_hist(histMgenData, TT16truth_nSub_basis[:,9])\n",
    "\n",
    "histMdetData = ROOT.TH1D(\"histMdetData\", \"histMdetData; #tau_{4}^{0.5}; Events/(0.02)\", nDet, xminDet,xmaxDet)\n",
    "fill_hist(histMdetData, TT16data_nSub_basis[:,9])\n",
    "\n",
    "\n",
    "response = ROOT.TH2D('response', 'response', nDet, xminDet, xmaxDet, nGen, xminGen, xmaxGen)\n",
    "hist2Dfill = np.zeros((TT16reco_nSub_basis[:,9].shape[0], 2))\n",
    "hist2Dfill[:,0] = TT16reco_nSub_basis[:,9].flatten()\n",
    "hist2Dfill[:,1] = TT16gen_nSub_basis[:,9].flatten()\n",
    "fill_hist(response, hist2Dfill)"
   ]
  },
  {
   "cell_type": "raw",
   "metadata": {},
   "source": [
    "xaxis =  array.array('d',[a for a in xrange(nmbinsGen *nptbinsGen + 1 )])\n",
    "nx = len(xaxis)-1\n",
    "\n",
    "print xaxis\n",
    "\n",
    "yaxis =  array.array('d',[a for a in xrange(nmbinsDet *nptbinsDet+1 )])\n",
    "ny = len(yaxis)-1\n",
    "\n",
    "print yaxis\n",
    "\n",
    "h_response = ROOT.TH2D('h_response',   'h_response', nx , xaxis, ny, yaxis )\n",
    "#print h_response2.GetXaxis.GetNbins()\n",
    "print nx\n",
    "print ny\n",
    "nb = nx*ny\n",
    "print nb"
   ]
  },
  {
   "cell_type": "raw",
   "metadata": {
    "collapsed": true
   },
   "source": [
    "response =ROOT.gDirectory.Get(\"response\")\n",
    "histMgenMC=ROOT.gDirectory.Get(\"histMgenMC\")\n",
    "histMdetMC=ROOT.gDirectory.Get(\"histMdetMC\")\n",
    "histMgenData=ROOT.gDirectory.Get(\"histMgenData\")\n",
    "histMdetData=ROOT.gDirectory.Get(\"histMdetData\")"
   ]
  },
  {
   "cell_type": "markdown",
   "metadata": {
    "collapsed": true
   },
   "source": [
    "Set the X and Y axis labels"
   ]
  },
  {
   "cell_type": "code",
   "execution_count": null,
   "metadata": {},
   "outputs": [],
   "source": [
    "response.SetTitle(\";#tau_{4}^{0.5}(det);#tau_{4}^{0.5}(gen)\")\n",
    "\n",
    "\n",
    "histMgenMC.SetTitle(\";#tau_{4}^{0.5}(gen)\")\n",
    "#histMgenMC.SetFillColor(ROOT.kRed)\n",
    "#histMgenMC.SetLineColor(ROOT.kRed)\n",
    "\n",
    "histMdetMC.SetTitle(\";#tau_{4}^{0.5}(det)\")\n",
    "#histMdetMC.SetFillColor(ROOT.kBlue)\n",
    "#histMdetMC.SetLineColor(ROOT.kBlue)\n",
    "\n",
    "\n",
    "histMgenData.SetTitle(\";#tau_{4}^{0.5}(gen)\")\n",
    "#histMgenData.SetFillColor(ROOT.kGreen+2)\n",
    "#histMgenData.SetLineColor(ROOT.kGreen+2)\n",
    "\n",
    "histMdetData.SetTitle(\";#tau_{4}^{0.5}(det)\")\n",
    "#histMdetData.SetFillColor(ROOT.kBlack)\n",
    "#histMdetData.SetLineColor(ROOT.kBlack)"
   ]
  },
  {
   "cell_type": "markdown",
   "metadata": {
    "collapsed": true
   },
   "source": [
    "Draw the variables at reco and gen level and for \"data\""
   ]
  },
  {
   "cell_type": "code",
   "execution_count": null,
   "metadata": {},
   "outputs": [],
   "source": [
    "c1 = ROOT.TCanvas(\"chistMgenMC1\", \"chistMgenMC1\")\n",
    "histMgenMC.Draw(\"e\")\n",
    "histMdetMC.Draw(\"e same\")\n",
    "c1.Draw()"
   ]
  },
  {
   "cell_type": "code",
   "execution_count": null,
   "metadata": {},
   "outputs": [],
   "source": [
    "c1 = ROOT.TCanvas(\"chistMgenMC1\", \"chistMgenMC1\")\n",
    "histMgenData.Draw(\"e\")\n",
    "histMdetData.Draw(\"e same\")\n",
    "c1.Draw()"
   ]
  },
  {
   "cell_type": "markdown",
   "metadata": {
    "collapsed": true
   },
   "source": [
    "Draw the response matrix."
   ]
  },
  {
   "cell_type": "code",
   "execution_count": null,
   "metadata": {
    "scrolled": false
   },
   "outputs": [],
   "source": [
    "c1 = ROOT.TCanvas(\"cresponse1\", \"cresponse1\")\n",
    "response.Draw(\"colz\")\n",
    "c1.Draw()"
   ]
  },
  {
   "cell_type": "code",
   "execution_count": null,
   "metadata": {},
   "outputs": [],
   "source": [
    "#### In MC :"
   ]
  },
  {
   "cell_type": "code",
   "execution_count": null,
   "metadata": {},
   "outputs": [],
   "source": [
    "c2 = ROOT.TCanvas(\"MCcompare\", \"MCcompare\")\n",
    "histMgenMC.Draw('e')\n",
    "histMdetMC.Draw('e same')\n",
    "c2.Draw()"
   ]
  },
  {
   "cell_type": "markdown",
   "metadata": {
    "collapsed": true
   },
   "source": [
    "#### In Data:"
   ]
  },
  {
   "cell_type": "code",
   "execution_count": null,
   "metadata": {},
   "outputs": [],
   "source": [
    "c3 = ROOT.TCanvas(\"datadists\", \"datadists\")\n",
    "histMgenData.Draw('e')\n",
    "histMdetData.Draw('e same')\n",
    "c3.Draw()"
   ]
  },
  {
   "cell_type": "code",
   "execution_count": null,
   "metadata": {},
   "outputs": [],
   "source": [
    "print 'getting tunfolder:'\n",
    "tunfolder = ROOT.TUnfoldDensity(response,ROOT.TUnfold.kHistMapOutputVert,ROOT.TUnfold.kRegModeCurvature, ROOT.TUnfold.kEConstraintNone, ROOT.TUnfoldDensity.kDensityModeBinWidth)"
   ]
  },
  {
   "cell_type": "markdown",
   "metadata": {
    "collapsed": true
   },
   "source": [
    "Set the input, a 1D reconstructed histogram from either MC (closure) or Data (measurement) , binned in the detector level binning."
   ]
  },
  {
   "cell_type": "code",
   "execution_count": null,
   "metadata": {},
   "outputs": [],
   "source": [
    "print 'setting reco input'\n",
    "tunfolder.SetInput( histMdetData )"
   ]
  },
  {
   "cell_type": "markdown",
   "metadata": {},
   "source": [
    "Unfold nScan times with values for the regularization parameter between tauMin and tauMax using the empty TSplines to store the results."
   ]
  },
  {
   "cell_type": "code",
   "execution_count": null,
   "metadata": {},
   "outputs": [],
   "source": [
    "print 'regularizing'\n",
    "nScan=50\n",
    "tauMin=0.0\n",
    "tauMax=0.0\n",
    "iBest=0\n",
    "\n",
    "logTauX = ROOT.MakeNullPointer(ROOT.TSpline)\n",
    "logTauY = ROOT.MakeNullPointer(ROOT.TSpline)\n",
    "lCurve = ROOT.MakeNullPointer(ROOT.TGraph)\n",
    "\n",
    "print 'doing the unfolding'\n",
    "tunfolder.ScanLcurve(nScan,tauMin,tauMax,lCurve,logTauX,logTauY);\n",
    "print 'getting the results'\n",
    "unfolded = tunfolder.GetOutput(\"unfolded\")"
   ]
  },
  {
   "cell_type": "code",
   "execution_count": null,
   "metadata": {},
   "outputs": [],
   "source": []
  },
  {
   "cell_type": "code",
   "execution_count": null,
   "metadata": {},
   "outputs": [],
   "source": [
    "c5 = ROOT.TCanvas('c5', 'c5')\n",
    "unfolded.SetMarkerStyle(22)\n",
    "unfolded.SetMarkerColor(4)\n",
    "unfolded.SetFillColor(0)\n",
    "histMgenData.SetMarkerStyle(21)\n",
    "histMgenData.SetMarkerColor(2)\n",
    "\n",
    "hs = ROOT.THStack(\"hs\", \"hs\")\n",
    "hs.Add( histMgenData, \"hist\")\n",
    "hs.Add( unfolded, \"e\")\n",
    "hs.Draw(\"nostack\")\n",
    "c5.Draw()"
   ]
  },
  {
   "cell_type": "code",
   "execution_count": null,
   "metadata": {},
   "outputs": [],
   "source": []
  },
  {
   "cell_type": "markdown",
   "metadata": {},
   "source": [
    "# Unfold $\\tau_4^{(1)}$"
   ]
  },
  {
   "cell_type": "markdown",
   "metadata": {},
   "source": [
    "#### Below the input Monte Carlo simulation events are read from the file which only contains events meeting the skim criteria set forth in this __[script](https://github.com/kaustuvdatta/jetObservables/blob/102X/python/nSubProducer_gen_reco.py)__\n"
   ]
  },
  {
   "cell_type": "raw",
   "metadata": {},
   "source": [
    "\n",
    "ROOT.TH1.SetDefaultSumw2()\n",
    "f = ROOT.TFile('../AutoObs/CMS/New_Sel/TT_unfold/1/jetObservables_nanoskim_10.root')\n",
    "t = f.Get(\"Events\")"
   ]
  },
  {
   "cell_type": "markdown",
   "metadata": {
    "collapsed": true
   },
   "source": [
    "#### Set the axis ranges for the generator nd detector level distributions as well as the number of bins in each. Note that we want twice as many detector bins as generator level bins as recommended by the TUnfold documenation "
   ]
  },
  {
   "cell_type": "markdown",
   "metadata": {
    "collapsed": true
   },
   "source": [
    "Get the response matrix and input 1D distributions for unfolding."
   ]
  },
  {
   "cell_type": "code",
   "execution_count": null,
   "metadata": {},
   "outputs": [],
   "source": [
    "print np.min(TT16gen_nSub_basis[:,10])\n",
    "print np.min(TT16reco_nSub_basis[:,10])\n",
    "print np.max(TT16gen_nSub_basis[:,10])\n",
    "print np.max(TT16reco_nSub_basis[:,10])"
   ]
  },
  {
   "cell_type": "code",
   "execution_count": null,
   "metadata": {},
   "outputs": [],
   "source": [
    "nDet=50\n",
    "nGen=25\n",
    "xminDet=0.0\n",
    "xmaxDet=0.3\n",
    "xminGen=0.0\n",
    "xmaxGen=0.3\n",
    "#weight_TT16 = (831.76*lumi*1000.)/10199051.*np.ones(TT16_beta4W.shape[0])*TT16_puWeight*TT16_btagWeight*0.8\n"
   ]
  },
  {
   "cell_type": "code",
   "execution_count": null,
   "metadata": {},
   "outputs": [],
   "source": [
    "ROOT.TH1.SetDefaultSumw2()\n",
    "from root_numpy import *\n",
    "\n",
    "histMgenMC = ROOT.TH1D(\"histMgenMC\", \"histMgenMC; #tau_{4}^{1}; Events/(0.02)\", nGen, xminGen,xmaxGen)\n",
    "fill_hist(histMgenMC, TT16gen_nSub_basis[:,10])\n",
    "\n",
    "histMdetMC = ROOT.TH1D(\"histMdetMC\", \"histMdetMC; #tau_{4}^{1}; Events/(0.02)\", nDet, xminDet,xmaxDet)\n",
    "fill_hist(histMdetMC, TT16reco_nSub_basis[:,10])\n",
    "\n",
    "histMgenData = ROOT.TH1D(\"histMgenData\", \"histMgenData; #tau_{4}^{1}; Events/(0.02)\", nGen, xminGen,xmaxGen)\n",
    "fill_hist(histMgenData, TT16truth_nSub_basis[:,10])\n",
    "\n",
    "histMdetData = ROOT.TH1D(\"histMdetData\", \"histMdetData; #tau_{4}^{1}; Events/(0.02)\", nDet, xminDet,xmaxDet)\n",
    "fill_hist(histMdetData, TT16data_nSub_basis[:,10])\n",
    "\n",
    "\n",
    "response = ROOT.TH2D('response', 'response', nDet, xminDet, xmaxDet, nGen, xminGen, xmaxGen)\n",
    "hist2Dfill = np.zeros((TT16reco_nSub_basis[:,10].shape[0], 2))\n",
    "hist2Dfill[:,0] = TT16reco_nSub_basis[:,10].flatten()\n",
    "hist2Dfill[:,1] = TT16gen_nSub_basis[:,10].flatten()\n",
    "fill_hist(response, hist2Dfill)"
   ]
  },
  {
   "cell_type": "raw",
   "metadata": {},
   "source": [
    "xaxis =  array.array('d',[a for a in xrange(nmbinsGen *nptbinsGen + 1 )])\n",
    "nx = len(xaxis)-1\n",
    "\n",
    "print xaxis\n",
    "\n",
    "yaxis =  array.array('d',[a for a in xrange(nmbinsDet *nptbinsDet+1 )])\n",
    "ny = len(yaxis)-1\n",
    "\n",
    "print yaxis\n",
    "\n",
    "h_response = ROOT.TH2D('h_response',   'h_response', nx , xaxis, ny, yaxis )\n",
    "#print h_response2.GetXaxis.GetNbins()\n",
    "print nx\n",
    "print ny\n",
    "nb = nx*ny\n",
    "print nb"
   ]
  },
  {
   "cell_type": "raw",
   "metadata": {
    "collapsed": true
   },
   "source": [
    "response =ROOT.gDirectory.Get(\"response\")\n",
    "histMgenMC=ROOT.gDirectory.Get(\"histMgenMC\")\n",
    "histMdetMC=ROOT.gDirectory.Get(\"histMdetMC\")\n",
    "histMgenData=ROOT.gDirectory.Get(\"histMgenData\")\n",
    "histMdetData=ROOT.gDirectory.Get(\"histMdetData\")"
   ]
  },
  {
   "cell_type": "markdown",
   "metadata": {
    "collapsed": true
   },
   "source": [
    "Set the X and Y axis labels"
   ]
  },
  {
   "cell_type": "code",
   "execution_count": null,
   "metadata": {},
   "outputs": [],
   "source": [
    "response.SetTitle(\";#tau_{4}^{1}(det);#tau_{4}^{1}(gen)\")\n",
    "\n",
    "\n",
    "histMgenMC.SetTitle(\";#tau_{4}^{1}(gen)\")\n",
    "#histMgenMC.SetFillColor(ROOT.kRed)\n",
    "#histMgenMC.SetLineColor(ROOT.kRed)\n",
    "\n",
    "histMdetMC.SetTitle(\";#tau_{4}^{1}(det)\")\n",
    "#histMdetMC.SetFillColor(ROOT.kBlue)\n",
    "#histMdetMC.SetLineColor(ROOT.kBlue)\n",
    "\n",
    "\n",
    "histMgenData.SetTitle(\";#tau_{4}^{1}(gen)\")\n",
    "#histMgenData.SetFillColor(ROOT.kGreen+2)\n",
    "#histMgenData.SetLineColor(ROOT.kGreen+2)\n",
    "\n",
    "histMdetData.SetTitle(\";#tau_{4}^{1}(det)\")\n",
    "#histMdetData.SetFillColor(ROOT.kBlack)\n",
    "#histMdetData.SetLineColor(ROOT.kBlack)"
   ]
  },
  {
   "cell_type": "markdown",
   "metadata": {
    "collapsed": true
   },
   "source": [
    "Draw the variables at reco and gen level and for \"data\""
   ]
  },
  {
   "cell_type": "code",
   "execution_count": null,
   "metadata": {},
   "outputs": [],
   "source": [
    "c1 = ROOT.TCanvas(\"chistMgenMC1\", \"chistMgenMC1\")\n",
    "histMgenMC.Draw(\"e\")\n",
    "histMdetMC.Draw(\"e same\")\n",
    "c1.Draw()"
   ]
  },
  {
   "cell_type": "code",
   "execution_count": null,
   "metadata": {},
   "outputs": [],
   "source": [
    "c1 = ROOT.TCanvas(\"chistMgenMC1\", \"chistMgenMC1\")\n",
    "histMgenData.Draw(\"e\")\n",
    "histMdetData.Draw(\"e same\")\n",
    "c1.Draw()"
   ]
  },
  {
   "cell_type": "markdown",
   "metadata": {
    "collapsed": true
   },
   "source": [
    "Draw the response matrix."
   ]
  },
  {
   "cell_type": "code",
   "execution_count": null,
   "metadata": {
    "scrolled": false
   },
   "outputs": [],
   "source": [
    "c1 = ROOT.TCanvas(\"cresponse1\", \"cresponse1\")\n",
    "response.Draw(\"colz\")\n",
    "c1.Draw()"
   ]
  },
  {
   "cell_type": "code",
   "execution_count": null,
   "metadata": {},
   "outputs": [],
   "source": [
    "#### In MC :"
   ]
  },
  {
   "cell_type": "code",
   "execution_count": null,
   "metadata": {},
   "outputs": [],
   "source": [
    "c2 = ROOT.TCanvas(\"MCcompare\", \"MCcompare\")\n",
    "histMgenMC.Draw('e')\n",
    "histMdetMC.Draw('e same')\n",
    "c2.Draw()"
   ]
  },
  {
   "cell_type": "markdown",
   "metadata": {
    "collapsed": true
   },
   "source": [
    "#### In Data:"
   ]
  },
  {
   "cell_type": "code",
   "execution_count": null,
   "metadata": {},
   "outputs": [],
   "source": [
    "c3 = ROOT.TCanvas(\"datadists\", \"datadists\")\n",
    "histMgenData.Draw('e')\n",
    "histMdetData.Draw('e same')\n",
    "c3.Draw()"
   ]
  },
  {
   "cell_type": "code",
   "execution_count": null,
   "metadata": {},
   "outputs": [],
   "source": [
    "print 'getting tunfolder:'\n",
    "tunfolder = ROOT.TUnfoldDensity(response,ROOT.TUnfold.kHistMapOutputVert,ROOT.TUnfold.kRegModeCurvature, ROOT.TUnfold.kEConstraintNone, ROOT.TUnfoldDensity.kDensityModeBinWidth)"
   ]
  },
  {
   "cell_type": "markdown",
   "metadata": {
    "collapsed": true
   },
   "source": [
    "Set the input, a 1D reconstructed histogram from either MC (closure) or Data (measurement) , binned in the detector level binning."
   ]
  },
  {
   "cell_type": "code",
   "execution_count": null,
   "metadata": {},
   "outputs": [],
   "source": [
    "print 'setting reco input'\n",
    "tunfolder.SetInput( histMdetData )"
   ]
  },
  {
   "cell_type": "markdown",
   "metadata": {},
   "source": [
    "Unfold nScan times with values for the regularization parameter between tauMin and tauMax using the empty TSplines to store the results."
   ]
  },
  {
   "cell_type": "code",
   "execution_count": null,
   "metadata": {},
   "outputs": [],
   "source": [
    "print 'regularizing'\n",
    "nScan=20\n",
    "tauMin=0.0\n",
    "tauMax=0.0\n",
    "iBest=0\n",
    "\n",
    "logTauX = ROOT.MakeNullPointer(ROOT.TSpline)\n",
    "logTauY = ROOT.MakeNullPointer(ROOT.TSpline)\n",
    "lCurve = ROOT.MakeNullPointer(ROOT.TGraph)\n",
    "\n",
    "print 'doing the unfolding'\n",
    "tunfolder.ScanLcurve(nScan,tauMin,tauMax,lCurve,logTauX,logTauY);\n",
    "print 'getting the results'\n",
    "unfolded = tunfolder.GetOutput(\"unfolded\")"
   ]
  },
  {
   "cell_type": "code",
   "execution_count": null,
   "metadata": {},
   "outputs": [],
   "source": []
  },
  {
   "cell_type": "code",
   "execution_count": null,
   "metadata": {},
   "outputs": [],
   "source": [
    "c5 = ROOT.TCanvas('c5', 'c5')\n",
    "unfolded.SetMarkerStyle(22)\n",
    "unfolded.SetMarkerColor(4)\n",
    "unfolded.SetFillColor(0)\n",
    "histMgenData.SetMarkerStyle(21)\n",
    "histMgenData.SetMarkerColor(2)\n",
    "\n",
    "hs = ROOT.THStack(\"hs\", \"hs\")\n",
    "hs.Add( histMgenData, \"hist\")\n",
    "hs.Add( unfolded, \"e\")\n",
    "hs.Draw(\"nostack\")\n",
    "c5.Draw()"
   ]
  },
  {
   "cell_type": "code",
   "execution_count": null,
   "metadata": {},
   "outputs": [],
   "source": []
  },
  {
   "cell_type": "markdown",
   "metadata": {},
   "source": [
    "# Unfold $\\tau_4^{(2)}$"
   ]
  },
  {
   "cell_type": "markdown",
   "metadata": {},
   "source": [
    "#### Below the input Monte Carlo simulation events are read from the file which only contains events meeting the skim criteria set forth in this __[script](https://github.com/kaustuvdatta/jetObservables/blob/102X/python/nSubProducer_gen_reco.py)__\n"
   ]
  },
  {
   "cell_type": "raw",
   "metadata": {},
   "source": [
    "\n",
    "ROOT.TH1.SetDefaultSumw2()\n",
    "f = ROOT.TFile('../AutoObs/CMS/New_Sel/TT_unfold/1/jetObservables_nanoskim_10.root')\n",
    "t = f.Get(\"Events\")"
   ]
  },
  {
   "cell_type": "markdown",
   "metadata": {
    "collapsed": true
   },
   "source": [
    "#### Set the axis ranges for the generator nd detector level distributions as well as the number of bins in each. Note that we want twice as many detector bins as generator level bins as recommended by the TUnfold documenation "
   ]
  },
  {
   "cell_type": "markdown",
   "metadata": {
    "collapsed": true
   },
   "source": [
    "Get the response matrix and input 1D distributions for unfolding."
   ]
  },
  {
   "cell_type": "code",
   "execution_count": null,
   "metadata": {},
   "outputs": [],
   "source": [
    "print np.min(TT16gen_nSub_basis[:,11])\n",
    "print np.min(TT16reco_nSub_basis[:,11])\n",
    "print np.max(TT16gen_nSub_basis[:,11])\n",
    "print np.max(TT16reco_nSub_basis[:,11])"
   ]
  },
  {
   "cell_type": "code",
   "execution_count": null,
   "metadata": {},
   "outputs": [],
   "source": [
    "nDet=30\n",
    "nGen=15\n",
    "xminDet=0.0\n",
    "xmaxDet=0.09\n",
    "xminGen=0.0\n",
    "xmaxGen=0.09\n",
    "#weight_TT16 = (831.76*lumi*1000.)/10199051.*np.ones(TT16_beta4W.shape[0])*TT16_puWeight*TT16_btagWeight*0.8\n"
   ]
  },
  {
   "cell_type": "code",
   "execution_count": null,
   "metadata": {},
   "outputs": [],
   "source": [
    "ROOT.TH1.SetDefaultSumw2()\n",
    "from root_numpy import *\n",
    "\n",
    "histMgenMC = ROOT.TH1D(\"histMgenMC\", \"histMgenMC; #tau_{4}^{2}; Events/(0.02)\", nGen, xminGen,xmaxGen)\n",
    "fill_hist(histMgenMC, TT16gen_nSub_basis[:,11])\n",
    "\n",
    "histMdetMC = ROOT.TH1D(\"histMdetMC\", \"histMdetMC; #tau_{4}^{2}; Events/(0.02)\", nDet, xminDet,xmaxDet)\n",
    "fill_hist(histMdetMC, TT16reco_nSub_basis[:,11])\n",
    "\n",
    "histMgenData = ROOT.TH1D(\"histMgenData\", \"histMgenData; #tau_{4}^{2}; Events/(0.02)\", nGen, xminGen,xmaxGen)\n",
    "fill_hist(histMgenData, TT16truth_nSub_basis[:,11])\n",
    "\n",
    "histMdetData = ROOT.TH1D(\"histMdetData\", \"histMdetData; #tau_{4}^{2}; Events/(0.02)\", nDet, xminDet,xmaxDet)\n",
    "fill_hist(histMdetData, TT16data_nSub_basis[:,11])\n",
    "\n",
    "\n",
    "response = ROOT.TH2D('response', 'response', nDet, xminDet, xmaxDet, nGen, xminGen, xmaxGen)\n",
    "hist2Dfill = np.zeros((TT16reco_nSub_basis[:,11].shape[0], 2))\n",
    "hist2Dfill[:,0] = TT16reco_nSub_basis[:,11].flatten()\n",
    "hist2Dfill[:,1] = TT16gen_nSub_basis[:,11].flatten()\n",
    "fill_hist(response, hist2Dfill)"
   ]
  },
  {
   "cell_type": "raw",
   "metadata": {},
   "source": [
    "xaxis =  array.array('d',[a for a in xrange(nmbinsGen *nptbinsGen + 1 )])\n",
    "nx = len(xaxis)-1\n",
    "\n",
    "print xaxis\n",
    "\n",
    "yaxis =  array.array('d',[a for a in xrange(nmbinsDet *nptbinsDet+1 )])\n",
    "ny = len(yaxis)-1\n",
    "\n",
    "print yaxis\n",
    "\n",
    "h_response = ROOT.TH2D('h_response',   'h_response', nx , xaxis, ny, yaxis )\n",
    "#print h_response2.GetXaxis.GetNbins()\n",
    "print nx\n",
    "print ny\n",
    "nb = nx*ny\n",
    "print nb"
   ]
  },
  {
   "cell_type": "raw",
   "metadata": {
    "collapsed": true
   },
   "source": [
    "response =ROOT.gDirectory.Get(\"response\")\n",
    "histMgenMC=ROOT.gDirectory.Get(\"histMgenMC\")\n",
    "histMdetMC=ROOT.gDirectory.Get(\"histMdetMC\")\n",
    "histMgenData=ROOT.gDirectory.Get(\"histMgenData\")\n",
    "histMdetData=ROOT.gDirectory.Get(\"histMdetData\")"
   ]
  },
  {
   "cell_type": "markdown",
   "metadata": {
    "collapsed": true
   },
   "source": [
    "Set the X and Y axis labels"
   ]
  },
  {
   "cell_type": "code",
   "execution_count": null,
   "metadata": {},
   "outputs": [],
   "source": [
    "response.SetTitle(\";#tau_{4}^{2}(det);#tau_{4}^{2}(gen)\")\n",
    "\n",
    "\n",
    "histMgenMC.SetTitle(\";#tau_{4}^{2}(gen)\")\n",
    "#histMgenMC.SetFillColor(ROOT.kRed)\n",
    "#histMgenMC.SetLineColor(ROOT.kRed)\n",
    "\n",
    "histMdetMC.SetTitle(\";#tau_{4}^{2}(det)\")\n",
    "#histMdetMC.SetFillColor(ROOT.kBlue)\n",
    "#histMdetMC.SetLineColor(ROOT.kBlue)\n",
    "\n",
    "\n",
    "histMgenData.SetTitle(\";#tau_{4}^{2}(gen)\")\n",
    "#histMgenData.SetFillColor(ROOT.kGreen+2)\n",
    "#histMgenData.SetLineColor(ROOT.kGreen+2)\n",
    "\n",
    "histMdetData.SetTitle(\";#tau_{4}^{2}(det)\")\n",
    "#histMdetData.SetFillColor(ROOT.kBlack)\n",
    "#histMdetData.SetLineColor(ROOT.kBlack)"
   ]
  },
  {
   "cell_type": "markdown",
   "metadata": {
    "collapsed": true
   },
   "source": [
    "Draw the variables at reco and gen level and for \"data\""
   ]
  },
  {
   "cell_type": "code",
   "execution_count": null,
   "metadata": {},
   "outputs": [],
   "source": [
    "c1 = ROOT.TCanvas(\"chistMgenMC1\", \"chistMgenMC1\")\n",
    "histMgenMC.Draw(\"e\")\n",
    "histMdetMC.Draw(\"e same\")\n",
    "c1.Draw()"
   ]
  },
  {
   "cell_type": "code",
   "execution_count": null,
   "metadata": {},
   "outputs": [],
   "source": [
    "c1 = ROOT.TCanvas(\"chistMgenMC1\", \"chistMgenMC1\")\n",
    "histMgenData.Draw(\"e\")\n",
    "histMdetData.Draw(\"e same\")\n",
    "c1.Draw()"
   ]
  },
  {
   "cell_type": "markdown",
   "metadata": {
    "collapsed": true
   },
   "source": [
    "Draw the response matrix."
   ]
  },
  {
   "cell_type": "code",
   "execution_count": null,
   "metadata": {
    "scrolled": false
   },
   "outputs": [],
   "source": [
    "c1 = ROOT.TCanvas(\"cresponse1\", \"cresponse1\")\n",
    "response.Draw(\"colz\")\n",
    "c1.Draw()"
   ]
  },
  {
   "cell_type": "code",
   "execution_count": null,
   "metadata": {},
   "outputs": [],
   "source": [
    "#### In MC :"
   ]
  },
  {
   "cell_type": "code",
   "execution_count": null,
   "metadata": {},
   "outputs": [],
   "source": [
    "c2 = ROOT.TCanvas(\"MCcompare\", \"MCcompare\")\n",
    "histMgenMC.Draw('e')\n",
    "histMdetMC.Draw('e same')\n",
    "c2.Draw()"
   ]
  },
  {
   "cell_type": "markdown",
   "metadata": {
    "collapsed": true
   },
   "source": [
    "#### In Data:"
   ]
  },
  {
   "cell_type": "code",
   "execution_count": null,
   "metadata": {},
   "outputs": [],
   "source": [
    "c3 = ROOT.TCanvas(\"datadists\", \"datadists\")\n",
    "histMgenData.Draw('e')\n",
    "histMdetData.Draw('e same')\n",
    "c3.Draw()"
   ]
  },
  {
   "cell_type": "code",
   "execution_count": null,
   "metadata": {},
   "outputs": [],
   "source": [
    "print 'getting tunfolder:'\n",
    "tunfolder = ROOT.TUnfoldDensity(response,ROOT.TUnfold.kHistMapOutputVert,ROOT.TUnfold.kRegModeCurvature, ROOT.TUnfold.kEConstraintNone, ROOT.TUnfoldDensity.kDensityModeBinWidth)"
   ]
  },
  {
   "cell_type": "markdown",
   "metadata": {
    "collapsed": true
   },
   "source": [
    "Set the input, a 1D reconstructed histogram from either MC (closure) or Data (measurement) , binned in the detector level binning."
   ]
  },
  {
   "cell_type": "code",
   "execution_count": null,
   "metadata": {},
   "outputs": [],
   "source": [
    "print 'setting reco input'\n",
    "tunfolder.SetInput( histMdetData )"
   ]
  },
  {
   "cell_type": "markdown",
   "metadata": {},
   "source": [
    "Unfold nScan times with values for the regularization parameter between tauMin and tauMax using the empty TSplines to store the results."
   ]
  },
  {
   "cell_type": "code",
   "execution_count": null,
   "metadata": {},
   "outputs": [],
   "source": [
    "print 'regularizing'\n",
    "nScan=50\n",
    "tauMin=0.0\n",
    "tauMax=0.0\n",
    "iBest=0\n",
    "\n",
    "logTauX = ROOT.MakeNullPointer(ROOT.TSpline)\n",
    "logTauY = ROOT.MakeNullPointer(ROOT.TSpline)\n",
    "lCurve = ROOT.MakeNullPointer(ROOT.TGraph)\n",
    "\n",
    "print 'doing the unfolding'\n",
    "tunfolder.ScanLcurve(nScan,tauMin,tauMax,lCurve,logTauX,logTauY);\n",
    "print 'getting the results'\n",
    "unfolded = tunfolder.GetOutput(\"unfolded\")"
   ]
  },
  {
   "cell_type": "code",
   "execution_count": null,
   "metadata": {},
   "outputs": [],
   "source": []
  },
  {
   "cell_type": "code",
   "execution_count": null,
   "metadata": {},
   "outputs": [],
   "source": [
    "c5 = ROOT.TCanvas('c5', 'c5')\n",
    "unfolded.SetMarkerStyle(22)\n",
    "unfolded.SetMarkerColor(4)\n",
    "unfolded.SetFillColor(0)\n",
    "histMgenData.SetMarkerStyle(21)\n",
    "histMgenData.SetMarkerColor(2)\n",
    "\n",
    "hs = ROOT.THStack(\"hs\", \"hs\")\n",
    "hs.Add( histMgenData, \"hist\")\n",
    "hs.Add( unfolded, \"e\")\n",
    "hs.Draw(\"nostack\")\n",
    "c5.Draw()"
   ]
  },
  {
   "cell_type": "code",
   "execution_count": null,
   "metadata": {},
   "outputs": [],
   "source": []
  },
  {
   "cell_type": "code",
   "execution_count": null,
   "metadata": {},
   "outputs": [],
   "source": []
  },
  {
   "cell_type": "markdown",
   "metadata": {},
   "source": [
    "# Unfold $\\tau_5^{(0.5)}$"
   ]
  },
  {
   "cell_type": "markdown",
   "metadata": {},
   "source": [
    "#### Below the input Monte Carlo simulation events are read from the file which only contains events meeting the skim criteria set forth in this __[script](https://github.com/kaustuvdatta/jetObservables/blob/102X/python/nSubProducer_gen_reco.py)__\n"
   ]
  },
  {
   "cell_type": "raw",
   "metadata": {},
   "source": [
    "\n",
    "ROOT.TH1.SetDefaultSumw2()\n",
    "f = ROOT.TFile('../AutoObs/CMS/New_Sel/TT_unfold/1/jetObservables_nanoskim_10.root')\n",
    "t = f.Get(\"Events\")"
   ]
  },
  {
   "cell_type": "markdown",
   "metadata": {
    "collapsed": true
   },
   "source": [
    "#### Set the axis ranges for the generator nd detector level distributions as well as the number of bins in each. Note that we want twice as many detector bins as generator level bins as recommended by the TUnfold documenation "
   ]
  },
  {
   "cell_type": "markdown",
   "metadata": {
    "collapsed": true
   },
   "source": [
    "Get the response matrix and input 1D distributions for unfolding."
   ]
  },
  {
   "cell_type": "code",
   "execution_count": null,
   "metadata": {},
   "outputs": [],
   "source": [
    "print np.min(TT16gen_nSub_basis[:,12])\n",
    "print np.min(TT16reco_nSub_basis[:,12])\n",
    "print np.max(TT16gen_nSub_basis[:,12])\n",
    "print np.max(TT16reco_nSub_basis[:,12])"
   ]
  },
  {
   "cell_type": "code",
   "execution_count": null,
   "metadata": {},
   "outputs": [],
   "source": [
    "nDet=30\n",
    "nGen=15\n",
    "xminDet=0.0\n",
    "xmaxDet=0.5\n",
    "xminGen=0.0\n",
    "xmaxGen=0.5\n",
    "#weight_TT16 = (831.76*lumi*1000.)/10199051.*np.ones(TT16_beta4W.shape[0])*TT16_puWeight*TT16_btagWeight*0.8\n"
   ]
  },
  {
   "cell_type": "code",
   "execution_count": null,
   "metadata": {},
   "outputs": [],
   "source": [
    "ROOT.TH1.SetDefaultSumw2()\n",
    "from root_numpy import *\n",
    "\n",
    "histMgenMC = ROOT.TH1D(\"histMgenMC\", \"histMgenMC; #tau_{5}^{0.5}; Events/(0.02)\", nGen, xminGen,xmaxGen)\n",
    "fill_hist(histMgenMC, TT16gen_nSub_basis[:,12])\n",
    "\n",
    "histMdetMC = ROOT.TH1D(\"histMdetMC\", \"histMdetMC; #tau_{5}^{0.5}; Events/(0.02)\", nDet, xminDet,xmaxDet)\n",
    "fill_hist(histMdetMC, TT16reco_nSub_basis[:,12])\n",
    "\n",
    "histMgenData = ROOT.TH1D(\"histMgenData\", \"histMgenData; #tau_{5}^{0.5}; Events/(0.02)\", nGen, xminGen,xmaxGen)\n",
    "fill_hist(histMgenData, TT16truth_nSub_basis[:,12])\n",
    "\n",
    "histMdetData = ROOT.TH1D(\"histMdetData\", \"histMdetData; #tau_{5}^{0.5}; Events/(0.02)\", nDet, xminDet,xmaxDet)\n",
    "fill_hist(histMdetData, TT16data_nSub_basis[:,12])\n",
    "\n",
    "\n",
    "response = ROOT.TH2D('response', 'response', nDet, xminDet, xmaxDet, nGen, xminGen, xmaxGen)\n",
    "hist2Dfill = np.zeros((TT16reco_nSub_basis[:,12].shape[0], 2))\n",
    "hist2Dfill[:,0] = TT16reco_nSub_basis[:,12].flatten()\n",
    "hist2Dfill[:,1] = TT16gen_nSub_basis[:,12].flatten()\n",
    "fill_hist(response, hist2Dfill)"
   ]
  },
  {
   "cell_type": "raw",
   "metadata": {},
   "source": [
    "xaxis =  array.array('d',[a for a in xrange(nmbinsGen *nptbinsGen + 1 )])\n",
    "nx = len(xaxis)-1\n",
    "\n",
    "print xaxis\n",
    "\n",
    "yaxis =  array.array('d',[a for a in xrange(nmbinsDet *nptbinsDet+1 )])\n",
    "ny = len(yaxis)-1\n",
    "\n",
    "print yaxis\n",
    "\n",
    "h_response = ROOT.TH2D('h_response',   'h_response', nx , xaxis, ny, yaxis )\n",
    "#print h_response2.GetXaxis.GetNbins()\n",
    "print nx\n",
    "print ny\n",
    "nb = nx*ny\n",
    "print nb"
   ]
  },
  {
   "cell_type": "raw",
   "metadata": {
    "collapsed": true
   },
   "source": [
    "response =ROOT.gDirectory.Get(\"response\")\n",
    "histMgenMC=ROOT.gDirectory.Get(\"histMgenMC\")\n",
    "histMdetMC=ROOT.gDirectory.Get(\"histMdetMC\")\n",
    "histMgenData=ROOT.gDirectory.Get(\"histMgenData\")\n",
    "histMdetData=ROOT.gDirectory.Get(\"histMdetData\")"
   ]
  },
  {
   "cell_type": "markdown",
   "metadata": {
    "collapsed": true
   },
   "source": [
    "Set the X and Y axis labels"
   ]
  },
  {
   "cell_type": "code",
   "execution_count": null,
   "metadata": {},
   "outputs": [],
   "source": [
    "response.SetTitle(\";#tau_{5}^{0.5}(det);#tau_{5}^{0.5}(gen)\")\n",
    "\n",
    "\n",
    "histMgenMC.SetTitle(\";#tau_{5}^{0.5}(gen)\")\n",
    "#histMgenMC.SetFillColor(ROOT.kRed)\n",
    "#histMgenMC.SetLineColor(ROOT.kRed)\n",
    "\n",
    "histMdetMC.SetTitle(\";#tau_{5}^{0.5}(det)\")\n",
    "#histMdetMC.SetFillColor(ROOT.kBlue)\n",
    "#histMdetMC.SetLineColor(ROOT.kBlue)\n",
    "\n",
    "\n",
    "histMgenData.SetTitle(\";#tau_{5}^{0.5}(gen)\")\n",
    "#histMgenData.SetFillColor(ROOT.kGreen+2)\n",
    "#histMgenData.SetLineColor(ROOT.kGreen+2)\n",
    "\n",
    "histMdetData.SetTitle(\";#tau_{5}^{0.5}(det)\")\n",
    "#histMdetData.SetFillColor(ROOT.kBlack)\n",
    "#histMdetData.SetLineColor(ROOT.kBlack)"
   ]
  },
  {
   "cell_type": "markdown",
   "metadata": {
    "collapsed": true
   },
   "source": [
    "Draw the variables at reco and gen level and for \"data\""
   ]
  },
  {
   "cell_type": "code",
   "execution_count": null,
   "metadata": {},
   "outputs": [],
   "source": [
    "c1 = ROOT.TCanvas(\"chistMgenMC1\", \"chistMgenMC1\")\n",
    "histMgenMC.Draw(\"e\")\n",
    "histMdetMC.Draw(\"e same\")\n",
    "c1.Draw()"
   ]
  },
  {
   "cell_type": "code",
   "execution_count": null,
   "metadata": {},
   "outputs": [],
   "source": [
    "c1 = ROOT.TCanvas(\"chistMgenMC1\", \"chistMgenMC1\")\n",
    "histMgenData.Draw(\"e\")\n",
    "histMdetData.Draw(\"e same\")\n",
    "c1.Draw()"
   ]
  },
  {
   "cell_type": "markdown",
   "metadata": {
    "collapsed": true
   },
   "source": [
    "Draw the response matrix."
   ]
  },
  {
   "cell_type": "code",
   "execution_count": null,
   "metadata": {
    "scrolled": false
   },
   "outputs": [],
   "source": [
    "c1 = ROOT.TCanvas(\"cresponse1\", \"cresponse1\")\n",
    "response.Draw(\"colz\")\n",
    "c1.Draw()"
   ]
  },
  {
   "cell_type": "code",
   "execution_count": null,
   "metadata": {},
   "outputs": [],
   "source": [
    "#### In MC :"
   ]
  },
  {
   "cell_type": "code",
   "execution_count": null,
   "metadata": {},
   "outputs": [],
   "source": [
    "c2 = ROOT.TCanvas(\"MCcompare\", \"MCcompare\")\n",
    "histMgenMC.Draw('e')\n",
    "histMdetMC.Draw('e same')\n",
    "c2.Draw()"
   ]
  },
  {
   "cell_type": "markdown",
   "metadata": {
    "collapsed": true
   },
   "source": [
    "#### In Data:"
   ]
  },
  {
   "cell_type": "code",
   "execution_count": null,
   "metadata": {},
   "outputs": [],
   "source": [
    "c3 = ROOT.TCanvas(\"datadists\", \"datadists\")\n",
    "histMgenData.Draw('e')\n",
    "histMdetData.Draw('e same')\n",
    "c3.Draw()"
   ]
  },
  {
   "cell_type": "code",
   "execution_count": null,
   "metadata": {},
   "outputs": [],
   "source": [
    "print 'getting tunfolder:'\n",
    "tunfolder = ROOT.TUnfoldDensity(response,ROOT.TUnfold.kHistMapOutputVert,ROOT.TUnfold.kRegModeCurvature, ROOT.TUnfold.kEConstraintNone, ROOT.TUnfoldDensity.kDensityModeBinWidth)"
   ]
  },
  {
   "cell_type": "markdown",
   "metadata": {
    "collapsed": true
   },
   "source": [
    "Set the input, a 1D reconstructed histogram from either MC (closure) or Data (measurement) , binned in the detector level binning."
   ]
  },
  {
   "cell_type": "code",
   "execution_count": null,
   "metadata": {},
   "outputs": [],
   "source": [
    "print 'setting reco input'\n",
    "tunfolder.SetInput( histMdetData )"
   ]
  },
  {
   "cell_type": "markdown",
   "metadata": {},
   "source": [
    "Unfold nScan times with values for the regularization parameter between tauMin and tauMax using the empty TSplines to store the results."
   ]
  },
  {
   "cell_type": "code",
   "execution_count": null,
   "metadata": {},
   "outputs": [],
   "source": [
    "print 'regularizing'\n",
    "nScan=50\n",
    "tauMin=0.0\n",
    "tauMax=0.0\n",
    "iBest=0\n",
    "\n",
    "logTauX = ROOT.MakeNullPointer(ROOT.TSpline)\n",
    "logTauY = ROOT.MakeNullPointer(ROOT.TSpline)\n",
    "lCurve = ROOT.MakeNullPointer(ROOT.TGraph)\n",
    "\n",
    "print 'doing the unfolding'\n",
    "tunfolder.ScanLcurve(nScan,tauMin,tauMax,lCurve,logTauX,logTauY);\n",
    "print 'getting the results'\n",
    "unfolded = tunfolder.GetOutput(\"unfolded\")"
   ]
  },
  {
   "cell_type": "code",
   "execution_count": null,
   "metadata": {},
   "outputs": [],
   "source": []
  },
  {
   "cell_type": "code",
   "execution_count": null,
   "metadata": {},
   "outputs": [],
   "source": [
    "c5 = ROOT.TCanvas('c5', 'c5')\n",
    "unfolded.SetMarkerStyle(22)\n",
    "unfolded.SetMarkerColor(4)\n",
    "unfolded.SetFillColor(0)\n",
    "histMgenData.SetMarkerStyle(21)\n",
    "histMgenData.SetMarkerColor(2)\n",
    "\n",
    "hs = ROOT.THStack(\"hs\", \"hs\")\n",
    "hs.Add( histMgenData, \"hist\")\n",
    "hs.Add( unfolded, \"e\")\n",
    "hs.Draw(\"nostack\")\n",
    "c5.Draw()"
   ]
  },
  {
   "cell_type": "code",
   "execution_count": null,
   "metadata": {},
   "outputs": [],
   "source": []
  },
  {
   "cell_type": "markdown",
   "metadata": {},
   "source": [
    "# Unfold $\\tau_5^{(1)}$"
   ]
  },
  {
   "cell_type": "markdown",
   "metadata": {},
   "source": [
    "#### Below the input Monte Carlo simulation events are read from the file which only contains events meeting the skim criteria set forth in this __[script](https://github.com/kaustuvdatta/jetObservables/blob/102X/python/nSubProducer_gen_reco.py)__\n"
   ]
  },
  {
   "cell_type": "raw",
   "metadata": {},
   "source": [
    "\n",
    "ROOT.TH1.SetDefaultSumw2()\n",
    "f = ROOT.TFile('../AutoObs/CMS/New_Sel/TT_unfold/1/jetObservables_nanoskim_10.root')\n",
    "t = f.Get(\"Events\")"
   ]
  },
  {
   "cell_type": "markdown",
   "metadata": {
    "collapsed": true
   },
   "source": [
    "#### Set the axis ranges for the generator nd detector level distributions as well as the number of bins in each. Note that we want twice as many detector bins as generator level bins as recommended by the TUnfold documenation "
   ]
  },
  {
   "cell_type": "markdown",
   "metadata": {
    "collapsed": true
   },
   "source": [
    "Get the response matrix and input 1D distributions for unfolding."
   ]
  },
  {
   "cell_type": "code",
   "execution_count": null,
   "metadata": {},
   "outputs": [],
   "source": [
    "print np.min(TT16gen_nSub_basis[:,13])\n",
    "print np.min(TT16reco_nSub_basis[:,13])\n",
    "print np.max(TT16gen_nSub_basis[:,13])\n",
    "print np.max(TT16reco_nSub_basis[:,13])"
   ]
  },
  {
   "cell_type": "code",
   "execution_count": null,
   "metadata": {},
   "outputs": [],
   "source": [
    "nDet=30\n",
    "nGen=15\n",
    "xminDet=0.0\n",
    "xmaxDet=0.3\n",
    "xminGen=0.0\n",
    "xmaxGen=0.3\n",
    "#weight_TT16 = (831.76*lumi*1000.)/10199051.*np.ones(TT16_beta4W.shape[0])*TT16_puWeight*TT16_btagWeight*0.8\n"
   ]
  },
  {
   "cell_type": "code",
   "execution_count": null,
   "metadata": {},
   "outputs": [],
   "source": [
    "ROOT.TH1.SetDefaultSumw2()\n",
    "from root_numpy import *\n",
    "\n",
    "histMgenMC = ROOT.TH1D(\"histMgenMC\", \"histMgenMC; #tau_{5}^{1}; Events/(0.02)\", nGen, xminGen,xmaxGen)\n",
    "fill_hist(histMgenMC, TT16gen_nSub_basis[:,13])\n",
    "\n",
    "histMdetMC = ROOT.TH1D(\"histMdetMC\", \"histMdetMC; #tau_{5}^{1}; Events/(0.02)\", nDet, xminDet,xmaxDet)\n",
    "fill_hist(histMdetMC, TT16reco_nSub_basis[:,13])\n",
    "\n",
    "histMgenData = ROOT.TH1D(\"histMgenData\", \"histMgenData; #tau_{5}^{1}; Events/(0.02)\", nGen, xminGen,xmaxGen)\n",
    "fill_hist(histMgenData, TT16truth_nSub_basis[:,13])\n",
    "\n",
    "histMdetData = ROOT.TH1D(\"histMdetData\", \"histMdetData; #tau_{5}^{1}; Events/(0.02)\", nDet, xminDet,xmaxDet)\n",
    "fill_hist(histMdetData, TT16data_nSub_basis[:,13])\n",
    "\n",
    "\n",
    "response = ROOT.TH2D('response', 'response', nDet, xminDet, xmaxDet, nGen, xminGen, xmaxGen)\n",
    "hist2Dfill = np.zeros((TT16reco_nSub_basis[:,13].shape[0], 2))\n",
    "hist2Dfill[:,0] = TT16reco_nSub_basis[:,13].flatten()\n",
    "hist2Dfill[:,1] = TT16gen_nSub_basis[:,13].flatten()\n",
    "fill_hist(response, hist2Dfill)"
   ]
  },
  {
   "cell_type": "raw",
   "metadata": {},
   "source": [
    "xaxis =  array.array('d',[a for a in xrange(nmbinsGen *nptbinsGen + 1 )])\n",
    "nx = len(xaxis)-1\n",
    "\n",
    "print xaxis\n",
    "\n",
    "yaxis =  array.array('d',[a for a in xrange(nmbinsDet *nptbinsDet+1 )])\n",
    "ny = len(yaxis)-1\n",
    "\n",
    "print yaxis\n",
    "\n",
    "h_response = ROOT.TH2D('h_response',   'h_response', nx , xaxis, ny, yaxis )\n",
    "#print h_response2.GetXaxis.GetNbins()\n",
    "print nx\n",
    "print ny\n",
    "nb = nx*ny\n",
    "print nb"
   ]
  },
  {
   "cell_type": "raw",
   "metadata": {
    "collapsed": true
   },
   "source": [
    "response =ROOT.gDirectory.Get(\"response\")\n",
    "histMgenMC=ROOT.gDirectory.Get(\"histMgenMC\")\n",
    "histMdetMC=ROOT.gDirectory.Get(\"histMdetMC\")\n",
    "histMgenData=ROOT.gDirectory.Get(\"histMgenData\")\n",
    "histMdetData=ROOT.gDirectory.Get(\"histMdetData\")"
   ]
  },
  {
   "cell_type": "markdown",
   "metadata": {
    "collapsed": true
   },
   "source": [
    "Set the X and Y axis labels"
   ]
  },
  {
   "cell_type": "code",
   "execution_count": null,
   "metadata": {},
   "outputs": [],
   "source": [
    "response.SetTitle(\";#tau_{5}^{1}(det);#tau_{5}^{1}(gen)\")\n",
    "\n",
    "\n",
    "histMgenMC.SetTitle(\";#tau_{5}^{1}(gen)\")\n",
    "#histMgenMC.SetFillColor(ROOT.kRed)\n",
    "#histMgenMC.SetLineColor(ROOT.kRed)\n",
    "\n",
    "histMdetMC.SetTitle(\";#tau_{5}^{1}(det)\")\n",
    "#histMdetMC.SetFillColor(ROOT.kBlue)\n",
    "#histMdetMC.SetLineColor(ROOT.kBlue)\n",
    "\n",
    "\n",
    "histMgenData.SetTitle(\";#tau_{5}^{1}(gen)\")\n",
    "#histMgenData.SetFillColor(ROOT.kGreen+2)\n",
    "#histMgenData.SetLineColor(ROOT.kGreen+2)\n",
    "\n",
    "histMdetData.SetTitle(\";#tau_{5}^{1}(det)\")\n",
    "#histMdetData.SetFillColor(ROOT.kBlack)\n",
    "#histMdetData.SetLineColor(ROOT.kBlack)"
   ]
  },
  {
   "cell_type": "markdown",
   "metadata": {
    "collapsed": true
   },
   "source": [
    "Draw the variables at reco and gen level and for \"data\""
   ]
  },
  {
   "cell_type": "code",
   "execution_count": null,
   "metadata": {},
   "outputs": [],
   "source": [
    "c1 = ROOT.TCanvas(\"chistMgenMC1\", \"chistMgenMC1\")\n",
    "histMgenMC.Draw(\"e\")\n",
    "histMdetMC.Draw(\"e same\")\n",
    "c1.Draw()"
   ]
  },
  {
   "cell_type": "code",
   "execution_count": null,
   "metadata": {},
   "outputs": [],
   "source": [
    "c1 = ROOT.TCanvas(\"chistMgenMC1\", \"chistMgenMC1\")\n",
    "histMgenData.Draw(\"e\")\n",
    "histMdetData.Draw(\"e same\")\n",
    "c1.Draw()"
   ]
  },
  {
   "cell_type": "markdown",
   "metadata": {
    "collapsed": true
   },
   "source": [
    "Draw the response matrix."
   ]
  },
  {
   "cell_type": "code",
   "execution_count": null,
   "metadata": {
    "scrolled": false
   },
   "outputs": [],
   "source": [
    "c1 = ROOT.TCanvas(\"cresponse1\", \"cresponse1\")\n",
    "response.Draw(\"colz\")\n",
    "c1.Draw()"
   ]
  },
  {
   "cell_type": "code",
   "execution_count": null,
   "metadata": {},
   "outputs": [],
   "source": [
    "#### In MC :"
   ]
  },
  {
   "cell_type": "code",
   "execution_count": null,
   "metadata": {},
   "outputs": [],
   "source": [
    "c2 = ROOT.TCanvas(\"MCcompare\", \"MCcompare\")\n",
    "histMgenMC.Draw('e')\n",
    "histMdetMC.Draw('e same')\n",
    "c2.Draw()"
   ]
  },
  {
   "cell_type": "markdown",
   "metadata": {
    "collapsed": true
   },
   "source": [
    "#### In Data:"
   ]
  },
  {
   "cell_type": "code",
   "execution_count": null,
   "metadata": {},
   "outputs": [],
   "source": [
    "c3 = ROOT.TCanvas(\"datadists\", \"datadists\")\n",
    "histMgenData.Draw('e')\n",
    "histMdetData.Draw('e same')\n",
    "c3.Draw()"
   ]
  },
  {
   "cell_type": "code",
   "execution_count": null,
   "metadata": {},
   "outputs": [],
   "source": [
    "print 'getting tunfolder:'\n",
    "tunfolder = ROOT.TUnfoldDensity(response,ROOT.TUnfold.kHistMapOutputVert,ROOT.TUnfold.kRegModeCurvature, ROOT.TUnfold.kEConstraintNone, ROOT.TUnfoldDensity.kDensityModeBinWidth)"
   ]
  },
  {
   "cell_type": "markdown",
   "metadata": {
    "collapsed": true
   },
   "source": [
    "Set the input, a 1D reconstructed histogram from either MC (closure) or Data (measurement) , binned in the detector level binning."
   ]
  },
  {
   "cell_type": "code",
   "execution_count": null,
   "metadata": {},
   "outputs": [],
   "source": [
    "print 'setting reco input'\n",
    "tunfolder.SetInput( histMdetData )"
   ]
  },
  {
   "cell_type": "markdown",
   "metadata": {},
   "source": [
    "Unfold nScan times with values for the regularization parameter between tauMin and tauMax using the empty TSplines to store the results."
   ]
  },
  {
   "cell_type": "code",
   "execution_count": null,
   "metadata": {},
   "outputs": [],
   "source": [
    "print 'regularizing'\n",
    "nScan=50\n",
    "tauMin=0.0\n",
    "tauMax=0.0\n",
    "iBest=0\n",
    "\n",
    "logTauX = ROOT.MakeNullPointer(ROOT.TSpline)\n",
    "logTauY = ROOT.MakeNullPointer(ROOT.TSpline)\n",
    "lCurve = ROOT.MakeNullPointer(ROOT.TGraph)\n",
    "\n",
    "print 'doing the unfolding'\n",
    "tunfolder.ScanLcurve(nScan,tauMin,tauMax,lCurve,logTauX,logTauY);\n",
    "print 'getting the results'\n",
    "unfolded = tunfolder.GetOutput(\"unfolded\")"
   ]
  },
  {
   "cell_type": "code",
   "execution_count": null,
   "metadata": {},
   "outputs": [],
   "source": []
  },
  {
   "cell_type": "code",
   "execution_count": null,
   "metadata": {},
   "outputs": [],
   "source": [
    "c5 = ROOT.TCanvas('c5', 'c5')\n",
    "unfolded.SetMarkerStyle(22)\n",
    "unfolded.SetMarkerColor(4)\n",
    "unfolded.SetFillColor(0)\n",
    "histMgenData.SetMarkerStyle(21)\n",
    "histMgenData.SetMarkerColor(2)\n",
    "\n",
    "hs = ROOT.THStack(\"hs\", \"hs\")\n",
    "hs.Add( histMgenData, \"hist\")\n",
    "hs.Add( unfolded, \"e\")\n",
    "hs.Draw(\"nostack\")\n",
    "c5.Draw()"
   ]
  },
  {
   "cell_type": "code",
   "execution_count": null,
   "metadata": {},
   "outputs": [],
   "source": []
  },
  {
   "cell_type": "markdown",
   "metadata": {},
   "source": [
    "# Unfold $\\tau_5^{(2)}$"
   ]
  },
  {
   "cell_type": "markdown",
   "metadata": {},
   "source": [
    "#### Below the input Monte Carlo simulation events are read from the file which only contains events meeting the skim criteria set forth in this __[script](https://github.com/kaustuvdatta/jetObservables/blob/102X/python/nSubProducer_gen_reco.py)__\n"
   ]
  },
  {
   "cell_type": "raw",
   "metadata": {},
   "source": [
    "\n",
    "ROOT.TH1.SetDefaultSumw2()\n",
    "f = ROOT.TFile('../AutoObs/CMS/New_Sel/TT_unfold/1/jetObservables_nanoskim_10.root')\n",
    "t = f.Get(\"Events\")"
   ]
  },
  {
   "cell_type": "markdown",
   "metadata": {
    "collapsed": true
   },
   "source": [
    "#### Set the axis ranges for the generator nd detector level distributions as well as the number of bins in each. Note that we want twice as many detector bins as generator level bins as recommended by the TUnfold documenation "
   ]
  },
  {
   "cell_type": "markdown",
   "metadata": {
    "collapsed": true
   },
   "source": [
    "Get the response matrix and input 1D distributions for unfolding."
   ]
  },
  {
   "cell_type": "code",
   "execution_count": null,
   "metadata": {},
   "outputs": [],
   "source": [
    "print np.min(TT16gen_nSub_basis[:,14])\n",
    "print np.min(TT16reco_nSub_basis[:,14])\n",
    "print np.max(TT16gen_nSub_basis[:,14])\n",
    "print np.max(TT16reco_nSub_basis[:,14])"
   ]
  },
  {
   "cell_type": "code",
   "execution_count": null,
   "metadata": {},
   "outputs": [],
   "source": [
    "nDet=32\n",
    "nGen=16\n",
    "xminDet=0.0\n",
    "xmaxDet=0.08\n",
    "xminGen=0.0\n",
    "xmaxGen=0.08\n",
    "#weight_TT16 = (831.76*lumi*1000.)/10199051.*np.ones(TT16_beta4W.shape[0])*TT16_puWeight*TT16_btagWeight*0.8\n"
   ]
  },
  {
   "cell_type": "code",
   "execution_count": null,
   "metadata": {},
   "outputs": [],
   "source": [
    "ROOT.TH1.SetDefaultSumw2()\n",
    "from root_numpy import *\n",
    "\n",
    "histMgenMC = ROOT.TH1D(\"histMgenMC\", \"histMgenMC; #tau_{5}^{2}; Events/(0.02)\", nGen, xminGen,xmaxGen)\n",
    "fill_hist(histMgenMC, TT16gen_nSub_basis[:,14])\n",
    "\n",
    "histMdetMC = ROOT.TH1D(\"histMdetMC\", \"histMdetMC; #tau_{5}^{2}; Events/(0.02)\", nDet, xminDet,xmaxDet)\n",
    "fill_hist(histMdetMC, TT16reco_nSub_basis[:,14])\n",
    "\n",
    "histMgenData = ROOT.TH1D(\"histMgenData\", \"histMgenData; #tau_{5}^{2}; Events/(0.02)\", nGen, xminGen,xmaxGen)\n",
    "fill_hist(histMgenData, TT16truth_nSub_basis[:,14])\n",
    "\n",
    "histMdetData = ROOT.TH1D(\"histMdetData\", \"histMdetData; #tau_{5}^{2}; Events/(0.02)\", nDet, xminDet,xmaxDet)\n",
    "fill_hist(histMdetData, TT16data_nSub_basis[:,14])\n",
    "\n",
    "\n",
    "response = ROOT.TH2D('response', 'response', nDet, xminDet, xmaxDet, nGen, xminGen, xmaxGen)\n",
    "hist2Dfill = np.zeros((TT16reco_nSub_basis[:,14].shape[0], 2))\n",
    "hist2Dfill[:,0] = TT16reco_nSub_basis[:,14].flatten()\n",
    "hist2Dfill[:,1] = TT16gen_nSub_basis[:,14].flatten()\n",
    "fill_hist(response, hist2Dfill)"
   ]
  },
  {
   "cell_type": "raw",
   "metadata": {},
   "source": [
    "xaxis =  array.array('d',[a for a in xrange(nmbinsGen *nptbinsGen + 1 )])\n",
    "nx = len(xaxis)-1\n",
    "\n",
    "print xaxis\n",
    "\n",
    "yaxis =  array.array('d',[a for a in xrange(nmbinsDet *nptbinsDet+1 )])\n",
    "ny = len(yaxis)-1\n",
    "\n",
    "print yaxis\n",
    "\n",
    "h_response = ROOT.TH2D('h_response',   'h_response', nx , xaxis, ny, yaxis )\n",
    "#print h_response2.GetXaxis.GetNbins()\n",
    "print nx\n",
    "print ny\n",
    "nb = nx*ny\n",
    "print nb"
   ]
  },
  {
   "cell_type": "raw",
   "metadata": {
    "collapsed": true
   },
   "source": [
    "response =ROOT.gDirectory.Get(\"response\")\n",
    "histMgenMC=ROOT.gDirectory.Get(\"histMgenMC\")\n",
    "histMdetMC=ROOT.gDirectory.Get(\"histMdetMC\")\n",
    "histMgenData=ROOT.gDirectory.Get(\"histMgenData\")\n",
    "histMdetData=ROOT.gDirectory.Get(\"histMdetData\")"
   ]
  },
  {
   "cell_type": "markdown",
   "metadata": {
    "collapsed": true
   },
   "source": [
    "Set the X and Y axis labels"
   ]
  },
  {
   "cell_type": "code",
   "execution_count": null,
   "metadata": {},
   "outputs": [],
   "source": [
    "response.SetTitle(\";#tau_{5}^{2}(det);#tau_{5}^{2}(gen)\")\n",
    "\n",
    "\n",
    "histMgenMC.SetTitle(\";#tau_{5}^{2}(gen)\")\n",
    "#histMgenMC.SetFillColor(ROOT.kRed)\n",
    "#histMgenMC.SetLineColor(ROOT.kRed)\n",
    "\n",
    "histMdetMC.SetTitle(\";#tau_{5}^{2}(det)\")\n",
    "#histMdetMC.SetFillColor(ROOT.kBlue)\n",
    "#histMdetMC.SetLineColor(ROOT.kBlue)\n",
    "\n",
    "\n",
    "histMgenData.SetTitle(\";#tau_{5}^{2}(gen)\")\n",
    "#histMgenData.SetFillColor(ROOT.kGreen+2)\n",
    "#histMgenData.SetLineColor(ROOT.kGreen+2)\n",
    "\n",
    "histMdetData.SetTitle(\";#tau_{5}^{2}(det)\")\n",
    "#histMdetData.SetFillColor(ROOT.kBlack)\n",
    "#histMdetData.SetLineColor(ROOT.kBlack)"
   ]
  },
  {
   "cell_type": "markdown",
   "metadata": {
    "collapsed": true
   },
   "source": [
    "Draw the variables at reco and gen level and for \"data\""
   ]
  },
  {
   "cell_type": "code",
   "execution_count": null,
   "metadata": {},
   "outputs": [],
   "source": [
    "c1 = ROOT.TCanvas(\"chistMgenMC1\", \"chistMgenMC1\")\n",
    "histMgenMC.Draw(\"e\")\n",
    "histMdetMC.Draw(\"e same\")\n",
    "c1.Draw()"
   ]
  },
  {
   "cell_type": "code",
   "execution_count": null,
   "metadata": {},
   "outputs": [],
   "source": [
    "c1 = ROOT.TCanvas(\"chistMgenMC1\", \"chistMgenMC1\")\n",
    "histMgenData.Draw(\"e\")\n",
    "histMdetData.Draw(\"e same\")\n",
    "c1.Draw()"
   ]
  },
  {
   "cell_type": "markdown",
   "metadata": {
    "collapsed": true
   },
   "source": [
    "Draw the response matrix."
   ]
  },
  {
   "cell_type": "code",
   "execution_count": null,
   "metadata": {
    "scrolled": false
   },
   "outputs": [],
   "source": [
    "c1 = ROOT.TCanvas(\"cresponse1\", \"cresponse1\")\n",
    "response.Draw(\"colz\")\n",
    "c1.Draw()"
   ]
  },
  {
   "cell_type": "code",
   "execution_count": null,
   "metadata": {},
   "outputs": [],
   "source": [
    "#### In MC :"
   ]
  },
  {
   "cell_type": "code",
   "execution_count": null,
   "metadata": {},
   "outputs": [],
   "source": [
    "c2 = ROOT.TCanvas(\"MCcompare\", \"MCcompare\")\n",
    "histMgenMC.Draw('e')\n",
    "histMdetMC.Draw('e same')\n",
    "c2.Draw()"
   ]
  },
  {
   "cell_type": "markdown",
   "metadata": {
    "collapsed": true
   },
   "source": [
    "#### In Data:"
   ]
  },
  {
   "cell_type": "code",
   "execution_count": null,
   "metadata": {},
   "outputs": [],
   "source": [
    "c3 = ROOT.TCanvas(\"datadists\", \"datadists\")\n",
    "histMgenData.Draw('e')\n",
    "histMdetData.Draw('e same')\n",
    "c3.Draw()"
   ]
  },
  {
   "cell_type": "code",
   "execution_count": null,
   "metadata": {},
   "outputs": [],
   "source": [
    "print 'getting tunfolder:'\n",
    "tunfolder = ROOT.TUnfoldDensity(response,ROOT.TUnfold.kHistMapOutputVert,ROOT.TUnfold.kRegModeCurvature, ROOT.TUnfold.kEConstraintNone, ROOT.TUnfoldDensity.kDensityModeBinWidth)"
   ]
  },
  {
   "cell_type": "markdown",
   "metadata": {
    "collapsed": true
   },
   "source": [
    "Set the input, a 1D reconstructed histogram from either MC (closure) or Data (measurement) , binned in the detector level binning."
   ]
  },
  {
   "cell_type": "code",
   "execution_count": null,
   "metadata": {},
   "outputs": [],
   "source": [
    "print 'setting reco input'\n",
    "tunfolder.SetInput( histMdetData )"
   ]
  },
  {
   "cell_type": "markdown",
   "metadata": {},
   "source": [
    "Unfold nScan times with values for the regularization parameter between tauMin and tauMax using the empty TSplines to store the results."
   ]
  },
  {
   "cell_type": "code",
   "execution_count": null,
   "metadata": {},
   "outputs": [],
   "source": [
    "print 'regularizing'\n",
    "nScan=50\n",
    "tauMin=0.0\n",
    "tauMax=0.0\n",
    "iBest=0\n",
    "\n",
    "logTauX = ROOT.MakeNullPointer(ROOT.TSpline)\n",
    "logTauY = ROOT.MakeNullPointer(ROOT.TSpline)\n",
    "lCurve = ROOT.MakeNullPointer(ROOT.TGraph)\n",
    "\n",
    "print 'doing the unfolding'\n",
    "tunfolder.ScanLcurve(nScan,tauMin,tauMax,lCurve,logTauX,logTauY);\n",
    "print 'getting the results'\n",
    "unfolded = tunfolder.GetOutput(\"unfolded\")"
   ]
  },
  {
   "cell_type": "code",
   "execution_count": null,
   "metadata": {},
   "outputs": [],
   "source": []
  },
  {
   "cell_type": "code",
   "execution_count": null,
   "metadata": {},
   "outputs": [],
   "source": [
    "c5 = ROOT.TCanvas('c5', 'c5')\n",
    "unfolded.SetMarkerStyle(22)\n",
    "unfolded.SetMarkerColor(4)\n",
    "unfolded.SetFillColor(0)\n",
    "histMgenData.SetMarkerStyle(21)\n",
    "histMgenData.SetMarkerColor(2)\n",
    "\n",
    "hs = ROOT.THStack(\"hs\", \"hs\")\n",
    "hs.Add( histMgenData, \"hist\")\n",
    "hs.Add( unfolded, \"e\")\n",
    "hs.Draw(\"nostack\")\n",
    "c5.Draw()"
   ]
  },
  {
   "cell_type": "code",
   "execution_count": null,
   "metadata": {},
   "outputs": [],
   "source": []
  },
  {
   "cell_type": "markdown",
   "metadata": {},
   "source": [
    "# Unfold $\\tau_6^{(0.5)}$"
   ]
  },
  {
   "cell_type": "markdown",
   "metadata": {},
   "source": [
    "#### Below the input Monte Carlo simulation events are read from the file which only contains events meeting the skim criteria set forth in this __[script](https://github.com/kaustuvdatta/jetObservables/blob/102X/python/nSubProducer_gen_reco.py)__\n"
   ]
  },
  {
   "cell_type": "raw",
   "metadata": {},
   "source": [
    "\n",
    "ROOT.TH1.SetDefaultSumw2()\n",
    "f = ROOT.TFile('../AutoObs/CMS/New_Sel/TT_unfold/1/jetObservables_nanoskim_10.root')\n",
    "t = f.Get(\"Events\")"
   ]
  },
  {
   "cell_type": "markdown",
   "metadata": {
    "collapsed": true
   },
   "source": [
    "#### Set the axis ranges for the generator nd detector level distributions as well as the number of bins in each. Note that we want twice as many detector bins as generator level bins as recommended by the TUnfold documenation "
   ]
  },
  {
   "cell_type": "markdown",
   "metadata": {
    "collapsed": true
   },
   "source": [
    "Get the response matrix and input 1D distributions for unfolding."
   ]
  },
  {
   "cell_type": "code",
   "execution_count": null,
   "metadata": {},
   "outputs": [],
   "source": [
    "print np.min(TT16gen_nSub_basis[:,15])\n",
    "print np.min(TT16reco_nSub_basis[:,15])\n",
    "print np.max(TT16gen_nSub_basis[:,15])\n",
    "print np.max(TT16reco_nSub_basis[:,15])"
   ]
  },
  {
   "cell_type": "code",
   "execution_count": null,
   "metadata": {},
   "outputs": [],
   "source": [
    "nDet=40\n",
    "nGen=20\n",
    "xminDet=0.0\n",
    "xmaxDet=0.42\n",
    "xminGen=0.0\n",
    "xmaxGen=0.42\n",
    "#weight_TT16 = (831.76*lumi*1000.)/10199051.*np.ones(TT16_beta4W.shape[0])*TT16_puWeight*TT16_btagWeight*0.8\n"
   ]
  },
  {
   "cell_type": "code",
   "execution_count": null,
   "metadata": {},
   "outputs": [],
   "source": [
    "ROOT.TH1.SetDefaultSumw2()\n",
    "from root_numpy import *\n",
    "\n",
    "histMgenMC = ROOT.TH1D(\"histMgenMC\", \"histMgenMC; #tau_{5}^{0.5}; Events/(0.02)\", nGen, xminGen,xmaxGen)\n",
    "fill_hist(histMgenMC, TT16gen_nSub_basis[:,15])\n",
    "\n",
    "histMdetMC = ROOT.TH1D(\"histMdetMC\", \"histMdetMC; #tau_{5}^{0.5}; Events/(0.02)\", nDet, xminDet,xmaxDet)\n",
    "fill_hist(histMdetMC, TT16reco_nSub_basis[:,15])\n",
    "\n",
    "histMgenData = ROOT.TH1D(\"histMgenData\", \"histMgenData; #tau_{5}^{0.5}; Events/(0.02)\", nGen, xminGen,xmaxGen)\n",
    "fill_hist(histMgenData, TT16truth_nSub_basis[:,15])\n",
    "\n",
    "histMdetData = ROOT.TH1D(\"histMdetData\", \"histMdetData; #tau_{5}^{0.5}; Events/(0.02)\", nDet, xminDet,xmaxDet)\n",
    "fill_hist(histMdetData, TT16data_nSub_basis[:,15])\n",
    "\n",
    "\n",
    "response = ROOT.TH2D('response', 'response', nDet, xminDet, xmaxDet, nGen, xminGen, xmaxGen)\n",
    "hist2Dfill = np.zeros((TT16reco_nSub_basis[:,15].shape[0], 2))\n",
    "hist2Dfill[:,0] = TT16reco_nSub_basis[:,15].flatten()\n",
    "hist2Dfill[:,1] = TT16gen_nSub_basis[:,15].flatten()\n",
    "fill_hist(response, hist2Dfill)"
   ]
  },
  {
   "cell_type": "raw",
   "metadata": {},
   "source": [
    "xaxis =  array.array('d',[a for a in xrange(nmbinsGen *nptbinsGen + 1 )])\n",
    "nx = len(xaxis)-1\n",
    "\n",
    "print xaxis\n",
    "\n",
    "yaxis =  array.array('d',[a for a in xrange(nmbinsDet *nptbinsDet+1 )])\n",
    "ny = len(yaxis)-1\n",
    "\n",
    "print yaxis\n",
    "\n",
    "h_response = ROOT.TH2D('h_response',   'h_response', nx , xaxis, ny, yaxis )\n",
    "#print h_response2.GetXaxis.GetNbins()\n",
    "print nx\n",
    "print ny\n",
    "nb = nx*ny\n",
    "print nb"
   ]
  },
  {
   "cell_type": "raw",
   "metadata": {
    "collapsed": true
   },
   "source": [
    "response =ROOT.gDirectory.Get(\"response\")\n",
    "histMgenMC=ROOT.gDirectory.Get(\"histMgenMC\")\n",
    "histMdetMC=ROOT.gDirectory.Get(\"histMdetMC\")\n",
    "histMgenData=ROOT.gDirectory.Get(\"histMgenData\")\n",
    "histMdetData=ROOT.gDirectory.Get(\"histMdetData\")"
   ]
  },
  {
   "cell_type": "markdown",
   "metadata": {
    "collapsed": true
   },
   "source": [
    "Set the X and Y axis labels"
   ]
  },
  {
   "cell_type": "code",
   "execution_count": null,
   "metadata": {},
   "outputs": [],
   "source": [
    "response.SetTitle(\";#tau_{5}^{0.5}(det);#tau_{5}^{0.5}(gen)\")\n",
    "\n",
    "\n",
    "histMgenMC.SetTitle(\";#tau_{5}^{0.5}(gen)\")\n",
    "#histMgenMC.SetFillColor(ROOT.kRed)\n",
    "#histMgenMC.SetLineColor(ROOT.kRed)\n",
    "\n",
    "histMdetMC.SetTitle(\";#tau_{5}^{0.5}(det)\")\n",
    "#histMdetMC.SetFillColor(ROOT.kBlue)\n",
    "#histMdetMC.SetLineColor(ROOT.kBlue)\n",
    "\n",
    "\n",
    "histMgenData.SetTitle(\";#tau_{5}^{0.5}(gen)\")\n",
    "#histMgenData.SetFillColor(ROOT.kGreen+2)\n",
    "#histMgenData.SetLineColor(ROOT.kGreen+2)\n",
    "\n",
    "histMdetData.SetTitle(\";#tau_{5}^{0.5}(det)\")\n",
    "#histMdetData.SetFillColor(ROOT.kBlack)\n",
    "#histMdetData.SetLineColor(ROOT.kBlack)"
   ]
  },
  {
   "cell_type": "markdown",
   "metadata": {
    "collapsed": true
   },
   "source": [
    "Draw the variables at reco and gen level and for \"data\""
   ]
  },
  {
   "cell_type": "code",
   "execution_count": null,
   "metadata": {},
   "outputs": [],
   "source": [
    "c1 = ROOT.TCanvas(\"chistMgenMC1\", \"chistMgenMC1\")\n",
    "histMgenMC.Draw(\"e\")\n",
    "histMdetMC.Draw(\"e same\")\n",
    "c1.Draw()"
   ]
  },
  {
   "cell_type": "code",
   "execution_count": null,
   "metadata": {},
   "outputs": [],
   "source": [
    "c1 = ROOT.TCanvas(\"chistMgenMC1\", \"chistMgenMC1\")\n",
    "histMgenData.Draw(\"e\")\n",
    "histMdetData.Draw(\"e same\")\n",
    "c1.Draw()"
   ]
  },
  {
   "cell_type": "markdown",
   "metadata": {
    "collapsed": true
   },
   "source": [
    "Draw the response matrix."
   ]
  },
  {
   "cell_type": "code",
   "execution_count": null,
   "metadata": {
    "scrolled": false
   },
   "outputs": [],
   "source": [
    "c1 = ROOT.TCanvas(\"cresponse1\", \"cresponse1\")\n",
    "response.Draw(\"colz\")\n",
    "c1.Draw()"
   ]
  },
  {
   "cell_type": "code",
   "execution_count": null,
   "metadata": {},
   "outputs": [],
   "source": [
    "#### In MC :"
   ]
  },
  {
   "cell_type": "code",
   "execution_count": null,
   "metadata": {},
   "outputs": [],
   "source": [
    "c2 = ROOT.TCanvas(\"MCcompare\", \"MCcompare\")\n",
    "histMgenMC.Draw('e')\n",
    "histMdetMC.Draw('e same')\n",
    "c2.Draw()"
   ]
  },
  {
   "cell_type": "markdown",
   "metadata": {
    "collapsed": true
   },
   "source": [
    "#### In Data:"
   ]
  },
  {
   "cell_type": "code",
   "execution_count": null,
   "metadata": {},
   "outputs": [],
   "source": [
    "c3 = ROOT.TCanvas(\"datadists\", \"datadists\")\n",
    "histMgenData.Draw('e')\n",
    "histMdetData.Draw('e same')\n",
    "c3.Draw()"
   ]
  },
  {
   "cell_type": "code",
   "execution_count": null,
   "metadata": {},
   "outputs": [],
   "source": [
    "print 'getting tunfolder:'\n",
    "tunfolder = ROOT.TUnfoldDensity(response,ROOT.TUnfold.kHistMapOutputVert,ROOT.TUnfold.kRegModeCurvature, ROOT.TUnfold.kEConstraintNone, ROOT.TUnfoldDensity.kDensityModeBinWidth)"
   ]
  },
  {
   "cell_type": "markdown",
   "metadata": {
    "collapsed": true
   },
   "source": [
    "Set the input, a 1D reconstructed histogram from either MC (closure) or Data (measurement) , binned in the detector level binning."
   ]
  },
  {
   "cell_type": "code",
   "execution_count": null,
   "metadata": {},
   "outputs": [],
   "source": [
    "print 'setting reco input'\n",
    "tunfolder.SetInput( histMdetData )"
   ]
  },
  {
   "cell_type": "markdown",
   "metadata": {},
   "source": [
    "Unfold nScan times with values for the regularization parameter between tauMin and tauMax using the empty TSplines to store the results."
   ]
  },
  {
   "cell_type": "code",
   "execution_count": null,
   "metadata": {},
   "outputs": [],
   "source": [
    "print 'regularizing'\n",
    "nScan=50\n",
    "tauMin=0.0\n",
    "tauMax=0.0\n",
    "iBest=0\n",
    "\n",
    "logTauX = ROOT.MakeNullPointer(ROOT.TSpline)\n",
    "logTauY = ROOT.MakeNullPointer(ROOT.TSpline)\n",
    "lCurve = ROOT.MakeNullPointer(ROOT.TGraph)\n",
    "\n",
    "print 'doing the unfolding'\n",
    "tunfolder.ScanLcurve(nScan,tauMin,tauMax,lCurve,logTauX,logTauY);\n",
    "print 'getting the results'\n",
    "unfolded = tunfolder.GetOutput(\"unfolded\")"
   ]
  },
  {
   "cell_type": "code",
   "execution_count": null,
   "metadata": {},
   "outputs": [],
   "source": []
  },
  {
   "cell_type": "code",
   "execution_count": null,
   "metadata": {},
   "outputs": [],
   "source": [
    "c5 = ROOT.TCanvas('c5', 'c5')\n",
    "unfolded.SetMarkerStyle(22)\n",
    "unfolded.SetMarkerColor(4)\n",
    "unfolded.SetFillColor(0)\n",
    "histMgenData.SetMarkerStyle(21)\n",
    "histMgenData.SetMarkerColor(2)\n",
    "\n",
    "hs = ROOT.THStack(\"hs\", \"hs\")\n",
    "hs.Add( histMgenData, \"hist\")\n",
    "hs.Add( unfolded, \"e\")\n",
    "hs.Draw(\"nostack\")\n",
    "c5.Draw()"
   ]
  },
  {
   "cell_type": "code",
   "execution_count": null,
   "metadata": {},
   "outputs": [],
   "source": []
  },
  {
   "cell_type": "markdown",
   "metadata": {},
   "source": [
    "# Unfold $\\tau_6^{(1)}$"
   ]
  },
  {
   "cell_type": "markdown",
   "metadata": {},
   "source": [
    "#### Below the input Monte Carlo simulation events are read from the file which only contains events meeting the skim criteria set forth in this __[script](https://github.com/kaustuvdatta/jetObservables/blob/102X/python/nSubProducer_gen_reco.py)__\n"
   ]
  },
  {
   "cell_type": "raw",
   "metadata": {},
   "source": [
    "\n",
    "ROOT.TH1.SetDefaultSumw2()\n",
    "f = ROOT.TFile('../AutoObs/CMS/New_Sel/TT_unfold/1/jetObservables_nanoskim_10.root')\n",
    "t = f.Get(\"Events\")"
   ]
  },
  {
   "cell_type": "markdown",
   "metadata": {
    "collapsed": true
   },
   "source": [
    "#### Set the axis ranges for the generator nd detector level distributions as well as the number of bins in each. Note that we want twice as many detector bins as generator level bins as recommended by the TUnfold documenation "
   ]
  },
  {
   "cell_type": "markdown",
   "metadata": {
    "collapsed": true
   },
   "source": [
    "Get the response matrix and input 1D distributions for unfolding."
   ]
  },
  {
   "cell_type": "code",
   "execution_count": null,
   "metadata": {},
   "outputs": [],
   "source": [
    "print np.min(TT16gen_nSub_basis[:,16])\n",
    "print np.min(TT16reco_nSub_basis[:,16])\n",
    "print np.max(TT16gen_nSub_basis[:,16])\n",
    "print np.max(TT16reco_nSub_basis[:,16])"
   ]
  },
  {
   "cell_type": "code",
   "execution_count": null,
   "metadata": {},
   "outputs": [],
   "source": [
    "nDet=32\n",
    "nGen=16\n",
    "xminDet=0.0\n",
    "xmaxDet=0.2\n",
    "xminGen=0.0\n",
    "xmaxGen=0.2\n",
    "#weight_TT16 = (831.76*lumi*1000.)/10199051.*np.ones(TT16_beta4W.shape[0])*TT16_puWeight*TT16_btagWeight*0.8\n"
   ]
  },
  {
   "cell_type": "code",
   "execution_count": null,
   "metadata": {},
   "outputs": [],
   "source": [
    "ROOT.TH1.SetDefaultSumw2()\n",
    "from root_numpy import *\n",
    "\n",
    "histMgenMC = ROOT.TH1D(\"histMgenMC\", \"histMgenMC; #tau_{5}^{1}; Events/(0.02)\", nGen, xminGen,xmaxGen)\n",
    "fill_hist(histMgenMC, TT16gen_nSub_basis[:,16])\n",
    "\n",
    "histMdetMC = ROOT.TH1D(\"histMdetMC\", \"histMdetMC; #tau_{5}^{1}; Events/(0.02)\", nDet, xminDet,xmaxDet)\n",
    "fill_hist(histMdetMC, TT16reco_nSub_basis[:,16])\n",
    "\n",
    "histMgenData = ROOT.TH1D(\"histMgenData\", \"histMgenData; #tau_{5}^{1}; Events/(0.02)\", nGen, xminGen,xmaxGen)\n",
    "fill_hist(histMgenData, TT16truth_nSub_basis[:,16])\n",
    "\n",
    "histMdetData = ROOT.TH1D(\"histMdetData\", \"histMdetData; #tau_{5}^{1}; Events/(0.02)\", nDet, xminDet,xmaxDet)\n",
    "fill_hist(histMdetData, TT16data_nSub_basis[:,16])\n",
    "\n",
    "\n",
    "response = ROOT.TH2D('response', 'response', nDet, xminDet, xmaxDet, nGen, xminGen, xmaxGen)\n",
    "hist2Dfill = np.zeros((TT16reco_nSub_basis[:,16].shape[0], 2))\n",
    "hist2Dfill[:,0] = TT16reco_nSub_basis[:,16].flatten()\n",
    "hist2Dfill[:,1] = TT16gen_nSub_basis[:,16].flatten()\n",
    "fill_hist(response, hist2Dfill)"
   ]
  },
  {
   "cell_type": "raw",
   "metadata": {},
   "source": [
    "xaxis =  array.array('d',[a for a in xrange(nmbinsGen *nptbinsGen + 1 )])\n",
    "nx = len(xaxis)-1\n",
    "\n",
    "print xaxis\n",
    "\n",
    "yaxis =  array.array('d',[a for a in xrange(nmbinsDet *nptbinsDet+1 )])\n",
    "ny = len(yaxis)-1\n",
    "\n",
    "print yaxis\n",
    "\n",
    "h_response = ROOT.TH2D('h_response',   'h_response', nx , xaxis, ny, yaxis )\n",
    "#print h_response2.GetXaxis.GetNbins()\n",
    "print nx\n",
    "print ny\n",
    "nb = nx*ny\n",
    "print nb"
   ]
  },
  {
   "cell_type": "raw",
   "metadata": {
    "collapsed": true
   },
   "source": [
    "response =ROOT.gDirectory.Get(\"response\")\n",
    "histMgenMC=ROOT.gDirectory.Get(\"histMgenMC\")\n",
    "histMdetMC=ROOT.gDirectory.Get(\"histMdetMC\")\n",
    "histMgenData=ROOT.gDirectory.Get(\"histMgenData\")\n",
    "histMdetData=ROOT.gDirectory.Get(\"histMdetData\")"
   ]
  },
  {
   "cell_type": "markdown",
   "metadata": {
    "collapsed": true
   },
   "source": [
    "Set the X and Y axis labels"
   ]
  },
  {
   "cell_type": "code",
   "execution_count": null,
   "metadata": {},
   "outputs": [],
   "source": [
    "response.SetTitle(\";#tau_{5}^{1}(det);#tau_{5}^{1}(gen)\")\n",
    "\n",
    "\n",
    "histMgenMC.SetTitle(\";#tau_{5}^{1}(gen)\")\n",
    "#histMgenMC.SetFillColor(ROOT.kRed)\n",
    "#histMgenMC.SetLineColor(ROOT.kRed)\n",
    "\n",
    "histMdetMC.SetTitle(\";#tau_{5}^{1}(det)\")\n",
    "#histMdetMC.SetFillColor(ROOT.kBlue)\n",
    "#histMdetMC.SetLineColor(ROOT.kBlue)\n",
    "\n",
    "\n",
    "histMgenData.SetTitle(\";#tau_{5}^{1}(gen)\")\n",
    "#histMgenData.SetFillColor(ROOT.kGreen+2)\n",
    "#histMgenData.SetLineColor(ROOT.kGreen+2)\n",
    "\n",
    "histMdetData.SetTitle(\";#tau_{5}^{1}(det)\")\n",
    "#histMdetData.SetFillColor(ROOT.kBlack)\n",
    "#histMdetData.SetLineColor(ROOT.kBlack)"
   ]
  },
  {
   "cell_type": "markdown",
   "metadata": {
    "collapsed": true
   },
   "source": [
    "Draw the variables at reco and gen level and for \"data\""
   ]
  },
  {
   "cell_type": "code",
   "execution_count": null,
   "metadata": {},
   "outputs": [],
   "source": [
    "c1 = ROOT.TCanvas(\"chistMgenMC1\", \"chistMgenMC1\")\n",
    "histMgenMC.Draw(\"e\")\n",
    "histMdetMC.Draw(\"e same\")\n",
    "c1.Draw()"
   ]
  },
  {
   "cell_type": "code",
   "execution_count": null,
   "metadata": {},
   "outputs": [],
   "source": [
    "c1 = ROOT.TCanvas(\"chistMgenMC1\", \"chistMgenMC1\")\n",
    "histMgenData.Draw(\"e\")\n",
    "histMdetData.Draw(\"e same\")\n",
    "c1.Draw()"
   ]
  },
  {
   "cell_type": "markdown",
   "metadata": {
    "collapsed": true
   },
   "source": [
    "Draw the response matrix."
   ]
  },
  {
   "cell_type": "code",
   "execution_count": null,
   "metadata": {
    "scrolled": false
   },
   "outputs": [],
   "source": [
    "c1 = ROOT.TCanvas(\"cresponse1\", \"cresponse1\")\n",
    "response.Draw(\"colz\")\n",
    "c1.Draw()"
   ]
  },
  {
   "cell_type": "code",
   "execution_count": null,
   "metadata": {},
   "outputs": [],
   "source": [
    "#### In MC :"
   ]
  },
  {
   "cell_type": "code",
   "execution_count": null,
   "metadata": {},
   "outputs": [],
   "source": [
    "c2 = ROOT.TCanvas(\"MCcompare\", \"MCcompare\")\n",
    "histMgenMC.Draw('e')\n",
    "histMdetMC.Draw('e same')\n",
    "c2.Draw()"
   ]
  },
  {
   "cell_type": "markdown",
   "metadata": {
    "collapsed": true
   },
   "source": [
    "#### In Data:"
   ]
  },
  {
   "cell_type": "code",
   "execution_count": null,
   "metadata": {},
   "outputs": [],
   "source": [
    "c3 = ROOT.TCanvas(\"datadists\", \"datadists\")\n",
    "histMgenData.Draw('e')\n",
    "histMdetData.Draw('e same')\n",
    "c3.Draw()"
   ]
  },
  {
   "cell_type": "code",
   "execution_count": null,
   "metadata": {},
   "outputs": [],
   "source": [
    "print 'getting tunfolder:'\n",
    "tunfolder = ROOT.TUnfoldDensity(response,ROOT.TUnfold.kHistMapOutputVert,ROOT.TUnfold.kRegModeCurvature, ROOT.TUnfold.kEConstraintNone, ROOT.TUnfoldDensity.kDensityModeBinWidth)"
   ]
  },
  {
   "cell_type": "markdown",
   "metadata": {
    "collapsed": true
   },
   "source": [
    "Set the input, a 1D reconstructed histogram from either MC (closure) or Data (measurement) , binned in the detector level binning."
   ]
  },
  {
   "cell_type": "code",
   "execution_count": null,
   "metadata": {},
   "outputs": [],
   "source": [
    "print 'setting reco input'\n",
    "tunfolder.SetInput( histMdetData )"
   ]
  },
  {
   "cell_type": "markdown",
   "metadata": {},
   "source": [
    "Unfold nScan times with values for the regularization parameter between tauMin and tauMax using the empty TSplines to store the results."
   ]
  },
  {
   "cell_type": "code",
   "execution_count": null,
   "metadata": {},
   "outputs": [],
   "source": [
    "print 'regularizing'\n",
    "nScan=50\n",
    "tauMin=0.0\n",
    "tauMax=0.0\n",
    "iBest=0\n",
    "\n",
    "logTauX = ROOT.MakeNullPointer(ROOT.TSpline)\n",
    "logTauY = ROOT.MakeNullPointer(ROOT.TSpline)\n",
    "lCurve = ROOT.MakeNullPointer(ROOT.TGraph)\n",
    "\n",
    "print 'doing the unfolding'\n",
    "tunfolder.ScanLcurve(nScan,tauMin,tauMax,lCurve,logTauX,logTauY);\n",
    "print 'getting the results'\n",
    "unfolded = tunfolder.GetOutput(\"unfolded\")"
   ]
  },
  {
   "cell_type": "code",
   "execution_count": null,
   "metadata": {},
   "outputs": [],
   "source": []
  },
  {
   "cell_type": "code",
   "execution_count": null,
   "metadata": {},
   "outputs": [],
   "source": [
    "c5 = ROOT.TCanvas('c5', 'c5')\n",
    "unfolded.SetMarkerStyle(22)\n",
    "unfolded.SetMarkerColor(4)\n",
    "unfolded.SetFillColor(0)\n",
    "histMgenData.SetMarkerStyle(21)\n",
    "histMgenData.SetMarkerColor(2)\n",
    "\n",
    "hs = ROOT.THStack(\"hs\", \"hs\")\n",
    "hs.Add( histMgenData, \"hist\")\n",
    "hs.Add( unfolded, \"e\")\n",
    "hs.Draw(\"nostack\")\n",
    "c5.Draw()"
   ]
  },
  {
   "cell_type": "code",
   "execution_count": null,
   "metadata": {},
   "outputs": [],
   "source": []
  },
  {
   "cell_type": "markdown",
   "metadata": {},
   "source": [
    "# Unfold $\\tau_6^{(2)}$"
   ]
  },
  {
   "cell_type": "markdown",
   "metadata": {},
   "source": [
    "#### Below the input Monte Carlo simulation events are read from the file which only contains events meeting the skim criteria set forth in this __[script](https://github.com/kaustuvdatta/jetObservables/blob/102X/python/nSubProducer_gen_reco.py)__\n"
   ]
  },
  {
   "cell_type": "raw",
   "metadata": {},
   "source": [
    "\n",
    "ROOT.TH1.SetDefaultSumw2()\n",
    "f = ROOT.TFile('../AutoObs/CMS/New_Sel/TT_unfold/1/jetObservables_nanoskim_10.root')\n",
    "t = f.Get(\"Events\")"
   ]
  },
  {
   "cell_type": "markdown",
   "metadata": {
    "collapsed": true
   },
   "source": [
    "#### Set the axis ranges for the generator nd detector level distributions as well as the number of bins in each. Note that we want twice as many detector bins as generator level bins as recommended by the TUnfold documenation "
   ]
  },
  {
   "cell_type": "markdown",
   "metadata": {
    "collapsed": true
   },
   "source": [
    "Get the response matrix and input 1D distributions for unfolding."
   ]
  },
  {
   "cell_type": "code",
   "execution_count": null,
   "metadata": {},
   "outputs": [],
   "source": [
    "print np.min(TT16gen_nSub_basis[:,17])\n",
    "print np.min(TT16reco_nSub_basis[:,17])\n",
    "print np.max(TT16gen_nSub_basis[:,17])\n",
    "print np.max(TT16reco_nSub_basis[:,17])"
   ]
  },
  {
   "cell_type": "code",
   "execution_count": null,
   "metadata": {},
   "outputs": [],
   "source": [
    "nDet=30\n",
    "nGen=15\n",
    "xminDet=0.0\n",
    "xmaxDet=0.06\n",
    "xminGen=0.0\n",
    "xmaxGen=0.06\n",
    "#weight_TT16 = (831.76*lumi*1000.)/10199051.*np.ones(TT16_beta4W.shape[0])*TT16_puWeight*TT16_btagWeight*0.8\n"
   ]
  },
  {
   "cell_type": "code",
   "execution_count": null,
   "metadata": {},
   "outputs": [],
   "source": [
    "ROOT.TH1.SetDefaultSumw2()\n",
    "from root_numpy import *\n",
    "\n",
    "histMgenMC = ROOT.TH1D(\"histMgenMC\", \"histMgenMC; #tau_{5}^{2}; Events/(0.02)\", nGen, xminGen,xmaxGen)\n",
    "fill_hist(histMgenMC, TT16gen_nSub_basis[:,17])\n",
    "\n",
    "histMdetMC = ROOT.TH1D(\"histMdetMC\", \"histMdetMC; #tau_{5}^{2}; Events/(0.02)\", nDet, xminDet,xmaxDet)\n",
    "fill_hist(histMdetMC, TT16reco_nSub_basis[:,17])\n",
    "\n",
    "histMgenData = ROOT.TH1D(\"histMgenData\", \"histMgenData; #tau_{5}^{2}; Events/(0.02)\", nGen, xminGen,xmaxGen)\n",
    "fill_hist(histMgenData, TT16truth_nSub_basis[:,17])\n",
    "\n",
    "histMdetData = ROOT.TH1D(\"histMdetData\", \"histMdetData; #tau_{5}^{2}; Events/(0.02)\", nDet, xminDet,xmaxDet)\n",
    "fill_hist(histMdetData, TT16data_nSub_basis[:,17])\n",
    "\n",
    "\n",
    "response = ROOT.TH2D('response', 'response', nDet, xminDet, xmaxDet, nGen, xminGen, xmaxGen)\n",
    "hist2Dfill = np.zeros((TT16reco_nSub_basis[:,17].shape[0], 2))\n",
    "hist2Dfill[:,0] = TT16reco_nSub_basis[:,17].flatten()\n",
    "hist2Dfill[:,1] = TT16gen_nSub_basis[:,17].flatten()\n",
    "fill_hist(response, hist2Dfill)"
   ]
  },
  {
   "cell_type": "raw",
   "metadata": {},
   "source": [
    "xaxis =  array.array('d',[a for a in xrange(nmbinsGen *nptbinsGen + 1 )])\n",
    "nx = len(xaxis)-1\n",
    "\n",
    "print xaxis\n",
    "\n",
    "yaxis =  array.array('d',[a for a in xrange(nmbinsDet *nptbinsDet+1 )])\n",
    "ny = len(yaxis)-1\n",
    "\n",
    "print yaxis\n",
    "\n",
    "h_response = ROOT.TH2D('h_response',   'h_response', nx , xaxis, ny, yaxis )\n",
    "#print h_response2.GetXaxis.GetNbins()\n",
    "print nx\n",
    "print ny\n",
    "nb = nx*ny\n",
    "print nb"
   ]
  },
  {
   "cell_type": "raw",
   "metadata": {
    "collapsed": true
   },
   "source": [
    "response =ROOT.gDirectory.Get(\"response\")\n",
    "histMgenMC=ROOT.gDirectory.Get(\"histMgenMC\")\n",
    "histMdetMC=ROOT.gDirectory.Get(\"histMdetMC\")\n",
    "histMgenData=ROOT.gDirectory.Get(\"histMgenData\")\n",
    "histMdetData=ROOT.gDirectory.Get(\"histMdetData\")"
   ]
  },
  {
   "cell_type": "markdown",
   "metadata": {
    "collapsed": true
   },
   "source": [
    "Set the X and Y axis labels"
   ]
  },
  {
   "cell_type": "code",
   "execution_count": null,
   "metadata": {},
   "outputs": [],
   "source": [
    "response.SetTitle(\";#tau_{5}^{2}(det);#tau_{5}^{2}(gen)\")\n",
    "\n",
    "\n",
    "histMgenMC.SetTitle(\";#tau_{5}^{2}(gen)\")\n",
    "#histMgenMC.SetFillColor(ROOT.kRed)\n",
    "#histMgenMC.SetLineColor(ROOT.kRed)\n",
    "\n",
    "histMdetMC.SetTitle(\";#tau_{5}^{2}(det)\")\n",
    "#histMdetMC.SetFillColor(ROOT.kBlue)\n",
    "#histMdetMC.SetLineColor(ROOT.kBlue)\n",
    "\n",
    "\n",
    "histMgenData.SetTitle(\";#tau_{5}^{2}(gen)\")\n",
    "#histMgenData.SetFillColor(ROOT.kGreen+2)\n",
    "#histMgenData.SetLineColor(ROOT.kGreen+2)\n",
    "\n",
    "histMdetData.SetTitle(\";#tau_{5}^{2}(det)\")\n",
    "#histMdetData.SetFillColor(ROOT.kBlack)\n",
    "#histMdetData.SetLineColor(ROOT.kBlack)"
   ]
  },
  {
   "cell_type": "markdown",
   "metadata": {
    "collapsed": true
   },
   "source": [
    "Draw the variables at reco and gen level and for \"data\""
   ]
  },
  {
   "cell_type": "code",
   "execution_count": null,
   "metadata": {},
   "outputs": [],
   "source": [
    "c1 = ROOT.TCanvas(\"chistMgenMC1\", \"chistMgenMC1\")\n",
    "histMgenMC.Draw(\"e\")\n",
    "histMdetMC.Draw(\"e same\")\n",
    "c1.Draw()"
   ]
  },
  {
   "cell_type": "code",
   "execution_count": null,
   "metadata": {},
   "outputs": [],
   "source": [
    "c1 = ROOT.TCanvas(\"chistMgenMC1\", \"chistMgenMC1\")\n",
    "histMgenData.Draw(\"e\")\n",
    "histMdetData.Draw(\"e same\")\n",
    "c1.Draw()"
   ]
  },
  {
   "cell_type": "markdown",
   "metadata": {
    "collapsed": true
   },
   "source": [
    "Draw the response matrix."
   ]
  },
  {
   "cell_type": "code",
   "execution_count": null,
   "metadata": {
    "scrolled": false
   },
   "outputs": [],
   "source": [
    "c1 = ROOT.TCanvas(\"cresponse1\", \"cresponse1\")\n",
    "response.Draw(\"colz\")\n",
    "c1.Draw()"
   ]
  },
  {
   "cell_type": "code",
   "execution_count": null,
   "metadata": {},
   "outputs": [],
   "source": [
    "#### In MC :"
   ]
  },
  {
   "cell_type": "code",
   "execution_count": null,
   "metadata": {},
   "outputs": [],
   "source": [
    "c2 = ROOT.TCanvas(\"MCcompare\", \"MCcompare\")\n",
    "histMgenMC.Draw('e')\n",
    "histMdetMC.Draw('e same')\n",
    "c2.Draw()"
   ]
  },
  {
   "cell_type": "markdown",
   "metadata": {
    "collapsed": true
   },
   "source": [
    "#### In Data:"
   ]
  },
  {
   "cell_type": "code",
   "execution_count": null,
   "metadata": {},
   "outputs": [],
   "source": [
    "c3 = ROOT.TCanvas(\"datadists\", \"datadists\")\n",
    "histMgenData.Draw('e')\n",
    "histMdetData.Draw('e same')\n",
    "c3.Draw()"
   ]
  },
  {
   "cell_type": "code",
   "execution_count": null,
   "metadata": {},
   "outputs": [],
   "source": [
    "print 'getting tunfolder:'\n",
    "tunfolder = ROOT.TUnfoldDensity(response,ROOT.TUnfold.kHistMapOutputVert,ROOT.TUnfold.kRegModeCurvature, ROOT.TUnfold.kEConstraintNone, ROOT.TUnfoldDensity.kDensityModeBinWidth)"
   ]
  },
  {
   "cell_type": "markdown",
   "metadata": {
    "collapsed": true
   },
   "source": [
    "Set the input, a 1D reconstructed histogram from either MC (closure) or Data (measurement) , binned in the detector level binning."
   ]
  },
  {
   "cell_type": "code",
   "execution_count": null,
   "metadata": {},
   "outputs": [],
   "source": [
    "print 'setting reco input'\n",
    "tunfolder.SetInput( histMdetData )"
   ]
  },
  {
   "cell_type": "markdown",
   "metadata": {},
   "source": [
    "Unfold nScan times with values for the regularization parameter between tauMin and tauMax using the empty TSplines to store the results."
   ]
  },
  {
   "cell_type": "code",
   "execution_count": null,
   "metadata": {},
   "outputs": [],
   "source": [
    "print 'regularizing'\n",
    "nScan=50\n",
    "tauMin=0.0\n",
    "tauMax=0.0\n",
    "iBest=0\n",
    "\n",
    "logTauX = ROOT.MakeNullPointer(ROOT.TSpline)\n",
    "logTauY = ROOT.MakeNullPointer(ROOT.TSpline)\n",
    "lCurve = ROOT.MakeNullPointer(ROOT.TGraph)\n",
    "\n",
    "print 'doing the unfolding'\n",
    "tunfolder.ScanLcurve(nScan,tauMin,tauMax,lCurve,logTauX,logTauY);\n",
    "print 'getting the results'\n",
    "unfolded = tunfolder.GetOutput(\"unfolded\")"
   ]
  },
  {
   "cell_type": "code",
   "execution_count": null,
   "metadata": {},
   "outputs": [],
   "source": []
  },
  {
   "cell_type": "code",
   "execution_count": null,
   "metadata": {},
   "outputs": [],
   "source": [
    "c5 = ROOT.TCanvas('c5', 'c5')\n",
    "unfolded.SetMarkerStyle(22)\n",
    "unfolded.SetMarkerColor(4)\n",
    "unfolded.SetFillColor(0)\n",
    "histMgenData.SetMarkerStyle(21)\n",
    "histMgenData.SetMarkerColor(2)\n",
    "\n",
    "hs = ROOT.THStack(\"hs\", \"hs\")\n",
    "hs.Add( histMgenData, \"hist\")\n",
    "hs.Add( unfolded, \"e\")\n",
    "hs.Draw(\"nostack\")\n",
    "c5.Draw()"
   ]
  },
  {
   "cell_type": "code",
   "execution_count": null,
   "metadata": {},
   "outputs": [],
   "source": []
  },
  {
   "cell_type": "code",
   "execution_count": null,
   "metadata": {},
   "outputs": [],
   "source": []
  },
  {
   "cell_type": "code",
   "execution_count": null,
   "metadata": {},
   "outputs": [],
   "source": []
  },
  {
   "cell_type": "code",
   "execution_count": null,
   "metadata": {},
   "outputs": [],
   "source": []
  },
  {
   "cell_type": "code",
   "execution_count": null,
   "metadata": {},
   "outputs": [],
   "source": []
  },
  {
   "cell_type": "code",
   "execution_count": null,
   "metadata": {},
   "outputs": [],
   "source": []
  }
 ],
 "metadata": {
  "kernelspec": {
   "display_name": "Python 2",
   "language": "python",
   "name": "python2"
  },
  "language_info": {
   "codemirror_mode": {
    "name": "ipython",
    "version": 2
   },
   "file_extension": ".py",
   "mimetype": "text/x-python",
   "name": "python",
   "nbconvert_exporter": "python",
   "pygments_lexer": "ipython2",
   "version": "2.7.15"
  }
 },
 "nbformat": 4,
 "nbformat_minor": 2
}
