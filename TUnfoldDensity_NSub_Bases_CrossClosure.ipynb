{
 "cells": [
  {
   "cell_type": "markdown",
   "metadata": {},
   "source": [
    "# Exploring the phase space of a jet: 1-D Unfolding  (for now)"
   ]
  },
  {
   "cell_type": "markdown",
   "metadata": {},
   "source": [
    "## Unfolding the the $N$-subjettiness bases in semileptonic $t\\bar{t}$ events at $\\sqrt{s} = 13$ TeV"
   ]
  },
  {
   "cell_type": "markdown",
   "metadata": {},
   "source": [
    "#### Firstly , import the ROOT data analysis framework which will be used to read the data files and unfold the final result. "
   ]
  },
  {
   "cell_type": "code",
   "execution_count": null,
   "metadata": {},
   "outputs": [],
   "source": [
    "import ROOT\n",
    "import array as array\n",
    "import os\n",
    "import glob\n",
    "import ROOT\n",
    "from ROOT import TH1D, TH2D, TTree,TFile\n",
    "from random import gauss\n",
    "import numpy as np\n",
    "import root_numpy as rtnpy\n",
    "import h5py\n",
    "from awkward import JaggedArray, Table"
   ]
  },
  {
   "cell_type": "markdown",
   "metadata": {
    "collapsed": true
   },
   "source": [
    "#### Save a nametag describing the selection applied to events being read from the input file below. This is used to name the saved plots."
   ]
  },
  {
   "cell_type": "code",
   "execution_count": null,
   "metadata": {},
   "outputs": [],
   "source": [
    "nametag = 'Selection from AN-19-074'"
   ]
  },
  {
   "cell_type": "code",
   "execution_count": null,
   "metadata": {
    "scrolled": true
   },
   "outputs": [],
   "source": [
    "lumi = 5.75+2.57+4.24+4.03+3.11+7.57+8.65 #B+C+D+E+F+G+H\n",
    "print (lumi)\n",
    "ptmin = 200.\n",
    "ptmax = 1500.\n",
    "mSDmin = 65.\n",
    "mSDmax = 125.\n",
    "leptWpTmin = 200."
   ]
  },
  {
   "cell_type": "markdown",
   "metadata": {},
   "source": [
    "#### Below the input Monte Carlo simulation events are read from the file which only contains events meeting the skim criteria set forth in this __[script](https://github.com/kaustuvdatta/jetObservables/blob/102X/python/nSubProducer_gen_reco.py)__\n"
   ]
  },
  {
   "cell_type": "markdown",
   "metadata": {},
   "source": [
    "### Using Powheg+Pythia8 samples as gen and MC and MG5+P8 as \"data\""
   ]
  },
  {
   "cell_type": "code",
   "execution_count": null,
   "metadata": {
    "scrolled": true
   },
   "outputs": [],
   "source": [
    "filelist = []\n",
    "path = '../AutoObs/CMS/New_Sel/TTrecogen/1/*.root'\n",
    "files=glob.glob(path)   \n",
    "for f in files:     \n",
    "    filelist.append(f)\n",
    "        \n",
    "print (len(filelist))\n",
    "dataset = []\n",
    "c=0\n",
    "for f in filelist:\n",
    "    F = ROOT.TFile.Open(f, 'read')\n",
    "    \n",
    "    T = F.Get(\"Events\");\n",
    "    \n",
    "    \n",
    "    \n",
    "    \n",
    "    \n",
    "    data = rtnpy. tree2array(T, branches=['goodrecojet0_softdrop_mass',\n",
    "                                      'goodrecojet0_tau_0p5_0','goodrecojet0_tau_1_0','goodrecojet0_tau_2_0',\n",
    "                                      'goodrecojet0_tau_0p5_1','goodrecojet0_tau_1_1','goodrecojet0_tau_2_1',\n",
    "                                      'goodrecojet0_tau_0p5_2','goodrecojet0_tau_1_2','goodrecojet0_tau_2_2',\n",
    "                                      'goodrecojet0_tau_0p5_3','goodrecojet0_tau_1_3','goodrecojet0_tau_2_3',\n",
    "                                      'goodrecojet0_tau_0p5_4','goodrecojet0_tau_1_4','goodrecojet0_tau_2_4',\n",
    "                                      'goodrecojet0_tau_0p5_5','goodrecojet0_tau_1_5','goodrecojet0_tau_2_5',\n",
    "                                      'goodrecojet0_tau_0p5_6','goodrecojet0_tau_1_6','goodrecojet0_tau_2_6',\n",
    "                                      'goodrecojet0_mass', 'goodrecojet0_pt', 'goodrecojet0_eta',\n",
    "                                      'goodrecojet0_phi',\n",
    "                                      'MET', 'goodrecojet0_tau21', 'goodrecojet0_N21',\n",
    "                                      'FatJet_tau1','FatJet_tau2','FatJet_tau3','FatJet_tau4', 'leptonicW_pT', \n",
    "                                      'lepton_pT', 'puWeight', 'PV_npvsGood', 'btagWeight_CSVV2',\n",
    "                                      'dr_LepJet', 'dphi_MetJet', 'dphi_WJet','genmatchedrecoAK8', 'passedMETfilters',\n",
    "                                      'goodgenjet0_mass',\n",
    "                                      'goodgenjet0_tau_0p5_0','goodgenjet0_tau_1_0','goodgenjet0_tau_2_0',\n",
    "                                      'goodgenjet0_tau_0p5_1','goodgenjet0_tau_1_1','goodgenjet0_tau_2_1',\n",
    "                                      'goodgenjet0_tau_0p5_2','goodgenjet0_tau_1_2','goodgenjet0_tau_2_2',\n",
    "                                      'goodgenjet0_tau_0p5_3','goodgenjet0_tau_1_3','goodgenjet0_tau_2_3',\n",
    "                                      'goodgenjet0_tau_0p5_4','goodgenjet0_tau_1_4','goodgenjet0_tau_2_4',\n",
    "                                      'goodgenjet0_tau_0p5_5','goodgenjet0_tau_1_5','goodgenjet0_tau_2_5',\n",
    "                                      'goodgenjet0_tau_0p5_6','goodgenjet0_tau_1_6','goodgenjet0_tau_2_6',\n",
    "                                      'goodgenjet0_pt', 'goodgenjet0_eta', 'goodgenjet0_phi'\n",
    "                                        ])\n",
    "\n",
    "    \n",
    "    if len(dataset)==0:\n",
    "        print (c)\n",
    "        dataset=data\n",
    "    else:\n",
    "        dataset = np.concatenate((dataset,data))\n",
    "        \n",
    "    c=c+1\n",
    "    if c%5==0:\n",
    "        print (\"on file %d\"%c)"
   ]
  },
  {
   "cell_type": "code",
   "execution_count": null,
   "metadata": {},
   "outputs": [],
   "source": [
    "#pars = [1.02,-1.06,0.22,-0.27,0.15,0.00,0.18,0.02]# [ 0.49631107, -0.91138405, 0.11273356, -0.26872, 0.04777313, 0.06521296, 0.51138633, -0.03617261]\n",
    "#pars = [0.,-1.,0.,0.,1.,0.,0.,0.]\n",
    "pars = -1* np.array([-0.195,  1.183,  -0.219,  0.674,  -0.44,   0.003, -0.634,  -0.042]) #[ 0.06849562,  0.99606407, -0.20875171,  0.3780923 , -0.07821123, -0.05920516, -0.79644126,  0.02925767]#[1.02,-1.06,0.22,-0.27,0.15,0.00,0.18,0.02]# [ 1.0470642 , 0.3308942 , -0.08472812, 0.4989206, -0.2598824, 0.00597894, -0.6826088 , -0.06705493]\n",
    "\n",
    "c=0\n",
    "for i in range(0,dataset.shape[0]):\n",
    "    if mSDmin<dataset[i][0]<=mSDmax and ptmin<dataset[i][23]<ptmax and leptWpTmin<dataset[i][33] and dataset[i][38]>np.pi/2 and dataset[i][39]>2. and dataset[i][40]>2. and dataset[i][42]==1:# and dataset[i][27]<0.45:\n",
    "        #if ((dataset[i][1])**(pars[0]))*((dataset[i][2])**(pars[1]))*((dataset[i][3])**(pars[2]))*((dataset[i][4])**(pars[3]))*((dataset[i][5])**(pars[4]))*((dataset[i][6])**(pars[5]))*((dataset[i][8])**(pars[6]))*((dataset[i][9])**(pars[7]))>3.:\n",
    "        c=c+1\n",
    "\n",
    "print (c)\n",
    "TT16reco_npv = np.ones(c)\n",
    "TT16reco_beta4W = np.ones(c)\n",
    "TT16reco_pt = np.ones(c)\n",
    "TT16reco_eta = np.ones(c)\n",
    "TT16reco_met = np.ones(c)\n",
    "TT16reco_lWpt = np.ones(c)\n",
    "TT16reco_lept_pT = np.ones(c)\n",
    "TT16reco_mass = np.ones(c)\n",
    "TT16reco_sdmass = np.ones(c)\n",
    "TT16reco_tau1 = np.ones(c)\n",
    "TT16reco_tau2 = np.ones(c)\n",
    "TT16reco_tau3 = np.ones(c)\n",
    "TT16reco_tau4 = np.ones(c)\n",
    "TT16reco_tau21 = np.ones(c)\n",
    "TT16reco_N21 = np.ones(c)\n",
    "TT16reco_puWeight = np.ones(c)\n",
    "TT16reco_btagWeight = np.ones(c)\n",
    "fatjet_TT16reco_tau1 = np.ones(c)\n",
    "fatjet_TT16reco_tau2 = np.ones(c)\n",
    "fatjet_TT16reco_tau3 = np.ones(c)\n",
    "fatjet_TT16reco_tau4 = np.ones(c)\n",
    "fatjet_TT16reco_tau21 = np.ones(c)\n",
    "\n",
    "\n",
    "TT16reco_nSub_basis = np.ones((c,21))\n",
    "\n",
    "TT16reco_tau1_0p5 = np.ones(c)\n",
    "TT16reco_tau1_1 = np.ones(c)\n",
    "TT16reco_tau1_2 = np.ones(c)\n",
    "TT16reco_tau2_0p5 = np.ones(c)\n",
    "TT16reco_tau2_1 = np.ones(c)\n",
    "TT16reco_tau2_2 = np.ones(c)\n",
    "TT16reco_tau3_0p5 = np.ones(c)\n",
    "TT16reco_tau3_1 = np.ones(c)\n",
    "TT16reco_tau3_2 = np.ones(c)\n",
    "TT16reco_tau4_0p5 = np.ones(c)\n",
    "TT16reco_tau4_1 = np.ones(c)\n",
    "TT16reco_tau4_2 = np.ones(c)\n",
    "TT16reco_tau5_0p5 = np.ones(c)\n",
    "TT16reco_tau5_1 = np.ones(c)\n",
    "TT16reco_tau5_2 = np.ones(c)\n",
    "TT16reco_tau6_0p5 = np.ones(c)\n",
    "TT16reco_tau6_1 = np.ones(c)\n",
    "TT16reco_tau6_2 = np.ones(c)\n",
    "TT16reco_tau7_0p5 = np.ones(c)\n",
    "TT16reco_tau7_1 = np.ones(c)\n",
    "TT16reco_tau7_2 = np.ones(c)\n",
    "\n",
    "TT16gen_tau21 = np.ones(c)\n",
    "TT16gen_beta4W = np.ones(c)\n",
    "TT16gen_pt = np.ones(c)\n",
    "TT16gen_eta = np.ones(c)\n",
    "TT16gen_mass = np.ones(c)\n",
    "\n",
    "TT16gen_nSub_basis = np.ones((c,21))\n",
    "\n",
    "TT16gen_tau1_0p5 = np.ones(c)\n",
    "TT16gen_tau1_1 = np.ones(c)\n",
    "TT16gen_tau1_2 = np.ones(c)\n",
    "TT16gen_tau2_0p5 = np.ones(c)\n",
    "TT16gen_tau2_1 = np.ones(c)\n",
    "TT16gen_tau2_2 = np.ones(c)\n",
    "TT16gen_tau3_0p5 = np.ones(c)\n",
    "TT16gen_tau3_1 = np.ones(c)\n",
    "TT16gen_tau3_2 = np.ones(c)\n",
    "TT16gen_tau4_0p5 = np.ones(c)\n",
    "TT16gen_tau4_1 = np.ones(c)\n",
    "TT16gen_tau4_2 = np.ones(c)\n",
    "TT16gen_tau5_0p5 = np.ones(c)\n",
    "TT16gen_tau5_1 = np.ones(c)\n",
    "TT16gen_tau5_2 = np.ones(c)\n",
    "TT16gen_tau6_0p5 = np.ones(c)\n",
    "TT16gen_tau6_1 = np.ones(c)\n",
    "TT16gen_tau6_2 = np.ones(c)\n",
    "TT16gen_tau7_0p5 = np.ones(c)\n",
    "TT16gen_tau7_1 = np.ones(c)\n",
    "TT16gen_tau7_2 = np.ones(c)\n",
    "\n",
    "c=0\n",
    "d1=0\n",
    "d2=0\n",
    "for i in range(0,dataset.shape[0]):\n",
    "    if mSDmin<dataset[i][0]<=mSDmax and ptmin<dataset[i][23]<ptmax and leptWpTmin<dataset[i][33] and dataset[i][38]>np.pi/2 and dataset[i][39]>2. and dataset[i][40]>2. and dataset[i][42]==1:# and dataset[i][27]<0.45:\n",
    "        #print dataset[i][29]\n",
    "        #if ((dataset[i][1])**(pars[0]))*((dataset[i][2])**(pars[1]))*((dataset[i][3])**(pars[2]))*((dataset[i][4])**(pars[3]))*((dataset[i][5])**(pars[4]))*((dataset[i][6])**(pars[5]))*((dataset[i][8])**(pars[6]))*((dataset[i][9])**(pars[7]))>3.:\n",
    "        TT16reco_pt[c] = dataset[i][23]\n",
    "        TT16reco_eta[c] = dataset[i][24]\n",
    "        TT16reco_met[c] = dataset[i][26]\n",
    "        TT16reco_mass[c] = dataset[i][22]\n",
    "        TT16reco_lWpt[c] = dataset[i][33]\n",
    "        TT16reco_lept_pT[c] = dataset[i][34]\n",
    "        TT16reco_sdmass[c] = dataset[i][0]\n",
    "        TT16reco_tau1[c] = dataset[i][2]\n",
    "        TT16reco_tau2[c] = dataset[i][5]\n",
    "        TT16reco_tau3[c] = dataset[i][8]\n",
    "        TT16reco_tau4[c] = dataset[i][11]\n",
    "        TT16reco_tau21[c] = dataset[i][27]\n",
    "        TT16reco_N21[c] = dataset[i][28]\n",
    "        TT16reco_puWeight[c] = dataset[i][35]\n",
    "        TT16reco_btagWeight[c] = dataset[i][37]\n",
    "        TT16reco_npv[c] = dataset[i][36]\n",
    "        fatjet_TT16reco_tau1[c] = dataset[i][29][0]\n",
    "        fatjet_TT16reco_tau2[c] = dataset[i][30][0]\n",
    "        fatjet_TT16reco_tau3[c] = dataset[i][31][0]\n",
    "        fatjet_TT16reco_tau4[c] = dataset[i][32][0]\n",
    "        \n",
    "        for z in range(0,21):\n",
    "            TT16reco_nSub_basis[c][z] = dataset[i][z+1]\n",
    "        TT16reco_tau1_0p5[c] = dataset[i][1]\n",
    "        TT16reco_tau1_1[c] = dataset[i][2]\n",
    "        TT16reco_tau1_2[c] = dataset[i][3]\n",
    "        TT16reco_tau2_0p5[c] = dataset[i][4]\n",
    "        TT16reco_tau2_1[c] = dataset[i][5]\n",
    "        TT16reco_tau2_2[c] = dataset[i][6]\n",
    "\n",
    "        \n",
    "        TT16gen_pt[c] = dataset[i][65]\n",
    "        TT16gen_eta[c] = dataset[i][66]\n",
    "        TT16gen_mass[c] = dataset[i][43]\n",
    "        \n",
    "        for z in range(0,21):\n",
    "            TT16gen_nSub_basis[c][z] = dataset[i][z+44]   \n",
    "        \n",
    "        TT16gen_tau1_0p5[c] = dataset[i][44]\n",
    "        TT16gen_tau1_1[c] = dataset[i][45]\n",
    "        TT16gen_tau1_2[c] = dataset[i][46]\n",
    "        TT16gen_tau2_0p5[c] = dataset[i][47]\n",
    "        TT16gen_tau2_1[c] = dataset[i][48]\n",
    "        TT16gen_tau2_2[c] = dataset[i][49]\n",
    "        \n",
    "        \n",
    "        if TT16reco_tau1_1[c]!=0:\n",
    "            TT16reco_tau21[d1] = TT16reco_tau2_1[c]/TT16reco_tau1_1[c]\n",
    "            d1=d1+1\n",
    "        TT16reco_beta4W[c]=((dataset[i][1])**(pars[0]))*((dataset[i][2])**(pars[1]))*((dataset[i][3])**(pars[2]))*((dataset[i][4])**(pars[3]))*((dataset[i][5])**(pars[4]))*((dataset[i][6])**(pars[5]))*((dataset[i][8])**(pars[6]))*((dataset[i][9])**(pars[7]))\n",
    "        \n",
    "        if TT16gen_tau1_1[c]!=0:\n",
    "            TT16gen_tau21[d2] = TT16gen_tau2_1[c]/TT16gen_tau1_1[c]\n",
    "            d2=d2+1\n",
    "        TT16gen_beta4W[c]=((dataset[i][44])**(pars[0]))*((dataset[i][45])**(pars[1]))*((dataset[i][46])**(pars[2]))*((dataset[i][47])**(pars[3]))*((dataset[i][48])**(pars[4]))*((dataset[i][49])**(pars[5]))*((dataset[i][51])**(pars[6]))*((dataset[i][52])**(pars[7]))\n",
    "        if np.isnan(TT16gen_beta4W[c]): \n",
    "            print (\"nan nan nan!!!\", c, (dataset[i][44]), (dataset[i][45]), (dataset[i][46]), (dataset[i][47]), (dataset[i][48]), (dataset[i][49]), (dataset[i][51]), (dataset[i][52]), (dataset[i][65]), (dataset[i][66]), (dataset[c][43]))\n",
    "        if np.isinf(TT16gen_beta4W[c]): \n",
    "            print (\"inf inf inf!!!\", c)\n",
    "        \n",
    "        c=c+1\n",
    "#print np.min(var_sig), np.max(var_sig)\n",
    "#TT16reco_SF = np.exp(0.0615+0.0005*TT16reco_pt)\n",
    "#print TT16reco_SF, np.mean(TT16reco_SF)"
   ]
  },
  {
   "cell_type": "code",
   "execution_count": null,
   "metadata": {
    "scrolled": true
   },
   "outputs": [],
   "source": [
    "filelist = []\n",
    "path = '../AutoObs/CMS/New_Sel/TTrecogen/2/*.root'\n",
    "files=glob.glob(path)   \n",
    "for f in files:     \n",
    "    filelist.append(f)\n",
    "        \n",
    "print (len(filelist))\n",
    "dataset = []\n",
    "c=0\n",
    "for f in filelist:\n",
    "    F = ROOT.TFile.Open(f, 'read')\n",
    "    \n",
    "    T = F.Get(\"Events\");\n",
    "    \n",
    "    \n",
    "    \n",
    "    \n",
    "    \n",
    "    data = rtnpy. tree2array(T, branches=['goodrecojet0_softdrop_mass',\n",
    "                                      'goodrecojet0_tau_0p5_0','goodrecojet0_tau_1_0','goodrecojet0_tau_2_0',\n",
    "                                      'goodrecojet0_tau_0p5_1','goodrecojet0_tau_1_1','goodrecojet0_tau_2_1',\n",
    "                                      'goodrecojet0_tau_0p5_2','goodrecojet0_tau_1_2','goodrecojet0_tau_2_2',\n",
    "                                      'goodrecojet0_tau_0p5_3','goodrecojet0_tau_1_3','goodrecojet0_tau_2_3',\n",
    "                                      'goodrecojet0_tau_0p5_4','goodrecojet0_tau_1_4','goodrecojet0_tau_2_4',\n",
    "                                      'goodrecojet0_tau_0p5_5','goodrecojet0_tau_1_5','goodrecojet0_tau_2_5',\n",
    "                                      'goodrecojet0_tau_0p5_6','goodrecojet0_tau_1_6','goodrecojet0_tau_2_6',\n",
    "                                      'goodrecojet0_mass', 'goodrecojet0_pt', 'goodrecojet0_eta',\n",
    "                                      'goodrecojet0_phi',\n",
    "                                      'MET', 'goodrecojet0_tau21', 'goodrecojet0_N21',\n",
    "                                      'FatJet_tau1','FatJet_tau2','FatJet_tau3','FatJet_tau4', 'leptonicW_pT', \n",
    "                                      'lepton_pT', 'puWeight', 'PV_npvsGood', 'btagWeight_CSVV2',\n",
    "                                      'dr_LepJet', 'dphi_MetJet', 'dphi_WJet','genmatchedrecoAK8', 'passedMETfilters',\n",
    "                                      'goodgenjet0_mass',\n",
    "                                      'goodgenjet0_tau_0p5_0','goodgenjet0_tau_1_0','goodgenjet0_tau_2_0',\n",
    "                                      'goodgenjet0_tau_0p5_1','goodgenjet0_tau_1_1','goodgenjet0_tau_2_1',\n",
    "                                      'goodgenjet0_tau_0p5_2','goodgenjet0_tau_1_2','goodgenjet0_tau_2_2',\n",
    "                                      'goodgenjet0_tau_0p5_3','goodgenjet0_tau_1_3','goodgenjet0_tau_2_3',\n",
    "                                      'goodgenjet0_tau_0p5_4','goodgenjet0_tau_1_4','goodgenjet0_tau_2_4',\n",
    "                                      'goodgenjet0_tau_0p5_5','goodgenjet0_tau_1_5','goodgenjet0_tau_2_5',\n",
    "                                      'goodgenjet0_tau_0p5_6','goodgenjet0_tau_1_6','goodgenjet0_tau_2_6',\n",
    "                                      'goodgenjet0_pt', 'goodgenjet0_eta', 'goodgenjet0_phi'\n",
    "                                        ])\n",
    "\n",
    "    \n",
    "    if len(dataset)==0:\n",
    "        print (c)\n",
    "        dataset=data\n",
    "    else:\n",
    "        dataset = np.concatenate((dataset,data))\n",
    "        \n",
    "    c=c+1\n",
    "    if c%5==0:\n",
    "        print (\"on file %d\"%c)"
   ]
  },
  {
   "cell_type": "code",
   "execution_count": null,
   "metadata": {},
   "outputs": [],
   "source": [
    "#pars = [1.02,-1.06,0.22,-0.27,0.15,0.00,0.18,0.02]# [ 0.49631107, -0.91138405, 0.11273356, -0.26872, 0.04777313, 0.06521296, 0.51138633, -0.03617261]\n",
    "#pars = [0.,-1.,0.,0.,1.,0.,0.,0.]\n",
    "pars = -1* np.array([-0.195,  1.183,  -0.219,  0.674,  -0.44,   0.003, -0.634,  -0.042]) #[ 0.06849562,  0.99606407, -0.20875171,  0.3780923 , -0.07821123, -0.05920516, -0.79644126,  0.02925767]#[1.02,-1.06,0.22,-0.27,0.15,0.00,0.18,0.02]# [ 1.0470642 , 0.3308942 , -0.08472812, 0.4989206, -0.2598824, 0.00597894, -0.6826088 , -0.06705493]\n",
    "\n",
    "c=0\n",
    "for i in range(0,dataset.shape[0]):\n",
    "    if mSDmin<dataset[i][0]<=mSDmax and ptmin<dataset[i][23]<ptmax and leptWpTmin<dataset[i][33] and dataset[i][38]>np.pi/2 and dataset[i][39]>2. and dataset[i][40]>2. and dataset[i][42]==1:# and dataset[i][27]<0.45:\n",
    "        #if ((dataset[i][1])**(pars[0]))*((dataset[i][2])**(pars[1]))*((dataset[i][3])**(pars[2]))*((dataset[i][4])**(pars[3]))*((dataset[i][5])**(pars[4]))*((dataset[i][6])**(pars[5]))*((dataset[i][8])**(pars[6]))*((dataset[i][9])**(pars[7]))>3.:\n",
    "        c=c+1\n",
    "\n",
    "print (c)\n",
    "TT16data_npv = np.ones(c)\n",
    "TT16data_beta4W = np.ones(c)\n",
    "TT16data_pt = np.ones(c)\n",
    "TT16data_eta = np.ones(c)\n",
    "TT16data_met = np.ones(c)\n",
    "TT16data_lWpt = np.ones(c)\n",
    "TT16data_lept_pT = np.ones(c)\n",
    "TT16data_mass = np.ones(c)\n",
    "TT16data_sdmass = np.ones(c)\n",
    "TT16data_tau1 = np.ones(c)\n",
    "TT16data_tau2 = np.ones(c)\n",
    "TT16data_tau3 = np.ones(c)\n",
    "TT16data_tau4 = np.ones(c)\n",
    "TT16data_tau21 = np.ones(c)\n",
    "TT16data_N21 = np.ones(c)\n",
    "TT16data_puWeight = np.ones(c)\n",
    "TT16data_btagWeight = np.ones(c)\n",
    "fatjet_TT16data_tau1 = np.ones(c)\n",
    "fatjet_TT16data_tau2 = np.ones(c)\n",
    "fatjet_TT16data_tau3 = np.ones(c)\n",
    "fatjet_TT16data_tau4 = np.ones(c)\n",
    "fatjet_TT16data_tau21 = np.ones(c)\n",
    "\n",
    "\n",
    "TT16data_nSub_basis = np.ones((c,21))\n",
    "\n",
    "TT16data_tau1_0p5 = np.ones(c)\n",
    "TT16data_tau1_1 = np.ones(c)\n",
    "TT16data_tau1_2 = np.ones(c)\n",
    "TT16data_tau2_0p5 = np.ones(c)\n",
    "TT16data_tau2_1 = np.ones(c)\n",
    "TT16data_tau2_2 = np.ones(c)\n",
    "TT16data_tau3_0p5 = np.ones(c)\n",
    "TT16data_tau3_1 = np.ones(c)\n",
    "TT16data_tau3_2 = np.ones(c)\n",
    "TT16data_tau4_0p5 = np.ones(c)\n",
    "TT16data_tau4_1 = np.ones(c)\n",
    "TT16data_tau4_2 = np.ones(c)\n",
    "TT16data_tau5_0p5 = np.ones(c)\n",
    "TT16data_tau5_1 = np.ones(c)\n",
    "TT16data_tau5_2 = np.ones(c)\n",
    "TT16data_tau6_0p5 = np.ones(c)\n",
    "TT16data_tau6_1 = np.ones(c)\n",
    "TT16data_tau6_2 = np.ones(c)\n",
    "TT16data_tau7_0p5 = np.ones(c)\n",
    "TT16data_tau7_1 = np.ones(c)\n",
    "TT16data_tau7_2 = np.ones(c)\n",
    "\n",
    "TT16truth_tau21 = np.ones(c)\n",
    "TT16truth_beta4W = np.ones(c)\n",
    "TT16truth_pt = np.ones(c)\n",
    "TT16truth_eta = np.ones(c)\n",
    "TT16truth_mass = np.ones(c)\n",
    "\n",
    "TT16truth_nSub_basis = np.ones((c,21))\n",
    "\n",
    "TT16truth_tau1_0p5 = np.ones(c)\n",
    "TT16truth_tau1_1 = np.ones(c)\n",
    "TT16truth_tau1_2 = np.ones(c)\n",
    "TT16truth_tau2_0p5 = np.ones(c)\n",
    "TT16truth_tau2_1 = np.ones(c)\n",
    "TT16truth_tau2_2 = np.ones(c)\n",
    "TT16truth_tau3_0p5 = np.ones(c)\n",
    "TT16truth_tau3_1 = np.ones(c)\n",
    "TT16truth_tau3_2 = np.ones(c)\n",
    "TT16truth_tau4_0p5 = np.ones(c)\n",
    "TT16truth_tau4_1 = np.ones(c)\n",
    "TT16truth_tau4_2 = np.ones(c)\n",
    "TT16truth_tau5_0p5 = np.ones(c)\n",
    "TT16truth_tau5_1 = np.ones(c)\n",
    "TT16truth_tau5_2 = np.ones(c)\n",
    "TT16truth_tau6_0p5 = np.ones(c)\n",
    "TT16truth_tau6_1 = np.ones(c)\n",
    "TT16truth_tau6_2 = np.ones(c)\n",
    "TT16truth_tau7_0p5 = np.ones(c)\n",
    "TT16truth_tau7_1 = np.ones(c)\n",
    "TT16truth_tau7_2 = np.ones(c)\n",
    "\n",
    "c=0\n",
    "d1=0\n",
    "d2=0\n",
    "for i in range(0,dataset.shape[0]):\n",
    "    if mSDmin<dataset[i][0]<=mSDmax and ptmin<dataset[i][23]<ptmax and leptWpTmin<dataset[i][33] and dataset[i][38]>np.pi/2 and dataset[i][39]>2. and dataset[i][40]>2. and dataset[i][42]==1:# and dataset[i][27]<0.45:\n",
    "        #print dataset[i][29]\n",
    "        #if ((dataset[i][1])**(pars[0]))*((dataset[i][2])**(pars[1]))*((dataset[i][3])**(pars[2]))*((dataset[i][4])**(pars[3]))*((dataset[i][5])**(pars[4]))*((dataset[i][6])**(pars[5]))*((dataset[i][8])**(pars[6]))*((dataset[i][9])**(pars[7]))>3.:\n",
    "        TT16data_pt[c] = dataset[i][23]\n",
    "        TT16data_eta[c] = dataset[i][24]\n",
    "        TT16data_met[c] = dataset[i][26]\n",
    "        TT16data_mass[c] = dataset[i][22]\n",
    "        TT16data_lWpt[c] = dataset[i][33]\n",
    "        TT16data_lept_pT[c] = dataset[i][34]\n",
    "        TT16data_sdmass[c] = dataset[i][0]\n",
    "        TT16data_tau1[c] = dataset[i][2]\n",
    "        TT16data_tau2[c] = dataset[i][5]\n",
    "        TT16data_tau3[c] = dataset[i][8]\n",
    "        TT16data_tau4[c] = dataset[i][11]\n",
    "        TT16data_tau21[c] = dataset[i][27]\n",
    "        TT16data_N21[c] = dataset[i][28]\n",
    "        TT16data_puWeight[c] = dataset[i][35]\n",
    "        TT16data_btagWeight[c] = dataset[i][37]\n",
    "        TT16data_npv[c] = dataset[i][36]\n",
    "        fatjet_TT16data_tau1[c] = dataset[i][29][0]\n",
    "        fatjet_TT16data_tau2[c] = dataset[i][30][0]\n",
    "        fatjet_TT16data_tau3[c] = dataset[i][31][0]\n",
    "        fatjet_TT16data_tau4[c] = dataset[i][32][0]\n",
    "        \n",
    "        for z in range(0,21):\n",
    "            TT16data_nSub_basis[c][z] = dataset[i][z+1]\n",
    "        TT16data_tau1_0p5[c] = dataset[i][1]\n",
    "        TT16data_tau1_1[c] = dataset[i][2]\n",
    "        TT16data_tau1_2[c] = dataset[i][3]\n",
    "        TT16data_tau2_0p5[c] = dataset[i][4]\n",
    "        TT16data_tau2_1[c] = dataset[i][5]\n",
    "        TT16data_tau2_2[c] = dataset[i][6]\n",
    "\n",
    "        \n",
    "        TT16truth_pt[c] = dataset[i][65]\n",
    "        TT16truth_eta[c] = dataset[i][66]\n",
    "        TT16truth_mass[c] = dataset[i][43]\n",
    "        \n",
    "        for z in range(0,21):\n",
    "            TT16truth_nSub_basis[c][z] = dataset[i][z+44]   \n",
    "        \n",
    "        TT16truth_tau1_0p5[c] = dataset[i][44]\n",
    "        TT16truth_tau1_1[c] = dataset[i][45]\n",
    "        TT16truth_tau1_2[c] = dataset[i][46]\n",
    "        TT16truth_tau2_0p5[c] = dataset[i][47]\n",
    "        TT16truth_tau2_1[c] = dataset[i][48]\n",
    "        TT16truth_tau2_2[c] = dataset[i][49]\n",
    "        \n",
    "        \n",
    "        if TT16data_tau1_1[c]!=0:\n",
    "            TT16data_tau21[d1] = TT16data_tau2_1[c]/TT16data_tau1_1[c]\n",
    "            d1=d1+1\n",
    "        TT16data_beta4W[c]=((dataset[i][1])**(pars[0]))*((dataset[i][2])**(pars[1]))*((dataset[i][3])**(pars[2]))*((dataset[i][4])**(pars[3]))*((dataset[i][5])**(pars[4]))*((dataset[i][6])**(pars[5]))*((dataset[i][8])**(pars[6]))*((dataset[i][9])**(pars[7]))\n",
    "        \n",
    "        if TT16truth_tau1_1[c]!=0:\n",
    "            TT16truth_tau21[d2] = TT16truth_tau2_1[c]/TT16truth_tau1_1[c]\n",
    "            d2=d2+1\n",
    "        TT16truth_beta4W[c]=((dataset[i][44])**(pars[0]))*((dataset[i][45])**(pars[1]))*((dataset[i][46])**(pars[2]))*((dataset[i][47])**(pars[3]))*((dataset[i][48])**(pars[4]))*((dataset[i][49])**(pars[5]))*((dataset[i][51])**(pars[6]))*((dataset[i][52])**(pars[7]))\n",
    "        if np.isnan(TT16truth_beta4W[c]): \n",
    "            print (\"nan nan nan!!!\", c, (dataset[i][44]), (dataset[i][45]), (dataset[i][46]), (dataset[i][47]), (dataset[i][48]), (dataset[i][49]), (dataset[i][51]), (dataset[i][52]), (dataset[i][65]), (dataset[i][66]), (dataset[c][43]))\n",
    "        if np.isinf(TT16truth_beta4W[c]): \n",
    "            print (\"inf inf inf!!!\", c)\n",
    "        \n",
    "        c=c+1\n",
    "#print np.min(var_sig), np.max(var_sig)\n",
    "#TT16data_SF = np.exp(0.0615+0.0005*TT16data_pt)\n",
    "#print TT16data_SF, np.mean(TT16data_SF)"
   ]
  },
  {
   "cell_type": "code",
   "execution_count": null,
   "metadata": {},
   "outputs": [],
   "source": [
    "def unfold_nSub_crossclosure(gen, reco, truth, data, nDet=50, nGen=25, \n",
    "                             xminDet=0., xmaxDet=1., xminGen=0., xmaxGen=1.,\n",
    "                             var_name= \"#tau_{N}^{#beta}\"):\n",
    "    \n",
    "    ROOT.TH1.SetDefaultSumw2()\n",
    "    histMgenMC = ROOT.TH1D(\"histMgenMC\", \"histMgenMC; %s\"%var_name, nGen, xminGen,xmaxGen)\n",
    "    fill_hist(histMgenMC, gen)\n",
    "\n",
    "    histMdetMC = ROOT.TH1D(\"histMdetMC\", \"histMdetMC; %s\"%var_name, nDet, xminDet,xmaxDet)\n",
    "    fill_hist(histMdetMC, reco)\n",
    "\n",
    "    histMgenData = ROOT.TH1D(\"histMgenData\", \"histMgenData; %s\"%var_name, nGen, xminGen,xmaxGen)\n",
    "    fill_hist(histMgenData, truth)\n",
    "\n",
    "    histMdetData = ROOT.TH1D(\"histMdetData\", \"histMdetData; %s\"%var_name, nDet, xminDet,xmaxDet)\n",
    "    fill_hist(histMdetData, data)\n",
    "\n",
    "\n",
    "    response = ROOT.TH2D('response', 'response', nDet, xminDet, xmaxDet, nGen, xminGen, xmaxGen)\n",
    "    hist2Dfill = np.zeros((reco.shape[0], 2))\n",
    "    hist2Dfill[:,0] = reco.flatten()\n",
    "    hist2Dfill[:,1] = gen.flatten()\n",
    "    fill_hist(response, hist2Dfill)\n",
    "    \n",
    "    response.SetTitle(\";%s(det);%s(gen)\"%(var_name, var_name))\n",
    "    histMgenMC.SetTitle(\";%s(gen)\"%var_name)\n",
    "    histMdetMC.SetTitle(\";%s(det)\"%var_name)\n",
    "    histMgenData.SetTitle(\";%s(gen)\"%var_name)\n",
    "    histMdetData.SetTitle(\";%s(det)\"%var_name)\n",
    "    \n",
    "    c1 = ROOT.TCanvas(\"chistMgenMC1\", \"chistMgenMC1\")\n",
    "    histMgenMC.Draw(\"e\")\n",
    "    histMdetMC.Draw(\"e same\")\n",
    "    c1.Draw()\n",
    "    c1.SaveAs(\"Unfold_Plots/histMC_%s.png\"%var_name)\n",
    "    c1.SaveAs(\"Unfold_Plots/histMC_%s.pdf\"%var_name)\n",
    "    c1.SaveAs(\"Unfold_Plots/histMC_%s.C\"%var_name)\n",
    "    \n",
    "    c2 = ROOT.TCanvas(\"chistMgenMC1\", \"chistMgenMC1\")\n",
    "    histMgenData.Draw(\"e\")\n",
    "    histMdetData.Draw(\"e same\")\n",
    "    c2.Draw()\n",
    "    c2.SaveAs(\"Unfold_Plots/hist_CC_MC_%s.png\"%var_name)\n",
    "    c2.SaveAs(\"Unfold_Plots/hist_CC_MC_%s.pdf\"%var_name)\n",
    "    c2.SaveAs(\"Unfold_Plots/hist_CC_MC_%s.C\"%var_name)\n",
    "    \n",
    "    c3 = ROOT.TCanvas(\"cresponse1\", \"cresponse1\")\n",
    "    response.Draw(\"colz\")\n",
    "    c3.Draw()\n",
    "    c3.SaveAs(\"Unfold_Plots/response_%s.png\"%var_name)\n",
    "    c3.SaveAs(\"Unfold_Plots/response_%s.pdf\"%var_name)\n",
    "    c3.SaveAs(\"Unfold_Plots/response_%s.C\"%var_name)\n",
    "    \n",
    "    print 'getting tunfolder:'\n",
    "    tunfolder = ROOT.TUnfoldDensity(response,ROOT.TUnfold.kHistMapOutputVert,ROOT.TUnfold.kRegModeCurvature, ROOT.TUnfold.kEConstraintNone, ROOT.TUnfoldDensity.kDensityModeBinWidth);\n",
    "    print 'setting reco input'\n",
    "    tunfolder.SetInput( histMdetData );\n",
    "    \n",
    "    print 'regularizing'\n",
    "    nScan = 50\n",
    "    tauMin =-6.0\n",
    "    tauMax = 6.0\n",
    "    iBest = 0\n",
    "\n",
    "    logTauX = ROOT.MakeNullPointer(ROOT.TSpline);\n",
    "    logTauY = ROOT.MakeNullPointer(ROOT.TSpline);\n",
    "    lCurve = ROOT.MakeNullPointer(ROOT.TGraph);\n",
    "\n",
    "    print 'doing the unfolding'\n",
    "    tunfolder.ScanLcurve(nScan,tauMin,tauMax,lCurve,logTauX,logTauY);\n",
    "    print 'getting the results'\n",
    "    unfolded = tunfolder.GetOutput(\"unfolded\");\n",
    "    \n",
    "    c4 = ROOT.TCanvas('c4', 'c4')\n",
    "    unfolded.SetMarkerStyle(22)\n",
    "    unfolded.SetMarkerColor(4)\n",
    "    unfolded.SetFillColor(0)\n",
    "    histMgenData.SetMarkerStyle(21)\n",
    "    histMgenData.SetMarkerColor(2)\n",
    "\n",
    "    hs = ROOT.THStack(\"hs\", \"hs\")\n",
    "    hs.Add( histMgenData, \"hist\")\n",
    "    hs.Add( unfolded, \"e\")\n",
    "    hs.Draw(\"nostack\")\n",
    "    c4.Draw()\n",
    "    c4.SaveAs(\"Unfold_Plots/cross_unfolded_%s.png\"%var_name)\n",
    "    c4.SaveAs(\"Unfold_Plots/cross_unfolded_%s.pdf\"%var_name)\n",
    "    c4.SaveAs(\"Unfold_Plots/cross_unfolded_%s.C\"%var_name)\n",
    "    \n",
    "    return \"unfolded %s\"%var_name"
   ]
  },
  {
   "cell_type": "code",
   "execution_count": null,
   "metadata": {},
   "outputs": [],
   "source": [
    "reco_bins = [[32, 0.02, 0.8], [32, 0., 0.64], [28, 0., 0.43], \n",
    "             [40, 0., 0.8], [34, 0., 0.68], [30, 0., 0.43], \n",
    "             [40, 0., 0.8], [34, 0., 0.68], [30, 0., 0.43], \n",
    "             [40, 0., 0.8], [34, 0., 0.68], [30, 0., 0.43],  \n",
    "             [40, 0., 0.8], [34, 0., 0.68], [30, 0., 0.43],  \n",
    "             [40, 0., 0.8], [34, 0., 0.68], [30, 0., 0.43],  \n",
    "             [40, 0., 0.8], [34, 0., 0.68], [30, 0., 0.43] ] \n",
    "\n",
    "gen_bins  = [[16, 0.02, 0.8], [16, 0., 0.64], [14, 0., 0.43], \n",
    "             [20, 0., 0.8], [17, 0., 0.68], [15, 0., 0.43], \n",
    "             [20, 0., 0.8], [17, 0., 0.68], [15, 0., 0.43], \n",
    "             [20, 0., 0.8], [17, 0., 0.68], [15, 0., 0.43],  \n",
    "             [20, 0., 0.8], [17, 0., 0.68], [15, 0., 0.43],  \n",
    "             [20, 0., 0.8], [17, 0., 0.68], [15, 0., 0.43],  \n",
    "             [20, 0., 0.8], [17, 0., 0.68], [15, 0., 0.43] ] \n",
    "\n",
    "genr_bins = [[40, 0., 0.8], [34, 0., 0.68], [30, 0., 0.43], \n",
    "             [40, 0., 0.8], [34, 0., 0.68], [30, 0., 0.43], \n",
    "             [40, 0., 0.8], [34, 0., 0.68], [30, 0., 0.43], \n",
    "             [40, 0., 0.8], [34, 0., 0.68], [30, 0., 0.43],  \n",
    "             [40, 0., 0.8], [34, 0., 0.68], [30, 0., 0.43],  \n",
    "             [40, 0., 0.8], [34, 0., 0.68], [30, 0., 0.43],  \n",
    "             [40, 0., 0.8], [34, 0., 0.68], [30, 0., 0.43] ] \n",
    "labels = [\"#tau_{1}^{0.5}\", \"#tau_{1}^{1}\", \"#tau_{1}^{2}\", \n",
    "          \"#tau_{2}^{0.5}\", \"#tau_{2}^{1}\", \"#tau_{2}^{2}\", \n",
    "          \"#tau_{3}^{0.5}\", \"#tau_{3}^{1}\", \"#tau_{3}^{2}\", \n",
    "          \"#tau_{4}^{0.5}\", \"#tau_{4}^{1}\", \"#tau_{4}^{2}\", \n",
    "          \"#tau_{5}^{0.5}\", \"#tau_{5}^{1}\", \"#tau_{5}^{2}\", \n",
    "          \"#tau_{6}^{0.5}\", \"#tau_{6}^{1}\", \"#tau_{6}^{2}\", \n",
    "          \"#tau_{7}^{0.5}\", \"#tau_{7}^{1}\", \"#tau_{7}^{2}\"]"
   ]
  },
  {
   "cell_type": "markdown",
   "metadata": {},
   "source": [
    "## 1-D unfolding of full $N$-subjettiness basis"
   ]
  },
  {
   "cell_type": "raw",
   "metadata": {},
   "source": [
    "for i in xrange(0,21):\n",
    "    print i\n",
    "    gen=TT16gen_nSub_basis[:,i]\n",
    "    reco=TT16reco_nSub_basis[:,i]\n",
    "    truth=TT16truth_nSub_basis[:,i]\n",
    "    data=TT16data_nSub_basis[:,i]\n",
    "    print unfold_nSub_crossclosure(data=data,gen=gen,reco=reco,truth=truth,nDet=reco_bins[i][0], nGen=gen_bins[i][0], \n",
    "                             var_name=labels[i], xminDet=reco_bins[i][1], xmaxDet=reco_bins[i][2],\n",
    "                             xminGen=gen_bins[i][1], xmaxGen=gen_bins[i][2])\n",
    "    "
   ]
  },
  {
   "cell_type": "code",
   "execution_count": null,
   "metadata": {},
   "outputs": [],
   "source": []
  },
  {
   "cell_type": "markdown",
   "metadata": {},
   "source": [
    "# Unfold $\\tau_1^{(0.5)}$"
   ]
  },
  {
   "cell_type": "markdown",
   "metadata": {
    "collapsed": true
   },
   "source": [
    "#### Set the axis ranges for the generator and detector level distributions as well as the number of bins in each. Note that we want twice as many detector bins as generator level bins as recommended by the TUnfold documenation "
   ]
  },
  {
   "cell_type": "code",
   "execution_count": null,
   "metadata": {},
   "outputs": [],
   "source": [
    "print np.min(TT16gen_nSub_basis[:,0])\n",
    "print np.min(TT16reco_nSub_basis[:,0])\n",
    "print np.max(TT16gen_nSub_basis[:,0])\n",
    "print np.max(TT16reco_nSub_basis[:,0])"
   ]
  },
  {
   "cell_type": "code",
   "execution_count": null,
   "metadata": {},
   "outputs": [],
   "source": [
    "nDet=50\n",
    "nGen=50\n",
    "xminDet=0.2\n",
    "xmaxDet=0.8\n",
    "xminGen=0.\n",
    "xmaxGen=0.8\n",
    "#weight_TT16 = (831.76*lumi*1000.)/10199051.*np.ones(TT16_beta4W.shape[0])*TT16_puWeight*TT16_btagWeight*0.8\n"
   ]
  },
  {
   "cell_type": "markdown",
   "metadata": {
    "collapsed": true
   },
   "source": [
    "Get the response matrix and input 1D distributions for unfolding."
   ]
  },
  {
   "cell_type": "code",
   "execution_count": 15,
   "metadata": {},
   "outputs": [],
   "source": [
    "ROOT.TH1.SetDefaultSumw2()\n",
    "from root_numpy import *\n",
    "\n",
    "histMgenMC = ROOT.TH1D(\"histMgenMC\", \"histMgenMC; #tau_{1}^{0.5}; Events/(0.02)\", nGen, xminGen,xmaxGen)\n",
    "fill_hist(histMgenMC, TT16gen_nSub_basis[:,0])\n",
    "\n",
    "histMdetMC = ROOT.TH1D(\"histMdetMC\", \"histMdetMC; #tau_{1}^{0.5}; Events/(0.02)\", nDet, xminDet,xmaxDet)\n",
    "fill_hist(histMdetMC, TT16reco_nSub_basis[:,0])\n",
    "\n",
    "histMgenData = ROOT.TH1D(\"histMgenData\", \"histMgenData; #tau_{1}^{0.5}; Events/(0.02)\", nGen, xminGen,xmaxGen)\n",
    "fill_hist(histMgenData, TT16truth_nSub_basis[:,0])\n",
    "\n",
    "histMdetData = ROOT.TH1D(\"histMdetData\", \"histMdetData; #tau_{1}^{0.5}; Events/(0.02)\", nDet, xminDet,xmaxDet)\n",
    "fill_hist(histMdetData, TT16data_nSub_basis[:,0])\n",
    "\n",
    "\n",
    "response = ROOT.TH2D('response', 'response', nDet, xminDet, xmaxDet, nGen, xminGen, xmaxGen)\n",
    "hist2Dfill = np.zeros((TT16reco_nSub_basis[:,0].shape[0], 2))\n",
    "hist2Dfill[:,0] = TT16reco_nSub_basis[:,0].flatten()\n",
    "hist2Dfill[:,1] = TT16gen_nSub_basis[:,0].flatten()\n",
    "fill_hist(response, hist2Dfill)"
   ]
  },
  {
   "cell_type": "markdown",
   "metadata": {
    "collapsed": true
   },
   "source": [
    "Set the X and Y axis labels"
   ]
  },
  {
   "cell_type": "code",
   "execution_count": 16,
   "metadata": {},
   "outputs": [],
   "source": [
    "response.SetTitle(\";#tau_{1}^{0.5}(det);#tau_{1}^{0.5}(gen)\")\n",
    "\n",
    "\n",
    "histMgenMC.SetTitle(\";#tau_{1}^{0.5}(gen)\")\n",
    "#histMgenMC.SetFillColor(ROOT.kRed)\n",
    "#histMgenMC.SetLineColor(ROOT.kRed)\n",
    "\n",
    "histMdetMC.SetTitle(\";#tau_{1}^{0.5}(det)\")\n",
    "#histMdetMC.SetFillColor(ROOT.kBlue)\n",
    "#histMdetMC.SetLineColor(ROOT.kBlue)\n",
    "\n",
    "\n",
    "histMgenData.SetTitle(\";#tau_{1}^{0.5}(gen)\")\n",
    "#histMgenData.SetFillColor(ROOT.kGreen+2)\n",
    "#histMgenData.SetLineColor(ROOT.kGreen+2)\n",
    "\n",
    "histMdetData.SetTitle(\";#tau_{1}^{0.5}(det)\")\n",
    "#histMdetData.SetFillColor(ROOT.kBlack)\n",
    "#histMdetData.SetLineColor(ROOT.kBlack)"
   ]
  },
  {
   "cell_type": "markdown",
   "metadata": {
    "collapsed": true
   },
   "source": [
    "Draw the variables at reco and gen level and for \"data\""
   ]
  },
  {
   "cell_type": "code",
   "execution_count": 17,
   "metadata": {},
   "outputs": [
    {
     "data": {
      "image/png": "[encoded data removed]",
      "text/plain": [
       "<IPython.core.display.Image object>"
      ]
     },
     "metadata": {},
     "output_type": "display_data"
    }
   ],
   "source": [
    "c1 = ROOT.TCanvas(\"chistMgenMC1\", \"chistMgenMC1\")\n",
    "histMgenMC.Draw(\"e\")\n",
    "histMdetMC.Draw(\"e same\")\n",
    "c1.Draw()"
   ]
  },
  {
   "cell_type": "code",
   "execution_count": 18,
   "metadata": {},
   "outputs": [
    {
     "name": "stderr",
     "output_type": "stream",
     "text": [
      "Warning in <TCanvas::Constructor>: Deleting canvas with same name: chistMgenMC1\n"
     ]
    },
    {
     "data": {
      "image/png": "[encoded data removed]",
      "text/plain": [
       "<IPython.core.display.Image object>"
      ]
     },
     "metadata": {},
     "output_type": "display_data"
    }
   ],
   "source": [
    "c1 = ROOT.TCanvas(\"chistMgenMC1\", \"chistMgenMC1\")\n",
    "histMgenData.Draw(\"e\")\n",
    "histMdetData.Draw(\"e same\")\n",
    "c1.Draw()"
   ]
  },
  {
   "cell_type": "markdown",
   "metadata": {
    "collapsed": true
   },
   "source": [
    "Draw the response matrix."
   ]
  },
  {
   "cell_type": "code",
   "execution_count": 85,
   "metadata": {
    "scrolled": false
   },
   "outputs": [
    {
     "data": {
      "image/png": "[encoded data removed]",
      "text/plain": [
       "<IPython.core.display.Image object>"
      ]
     },
     "metadata": {},
     "output_type": "display_data"
    }
   ],
   "source": [
    "c1 = ROOT.TCanvas(\"cresponse1\", \"cresponse1\")\n",
    "response.Draw(\"colz\")\n",
    "c1.Draw()"
   ]
  },
  {
   "cell_type": "markdown",
   "metadata": {
    "collapsed": true
   },
   "source": [
    "### Instatiate the TUnfoldDensity Class object"
   ]
  },
  {
   "cell_type": "markdown",
   "metadata": {},
   "source": [
    "#### The argument input is as follows:"
   ]
  },
  {
   "cell_type": "markdown",
   "metadata": {},
   "source": [
    "1. Response Matrix: It is drawn above on TCanvas \"cresponse1\"\n",
    "\n",
    "2. Output Map: This is just stating whether you have generator or reconstruted level information on your X vs Y axis of the response matrix. For our current configuration, X axis is gen, Y axis is reco, the correct output is ROOT.TUnfold.kHistMapOutputVert \n",
    "\n",
    "3. Regularization Mode : Currently this notebook uses ROOT.TUnfold.kRegModeCurvature which regularizes based on the regularize the 2nd derivative of the output. More information wrt the other options can be gained from reading the __[source code](https://root.cern.ch/doc/v608/TUnfold_8h_source.html#l00107)__ \n",
    "\n",
    "4. Constraint :  Here we use ROOT.TUnfold.kEConstraintNone , meaning we do not constrain further, the other option is to force constraint of area. (Need to look into this!!)\n",
    "\n",
    "5. Density Mode: Here we use ROOT.TUnfoldDensity.kDensityModeBinWidth which uses the bin width to normalize the event rate in a given bin, accounting for non-uniformity in bin widths as discussed in __[section 7.2.1 of the TUnfold paper](https://arxiv.org/pdf/1205.6201.pdf)__"
   ]
  },
  {
   "cell_type": "code",
   "execution_count": 86,
   "metadata": {},
   "outputs": [
    {
     "name": "stdout",
     "output_type": "stream",
     "text": [
      "getting tunfolder:\n"
     ]
    },
    {
     "name": "stderr",
     "output_type": "stream",
     "text": [
      "Info in <TUnfold::SetConstraint>: fConstraint=0\n",
      "Info in <TUnfold::TUnfold>: underflow and overflow bin do not depend on the input data\n",
      "Info in <TUnfold::TUnfold>: 30 input bins and 15 output bins\n",
      "Info in <TUnfoldDensity::TUnfold>: *NOT* unfolding bin #0 (yaxis:#tau_{1}^{0.5}(gen)[ufl])\n",
      "Info in <TUnfoldDensity::TUnfold>: *NOT* unfolding bin #16 (yaxis:#tau_{1}^{0.5}(gen)[ofl])\n",
      "Info in <TUnfoldDensity::RegularizeOneDistribution>: regularizing yaxis regMode=3 densityMode=1 axisSteering=*[UOB]\n"
     ]
    }
   ],
   "source": [
    "print 'getting tunfolder:'\n",
    "tunfolder = ROOT.TUnfoldDensity(response,ROOT.TUnfold.kHistMapOutputVert,ROOT.TUnfold.kRegModeCurvature, ROOT.TUnfold.kEConstraintNone, ROOT.TUnfoldDensity.kDensityModeBinWidth)"
   ]
  },
  {
   "cell_type": "markdown",
   "metadata": {
    "collapsed": true
   },
   "source": [
    "Set the input, a 1D reconstructed histogram from either MC (closure) or Data (measurement) , binned in the detector level binning."
   ]
  },
  {
   "cell_type": "code",
   "execution_count": 87,
   "metadata": {},
   "outputs": [
    {
     "name": "stdout",
     "output_type": "stream",
     "text": [
      "setting reco input\n"
     ]
    },
    {
     "data": {
      "text/plain": [
       "2"
      ]
     },
     "execution_count": 87,
     "metadata": {},
     "output_type": "execute_result"
    },
    {
     "name": "stderr",
     "output_type": "stream",
     "text": [
      "Warning in <TUnfoldDensity::SetInput>: 2/30 input bins have zero error, and are ignored.\n"
     ]
    }
   ],
   "source": [
    "print 'setting reco input'\n",
    "tunfolder.SetInput( histMdetData )"
   ]
  },
  {
   "cell_type": "markdown",
   "metadata": {},
   "source": [
    "Unfold nScan times with values for the regularization parameter between tauMin and tauMax using the empty TSplines to store the results."
   ]
  },
  {
   "cell_type": "code",
   "execution_count": 88,
   "metadata": {
    "scrolled": true
   },
   "outputs": [
    {
     "name": "stdout",
     "output_type": "stream",
     "text": [
      "regularizing\n",
      "doing the unfolding\n",
      "getting the results\n"
     ]
    },
    {
     "name": "stderr",
     "output_type": "stream",
     "text": [
      "Info in <TUnfoldDensity::ScanLcurve>: logtau=-Infinity X=0.999228 Y=7.975152\n",
      "Info in <TUnfoldDensity::ScanLcurve>: logtau=-3.324334 X=1.045849 Y=7.910617\n",
      "Info in <TUnfoldDensity::ScanLcurve>: logtau=-3.824334 X=1.000463 Y=7.962429\n",
      "Info in <TUnfoldDensity::ScanLcurve>: logtau=-3.574334 X=1.007482 Y=7.944800\n",
      "Info in <TUnfoldDensity::ScanLcurve>: logtau=-3.449334 X=1.019107 Y=7.930589\n",
      "Info in <TUnfoldDensity::ScanLcurve>: logtau=-3.386834 X=1.029764 Y=7.921487\n",
      "Info in <TUnfoldDensity::ScanLcurve>: logtau=-3.355584 X=1.036991 Y=7.916298\n",
      "Info in <TUnfoldDensity::ScanLcurve>: logtau=-3.699334 X=1.002512 Y=7.955102\n",
      "Info in <TUnfoldDensity::ScanLcurve>: logtau=-3.511834 X=1.012089 Y=7.938271\n",
      "Info in <TUnfoldDensity::ScanLcurve>: logtau=-3.418084 X=1.023883 Y=7.926236\n",
      "Info in <TUnfoldDensity::ScanLcurve>: logtau=-3.636834 X=1.004469 Y=7.950367\n",
      "Info in <TUnfoldDensity::ScanLcurve>: logtau=-3.339959 X=1.041197 Y=7.913522\n",
      "Info in <TUnfoldDensity::ScanLcurve>: logtau=-3.480584 X=1.015232 Y=7.934589\n",
      "Info in <TUnfoldDensity::ScanLcurve>: logtau=-3.371209 X=1.033193 Y=7.918951\n",
      "Info in <TUnfoldDensity::ScanLcurve>: logtau=-3.543084 X=1.009544 Y=7.941666\n",
      "Info in <TUnfoldDensity::ScanLcurve>: logtau=-3.761834 X=1.001257 Y=7.959098\n",
      "Info in <TUnfoldDensity::ScanLcurve>: logtau=-3.402459 X=1.026672 Y=7.923914\n",
      "Info in <TUnfoldDensity::ScanLcurve>: logtau=-3.433709 X=1.021371 Y=7.928459\n",
      "Info in <TUnfoldDensity::ScanLcurve>: logtau=-3.605584 X=1.005815 Y=7.947695\n",
      "Info in <TUnfoldDensity::ScanLcurve>: logtau=-3.464959 X=1.017068 Y=7.932631\n",
      "Info in <TUnfoldDensity::ScanLcurve>: logtau=-3.332147 X=1.043465 Y=7.912086\n",
      "Info in <TUnfoldDensity::ScanLcurve>: logtau=-3.668084 X=1.003384 Y=7.952832\n",
      "Info in <TUnfoldDensity::ScanLcurve>: logtau=-3.347772 X=1.039041 Y=7.914926\n",
      "Info in <TUnfoldDensity::ScanLcurve>: logtau=-3.496209 X=1.013578 Y=7.936468\n",
      "Info in <TUnfoldDensity::ScanLcurve>: logtau=-3.363397 X=1.035043 Y=7.917640\n",
      "Info in <TUnfoldDensity::ScanLcurve>: logtau=-3.379022 X=1.031434 Y=7.920233\n",
      "Info in <TUnfoldDensity::ScanLcurve>: logtau=-3.527459 X=1.010750 Y=7.940003\n",
      "Info in <TUnfoldDensity::ScanLcurve>: logtau=-3.730584 X=1.001814 Y=7.957188\n",
      "Info in <TUnfoldDensity::ScanLcurve>: logtau=-3.394647 X=1.028178 Y=7.922714\n",
      "Info in <TUnfoldDensity::ScanLcurve>: logtau=-3.558709 X=1.008458 Y=7.943265\n",
      "Info in <TUnfoldDensity::ScanLcurve>: logtau=-3.410272 X=1.025241 Y=7.925087\n",
      "Info in <TUnfoldDensity::ScanLcurve>: logtau=-3.793084 X=1.000813 Y=7.960842\n",
      "Info in <TUnfoldDensity::ScanLcurve>: logtau=-3.425897 X=1.022594 Y=7.927359\n",
      "Info in <TUnfoldDensity::ScanLcurve>: logtau=-3.589959 X=1.006604 Y=7.946276\n",
      "Info in <TUnfoldDensity::ScanLcurve>: logtau=-3.441522 X=1.020209 Y=7.929535\n",
      "Info in <TUnfoldDensity::ScanLcurve>: logtau=-3.621209 X=1.005106 Y=7.949058\n",
      "Info in <TUnfoldDensity::ScanLcurve>: logtau=-3.457147 X=1.018061 Y=7.931621\n",
      "Info in <TUnfoldDensity::ScanLcurve>: logtau=-3.328240 X=1.044642 Y=7.911356\n",
      "Info in <TUnfoldDensity::ScanLcurve>: logtau=-3.652459 X=1.003897 Y=7.951625\n",
      "Info in <TUnfoldDensity::ScanLcurve>: logtau=-3.472772 X=1.016126 Y=7.933620\n",
      "Info in <TUnfoldDensity::ScanLcurve>: logtau=-3.336053 X=1.042317 Y=7.912808\n",
      "Info in <TUnfoldDensity::ScanLcurve>: logtau=-3.343865 X=1.040105 Y=7.914228\n",
      "Info in <TUnfoldDensity::ScanLcurve>: logtau=-3.488397 X=1.014383 Y=7.935538\n",
      "Info in <TUnfoldDensity::ScanLcurve>: logtau=-3.351678 X=1.038003 Y=7.915616\n",
      "Info in <TUnfoldDensity::ScanLcurve>: logtau=-3.683709 X=1.002924 Y=7.953991\n",
      "Info in <TUnfoldDensity::ScanLcurve>: logtau=-3.359490 X=1.036005 Y=7.916973\n",
      "Info in <TUnfoldDensity::ScanLcurve>: logtau=-3.504022 X=1.012814 Y=7.937379\n",
      "Info in <TUnfoldDensity::ScanLcurve>: logtau=-3.367303 X=1.034106 Y=7.918299\n",
      "Info in <TUnfoldDensity::ScanLcurve>: logtau=-3.714959 X=1.002144 Y=7.956167\n",
      "Info in <TUnfoldDensity::ScanLcurve>: logtau=-3.519647 X=1.011402 Y=7.939146\n",
      "Info in <TUnfoldDensity::ScanLcurve>: Result logtau=-3.701760 X=1.002452 Y=7.955270\n",
      "Warning in <TFile::Append>: Replacing existing TH1: unfolded (Potential memory leak).\n"
     ]
    }
   ],
   "source": [
    "print 'regularizing'\n",
    "nScan=50\n",
    "tauMin=-5.0\n",
    "tauMax=10.0\n",
    "iBest=0\n",
    "\n",
    "logTauX = ROOT.MakeNullPointer(ROOT.TSpline)\n",
    "logTauY = ROOT.MakeNullPointer(ROOT.TSpline)\n",
    "lCurve = ROOT.MakeNullPointer(ROOT.TGraph)\n",
    "\n",
    "print 'doing the unfolding'\n",
    "tunfolder.ScanLcurve(nScan,tauMin,tauMax,lCurve,logTauX,logTauY);\n",
    "print 'getting the results'\n",
    "unfolded = tunfolder.GetOutput(\"unfolded\")"
   ]
  },
  {
   "cell_type": "code",
   "execution_count": 89,
   "metadata": {
    "scrolled": false
   },
   "outputs": [
    {
     "name": "stderr",
     "output_type": "stream",
     "text": [
      "Warning in <TCanvas::Constructor>: Deleting canvas with same name: c5\n"
     ]
    },
    {
     "data": {
      "image/png": "[encoded data removed]",
      "text/plain": [
       "<IPython.core.display.Image object>"
      ]
     },
     "metadata": {},
     "output_type": "display_data"
    }
   ],
   "source": [
    "c5 = ROOT.TCanvas('c5', 'c5')\n",
    "unfolded.SetMarkerStyle(22)\n",
    "unfolded.SetMarkerColor(4)\n",
    "unfolded.SetFillColor(0)\n",
    "histMgenData.SetMarkerStyle(21)\n",
    "histMgenData.SetMarkerColor(2)\n",
    "\n",
    "hs = ROOT.THStack(\"hs\", \"hs\")\n",
    "hs.Add( histMgenData, \"hist\")\n",
    "hs.Add( unfolded, \"e\")\n",
    "hs.Draw(\"nostack\")\n",
    "c5.Draw()"
   ]
  },
  {
   "cell_type": "markdown",
   "metadata": {},
   "source": [
    "# Unfold $\\tau_1^{(1)}$"
   ]
  },
  {
   "cell_type": "markdown",
   "metadata": {
    "collapsed": true
   },
   "source": [
    "Get the response matrix and input 1D distributions for unfolding."
   ]
  },
  {
   "cell_type": "code",
   "execution_count": 34,
   "metadata": {},
   "outputs": [
    {
     "name": "stdout",
     "output_type": "stream",
     "text": [
      "0.0017085319850593805\n",
      "0.07775519788265228\n",
      "0.63550865650177\n",
      "0.6391461491584778\n"
     ]
    }
   ],
   "source": [
    "print np.min(TT16gen_nSub_basis[:,1])\n",
    "print np.min(TT16reco_nSub_basis[:,1])\n",
    "print np.max(TT16gen_nSub_basis[:,1])\n",
    "print np.max(TT16reco_nSub_basis[:,1])"
   ]
  },
  {
   "cell_type": "markdown",
   "metadata": {
    "collapsed": true
   },
   "source": [
    "#### Set the axis ranges for the generator nd detector level distributions as well as the number of bins in each. Note that we want twice as many detector bins as generator level bins as recommended by the TUnfold documenation "
   ]
  },
  {
   "cell_type": "code",
   "execution_count": 35,
   "metadata": {},
   "outputs": [],
   "source": [
    "nDet=64\n",
    "nGen=32\n",
    "xminDet=0.0\n",
    "xmaxDet=0.64\n",
    "xminGen=0.0\n",
    "xmaxGen=0.64\n",
    "#weight_TT16 = (831.76*lumi*1000.)/10199051.*np.ones(TT16_beta4W.shape[0])*TT16_puWeight*TT16_btagWeight*0.8\n"
   ]
  },
  {
   "cell_type": "code",
   "execution_count": 36,
   "metadata": {},
   "outputs": [
    {
     "name": "stderr",
     "output_type": "stream",
     "text": [
      "Warning in <TFile::Append>: Replacing existing TH1: histMgenMC (Potential memory leak).\n",
      "Warning in <TFile::Append>: Replacing existing TH1: histMdetMC (Potential memory leak).\n",
      "Warning in <TFile::Append>: Replacing existing TH1: histMgenData (Potential memory leak).\n",
      "Warning in <TFile::Append>: Replacing existing TH1: histMdetData (Potential memory leak).\n",
      "Warning in <TFile::Append>: Replacing existing TH1: response (Potential memory leak).\n"
     ]
    }
   ],
   "source": [
    "ROOT.TH1.SetDefaultSumw2()\n",
    "from root_numpy import *\n",
    "\n",
    "histMgenMC = ROOT.TH1D(\"histMgenMC\", \"histMgenMC; #tau_{1}^{1}; Events/(0.02)\", nGen, xminGen,xmaxGen)\n",
    "fill_hist(histMgenMC, TT16gen_nSub_basis[:,1])\n",
    "\n",
    "histMdetMC = ROOT.TH1D(\"histMdetMC\", \"histMdetMC; #tau_{1}^{1}; Events/(0.02)\", nDet, xminDet,xmaxDet)\n",
    "fill_hist(histMdetMC, TT16reco_nSub_basis[:,1])\n",
    "\n",
    "histMgenData = ROOT.TH1D(\"histMgenData\", \"histMgenData; #tau_{1}^{1}; Events/(0.02)\", nGen, xminGen,xmaxGen)\n",
    "fill_hist(histMgenData, TT16truth_nSub_basis[:,1])\n",
    "\n",
    "histMdetData = ROOT.TH1D(\"histMdetData\", \"histMdetData; #tau_{1}^{1}; Events/(0.02)\", nDet, xminDet,xmaxDet)\n",
    "fill_hist(histMdetData, TT16data_nSub_basis[:,1])\n",
    "\n",
    "\n",
    "response = ROOT.TH2D('response', 'response', nDet, xminDet, xmaxDet, nGen, xminGen, xmaxGen)\n",
    "hist2Dfill = np.zeros((TT16reco_nSub_basis[:,1].shape[0], 2))\n",
    "hist2Dfill[:,0] = TT16reco_nSub_basis[:,1].flatten()\n",
    "hist2Dfill[:,1] = TT16gen_nSub_basis[:,1].flatten()\n",
    "fill_hist(response, hist2Dfill)"
   ]
  },
  {
   "cell_type": "raw",
   "metadata": {},
   "source": [
    "xaxis =  array.array('d',[a for a in xrange(nmbinsGen *nptbinsGen + 1 )])\n",
    "nx = len(xaxis)-1\n",
    "\n",
    "print xaxis\n",
    "\n",
    "yaxis =  array.array('d',[a for a in xrange(nmbinsDet *nptbinsDet+1 )])\n",
    "ny = len(yaxis)-1\n",
    "\n",
    "print yaxis\n",
    "\n",
    "h_response = ROOT.TH2D('h_response',   'h_response', nx , xaxis, ny, yaxis )\n",
    "#print h_response2.GetXaxis.GetNbins()\n",
    "print nx\n",
    "print ny\n",
    "nb = nx*ny\n",
    "print nb"
   ]
  },
  {
   "cell_type": "raw",
   "metadata": {
    "collapsed": true
   },
   "source": [
    "response =ROOT.gDirectory.Get(\"response\")\n",
    "histMgenMC=ROOT.gDirectory.Get(\"histMgenMC\")\n",
    "histMdetMC=ROOT.gDirectory.Get(\"histMdetMC\")\n",
    "histMgenData=ROOT.gDirectory.Get(\"histMgenData\")\n",
    "histMdetData=ROOT.gDirectory.Get(\"histMdetData\")"
   ]
  },
  {
   "cell_type": "markdown",
   "metadata": {
    "collapsed": true
   },
   "source": [
    "Set the X and Y axis labels"
   ]
  },
  {
   "cell_type": "code",
   "execution_count": 37,
   "metadata": {},
   "outputs": [],
   "source": [
    "response.SetTitle(\";#tau_{1}^{1}(det);#tau_{1}^{1}(gen)\")\n",
    "\n",
    "\n",
    "histMgenMC.SetTitle(\";#tau_{1}^{1}(gen)\")\n",
    "#histMgenMC.SetFillColor(ROOT.kRed)\n",
    "#histMgenMC.SetLineColor(ROOT.kRed)\n",
    "\n",
    "histMdetMC.SetTitle(\";#tau_{1}^{1}(det)\")\n",
    "#histMdetMC.SetFillColor(ROOT.kBlue)\n",
    "#histMdetMC.SetLineColor(ROOT.kBlue)\n",
    "\n",
    "\n",
    "histMgenData.SetTitle(\";#tau_{1}^{1}(gen)\")\n",
    "#histMgenData.SetFillColor(ROOT.kGreen+2)\n",
    "#histMgenData.SetLineColor(ROOT.kGreen+2)\n",
    "\n",
    "histMdetData.SetTitle(\";#tau_{1}^{1}(det)\")\n",
    "#histMdetData.SetFillColor(ROOT.kBlack)\n",
    "#histMdetData.SetLineColor(ROOT.kBlack)"
   ]
  },
  {
   "cell_type": "markdown",
   "metadata": {
    "collapsed": true
   },
   "source": [
    "Draw the variables at reco and gen level and for \"data\""
   ]
  },
  {
   "cell_type": "code",
   "execution_count": 38,
   "metadata": {},
   "outputs": [
    {
     "data": {
      "image/png": "[encoded data removed]",
      "text/plain": [
       "<IPython.core.display.Image object>"
      ]
     },
     "metadata": {},
     "output_type": "display_data"
    }
   ],
   "source": [
    "c1 = ROOT.TCanvas(\"chistMgenMC1\", \"chistMgenMC1\")\n",
    "histMgenMC.Draw(\"e\")\n",
    "histMdetMC.Draw(\"e same\")\n",
    "c1.Draw()"
   ]
  },
  {
   "cell_type": "code",
   "execution_count": 39,
   "metadata": {},
   "outputs": [
    {
     "name": "stderr",
     "output_type": "stream",
     "text": [
      "Warning in <TCanvas::Constructor>: Deleting canvas with same name: chistMgenMC1\n"
     ]
    },
    {
     "data": {
      "image/png": "[encoded data removed]",
      "text/plain": [
       "<IPython.core.display.Image object>"
      ]
     },
     "metadata": {},
     "output_type": "display_data"
    }
   ],
   "source": [
    "c1 = ROOT.TCanvas(\"chistMgenMC1\", \"chistMgenMC1\")\n",
    "histMgenData.Draw(\"e\")\n",
    "histMdetData.Draw(\"e same\")\n",
    "c1.Draw()"
   ]
  },
  {
   "cell_type": "markdown",
   "metadata": {
    "collapsed": true
   },
   "source": [
    "Draw the response matrix."
   ]
  },
  {
   "cell_type": "code",
   "execution_count": 40,
   "metadata": {
    "scrolled": false
   },
   "outputs": [
    {
     "data": {
      "image/png": "[encoded data removed]",
      "text/plain": [
       "<IPython.core.display.Image object>"
      ]
     },
     "metadata": {},
     "output_type": "display_data"
    }
   ],
   "source": [
    "c1 = ROOT.TCanvas(\"cresponse1\", \"cresponse1\")\n",
    "response.Draw(\"colz\")\n",
    "c1.Draw()"
   ]
  },
  {
   "cell_type": "code",
   "execution_count": 41,
   "metadata": {},
   "outputs": [],
   "source": [
    "#### In MC :"
   ]
  },
  {
   "cell_type": "code",
   "execution_count": 42,
   "metadata": {},
   "outputs": [
    {
     "name": "stderr",
     "output_type": "stream",
     "text": [
      "Warning in <TCanvas::Constructor>: Deleting canvas with same name: MCcompare\n"
     ]
    },
    {
     "data": {
      "image/png": "[encoded data removed]",
      "text/plain": [
       "<IPython.core.display.Image object>"
      ]
     },
     "metadata": {},
     "output_type": "display_data"
    }
   ],
   "source": [
    "c2 = ROOT.TCanvas(\"MCcompare\", \"MCcompare\")\n",
    "histMgenMC.Draw('e')\n",
    "histMdetMC.Draw('e same')\n",
    "c2.Draw()"
   ]
  },
  {
   "cell_type": "markdown",
   "metadata": {
    "collapsed": true
   },
   "source": [
    "#### In Data:"
   ]
  },
  {
   "cell_type": "code",
   "execution_count": 43,
   "metadata": {},
   "outputs": [
    {
     "name": "stdout",
     "output_type": "stream",
     "text": [
      "getting tunfolder:\n"
     ]
    },
    {
     "name": "stderr",
     "output_type": "stream",
     "text": [
      "Info in <TUnfold::SetConstraint>: fConstraint=0\n",
      "Info in <TUnfold::TUnfold>: underflow and overflow bin do not depend on the input data\n",
      "Info in <TUnfold::TUnfold>: 64 input bins and 32 output bins\n",
      "Info in <TUnfoldDensity::TUnfold>: *NOT* unfolding bin #0 (yaxis:#tau_{1}^{1}(gen)[ufl])\n",
      "Info in <TUnfoldDensity::TUnfold>: *NOT* unfolding bin #33 (yaxis:#tau_{1}^{1}(gen)[ofl])\n",
      "Info in <TUnfoldDensity::RegularizeOneDistribution>: regularizing yaxis regMode=3 densityMode=1 axisSteering=*[UOB]\n"
     ]
    }
   ],
   "source": [
    "print 'getting tunfolder:'\n",
    "tunfolder = ROOT.TUnfoldDensity(response,ROOT.TUnfold.kHistMapOutputVert,ROOT.TUnfold.kRegModeCurvature, ROOT.TUnfold.kEConstraintNone, ROOT.TUnfoldDensity.kDensityModeBinWidth)"
   ]
  },
  {
   "cell_type": "code",
   "execution_count": 44,
   "metadata": {
    "scrolled": false
   },
   "outputs": [
    {
     "name": "stderr",
     "output_type": "stream",
     "text": [
      "Warning in <TCanvas::Constructor>: Deleting canvas with same name: datadists\n"
     ]
    },
    {
     "data": {
      "image/png": "[encoded data removed]",
      "text/plain": [
       "<IPython.core.display.Image object>"
      ]
     },
     "metadata": {},
     "output_type": "display_data"
    }
   ],
   "source": [
    "c3 = ROOT.TCanvas(\"datadists\", \"datadists\")\n",
    "histMgenData.Draw('e')\n",
    "histMdetData.Draw('e same')\n",
    "c3.Draw()"
   ]
  },
  {
   "cell_type": "markdown",
   "metadata": {
    "collapsed": true
   },
   "source": [
    "Set the input, a 1D reconstructed histogram from either MC (closure) or Data (measurement) , binned in the detector level binning."
   ]
  },
  {
   "cell_type": "code",
   "execution_count": 45,
   "metadata": {},
   "outputs": [
    {
     "name": "stdout",
     "output_type": "stream",
     "text": [
      "setting reco input\n"
     ]
    },
    {
     "data": {
      "text/plain": [
       "10012"
      ]
     },
     "execution_count": 45,
     "metadata": {},
     "output_type": "execute_result"
    },
    {
     "name": "stderr",
     "output_type": "stream",
     "text": [
      "Warning in <TUnfoldDensity::SetInput>: 12/64 input bins have zero error, and are ignored.\n",
      "Warning in <TUnfoldDensity::SetInput>: no data to constrain output bin #32 (yaxis:#tau_{1}^{1}(gen)[0.62,0.64])\n",
      "Error in <TUnfoldDensity::SetInput>: One output bins is not constrained by any data.\n"
     ]
    }
   ],
   "source": [
    "print 'setting reco input'\n",
    "tunfolder.SetInput( histMdetData )"
   ]
  },
  {
   "cell_type": "markdown",
   "metadata": {},
   "source": [
    "Unfold nScan times with values for the regularization parameter between tauMin and tauMax using the empty TSplines to store the results."
   ]
  },
  {
   "cell_type": "code",
   "execution_count": null,
   "metadata": {
    "scrolled": true
   },
   "outputs": [],
   "source": [
    "print 'regularizing'\n",
    "nScan=50\n",
    "tauMin=0.0\n",
    "tauMax=0.0\n",
    "iBest=0\n",
    "\n",
    "logTauX = ROOT.MakeNullPointer(ROOT.TSpline)\n",
    "logTauY = ROOT.MakeNullPointer(ROOT.TSpline)\n",
    "lCurve = ROOT.MakeNullPointer(ROOT.TGraph)\n",
    "\n",
    "print 'doing the unfolding'\n",
    "tunfolder.ScanLcurve(nScan,tauMin,tauMax,lCurve,logTauX,logTauY);\n",
    "print 'getting the results'\n",
    "unfolded = tunfolder.GetOutput(\"unfolded\")"
   ]
  },
  {
   "cell_type": "code",
   "execution_count": 32,
   "metadata": {
    "scrolled": false
   },
   "outputs": [
    {
     "data": {
      "image/png": "[encoded data removed]",
      "text/plain": [
       "<IPython.core.display.Image object>"
      ]
     },
     "metadata": {},
     "output_type": "display_data"
    }
   ],
   "source": [
    "c5 = ROOT.TCanvas('c5', 'c5')\n",
    "unfolded.SetMarkerStyle(22)\n",
    "unfolded.SetMarkerColor(4)\n",
    "unfolded.SetFillColor(0)\n",
    "histMgenData.SetMarkerStyle(21)\n",
    "histMgenData.SetMarkerColor(2)\n",
    "\n",
    "hs = ROOT.THStack(\"hs\", \"hs\")\n",
    "hs.Add( histMgenData, \"hist\")\n",
    "hs.Add( unfolded, \"e\")\n",
    "hs.Draw(\"nostack\")\n",
    "c5.Draw()"
   ]
  },
  {
   "cell_type": "code",
   "execution_count": null,
   "metadata": {},
   "outputs": [],
   "source": []
  },
  {
   "cell_type": "markdown",
   "metadata": {},
   "source": [
    "# Unfold $\\tau_1^{(2)}$"
   ]
  },
  {
   "cell_type": "markdown",
   "metadata": {
    "collapsed": true
   },
   "source": [
    "Get the response matrix and input 1D distributions for unfolding."
   ]
  },
  {
   "cell_type": "code",
   "execution_count": null,
   "metadata": {
    "scrolled": true
   },
   "outputs": [],
   "source": [
    "print np.min(TT16gen_nSub_basis[:,2])\n",
    "print np.min(TT16reco_nSub_basis[:,2])\n",
    "print np.max(TT16gen_nSub_basis[:,2])\n",
    "print np.max(TT16reco_nSub_basis[:,2])\n",
    "\n",
    "print np.min(TT16data_nSub_basis[:,2])\n",
    "print np.max(TT16data_nSub_basis[:,2])\n",
    "print np.min(TT16truth_nSub_basis[:,2])\n",
    "print np.max(TT16truth_nSub_basis[:,2])\n",
    "\n"
   ]
  },
  {
   "cell_type": "markdown",
   "metadata": {
    "collapsed": true
   },
   "source": [
    "#### Set the axis ranges for the generator nd detector level distributions as well as the number of bins in each. Note that we want twice as many detector bins as generator level bins as recommended by the TUnfold documenation "
   ]
  },
  {
   "cell_type": "code",
   "execution_count": null,
   "metadata": {},
   "outputs": [],
   "source": [
    "nDet=28\n",
    "nGen=14\n",
    "xminDet=0.\n",
    "xmaxDet=0.43\n",
    "xminGen=0.\n",
    "xmaxGen=0.43\n",
    "#weight_TT16 = (831.76*lumi*1000.)/10199051.*np.ones(TT16_beta4W.shape[0])*TT16_puWeight*TT16_btagWeight*0.8\n"
   ]
  },
  {
   "cell_type": "code",
   "execution_count": null,
   "metadata": {},
   "outputs": [],
   "source": [
    "ROOT.TH1.SetDefaultSumw2()\n",
    "from root_numpy import *\n",
    "\n",
    "histMgenMC = ROOT.TH1D(\"histMgenMC\", \"histMgenMC; #tau_{1}^{2}; Events/(0.02)\", nGen, xminGen,xmaxGen)\n",
    "fill_hist(histMgenMC, TT16gen_nSub_basis[:,2])\n",
    "\n",
    "histMdetMC = ROOT.TH1D(\"histMdetMC\", \"histMdetMC; #tau_{1}^{2}; Events/(0.02)\", nDet, xminDet,xmaxDet)\n",
    "fill_hist(histMdetMC, TT16reco_nSub_basis[:,2])\n",
    "\n",
    "histMgenData = ROOT.TH1D(\"histMgenData\", \"histMgenData; #tau_{1}^{2}; Events/(0.02)\", nGen, xminGen,xmaxGen)\n",
    "fill_hist(histMgenData, TT16truth_nSub_basis[:,2])\n",
    "\n",
    "histMdetData = ROOT.TH1D(\"histMdetData\", \"histMdetData; #tau_{1}^{2}; Events/(0.02)\", nDet, xminDet,xmaxDet)\n",
    "fill_hist(histMdetData, TT16data_nSub_basis[:,2])\n",
    "\n",
    "\n",
    "response = ROOT.TH2D('response', 'response', nDet, xminDet, xmaxDet, nGen, xminGen, xmaxGen)\n",
    "hist2Dfill = np.zeros((TT16reco_nSub_basis[:,2].shape[0], 2))\n",
    "hist2Dfill[:,0] = TT16reco_nSub_basis[:,2].flatten()\n",
    "hist2Dfill[:,1] = TT16gen_nSub_basis[:,2].flatten()\n",
    "fill_hist(response, hist2Dfill)"
   ]
  },
  {
   "cell_type": "raw",
   "metadata": {},
   "source": [
    "xaxis =  array.array('d',[a for a in xrange(nmbinsGen *nptbinsGen + 1 )])\n",
    "nx = len(xaxis)-1\n",
    "\n",
    "print xaxis\n",
    "\n",
    "yaxis =  array.array('d',[a for a in xrange(nmbinsDet *nptbinsDet+1 )])\n",
    "ny = len(yaxis)-1\n",
    "\n",
    "print yaxis\n",
    "\n",
    "h_response = ROOT.TH2D('h_response',   'h_response', nx , xaxis, ny, yaxis )\n",
    "#print h_response2.GetXaxis.GetNbins()\n",
    "print nx\n",
    "print ny\n",
    "nb = nx*ny\n",
    "print nb"
   ]
  },
  {
   "cell_type": "raw",
   "metadata": {
    "collapsed": true
   },
   "source": [
    "response =ROOT.gDirectory.Get(\"response\")\n",
    "histMgenMC=ROOT.gDirectory.Get(\"histMgenMC\")\n",
    "histMdetMC=ROOT.gDirectory.Get(\"histMdetMC\")\n",
    "histMgenData=ROOT.gDirectory.Get(\"histMgenData\")\n",
    "histMdetData=ROOT.gDirectory.Get(\"histMdetData\")"
   ]
  },
  {
   "cell_type": "markdown",
   "metadata": {
    "collapsed": true
   },
   "source": [
    "Set the X and Y axis labels"
   ]
  },
  {
   "cell_type": "code",
   "execution_count": null,
   "metadata": {},
   "outputs": [],
   "source": [
    "response.SetTitle(\";#tau_{1}^{2}(det);#tau_{1}^{2}(gen)\")\n",
    "\n",
    "\n",
    "histMgenMC.SetTitle(\";#tau_{1}^{2}(gen)\")\n",
    "#histMgenMC.SetFillColor(ROOT.kRed)\n",
    "#histMgenMC.SetLineColor(ROOT.kRed)\n",
    "\n",
    "histMdetMC.SetTitle(\";#tau_{1}^{2}(det)\")\n",
    "#histMdetMC.SetFillColor(ROOT.kBlue)\n",
    "#histMdetMC.SetLineColor(ROOT.kBlue)\n",
    "\n",
    "\n",
    "histMgenData.SetTitle(\";#tau_{1}^{2}(gen)\")\n",
    "#histMgenData.SetFillColor(ROOT.kGreen+2)\n",
    "#histMgenData.SetLineColor(ROOT.kGreen+2)\n",
    "\n",
    "histMdetData.SetTitle(\";#tau_{1}^{2}(det)\")\n",
    "#histMdetData.SetFillColor(ROOT.kBlack)\n",
    "#histMdetData.SetLineColor(ROOT.kBlack)"
   ]
  },
  {
   "cell_type": "markdown",
   "metadata": {
    "collapsed": true
   },
   "source": [
    "Draw the variables at reco and gen level and for \"data\""
   ]
  },
  {
   "cell_type": "code",
   "execution_count": null,
   "metadata": {},
   "outputs": [],
   "source": [
    "c1 = ROOT.TCanvas(\"chistMgenMC1\", \"chistMgenMC1\")\n",
    "histMgenMC.Draw(\"e\")\n",
    "histMdetMC.Draw(\"e same\")\n",
    "c1.Draw()"
   ]
  },
  {
   "cell_type": "code",
   "execution_count": null,
   "metadata": {},
   "outputs": [],
   "source": [
    "c1 = ROOT.TCanvas(\"chistMgenMC1\", \"chistMgenMC1\")\n",
    "histMgenData.Draw(\"e\")\n",
    "histMdetData.Draw(\"e same\")\n",
    "c1.Draw()"
   ]
  },
  {
   "cell_type": "markdown",
   "metadata": {
    "collapsed": true
   },
   "source": [
    "Draw the response matrix."
   ]
  },
  {
   "cell_type": "code",
   "execution_count": null,
   "metadata": {
    "scrolled": false
   },
   "outputs": [],
   "source": [
    "c1 = ROOT.TCanvas(\"cresponse1\", \"cresponse1\")\n",
    "response.Draw(\"colz\")\n",
    "c1.Draw()"
   ]
  },
  {
   "cell_type": "code",
   "execution_count": null,
   "metadata": {},
   "outputs": [],
   "source": [
    "#### In MC :"
   ]
  },
  {
   "cell_type": "code",
   "execution_count": null,
   "metadata": {},
   "outputs": [],
   "source": [
    "c2 = ROOT.TCanvas(\"MCcompare\", \"MCcompare\")\n",
    "histMgenMC.Draw('e')\n",
    "histMdetMC.Draw('e same')\n",
    "c2.Draw()"
   ]
  },
  {
   "cell_type": "markdown",
   "metadata": {
    "collapsed": true
   },
   "source": [
    "#### In Data:"
   ]
  },
  {
   "cell_type": "code",
   "execution_count": null,
   "metadata": {
    "scrolled": false
   },
   "outputs": [],
   "source": [
    "c3 = ROOT.TCanvas(\"datadists\", \"datadists\")\n",
    "histMgenData.Draw('e')\n",
    "histMdetData.Draw('e same')\n",
    "c3.Draw()"
   ]
  },
  {
   "cell_type": "code",
   "execution_count": null,
   "metadata": {},
   "outputs": [],
   "source": [
    "print 'getting tunfolder:'\n",
    "tunfolder = ROOT.TUnfoldDensity(response,ROOT.TUnfold.kHistMapOutputVert,ROOT.TUnfold.kRegModeCurvature, ROOT.TUnfold.kEConstraintNone, ROOT.TUnfoldDensity.kDensityModeBinWidth)"
   ]
  },
  {
   "cell_type": "markdown",
   "metadata": {
    "collapsed": true
   },
   "source": [
    "Set the input, a 1D reconstructed histogram from either MC (closure) or Data (measurement) , binned in the detector level binning."
   ]
  },
  {
   "cell_type": "code",
   "execution_count": null,
   "metadata": {},
   "outputs": [],
   "source": [
    "print 'setting reco input'\n",
    "tunfolder.SetInput( histMdetData )"
   ]
  },
  {
   "cell_type": "markdown",
   "metadata": {},
   "source": [
    "Unfold nScan times with values for the regularization parameter between tauMin and tauMax using the empty TSplines to store the results."
   ]
  },
  {
   "cell_type": "code",
   "execution_count": null,
   "metadata": {},
   "outputs": [],
   "source": [
    "print 'regularizing'\n",
    "nScan=50\n",
    "tauMin=0.0\n",
    "tauMax=0.0\n",
    "iBest=0\n",
    "\n",
    "logTauX = ROOT.MakeNullPointer(ROOT.TSpline)\n",
    "logTauY = ROOT.MakeNullPointer(ROOT.TSpline)\n",
    "lCurve = ROOT.MakeNullPointer(ROOT.TGraph)\n",
    "\n",
    "print 'doing the unfolding'\n",
    "tunfolder.ScanLcurve(nScan,tauMin,tauMax,lCurve,logTauX,logTauY);\n",
    "print 'getting the results'\n",
    "unfolded = tunfolder.GetOutput(\"unfolded\")"
   ]
  },
  {
   "cell_type": "code",
   "execution_count": null,
   "metadata": {},
   "outputs": [],
   "source": []
  },
  {
   "cell_type": "code",
   "execution_count": null,
   "metadata": {},
   "outputs": [],
   "source": [
    "c5 = ROOT.TCanvas('c5', 'c5')\n",
    "unfolded.SetMarkerStyle(22)\n",
    "unfolded.SetMarkerColor(4)\n",
    "unfolded.SetFillColor(0)\n",
    "histMgenData.SetMarkerStyle(21)\n",
    "histMgenData.SetMarkerColor(2)\n",
    "\n",
    "hs = ROOT.THStack(\"hs\", \"hs\")\n",
    "hs.Add( histMgenData, \"hist\")\n",
    "hs.Add( unfolded, \"e\")\n",
    "hs.Draw(\"nostack\")\n",
    "c5.Draw()"
   ]
  },
  {
   "cell_type": "code",
   "execution_count": null,
   "metadata": {},
   "outputs": [],
   "source": []
  },
  {
   "cell_type": "markdown",
   "metadata": {},
   "source": [
    "# Unfold $\\tau_2^{(0.5)}$"
   ]
  },
  {
   "cell_type": "markdown",
   "metadata": {
    "collapsed": true
   },
   "source": [
    "#### Set the axis ranges for the generator nd detector level distributions as well as the number of bins in each. Note that we want twice as many detector bins as generator level bins as recommended by the TUnfold documenation "
   ]
  },
  {
   "cell_type": "markdown",
   "metadata": {
    "collapsed": true
   },
   "source": [
    "Get the response matrix and input 1D distributions for unfolding."
   ]
  },
  {
   "cell_type": "code",
   "execution_count": null,
   "metadata": {},
   "outputs": [],
   "source": [
    "print np.min(TT16gen_nSub_basis[:,3])\n",
    "print np.min(TT16reco_nSub_basis[:,3])\n",
    "print np.max(TT16gen_nSub_basis[:,3])\n",
    "print np.max(TT16reco_nSub_basis[:,3])"
   ]
  },
  {
   "cell_type": "code",
   "execution_count": null,
   "metadata": {},
   "outputs": [],
   "source": [
    "nDet=28\n",
    "nGen=14\n",
    "xminDet=0.0\n",
    "xmaxDet=0.65\n",
    "xminGen=0.0\n",
    "xmaxGen=0.65\n",
    "#weight_TT16 = (831.76*lumi*1000.)/10199051.*np.ones(TT16_beta4W.shape[0])*TT16_puWeight*TT16_btagWeight*0.8"
   ]
  },
  {
   "cell_type": "code",
   "execution_count": null,
   "metadata": {},
   "outputs": [],
   "source": [
    "ROOT.TH1.SetDefaultSumw2()\n",
    "from root_numpy import *\n",
    "\n",
    "histMgenMC = ROOT.TH1D(\"histMgenMC\", \"histMgenMC; #tau_{2}^{0.5}; Events/(0.02)\", nGen, xminGen,xmaxGen)\n",
    "fill_hist(histMgenMC, TT16gen_tau2_0p5)\n",
    "\n",
    "histMdetMC = ROOT.TH1D(\"histMdetMC\", \"histMdetMC; #tau_{2}^{0.5}; Events/(0.02)\", nDet, xminDet,xmaxDet)\n",
    "fill_hist(histMdetMC, TT16reco_tau2_0p5)\n",
    "\n",
    "histMgenData = ROOT.TH1D(\"histMgenData\", \"histMgenData; #tau_{2}^{0.5}; Events/(0.02)\", nGen, xminGen,xmaxGen)\n",
    "fill_hist(histMgenData, TT16truth_tau2_0p5)\n",
    "\n",
    "histMdetData = ROOT.TH1D(\"histMdetData\", \"histMdetData; #tau_{2}^{0.5}; Events/(0.02)\", nDet, xminDet,xmaxDet)\n",
    "fill_hist(histMdetData, TT16data_tau2_0p5)\n",
    "\n",
    "\n",
    "response = ROOT.TH2D('response', 'response', nDet, xminDet, xmaxDet, nGen, xminGen, xmaxGen)\n",
    "hist2Dfill = np.zeros((TT16reco_tau2_0p5.shape[0], 2))\n",
    "hist2Dfill[:,0] = TT16reco_tau2_0p5.flatten()\n",
    "hist2Dfill[:,1] = TT16gen_tau2_0p5.flatten()\n",
    "fill_hist(response, hist2Dfill)"
   ]
  },
  {
   "cell_type": "markdown",
   "metadata": {
    "collapsed": true
   },
   "source": [
    "Set the X and Y axis labels"
   ]
  },
  {
   "cell_type": "code",
   "execution_count": null,
   "metadata": {},
   "outputs": [],
   "source": [
    "response.SetTitle(\";#tau_{2}^{0.5}(det);#tau_{2}^{0.5}(gen)\")\n",
    "\n",
    "\n",
    "histMgenMC.SetTitle(\";#tau_{2}^{0.5}(gen)\")\n",
    "#histMgenMC.SetFillColor(ROOT.kRed)\n",
    "#histMgenMC.SetLineColor(ROOT.kRed)\n",
    "\n",
    "histMdetMC.SetTitle(\";#tau_{2}^{0.5}(det)\")\n",
    "#histMdetMC.SetFillColor(ROOT.kBlue)\n",
    "#histMdetMC.SetLineColor(ROOT.kBlue)\n",
    "\n",
    "\n",
    "histMgenData.SetTitle(\";#tau_{2}^{0.5}(gen)\")\n",
    "#histMgenData.SetFillColor(ROOT.kGreen+2)\n",
    "#histMgenData.SetLineColor(ROOT.kGreen+2)\n",
    "\n",
    "histMdetData.SetTitle(\";#tau_{2}^{0.5}(det)\")\n",
    "#histMdetData.SetFillColor(ROOT.kBlack)\n",
    "#histMdetData.SetLineColor(ROOT.kBlack)"
   ]
  },
  {
   "cell_type": "markdown",
   "metadata": {
    "collapsed": true
   },
   "source": [
    "Draw the variables at reco and gen level and for \"data\""
   ]
  },
  {
   "cell_type": "code",
   "execution_count": null,
   "metadata": {},
   "outputs": [],
   "source": [
    "c1 = ROOT.TCanvas(\"chistMgenMC1\", \"chistMgenMC1\")\n",
    "histMgenMC.Draw(\"e\")\n",
    "histMdetMC.Draw(\"e same\")\n",
    "c1.Draw()"
   ]
  },
  {
   "cell_type": "code",
   "execution_count": null,
   "metadata": {},
   "outputs": [],
   "source": [
    "c1 = ROOT.TCanvas(\"chistMgenMC1\", \"chistMgenMC1\")\n",
    "histMgenData.Draw(\"e\")\n",
    "histMdetData.Draw(\"e same\")\n",
    "c1.Draw()"
   ]
  },
  {
   "cell_type": "markdown",
   "metadata": {
    "collapsed": true
   },
   "source": [
    "Draw the response matrix."
   ]
  },
  {
   "cell_type": "code",
   "execution_count": null,
   "metadata": {
    "scrolled": false
   },
   "outputs": [],
   "source": [
    "c1 = ROOT.TCanvas(\"cresponse1\", \"cresponse1\")\n",
    "response.Draw(\"colz\")\n",
    "c1.Draw()"
   ]
  },
  {
   "cell_type": "code",
   "execution_count": null,
   "metadata": {},
   "outputs": [],
   "source": [
    "#### In MC :"
   ]
  },
  {
   "cell_type": "code",
   "execution_count": null,
   "metadata": {},
   "outputs": [],
   "source": [
    "c2 = ROOT.TCanvas(\"MCcompare\", \"MCcompare\")\n",
    "histMgenMC.Draw('e')\n",
    "histMdetMC.Draw('e same')\n",
    "c2.Draw()"
   ]
  },
  {
   "cell_type": "markdown",
   "metadata": {
    "collapsed": true
   },
   "source": [
    "#### In Data:"
   ]
  },
  {
   "cell_type": "code",
   "execution_count": null,
   "metadata": {},
   "outputs": [],
   "source": [
    "c3 = ROOT.TCanvas(\"datadists\", \"datadists\")\n",
    "histMgenData.Draw('e')\n",
    "histMdetData.Draw('e same')\n",
    "c3.Draw()"
   ]
  },
  {
   "cell_type": "code",
   "execution_count": null,
   "metadata": {},
   "outputs": [],
   "source": [
    "print 'getting tunfolder:'\n",
    "tunfolder = ROOT.TUnfoldDensity(response,ROOT.TUnfold.kHistMapOutputVert,ROOT.TUnfold.kRegModeCurvature, ROOT.TUnfold.kEConstraintNone, ROOT.TUnfoldDensity.kDensityModeBinWidth)"
   ]
  },
  {
   "cell_type": "markdown",
   "metadata": {
    "collapsed": true
   },
   "source": [
    "Set the input, a 1D reconstructed histogram from either MC (closure) or Data (measurement) , binned in the detector level binning."
   ]
  },
  {
   "cell_type": "code",
   "execution_count": null,
   "metadata": {},
   "outputs": [],
   "source": [
    "print 'setting reco input'\n",
    "tunfolder.SetInput( histMdetData )"
   ]
  },
  {
   "cell_type": "markdown",
   "metadata": {},
   "source": [
    "Unfold nScan times with values for the regularization parameter between tauMin and tauMax using the empty TSplines to store the results."
   ]
  },
  {
   "cell_type": "code",
   "execution_count": null,
   "metadata": {
    "scrolled": true
   },
   "outputs": [],
   "source": [
    "print 'regularizing'\n",
    "nScan=50\n",
    "tauMin=-5.0\n",
    "tauMax=10.0\n",
    "iBest=0\n",
    "\n",
    "logTauX = ROOT.MakeNullPointer(ROOT.TSpline)\n",
    "logTauY = ROOT.MakeNullPointer(ROOT.TSpline)\n",
    "lCurve = ROOT.MakeNullPointer(ROOT.TGraph)\n",
    "\n",
    "print 'doing the unfolding'\n",
    "tunfolder.ScanLcurve(nScan,tauMin,tauMax,lCurve,logTauX,logTauY);\n",
    "print 'getting the results'\n",
    "unfolded = tunfolder.GetOutput(\"unfolded\")"
   ]
  },
  {
   "cell_type": "code",
   "execution_count": null,
   "metadata": {},
   "outputs": [],
   "source": [
    "c5 = ROOT.TCanvas('c5', 'c5')\n",
    "unfolded.SetMarkerStyle(22)\n",
    "unfolded.SetMarkerColor(4)\n",
    "unfolded.SetFillColor(0)\n",
    "histMgenData.SetMarkerStyle(21)\n",
    "histMgenData.SetMarkerColor(2)\n",
    "\n",
    "hs = ROOT.THStack(\"hs\", \"hs\")\n",
    "hs.Add( histMgenData, \"hist\")\n",
    "hs.Add( unfolded, \"e\")\n",
    "hs.Draw(\"nostack\")\n",
    "c5.Draw()"
   ]
  },
  {
   "cell_type": "markdown",
   "metadata": {},
   "source": [
    "# Unfold $\\tau_2^{(1)}$"
   ]
  },
  {
   "cell_type": "markdown",
   "metadata": {
    "collapsed": true
   },
   "source": [
    "Get the response matrix and input 1D distributions for unfolding."
   ]
  },
  {
   "cell_type": "code",
   "execution_count": null,
   "metadata": {},
   "outputs": [],
   "source": [
    "print np.min(TT16gen_nSub_basis[:,4])\n",
    "print np.min(TT16reco_nSub_basis[:,4])\n",
    "print np.max(TT16gen_nSub_basis[:,4])\n",
    "print np.max(TT16reco_nSub_basis[:,4])"
   ]
  },
  {
   "cell_type": "markdown",
   "metadata": {
    "collapsed": true
   },
   "source": [
    "#### Set the axis ranges for the generator nd detector level distributions as well as the number of bins in each. Note that we want twice as many detector bins as generator level bins as recommended by the TUnfold documenation "
   ]
  },
  {
   "cell_type": "code",
   "execution_count": null,
   "metadata": {},
   "outputs": [],
   "source": [
    "nDet=30\n",
    "nGen=15\n",
    "xminDet=0.0\n",
    "xmaxDet=0.44\n",
    "xminGen=0.0\n",
    "xmaxGen=0.44\n",
    "#weight_TT16 = (831.76*lumi*1000.)/10199051.*np.ones(TT16_beta4W.shape[0])*TT16_puWeight*TT16_btagWeight*0.8\n"
   ]
  },
  {
   "cell_type": "code",
   "execution_count": null,
   "metadata": {},
   "outputs": [],
   "source": [
    "ROOT.TH1.SetDefaultSumw2()\n",
    "from root_numpy import *\n",
    "\n",
    "histMgenMC = ROOT.TH1D(\"histMgenMC\", \"histMgenMC; #tau_{2}^{1}; Events/(0.02)\", nGen, xminGen,xmaxGen)\n",
    "fill_hist(histMgenMC, TT16gen_tau2_1)\n",
    "\n",
    "histMdetMC = ROOT.TH1D(\"histMdetMC\", \"histMdetMC; #tau_{2}^{1}; Events/(0.02)\", nDet, xminDet,xmaxDet)\n",
    "fill_hist(histMdetMC, TT16reco_tau2_1)\n",
    "\n",
    "histMgenData = ROOT.TH1D(\"histMgenData\", \"histMgenData; #tau_{2}^{1}; Events/(0.02)\", nGen, xminGen,xmaxGen)\n",
    "fill_hist(histMgenData, TT16truth_tau2_1)\n",
    "\n",
    "histMdetData = ROOT.TH1D(\"histMdetData\", \"histMdetData; #tau_{2}^{1}; Events/(0.02)\", nDet, xminDet,xmaxDet)\n",
    "fill_hist(histMdetData, TT16data_tau2_1)\n",
    "\n",
    "\n",
    "response = ROOT.TH2D('response', 'response', nDet, xminDet, xmaxDet, nGen, xminGen, xmaxGen)\n",
    "hist2Dfill = np.zeros((TT16reco_tau2_1.shape[0], 2))\n",
    "hist2Dfill[:,0] = TT16reco_tau2_1.flatten()\n",
    "hist2Dfill[:,1] = TT16gen_tau2_1.flatten()\n",
    "fill_hist(response, hist2Dfill)"
   ]
  },
  {
   "cell_type": "raw",
   "metadata": {},
   "source": [
    "xaxis =  array.array('d',[a for a in xrange(nmbinsGen *nptbinsGen + 1 )])\n",
    "nx = len(xaxis)-1\n",
    "\n",
    "print xaxis\n",
    "\n",
    "yaxis =  array.array('d',[a for a in xrange(nmbinsDet *nptbinsDet+1 )])\n",
    "ny = len(yaxis)-1\n",
    "\n",
    "print yaxis\n",
    "\n",
    "h_response = ROOT.TH2D('h_response',   'h_response', nx , xaxis, ny, yaxis )\n",
    "#print h_response2.GetXaxis.GetNbins()\n",
    "print nx\n",
    "print ny\n",
    "nb = nx*ny\n",
    "print nb"
   ]
  },
  {
   "cell_type": "raw",
   "metadata": {
    "collapsed": true
   },
   "source": [
    "response =ROOT.gDirectory.Get(\"response\")\n",
    "histMgenMC=ROOT.gDirectory.Get(\"histMgenMC\")\n",
    "histMdetMC=ROOT.gDirectory.Get(\"histMdetMC\")\n",
    "histMgenData=ROOT.gDirectory.Get(\"histMgenData\")\n",
    "histMdetData=ROOT.gDirectory.Get(\"histMdetData\")"
   ]
  },
  {
   "cell_type": "markdown",
   "metadata": {
    "collapsed": true
   },
   "source": [
    "Set the X and Y axis labels"
   ]
  },
  {
   "cell_type": "code",
   "execution_count": null,
   "metadata": {},
   "outputs": [],
   "source": [
    "response.SetTitle(\";#tau_{2}^{1}(det);#tau_{2}^{1}(gen)\")\n",
    "\n",
    "\n",
    "histMgenMC.SetTitle(\";#tau_{2}^{1}(gen)\")\n",
    "#histMgenMC.SetFillColor(ROOT.kRed)\n",
    "#histMgenMC.SetLineColor(ROOT.kRed)\n",
    "\n",
    "histMdetMC.SetTitle(\";#tau_{2}^{1}(det)\")\n",
    "#histMdetMC.SetFillColor(ROOT.kBlue)\n",
    "#histMdetMC.SetLineColor(ROOT.kBlue)\n",
    "\n",
    "\n",
    "histMgenData.SetTitle(\";#tau_{2}^{1}(gen)\")\n",
    "#histMgenData.SetFillColor(ROOT.kGreen+2)\n",
    "#histMgenData.SetLineColor(ROOT.kGreen+2)\n",
    "\n",
    "histMdetData.SetTitle(\";#tau_{2}^{1}(det)\")\n",
    "#histMdetData.SetFillColor(ROOT.kBlack)\n",
    "#histMdetData.SetLineColor(ROOT.kBlack)"
   ]
  },
  {
   "cell_type": "markdown",
   "metadata": {
    "collapsed": true
   },
   "source": [
    "Draw the variables at reco and gen level and for \"data\""
   ]
  },
  {
   "cell_type": "code",
   "execution_count": null,
   "metadata": {},
   "outputs": [],
   "source": [
    "c1 = ROOT.TCanvas(\"chistMgenMC1\", \"chistMgenMC1\")\n",
    "histMgenMC.Draw(\"e\")\n",
    "histMdetMC.Draw(\"e same\")\n",
    "c1.Draw()"
   ]
  },
  {
   "cell_type": "code",
   "execution_count": null,
   "metadata": {},
   "outputs": [],
   "source": [
    "c1 = ROOT.TCanvas(\"chistMgenMC1\", \"chistMgenMC1\")\n",
    "histMgenData.Draw(\"e\")\n",
    "histMdetData.Draw(\"e same\")\n",
    "c1.Draw()"
   ]
  },
  {
   "cell_type": "markdown",
   "metadata": {
    "collapsed": true
   },
   "source": [
    "Draw the response matrix."
   ]
  },
  {
   "cell_type": "code",
   "execution_count": null,
   "metadata": {
    "scrolled": false
   },
   "outputs": [],
   "source": [
    "c1 = ROOT.TCanvas(\"cresponse1\", \"cresponse1\")\n",
    "response.Draw(\"colz\")\n",
    "c1.Draw()"
   ]
  },
  {
   "cell_type": "code",
   "execution_count": null,
   "metadata": {},
   "outputs": [],
   "source": [
    "#### In MC :"
   ]
  },
  {
   "cell_type": "code",
   "execution_count": null,
   "metadata": {},
   "outputs": [],
   "source": [
    "c2 = ROOT.TCanvas(\"MCcompare\", \"MCcompare\")\n",
    "histMgenMC.Draw('e')\n",
    "histMdetMC.Draw('e same')\n",
    "c2.Draw()"
   ]
  },
  {
   "cell_type": "markdown",
   "metadata": {
    "collapsed": true
   },
   "source": [
    "#### In Data:"
   ]
  },
  {
   "cell_type": "code",
   "execution_count": null,
   "metadata": {
    "scrolled": false
   },
   "outputs": [],
   "source": [
    "c3 = ROOT.TCanvas(\"datadists\", \"datadists\")\n",
    "histMgenData.Draw('e')\n",
    "histMdetData.Draw('e same')\n",
    "c3.Draw()"
   ]
  },
  {
   "cell_type": "code",
   "execution_count": null,
   "metadata": {},
   "outputs": [],
   "source": [
    "print 'getting tunfolder:'\n",
    "tunfolder = ROOT.TUnfoldDensity(response,ROOT.TUnfold.kHistMapOutputVert,ROOT.TUnfold.kRegModeCurvature, ROOT.TUnfold.kEConstraintNone, ROOT.TUnfoldDensity.kDensityModeBinWidth)"
   ]
  },
  {
   "cell_type": "markdown",
   "metadata": {
    "collapsed": true
   },
   "source": [
    "Set the input, a 1D reconstructed histogram from either MC (closure) or Data (measurement) , binned in the detector level binning."
   ]
  },
  {
   "cell_type": "code",
   "execution_count": null,
   "metadata": {},
   "outputs": [],
   "source": [
    "print 'setting reco input'\n",
    "tunfolder.SetInput( histMdetData )"
   ]
  },
  {
   "cell_type": "markdown",
   "metadata": {},
   "source": [
    "Unfold nScan times with values for the regularization parameter between tauMin and tauMax using the empty TSplines to store the results."
   ]
  },
  {
   "cell_type": "code",
   "execution_count": null,
   "metadata": {},
   "outputs": [],
   "source": [
    "print 'regularizing'\n",
    "nScan=50\n",
    "tauMin=0.0\n",
    "tauMax=0.0\n",
    "iBest=0\n",
    "\n",
    "logTauX = ROOT.MakeNullPointer(ROOT.TSpline)\n",
    "logTauY = ROOT.MakeNullPointer(ROOT.TSpline)\n",
    "lCurve = ROOT.MakeNullPointer(ROOT.TGraph)\n",
    "\n",
    "print 'doing the unfolding'\n",
    "tunfolder.ScanLcurve(nScan,tauMin,tauMax,lCurve,logTauX,logTauY);\n",
    "print 'getting the results'\n",
    "unfolded = tunfolder.GetOutput(\"unfolded\")"
   ]
  },
  {
   "cell_type": "code",
   "execution_count": null,
   "metadata": {},
   "outputs": [],
   "source": []
  },
  {
   "cell_type": "code",
   "execution_count": null,
   "metadata": {},
   "outputs": [],
   "source": [
    "c5 = ROOT.TCanvas('c5', 'c5')\n",
    "unfolded.SetMarkerStyle(22)\n",
    "unfolded.SetMarkerColor(4)\n",
    "unfolded.SetFillColor(0)\n",
    "histMgenData.SetMarkerStyle(21)\n",
    "histMgenData.SetMarkerColor(2)\n",
    "\n",
    "hs = ROOT.THStack(\"hs\", \"hs\")\n",
    "hs.Add( histMgenData, \"hist\")\n",
    "hs.Add( unfolded, \"e\")\n",
    "hs.Draw(\"nostack\")\n",
    "c5.Draw()"
   ]
  },
  {
   "cell_type": "markdown",
   "metadata": {},
   "source": [
    "# Unfold $\\tau_2^{(2)}$"
   ]
  },
  {
   "cell_type": "markdown",
   "metadata": {
    "collapsed": true
   },
   "source": [
    "Get the response matrix and input 1D distributions for unfolding."
   ]
  },
  {
   "cell_type": "code",
   "execution_count": null,
   "metadata": {},
   "outputs": [],
   "source": [
    "print np.min(TT16gen_nSub_basis[:,5])\n",
    "print np.min(TT16reco_nSub_basis[:,5])\n",
    "print np.max(TT16gen_nSub_basis[:,5])\n",
    "print np.max(TT16reco_nSub_basis[:,5])"
   ]
  },
  {
   "cell_type": "markdown",
   "metadata": {
    "collapsed": true
   },
   "source": [
    "#### Set the axis ranges for the generator nd detector level distributions as well as the number of bins in each. Note that we want twice as many detector bins as generator level bins as recommended by the TUnfold documenation "
   ]
  },
  {
   "cell_type": "code",
   "execution_count": null,
   "metadata": {},
   "outputs": [],
   "source": [
    "nDet=28\n",
    "nGen=14\n",
    "xminDet=0.0\n",
    "xmaxDet=0.23\n",
    "xminGen=0.0\n",
    "xmaxGen=0.23\n",
    "#weight_TT16 = (831.76*lumi*1000.)/10199051.*np.ones(TT16_beta4W.shape[0])*TT16_puWeight*TT16_btagWeight*0.8\n"
   ]
  },
  {
   "cell_type": "code",
   "execution_count": null,
   "metadata": {},
   "outputs": [],
   "source": [
    "ROOT.TH1.SetDefaultSumw2()\n",
    "from root_numpy import *\n",
    "\n",
    "histMgenMC = ROOT.TH1D(\"histMgenMC\", \"histMgenMC; #tau_{2}^{2}; Events/(0.02)\", nGen, xminGen,xmaxGen)\n",
    "fill_hist(histMgenMC, TT16gen_tau2_2)\n",
    "\n",
    "histMdetMC = ROOT.TH1D(\"histMdetMC\", \"histMdetMC; #tau_{2}^{2}; Events/(0.02)\", nDet, xminDet,xmaxDet)\n",
    "fill_hist(histMdetMC, TT16reco_tau2_2)\n",
    "\n",
    "histMgenData = ROOT.TH1D(\"histMgenData\", \"histMgenData; #tau_{2}^{2}; Events/(0.02)\", nGen, xminGen,xmaxGen)\n",
    "fill_hist(histMgenData, TT16truth_tau2_2)\n",
    "\n",
    "histMdetData = ROOT.TH1D(\"histMdetData\", \"histMdetData; #tau_{2}^{2}; Events/(0.02)\", nDet, xminDet,xmaxDet)\n",
    "fill_hist(histMdetData, TT16data_tau2_2)\n",
    "\n",
    "\n",
    "response = ROOT.TH2D('response', 'response', nDet, xminDet, xmaxDet, nGen, xminGen, xmaxGen)\n",
    "hist2Dfill = np.zeros((TT16reco_tau2_2.shape[0], 2))\n",
    "hist2Dfill[:,0] = TT16reco_tau2_2.flatten()\n",
    "hist2Dfill[:,1] = TT16gen_tau2_2.flatten()\n",
    "fill_hist(response, hist2Dfill)"
   ]
  },
  {
   "cell_type": "raw",
   "metadata": {},
   "source": [
    "xaxis =  array.array('d',[a for a in xrange(nmbinsGen *nptbinsGen + 1 )])\n",
    "nx = len(xaxis)-1\n",
    "\n",
    "print xaxis\n",
    "\n",
    "yaxis =  array.array('d',[a for a in xrange(nmbinsDet *nptbinsDet+1 )])\n",
    "ny = len(yaxis)-1\n",
    "\n",
    "print yaxis\n",
    "\n",
    "h_response = ROOT.TH2D('h_response',   'h_response', nx , xaxis, ny, yaxis )\n",
    "#print h_response2.GetXaxis.GetNbins()\n",
    "print nx\n",
    "print ny\n",
    "nb = nx*ny\n",
    "print nb"
   ]
  },
  {
   "cell_type": "raw",
   "metadata": {
    "collapsed": true
   },
   "source": [
    "response =ROOT.gDirectory.Get(\"response\")\n",
    "histMgenMC=ROOT.gDirectory.Get(\"histMgenMC\")\n",
    "histMdetMC=ROOT.gDirectory.Get(\"histMdetMC\")\n",
    "histMgenData=ROOT.gDirectory.Get(\"histMgenData\")\n",
    "histMdetData=ROOT.gDirectory.Get(\"histMdetData\")"
   ]
  },
  {
   "cell_type": "markdown",
   "metadata": {
    "collapsed": true
   },
   "source": [
    "Set the X and Y axis labels"
   ]
  },
  {
   "cell_type": "code",
   "execution_count": null,
   "metadata": {},
   "outputs": [],
   "source": [
    "response.SetTitle(\";#tau_{2}^{2}(det);#tau_{2}^{2}(gen)\")\n",
    "\n",
    "\n",
    "histMgenMC.SetTitle(\";#tau_{2}^{2}(gen)\")\n",
    "#histMgenMC.SetFillColor(ROOT.kRed)\n",
    "#histMgenMC.SetLineColor(ROOT.kRed)\n",
    "\n",
    "histMdetMC.SetTitle(\";#tau_{2}^{2}(det)\")\n",
    "#histMdetMC.SetFillColor(ROOT.kBlue)\n",
    "#histMdetMC.SetLineColor(ROOT.kBlue)\n",
    "\n",
    "\n",
    "histMgenData.SetTitle(\";#tau_{2}^{2}(gen)\")\n",
    "#histMgenData.SetFillColor(ROOT.kGreen+2)\n",
    "#histMgenData.SetLineColor(ROOT.kGreen+2)\n",
    "\n",
    "histMdetData.SetTitle(\";#tau_{2}^{2}(det)\")\n",
    "#histMdetData.SetFillColor(ROOT.kBlack)\n",
    "#histMdetData.SetLineColor(ROOT.kBlack)"
   ]
  },
  {
   "cell_type": "markdown",
   "metadata": {
    "collapsed": true
   },
   "source": [
    "Draw the variables at reco and gen level and for \"data\""
   ]
  },
  {
   "cell_type": "code",
   "execution_count": null,
   "metadata": {},
   "outputs": [],
   "source": [
    "c1 = ROOT.TCanvas(\"chistMgenMC1\", \"chistMgenMC1\")\n",
    "histMgenMC.Draw(\"e\")\n",
    "histMdetMC.Draw(\"e same\")\n",
    "c1.Draw()"
   ]
  },
  {
   "cell_type": "code",
   "execution_count": null,
   "metadata": {},
   "outputs": [],
   "source": [
    "c1 = ROOT.TCanvas(\"chistMgenMC1\", \"chistMgenMC1\")\n",
    "histMgenData.Draw(\"e\")\n",
    "histMdetData.Draw(\"e same\")\n",
    "c1.Draw()"
   ]
  },
  {
   "cell_type": "markdown",
   "metadata": {
    "collapsed": true
   },
   "source": [
    "Draw the response matrix."
   ]
  },
  {
   "cell_type": "code",
   "execution_count": null,
   "metadata": {
    "scrolled": false
   },
   "outputs": [],
   "source": [
    "c1 = ROOT.TCanvas(\"cresponse1\", \"cresponse1\")\n",
    "response.Draw(\"colz\")\n",
    "c1.Draw()"
   ]
  },
  {
   "cell_type": "code",
   "execution_count": null,
   "metadata": {},
   "outputs": [],
   "source": [
    "#### In MC :"
   ]
  },
  {
   "cell_type": "code",
   "execution_count": null,
   "metadata": {},
   "outputs": [],
   "source": [
    "c2 = ROOT.TCanvas(\"MCcompare\", \"MCcompare\")\n",
    "histMgenMC.Draw('e')\n",
    "histMdetMC.Draw('e same')\n",
    "c2.Draw()"
   ]
  },
  {
   "cell_type": "markdown",
   "metadata": {
    "collapsed": true
   },
   "source": [
    "#### In Data:"
   ]
  },
  {
   "cell_type": "code",
   "execution_count": null,
   "metadata": {
    "scrolled": false
   },
   "outputs": [],
   "source": [
    "c3 = ROOT.TCanvas(\"datadists\", \"datadists\")\n",
    "histMgenData.Draw('e')\n",
    "histMdetData.Draw('e same')\n",
    "c3.Draw()"
   ]
  },
  {
   "cell_type": "code",
   "execution_count": null,
   "metadata": {},
   "outputs": [],
   "source": [
    "print 'getting tunfolder:'\n",
    "tunfolder = ROOT.TUnfoldDensity(response,ROOT.TUnfold.kHistMapOutputVert,ROOT.TUnfold.kRegModeCurvature, ROOT.TUnfold.kEConstraintNone, ROOT.TUnfoldDensity.kDensityModeBinWidth)"
   ]
  },
  {
   "cell_type": "markdown",
   "metadata": {
    "collapsed": true
   },
   "source": [
    "Set the input, a 1D reconstructed histogram from either MC (closure) or Data (measurement) , binned in the detector level binning."
   ]
  },
  {
   "cell_type": "code",
   "execution_count": null,
   "metadata": {},
   "outputs": [],
   "source": [
    "print 'setting reco input'\n",
    "tunfolder.SetInput( histMdetData )"
   ]
  },
  {
   "cell_type": "markdown",
   "metadata": {},
   "source": [
    "Unfold nScan times with values for the regularization parameter between tauMin and tauMax using the empty TSplines to store the results."
   ]
  },
  {
   "cell_type": "code",
   "execution_count": null,
   "metadata": {},
   "outputs": [],
   "source": [
    "print 'regularizing'\n",
    "nScan=50\n",
    "tauMin=-5.0\n",
    "tauMax=10.0\n",
    "iBest=0\n",
    "\n",
    "logTauX = ROOT.MakeNullPointer(ROOT.TSpline)\n",
    "logTauY = ROOT.MakeNullPointer(ROOT.TSpline)\n",
    "lCurve = ROOT.MakeNullPointer(ROOT.TGraph)\n",
    "\n",
    "print 'doing the unfolding'\n",
    "tunfolder.ScanLcurve(nScan,tauMin,tauMax,lCurve,logTauX,logTauY);\n",
    "print 'getting the results'\n",
    "unfolded = tunfolder.GetOutput(\"unfolded\")"
   ]
  },
  {
   "cell_type": "code",
   "execution_count": null,
   "metadata": {},
   "outputs": [],
   "source": [
    "c5 = ROOT.TCanvas('c5', 'c5')\n",
    "unfolded.SetMarkerStyle(22)\n",
    "unfolded.SetMarkerColor(4)\n",
    "unfolded.SetFillColor(0)\n",
    "histMgenData.SetMarkerStyle(21)\n",
    "histMgenData.SetMarkerColor(2)\n",
    "\n",
    "hs = ROOT.THStack(\"hs\", \"hs\")\n",
    "hs.Add( histMgenData, \"hist\")\n",
    "hs.Add( unfolded, \"e\")\n",
    "hs.Draw(\"nostack\")\n",
    "c5.Draw()"
   ]
  },
  {
   "cell_type": "code",
   "execution_count": null,
   "metadata": {},
   "outputs": [],
   "source": []
  },
  {
   "cell_type": "markdown",
   "metadata": {},
   "source": [
    "# Unfold $\\tau_3^{(0.5)}$"
   ]
  },
  {
   "cell_type": "markdown",
   "metadata": {},
   "source": [
    "#### Below the input Monte Carlo simulation events are read from the file which only contains events meeting the skim criteria set forth in this __[script](https://github.com/kaustuvdatta/jetObservables/blob/102X/python/nSubProducer_gen_reco.py)__\n"
   ]
  },
  {
   "cell_type": "raw",
   "metadata": {},
   "source": [
    "\n",
    "ROOT.TH1.SetDefaultSumw2()\n",
    "f = ROOT.TFile('../AutoObs/CMS/New_Sel/TT_unfold/1/jetObservables_nanoskim_10.root')\n",
    "t = f.Get(\"Events\")"
   ]
  },
  {
   "cell_type": "markdown",
   "metadata": {
    "collapsed": true
   },
   "source": [
    "#### Set the axis ranges for the generator nd detector level distributions as well as the number of bins in each. Note that we want twice as many detector bins as generator level bins as recommended by the TUnfold documenation "
   ]
  },
  {
   "cell_type": "markdown",
   "metadata": {
    "collapsed": true
   },
   "source": [
    "Get the response matrix and input 1D distributions for unfolding."
   ]
  },
  {
   "cell_type": "code",
   "execution_count": null,
   "metadata": {},
   "outputs": [],
   "source": [
    "print np.min(TT16gen_nSub_basis[:,6])\n",
    "print np.min(TT16reco_nSub_basis[:,6])\n",
    "print np.max(TT16gen_nSub_basis[:,6])\n",
    "print np.max(TT16reco_nSub_basis[:,6])"
   ]
  },
  {
   "cell_type": "code",
   "execution_count": null,
   "metadata": {},
   "outputs": [],
   "source": [
    "nDet=28\n",
    "nGen=14\n",
    "xminDet=0.0\n",
    "xmaxDet=0.56\n",
    "xminGen=0.0\n",
    "xmaxGen=0.56\n",
    "#weight_TT16 = (831.76*lumi*1000.)/10199051.*np.ones(TT16_beta4W.shape[0])*TT16_puWeight*TT16_btagWeight*0.8\n"
   ]
  },
  {
   "cell_type": "code",
   "execution_count": null,
   "metadata": {},
   "outputs": [],
   "source": [
    "ROOT.TH1.SetDefaultSumw2()\n",
    "from root_numpy import *\n",
    "\n",
    "histMgenMC = ROOT.TH1D(\"histMgenMC\", \"histMgenMC; #tau_{3}^{0.5}; Events/(0.02)\", nGen, xminGen,xmaxGen)\n",
    "fill_hist(histMgenMC, TT16gen_nSub_basis[:,6])\n",
    "\n",
    "histMdetMC = ROOT.TH1D(\"histMdetMC\", \"histMdetMC; #tau_{3}^{0.5}; Events/(0.02)\", nDet, xminDet,xmaxDet)\n",
    "fill_hist(histMdetMC, TT16reco_nSub_basis[:,6])\n",
    "\n",
    "histMgenData = ROOT.TH1D(\"histMgenData\", \"histMgenData; #tau_{3}^{0.5}; Events/(0.02)\", nGen, xminGen,xmaxGen)\n",
    "fill_hist(histMgenData, TT16truth_nSub_basis[:,6])\n",
    "\n",
    "histMdetData = ROOT.TH1D(\"histMdetData\", \"histMdetData; #tau_{3}^{0.5}; Events/(0.02)\", nDet, xminDet,xmaxDet)\n",
    "fill_hist(histMdetData, TT16data_nSub_basis[:,6])\n",
    "\n",
    "\n",
    "response = ROOT.TH2D('response', 'response', nDet, xminDet, xmaxDet, nGen, xminGen, xmaxGen)\n",
    "hist2Dfill = np.zeros((TT16reco_nSub_basis[:,6].shape[0], 2))\n",
    "hist2Dfill[:,0] = TT16reco_nSub_basis[:,6].flatten()\n",
    "hist2Dfill[:,1] = TT16gen_nSub_basis[:,6].flatten()\n",
    "fill_hist(response, hist2Dfill)"
   ]
  },
  {
   "cell_type": "raw",
   "metadata": {},
   "source": [
    "xaxis =  array.array('d',[a for a in xrange(nmbinsGen *nptbinsGen + 1 )])\n",
    "nx = len(xaxis)-1\n",
    "\n",
    "print xaxis\n",
    "\n",
    "yaxis =  array.array('d',[a for a in xrange(nmbinsDet *nptbinsDet+1 )])\n",
    "ny = len(yaxis)-1\n",
    "\n",
    "print yaxis\n",
    "\n",
    "h_response = ROOT.TH2D('h_response',   'h_response', nx , xaxis, ny, yaxis )\n",
    "#print h_response2.GetXaxis.GetNbins()\n",
    "print nx\n",
    "print ny\n",
    "nb = nx*ny\n",
    "print nb"
   ]
  },
  {
   "cell_type": "raw",
   "metadata": {
    "collapsed": true
   },
   "source": [
    "response =ROOT.gDirectory.Get(\"response\")\n",
    "histMgenMC=ROOT.gDirectory.Get(\"histMgenMC\")\n",
    "histMdetMC=ROOT.gDirectory.Get(\"histMdetMC\")\n",
    "histMgenData=ROOT.gDirectory.Get(\"histMgenData\")\n",
    "histMdetData=ROOT.gDirectory.Get(\"histMdetData\")"
   ]
  },
  {
   "cell_type": "markdown",
   "metadata": {
    "collapsed": true
   },
   "source": [
    "Set the X and Y axis labels"
   ]
  },
  {
   "cell_type": "code",
   "execution_count": null,
   "metadata": {},
   "outputs": [],
   "source": [
    "response.SetTitle(\";#tau_{3}^{0.5}(det);#tau_{3}^{0.5}(gen)\")\n",
    "\n",
    "\n",
    "histMgenMC.SetTitle(\";#tau_{3}^{0.5}(gen)\")\n",
    "#histMgenMC.SetFillColor(ROOT.kRed)\n",
    "#histMgenMC.SetLineColor(ROOT.kRed)\n",
    "\n",
    "histMdetMC.SetTitle(\";#tau_{3}^{0.5}(det)\")\n",
    "#histMdetMC.SetFillColor(ROOT.kBlue)\n",
    "#histMdetMC.SetLineColor(ROOT.kBlue)\n",
    "\n",
    "\n",
    "histMgenData.SetTitle(\";#tau_{3}^{0.5}(gen)\")\n",
    "#histMgenData.SetFillColor(ROOT.kGreen+2)\n",
    "#histMgenData.SetLineColor(ROOT.kGreen+2)\n",
    "\n",
    "histMdetData.SetTitle(\";#tau_{3}^{0.5}(det)\")\n",
    "#histMdetData.SetFillColor(ROOT.kBlack)\n",
    "#histMdetData.SetLineColor(ROOT.kBlack)"
   ]
  },
  {
   "cell_type": "markdown",
   "metadata": {
    "collapsed": true
   },
   "source": [
    "Draw the variables at reco and gen level and for \"data\""
   ]
  },
  {
   "cell_type": "code",
   "execution_count": null,
   "metadata": {},
   "outputs": [],
   "source": [
    "c1 = ROOT.TCanvas(\"chistMgenMC1\", \"chistMgenMC1\")\n",
    "histMgenMC.Draw(\"e\")\n",
    "histMdetMC.Draw(\"e same\")\n",
    "c1.Draw()"
   ]
  },
  {
   "cell_type": "code",
   "execution_count": null,
   "metadata": {},
   "outputs": [],
   "source": [
    "c1 = ROOT.TCanvas(\"chistMgenMC1\", \"chistMgenMC1\")\n",
    "histMgenData.Draw(\"e\")\n",
    "histMdetData.Draw(\"e same\")\n",
    "c1.Draw()"
   ]
  },
  {
   "cell_type": "markdown",
   "metadata": {
    "collapsed": true
   },
   "source": [
    "Draw the response matrix."
   ]
  },
  {
   "cell_type": "code",
   "execution_count": null,
   "metadata": {
    "scrolled": false
   },
   "outputs": [],
   "source": [
    "c1 = ROOT.TCanvas(\"cresponse1\", \"cresponse1\")\n",
    "response.Draw(\"colz\")\n",
    "c1.Draw()"
   ]
  },
  {
   "cell_type": "code",
   "execution_count": null,
   "metadata": {},
   "outputs": [],
   "source": [
    "#### In MC :"
   ]
  },
  {
   "cell_type": "code",
   "execution_count": null,
   "metadata": {},
   "outputs": [],
   "source": [
    "c2 = ROOT.TCanvas(\"MCcompare\", \"MCcompare\")\n",
    "histMgenMC.Draw('e')\n",
    "histMdetMC.Draw('e same')\n",
    "c2.Draw()"
   ]
  },
  {
   "cell_type": "markdown",
   "metadata": {
    "collapsed": true
   },
   "source": [
    "#### In Data:"
   ]
  },
  {
   "cell_type": "code",
   "execution_count": null,
   "metadata": {},
   "outputs": [],
   "source": [
    "c3 = ROOT.TCanvas(\"datadists\", \"datadists\")\n",
    "histMgenData.Draw('e')\n",
    "histMdetData.Draw('e same')\n",
    "c3.Draw()"
   ]
  },
  {
   "cell_type": "code",
   "execution_count": null,
   "metadata": {},
   "outputs": [],
   "source": [
    "print 'getting tunfolder:'\n",
    "tunfolder = ROOT.TUnfoldDensity(response,ROOT.TUnfold.kHistMapOutputVert,ROOT.TUnfold.kRegModeCurvature, ROOT.TUnfold.kEConstraintNone, ROOT.TUnfoldDensity.kDensityModeBinWidth)"
   ]
  },
  {
   "cell_type": "markdown",
   "metadata": {
    "collapsed": true
   },
   "source": [
    "Set the input, a 1D reconstructed histogram from either MC (closure) or Data (measurement) , binned in the detector level binning."
   ]
  },
  {
   "cell_type": "code",
   "execution_count": null,
   "metadata": {},
   "outputs": [],
   "source": [
    "print 'setting reco input'\n",
    "tunfolder.SetInput( histMdetData )"
   ]
  },
  {
   "cell_type": "markdown",
   "metadata": {},
   "source": [
    "Unfold nScan times with values for the regularization parameter between tauMin and tauMax using the empty TSplines to store the results."
   ]
  },
  {
   "cell_type": "code",
   "execution_count": null,
   "metadata": {},
   "outputs": [],
   "source": [
    "print 'regularizing'\n",
    "nScan=50\n",
    "tauMin=0.0\n",
    "tauMax=0.0\n",
    "iBest=0\n",
    "\n",
    "logTauX = ROOT.MakeNullPointer(ROOT.TSpline)\n",
    "logTauY = ROOT.MakeNullPointer(ROOT.TSpline)\n",
    "lCurve = ROOT.MakeNullPointer(ROOT.TGraph)\n",
    "\n",
    "print 'doing the unfolding'\n",
    "tunfolder.ScanLcurve(nScan,tauMin,tauMax,lCurve,logTauX,logTauY);\n",
    "print 'getting the results'\n",
    "unfolded = tunfolder.GetOutput(\"unfolded\")"
   ]
  },
  {
   "cell_type": "code",
   "execution_count": null,
   "metadata": {},
   "outputs": [],
   "source": []
  },
  {
   "cell_type": "code",
   "execution_count": null,
   "metadata": {},
   "outputs": [],
   "source": [
    "c5 = ROOT.TCanvas('c5', 'c5')\n",
    "unfolded.SetMarkerStyle(22)\n",
    "unfolded.SetMarkerColor(4)\n",
    "unfolded.SetFillColor(0)\n",
    "histMgenData.SetMarkerStyle(21)\n",
    "histMgenData.SetMarkerColor(2)\n",
    "\n",
    "hs = ROOT.THStack(\"hs\", \"hs\")\n",
    "hs.Add( histMgenData, \"hist\")\n",
    "hs.Add( unfolded, \"e\")\n",
    "hs.Draw(\"nostack\")\n",
    "c5.Draw()"
   ]
  },
  {
   "cell_type": "code",
   "execution_count": null,
   "metadata": {},
   "outputs": [],
   "source": []
  },
  {
   "cell_type": "markdown",
   "metadata": {},
   "source": [
    "# Unfold $\\tau_3^{(1)}$"
   ]
  },
  {
   "cell_type": "markdown",
   "metadata": {},
   "source": [
    "#### Below the input Monte Carlo simulation events are read from the file which only contains events meeting the skim criteria set forth in this __[script](https://github.com/kaustuvdatta/jetObservables/blob/102X/python/nSubProducer_gen_reco.py)__\n"
   ]
  },
  {
   "cell_type": "raw",
   "metadata": {},
   "source": [
    "\n",
    "ROOT.TH1.SetDefaultSumw2()\n",
    "f = ROOT.TFile('../AutoObs/CMS/New_Sel/TT_unfold/1/jetObservables_nanoskim_10.root')\n",
    "t = f.Get(\"Events\")"
   ]
  },
  {
   "cell_type": "markdown",
   "metadata": {
    "collapsed": true
   },
   "source": [
    "#### Set the axis ranges for the generator nd detector level distributions as well as the number of bins in each. Note that we want twice as many detector bins as generator level bins as recommended by the TUnfold documenation "
   ]
  },
  {
   "cell_type": "markdown",
   "metadata": {
    "collapsed": true
   },
   "source": [
    "Get the response matrix and input 1D distributions for unfolding."
   ]
  },
  {
   "cell_type": "code",
   "execution_count": null,
   "metadata": {},
   "outputs": [],
   "source": [
    "print np.min(TT16gen_nSub_basis[:,7])\n",
    "print np.min(TT16reco_nSub_basis[:,7])\n",
    "print np.max(TT16gen_nSub_basis[:,7])\n",
    "print np.max(TT16reco_nSub_basis[:,7])"
   ]
  },
  {
   "cell_type": "code",
   "execution_count": null,
   "metadata": {},
   "outputs": [],
   "source": [
    "nDet=50\n",
    "nGen=25\n",
    "xminDet=0.0\n",
    "xmaxDet=0.3\n",
    "xminGen=0.0\n",
    "xmaxGen=0.3\n",
    "#weight_TT16 = (831.76*lumi*1000.)/10199051.*np.ones(TT16_beta4W.shape[0])*TT16_puWeight*TT16_btagWeight*0.8\n"
   ]
  },
  {
   "cell_type": "code",
   "execution_count": null,
   "metadata": {},
   "outputs": [],
   "source": [
    "ROOT.TH1.SetDefaultSumw2()\n",
    "from root_numpy import *\n",
    "\n",
    "histMgenMC = ROOT.TH1D(\"histMgenMC\", \"histMgenMC; #tau_{3}^{1}; Events/(0.02)\", nGen, xminGen,xmaxGen)\n",
    "fill_hist(histMgenMC, TT16gen_nSub_basis[:,7])\n",
    "\n",
    "histMdetMC = ROOT.TH1D(\"histMdetMC\", \"histMdetMC; #tau_{3}^{1}; Events/(0.02)\", nDet, xminDet,xmaxDet)\n",
    "fill_hist(histMdetMC, TT16reco_nSub_basis[:,7])\n",
    "\n",
    "histMgenData = ROOT.TH1D(\"histMgenData\", \"histMgenData; #tau_{3}^{1}; Events/(0.02)\", nGen, xminGen,xmaxGen)\n",
    "fill_hist(histMgenData, TT16truth_nSub_basis[:,7])\n",
    "\n",
    "histMdetData = ROOT.TH1D(\"histMdetData\", \"histMdetData; #tau_{3}^{1}; Events/(0.02)\", nDet, xminDet,xmaxDet)\n",
    "fill_hist(histMdetData, TT16data_nSub_basis[:,7])\n",
    "\n",
    "\n",
    "response = ROOT.TH2D('response', 'response', nDet, xminDet, xmaxDet, nGen, xminGen, xmaxGen)\n",
    "hist2Dfill = np.zeros((TT16reco_nSub_basis[:,7].shape[0], 2))\n",
    "hist2Dfill[:,0] = TT16reco_nSub_basis[:,7].flatten()\n",
    "hist2Dfill[:,1] = TT16gen_nSub_basis[:,7].flatten()\n",
    "fill_hist(response, hist2Dfill)"
   ]
  },
  {
   "cell_type": "raw",
   "metadata": {},
   "source": [
    "xaxis =  array.array('d',[a for a in xrange(nmbinsGen *nptbinsGen + 1 )])\n",
    "nx = len(xaxis)-1\n",
    "\n",
    "print xaxis\n",
    "\n",
    "yaxis =  array.array('d',[a for a in xrange(nmbinsDet *nptbinsDet+1 )])\n",
    "ny = len(yaxis)-1\n",
    "\n",
    "print yaxis\n",
    "\n",
    "h_response = ROOT.TH2D('h_response',   'h_response', nx , xaxis, ny, yaxis )\n",
    "#print h_response2.GetXaxis.GetNbins()\n",
    "print nx\n",
    "print ny\n",
    "nb = nx*ny\n",
    "print nb"
   ]
  },
  {
   "cell_type": "raw",
   "metadata": {
    "collapsed": true
   },
   "source": [
    "response =ROOT.gDirectory.Get(\"response\")\n",
    "histMgenMC=ROOT.gDirectory.Get(\"histMgenMC\")\n",
    "histMdetMC=ROOT.gDirectory.Get(\"histMdetMC\")\n",
    "histMgenData=ROOT.gDirectory.Get(\"histMgenData\")\n",
    "histMdetData=ROOT.gDirectory.Get(\"histMdetData\")"
   ]
  },
  {
   "cell_type": "markdown",
   "metadata": {
    "collapsed": true
   },
   "source": [
    "Set the X and Y axis labels"
   ]
  },
  {
   "cell_type": "code",
   "execution_count": null,
   "metadata": {},
   "outputs": [],
   "source": [
    "response.SetTitle(\";#tau_{3}^{1}(det);#tau_{3}^{1}(gen)\")\n",
    "\n",
    "\n",
    "histMgenMC.SetTitle(\";#tau_{3}^{1}(gen)\")\n",
    "#histMgenMC.SetFillColor(ROOT.kRed)\n",
    "#histMgenMC.SetLineColor(ROOT.kRed)\n",
    "\n",
    "histMdetMC.SetTitle(\";#tau_{3}^{1}(det)\")\n",
    "#histMdetMC.SetFillColor(ROOT.kBlue)\n",
    "#histMdetMC.SetLineColor(ROOT.kBlue)\n",
    "\n",
    "\n",
    "histMgenData.SetTitle(\";#tau_{3}^{1}(gen)\")\n",
    "#histMgenData.SetFillColor(ROOT.kGreen+2)\n",
    "#histMgenData.SetLineColor(ROOT.kGreen+2)\n",
    "\n",
    "histMdetData.SetTitle(\";#tau_{3}^{1}(det)\")\n",
    "#histMdetData.SetFillColor(ROOT.kBlack)\n",
    "#histMdetData.SetLineColor(ROOT.kBlack)"
   ]
  },
  {
   "cell_type": "markdown",
   "metadata": {
    "collapsed": true
   },
   "source": [
    "Draw the variables at reco and gen level and for \"data\""
   ]
  },
  {
   "cell_type": "code",
   "execution_count": null,
   "metadata": {},
   "outputs": [],
   "source": [
    "c1 = ROOT.TCanvas(\"chistMgenMC1\", \"chistMgenMC1\")\n",
    "histMgenMC.Draw(\"e\")\n",
    "histMdetMC.Draw(\"e same\")\n",
    "c1.Draw()"
   ]
  },
  {
   "cell_type": "code",
   "execution_count": null,
   "metadata": {},
   "outputs": [],
   "source": [
    "c1 = ROOT.TCanvas(\"chistMgenMC1\", \"chistMgenMC1\")\n",
    "histMgenData.Draw(\"e\")\n",
    "histMdetData.Draw(\"e same\")\n",
    "c1.Draw()"
   ]
  },
  {
   "cell_type": "markdown",
   "metadata": {
    "collapsed": true
   },
   "source": [
    "Draw the response matrix."
   ]
  },
  {
   "cell_type": "code",
   "execution_count": null,
   "metadata": {
    "scrolled": false
   },
   "outputs": [],
   "source": [
    "c1 = ROOT.TCanvas(\"cresponse1\", \"cresponse1\")\n",
    "response.Draw(\"colz\")\n",
    "c1.Draw()"
   ]
  },
  {
   "cell_type": "code",
   "execution_count": null,
   "metadata": {},
   "outputs": [],
   "source": [
    "#### In MC :"
   ]
  },
  {
   "cell_type": "code",
   "execution_count": null,
   "metadata": {},
   "outputs": [],
   "source": [
    "c2 = ROOT.TCanvas(\"MCcompare\", \"MCcompare\")\n",
    "histMgenMC.Draw('e')\n",
    "histMdetMC.Draw('e same')\n",
    "c2.Draw()"
   ]
  },
  {
   "cell_type": "markdown",
   "metadata": {
    "collapsed": true
   },
   "source": [
    "#### In Data:"
   ]
  },
  {
   "cell_type": "code",
   "execution_count": null,
   "metadata": {},
   "outputs": [],
   "source": [
    "c3 = ROOT.TCanvas(\"datadists\", \"datadists\")\n",
    "histMgenData.Draw('e')\n",
    "histMdetData.Draw('e same')\n",
    "c3.Draw()"
   ]
  },
  {
   "cell_type": "code",
   "execution_count": null,
   "metadata": {},
   "outputs": [],
   "source": [
    "print 'getting tunfolder:'\n",
    "tunfolder = ROOT.TUnfoldDensity(response,ROOT.TUnfold.kHistMapOutputVert,ROOT.TUnfold.kRegModeCurvature, ROOT.TUnfold.kEConstraintNone, ROOT.TUnfoldDensity.kDensityModeBinWidth)"
   ]
  },
  {
   "cell_type": "markdown",
   "metadata": {
    "collapsed": true
   },
   "source": [
    "Set the input, a 1D reconstructed histogram from either MC (closure) or Data (measurement) , binned in the detector level binning."
   ]
  },
  {
   "cell_type": "code",
   "execution_count": null,
   "metadata": {},
   "outputs": [],
   "source": [
    "print 'setting reco input'\n",
    "tunfolder.SetInput( histMdetData )"
   ]
  },
  {
   "cell_type": "markdown",
   "metadata": {},
   "source": [
    "Unfold nScan times with values for the regularization parameter between tauMin and tauMax using the empty TSplines to store the results."
   ]
  },
  {
   "cell_type": "code",
   "execution_count": null,
   "metadata": {},
   "outputs": [],
   "source": [
    "print 'regularizing'\n",
    "nScan=10\n",
    "tauMin=0.0\n",
    "tauMax=0.0\n",
    "iBest=0\n",
    "\n",
    "logTauX = ROOT.MakeNullPointer(ROOT.TSpline)\n",
    "logTauY = ROOT.MakeNullPointer(ROOT.TSpline)\n",
    "lCurve = ROOT.MakeNullPointer(ROOT.TGraph)\n",
    "\n",
    "print 'doing the unfolding'\n",
    "tunfolder.ScanLcurve(nScan,tauMin,tauMax,lCurve,logTauX,logTauY);\n",
    "print 'getting the results'\n",
    "unfolded = tunfolder.GetOutput(\"unfolded\")"
   ]
  },
  {
   "cell_type": "code",
   "execution_count": null,
   "metadata": {},
   "outputs": [],
   "source": []
  },
  {
   "cell_type": "code",
   "execution_count": null,
   "metadata": {},
   "outputs": [],
   "source": [
    "c5 = ROOT.TCanvas('c5', 'c5')\n",
    "unfolded.SetMarkerStyle(22)\n",
    "unfolded.SetMarkerColor(4)\n",
    "unfolded.SetFillColor(0)\n",
    "histMgenData.SetMarkerStyle(21)\n",
    "histMgenData.SetMarkerColor(2)\n",
    "\n",
    "hs = ROOT.THStack(\"hs\", \"hs\")\n",
    "hs.Add( histMgenData, \"hist\")\n",
    "hs.Add( unfolded, \"e\")\n",
    "hs.Draw(\"nostack\")\n",
    "c5.Draw()"
   ]
  },
  {
   "cell_type": "code",
   "execution_count": null,
   "metadata": {},
   "outputs": [],
   "source": []
  },
  {
   "cell_type": "markdown",
   "metadata": {},
   "source": [
    "# Unfold $\\tau_3^{(2)}$"
   ]
  },
  {
   "cell_type": "markdown",
   "metadata": {},
   "source": [
    "#### Below the input Monte Carlo simulation events are read from the file which only contains events meeting the skim criteria set forth in this __[script](https://github.com/kaustuvdatta/jetObservables/blob/102X/python/nSubProducer_gen_reco.py)__\n"
   ]
  },
  {
   "cell_type": "raw",
   "metadata": {},
   "source": [
    "\n",
    "ROOT.TH1.SetDefaultSumw2()\n",
    "f = ROOT.TFile('../AutoObs/CMS/New_Sel/TT_unfold/1/jetObservables_nanoskim_10.root')\n",
    "t = f.Get(\"Events\")"
   ]
  },
  {
   "cell_type": "markdown",
   "metadata": {
    "collapsed": true
   },
   "source": [
    "#### Set the axis ranges for the generator nd detector level distributions as well as the number of bins in each. Note that we want twice as many detector bins as generator level bins as recommended by the TUnfold documenation "
   ]
  },
  {
   "cell_type": "markdown",
   "metadata": {
    "collapsed": true
   },
   "source": [
    "Get the response matrix and input 1D distributions for unfolding."
   ]
  },
  {
   "cell_type": "code",
   "execution_count": null,
   "metadata": {},
   "outputs": [],
   "source": [
    "print np.min(TT16gen_nSub_basis[:,8])\n",
    "print np.min(TT16reco_nSub_basis[:,8])\n",
    "print np.max(TT16gen_nSub_basis[:,8])\n",
    "print np.max(TT16reco_nSub_basis[:,8])"
   ]
  },
  {
   "cell_type": "code",
   "execution_count": null,
   "metadata": {},
   "outputs": [],
   "source": [
    "nDet=32\n",
    "nGen=16\n",
    "xminDet=0.0\n",
    "xmaxDet=0.16\n",
    "xminGen=0.0\n",
    "xmaxGen=0.16\n",
    "#weight_TT16 = (831.76*lumi*1000.)/10199051.*np.ones(TT16_beta4W.shape[0])*TT16_puWeight*TT16_btagWeight*0.8\n"
   ]
  },
  {
   "cell_type": "code",
   "execution_count": null,
   "metadata": {},
   "outputs": [],
   "source": [
    "ROOT.TH1.SetDefaultSumw2()\n",
    "from root_numpy import *\n",
    "\n",
    "histMgenMC = ROOT.TH1D(\"histMgenMC\", \"histMgenMC; #tau_{3}^{2}; Events/(0.02)\", nGen, xminGen,xmaxGen)\n",
    "fill_hist(histMgenMC, TT16gen_nSub_basis[:,8])\n",
    "\n",
    "histMdetMC = ROOT.TH1D(\"histMdetMC\", \"histMdetMC; #tau_{3}^{2}; Events/(0.02)\", nDet, xminDet,xmaxDet)\n",
    "fill_hist(histMdetMC, TT16reco_nSub_basis[:,8])\n",
    "\n",
    "histMgenData = ROOT.TH1D(\"histMgenData\", \"histMgenData; #tau_{3}^{2}; Events/(0.02)\", nGen, xminGen,xmaxGen)\n",
    "fill_hist(histMgenData, TT16truth_nSub_basis[:,8])\n",
    "\n",
    "histMdetData = ROOT.TH1D(\"histMdetData\", \"histMdetData; #tau_{3}^{2}; Events/(0.02)\", nDet, xminDet,xmaxDet)\n",
    "fill_hist(histMdetData, TT16data_nSub_basis[:,8])\n",
    "\n",
    "\n",
    "response = ROOT.TH2D('response', 'response', nDet, xminDet, xmaxDet, nGen, xminGen, xmaxGen)\n",
    "hist2Dfill = np.zeros((TT16reco_nSub_basis[:,8].shape[0], 2))\n",
    "hist2Dfill[:,0] = TT16reco_nSub_basis[:,8].flatten()\n",
    "hist2Dfill[:,1] = TT16gen_nSub_basis[:,8].flatten()\n",
    "fill_hist(response, hist2Dfill)"
   ]
  },
  {
   "cell_type": "raw",
   "metadata": {},
   "source": [
    "xaxis =  array.array('d',[a for a in xrange(nmbinsGen *nptbinsGen + 1 )])\n",
    "nx = len(xaxis)-1\n",
    "\n",
    "print xaxis\n",
    "\n",
    "yaxis =  array.array('d',[a for a in xrange(nmbinsDet *nptbinsDet+1 )])\n",
    "ny = len(yaxis)-1\n",
    "\n",
    "print yaxis\n",
    "\n",
    "h_response = ROOT.TH2D('h_response',   'h_response', nx , xaxis, ny, yaxis )\n",
    "#print h_response2.GetXaxis.GetNbins()\n",
    "print nx\n",
    "print ny\n",
    "nb = nx*ny\n",
    "print nb"
   ]
  },
  {
   "cell_type": "raw",
   "metadata": {
    "collapsed": true
   },
   "source": [
    "response =ROOT.gDirectory.Get(\"response\")\n",
    "histMgenMC=ROOT.gDirectory.Get(\"histMgenMC\")\n",
    "histMdetMC=ROOT.gDirectory.Get(\"histMdetMC\")\n",
    "histMgenData=ROOT.gDirectory.Get(\"histMgenData\")\n",
    "histMdetData=ROOT.gDirectory.Get(\"histMdetData\")"
   ]
  },
  {
   "cell_type": "markdown",
   "metadata": {
    "collapsed": true
   },
   "source": [
    "Set the X and Y axis labels"
   ]
  },
  {
   "cell_type": "code",
   "execution_count": null,
   "metadata": {},
   "outputs": [],
   "source": [
    "response.SetTitle(\";#tau_{3}^{2}(det);#tau_{3}^{2}(gen)\")\n",
    "\n",
    "\n",
    "histMgenMC.SetTitle(\";#tau_{3}^{2}(gen)\")\n",
    "#histMgenMC.SetFillColor(ROOT.kRed)\n",
    "#histMgenMC.SetLineColor(ROOT.kRed)\n",
    "\n",
    "histMdetMC.SetTitle(\";#tau_{3}^{2}(det)\")\n",
    "#histMdetMC.SetFillColor(ROOT.kBlue)\n",
    "#histMdetMC.SetLineColor(ROOT.kBlue)\n",
    "\n",
    "\n",
    "histMgenData.SetTitle(\";#tau_{3}^{2}(gen)\")\n",
    "#histMgenData.SetFillColor(ROOT.kGreen+2)\n",
    "#histMgenData.SetLineColor(ROOT.kGreen+2)\n",
    "\n",
    "histMdetData.SetTitle(\";#tau_{3}^{2}(det)\")\n",
    "#histMdetData.SetFillColor(ROOT.kBlack)\n",
    "#histMdetData.SetLineColor(ROOT.kBlack)"
   ]
  },
  {
   "cell_type": "markdown",
   "metadata": {
    "collapsed": true
   },
   "source": [
    "Draw the variables at reco and gen level and for \"data\""
   ]
  },
  {
   "cell_type": "code",
   "execution_count": null,
   "metadata": {},
   "outputs": [],
   "source": [
    "c1 = ROOT.TCanvas(\"chistMgenMC1\", \"chistMgenMC1\")\n",
    "histMgenMC.Draw(\"e\")\n",
    "histMdetMC.Draw(\"e same\")\n",
    "c1.Draw()"
   ]
  },
  {
   "cell_type": "code",
   "execution_count": null,
   "metadata": {},
   "outputs": [],
   "source": [
    "c1 = ROOT.TCanvas(\"chistMgenMC1\", \"chistMgenMC1\")\n",
    "histMgenData.Draw(\"e\")\n",
    "histMdetData.Draw(\"e same\")\n",
    "c1.Draw()"
   ]
  },
  {
   "cell_type": "markdown",
   "metadata": {
    "collapsed": true
   },
   "source": [
    "Draw the response matrix."
   ]
  },
  {
   "cell_type": "code",
   "execution_count": null,
   "metadata": {
    "scrolled": false
   },
   "outputs": [],
   "source": [
    "c1 = ROOT.TCanvas(\"cresponse1\", \"cresponse1\")\n",
    "response.Draw(\"colz\")\n",
    "c1.Draw()"
   ]
  },
  {
   "cell_type": "code",
   "execution_count": null,
   "metadata": {},
   "outputs": [],
   "source": [
    "#### In MC :"
   ]
  },
  {
   "cell_type": "code",
   "execution_count": null,
   "metadata": {},
   "outputs": [],
   "source": [
    "c2 = ROOT.TCanvas(\"MCcompare\", \"MCcompare\")\n",
    "histMgenMC.Draw('e')\n",
    "histMdetMC.Draw('e same')\n",
    "c2.Draw()"
   ]
  },
  {
   "cell_type": "markdown",
   "metadata": {
    "collapsed": true
   },
   "source": [
    "#### In Data:"
   ]
  },
  {
   "cell_type": "code",
   "execution_count": null,
   "metadata": {},
   "outputs": [],
   "source": [
    "c3 = ROOT.TCanvas(\"datadists\", \"datadists\")\n",
    "histMgenData.Draw('e')\n",
    "histMdetData.Draw('e same')\n",
    "c3.Draw()"
   ]
  },
  {
   "cell_type": "code",
   "execution_count": null,
   "metadata": {},
   "outputs": [],
   "source": [
    "print 'getting tunfolder:'\n",
    "tunfolder = ROOT.TUnfoldDensity(response,ROOT.TUnfold.kHistMapOutputVert,ROOT.TUnfold.kRegModeCurvature, ROOT.TUnfold.kEConstraintNone, ROOT.TUnfoldDensity.kDensityModeBinWidth)"
   ]
  },
  {
   "cell_type": "markdown",
   "metadata": {
    "collapsed": true
   },
   "source": [
    "Set the input, a 1D reconstructed histogram from either MC (closure) or Data (measurement) , binned in the detector level binning."
   ]
  },
  {
   "cell_type": "code",
   "execution_count": null,
   "metadata": {},
   "outputs": [],
   "source": [
    "print 'setting reco input'\n",
    "tunfolder.SetInput( histMdetData )"
   ]
  },
  {
   "cell_type": "markdown",
   "metadata": {},
   "source": [
    "Unfold nScan times with values for the regularization parameter between tauMin and tauMax using the empty TSplines to store the results."
   ]
  },
  {
   "cell_type": "code",
   "execution_count": null,
   "metadata": {},
   "outputs": [],
   "source": [
    "print 'regularizing'\n",
    "nScan=10\n",
    "tauMin=0.0\n",
    "tauMax=0.0\n",
    "iBest=0\n",
    "\n",
    "logTauX = ROOT.MakeNullPointer(ROOT.TSpline)\n",
    "logTauY = ROOT.MakeNullPointer(ROOT.TSpline)\n",
    "lCurve = ROOT.MakeNullPointer(ROOT.TGraph)\n",
    "\n",
    "print 'doing the unfolding'\n",
    "tunfolder.ScanLcurve(nScan,tauMin,tauMax,lCurve,logTauX,logTauY);\n",
    "print 'getting the results'\n",
    "unfolded = tunfolder.GetOutput(\"unfolded\")"
   ]
  },
  {
   "cell_type": "code",
   "execution_count": null,
   "metadata": {},
   "outputs": [],
   "source": []
  },
  {
   "cell_type": "code",
   "execution_count": null,
   "metadata": {},
   "outputs": [],
   "source": [
    "c5 = ROOT.TCanvas('c5', 'c5')\n",
    "unfolded.SetMarkerStyle(22)\n",
    "unfolded.SetMarkerColor(4)\n",
    "unfolded.SetFillColor(0)\n",
    "histMgenData.SetMarkerStyle(21)\n",
    "histMgenData.SetMarkerColor(2)\n",
    "\n",
    "hs = ROOT.THStack(\"hs\", \"hs\")\n",
    "hs.Add( histMgenData, \"hist\")\n",
    "hs.Add( unfolded, \"e\")\n",
    "hs.Draw(\"nostack\")\n",
    "c5.Draw()"
   ]
  },
  {
   "cell_type": "code",
   "execution_count": null,
   "metadata": {},
   "outputs": [],
   "source": []
  },
  {
   "cell_type": "code",
   "execution_count": null,
   "metadata": {},
   "outputs": [],
   "source": []
  },
  {
   "cell_type": "markdown",
   "metadata": {},
   "source": [
    "# Unfold $\\tau_4^{(0.5)}$"
   ]
  },
  {
   "cell_type": "markdown",
   "metadata": {},
   "source": [
    "#### Below the input Monte Carlo simulation events are read from the file which only contains events meeting the skim criteria set forth in this __[script](https://github.com/kaustuvdatta/jetObservables/blob/102X/python/nSubProducer_gen_reco.py)__\n"
   ]
  },
  {
   "cell_type": "raw",
   "metadata": {},
   "source": [
    "\n",
    "ROOT.TH1.SetDefaultSumw2()\n",
    "f = ROOT.TFile('../AutoObs/CMS/New_Sel/TT_unfold/1/jetObservables_nanoskim_10.root')\n",
    "t = f.Get(\"Events\")"
   ]
  },
  {
   "cell_type": "markdown",
   "metadata": {
    "collapsed": true
   },
   "source": [
    "#### Set the axis ranges for the generator nd detector level distributions as well as the number of bins in each. Note that we want twice as many detector bins as generator level bins as recommended by the TUnfold documenation "
   ]
  },
  {
   "cell_type": "markdown",
   "metadata": {
    "collapsed": true
   },
   "source": [
    "Get the response matrix and input 1D distributions for unfolding."
   ]
  },
  {
   "cell_type": "code",
   "execution_count": null,
   "metadata": {},
   "outputs": [],
   "source": [
    "print np.min(TT16gen_nSub_basis[:,9])\n",
    "print np.min(TT16reco_nSub_basis[:,9])\n",
    "print np.max(TT16gen_nSub_basis[:,9])\n",
    "print np.max(TT16reco_nSub_basis[:,9])"
   ]
  },
  {
   "cell_type": "code",
   "execution_count": null,
   "metadata": {},
   "outputs": [],
   "source": [
    "nDet=28\n",
    "nGen=14\n",
    "xminDet=0.0\n",
    "xmaxDet=0.56\n",
    "xminGen=0.0\n",
    "xmaxGen=0.56\n",
    "#weight_TT16 = (831.76*lumi*1000.)/10199051.*np.ones(TT16_beta4W.shape[0])*TT16_puWeight*TT16_btagWeight*0.8\n"
   ]
  },
  {
   "cell_type": "code",
   "execution_count": null,
   "metadata": {},
   "outputs": [],
   "source": [
    "ROOT.TH1.SetDefaultSumw2()\n",
    "from root_numpy import *\n",
    "\n",
    "histMgenMC = ROOT.TH1D(\"histMgenMC\", \"histMgenMC; #tau_{4}^{0.5}; Events/(0.02)\", nGen, xminGen,xmaxGen)\n",
    "fill_hist(histMgenMC, TT16gen_nSub_basis[:,9])\n",
    "\n",
    "histMdetMC = ROOT.TH1D(\"histMdetMC\", \"histMdetMC; #tau_{4}^{0.5}; Events/(0.02)\", nDet, xminDet,xmaxDet)\n",
    "fill_hist(histMdetMC, TT16reco_nSub_basis[:,9])\n",
    "\n",
    "histMgenData = ROOT.TH1D(\"histMgenData\", \"histMgenData; #tau_{4}^{0.5}; Events/(0.02)\", nGen, xminGen,xmaxGen)\n",
    "fill_hist(histMgenData, TT16truth_nSub_basis[:,9])\n",
    "\n",
    "histMdetData = ROOT.TH1D(\"histMdetData\", \"histMdetData; #tau_{4}^{0.5}; Events/(0.02)\", nDet, xminDet,xmaxDet)\n",
    "fill_hist(histMdetData, TT16data_nSub_basis[:,9])\n",
    "\n",
    "\n",
    "response = ROOT.TH2D('response', 'response', nDet, xminDet, xmaxDet, nGen, xminGen, xmaxGen)\n",
    "hist2Dfill = np.zeros((TT16reco_nSub_basis[:,9].shape[0], 2))\n",
    "hist2Dfill[:,0] = TT16reco_nSub_basis[:,9].flatten()\n",
    "hist2Dfill[:,1] = TT16gen_nSub_basis[:,9].flatten()\n",
    "fill_hist(response, hist2Dfill)"
   ]
  },
  {
   "cell_type": "raw",
   "metadata": {},
   "source": [
    "xaxis =  array.array('d',[a for a in xrange(nmbinsGen *nptbinsGen + 1 )])\n",
    "nx = len(xaxis)-1\n",
    "\n",
    "print xaxis\n",
    "\n",
    "yaxis =  array.array('d',[a for a in xrange(nmbinsDet *nptbinsDet+1 )])\n",
    "ny = len(yaxis)-1\n",
    "\n",
    "print yaxis\n",
    "\n",
    "h_response = ROOT.TH2D('h_response',   'h_response', nx , xaxis, ny, yaxis )\n",
    "#print h_response2.GetXaxis.GetNbins()\n",
    "print nx\n",
    "print ny\n",
    "nb = nx*ny\n",
    "print nb"
   ]
  },
  {
   "cell_type": "raw",
   "metadata": {
    "collapsed": true
   },
   "source": [
    "response =ROOT.gDirectory.Get(\"response\")\n",
    "histMgenMC=ROOT.gDirectory.Get(\"histMgenMC\")\n",
    "histMdetMC=ROOT.gDirectory.Get(\"histMdetMC\")\n",
    "histMgenData=ROOT.gDirectory.Get(\"histMgenData\")\n",
    "histMdetData=ROOT.gDirectory.Get(\"histMdetData\")"
   ]
  },
  {
   "cell_type": "markdown",
   "metadata": {
    "collapsed": true
   },
   "source": [
    "Set the X and Y axis labels"
   ]
  },
  {
   "cell_type": "code",
   "execution_count": null,
   "metadata": {},
   "outputs": [],
   "source": [
    "response.SetTitle(\";#tau_{4}^{0.5}(det);#tau_{4}^{0.5}(gen)\")\n",
    "\n",
    "\n",
    "histMgenMC.SetTitle(\";#tau_{4}^{0.5}(gen)\")\n",
    "#histMgenMC.SetFillColor(ROOT.kRed)\n",
    "#histMgenMC.SetLineColor(ROOT.kRed)\n",
    "\n",
    "histMdetMC.SetTitle(\";#tau_{4}^{0.5}(det)\")\n",
    "#histMdetMC.SetFillColor(ROOT.kBlue)\n",
    "#histMdetMC.SetLineColor(ROOT.kBlue)\n",
    "\n",
    "\n",
    "histMgenData.SetTitle(\";#tau_{4}^{0.5}(gen)\")\n",
    "#histMgenData.SetFillColor(ROOT.kGreen+2)\n",
    "#histMgenData.SetLineColor(ROOT.kGreen+2)\n",
    "\n",
    "histMdetData.SetTitle(\";#tau_{4}^{0.5}(det)\")\n",
    "#histMdetData.SetFillColor(ROOT.kBlack)\n",
    "#histMdetData.SetLineColor(ROOT.kBlack)"
   ]
  },
  {
   "cell_type": "markdown",
   "metadata": {
    "collapsed": true
   },
   "source": [
    "Draw the variables at reco and gen level and for \"data\""
   ]
  },
  {
   "cell_type": "code",
   "execution_count": null,
   "metadata": {},
   "outputs": [],
   "source": [
    "c1 = ROOT.TCanvas(\"chistMgenMC1\", \"chistMgenMC1\")\n",
    "histMgenMC.Draw(\"e\")\n",
    "histMdetMC.Draw(\"e same\")\n",
    "c1.Draw()"
   ]
  },
  {
   "cell_type": "code",
   "execution_count": null,
   "metadata": {},
   "outputs": [],
   "source": [
    "c1 = ROOT.TCanvas(\"chistMgenMC1\", \"chistMgenMC1\")\n",
    "histMgenData.Draw(\"e\")\n",
    "histMdetData.Draw(\"e same\")\n",
    "c1.Draw()"
   ]
  },
  {
   "cell_type": "markdown",
   "metadata": {
    "collapsed": true
   },
   "source": [
    "Draw the response matrix."
   ]
  },
  {
   "cell_type": "code",
   "execution_count": null,
   "metadata": {
    "scrolled": false
   },
   "outputs": [],
   "source": [
    "c1 = ROOT.TCanvas(\"cresponse1\", \"cresponse1\")\n",
    "response.Draw(\"colz\")\n",
    "c1.Draw()"
   ]
  },
  {
   "cell_type": "code",
   "execution_count": null,
   "metadata": {},
   "outputs": [],
   "source": [
    "#### In MC :"
   ]
  },
  {
   "cell_type": "code",
   "execution_count": null,
   "metadata": {},
   "outputs": [],
   "source": [
    "c2 = ROOT.TCanvas(\"MCcompare\", \"MCcompare\")\n",
    "histMgenMC.Draw('e')\n",
    "histMdetMC.Draw('e same')\n",
    "c2.Draw()"
   ]
  },
  {
   "cell_type": "markdown",
   "metadata": {
    "collapsed": true
   },
   "source": [
    "#### In Data:"
   ]
  },
  {
   "cell_type": "code",
   "execution_count": null,
   "metadata": {},
   "outputs": [],
   "source": [
    "c3 = ROOT.TCanvas(\"datadists\", \"datadists\")\n",
    "histMgenData.Draw('e')\n",
    "histMdetData.Draw('e same')\n",
    "c3.Draw()"
   ]
  },
  {
   "cell_type": "code",
   "execution_count": null,
   "metadata": {},
   "outputs": [],
   "source": [
    "print 'getting tunfolder:'\n",
    "tunfolder = ROOT.TUnfoldDensity(response,ROOT.TUnfold.kHistMapOutputVert,ROOT.TUnfold.kRegModeCurvature, ROOT.TUnfold.kEConstraintNone, ROOT.TUnfoldDensity.kDensityModeBinWidth)"
   ]
  },
  {
   "cell_type": "markdown",
   "metadata": {
    "collapsed": true
   },
   "source": [
    "Set the input, a 1D reconstructed histogram from either MC (closure) or Data (measurement) , binned in the detector level binning."
   ]
  },
  {
   "cell_type": "code",
   "execution_count": null,
   "metadata": {},
   "outputs": [],
   "source": [
    "print 'setting reco input'\n",
    "tunfolder.SetInput( histMdetData )"
   ]
  },
  {
   "cell_type": "markdown",
   "metadata": {},
   "source": [
    "Unfold nScan times with values for the regularization parameter between tauMin and tauMax using the empty TSplines to store the results."
   ]
  },
  {
   "cell_type": "code",
   "execution_count": null,
   "metadata": {},
   "outputs": [],
   "source": [
    "print 'regularizing'\n",
    "nScan=50\n",
    "tauMin=0.0\n",
    "tauMax=0.0\n",
    "iBest=0\n",
    "\n",
    "logTauX = ROOT.MakeNullPointer(ROOT.TSpline)\n",
    "logTauY = ROOT.MakeNullPointer(ROOT.TSpline)\n",
    "lCurve = ROOT.MakeNullPointer(ROOT.TGraph)\n",
    "\n",
    "print 'doing the unfolding'\n",
    "tunfolder.ScanLcurve(nScan,tauMin,tauMax,lCurve,logTauX,logTauY);\n",
    "print 'getting the results'\n",
    "unfolded = tunfolder.GetOutput(\"unfolded\")"
   ]
  },
  {
   "cell_type": "code",
   "execution_count": null,
   "metadata": {},
   "outputs": [],
   "source": []
  },
  {
   "cell_type": "code",
   "execution_count": null,
   "metadata": {},
   "outputs": [],
   "source": [
    "c5 = ROOT.TCanvas('c5', 'c5')\n",
    "unfolded.SetMarkerStyle(22)\n",
    "unfolded.SetMarkerColor(4)\n",
    "unfolded.SetFillColor(0)\n",
    "histMgenData.SetMarkerStyle(21)\n",
    "histMgenData.SetMarkerColor(2)\n",
    "\n",
    "hs = ROOT.THStack(\"hs\", \"hs\")\n",
    "hs.Add( histMgenData, \"hist\")\n",
    "hs.Add( unfolded, \"e\")\n",
    "hs.Draw(\"nostack\")\n",
    "c5.Draw()"
   ]
  },
  {
   "cell_type": "code",
   "execution_count": null,
   "metadata": {},
   "outputs": [],
   "source": []
  },
  {
   "cell_type": "markdown",
   "metadata": {},
   "source": [
    "# Unfold $\\tau_4^{(1)}$"
   ]
  },
  {
   "cell_type": "markdown",
   "metadata": {},
   "source": [
    "#### Below the input Monte Carlo simulation events are read from the file which only contains events meeting the skim criteria set forth in this __[script](https://github.com/kaustuvdatta/jetObservables/blob/102X/python/nSubProducer_gen_reco.py)__\n"
   ]
  },
  {
   "cell_type": "raw",
   "metadata": {},
   "source": [
    "\n",
    "ROOT.TH1.SetDefaultSumw2()\n",
    "f = ROOT.TFile('../AutoObs/CMS/New_Sel/TT_unfold/1/jetObservables_nanoskim_10.root')\n",
    "t = f.Get(\"Events\")"
   ]
  },
  {
   "cell_type": "markdown",
   "metadata": {
    "collapsed": true
   },
   "source": [
    "#### Set the axis ranges for the generator nd detector level distributions as well as the number of bins in each. Note that we want twice as many detector bins as generator level bins as recommended by the TUnfold documenation "
   ]
  },
  {
   "cell_type": "markdown",
   "metadata": {
    "collapsed": true
   },
   "source": [
    "Get the response matrix and input 1D distributions for unfolding."
   ]
  },
  {
   "cell_type": "code",
   "execution_count": null,
   "metadata": {},
   "outputs": [],
   "source": [
    "print np.min(TT16gen_nSub_basis[:,10])\n",
    "print np.min(TT16reco_nSub_basis[:,10])\n",
    "print np.max(TT16gen_nSub_basis[:,10])\n",
    "print np.max(TT16reco_nSub_basis[:,10])"
   ]
  },
  {
   "cell_type": "code",
   "execution_count": null,
   "metadata": {},
   "outputs": [],
   "source": [
    "nDet=50\n",
    "nGen=25\n",
    "xminDet=0.0\n",
    "xmaxDet=0.3\n",
    "xminGen=0.0\n",
    "xmaxGen=0.3\n",
    "#weight_TT16 = (831.76*lumi*1000.)/10199051.*np.ones(TT16_beta4W.shape[0])*TT16_puWeight*TT16_btagWeight*0.8\n"
   ]
  },
  {
   "cell_type": "code",
   "execution_count": null,
   "metadata": {},
   "outputs": [],
   "source": [
    "ROOT.TH1.SetDefaultSumw2()\n",
    "from root_numpy import *\n",
    "\n",
    "histMgenMC = ROOT.TH1D(\"histMgenMC\", \"histMgenMC; #tau_{4}^{1}; Events/(0.02)\", nGen, xminGen,xmaxGen)\n",
    "fill_hist(histMgenMC, TT16gen_nSub_basis[:,10])\n",
    "\n",
    "histMdetMC = ROOT.TH1D(\"histMdetMC\", \"histMdetMC; #tau_{4}^{1}; Events/(0.02)\", nDet, xminDet,xmaxDet)\n",
    "fill_hist(histMdetMC, TT16reco_nSub_basis[:,10])\n",
    "\n",
    "histMgenData = ROOT.TH1D(\"histMgenData\", \"histMgenData; #tau_{4}^{1}; Events/(0.02)\", nGen, xminGen,xmaxGen)\n",
    "fill_hist(histMgenData, TT16truth_nSub_basis[:,10])\n",
    "\n",
    "histMdetData = ROOT.TH1D(\"histMdetData\", \"histMdetData; #tau_{4}^{1}; Events/(0.02)\", nDet, xminDet,xmaxDet)\n",
    "fill_hist(histMdetData, TT16data_nSub_basis[:,10])\n",
    "\n",
    "\n",
    "response = ROOT.TH2D('response', 'response', nDet, xminDet, xmaxDet, nGen, xminGen, xmaxGen)\n",
    "hist2Dfill = np.zeros((TT16reco_nSub_basis[:,10].shape[0], 2))\n",
    "hist2Dfill[:,0] = TT16reco_nSub_basis[:,10].flatten()\n",
    "hist2Dfill[:,1] = TT16gen_nSub_basis[:,10].flatten()\n",
    "fill_hist(response, hist2Dfill)"
   ]
  },
  {
   "cell_type": "raw",
   "metadata": {},
   "source": [
    "xaxis =  array.array('d',[a for a in xrange(nmbinsGen *nptbinsGen + 1 )])\n",
    "nx = len(xaxis)-1\n",
    "\n",
    "print xaxis\n",
    "\n",
    "yaxis =  array.array('d',[a for a in xrange(nmbinsDet *nptbinsDet+1 )])\n",
    "ny = len(yaxis)-1\n",
    "\n",
    "print yaxis\n",
    "\n",
    "h_response = ROOT.TH2D('h_response',   'h_response', nx , xaxis, ny, yaxis )\n",
    "#print h_response2.GetXaxis.GetNbins()\n",
    "print nx\n",
    "print ny\n",
    "nb = nx*ny\n",
    "print nb"
   ]
  },
  {
   "cell_type": "raw",
   "metadata": {
    "collapsed": true
   },
   "source": [
    "response =ROOT.gDirectory.Get(\"response\")\n",
    "histMgenMC=ROOT.gDirectory.Get(\"histMgenMC\")\n",
    "histMdetMC=ROOT.gDirectory.Get(\"histMdetMC\")\n",
    "histMgenData=ROOT.gDirectory.Get(\"histMgenData\")\n",
    "histMdetData=ROOT.gDirectory.Get(\"histMdetData\")"
   ]
  },
  {
   "cell_type": "markdown",
   "metadata": {
    "collapsed": true
   },
   "source": [
    "Set the X and Y axis labels"
   ]
  },
  {
   "cell_type": "code",
   "execution_count": null,
   "metadata": {},
   "outputs": [],
   "source": [
    "response.SetTitle(\";#tau_{4}^{1}(det);#tau_{4}^{1}(gen)\")\n",
    "\n",
    "\n",
    "histMgenMC.SetTitle(\";#tau_{4}^{1}(gen)\")\n",
    "#histMgenMC.SetFillColor(ROOT.kRed)\n",
    "#histMgenMC.SetLineColor(ROOT.kRed)\n",
    "\n",
    "histMdetMC.SetTitle(\";#tau_{4}^{1}(det)\")\n",
    "#histMdetMC.SetFillColor(ROOT.kBlue)\n",
    "#histMdetMC.SetLineColor(ROOT.kBlue)\n",
    "\n",
    "\n",
    "histMgenData.SetTitle(\";#tau_{4}^{1}(gen)\")\n",
    "#histMgenData.SetFillColor(ROOT.kGreen+2)\n",
    "#histMgenData.SetLineColor(ROOT.kGreen+2)\n",
    "\n",
    "histMdetData.SetTitle(\";#tau_{4}^{1}(det)\")\n",
    "#histMdetData.SetFillColor(ROOT.kBlack)\n",
    "#histMdetData.SetLineColor(ROOT.kBlack)"
   ]
  },
  {
   "cell_type": "markdown",
   "metadata": {
    "collapsed": true
   },
   "source": [
    "Draw the variables at reco and gen level and for \"data\""
   ]
  },
  {
   "cell_type": "code",
   "execution_count": null,
   "metadata": {},
   "outputs": [],
   "source": [
    "c1 = ROOT.TCanvas(\"chistMgenMC1\", \"chistMgenMC1\")\n",
    "histMgenMC.Draw(\"e\")\n",
    "histMdetMC.Draw(\"e same\")\n",
    "c1.Draw()"
   ]
  },
  {
   "cell_type": "code",
   "execution_count": null,
   "metadata": {},
   "outputs": [],
   "source": [
    "c1 = ROOT.TCanvas(\"chistMgenMC1\", \"chistMgenMC1\")\n",
    "histMgenData.Draw(\"e\")\n",
    "histMdetData.Draw(\"e same\")\n",
    "c1.Draw()"
   ]
  },
  {
   "cell_type": "markdown",
   "metadata": {
    "collapsed": true
   },
   "source": [
    "Draw the response matrix."
   ]
  },
  {
   "cell_type": "code",
   "execution_count": null,
   "metadata": {
    "scrolled": false
   },
   "outputs": [],
   "source": [
    "c1 = ROOT.TCanvas(\"cresponse1\", \"cresponse1\")\n",
    "response.Draw(\"colz\")\n",
    "c1.Draw()"
   ]
  },
  {
   "cell_type": "code",
   "execution_count": null,
   "metadata": {},
   "outputs": [],
   "source": [
    "#### In MC :"
   ]
  },
  {
   "cell_type": "code",
   "execution_count": null,
   "metadata": {},
   "outputs": [],
   "source": [
    "c2 = ROOT.TCanvas(\"MCcompare\", \"MCcompare\")\n",
    "histMgenMC.Draw('e')\n",
    "histMdetMC.Draw('e same')\n",
    "c2.Draw()"
   ]
  },
  {
   "cell_type": "markdown",
   "metadata": {
    "collapsed": true
   },
   "source": [
    "#### In Data:"
   ]
  },
  {
   "cell_type": "code",
   "execution_count": null,
   "metadata": {},
   "outputs": [],
   "source": [
    "c3 = ROOT.TCanvas(\"datadists\", \"datadists\")\n",
    "histMgenData.Draw('e')\n",
    "histMdetData.Draw('e same')\n",
    "c3.Draw()"
   ]
  },
  {
   "cell_type": "code",
   "execution_count": null,
   "metadata": {},
   "outputs": [],
   "source": [
    "print 'getting tunfolder:'\n",
    "tunfolder = ROOT.TUnfoldDensity(response,ROOT.TUnfold.kHistMapOutputVert,ROOT.TUnfold.kRegModeCurvature, ROOT.TUnfold.kEConstraintNone, ROOT.TUnfoldDensity.kDensityModeBinWidth)"
   ]
  },
  {
   "cell_type": "markdown",
   "metadata": {
    "collapsed": true
   },
   "source": [
    "Set the input, a 1D reconstructed histogram from either MC (closure) or Data (measurement) , binned in the detector level binning."
   ]
  },
  {
   "cell_type": "code",
   "execution_count": null,
   "metadata": {},
   "outputs": [],
   "source": [
    "print 'setting reco input'\n",
    "tunfolder.SetInput( histMdetData )"
   ]
  },
  {
   "cell_type": "markdown",
   "metadata": {},
   "source": [
    "Unfold nScan times with values for the regularization parameter between tauMin and tauMax using the empty TSplines to store the results."
   ]
  },
  {
   "cell_type": "code",
   "execution_count": null,
   "metadata": {},
   "outputs": [],
   "source": [
    "print 'regularizing'\n",
    "nScan=20\n",
    "tauMin=0.0\n",
    "tauMax=0.0\n",
    "iBest=0\n",
    "\n",
    "logTauX = ROOT.MakeNullPointer(ROOT.TSpline)\n",
    "logTauY = ROOT.MakeNullPointer(ROOT.TSpline)\n",
    "lCurve = ROOT.MakeNullPointer(ROOT.TGraph)\n",
    "\n",
    "print 'doing the unfolding'\n",
    "tunfolder.ScanLcurve(nScan,tauMin,tauMax,lCurve,logTauX,logTauY);\n",
    "print 'getting the results'\n",
    "unfolded = tunfolder.GetOutput(\"unfolded\")"
   ]
  },
  {
   "cell_type": "code",
   "execution_count": null,
   "metadata": {},
   "outputs": [],
   "source": []
  },
  {
   "cell_type": "code",
   "execution_count": null,
   "metadata": {},
   "outputs": [],
   "source": [
    "c5 = ROOT.TCanvas('c5', 'c5')\n",
    "unfolded.SetMarkerStyle(22)\n",
    "unfolded.SetMarkerColor(4)\n",
    "unfolded.SetFillColor(0)\n",
    "histMgenData.SetMarkerStyle(21)\n",
    "histMgenData.SetMarkerColor(2)\n",
    "\n",
    "hs = ROOT.THStack(\"hs\", \"hs\")\n",
    "hs.Add( histMgenData, \"hist\")\n",
    "hs.Add( unfolded, \"e\")\n",
    "hs.Draw(\"nostack\")\n",
    "c5.Draw()"
   ]
  },
  {
   "cell_type": "code",
   "execution_count": null,
   "metadata": {},
   "outputs": [],
   "source": []
  },
  {
   "cell_type": "markdown",
   "metadata": {},
   "source": [
    "# Unfold $\\tau_4^{(2)}$"
   ]
  },
  {
   "cell_type": "markdown",
   "metadata": {},
   "source": [
    "#### Below the input Monte Carlo simulation events are read from the file which only contains events meeting the skim criteria set forth in this __[script](https://github.com/kaustuvdatta/jetObservables/blob/102X/python/nSubProducer_gen_reco.py)__\n"
   ]
  },
  {
   "cell_type": "raw",
   "metadata": {},
   "source": [
    "\n",
    "ROOT.TH1.SetDefaultSumw2()\n",
    "f = ROOT.TFile('../AutoObs/CMS/New_Sel/TT_unfold/1/jetObservables_nanoskim_10.root')\n",
    "t = f.Get(\"Events\")"
   ]
  },
  {
   "cell_type": "markdown",
   "metadata": {
    "collapsed": true
   },
   "source": [
    "#### Set the axis ranges for the generator nd detector level distributions as well as the number of bins in each. Note that we want twice as many detector bins as generator level bins as recommended by the TUnfold documenation "
   ]
  },
  {
   "cell_type": "markdown",
   "metadata": {
    "collapsed": true
   },
   "source": [
    "Get the response matrix and input 1D distributions for unfolding."
   ]
  },
  {
   "cell_type": "code",
   "execution_count": null,
   "metadata": {},
   "outputs": [],
   "source": [
    "print np.min(TT16gen_nSub_basis[:,11])\n",
    "print np.min(TT16reco_nSub_basis[:,11])\n",
    "print np.max(TT16gen_nSub_basis[:,11])\n",
    "print np.max(TT16reco_nSub_basis[:,11])"
   ]
  },
  {
   "cell_type": "code",
   "execution_count": null,
   "metadata": {},
   "outputs": [],
   "source": [
    "nDet=30\n",
    "nGen=15\n",
    "xminDet=0.0\n",
    "xmaxDet=0.09\n",
    "xminGen=0.0\n",
    "xmaxGen=0.09\n",
    "#weight_TT16 = (831.76*lumi*1000.)/10199051.*np.ones(TT16_beta4W.shape[0])*TT16_puWeight*TT16_btagWeight*0.8\n"
   ]
  },
  {
   "cell_type": "code",
   "execution_count": null,
   "metadata": {},
   "outputs": [],
   "source": [
    "ROOT.TH1.SetDefaultSumw2()\n",
    "from root_numpy import *\n",
    "\n",
    "histMgenMC = ROOT.TH1D(\"histMgenMC\", \"histMgenMC; #tau_{4}^{2}; Events/(0.02)\", nGen, xminGen,xmaxGen)\n",
    "fill_hist(histMgenMC, TT16gen_nSub_basis[:,11])\n",
    "\n",
    "histMdetMC = ROOT.TH1D(\"histMdetMC\", \"histMdetMC; #tau_{4}^{2}; Events/(0.02)\", nDet, xminDet,xmaxDet)\n",
    "fill_hist(histMdetMC, TT16reco_nSub_basis[:,11])\n",
    "\n",
    "histMgenData = ROOT.TH1D(\"histMgenData\", \"histMgenData; #tau_{4}^{2}; Events/(0.02)\", nGen, xminGen,xmaxGen)\n",
    "fill_hist(histMgenData, TT16truth_nSub_basis[:,11])\n",
    "\n",
    "histMdetData = ROOT.TH1D(\"histMdetData\", \"histMdetData; #tau_{4}^{2}; Events/(0.02)\", nDet, xminDet,xmaxDet)\n",
    "fill_hist(histMdetData, TT16data_nSub_basis[:,11])\n",
    "\n",
    "\n",
    "response = ROOT.TH2D('response', 'response', nDet, xminDet, xmaxDet, nGen, xminGen, xmaxGen)\n",
    "hist2Dfill = np.zeros((TT16reco_nSub_basis[:,11].shape[0], 2))\n",
    "hist2Dfill[:,0] = TT16reco_nSub_basis[:,11].flatten()\n",
    "hist2Dfill[:,1] = TT16gen_nSub_basis[:,11].flatten()\n",
    "fill_hist(response, hist2Dfill)"
   ]
  },
  {
   "cell_type": "raw",
   "metadata": {},
   "source": [
    "xaxis =  array.array('d',[a for a in xrange(nmbinsGen *nptbinsGen + 1 )])\n",
    "nx = len(xaxis)-1\n",
    "\n",
    "print xaxis\n",
    "\n",
    "yaxis =  array.array('d',[a for a in xrange(nmbinsDet *nptbinsDet+1 )])\n",
    "ny = len(yaxis)-1\n",
    "\n",
    "print yaxis\n",
    "\n",
    "h_response = ROOT.TH2D('h_response',   'h_response', nx , xaxis, ny, yaxis )\n",
    "#print h_response2.GetXaxis.GetNbins()\n",
    "print nx\n",
    "print ny\n",
    "nb = nx*ny\n",
    "print nb"
   ]
  },
  {
   "cell_type": "raw",
   "metadata": {
    "collapsed": true
   },
   "source": [
    "response =ROOT.gDirectory.Get(\"response\")\n",
    "histMgenMC=ROOT.gDirectory.Get(\"histMgenMC\")\n",
    "histMdetMC=ROOT.gDirectory.Get(\"histMdetMC\")\n",
    "histMgenData=ROOT.gDirectory.Get(\"histMgenData\")\n",
    "histMdetData=ROOT.gDirectory.Get(\"histMdetData\")"
   ]
  },
  {
   "cell_type": "markdown",
   "metadata": {
    "collapsed": true
   },
   "source": [
    "Set the X and Y axis labels"
   ]
  },
  {
   "cell_type": "code",
   "execution_count": null,
   "metadata": {},
   "outputs": [],
   "source": [
    "response.SetTitle(\";#tau_{4}^{2}(det);#tau_{4}^{2}(gen)\")\n",
    "\n",
    "\n",
    "histMgenMC.SetTitle(\";#tau_{4}^{2}(gen)\")\n",
    "#histMgenMC.SetFillColor(ROOT.kRed)\n",
    "#histMgenMC.SetLineColor(ROOT.kRed)\n",
    "\n",
    "histMdetMC.SetTitle(\";#tau_{4}^{2}(det)\")\n",
    "#histMdetMC.SetFillColor(ROOT.kBlue)\n",
    "#histMdetMC.SetLineColor(ROOT.kBlue)\n",
    "\n",
    "\n",
    "histMgenData.SetTitle(\";#tau_{4}^{2}(gen)\")\n",
    "#histMgenData.SetFillColor(ROOT.kGreen+2)\n",
    "#histMgenData.SetLineColor(ROOT.kGreen+2)\n",
    "\n",
    "histMdetData.SetTitle(\";#tau_{4}^{2}(det)\")\n",
    "#histMdetData.SetFillColor(ROOT.kBlack)\n",
    "#histMdetData.SetLineColor(ROOT.kBlack)"
   ]
  },
  {
   "cell_type": "markdown",
   "metadata": {
    "collapsed": true
   },
   "source": [
    "Draw the variables at reco and gen level and for \"data\""
   ]
  },
  {
   "cell_type": "code",
   "execution_count": null,
   "metadata": {},
   "outputs": [],
   "source": [
    "c1 = ROOT.TCanvas(\"chistMgenMC1\", \"chistMgenMC1\")\n",
    "histMgenMC.Draw(\"e\")\n",
    "histMdetMC.Draw(\"e same\")\n",
    "c1.Draw()"
   ]
  },
  {
   "cell_type": "code",
   "execution_count": null,
   "metadata": {},
   "outputs": [],
   "source": [
    "c1 = ROOT.TCanvas(\"chistMgenMC1\", \"chistMgenMC1\")\n",
    "histMgenData.Draw(\"e\")\n",
    "histMdetData.Draw(\"e same\")\n",
    "c1.Draw()"
   ]
  },
  {
   "cell_type": "markdown",
   "metadata": {
    "collapsed": true
   },
   "source": [
    "Draw the response matrix."
   ]
  },
  {
   "cell_type": "code",
   "execution_count": null,
   "metadata": {
    "scrolled": false
   },
   "outputs": [],
   "source": [
    "c1 = ROOT.TCanvas(\"cresponse1\", \"cresponse1\")\n",
    "response.Draw(\"colz\")\n",
    "c1.Draw()"
   ]
  },
  {
   "cell_type": "code",
   "execution_count": null,
   "metadata": {},
   "outputs": [],
   "source": [
    "#### In MC :"
   ]
  },
  {
   "cell_type": "code",
   "execution_count": null,
   "metadata": {},
   "outputs": [],
   "source": [
    "c2 = ROOT.TCanvas(\"MCcompare\", \"MCcompare\")\n",
    "histMgenMC.Draw('e')\n",
    "histMdetMC.Draw('e same')\n",
    "c2.Draw()"
   ]
  },
  {
   "cell_type": "markdown",
   "metadata": {
    "collapsed": true
   },
   "source": [
    "#### In Data:"
   ]
  },
  {
   "cell_type": "code",
   "execution_count": null,
   "metadata": {},
   "outputs": [],
   "source": [
    "c3 = ROOT.TCanvas(\"datadists\", \"datadists\")\n",
    "histMgenData.Draw('e')\n",
    "histMdetData.Draw('e same')\n",
    "c3.Draw()"
   ]
  },
  {
   "cell_type": "code",
   "execution_count": null,
   "metadata": {},
   "outputs": [],
   "source": [
    "print 'getting tunfolder:'\n",
    "tunfolder = ROOT.TUnfoldDensity(response,ROOT.TUnfold.kHistMapOutputVert,ROOT.TUnfold.kRegModeCurvature, ROOT.TUnfold.kEConstraintNone, ROOT.TUnfoldDensity.kDensityModeBinWidth)"
   ]
  },
  {
   "cell_type": "markdown",
   "metadata": {
    "collapsed": true
   },
   "source": [
    "Set the input, a 1D reconstructed histogram from either MC (closure) or Data (measurement) , binned in the detector level binning."
   ]
  },
  {
   "cell_type": "code",
   "execution_count": null,
   "metadata": {},
   "outputs": [],
   "source": [
    "print 'setting reco input'\n",
    "tunfolder.SetInput( histMdetData )"
   ]
  },
  {
   "cell_type": "markdown",
   "metadata": {},
   "source": [
    "Unfold nScan times with values for the regularization parameter between tauMin and tauMax using the empty TSplines to store the results."
   ]
  },
  {
   "cell_type": "code",
   "execution_count": null,
   "metadata": {},
   "outputs": [],
   "source": [
    "print 'regularizing'\n",
    "nScan=50\n",
    "tauMin=0.0\n",
    "tauMax=0.0\n",
    "iBest=0\n",
    "\n",
    "logTauX = ROOT.MakeNullPointer(ROOT.TSpline)\n",
    "logTauY = ROOT.MakeNullPointer(ROOT.TSpline)\n",
    "lCurve = ROOT.MakeNullPointer(ROOT.TGraph)\n",
    "\n",
    "print 'doing the unfolding'\n",
    "tunfolder.ScanLcurve(nScan,tauMin,tauMax,lCurve,logTauX,logTauY);\n",
    "print 'getting the results'\n",
    "unfolded = tunfolder.GetOutput(\"unfolded\")"
   ]
  },
  {
   "cell_type": "code",
   "execution_count": null,
   "metadata": {},
   "outputs": [],
   "source": []
  },
  {
   "cell_type": "code",
   "execution_count": null,
   "metadata": {},
   "outputs": [],
   "source": [
    "c5 = ROOT.TCanvas('c5', 'c5')\n",
    "unfolded.SetMarkerStyle(22)\n",
    "unfolded.SetMarkerColor(4)\n",
    "unfolded.SetFillColor(0)\n",
    "histMgenData.SetMarkerStyle(21)\n",
    "histMgenData.SetMarkerColor(2)\n",
    "\n",
    "hs = ROOT.THStack(\"hs\", \"hs\")\n",
    "hs.Add( histMgenData, \"hist\")\n",
    "hs.Add( unfolded, \"e\")\n",
    "hs.Draw(\"nostack\")\n",
    "c5.Draw()"
   ]
  },
  {
   "cell_type": "code",
   "execution_count": null,
   "metadata": {},
   "outputs": [],
   "source": []
  },
  {
   "cell_type": "code",
   "execution_count": null,
   "metadata": {},
   "outputs": [],
   "source": []
  },
  {
   "cell_type": "markdown",
   "metadata": {},
   "source": [
    "# Unfold $\\tau_5^{(0.5)}$"
   ]
  },
  {
   "cell_type": "markdown",
   "metadata": {},
   "source": [
    "#### Below the input Monte Carlo simulation events are read from the file which only contains events meeting the skim criteria set forth in this __[script](https://github.com/kaustuvdatta/jetObservables/blob/102X/python/nSubProducer_gen_reco.py)__\n"
   ]
  },
  {
   "cell_type": "raw",
   "metadata": {},
   "source": [
    "\n",
    "ROOT.TH1.SetDefaultSumw2()\n",
    "f = ROOT.TFile('../AutoObs/CMS/New_Sel/TT_unfold/1/jetObservables_nanoskim_10.root')\n",
    "t = f.Get(\"Events\")"
   ]
  },
  {
   "cell_type": "markdown",
   "metadata": {
    "collapsed": true
   },
   "source": [
    "#### Set the axis ranges for the generator nd detector level distributions as well as the number of bins in each. Note that we want twice as many detector bins as generator level bins as recommended by the TUnfold documenation "
   ]
  },
  {
   "cell_type": "markdown",
   "metadata": {
    "collapsed": true
   },
   "source": [
    "Get the response matrix and input 1D distributions for unfolding."
   ]
  },
  {
   "cell_type": "code",
   "execution_count": null,
   "metadata": {},
   "outputs": [],
   "source": [
    "print np.min(TT16gen_nSub_basis[:,12])\n",
    "print np.min(TT16reco_nSub_basis[:,12])\n",
    "print np.max(TT16gen_nSub_basis[:,12])\n",
    "print np.max(TT16reco_nSub_basis[:,12])"
   ]
  },
  {
   "cell_type": "code",
   "execution_count": null,
   "metadata": {},
   "outputs": [],
   "source": [
    "nDet=30\n",
    "nGen=15\n",
    "xminDet=0.0\n",
    "xmaxDet=0.5\n",
    "xminGen=0.0\n",
    "xmaxGen=0.5\n",
    "#weight_TT16 = (831.76*lumi*1000.)/10199051.*np.ones(TT16_beta4W.shape[0])*TT16_puWeight*TT16_btagWeight*0.8\n"
   ]
  },
  {
   "cell_type": "code",
   "execution_count": null,
   "metadata": {},
   "outputs": [],
   "source": [
    "ROOT.TH1.SetDefaultSumw2()\n",
    "from root_numpy import *\n",
    "\n",
    "histMgenMC = ROOT.TH1D(\"histMgenMC\", \"histMgenMC; #tau_{5}^{0.5}; Events/(0.02)\", nGen, xminGen,xmaxGen)\n",
    "fill_hist(histMgenMC, TT16gen_nSub_basis[:,12])\n",
    "\n",
    "histMdetMC = ROOT.TH1D(\"histMdetMC\", \"histMdetMC; #tau_{5}^{0.5}; Events/(0.02)\", nDet, xminDet,xmaxDet)\n",
    "fill_hist(histMdetMC, TT16reco_nSub_basis[:,12])\n",
    "\n",
    "histMgenData = ROOT.TH1D(\"histMgenData\", \"histMgenData; #tau_{5}^{0.5}; Events/(0.02)\", nGen, xminGen,xmaxGen)\n",
    "fill_hist(histMgenData, TT16truth_nSub_basis[:,12])\n",
    "\n",
    "histMdetData = ROOT.TH1D(\"histMdetData\", \"histMdetData; #tau_{5}^{0.5}; Events/(0.02)\", nDet, xminDet,xmaxDet)\n",
    "fill_hist(histMdetData, TT16data_nSub_basis[:,12])\n",
    "\n",
    "\n",
    "response = ROOT.TH2D('response', 'response', nDet, xminDet, xmaxDet, nGen, xminGen, xmaxGen)\n",
    "hist2Dfill = np.zeros((TT16reco_nSub_basis[:,12].shape[0], 2))\n",
    "hist2Dfill[:,0] = TT16reco_nSub_basis[:,12].flatten()\n",
    "hist2Dfill[:,1] = TT16gen_nSub_basis[:,12].flatten()\n",
    "fill_hist(response, hist2Dfill)"
   ]
  },
  {
   "cell_type": "raw",
   "metadata": {},
   "source": [
    "xaxis =  array.array('d',[a for a in xrange(nmbinsGen *nptbinsGen + 1 )])\n",
    "nx = len(xaxis)-1\n",
    "\n",
    "print xaxis\n",
    "\n",
    "yaxis =  array.array('d',[a for a in xrange(nmbinsDet *nptbinsDet+1 )])\n",
    "ny = len(yaxis)-1\n",
    "\n",
    "print yaxis\n",
    "\n",
    "h_response = ROOT.TH2D('h_response',   'h_response', nx , xaxis, ny, yaxis )\n",
    "#print h_response2.GetXaxis.GetNbins()\n",
    "print nx\n",
    "print ny\n",
    "nb = nx*ny\n",
    "print nb"
   ]
  },
  {
   "cell_type": "raw",
   "metadata": {
    "collapsed": true
   },
   "source": [
    "response =ROOT.gDirectory.Get(\"response\")\n",
    "histMgenMC=ROOT.gDirectory.Get(\"histMgenMC\")\n",
    "histMdetMC=ROOT.gDirectory.Get(\"histMdetMC\")\n",
    "histMgenData=ROOT.gDirectory.Get(\"histMgenData\")\n",
    "histMdetData=ROOT.gDirectory.Get(\"histMdetData\")"
   ]
  },
  {
   "cell_type": "markdown",
   "metadata": {
    "collapsed": true
   },
   "source": [
    "Set the X and Y axis labels"
   ]
  },
  {
   "cell_type": "code",
   "execution_count": null,
   "metadata": {},
   "outputs": [],
   "source": [
    "response.SetTitle(\";#tau_{5}^{0.5}(det);#tau_{5}^{0.5}(gen)\")\n",
    "\n",
    "\n",
    "histMgenMC.SetTitle(\";#tau_{5}^{0.5}(gen)\")\n",
    "#histMgenMC.SetFillColor(ROOT.kRed)\n",
    "#histMgenMC.SetLineColor(ROOT.kRed)\n",
    "\n",
    "histMdetMC.SetTitle(\";#tau_{5}^{0.5}(det)\")\n",
    "#histMdetMC.SetFillColor(ROOT.kBlue)\n",
    "#histMdetMC.SetLineColor(ROOT.kBlue)\n",
    "\n",
    "\n",
    "histMgenData.SetTitle(\";#tau_{5}^{0.5}(gen)\")\n",
    "#histMgenData.SetFillColor(ROOT.kGreen+2)\n",
    "#histMgenData.SetLineColor(ROOT.kGreen+2)\n",
    "\n",
    "histMdetData.SetTitle(\";#tau_{5}^{0.5}(det)\")\n",
    "#histMdetData.SetFillColor(ROOT.kBlack)\n",
    "#histMdetData.SetLineColor(ROOT.kBlack)"
   ]
  },
  {
   "cell_type": "markdown",
   "metadata": {
    "collapsed": true
   },
   "source": [
    "Draw the variables at reco and gen level and for \"data\""
   ]
  },
  {
   "cell_type": "code",
   "execution_count": null,
   "metadata": {},
   "outputs": [],
   "source": [
    "c1 = ROOT.TCanvas(\"chistMgenMC1\", \"chistMgenMC1\")\n",
    "histMgenMC.Draw(\"e\")\n",
    "histMdetMC.Draw(\"e same\")\n",
    "c1.Draw()"
   ]
  },
  {
   "cell_type": "code",
   "execution_count": null,
   "metadata": {},
   "outputs": [],
   "source": [
    "c1 = ROOT.TCanvas(\"chistMgenMC1\", \"chistMgenMC1\")\n",
    "histMgenData.Draw(\"e\")\n",
    "histMdetData.Draw(\"e same\")\n",
    "c1.Draw()"
   ]
  },
  {
   "cell_type": "markdown",
   "metadata": {
    "collapsed": true
   },
   "source": [
    "Draw the response matrix."
   ]
  },
  {
   "cell_type": "code",
   "execution_count": null,
   "metadata": {
    "scrolled": false
   },
   "outputs": [],
   "source": [
    "c1 = ROOT.TCanvas(\"cresponse1\", \"cresponse1\")\n",
    "response.Draw(\"colz\")\n",
    "c1.Draw()"
   ]
  },
  {
   "cell_type": "code",
   "execution_count": null,
   "metadata": {},
   "outputs": [],
   "source": [
    "#### In MC :"
   ]
  },
  {
   "cell_type": "code",
   "execution_count": null,
   "metadata": {},
   "outputs": [],
   "source": [
    "c2 = ROOT.TCanvas(\"MCcompare\", \"MCcompare\")\n",
    "histMgenMC.Draw('e')\n",
    "histMdetMC.Draw('e same')\n",
    "c2.Draw()"
   ]
  },
  {
   "cell_type": "markdown",
   "metadata": {
    "collapsed": true
   },
   "source": [
    "#### In Data:"
   ]
  },
  {
   "cell_type": "code",
   "execution_count": null,
   "metadata": {},
   "outputs": [],
   "source": [
    "c3 = ROOT.TCanvas(\"datadists\", \"datadists\")\n",
    "histMgenData.Draw('e')\n",
    "histMdetData.Draw('e same')\n",
    "c3.Draw()"
   ]
  },
  {
   "cell_type": "code",
   "execution_count": null,
   "metadata": {},
   "outputs": [],
   "source": [
    "print 'getting tunfolder:'\n",
    "tunfolder = ROOT.TUnfoldDensity(response,ROOT.TUnfold.kHistMapOutputVert,ROOT.TUnfold.kRegModeCurvature, ROOT.TUnfold.kEConstraintNone, ROOT.TUnfoldDensity.kDensityModeBinWidth)"
   ]
  },
  {
   "cell_type": "markdown",
   "metadata": {
    "collapsed": true
   },
   "source": [
    "Set the input, a 1D reconstructed histogram from either MC (closure) or Data (measurement) , binned in the detector level binning."
   ]
  },
  {
   "cell_type": "code",
   "execution_count": null,
   "metadata": {},
   "outputs": [],
   "source": [
    "print 'setting reco input'\n",
    "tunfolder.SetInput( histMdetData )"
   ]
  },
  {
   "cell_type": "markdown",
   "metadata": {},
   "source": [
    "Unfold nScan times with values for the regularization parameter between tauMin and tauMax using the empty TSplines to store the results."
   ]
  },
  {
   "cell_type": "code",
   "execution_count": null,
   "metadata": {},
   "outputs": [],
   "source": [
    "print 'regularizing'\n",
    "nScan=50\n",
    "tauMin=0.0\n",
    "tauMax=0.0\n",
    "iBest=0\n",
    "\n",
    "logTauX = ROOT.MakeNullPointer(ROOT.TSpline)\n",
    "logTauY = ROOT.MakeNullPointer(ROOT.TSpline)\n",
    "lCurve = ROOT.MakeNullPointer(ROOT.TGraph)\n",
    "\n",
    "print 'doing the unfolding'\n",
    "tunfolder.ScanLcurve(nScan,tauMin,tauMax,lCurve,logTauX,logTauY);\n",
    "print 'getting the results'\n",
    "unfolded = tunfolder.GetOutput(\"unfolded\")"
   ]
  },
  {
   "cell_type": "code",
   "execution_count": null,
   "metadata": {},
   "outputs": [],
   "source": []
  },
  {
   "cell_type": "code",
   "execution_count": null,
   "metadata": {},
   "outputs": [],
   "source": [
    "c5 = ROOT.TCanvas('c5', 'c5')\n",
    "unfolded.SetMarkerStyle(22)\n",
    "unfolded.SetMarkerColor(4)\n",
    "unfolded.SetFillColor(0)\n",
    "histMgenData.SetMarkerStyle(21)\n",
    "histMgenData.SetMarkerColor(2)\n",
    "\n",
    "hs = ROOT.THStack(\"hs\", \"hs\")\n",
    "hs.Add( histMgenData, \"hist\")\n",
    "hs.Add( unfolded, \"e\")\n",
    "hs.Draw(\"nostack\")\n",
    "c5.Draw()"
   ]
  },
  {
   "cell_type": "code",
   "execution_count": null,
   "metadata": {},
   "outputs": [],
   "source": []
  },
  {
   "cell_type": "markdown",
   "metadata": {},
   "source": [
    "# Unfold $\\tau_5^{(1)}$"
   ]
  },
  {
   "cell_type": "markdown",
   "metadata": {},
   "source": [
    "#### Below the input Monte Carlo simulation events are read from the file which only contains events meeting the skim criteria set forth in this __[script](https://github.com/kaustuvdatta/jetObservables/blob/102X/python/nSubProducer_gen_reco.py)__\n"
   ]
  },
  {
   "cell_type": "raw",
   "metadata": {},
   "source": [
    "\n",
    "ROOT.TH1.SetDefaultSumw2()\n",
    "f = ROOT.TFile('../AutoObs/CMS/New_Sel/TT_unfold/1/jetObservables_nanoskim_10.root')\n",
    "t = f.Get(\"Events\")"
   ]
  },
  {
   "cell_type": "markdown",
   "metadata": {
    "collapsed": true
   },
   "source": [
    "#### Set the axis ranges for the generator nd detector level distributions as well as the number of bins in each. Note that we want twice as many detector bins as generator level bins as recommended by the TUnfold documenation "
   ]
  },
  {
   "cell_type": "markdown",
   "metadata": {
    "collapsed": true
   },
   "source": [
    "Get the response matrix and input 1D distributions for unfolding."
   ]
  },
  {
   "cell_type": "code",
   "execution_count": null,
   "metadata": {},
   "outputs": [],
   "source": [
    "print np.min(TT16gen_nSub_basis[:,13])\n",
    "print np.min(TT16reco_nSub_basis[:,13])\n",
    "print np.max(TT16gen_nSub_basis[:,13])\n",
    "print np.max(TT16reco_nSub_basis[:,13])"
   ]
  },
  {
   "cell_type": "code",
   "execution_count": null,
   "metadata": {},
   "outputs": [],
   "source": [
    "nDet=30\n",
    "nGen=15\n",
    "xminDet=0.0\n",
    "xmaxDet=0.3\n",
    "xminGen=0.0\n",
    "xmaxGen=0.3\n",
    "#weight_TT16 = (831.76*lumi*1000.)/10199051.*np.ones(TT16_beta4W.shape[0])*TT16_puWeight*TT16_btagWeight*0.8\n"
   ]
  },
  {
   "cell_type": "code",
   "execution_count": null,
   "metadata": {},
   "outputs": [],
   "source": [
    "ROOT.TH1.SetDefaultSumw2()\n",
    "from root_numpy import *\n",
    "\n",
    "histMgenMC = ROOT.TH1D(\"histMgenMC\", \"histMgenMC; #tau_{5}^{1}; Events/(0.02)\", nGen, xminGen,xmaxGen)\n",
    "fill_hist(histMgenMC, TT16gen_nSub_basis[:,13])\n",
    "\n",
    "histMdetMC = ROOT.TH1D(\"histMdetMC\", \"histMdetMC; #tau_{5}^{1}; Events/(0.02)\", nDet, xminDet,xmaxDet)\n",
    "fill_hist(histMdetMC, TT16reco_nSub_basis[:,13])\n",
    "\n",
    "histMgenData = ROOT.TH1D(\"histMgenData\", \"histMgenData; #tau_{5}^{1}; Events/(0.02)\", nGen, xminGen,xmaxGen)\n",
    "fill_hist(histMgenData, TT16truth_nSub_basis[:,13])\n",
    "\n",
    "histMdetData = ROOT.TH1D(\"histMdetData\", \"histMdetData; #tau_{5}^{1}; Events/(0.02)\", nDet, xminDet,xmaxDet)\n",
    "fill_hist(histMdetData, TT16data_nSub_basis[:,13])\n",
    "\n",
    "\n",
    "response = ROOT.TH2D('response', 'response', nDet, xminDet, xmaxDet, nGen, xminGen, xmaxGen)\n",
    "hist2Dfill = np.zeros((TT16reco_nSub_basis[:,13].shape[0], 2))\n",
    "hist2Dfill[:,0] = TT16reco_nSub_basis[:,13].flatten()\n",
    "hist2Dfill[:,1] = TT16gen_nSub_basis[:,13].flatten()\n",
    "fill_hist(response, hist2Dfill)"
   ]
  },
  {
   "cell_type": "raw",
   "metadata": {},
   "source": [
    "xaxis =  array.array('d',[a for a in xrange(nmbinsGen *nptbinsGen + 1 )])\n",
    "nx = len(xaxis)-1\n",
    "\n",
    "print xaxis\n",
    "\n",
    "yaxis =  array.array('d',[a for a in xrange(nmbinsDet *nptbinsDet+1 )])\n",
    "ny = len(yaxis)-1\n",
    "\n",
    "print yaxis\n",
    "\n",
    "h_response = ROOT.TH2D('h_response',   'h_response', nx , xaxis, ny, yaxis )\n",
    "#print h_response2.GetXaxis.GetNbins()\n",
    "print nx\n",
    "print ny\n",
    "nb = nx*ny\n",
    "print nb"
   ]
  },
  {
   "cell_type": "raw",
   "metadata": {
    "collapsed": true
   },
   "source": [
    "response =ROOT.gDirectory.Get(\"response\")\n",
    "histMgenMC=ROOT.gDirectory.Get(\"histMgenMC\")\n",
    "histMdetMC=ROOT.gDirectory.Get(\"histMdetMC\")\n",
    "histMgenData=ROOT.gDirectory.Get(\"histMgenData\")\n",
    "histMdetData=ROOT.gDirectory.Get(\"histMdetData\")"
   ]
  },
  {
   "cell_type": "markdown",
   "metadata": {
    "collapsed": true
   },
   "source": [
    "Set the X and Y axis labels"
   ]
  },
  {
   "cell_type": "code",
   "execution_count": null,
   "metadata": {},
   "outputs": [],
   "source": [
    "response.SetTitle(\";#tau_{5}^{1}(det);#tau_{5}^{1}(gen)\")\n",
    "\n",
    "\n",
    "histMgenMC.SetTitle(\";#tau_{5}^{1}(gen)\")\n",
    "#histMgenMC.SetFillColor(ROOT.kRed)\n",
    "#histMgenMC.SetLineColor(ROOT.kRed)\n",
    "\n",
    "histMdetMC.SetTitle(\";#tau_{5}^{1}(det)\")\n",
    "#histMdetMC.SetFillColor(ROOT.kBlue)\n",
    "#histMdetMC.SetLineColor(ROOT.kBlue)\n",
    "\n",
    "\n",
    "histMgenData.SetTitle(\";#tau_{5}^{1}(gen)\")\n",
    "#histMgenData.SetFillColor(ROOT.kGreen+2)\n",
    "#histMgenData.SetLineColor(ROOT.kGreen+2)\n",
    "\n",
    "histMdetData.SetTitle(\";#tau_{5}^{1}(det)\")\n",
    "#histMdetData.SetFillColor(ROOT.kBlack)\n",
    "#histMdetData.SetLineColor(ROOT.kBlack)"
   ]
  },
  {
   "cell_type": "markdown",
   "metadata": {
    "collapsed": true
   },
   "source": [
    "Draw the variables at reco and gen level and for \"data\""
   ]
  },
  {
   "cell_type": "code",
   "execution_count": null,
   "metadata": {},
   "outputs": [],
   "source": [
    "c1 = ROOT.TCanvas(\"chistMgenMC1\", \"chistMgenMC1\")\n",
    "histMgenMC.Draw(\"e\")\n",
    "histMdetMC.Draw(\"e same\")\n",
    "c1.Draw()"
   ]
  },
  {
   "cell_type": "code",
   "execution_count": null,
   "metadata": {},
   "outputs": [],
   "source": [
    "c1 = ROOT.TCanvas(\"chistMgenMC1\", \"chistMgenMC1\")\n",
    "histMgenData.Draw(\"e\")\n",
    "histMdetData.Draw(\"e same\")\n",
    "c1.Draw()"
   ]
  },
  {
   "cell_type": "markdown",
   "metadata": {
    "collapsed": true
   },
   "source": [
    "Draw the response matrix."
   ]
  },
  {
   "cell_type": "code",
   "execution_count": null,
   "metadata": {
    "scrolled": false
   },
   "outputs": [],
   "source": [
    "c1 = ROOT.TCanvas(\"cresponse1\", \"cresponse1\")\n",
    "response.Draw(\"colz\")\n",
    "c1.Draw()"
   ]
  },
  {
   "cell_type": "code",
   "execution_count": null,
   "metadata": {},
   "outputs": [],
   "source": [
    "#### In MC :"
   ]
  },
  {
   "cell_type": "code",
   "execution_count": null,
   "metadata": {},
   "outputs": [],
   "source": [
    "c2 = ROOT.TCanvas(\"MCcompare\", \"MCcompare\")\n",
    "histMgenMC.Draw('e')\n",
    "histMdetMC.Draw('e same')\n",
    "c2.Draw()"
   ]
  },
  {
   "cell_type": "markdown",
   "metadata": {
    "collapsed": true
   },
   "source": [
    "#### In Data:"
   ]
  },
  {
   "cell_type": "code",
   "execution_count": null,
   "metadata": {},
   "outputs": [],
   "source": [
    "c3 = ROOT.TCanvas(\"datadists\", \"datadists\")\n",
    "histMgenData.Draw('e')\n",
    "histMdetData.Draw('e same')\n",
    "c3.Draw()"
   ]
  },
  {
   "cell_type": "code",
   "execution_count": null,
   "metadata": {},
   "outputs": [],
   "source": [
    "print 'getting tunfolder:'\n",
    "tunfolder = ROOT.TUnfoldDensity(response,ROOT.TUnfold.kHistMapOutputVert,ROOT.TUnfold.kRegModeCurvature, ROOT.TUnfold.kEConstraintNone, ROOT.TUnfoldDensity.kDensityModeBinWidth)"
   ]
  },
  {
   "cell_type": "markdown",
   "metadata": {
    "collapsed": true
   },
   "source": [
    "Set the input, a 1D reconstructed histogram from either MC (closure) or Data (measurement) , binned in the detector level binning."
   ]
  },
  {
   "cell_type": "code",
   "execution_count": null,
   "metadata": {},
   "outputs": [],
   "source": [
    "print 'setting reco input'\n",
    "tunfolder.SetInput( histMdetData )"
   ]
  },
  {
   "cell_type": "markdown",
   "metadata": {},
   "source": [
    "Unfold nScan times with values for the regularization parameter between tauMin and tauMax using the empty TSplines to store the results."
   ]
  },
  {
   "cell_type": "code",
   "execution_count": null,
   "metadata": {},
   "outputs": [],
   "source": [
    "print 'regularizing'\n",
    "nScan=50\n",
    "tauMin=0.0\n",
    "tauMax=0.0\n",
    "iBest=0\n",
    "\n",
    "logTauX = ROOT.MakeNullPointer(ROOT.TSpline)\n",
    "logTauY = ROOT.MakeNullPointer(ROOT.TSpline)\n",
    "lCurve = ROOT.MakeNullPointer(ROOT.TGraph)\n",
    "\n",
    "print 'doing the unfolding'\n",
    "tunfolder.ScanLcurve(nScan,tauMin,tauMax,lCurve,logTauX,logTauY);\n",
    "print 'getting the results'\n",
    "unfolded = tunfolder.GetOutput(\"unfolded\")"
   ]
  },
  {
   "cell_type": "code",
   "execution_count": null,
   "metadata": {},
   "outputs": [],
   "source": []
  },
  {
   "cell_type": "code",
   "execution_count": null,
   "metadata": {},
   "outputs": [],
   "source": [
    "c5 = ROOT.TCanvas('c5', 'c5')\n",
    "unfolded.SetMarkerStyle(22)\n",
    "unfolded.SetMarkerColor(4)\n",
    "unfolded.SetFillColor(0)\n",
    "histMgenData.SetMarkerStyle(21)\n",
    "histMgenData.SetMarkerColor(2)\n",
    "\n",
    "hs = ROOT.THStack(\"hs\", \"hs\")\n",
    "hs.Add( histMgenData, \"hist\")\n",
    "hs.Add( unfolded, \"e\")\n",
    "hs.Draw(\"nostack\")\n",
    "c5.Draw()"
   ]
  },
  {
   "cell_type": "code",
   "execution_count": null,
   "metadata": {},
   "outputs": [],
   "source": []
  },
  {
   "cell_type": "markdown",
   "metadata": {},
   "source": [
    "# Unfold $\\tau_5^{(2)}$"
   ]
  },
  {
   "cell_type": "markdown",
   "metadata": {},
   "source": [
    "#### Below the input Monte Carlo simulation events are read from the file which only contains events meeting the skim criteria set forth in this __[script](https://github.com/kaustuvdatta/jetObservables/blob/102X/python/nSubProducer_gen_reco.py)__\n"
   ]
  },
  {
   "cell_type": "raw",
   "metadata": {},
   "source": [
    "\n",
    "ROOT.TH1.SetDefaultSumw2()\n",
    "f = ROOT.TFile('../AutoObs/CMS/New_Sel/TT_unfold/1/jetObservables_nanoskim_10.root')\n",
    "t = f.Get(\"Events\")"
   ]
  },
  {
   "cell_type": "markdown",
   "metadata": {
    "collapsed": true
   },
   "source": [
    "#### Set the axis ranges for the generator nd detector level distributions as well as the number of bins in each. Note that we want twice as many detector bins as generator level bins as recommended by the TUnfold documenation "
   ]
  },
  {
   "cell_type": "markdown",
   "metadata": {
    "collapsed": true
   },
   "source": [
    "Get the response matrix and input 1D distributions for unfolding."
   ]
  },
  {
   "cell_type": "code",
   "execution_count": null,
   "metadata": {},
   "outputs": [],
   "source": [
    "print np.min(TT16gen_nSub_basis[:,14])\n",
    "print np.min(TT16reco_nSub_basis[:,14])\n",
    "print np.max(TT16gen_nSub_basis[:,14])\n",
    "print np.max(TT16reco_nSub_basis[:,14])"
   ]
  },
  {
   "cell_type": "code",
   "execution_count": null,
   "metadata": {},
   "outputs": [],
   "source": [
    "nDet=32\n",
    "nGen=16\n",
    "xminDet=0.0\n",
    "xmaxDet=0.08\n",
    "xminGen=0.0\n",
    "xmaxGen=0.08\n",
    "#weight_TT16 = (831.76*lumi*1000.)/10199051.*np.ones(TT16_beta4W.shape[0])*TT16_puWeight*TT16_btagWeight*0.8\n"
   ]
  },
  {
   "cell_type": "code",
   "execution_count": null,
   "metadata": {},
   "outputs": [],
   "source": [
    "ROOT.TH1.SetDefaultSumw2()\n",
    "from root_numpy import *\n",
    "\n",
    "histMgenMC = ROOT.TH1D(\"histMgenMC\", \"histMgenMC; #tau_{5}^{2}; Events/(0.02)\", nGen, xminGen,xmaxGen)\n",
    "fill_hist(histMgenMC, TT16gen_nSub_basis[:,14])\n",
    "\n",
    "histMdetMC = ROOT.TH1D(\"histMdetMC\", \"histMdetMC; #tau_{5}^{2}; Events/(0.02)\", nDet, xminDet,xmaxDet)\n",
    "fill_hist(histMdetMC, TT16reco_nSub_basis[:,14])\n",
    "\n",
    "histMgenData = ROOT.TH1D(\"histMgenData\", \"histMgenData; #tau_{5}^{2}; Events/(0.02)\", nGen, xminGen,xmaxGen)\n",
    "fill_hist(histMgenData, TT16truth_nSub_basis[:,14])\n",
    "\n",
    "histMdetData = ROOT.TH1D(\"histMdetData\", \"histMdetData; #tau_{5}^{2}; Events/(0.02)\", nDet, xminDet,xmaxDet)\n",
    "fill_hist(histMdetData, TT16data_nSub_basis[:,14])\n",
    "\n",
    "\n",
    "response = ROOT.TH2D('response', 'response', nDet, xminDet, xmaxDet, nGen, xminGen, xmaxGen)\n",
    "hist2Dfill = np.zeros((TT16reco_nSub_basis[:,14].shape[0], 2))\n",
    "hist2Dfill[:,0] = TT16reco_nSub_basis[:,14].flatten()\n",
    "hist2Dfill[:,1] = TT16gen_nSub_basis[:,14].flatten()\n",
    "fill_hist(response, hist2Dfill)"
   ]
  },
  {
   "cell_type": "raw",
   "metadata": {},
   "source": [
    "xaxis =  array.array('d',[a for a in xrange(nmbinsGen *nptbinsGen + 1 )])\n",
    "nx = len(xaxis)-1\n",
    "\n",
    "print xaxis\n",
    "\n",
    "yaxis =  array.array('d',[a for a in xrange(nmbinsDet *nptbinsDet+1 )])\n",
    "ny = len(yaxis)-1\n",
    "\n",
    "print yaxis\n",
    "\n",
    "h_response = ROOT.TH2D('h_response',   'h_response', nx , xaxis, ny, yaxis )\n",
    "#print h_response2.GetXaxis.GetNbins()\n",
    "print nx\n",
    "print ny\n",
    "nb = nx*ny\n",
    "print nb"
   ]
  },
  {
   "cell_type": "raw",
   "metadata": {
    "collapsed": true
   },
   "source": [
    "response =ROOT.gDirectory.Get(\"response\")\n",
    "histMgenMC=ROOT.gDirectory.Get(\"histMgenMC\")\n",
    "histMdetMC=ROOT.gDirectory.Get(\"histMdetMC\")\n",
    "histMgenData=ROOT.gDirectory.Get(\"histMgenData\")\n",
    "histMdetData=ROOT.gDirectory.Get(\"histMdetData\")"
   ]
  },
  {
   "cell_type": "markdown",
   "metadata": {
    "collapsed": true
   },
   "source": [
    "Set the X and Y axis labels"
   ]
  },
  {
   "cell_type": "code",
   "execution_count": null,
   "metadata": {},
   "outputs": [],
   "source": [
    "response.SetTitle(\";#tau_{5}^{2}(det);#tau_{5}^{2}(gen)\")\n",
    "\n",
    "\n",
    "histMgenMC.SetTitle(\";#tau_{5}^{2}(gen)\")\n",
    "#histMgenMC.SetFillColor(ROOT.kRed)\n",
    "#histMgenMC.SetLineColor(ROOT.kRed)\n",
    "\n",
    "histMdetMC.SetTitle(\";#tau_{5}^{2}(det)\")\n",
    "#histMdetMC.SetFillColor(ROOT.kBlue)\n",
    "#histMdetMC.SetLineColor(ROOT.kBlue)\n",
    "\n",
    "\n",
    "histMgenData.SetTitle(\";#tau_{5}^{2}(gen)\")\n",
    "#histMgenData.SetFillColor(ROOT.kGreen+2)\n",
    "#histMgenData.SetLineColor(ROOT.kGreen+2)\n",
    "\n",
    "histMdetData.SetTitle(\";#tau_{5}^{2}(det)\")\n",
    "#histMdetData.SetFillColor(ROOT.kBlack)\n",
    "#histMdetData.SetLineColor(ROOT.kBlack)"
   ]
  },
  {
   "cell_type": "markdown",
   "metadata": {
    "collapsed": true
   },
   "source": [
    "Draw the variables at reco and gen level and for \"data\""
   ]
  },
  {
   "cell_type": "code",
   "execution_count": null,
   "metadata": {},
   "outputs": [],
   "source": [
    "c1 = ROOT.TCanvas(\"chistMgenMC1\", \"chistMgenMC1\")\n",
    "histMgenMC.Draw(\"e\")\n",
    "histMdetMC.Draw(\"e same\")\n",
    "c1.Draw()"
   ]
  },
  {
   "cell_type": "code",
   "execution_count": null,
   "metadata": {},
   "outputs": [],
   "source": [
    "c1 = ROOT.TCanvas(\"chistMgenMC1\", \"chistMgenMC1\")\n",
    "histMgenData.Draw(\"e\")\n",
    "histMdetData.Draw(\"e same\")\n",
    "c1.Draw()"
   ]
  },
  {
   "cell_type": "markdown",
   "metadata": {
    "collapsed": true
   },
   "source": [
    "Draw the response matrix."
   ]
  },
  {
   "cell_type": "code",
   "execution_count": null,
   "metadata": {
    "scrolled": false
   },
   "outputs": [],
   "source": [
    "c1 = ROOT.TCanvas(\"cresponse1\", \"cresponse1\")\n",
    "response.Draw(\"colz\")\n",
    "c1.Draw()"
   ]
  },
  {
   "cell_type": "code",
   "execution_count": null,
   "metadata": {},
   "outputs": [],
   "source": [
    "#### In MC :"
   ]
  },
  {
   "cell_type": "code",
   "execution_count": null,
   "metadata": {},
   "outputs": [],
   "source": [
    "c2 = ROOT.TCanvas(\"MCcompare\", \"MCcompare\")\n",
    "histMgenMC.Draw('e')\n",
    "histMdetMC.Draw('e same')\n",
    "c2.Draw()"
   ]
  },
  {
   "cell_type": "markdown",
   "metadata": {
    "collapsed": true
   },
   "source": [
    "#### In Data:"
   ]
  },
  {
   "cell_type": "code",
   "execution_count": null,
   "metadata": {},
   "outputs": [],
   "source": [
    "c3 = ROOT.TCanvas(\"datadists\", \"datadists\")\n",
    "histMgenData.Draw('e')\n",
    "histMdetData.Draw('e same')\n",
    "c3.Draw()"
   ]
  },
  {
   "cell_type": "code",
   "execution_count": null,
   "metadata": {},
   "outputs": [],
   "source": [
    "print 'getting tunfolder:'\n",
    "tunfolder = ROOT.TUnfoldDensity(response,ROOT.TUnfold.kHistMapOutputVert,ROOT.TUnfold.kRegModeCurvature, ROOT.TUnfold.kEConstraintNone, ROOT.TUnfoldDensity.kDensityModeBinWidth)"
   ]
  },
  {
   "cell_type": "markdown",
   "metadata": {
    "collapsed": true
   },
   "source": [
    "Set the input, a 1D reconstructed histogram from either MC (closure) or Data (measurement) , binned in the detector level binning."
   ]
  },
  {
   "cell_type": "code",
   "execution_count": null,
   "metadata": {},
   "outputs": [],
   "source": [
    "print 'setting reco input'\n",
    "tunfolder.SetInput( histMdetData )"
   ]
  },
  {
   "cell_type": "markdown",
   "metadata": {},
   "source": [
    "Unfold nScan times with values for the regularization parameter between tauMin and tauMax using the empty TSplines to store the results."
   ]
  },
  {
   "cell_type": "code",
   "execution_count": null,
   "metadata": {},
   "outputs": [],
   "source": [
    "print 'regularizing'\n",
    "nScan=50\n",
    "tauMin=0.0\n",
    "tauMax=0.0\n",
    "iBest=0\n",
    "\n",
    "logTauX = ROOT.MakeNullPointer(ROOT.TSpline)\n",
    "logTauY = ROOT.MakeNullPointer(ROOT.TSpline)\n",
    "lCurve = ROOT.MakeNullPointer(ROOT.TGraph)\n",
    "\n",
    "print 'doing the unfolding'\n",
    "tunfolder.ScanLcurve(nScan,tauMin,tauMax,lCurve,logTauX,logTauY);\n",
    "print 'getting the results'\n",
    "unfolded = tunfolder.GetOutput(\"unfolded\")"
   ]
  },
  {
   "cell_type": "code",
   "execution_count": null,
   "metadata": {},
   "outputs": [],
   "source": []
  },
  {
   "cell_type": "code",
   "execution_count": null,
   "metadata": {},
   "outputs": [],
   "source": [
    "c5 = ROOT.TCanvas('c5', 'c5')\n",
    "unfolded.SetMarkerStyle(22)\n",
    "unfolded.SetMarkerColor(4)\n",
    "unfolded.SetFillColor(0)\n",
    "histMgenData.SetMarkerStyle(21)\n",
    "histMgenData.SetMarkerColor(2)\n",
    "\n",
    "hs = ROOT.THStack(\"hs\", \"hs\")\n",
    "hs.Add( histMgenData, \"hist\")\n",
    "hs.Add( unfolded, \"e\")\n",
    "hs.Draw(\"nostack\")\n",
    "c5.Draw()"
   ]
  },
  {
   "cell_type": "code",
   "execution_count": null,
   "metadata": {},
   "outputs": [],
   "source": []
  },
  {
   "cell_type": "markdown",
   "metadata": {},
   "source": [
    "# Unfold $\\tau_6^{(0.5)}$"
   ]
  },
  {
   "cell_type": "markdown",
   "metadata": {},
   "source": [
    "#### Below the input Monte Carlo simulation events are read from the file which only contains events meeting the skim criteria set forth in this __[script](https://github.com/kaustuvdatta/jetObservables/blob/102X/python/nSubProducer_gen_reco.py)__\n"
   ]
  },
  {
   "cell_type": "raw",
   "metadata": {},
   "source": [
    "\n",
    "ROOT.TH1.SetDefaultSumw2()\n",
    "f = ROOT.TFile('../AutoObs/CMS/New_Sel/TT_unfold/1/jetObservables_nanoskim_10.root')\n",
    "t = f.Get(\"Events\")"
   ]
  },
  {
   "cell_type": "markdown",
   "metadata": {
    "collapsed": true
   },
   "source": [
    "#### Set the axis ranges for the generator nd detector level distributions as well as the number of bins in each. Note that we want twice as many detector bins as generator level bins as recommended by the TUnfold documenation "
   ]
  },
  {
   "cell_type": "markdown",
   "metadata": {
    "collapsed": true
   },
   "source": [
    "Get the response matrix and input 1D distributions for unfolding."
   ]
  },
  {
   "cell_type": "code",
   "execution_count": null,
   "metadata": {},
   "outputs": [],
   "source": [
    "print np.min(TT16gen_nSub_basis[:,15])\n",
    "print np.min(TT16reco_nSub_basis[:,15])\n",
    "print np.max(TT16gen_nSub_basis[:,15])\n",
    "print np.max(TT16reco_nSub_basis[:,15])"
   ]
  },
  {
   "cell_type": "code",
   "execution_count": null,
   "metadata": {},
   "outputs": [],
   "source": [
    "nDet=40\n",
    "nGen=20\n",
    "xminDet=0.0\n",
    "xmaxDet=0.42\n",
    "xminGen=0.0\n",
    "xmaxGen=0.42\n",
    "#weight_TT16 = (831.76*lumi*1000.)/10199051.*np.ones(TT16_beta4W.shape[0])*TT16_puWeight*TT16_btagWeight*0.8\n"
   ]
  },
  {
   "cell_type": "code",
   "execution_count": null,
   "metadata": {},
   "outputs": [],
   "source": [
    "ROOT.TH1.SetDefaultSumw2()\n",
    "from root_numpy import *\n",
    "\n",
    "histMgenMC = ROOT.TH1D(\"histMgenMC\", \"histMgenMC; #tau_{5}^{0.5}; Events/(0.02)\", nGen, xminGen,xmaxGen)\n",
    "fill_hist(histMgenMC, TT16gen_nSub_basis[:,15])\n",
    "\n",
    "histMdetMC = ROOT.TH1D(\"histMdetMC\", \"histMdetMC; #tau_{5}^{0.5}; Events/(0.02)\", nDet, xminDet,xmaxDet)\n",
    "fill_hist(histMdetMC, TT16reco_nSub_basis[:,15])\n",
    "\n",
    "histMgenData = ROOT.TH1D(\"histMgenData\", \"histMgenData; #tau_{5}^{0.5}; Events/(0.02)\", nGen, xminGen,xmaxGen)\n",
    "fill_hist(histMgenData, TT16truth_nSub_basis[:,15])\n",
    "\n",
    "histMdetData = ROOT.TH1D(\"histMdetData\", \"histMdetData; #tau_{5}^{0.5}; Events/(0.02)\", nDet, xminDet,xmaxDet)\n",
    "fill_hist(histMdetData, TT16data_nSub_basis[:,15])\n",
    "\n",
    "\n",
    "response = ROOT.TH2D('response', 'response', nDet, xminDet, xmaxDet, nGen, xminGen, xmaxGen)\n",
    "hist2Dfill = np.zeros((TT16reco_nSub_basis[:,15].shape[0], 2))\n",
    "hist2Dfill[:,0] = TT16reco_nSub_basis[:,15].flatten()\n",
    "hist2Dfill[:,1] = TT16gen_nSub_basis[:,15].flatten()\n",
    "fill_hist(response, hist2Dfill)"
   ]
  },
  {
   "cell_type": "raw",
   "metadata": {},
   "source": [
    "xaxis =  array.array('d',[a for a in xrange(nmbinsGen *nptbinsGen + 1 )])\n",
    "nx = len(xaxis)-1\n",
    "\n",
    "print xaxis\n",
    "\n",
    "yaxis =  array.array('d',[a for a in xrange(nmbinsDet *nptbinsDet+1 )])\n",
    "ny = len(yaxis)-1\n",
    "\n",
    "print yaxis\n",
    "\n",
    "h_response = ROOT.TH2D('h_response',   'h_response', nx , xaxis, ny, yaxis )\n",
    "#print h_response2.GetXaxis.GetNbins()\n",
    "print nx\n",
    "print ny\n",
    "nb = nx*ny\n",
    "print nb"
   ]
  },
  {
   "cell_type": "raw",
   "metadata": {
    "collapsed": true
   },
   "source": [
    "response =ROOT.gDirectory.Get(\"response\")\n",
    "histMgenMC=ROOT.gDirectory.Get(\"histMgenMC\")\n",
    "histMdetMC=ROOT.gDirectory.Get(\"histMdetMC\")\n",
    "histMgenData=ROOT.gDirectory.Get(\"histMgenData\")\n",
    "histMdetData=ROOT.gDirectory.Get(\"histMdetData\")"
   ]
  },
  {
   "cell_type": "markdown",
   "metadata": {
    "collapsed": true
   },
   "source": [
    "Set the X and Y axis labels"
   ]
  },
  {
   "cell_type": "code",
   "execution_count": null,
   "metadata": {},
   "outputs": [],
   "source": [
    "response.SetTitle(\";#tau_{5}^{0.5}(det);#tau_{5}^{0.5}(gen)\")\n",
    "\n",
    "\n",
    "histMgenMC.SetTitle(\";#tau_{5}^{0.5}(gen)\")\n",
    "#histMgenMC.SetFillColor(ROOT.kRed)\n",
    "#histMgenMC.SetLineColor(ROOT.kRed)\n",
    "\n",
    "histMdetMC.SetTitle(\";#tau_{5}^{0.5}(det)\")\n",
    "#histMdetMC.SetFillColor(ROOT.kBlue)\n",
    "#histMdetMC.SetLineColor(ROOT.kBlue)\n",
    "\n",
    "\n",
    "histMgenData.SetTitle(\";#tau_{5}^{0.5}(gen)\")\n",
    "#histMgenData.SetFillColor(ROOT.kGreen+2)\n",
    "#histMgenData.SetLineColor(ROOT.kGreen+2)\n",
    "\n",
    "histMdetData.SetTitle(\";#tau_{5}^{0.5}(det)\")\n",
    "#histMdetData.SetFillColor(ROOT.kBlack)\n",
    "#histMdetData.SetLineColor(ROOT.kBlack)"
   ]
  },
  {
   "cell_type": "markdown",
   "metadata": {
    "collapsed": true
   },
   "source": [
    "Draw the variables at reco and gen level and for \"data\""
   ]
  },
  {
   "cell_type": "code",
   "execution_count": null,
   "metadata": {},
   "outputs": [],
   "source": [
    "c1 = ROOT.TCanvas(\"chistMgenMC1\", \"chistMgenMC1\")\n",
    "histMgenMC.Draw(\"e\")\n",
    "histMdetMC.Draw(\"e same\")\n",
    "c1.Draw()"
   ]
  },
  {
   "cell_type": "code",
   "execution_count": null,
   "metadata": {},
   "outputs": [],
   "source": [
    "c1 = ROOT.TCanvas(\"chistMgenMC1\", \"chistMgenMC1\")\n",
    "histMgenData.Draw(\"e\")\n",
    "histMdetData.Draw(\"e same\")\n",
    "c1.Draw()"
   ]
  },
  {
   "cell_type": "markdown",
   "metadata": {
    "collapsed": true
   },
   "source": [
    "Draw the response matrix."
   ]
  },
  {
   "cell_type": "code",
   "execution_count": null,
   "metadata": {
    "scrolled": false
   },
   "outputs": [],
   "source": [
    "c1 = ROOT.TCanvas(\"cresponse1\", \"cresponse1\")\n",
    "response.Draw(\"colz\")\n",
    "c1.Draw()"
   ]
  },
  {
   "cell_type": "code",
   "execution_count": null,
   "metadata": {},
   "outputs": [],
   "source": [
    "#### In MC :"
   ]
  },
  {
   "cell_type": "code",
   "execution_count": null,
   "metadata": {},
   "outputs": [],
   "source": [
    "c2 = ROOT.TCanvas(\"MCcompare\", \"MCcompare\")\n",
    "histMgenMC.Draw('e')\n",
    "histMdetMC.Draw('e same')\n",
    "c2.Draw()"
   ]
  },
  {
   "cell_type": "markdown",
   "metadata": {
    "collapsed": true
   },
   "source": [
    "#### In Data:"
   ]
  },
  {
   "cell_type": "code",
   "execution_count": null,
   "metadata": {},
   "outputs": [],
   "source": [
    "c3 = ROOT.TCanvas(\"datadists\", \"datadists\")\n",
    "histMgenData.Draw('e')\n",
    "histMdetData.Draw('e same')\n",
    "c3.Draw()"
   ]
  },
  {
   "cell_type": "code",
   "execution_count": null,
   "metadata": {},
   "outputs": [],
   "source": [
    "print 'getting tunfolder:'\n",
    "tunfolder = ROOT.TUnfoldDensity(response,ROOT.TUnfold.kHistMapOutputVert,ROOT.TUnfold.kRegModeCurvature, ROOT.TUnfold.kEConstraintNone, ROOT.TUnfoldDensity.kDensityModeBinWidth)"
   ]
  },
  {
   "cell_type": "markdown",
   "metadata": {
    "collapsed": true
   },
   "source": [
    "Set the input, a 1D reconstructed histogram from either MC (closure) or Data (measurement) , binned in the detector level binning."
   ]
  },
  {
   "cell_type": "code",
   "execution_count": null,
   "metadata": {},
   "outputs": [],
   "source": [
    "print 'setting reco input'\n",
    "tunfolder.SetInput( histMdetData )"
   ]
  },
  {
   "cell_type": "markdown",
   "metadata": {},
   "source": [
    "Unfold nScan times with values for the regularization parameter between tauMin and tauMax using the empty TSplines to store the results."
   ]
  },
  {
   "cell_type": "code",
   "execution_count": null,
   "metadata": {},
   "outputs": [],
   "source": [
    "print 'regularizing'\n",
    "nScan=50\n",
    "tauMin=0.0\n",
    "tauMax=0.0\n",
    "iBest=0\n",
    "\n",
    "logTauX = ROOT.MakeNullPointer(ROOT.TSpline)\n",
    "logTauY = ROOT.MakeNullPointer(ROOT.TSpline)\n",
    "lCurve = ROOT.MakeNullPointer(ROOT.TGraph)\n",
    "\n",
    "print 'doing the unfolding'\n",
    "tunfolder.ScanLcurve(nScan,tauMin,tauMax,lCurve,logTauX,logTauY);\n",
    "print 'getting the results'\n",
    "unfolded = tunfolder.GetOutput(\"unfolded\")"
   ]
  },
  {
   "cell_type": "code",
   "execution_count": null,
   "metadata": {},
   "outputs": [],
   "source": []
  },
  {
   "cell_type": "code",
   "execution_count": null,
   "metadata": {},
   "outputs": [],
   "source": [
    "c5 = ROOT.TCanvas('c5', 'c5')\n",
    "unfolded.SetMarkerStyle(22)\n",
    "unfolded.SetMarkerColor(4)\n",
    "unfolded.SetFillColor(0)\n",
    "histMgenData.SetMarkerStyle(21)\n",
    "histMgenData.SetMarkerColor(2)\n",
    "\n",
    "hs = ROOT.THStack(\"hs\", \"hs\")\n",
    "hs.Add( histMgenData, \"hist\")\n",
    "hs.Add( unfolded, \"e\")\n",
    "hs.Draw(\"nostack\")\n",
    "c5.Draw()"
   ]
  },
  {
   "cell_type": "code",
   "execution_count": null,
   "metadata": {},
   "outputs": [],
   "source": []
  },
  {
   "cell_type": "markdown",
   "metadata": {},
   "source": [
    "# Unfold $\\tau_6^{(1)}$"
   ]
  },
  {
   "cell_type": "markdown",
   "metadata": {},
   "source": [
    "#### Below the input Monte Carlo simulation events are read from the file which only contains events meeting the skim criteria set forth in this __[script](https://github.com/kaustuvdatta/jetObservables/blob/102X/python/nSubProducer_gen_reco.py)__\n"
   ]
  },
  {
   "cell_type": "raw",
   "metadata": {},
   "source": [
    "\n",
    "ROOT.TH1.SetDefaultSumw2()\n",
    "f = ROOT.TFile('../AutoObs/CMS/New_Sel/TT_unfold/1/jetObservables_nanoskim_10.root')\n",
    "t = f.Get(\"Events\")"
   ]
  },
  {
   "cell_type": "markdown",
   "metadata": {
    "collapsed": true
   },
   "source": [
    "#### Set the axis ranges for the generator nd detector level distributions as well as the number of bins in each. Note that we want twice as many detector bins as generator level bins as recommended by the TUnfold documenation "
   ]
  },
  {
   "cell_type": "markdown",
   "metadata": {
    "collapsed": true
   },
   "source": [
    "Get the response matrix and input 1D distributions for unfolding."
   ]
  },
  {
   "cell_type": "code",
   "execution_count": null,
   "metadata": {},
   "outputs": [],
   "source": [
    "print np.min(TT16gen_nSub_basis[:,16])\n",
    "print np.min(TT16reco_nSub_basis[:,16])\n",
    "print np.max(TT16gen_nSub_basis[:,16])\n",
    "print np.max(TT16reco_nSub_basis[:,16])"
   ]
  },
  {
   "cell_type": "code",
   "execution_count": null,
   "metadata": {},
   "outputs": [],
   "source": [
    "nDet=32\n",
    "nGen=16\n",
    "xminDet=0.0\n",
    "xmaxDet=0.2\n",
    "xminGen=0.0\n",
    "xmaxGen=0.2\n",
    "#weight_TT16 = (831.76*lumi*1000.)/10199051.*np.ones(TT16_beta4W.shape[0])*TT16_puWeight*TT16_btagWeight*0.8\n"
   ]
  },
  {
   "cell_type": "code",
   "execution_count": null,
   "metadata": {},
   "outputs": [],
   "source": [
    "ROOT.TH1.SetDefaultSumw2()\n",
    "from root_numpy import *\n",
    "\n",
    "histMgenMC = ROOT.TH1D(\"histMgenMC\", \"histMgenMC; #tau_{5}^{1}; Events/(0.02)\", nGen, xminGen,xmaxGen)\n",
    "fill_hist(histMgenMC, TT16gen_nSub_basis[:,16])\n",
    "\n",
    "histMdetMC = ROOT.TH1D(\"histMdetMC\", \"histMdetMC; #tau_{5}^{1}; Events/(0.02)\", nDet, xminDet,xmaxDet)\n",
    "fill_hist(histMdetMC, TT16reco_nSub_basis[:,16])\n",
    "\n",
    "histMgenData = ROOT.TH1D(\"histMgenData\", \"histMgenData; #tau_{5}^{1}; Events/(0.02)\", nGen, xminGen,xmaxGen)\n",
    "fill_hist(histMgenData, TT16truth_nSub_basis[:,16])\n",
    "\n",
    "histMdetData = ROOT.TH1D(\"histMdetData\", \"histMdetData; #tau_{5}^{1}; Events/(0.02)\", nDet, xminDet,xmaxDet)\n",
    "fill_hist(histMdetData, TT16data_nSub_basis[:,16])\n",
    "\n",
    "\n",
    "response = ROOT.TH2D('response', 'response', nDet, xminDet, xmaxDet, nGen, xminGen, xmaxGen)\n",
    "hist2Dfill = np.zeros((TT16reco_nSub_basis[:,16].shape[0], 2))\n",
    "hist2Dfill[:,0] = TT16reco_nSub_basis[:,16].flatten()\n",
    "hist2Dfill[:,1] = TT16gen_nSub_basis[:,16].flatten()\n",
    "fill_hist(response, hist2Dfill)"
   ]
  },
  {
   "cell_type": "raw",
   "metadata": {},
   "source": [
    "xaxis =  array.array('d',[a for a in xrange(nmbinsGen *nptbinsGen + 1 )])\n",
    "nx = len(xaxis)-1\n",
    "\n",
    "print xaxis\n",
    "\n",
    "yaxis =  array.array('d',[a for a in xrange(nmbinsDet *nptbinsDet+1 )])\n",
    "ny = len(yaxis)-1\n",
    "\n",
    "print yaxis\n",
    "\n",
    "h_response = ROOT.TH2D('h_response',   'h_response', nx , xaxis, ny, yaxis )\n",
    "#print h_response2.GetXaxis.GetNbins()\n",
    "print nx\n",
    "print ny\n",
    "nb = nx*ny\n",
    "print nb"
   ]
  },
  {
   "cell_type": "raw",
   "metadata": {
    "collapsed": true
   },
   "source": [
    "response =ROOT.gDirectory.Get(\"response\")\n",
    "histMgenMC=ROOT.gDirectory.Get(\"histMgenMC\")\n",
    "histMdetMC=ROOT.gDirectory.Get(\"histMdetMC\")\n",
    "histMgenData=ROOT.gDirectory.Get(\"histMgenData\")\n",
    "histMdetData=ROOT.gDirectory.Get(\"histMdetData\")"
   ]
  },
  {
   "cell_type": "markdown",
   "metadata": {
    "collapsed": true
   },
   "source": [
    "Set the X and Y axis labels"
   ]
  },
  {
   "cell_type": "code",
   "execution_count": null,
   "metadata": {},
   "outputs": [],
   "source": [
    "response.SetTitle(\";#tau_{5}^{1}(det);#tau_{5}^{1}(gen)\")\n",
    "\n",
    "\n",
    "histMgenMC.SetTitle(\";#tau_{5}^{1}(gen)\")\n",
    "#histMgenMC.SetFillColor(ROOT.kRed)\n",
    "#histMgenMC.SetLineColor(ROOT.kRed)\n",
    "\n",
    "histMdetMC.SetTitle(\";#tau_{5}^{1}(det)\")\n",
    "#histMdetMC.SetFillColor(ROOT.kBlue)\n",
    "#histMdetMC.SetLineColor(ROOT.kBlue)\n",
    "\n",
    "\n",
    "histMgenData.SetTitle(\";#tau_{5}^{1}(gen)\")\n",
    "#histMgenData.SetFillColor(ROOT.kGreen+2)\n",
    "#histMgenData.SetLineColor(ROOT.kGreen+2)\n",
    "\n",
    "histMdetData.SetTitle(\";#tau_{5}^{1}(det)\")\n",
    "#histMdetData.SetFillColor(ROOT.kBlack)\n",
    "#histMdetData.SetLineColor(ROOT.kBlack)"
   ]
  },
  {
   "cell_type": "markdown",
   "metadata": {
    "collapsed": true
   },
   "source": [
    "Draw the variables at reco and gen level and for \"data\""
   ]
  },
  {
   "cell_type": "code",
   "execution_count": null,
   "metadata": {},
   "outputs": [],
   "source": [
    "c1 = ROOT.TCanvas(\"chistMgenMC1\", \"chistMgenMC1\")\n",
    "histMgenMC.Draw(\"e\")\n",
    "histMdetMC.Draw(\"e same\")\n",
    "c1.Draw()"
   ]
  },
  {
   "cell_type": "code",
   "execution_count": null,
   "metadata": {},
   "outputs": [],
   "source": [
    "c1 = ROOT.TCanvas(\"chistMgenMC1\", \"chistMgenMC1\")\n",
    "histMgenData.Draw(\"e\")\n",
    "histMdetData.Draw(\"e same\")\n",
    "c1.Draw()"
   ]
  },
  {
   "cell_type": "markdown",
   "metadata": {
    "collapsed": true
   },
   "source": [
    "Draw the response matrix."
   ]
  },
  {
   "cell_type": "code",
   "execution_count": null,
   "metadata": {
    "scrolled": false
   },
   "outputs": [],
   "source": [
    "c1 = ROOT.TCanvas(\"cresponse1\", \"cresponse1\")\n",
    "response.Draw(\"colz\")\n",
    "c1.Draw()"
   ]
  },
  {
   "cell_type": "code",
   "execution_count": null,
   "metadata": {},
   "outputs": [],
   "source": [
    "#### In MC :"
   ]
  },
  {
   "cell_type": "code",
   "execution_count": null,
   "metadata": {},
   "outputs": [],
   "source": [
    "c2 = ROOT.TCanvas(\"MCcompare\", \"MCcompare\")\n",
    "histMgenMC.Draw('e')\n",
    "histMdetMC.Draw('e same')\n",
    "c2.Draw()"
   ]
  },
  {
   "cell_type": "markdown",
   "metadata": {
    "collapsed": true
   },
   "source": [
    "#### In Data:"
   ]
  },
  {
   "cell_type": "code",
   "execution_count": null,
   "metadata": {},
   "outputs": [],
   "source": [
    "c3 = ROOT.TCanvas(\"datadists\", \"datadists\")\n",
    "histMgenData.Draw('e')\n",
    "histMdetData.Draw('e same')\n",
    "c3.Draw()"
   ]
  },
  {
   "cell_type": "code",
   "execution_count": null,
   "metadata": {},
   "outputs": [],
   "source": [
    "print 'getting tunfolder:'\n",
    "tunfolder = ROOT.TUnfoldDensity(response,ROOT.TUnfold.kHistMapOutputVert,ROOT.TUnfold.kRegModeCurvature, ROOT.TUnfold.kEConstraintNone, ROOT.TUnfoldDensity.kDensityModeBinWidth)"
   ]
  },
  {
   "cell_type": "markdown",
   "metadata": {
    "collapsed": true
   },
   "source": [
    "Set the input, a 1D reconstructed histogram from either MC (closure) or Data (measurement) , binned in the detector level binning."
   ]
  },
  {
   "cell_type": "code",
   "execution_count": null,
   "metadata": {},
   "outputs": [],
   "source": [
    "print 'setting reco input'\n",
    "tunfolder.SetInput( histMdetData )"
   ]
  },
  {
   "cell_type": "markdown",
   "metadata": {},
   "source": [
    "Unfold nScan times with values for the regularization parameter between tauMin and tauMax using the empty TSplines to store the results."
   ]
  },
  {
   "cell_type": "code",
   "execution_count": null,
   "metadata": {},
   "outputs": [],
   "source": [
    "print 'regularizing'\n",
    "nScan=50\n",
    "tauMin=0.0\n",
    "tauMax=0.0\n",
    "iBest=0\n",
    "\n",
    "logTauX = ROOT.MakeNullPointer(ROOT.TSpline)\n",
    "logTauY = ROOT.MakeNullPointer(ROOT.TSpline)\n",
    "lCurve = ROOT.MakeNullPointer(ROOT.TGraph)\n",
    "\n",
    "print 'doing the unfolding'\n",
    "tunfolder.ScanLcurve(nScan,tauMin,tauMax,lCurve,logTauX,logTauY);\n",
    "print 'getting the results'\n",
    "unfolded = tunfolder.GetOutput(\"unfolded\")"
   ]
  },
  {
   "cell_type": "code",
   "execution_count": null,
   "metadata": {},
   "outputs": [],
   "source": []
  },
  {
   "cell_type": "code",
   "execution_count": null,
   "metadata": {},
   "outputs": [],
   "source": [
    "c5 = ROOT.TCanvas('c5', 'c5')\n",
    "unfolded.SetMarkerStyle(22)\n",
    "unfolded.SetMarkerColor(4)\n",
    "unfolded.SetFillColor(0)\n",
    "histMgenData.SetMarkerStyle(21)\n",
    "histMgenData.SetMarkerColor(2)\n",
    "\n",
    "hs = ROOT.THStack(\"hs\", \"hs\")\n",
    "hs.Add( histMgenData, \"hist\")\n",
    "hs.Add( unfolded, \"e\")\n",
    "hs.Draw(\"nostack\")\n",
    "c5.Draw()"
   ]
  },
  {
   "cell_type": "code",
   "execution_count": null,
   "metadata": {},
   "outputs": [],
   "source": []
  },
  {
   "cell_type": "markdown",
   "metadata": {},
   "source": [
    "# Unfold $\\tau_6^{(2)}$"
   ]
  },
  {
   "cell_type": "markdown",
   "metadata": {},
   "source": [
    "#### Below the input Monte Carlo simulation events are read from the file which only contains events meeting the skim criteria set forth in this __[script](https://github.com/kaustuvdatta/jetObservables/blob/102X/python/nSubProducer_gen_reco.py)__\n"
   ]
  },
  {
   "cell_type": "raw",
   "metadata": {},
   "source": [
    "\n",
    "ROOT.TH1.SetDefaultSumw2()\n",
    "f = ROOT.TFile('../AutoObs/CMS/New_Sel/TT_unfold/1/jetObservables_nanoskim_10.root')\n",
    "t = f.Get(\"Events\")"
   ]
  },
  {
   "cell_type": "markdown",
   "metadata": {
    "collapsed": true
   },
   "source": [
    "#### Set the axis ranges for the generator nd detector level distributions as well as the number of bins in each. Note that we want twice as many detector bins as generator level bins as recommended by the TUnfold documenation "
   ]
  },
  {
   "cell_type": "markdown",
   "metadata": {
    "collapsed": true
   },
   "source": [
    "Get the response matrix and input 1D distributions for unfolding."
   ]
  },
  {
   "cell_type": "code",
   "execution_count": null,
   "metadata": {},
   "outputs": [],
   "source": [
    "print np.min(TT16gen_nSub_basis[:,17])\n",
    "print np.min(TT16reco_nSub_basis[:,17])\n",
    "print np.max(TT16gen_nSub_basis[:,17])\n",
    "print np.max(TT16reco_nSub_basis[:,17])"
   ]
  },
  {
   "cell_type": "code",
   "execution_count": null,
   "metadata": {},
   "outputs": [],
   "source": [
    "nDet=30\n",
    "nGen=15\n",
    "xminDet=0.0\n",
    "xmaxDet=0.06\n",
    "xminGen=0.0\n",
    "xmaxGen=0.06\n",
    "#weight_TT16 = (831.76*lumi*1000.)/10199051.*np.ones(TT16_beta4W.shape[0])*TT16_puWeight*TT16_btagWeight*0.8\n"
   ]
  },
  {
   "cell_type": "code",
   "execution_count": null,
   "metadata": {},
   "outputs": [],
   "source": [
    "ROOT.TH1.SetDefaultSumw2()\n",
    "from root_numpy import *\n",
    "\n",
    "histMgenMC = ROOT.TH1D(\"histMgenMC\", \"histMgenMC; #tau_{5}^{2}; Events/(0.02)\", nGen, xminGen,xmaxGen)\n",
    "fill_hist(histMgenMC, TT16gen_nSub_basis[:,17])\n",
    "\n",
    "histMdetMC = ROOT.TH1D(\"histMdetMC\", \"histMdetMC; #tau_{5}^{2}; Events/(0.02)\", nDet, xminDet,xmaxDet)\n",
    "fill_hist(histMdetMC, TT16reco_nSub_basis[:,17])\n",
    "\n",
    "histMgenData = ROOT.TH1D(\"histMgenData\", \"histMgenData; #tau_{5}^{2}; Events/(0.02)\", nGen, xminGen,xmaxGen)\n",
    "fill_hist(histMgenData, TT16truth_nSub_basis[:,17])\n",
    "\n",
    "histMdetData = ROOT.TH1D(\"histMdetData\", \"histMdetData; #tau_{5}^{2}; Events/(0.02)\", nDet, xminDet,xmaxDet)\n",
    "fill_hist(histMdetData, TT16data_nSub_basis[:,17])\n",
    "\n",
    "\n",
    "response = ROOT.TH2D('response', 'response', nDet, xminDet, xmaxDet, nGen, xminGen, xmaxGen)\n",
    "hist2Dfill = np.zeros((TT16reco_nSub_basis[:,17].shape[0], 2))\n",
    "hist2Dfill[:,0] = TT16reco_nSub_basis[:,17].flatten()\n",
    "hist2Dfill[:,1] = TT16gen_nSub_basis[:,17].flatten()\n",
    "fill_hist(response, hist2Dfill)"
   ]
  },
  {
   "cell_type": "raw",
   "metadata": {},
   "source": [
    "xaxis =  array.array('d',[a for a in xrange(nmbinsGen *nptbinsGen + 1 )])\n",
    "nx = len(xaxis)-1\n",
    "\n",
    "print xaxis\n",
    "\n",
    "yaxis =  array.array('d',[a for a in xrange(nmbinsDet *nptbinsDet+1 )])\n",
    "ny = len(yaxis)-1\n",
    "\n",
    "print yaxis\n",
    "\n",
    "h_response = ROOT.TH2D('h_response',   'h_response', nx , xaxis, ny, yaxis )\n",
    "#print h_response2.GetXaxis.GetNbins()\n",
    "print nx\n",
    "print ny\n",
    "nb = nx*ny\n",
    "print nb"
   ]
  },
  {
   "cell_type": "raw",
   "metadata": {
    "collapsed": true
   },
   "source": [
    "response =ROOT.gDirectory.Get(\"response\")\n",
    "histMgenMC=ROOT.gDirectory.Get(\"histMgenMC\")\n",
    "histMdetMC=ROOT.gDirectory.Get(\"histMdetMC\")\n",
    "histMgenData=ROOT.gDirectory.Get(\"histMgenData\")\n",
    "histMdetData=ROOT.gDirectory.Get(\"histMdetData\")"
   ]
  },
  {
   "cell_type": "markdown",
   "metadata": {
    "collapsed": true
   },
   "source": [
    "Set the X and Y axis labels"
   ]
  },
  {
   "cell_type": "code",
   "execution_count": null,
   "metadata": {},
   "outputs": [],
   "source": [
    "response.SetTitle(\";#tau_{5}^{2}(det);#tau_{5}^{2}(gen)\")\n",
    "\n",
    "\n",
    "histMgenMC.SetTitle(\";#tau_{5}^{2}(gen)\")\n",
    "#histMgenMC.SetFillColor(ROOT.kRed)\n",
    "#histMgenMC.SetLineColor(ROOT.kRed)\n",
    "\n",
    "histMdetMC.SetTitle(\";#tau_{5}^{2}(det)\")\n",
    "#histMdetMC.SetFillColor(ROOT.kBlue)\n",
    "#histMdetMC.SetLineColor(ROOT.kBlue)\n",
    "\n",
    "\n",
    "histMgenData.SetTitle(\";#tau_{5}^{2}(gen)\")\n",
    "#histMgenData.SetFillColor(ROOT.kGreen+2)\n",
    "#histMgenData.SetLineColor(ROOT.kGreen+2)\n",
    "\n",
    "histMdetData.SetTitle(\";#tau_{5}^{2}(det)\")\n",
    "#histMdetData.SetFillColor(ROOT.kBlack)\n",
    "#histMdetData.SetLineColor(ROOT.kBlack)"
   ]
  },
  {
   "cell_type": "markdown",
   "metadata": {
    "collapsed": true
   },
   "source": [
    "Draw the variables at reco and gen level and for \"data\""
   ]
  },
  {
   "cell_type": "code",
   "execution_count": null,
   "metadata": {},
   "outputs": [],
   "source": [
    "c1 = ROOT.TCanvas(\"chistMgenMC1\", \"chistMgenMC1\")\n",
    "histMgenMC.Draw(\"e\")\n",
    "histMdetMC.Draw(\"e same\")\n",
    "c1.Draw()"
   ]
  },
  {
   "cell_type": "code",
   "execution_count": null,
   "metadata": {},
   "outputs": [],
   "source": [
    "c1 = ROOT.TCanvas(\"chistMgenMC1\", \"chistMgenMC1\")\n",
    "histMgenData.Draw(\"e\")\n",
    "histMdetData.Draw(\"e same\")\n",
    "c1.Draw()"
   ]
  },
  {
   "cell_type": "markdown",
   "metadata": {
    "collapsed": true
   },
   "source": [
    "Draw the response matrix."
   ]
  },
  {
   "cell_type": "code",
   "execution_count": null,
   "metadata": {
    "scrolled": false
   },
   "outputs": [],
   "source": [
    "c1 = ROOT.TCanvas(\"cresponse1\", \"cresponse1\")\n",
    "response.Draw(\"colz\")\n",
    "c1.Draw()"
   ]
  },
  {
   "cell_type": "code",
   "execution_count": null,
   "metadata": {},
   "outputs": [],
   "source": [
    "#### In MC :"
   ]
  },
  {
   "cell_type": "code",
   "execution_count": null,
   "metadata": {},
   "outputs": [],
   "source": [
    "c2 = ROOT.TCanvas(\"MCcompare\", \"MCcompare\")\n",
    "histMgenMC.Draw('e')\n",
    "histMdetMC.Draw('e same')\n",
    "c2.Draw()"
   ]
  },
  {
   "cell_type": "markdown",
   "metadata": {
    "collapsed": true
   },
   "source": [
    "#### In Data:"
   ]
  },
  {
   "cell_type": "code",
   "execution_count": null,
   "metadata": {},
   "outputs": [],
   "source": [
    "c3 = ROOT.TCanvas(\"datadists\", \"datadists\")\n",
    "histMgenData.Draw('e')\n",
    "histMdetData.Draw('e same')\n",
    "c3.Draw()"
   ]
  },
  {
   "cell_type": "code",
   "execution_count": null,
   "metadata": {},
   "outputs": [],
   "source": [
    "print 'getting tunfolder:'\n",
    "tunfolder = ROOT.TUnfoldDensity(response,ROOT.TUnfold.kHistMapOutputVert,ROOT.TUnfold.kRegModeCurvature, ROOT.TUnfold.kEConstraintNone, ROOT.TUnfoldDensity.kDensityModeBinWidth)"
   ]
  },
  {
   "cell_type": "markdown",
   "metadata": {
    "collapsed": true
   },
   "source": [
    "Set the input, a 1D reconstructed histogram from either MC (closure) or Data (measurement) , binned in the detector level binning."
   ]
  },
  {
   "cell_type": "code",
   "execution_count": null,
   "metadata": {},
   "outputs": [],
   "source": [
    "print 'setting reco input'\n",
    "tunfolder.SetInput( histMdetData )"
   ]
  },
  {
   "cell_type": "markdown",
   "metadata": {},
   "source": [
    "Unfold nScan times with values for the regularization parameter between tauMin and tauMax using the empty TSplines to store the results."
   ]
  },
  {
   "cell_type": "code",
   "execution_count": null,
   "metadata": {},
   "outputs": [],
   "source": [
    "print 'regularizing'\n",
    "nScan=50\n",
    "tauMin=0.0\n",
    "tauMax=0.0\n",
    "iBest=0\n",
    "\n",
    "logTauX = ROOT.MakeNullPointer(ROOT.TSpline)\n",
    "logTauY = ROOT.MakeNullPointer(ROOT.TSpline)\n",
    "lCurve = ROOT.MakeNullPointer(ROOT.TGraph)\n",
    "\n",
    "print 'doing the unfolding'\n",
    "tunfolder.ScanLcurve(nScan,tauMin,tauMax,lCurve,logTauX,logTauY);\n",
    "print 'getting the results'\n",
    "unfolded = tunfolder.GetOutput(\"unfolded\")"
   ]
  },
  {
   "cell_type": "code",
   "execution_count": null,
   "metadata": {},
   "outputs": [],
   "source": []
  },
  {
   "cell_type": "code",
   "execution_count": null,
   "metadata": {},
   "outputs": [],
   "source": [
    "c5 = ROOT.TCanvas('c5', 'c5')\n",
    "unfolded.SetMarkerStyle(22)\n",
    "unfolded.SetMarkerColor(4)\n",
    "unfolded.SetFillColor(0)\n",
    "histMgenData.SetMarkerStyle(21)\n",
    "histMgenData.SetMarkerColor(2)\n",
    "\n",
    "hs = ROOT.THStack(\"hs\", \"hs\")\n",
    "hs.Add( histMgenData, \"hist\")\n",
    "hs.Add( unfolded, \"e\")\n",
    "hs.Draw(\"nostack\")\n",
    "c5.Draw()"
   ]
  },
  {
   "cell_type": "code",
   "execution_count": null,
   "metadata": {},
   "outputs": [],
   "source": []
  },
  {
   "cell_type": "code",
   "execution_count": null,
   "metadata": {},
   "outputs": [],
   "source": []
  },
  {
   "cell_type": "code",
   "execution_count": null,
   "metadata": {},
   "outputs": [],
   "source": []
  },
  {
   "cell_type": "code",
   "execution_count": null,
   "metadata": {},
   "outputs": [],
   "source": []
  },
  {
   "cell_type": "code",
   "execution_count": null,
   "metadata": {},
   "outputs": [],
   "source": []
  },
  {
   "cell_type": "code",
   "execution_count": null,
   "metadata": {},
   "outputs": [],
   "source": []
  }
 ],
 "metadata": {
  "kernelspec": {
   "display_name": "Python 2",
   "language": "python",
   "name": "python2"
  },
  "language_info": {
   "codemirror_mode": {
    "name": "ipython",
    "version": 2
   },
   "file_extension": ".py",
   "mimetype": "text/x-python",
   "name": "python",
   "nbconvert_exporter": "python",
   "pygments_lexer": "ipython2",
   "version": "2.7.15"
  }
 },
 "nbformat": 4,
 "nbformat_minor": 2
}
